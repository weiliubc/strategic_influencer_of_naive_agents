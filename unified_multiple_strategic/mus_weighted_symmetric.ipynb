{
 "cells": [
  {
   "cell_type": "markdown",
   "id": "parallel-physics",
   "metadata": {},
   "source": [
    "# Unified Model with Multiple Strategic Agents: Strategic Agent-Specific Message Weights (Symmetric Network)\n",
    "\n",
    "James Yu, 19 November 2022"
   ]
  },
  {
   "cell_type": "markdown",
   "id": "f1942e0f-fa89-47eb-a8f6-14091d817c61",
   "metadata": {},
   "source": [
    "NOTE: some of the graphs have angular truncations in them because of a precision limit with the solver in order for the code to run faster. Most of these are actually smooth instead of angular if the precision limit is made more precise."
   ]
  },
  {
   "cell_type": "code",
   "execution_count": 1,
   "id": "authorized-melissa",
   "metadata": {
    "tags": []
   },
   "outputs": [],
   "source": [
    "from collections import defaultdict\n",
    "import matplotlib.pyplot as plt\n",
    "import numpy as np"
   ]
  },
  {
   "cell_type": "code",
   "execution_count": 2,
   "id": "precise-trick",
   "metadata": {
    "tags": []
   },
   "outputs": [],
   "source": [
    "def M(K, B, R, L, delta):\n",
    "    \"\"\"Computes M_{t-1} given B_l \\forall l, K_t^l \\forall l, \n",
    "        R_l \\forall l, number of strategic agents L, and delta.\"\"\"\n",
    "    # handle the generic structure first, with the correct pairings:\n",
    "    base = [[B[l_prime].T @ K[l_prime] @ B[l] for l in range(L)] for l_prime in range(L)]\n",
    "    # then change the diagonals to construct M_{t-1}:\n",
    "    for l in range(L): base[l][l] = B[l].T @ K[l] @ B[l] + R[l]/delta\n",
    "    return np.block(base)\n",
    "\n",
    "def H(B, K, A, L):\n",
    "    \"\"\"Computes H_{t-1} given B_l \\forall l, K_t^l \\forall l, \n",
    "        A, and number of strategic agents L.\"\"\"\n",
    "    return np.concatenate(tuple(B[l].T @ K[l] @ A for l in range(L)), axis = 0)\n",
    "\n",
    "def C_l(A, B, K, k, h, L, c, x, n):\n",
    "    \"\"\"Computes C_{t-1}^h (displayed as C_{t-1}^l) given A, B_l \\forall l, K_t^l \\forall l, \n",
    "        k_t^l \\forall l, a specific naive agent h, number of strategic agents L, \n",
    "        c_l \\forall l, x_l \\forall l, and number of naive agents n\"\"\"\n",
    "    return np.concatenate(tuple(B[l].T @ K[l] @ A @ ((x[h] - x[l]) * np.ones((n, 1))) \n",
    "                           + B[l].T @ K[l] @ c[l] \n",
    "                           + 0.5 * B[l].T @ k[l].T for l in range(L)), axis = 0)\n",
    "\n",
    "def E(M_, H_):\n",
    "    \"\"\"Computes the generic E_{t-1} given M_{t-1} and H_{t-1}.\"\"\"\n",
    "    return np.linalg.inv(M_) @ H_\n",
    "\n",
    "def F(M_, C_l_, l, n):\n",
    "    \"\"\"Computes F_{t-1}^l given M_{t-1}, C_{t-1}^l, \n",
    "       specific naive agent l and number of naive agents n.\"\"\"\n",
    "    return (np.linalg.inv(M_) @ C_l_)[l*n:(l+1)*n, :] # e.g. l = 0 gives ln = 0, l = 1 gives ln = n, etc\n",
    "\n",
    "def G(A, B, E_, L, n):\n",
    "    \"\"\"Computes the generic G_{t-1} given A, B_l \\forall l, \n",
    "        E_{t-1}, number of strategic agents L, and number of naive agents n.\"\"\"\n",
    "    return A - sum([B[l] @ E_[l*n:(l+1)*n, :] for l in range(L)])\n",
    "    \n",
    "def g_l(B, E_, h, x, F_, L, n, c):\n",
    "    \"\"\"Computes g_{t-1}^l given B_l \\forall l, E_{t-1}^l, \n",
    "        a particular naive agent h, x_l \\forall l, F_{t-1}^l \\forall l, \n",
    "        number of strategic agents L, number of naive agents n, and c_h.\"\"\"\n",
    "    return - sum([B[l] @ (E_[l*n:(l+1)*n, :] @ ((x[h] - x[l]) * np.ones((n, 1))) + F_[l]) for l in range(L)]) + c[h]"
   ]
  },
  {
   "cell_type": "code",
   "execution_count": 3,
   "id": "forced-trunk",
   "metadata": {},
   "outputs": [],
   "source": [
    "def K_t_minus_1(Q, K, E_, R, G_, L, delta, n):\n",
    "    return [Q[l] + E_[l*n:(l+1)*n, :].T @ R[l] @ E_[l*n:(l+1)*n, :] \n",
    "            + delta * G_.T @ K[l] @ G_ for l in range(L)]\n",
    "\n",
    "def k_t_minus_1(K, k, G_, g, E_, F_, R, L, delta, n):\n",
    "    return [2*delta* g[l].T @ K[l] @ G_ + delta * k[l] @ G_ \n",
    "            + 2 * F_[l].T @ R[l] @ E_[l*n:(l+1)*n, :] for l in range(L)]\n",
    "\n",
    "def kappa_t_minus_1(K, k, kappa, g_, F_, R, L, delta):            \n",
    "    return [-delta * (g_[l].T @ K[l] @ g_[l] + k[l] @ g_[l] - kappa[l]) \n",
    "            - (F_[l].T @ R[l] @ F_[l]) for l in range(L)]"
   ]
  },
  {
   "cell_type": "code",
   "execution_count": 4,
   "id": "pleased-criterion",
   "metadata": {
    "tags": []
   },
   "outputs": [],
   "source": [
    "def should_terminate(bundles, eps):\n",
    "    return all([np.allclose(b[0], b[1], rtol = eps, atol = eps) for b in bundles])\n",
    "\n",
    "def solve(K_t, k_t, kappa_t, A, B, delta, n, L, Q, R, x, c, tol):\n",
    "    historical_K = [K_t]\n",
    "    historical_k = [k_t]\n",
    "    historical_kappa = [kappa_t]\n",
    "    eps = np.sqrt(np.finfo(np.float64).eps)\n",
    "    while True:\n",
    "        M_ = M(K_t, B, R, L, delta)\n",
    "        H_ = H(B, K_t, A, L)\n",
    "        E_ = E(M_, H_)\n",
    "        G_ = G(A, B, E_, L, n)\n",
    "        K_new = K_t_minus_1(Q, K_t, E_, R, G_, L, delta, n)\n",
    "        F_ = [F(M_, C_l(A, B, K_t, k_t, l, L, c, x, n), l, n) for l in range(L)]\n",
    "        g = [g_l(B, E_, h, x, F_, L, n, c) for h in range(L)]\n",
    "        k_new = k_t_minus_1(K_t, k_t, G_, g, E_, F_, R, L, delta, n)\n",
    "        kappa_new = kappa_t_minus_1(K_t, k_t, kappa_t, g, F_, R, L, delta)\n",
    "        historical_K.insert(0, K_new)\n",
    "        historical_k.insert(0, k_new)\n",
    "        historical_kappa.insert(0, kappa_new)\n",
    "        if should_terminate([(K_t, K_new), (k_t, k_new), (kappa_t, kappa_new)], eps):\n",
    "            return historical_K[0], historical_k[0], historical_kappa[0]\n",
    "        K_t = K_new\n",
    "        k_t = k_new\n",
    "        kappa_t = kappa_new"
   ]
  },
  {
   "cell_type": "code",
   "execution_count": 5,
   "id": "unlimited-jamaica",
   "metadata": {},
   "outputs": [],
   "source": [
    "def optimal(X_init, K_ss, k_ss, A, B, delta, n, L, Q, R, x, c, eps):\n",
    "    X_t = [a.copy() for a in X_init]\n",
    "    xs = defaultdict(list)\n",
    "    for l in range(L):\n",
    "        xs[l].append(X_t[l])\n",
    "        \n",
    "    rs = defaultdict(list)\n",
    "    payoffs = defaultdict(list)\n",
    "    payoff = defaultdict(int)\n",
    "    \n",
    "    M_ = M(K_ss, B, R, L, delta)\n",
    "    H_ = H(B, K_ss, A, L)\n",
    "    E_ = E(M_, H_)\n",
    "    G_ = G(A, B, E_, L, n)\n",
    "    F_ = [F(M_, C_l(A, B, K_ss, k_ss, l, L, c, x, n), l, n) for l in range(L)]\n",
    "    g = [g_l(B, E_, h, x, F_, L, n, c) for h in range(L)]\n",
    "    \n",
    "    i = 0\n",
    "    while True:\n",
    "        for l in range(L):\n",
    "            # TODO: special code for finite horizon needs a terminal time T term\n",
    "            Y_new = -1 * E_[l*n:(l+1)*n, :] @ X_t[l] - F(M_, C_l(A, B, K_ss, k_ss, l, L, c, x, n), l, n)\n",
    "            rs[l].append(Y_new)\n",
    "            payoff[l] += (-1 * delta**i * (X_t[l].T @ Q[l] @ X_t[l])).item() + (-1 * delta**i * (Y_new.T @ R[l] @ Y_new)).item()\n",
    "            payoffs[l].append(payoff[l])\n",
    "            X_new = G_ @ X_t[l] + g[l]\n",
    "            xs[l].append(X_new)\n",
    "            if l == L - 1 and np.allclose(X_t[l], X_new, rtol = eps, atol = eps):\n",
    "                return xs, rs, payoffs\n",
    "            X_t[l] = X_new \n",
    "        i += 1\n",
    "        \n",
    "    return xs, rs, payoffs"
   ]
  },
  {
   "cell_type": "code",
   "execution_count": 6,
   "id": "synthetic-promotion",
   "metadata": {},
   "outputs": [],
   "source": [
    "def run_simulation(b1, b2, a1, a2, delta = 0.9, c = 200, X_0_1 = np.array([[10.0, -5.0, 5.0]], ndmin = 2).T, symmetric = True, print_ = True, tol = np.sqrt(np.finfo(np.float64).eps)):\n",
    "    if symmetric:\n",
    "        A = np.array([ # stubborn\n",
    "            [0.9, 0.07, 0.03],\n",
    "            [0.07, 0.58, 0.35],\n",
    "            [0.03, 0.35, 0.62]\n",
    "        ])\n",
    "        if print_: print(\"SYMMETRIC NETWORK\")\n",
    "    else:\n",
    "        A = np.array([ # asymmetric\n",
    "            [0.6, 0.3, 0.1],\n",
    "            [0.4, 0.1, 0.5],\n",
    "            [0.5, 0.2, 0.3]\n",
    "        ])\n",
    "        if print_: print(\"ASYMMETRIC NETWORK\")\n",
    "    X_0 = [X_0_1 - b1, X_0_1 - b2]\n",
    "    n = 3 # number of naive agents\n",
    "    L = 2 # number of strategic agents\n",
    "    Q = [np.identity(n), np.identity(n)] # objective function for messages is just X'IX = X'X\n",
    "    R = [c * np.identity(n), c * np.identity(n)] # message cost R = cI_n for some c under the new notation\n",
    "    B = [a1 * np.identity(n), a2 * np.identity(n)] # B^l = a_l I_n\n",
    "    x = [b1, b2] # agendas\n",
    "    r = [0, 0] # message cost minimality is centered around zero\n",
    "    c_base = sum([B[l] @ (r[l] * np.ones((n, 1))) for l in range(L)])\n",
    "    c = [c_base + (A - np.identity(n)) @ (x[l] * np.ones((n, 1))) for l in range(L)] # normalization vector\n",
    "    \n",
    "    K_ss, k_ss, kappa_ss = solve(Q, [np.zeros((1, n)), np.zeros((1, n))], [0, 0], A, B, delta, n, L, Q, R, x, c, tol)\n",
    "    xs, rs, payoffs = optimal(X_0, K_ss, k_ss, A, B, delta, n, L, Q, R, x, c, tol)\n",
    "    if print_:\n",
    "        print(\"Steady-State Opinions:\")\n",
    "        print(xs[0][-1] + b1)\n",
    "        print(\"Average of agendas:\")\n",
    "        print((b1+b2)/2)\n",
    "        print()\n",
    "        print(\"K^* (1, 2):\")\n",
    "        print(K_ss[0])\n",
    "        print(K_ss[1])\n",
    "        print()\n",
    "        print(\"k^* (1, 2):\")\n",
    "        print(k_ss[0])\n",
    "        print(k_ss[1])\n",
    "        print()\n",
    "        print(\"kappa^* (1, 2):\")\n",
    "        print(kappa_ss[0])\n",
    "        print(kappa_ss[1])\n",
    "    if print_ == False:\n",
    "        return xs[0][-1] + b1"
   ]
  },
  {
   "cell_type": "code",
   "execution_count": 7,
   "id": "11af8cd7-66b8-48ed-bb75-94051f3b7136",
   "metadata": {},
   "outputs": [
    {
     "name": "stdout",
     "output_type": "stream",
     "text": [
      "SYMMETRIC NETWORK\n",
      "Steady-State Opinions:\n",
      "[[2.50000093]\n",
      " [2.50000093]\n",
      " [2.50000093]]\n",
      "Average of agendas:\n",
      "2.5\n",
      "\n",
      "K^* (1, 2):\n",
      "[[3.78777267 1.14352889 1.03448866]\n",
      " [1.14352889 2.91545084 1.90681049]\n",
      " [1.03448866 1.90681049 3.02449107]]\n",
      "[[3.78777267 1.14352889 1.03448866]\n",
      " [1.14352889 2.91545084 1.90681049]\n",
      " [1.03448866 1.90681049 3.02449107]]\n",
      "\n",
      "k^* (1, 2):\n",
      "[[10.8445118 10.8445118 10.8445118]]\n",
      "[[-10.8445118 -10.8445118 -10.8445118]]\n",
      "\n",
      "kappa^* (1, 2):\n",
      "[[-44.55788056]]\n",
      "[[-44.55788056]]\n"
     ]
    }
   ],
   "source": [
    "run_simulation(0, 5, 1, 1)# just the default asymmetric case"
   ]
  },
  {
   "cell_type": "code",
   "execution_count": 8,
   "id": "ebdd4aa2-a206-4be0-ab41-4e7b458c4d66",
   "metadata": {},
   "outputs": [
    {
     "name": "stdout",
     "output_type": "stream",
     "text": [
      "SYMMETRIC NETWORK\n",
      "Steady-State Opinions:\n",
      "[[1.29739590e-07]\n",
      " [1.29739588e-07]\n",
      " [1.29739588e-07]]\n",
      "Average of agendas:\n",
      "0.0\n",
      "\n",
      "K^* (1, 2):\n",
      "[[2.94218465 0.54886188 0.45695137]\n",
      " [0.54886188 2.20690056 1.19223546]\n",
      " [0.45695137 1.19223546 2.29881107]]\n",
      "[[3.37546037 0.85697613 0.75652118]\n",
      " [0.85697613 2.57182076 1.56016079]\n",
      " [0.75652118 1.56016079 2.67227571]]\n",
      "\n",
      "k^* (1, 2):\n",
      "[[0. 0. 0.]]\n",
      "[[0. 0. 0.]]\n",
      "\n",
      "kappa^* (1, 2):\n",
      "[[-0.]]\n",
      "[[-0.]]\n"
     ]
    }
   ],
   "source": [
    "run_simulation(0, 0, 1, 2) # make the agendas the same, but different weights of influence"
   ]
  },
  {
   "cell_type": "code",
   "execution_count": 9,
   "id": "4f4c8899-da2d-4d72-8238-dda8e09c468b",
   "metadata": {},
   "outputs": [
    {
     "name": "stdout",
     "output_type": "stream",
     "text": [
      "SYMMETRIC NETWORK\n",
      "Steady-State Opinions:\n",
      "[[7.4122670e-10]\n",
      " [4.5715971e-10]\n",
      " [4.3763603e-10]]\n",
      "Average of agendas:\n",
      "0.0\n",
      "\n",
      "K^* (1, 2):\n",
      "[[1.0318626  0.00360582 0.00186794]\n",
      " [0.00360582 1.01795951 0.01577103]\n",
      " [0.00186794 0.01577103 1.0196974 ]]\n",
      "[[1.17793515 0.02556504 0.01598424]\n",
      " [0.02556504 1.10128876 0.09263064]\n",
      " [0.01598424 0.09263064 1.11086956]]\n",
      "\n",
      "k^* (1, 2):\n",
      "[[0. 0. 0.]]\n",
      "[[0. 0. 0.]]\n",
      "\n",
      "kappa^* (1, 2):\n",
      "[[-0.]]\n",
      "[[-0.]]\n"
     ]
    }
   ],
   "source": [
    "run_simulation(0, 0, 0.00000000005, 27)"
   ]
  },
  {
   "cell_type": "code",
   "execution_count": 10,
   "id": "998fdad2-7d7b-4d4e-a720-897feb07f5c8",
   "metadata": {},
   "outputs": [
    {
     "name": "stdout",
     "output_type": "stream",
     "text": [
      "SYMMETRIC NETWORK\n",
      "Steady-State Opinions:\n",
      "[[2.05172543e-19]\n",
      " [4.22571083e-20]\n",
      " [3.58263484e-20]]\n",
      "Average of agendas:\n",
      "0.0\n",
      "\n",
      "K^* (1, 2):\n",
      "[[1.00000000e+00 9.58511610e-15 5.88883843e-15]\n",
      " [9.58511610e-15 1.00000000e+00 3.54590598e-14]\n",
      " [5.88883843e-15 3.54590598e-14 1.00000000e+00]]\n",
      "[[1.00000022e+00 3.13031454e-08 1.92318185e-08]\n",
      " [3.13031454e-08 1.00000013e+00 1.15802434e-07]\n",
      " [1.92318185e-08 1.15802434e-07 1.00000014e+00]]\n",
      "\n",
      "k^* (1, 2):\n",
      "[[0. 0. 0.]]\n",
      "[[0. 0. 0.]]\n",
      "\n",
      "kappa^* (1, 2):\n",
      "[[-0.]]\n",
      "[[-0.]]\n"
     ]
    }
   ],
   "source": [
    "run_simulation(0, 0, 1, 27000)"
   ]
  },
  {
   "cell_type": "code",
   "execution_count": 11,
   "id": "3ecafaf2-99fe-4d06-9c1b-ed86d151d72a",
   "metadata": {},
   "outputs": [
    {
     "name": "stdout",
     "output_type": "stream",
     "text": [
      "SYMMETRIC NETWORK\n",
      "Steady-State Opinions:\n",
      "[[2.7302074e-07]\n",
      " [2.7302074e-07]\n",
      " [2.7302074e-07]]\n",
      "Average of agendas:\n",
      "0.0\n",
      "\n",
      "K^* (1, 2):\n",
      "[[3.78777258 1.1435288  1.03448857]\n",
      " [1.1435288  2.91545075 1.9068104 ]\n",
      " [1.03448857 1.9068104  3.02449098]]\n",
      "[[3.78777258 1.1435288  1.03448857]\n",
      " [1.1435288  2.91545075 1.9068104 ]\n",
      " [1.03448857 1.9068104  3.02449098]]\n",
      "\n",
      "k^* (1, 2):\n",
      "[[0. 0. 0.]]\n",
      "[[0. 0. 0.]]\n",
      "\n",
      "kappa^* (1, 2):\n",
      "[[-0.]]\n",
      "[[-0.]]\n"
     ]
    }
   ],
   "source": [
    "run_simulation(0, 0, 1, 1)"
   ]
  },
  {
   "cell_type": "code",
   "execution_count": 12,
   "id": "76793070-9f43-4e27-8cd8-320298e12b37",
   "metadata": {},
   "outputs": [
    {
     "name": "stdout",
     "output_type": "stream",
     "text": [
      "SYMMETRIC NETWORK\n",
      "Steady-State Opinions:\n",
      "[[8.16880232e-07]\n",
      " [8.16880232e-07]\n",
      " [8.16880232e-07]]\n",
      "Average of agendas:\n",
      "0.0\n",
      "\n",
      "K^* (1, 2):\n",
      "[[4.57494248 1.80586086 1.6882855 ]\n",
      " [1.80586086 3.63433962 2.62888836]\n",
      " [1.6882855  2.62888836 3.75191498]]\n",
      "[[4.57494248 1.80586086 1.6882855 ]\n",
      " [1.80586086 3.63433962 2.62888836]\n",
      " [1.6882855  2.62888836 3.75191498]]\n",
      "\n",
      "k^* (1, 2):\n",
      "[[0. 0. 0.]]\n",
      "[[0. 0. 0.]]\n",
      "\n",
      "kappa^* (1, 2):\n",
      "[[-0.]]\n",
      "[[-0.]]\n"
     ]
    }
   ],
   "source": [
    "run_simulation(0, 0, 0.5, 0.5)"
   ]
  },
  {
   "cell_type": "code",
   "execution_count": 13,
   "id": "87d69920-1c35-4664-93be-1f3e094d5c60",
   "metadata": {},
   "outputs": [
    {
     "name": "stdout",
     "output_type": "stream",
     "text": [
      "SYMMETRIC NETWORK\n",
      "Steady-State Opinions:\n",
      "[[2.50000282]\n",
      " [2.50000282]\n",
      " [2.50000282]]\n",
      "Average of agendas:\n",
      "2.5\n",
      "\n",
      "K^* (1, 2):\n",
      "[[4.57494269 1.80586107 1.68828571]\n",
      " [1.80586107 3.63433983 2.62888857]\n",
      " [1.68828571 2.62888857 3.75191519]]\n",
      "[[4.57494269 1.80586107 1.68828571]\n",
      " [1.80586107 3.63433983 2.62888857]\n",
      " [1.68828571 2.62888857 3.75191519]]\n",
      "\n",
      "k^* (1, 2):\n",
      "[[5.94044795 5.94044795 5.94044795]]\n",
      "[[-5.94044795 -5.94044795 -5.94044795]]\n",
      "\n",
      "kappa^* (1, 2):\n",
      "[[-7.91994082]]\n",
      "[[-7.91994082]]\n"
     ]
    }
   ],
   "source": [
    "run_simulation(0, 5, 0.5, 0.5)"
   ]
  },
  {
   "cell_type": "code",
   "execution_count": 14,
   "id": "629795a4-eea7-4f08-aaad-1deac8f66077",
   "metadata": {},
   "outputs": [
    {
     "name": "stdout",
     "output_type": "stream",
     "text": [
      "SYMMETRIC NETWORK\n",
      "Steady-State Opinions:\n",
      "[[2.99121922]\n",
      " [2.99121922]\n",
      " [2.99121922]]\n",
      "Average of agendas:\n",
      "2.5\n",
      "\n",
      "K^* (1, 2):\n",
      "[[4.4403969  1.68498693 1.56834678]\n",
      " [1.68498693 3.5072757  2.50146797]\n",
      " [1.56834678 2.50146797 3.62391585]]\n",
      "[[4.51804633 1.75568218 1.63856629]\n",
      " [1.75568218 3.58111925 2.57549338]\n",
      " [1.63856629 2.57549338 3.69823513]]\n",
      "\n",
      "k^* (1, 2):\n",
      "[[7.72637924 7.72637924 7.72637924]]\n",
      "[[-5.54073719 -5.54073719 -5.54073719]]\n",
      "\n",
      "kappa^* (1, 2):\n",
      "[[-14.51314193]]\n",
      "[[-7.11990388]]\n"
     ]
    }
   ],
   "source": [
    "run_simulation(0, 5, 0.5, 0.6)"
   ]
  },
  {
   "cell_type": "code",
   "execution_count": 15,
   "id": "cd379cdb-0e6a-4fbb-924a-94e514f99191",
   "metadata": {},
   "outputs": [
    {
     "name": "stdout",
     "output_type": "stream",
     "text": [
      "SYMMETRIC NETWORK\n",
      "Steady-State Opinions:\n",
      "[[2.00878557]\n",
      " [2.00878557]\n",
      " [2.00878557]]\n",
      "Average of agendas:\n",
      "2.5\n",
      "\n",
      "K^* (1, 2):\n",
      "[[4.51804633 1.75568218 1.63856629]\n",
      " [1.75568218 3.58111925 2.57549338]\n",
      " [1.63856629 2.57549338 3.69823513]]\n",
      "[[4.4403969  1.68498693 1.56834678]\n",
      " [1.68498693 3.5072757  2.50146797]\n",
      " [1.56834678 2.50146797 3.62391585]]\n",
      "\n",
      "k^* (1, 2):\n",
      "[[5.54073719 5.54073719 5.54073719]]\n",
      "[[-7.72637924 -7.72637924 -7.72637924]]\n",
      "\n",
      "kappa^* (1, 2):\n",
      "[[-7.11990388]]\n",
      "[[-14.51314193]]\n"
     ]
    }
   ],
   "source": [
    "run_simulation(0, 5, 0.6, 0.5)"
   ]
  },
  {
   "cell_type": "code",
   "execution_count": 16,
   "id": "d1e58092-3a53-4737-abc0-fce278e290fb",
   "metadata": {},
   "outputs": [
    {
     "name": "stdout",
     "output_type": "stream",
     "text": [
      "SYMMETRIC NETWORK\n",
      "Steady-State Opinions:\n",
      "[[4.85012433e-06]\n",
      " [4.85012433e-06]\n",
      " [4.85012433e-06]]\n",
      "Average of agendas:\n",
      "0.0\n",
      "\n",
      "K^* (1, 2):\n",
      "[[4.57494269 1.80586107 1.68828571]\n",
      " [1.80586107 3.63433983 2.62888857]\n",
      " [1.68828571 2.62888857 3.75191519]]\n",
      "[[4.57494269 1.80586107 1.68828571]\n",
      " [1.80586107 3.63433983 2.62888857]\n",
      " [1.68828571 2.62888857 3.75191519]]\n",
      "\n",
      "k^* (1, 2):\n",
      "[[11.8808959 11.8808959 11.8808959]]\n",
      "[[-11.8808959 -11.8808959 -11.8808959]]\n",
      "\n",
      "kappa^* (1, 2):\n",
      "[[-31.67976376]]\n",
      "[[-31.67976376]]\n"
     ]
    }
   ],
   "source": [
    "run_simulation(-5, 5, 0.5, 0.5)"
   ]
  },
  {
   "cell_type": "code",
   "execution_count": 17,
   "id": "4094985e-ba3a-44e0-97c9-fc794279b8af",
   "metadata": {},
   "outputs": [
    {
     "name": "stdout",
     "output_type": "stream",
     "text": [
      "SYMMETRIC NETWORK\n",
      "Steady-State Opinions:\n",
      "[[0.98243782]\n",
      " [0.98243782]\n",
      " [0.98243782]]\n",
      "Average of agendas:\n",
      "0.0\n",
      "\n",
      "K^* (1, 2):\n",
      "[[4.4403969  1.68498693 1.56834678]\n",
      " [1.68498693 3.5072757  2.50146797]\n",
      " [1.56834678 2.50146797 3.62391585]]\n",
      "[[4.51804633 1.75568218 1.63856629]\n",
      " [1.75568218 3.58111925 2.57549338]\n",
      " [1.63856629 2.57549338 3.69823513]]\n",
      "\n",
      "k^* (1, 2):\n",
      "[[15.45275848 15.45275848 15.45275848]]\n",
      "[[-11.08147439 -11.08147439 -11.08147439]]\n",
      "\n",
      "kappa^* (1, 2):\n",
      "[[-58.05256853]]\n",
      "[[-28.47961596]]\n"
     ]
    }
   ],
   "source": [
    "run_simulation(-5, 5, 0.5, 0.6)"
   ]
  },
  {
   "cell_type": "code",
   "execution_count": 18,
   "id": "b7936550-f812-457a-bb75-c700f14805c0",
   "metadata": {},
   "outputs": [
    {
     "name": "stdout",
     "output_type": "stream",
     "text": [
      "SYMMETRIC NETWORK\n",
      "Steady-State Opinions:\n",
      "[[4.99999919]\n",
      " [4.99999919]\n",
      " [4.99999919]]\n",
      "Average of agendas:\n",
      "5.0\n",
      "\n",
      "K^* (1, 2):\n",
      "[[4.57494248 1.80586086 1.6882855 ]\n",
      " [1.80586086 3.63433962 2.62888836]\n",
      " [1.6882855  2.62888836 3.75191498]]\n",
      "[[4.57494248 1.80586086 1.6882855 ]\n",
      " [1.80586086 3.63433962 2.62888836]\n",
      " [1.6882855  2.62888836 3.75191498]]\n",
      "\n",
      "k^* (1, 2):\n",
      "[[8.31376340e-15 5.43768262e-15 5.24694140e-15]]\n",
      "[[8.31376340e-15 5.43768262e-15 5.24694140e-15]]\n",
      "\n",
      "kappa^* (1, 2):\n",
      "[[-1.23611965e-29]]\n",
      "[[-1.23611965e-29]]\n"
     ]
    }
   ],
   "source": [
    "run_simulation(5, 5, 0.5, 0.5)"
   ]
  },
  {
   "cell_type": "code",
   "execution_count": 19,
   "id": "92904a72-939b-4237-8049-8f350cb5c9e8",
   "metadata": {},
   "outputs": [
    {
     "name": "stdout",
     "output_type": "stream",
     "text": [
      "SYMMETRIC NETWORK\n",
      "Steady-State Opinions:\n",
      "[[5.]\n",
      " [5.]\n",
      " [5.]]\n",
      "Average of agendas:\n",
      "5.0\n",
      "\n",
      "K^* (1, 2):\n",
      "[[1.00000000e+00 9.55019553e-27 5.86538633e-27]\n",
      " [9.55019553e-27 1.00000000e+00 3.53123666e-26]\n",
      " [5.86538633e-27 3.53123666e-26 1.00000000e+00]]\n",
      "[[1.00000000e+00 3.13031550e-14 1.92318244e-14]\n",
      " [3.13031550e-14 1.00000000e+00 1.15802469e-13]\n",
      " [1.92318244e-14 1.15802469e-13 1.00000000e+00]]\n",
      "\n",
      "k^* (1, 2):\n",
      "[[2.50938459e-41 1.95157443e-42 8.36207815e-43]]\n",
      "[[8.22387426e-29 6.39634664e-30 2.74129142e-30]]\n",
      "\n",
      "kappa^* (1, 2):\n",
      "[[-2.32164711e-57]]\n",
      "[[-7.60861213e-45]]\n"
     ]
    }
   ],
   "source": [
    "run_simulation(5, 5, 0.005, 27000000)"
   ]
  },
  {
   "cell_type": "code",
   "execution_count": 20,
   "id": "b910108d-6445-41bd-aad5-af03b7a85dfa",
   "metadata": {},
   "outputs": [
    {
     "name": "stdout",
     "output_type": "stream",
     "text": [
      "SYMMETRIC NETWORK\n",
      "Steady-State Opinions:\n",
      "[[2.5]\n",
      " [2.5]\n",
      " [2.5]]\n",
      "Average of agendas:\n",
      "2.5\n",
      "\n",
      "K^* (1, 2):\n",
      "[[1.00004079e+00 5.70499993e-06 3.50499996e-06]\n",
      " [5.70499993e-06 1.00002319e+00 2.11049997e-05]\n",
      " [3.50499996e-06 2.11049997e-05 1.00002539e+00]]\n",
      "[[1.00004079e+00 5.70499993e-06 3.50499996e-06]\n",
      " [5.70499993e-06 1.00002319e+00 2.11049997e-05]\n",
      " [3.50499996e-06 2.11049997e-05 1.00002539e+00]]\n",
      "\n",
      "k^* (1, 2):\n",
      "[[-4.09148548 -4.09148548 -4.09148548]]\n",
      "[[4.09148548 4.09148548 4.09148548]]\n",
      "\n",
      "kappa^* (1, 2):\n",
      "[[-2510924.72785171]]\n",
      "[[-2510924.72785171]]\n"
     ]
    }
   ],
   "source": [
    "run_simulation(5, 0, 1000, 1000)"
   ]
  },
  {
   "cell_type": "markdown",
   "id": "6f20a64a-47fe-4dda-9af5-8e81b6028039",
   "metadata": {},
   "source": [
    "## Vary $a_1$:"
   ]
  },
  {
   "cell_type": "code",
   "execution_count": 21,
   "id": "07cc9cac-3e7d-4b6d-a271-f01d303de750",
   "metadata": {},
   "outputs": [
    {
     "data": {
      "image/png": "[encoded data removed]",
      "text/plain": [
       "<Figure size 432x288 with 1 Axes>"
      ]
     },
     "metadata": {
      "needs_background": "light"
     },
     "output_type": "display_data"
    }
   ],
   "source": [
    "grid = np.linspace(0, 10, 30)\n",
    "base_4 = [run_simulation(-5, 5, 0, g, print_ = False, tol = 10**-5) for g in grid]\n",
    "plt.plot(grid, [b[0][0] for b in base_4], label = \"x_ss^1, a_1 = 0\")\n",
    "plt.plot(grid, [b[1][0] for b in base_4], label = \"x_ss^2, a_1 = 0\")\n",
    "plt.plot(grid, [b[2][0] for b in base_4], label = \"x_ss^3, a_1 = 0\")\n",
    "base_3 = [run_simulation(-5, 5, 0.1, g, print_ = False) for g in grid]\n",
    "plt.plot(grid, [b[0][0] for b in base_3], label = \"x_ss^1, a_1 = 0.1\")\n",
    "plt.plot(grid, [b[1][0] for b in base_3], label = \"x_ss^2, a_1 = 0.1\")\n",
    "plt.plot(grid, [b[2][0] for b in base_3], label = \"x_ss^3, a_1 = 0.1\")\n",
    "base_1 = [run_simulation(-5, 5, 1, g, print_ = False) for g in grid]\n",
    "plt.plot(grid, [b[0][0] for b in base_1], label = \"x_ss^1, a_1 = 1\")\n",
    "plt.plot(grid, [b[1][0] for b in base_1], label = \"x_ss^2, a_1 = 1\")\n",
    "plt.plot(grid, [b[2][0] for b in base_1], label = \"x_ss^3, a_1 = 1\")\n",
    "base_2 = [run_simulation(-5, 5, 10, g, print_ = False) for g in grid]\n",
    "plt.plot(grid, [b[0][0] for b in base_2], label = \"x_ss^1, a_1 = 10\")\n",
    "plt.plot(grid, [b[1][0] for b in base_2], label = \"x_ss^2, a_1 = 10\")\n",
    "plt.plot(grid, [b[2][0] for b in base_2], label = \"x_ss^3, a_1 = 10\")\n",
    "plt.xlabel(\"a_2\")\n",
    "plt.ylabel(\"limit opinions\")\n",
    "plt.legend()\n",
    "plt.title(\"Symmetric Network\")\n",
    "plt.show()"
   ]
  },
  {
   "cell_type": "markdown",
   "id": "5c2bc3dc-ba85-4a67-95ca-deead218d810",
   "metadata": {},
   "source": [
    "## Vary $\\delta$"
   ]
  },
  {
   "cell_type": "code",
   "execution_count": 22,
   "id": "51e86d69-ffce-4b9b-9186-790791411752",
   "metadata": {},
   "outputs": [
    {
     "data": {
      "image/png": "[encoded data removed]",
      "text/plain": [
       "<Figure size 432x288 with 1 Axes>"
      ]
     },
     "metadata": {
      "needs_background": "light"
     },
     "output_type": "display_data"
    }
   ],
   "source": [
    "grid = np.linspace(0, 10, 50)\n",
    "base_1 = [run_simulation(-5, 5, 1, g, print_ = False) for g in grid]\n",
    "base_2 = [run_simulation(-5, 5, 1, g, delta = 0.8, print_ = False) for g in grid]\n",
    "base_3 = [run_simulation(-5, 5, 1, g, delta = 0.1, print_ = False) for g in grid]\n",
    "plt.plot(grid, [b[0][0] for b in base_1], label = \"x_ss^1, delta = 0.9\")\n",
    "plt.plot(grid, [b[1][0] for b in base_1], label = \"x_ss^2, delta =  0.9\")\n",
    "plt.plot(grid, [b[2][0] for b in base_1], label = \"x_ss^3, delta =  0.9\")\n",
    "plt.plot(grid, [b[0][0] for b in base_2], label = \"x_ss^1, delta =  0.8\")\n",
    "plt.plot(grid, [b[1][0] for b in base_2], label = \"x_ss^2, delta =  0.8\")\n",
    "plt.plot(grid, [b[2][0] for b in base_2], label = \"x_ss^3, delta =  0.8\")\n",
    "plt.plot(grid, [b[0][0] for b in base_3], label = \"x_ss^1, delta =  0.1\")\n",
    "plt.plot(grid, [b[1][0] for b in base_3], label = \"x_ss^2, delta =  0.1\")\n",
    "plt.plot(grid, [b[2][0] for b in base_3], label = \"x_ss^3, delta =  0.1\")\n",
    "plt.xlabel(\"a_2\")\n",
    "plt.ylabel(\"limit opinions\")\n",
    "plt.legend()\n",
    "plt.title(\"Symmetric Network (a_1 = 1)\")\n",
    "plt.show()"
   ]
  },
  {
   "cell_type": "markdown",
   "id": "ad397e05-6b74-4e4b-bc62-0005da6d5854",
   "metadata": {},
   "source": [
    "## Vary $c$"
   ]
  },
  {
   "cell_type": "code",
   "execution_count": 23,
   "id": "41f83b53-5081-45ce-8fb5-f95068906a62",
   "metadata": {},
   "outputs": [
    {
     "data": {
      "image/png": "[encoded data removed]",
      "text/plain": [
       "<Figure size 432x288 with 1 Axes>"
      ]
     },
     "metadata": {
      "needs_background": "light"
     },
     "output_type": "display_data"
    }
   ],
   "source": [
    "grid = np.linspace(0, 10, 50)\n",
    "base_1 = [run_simulation(-5, 5, 1, g, c = 1, print_ = False) for g in grid]\n",
    "base_2 = [run_simulation(-5, 5, 1, g, c = 50, print_ = False) for g in grid]\n",
    "base_3 = [run_simulation(-5, 5, 1, g, c = 200, print_ = False) for g in grid]\n",
    "plt.plot(grid, [b[0][0] for b in base_1], label = \"x_ss^1, c = 1\")\n",
    "plt.plot(grid, [b[1][0] for b in base_1], label = \"x_ss^2, c = 1\")\n",
    "plt.plot(grid, [b[2][0] for b in base_1], label = \"x_ss^3, c = 1\")\n",
    "plt.plot(grid, [b[0][0] for b in base_2], label = \"x_ss^1, c = 50\")\n",
    "plt.plot(grid, [b[1][0] for b in base_2], label = \"x_ss^2, c = 50\")\n",
    "plt.plot(grid, [b[2][0] for b in base_2], label = \"x_ss^3, c = 50\")\n",
    "plt.plot(grid, [b[0][0] for b in base_3], label = \"x_ss^1, c = 200\")\n",
    "plt.plot(grid, [b[1][0] for b in base_3], label = \"x_ss^2, c = 200\")\n",
    "plt.plot(grid, [b[2][0] for b in base_3], label = \"x_ss^3, c = 200\")\n",
    "plt.xlabel(\"a_2\")\n",
    "plt.ylabel(\"limit opinions\")\n",
    "plt.legend()\n",
    "plt.title(\"Symmetric Network (a_1 = 1)\")\n",
    "plt.show()"
   ]
  },
  {
   "cell_type": "markdown",
   "id": "a42b4fa3-0120-4a25-bf4f-161b513c199b",
   "metadata": {},
   "source": [
    "## Vary $X_0$:"
   ]
  },
  {
   "cell_type": "code",
   "execution_count": 24,
   "id": "79b4f26d-e9a0-4957-b9aa-3f1bb3e43554",
   "metadata": {},
   "outputs": [
    {
     "data": {
      "image/png": "[encoded data removed]",
      "text/plain": [
       "<Figure size 432x288 with 1 Axes>"
      ]
     },
     "metadata": {
      "needs_background": "light"
     },
     "output_type": "display_data"
    }
   ],
   "source": [
    "grid = np.linspace(0.1, 0.5, 50)\n",
    "base_1 = [run_simulation(-5, 5, 0, g, X_0_1 = np.array([[10.0, -5.0, 5.0]], ndmin = 2).T, print_ = False, tol = 10**-4) for g in grid]\n",
    "base_2 = [run_simulation(-5, 5, 0, g, X_0_1 = np.array([[10.0, 5.0, 5.0]], ndmin = 2).T, print_ = False, tol = 10**-4) for g in grid]\n",
    "base_3 = [run_simulation(-5, 5, 0, g, X_0_1 = np.array([[5.0, 5.0, 5.0]], ndmin = 2).T, print_ = False, tol = 10**-4) for g in grid]\n",
    "plt.plot(grid, [b[0][0] for b in base_1], label = \"1, (10, -5, 5)\")\n",
    "plt.plot(grid, [b[1][0] for b in base_1], label = \"2, (10, -5, 5)\")\n",
    "plt.plot(grid, [b[2][0] for b in base_1], label = \"3, (10, -5, 5)\")\n",
    "plt.plot(grid, [b[0][0] for b in base_2], label = \"1, (10, 5, 5)\")\n",
    "plt.plot(grid, [b[1][0] for b in base_2], label = \"2, (10, 5, 5)\")\n",
    "plt.plot(grid, [b[2][0] for b in base_2], label = \"3, (10, 5, 5)\")\n",
    "plt.plot(grid, [b[0][0] for b in base_3], label = \"1, (5, 5, 5)\")\n",
    "plt.plot(grid, [b[1][0] for b in base_3], label = \"2, (5, 5, 5)\")\n",
    "plt.plot(grid, [b[2][0] for b in base_3], label = \"3, (5, 5, 5)\")\n",
    "plt.xlabel(\"a_2\")\n",
    "plt.ylabel(\"limit opinions\")\n",
    "plt.legend(loc = \"right\")\n",
    "plt.title(\"Symmetric Network (a_1 = 0)\")\n",
    "plt.show()"
   ]
  },
  {
   "cell_type": "code",
   "execution_count": 25,
   "id": "578bd41c-b0ce-435e-aea5-2b54f764b405",
   "metadata": {},
   "outputs": [
    {
     "data": {
      "image/png": "[encoded data removed]",
      "text/plain": [
       "<Figure size 432x288 with 1 Axes>"
      ]
     },
     "metadata": {
      "needs_background": "light"
     },
     "output_type": "display_data"
    }
   ],
   "source": [
    "grid = np.linspace(0, 10, 50)\n",
    "base_1 = [run_simulation(-5, 5, 1, g, X_0_1 = np.array([[10.0, -5.0, 5.0]], ndmin = 2).T, print_ = False, tol = 10**-5) for g in grid]\n",
    "base_2 = [run_simulation(-5, 5, 1, g, X_0_1 = np.array([[10.0, 5.0, 5.0]], ndmin = 2).T, print_ = False, tol = 10**-5) for g in grid]\n",
    "base_3 = [run_simulation(-5, 5, 1, g, X_0_1 = np.array([[5.0, 5.0, 5.0]], ndmin = 2).T, print_ = False, tol = 10**-5) for g in grid]\n",
    "plt.plot(grid, [b[0][0] for b in base_1], label = \"1, (10, -5, 5)\")\n",
    "plt.plot(grid, [b[1][0] for b in base_1], label = \"2, (10, -5, 5)\")\n",
    "plt.plot(grid, [b[2][0] for b in base_1], label = \"3, (10, -5, 5)\")\n",
    "plt.plot(grid, [b[0][0] for b in base_2], label = \"1, (10, 5, 5)\")\n",
    "plt.plot(grid, [b[1][0] for b in base_2], label = \"2, (10, 5, 5)\")\n",
    "plt.plot(grid, [b[2][0] for b in base_2], label = \"3, (10, 5, 5)\")\n",
    "plt.plot(grid, [b[0][0] for b in base_3], label = \"1, (5, 5, 5)\")\n",
    "plt.plot(grid, [b[1][0] for b in base_3], label = \"2, (5, 5, 5)\")\n",
    "plt.plot(grid, [b[2][0] for b in base_3], label = \"3, (5, 5, 5)\")\n",
    "plt.xlabel(\"a_2\")\n",
    "plt.ylabel(\"limit opinions\")\n",
    "plt.legend(loc = \"right\")\n",
    "plt.title(\"Symmetric Network (a_1 = 1)\")\n",
    "plt.show()"
   ]
  }
 ],
 "metadata": {
  "kernelspec": {
   "display_name": "Python 3",
   "language": "python",
   "name": "python3"
  },
  "language_info": {
   "codemirror_mode": {
    "name": "ipython",
    "version": 3
   },
   "file_extension": ".py",
   "mimetype": "text/x-python",
   "name": "python",
   "nbconvert_exporter": "python",
   "pygments_lexer": "ipython3",
   "version": "3.8.8"
  },
  "widgets": {
   "application/vnd.jupyter.widget-state+json": {
    "state": {},
    "version_major": 2,
    "version_minor": 0
   }
  }
 },
 "nbformat": 4,
 "nbformat_minor": 5
}
