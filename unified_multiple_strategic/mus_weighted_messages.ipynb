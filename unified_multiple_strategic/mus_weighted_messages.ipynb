{
 "cells": [
  {
   "cell_type": "markdown",
   "id": "parallel-physics",
   "metadata": {},
   "source": [
    "# Unified Model with Multiple Strategic Agents: Strategic Agent-Specific Message Weights\n",
    "\n",
    "James Yu, 19 November 2022"
   ]
  },
  {
   "cell_type": "code",
   "execution_count": 1,
   "id": "authorized-melissa",
   "metadata": {
    "tags": []
   },
   "outputs": [],
   "source": [
    "from collections import defaultdict\n",
    "import matplotlib.pyplot as plt\n",
    "import numpy as np"
   ]
  },
  {
   "cell_type": "markdown",
   "id": "f86e116d-684c-4696-a44d-7b02e50324fc",
   "metadata": {},
   "source": [
    "Starting to implement some of the new improvements in the solver."
   ]
  },
  {
   "cell_type": "code",
   "execution_count": 2,
   "id": "precise-trick",
   "metadata": {
    "tags": []
   },
   "outputs": [],
   "source": [
    "def M(K, B, R, L, delta):\n",
    "    \"\"\"Computes M_{t-1} given B_l \\forall l, K_t^l \\forall l, \n",
    "        R_l \\forall l, number of strategic agents L, and delta.\"\"\"\n",
    "    # handle the generic structure first, with the correct pairings:\n",
    "    base = [[B[l_prime].T @ K[l_prime] @ B[l] for l in range(L)] for l_prime in range(L)]\n",
    "    # then change the diagonals to construct M_{t-1}:\n",
    "    for l in range(L): base[l][l] = B[l].T @ K[l] @ B[l] + R[l]/delta\n",
    "    return np.block(base)\n",
    "\n",
    "def H(B, K, A, L):\n",
    "    \"\"\"Computes H_{t-1} given B_l \\forall l, K_t^l \\forall l, \n",
    "        A, and number of strategic agents L.\"\"\"\n",
    "    return np.concatenate(tuple(B[l].T @ K[l] @ A for l in range(L)), axis = 0)\n",
    "\n",
    "def C_l(A, B, K, k, h, L, c, x, n):\n",
    "    \"\"\"Computes C_{t-1}^h (displayed as C_{t-1}^l) given A, B_l \\forall l, K_t^l \\forall l, \n",
    "        k_t^l \\forall l, a specific naive agent h, number of strategic agents L, \n",
    "        c_l \\forall l, x_l \\forall l, and number of naive agents n\"\"\"\n",
    "    return np.concatenate(tuple(B[l].T @ K[l] @ A @ ((x[h] - x[l]) * np.ones((n, 1))) \n",
    "                           + B[l].T @ K[l] @ c[l] \n",
    "                           + 0.5 * B[l].T @ k[l].T for l in range(L)), axis = 0)\n",
    "\n",
    "def E(M_, H_):\n",
    "    \"\"\"Computes the generic E_{t-1} given M_{t-1} and H_{t-1}.\"\"\"\n",
    "    return np.linalg.inv(M_) @ H_\n",
    "\n",
    "def F(M_, C_l_, l, n):\n",
    "    \"\"\"Computes F_{t-1}^l given M_{t-1}, C_{t-1}^l, \n",
    "       specific naive agent l and number of naive agents n.\"\"\"\n",
    "    return (np.linalg.inv(M_) @ C_l_)[l*n:(l+1)*n, :] # e.g. l = 0 gives ln = 0, l = 1 gives ln = n, etc\n",
    "\n",
    "def G(A, B, E_, L, n):\n",
    "    \"\"\"Computes the generic G_{t-1} given A, B_l \\forall l, \n",
    "        E_{t-1}, number of strategic agents L, and number of naive agents n.\"\"\"\n",
    "    return A - sum([B[l] @ E_[l*n:(l+1)*n, :] for l in range(L)])\n",
    "    \n",
    "def g_l(B, E_, h, x, F_, L, n, c):\n",
    "    \"\"\"Computes g_{t-1}^l given B_l \\forall l, E_{t-1}^l, \n",
    "        a particular naive agent h, x_l \\forall l, F_{t-1}^l \\forall l, \n",
    "        number of strategic agents L, number of naive agents n, and c_h.\"\"\"\n",
    "    return - sum([B[l] @ (E_[l*n:(l+1)*n, :] @ ((x[h] - x[l]) * np.ones((n, 1))) + F_[l]) for l in range(L)]) + c[h]"
   ]
  },
  {
   "cell_type": "code",
   "execution_count": 3,
   "id": "forced-trunk",
   "metadata": {},
   "outputs": [],
   "source": [
    "def K_t_minus_1(Q, K, E_, R, G_, L, delta, n):\n",
    "    return [Q[l] + E_[l*n:(l+1)*n, :].T @ R[l] @ E_[l*n:(l+1)*n, :] \n",
    "            + delta * G_.T @ K[l] @ G_ for l in range(L)]\n",
    "\n",
    "def k_t_minus_1(K, k, G_, g, E_, F_, R, L, delta, n):\n",
    "    return [2*delta* g[l].T @ K[l] @ G_ + delta * k[l] @ G_ \n",
    "            + 2 * F_[l].T @ R[l] @ E_[l*n:(l+1)*n, :] for l in range(L)]\n",
    "\n",
    "def kappa_t_minus_1(K, k, kappa, g_, F_, R, L, delta):            \n",
    "    return [-delta * (g_[l].T @ K[l] @ g_[l] + k[l] @ g_[l] - kappa[l]) \n",
    "            - (F_[l].T @ R[l] @ F_[l]) for l in range(L)]"
   ]
  },
  {
   "cell_type": "code",
   "execution_count": 4,
   "id": "pleased-criterion",
   "metadata": {
    "tags": []
   },
   "outputs": [],
   "source": [
    "def should_terminate(bundles, eps):\n",
    "    return all([np.allclose(b[0], b[1], rtol = eps, atol = eps) for b in bundles])\n",
    "\n",
    "def solve(K_t, k_t, kappa_t, A, B, delta, n, L, Q, R, x, c):\n",
    "    historical_K = [K_t]\n",
    "    historical_k = [k_t]\n",
    "    historical_kappa = [kappa_t]\n",
    "    eps = np.sqrt(np.finfo(np.float64).eps)\n",
    "    while True:\n",
    "        M_ = M(K_t, B, R, L, delta)\n",
    "        H_ = H(B, K_t, A, L)\n",
    "        E_ = E(M_, H_)\n",
    "        G_ = G(A, B, E_, L, n)\n",
    "        K_new = K_t_minus_1(Q, K_t, E_, R, G_, L, delta, n)\n",
    "        F_ = [F(M_, C_l(A, B, K_t, k_t, l, L, c, x, n), l, n) for l in range(L)]\n",
    "        g = [g_l(B, E_, h, x, F_, L, n, c) for h in range(L)]\n",
    "        k_new = k_t_minus_1(K_t, k_t, G_, g, E_, F_, R, L, delta, n)\n",
    "        kappa_new = kappa_t_minus_1(K_t, k_t, kappa_t, g, F_, R, L, delta)\n",
    "        historical_K.insert(0, K_new)\n",
    "        historical_k.insert(0, k_new)\n",
    "        historical_kappa.insert(0, kappa_new)\n",
    "        if should_terminate([(K_t, K_new), (k_t, k_new), (kappa_t, kappa_new)], eps):\n",
    "            return historical_K[0], historical_k[0], historical_kappa[0]\n",
    "        K_t = K_new\n",
    "        k_t = k_new\n",
    "        kappa_t = kappa_new"
   ]
  },
  {
   "cell_type": "code",
   "execution_count": 5,
   "id": "unlimited-jamaica",
   "metadata": {},
   "outputs": [],
   "source": [
    "def optimal(X_init, K_ss, k_ss, A, B, delta, n, L, Q, R, x, c):\n",
    "    X_t = [a.copy() for a in X_init]\n",
    "    xs = defaultdict(list)\n",
    "    for l in range(L):\n",
    "        xs[l].append(X_t[l])\n",
    "        \n",
    "    rs = defaultdict(list)\n",
    "    payoffs = defaultdict(list)\n",
    "    payoff = defaultdict(int)\n",
    "    eps = np.sqrt(np.finfo(np.float64).eps)\n",
    "    \n",
    "    M_ = M(K_ss, B, R, L, delta)\n",
    "    H_ = H(B, K_ss, A, L)\n",
    "    E_ = E(M_, H_)\n",
    "    G_ = G(A, B, E_, L, n)\n",
    "    F_ = [F(M_, C_l(A, B, K_ss, k_ss, l, L, c, x, n), l, n) for l in range(L)]\n",
    "    g = [g_l(B, E_, h, x, F_, L, n, c) for h in range(L)]\n",
    "    \n",
    "    i = 0\n",
    "    while True:\n",
    "        for l in range(L):\n",
    "            # TODO: special code for finite horizon needs a terminal time T term\n",
    "            Y_new = -1 * E_[l*n:(l+1)*n, :] @ X_t[l] - F(M_, C_l(A, B, K_ss, k_ss, l, L, c, x, n), l, n)\n",
    "            rs[l].append(Y_new)\n",
    "            payoff[l] += (-1 * delta**i * (X_t[l].T @ Q[l] @ X_t[l])).item() + (-1 * delta**i * (Y_new.T @ R[l] @ Y_new)).item()\n",
    "            payoffs[l].append(payoff[l])\n",
    "            X_new = G_ @ X_t[l] + g[l]\n",
    "            xs[l].append(X_new)\n",
    "            if l == L - 1 and np.allclose(X_t[l], X_new, rtol = eps, atol = eps):\n",
    "                return xs, rs, payoffs\n",
    "            X_t[l] = X_new \n",
    "        i += 1\n",
    "        \n",
    "    return xs, rs, payoffs"
   ]
  },
  {
   "cell_type": "code",
   "execution_count": 6,
   "id": "synthetic-promotion",
   "metadata": {},
   "outputs": [],
   "source": [
    "def run_simulation(b1, b2, a1, a2, symmetric = False, print_ = True):\n",
    "    if symmetric:\n",
    "        A = np.array([ # stubborn\n",
    "            [0.9, 0.07, 0.03],\n",
    "            [0.07, 0.58, 0.35],\n",
    "            [0.03, 0.35, 0.62]\n",
    "        ])\n",
    "        if print_: print(\"SYMMETRIC NETWORK\")\n",
    "    else:\n",
    "        A = np.array([ # asymmetric\n",
    "            [0.6, 0.3, 0.1],\n",
    "            [0.4, 0.1, 0.5],\n",
    "            [0.5, 0.2, 0.3]\n",
    "        ])\n",
    "        if print_: print(\"ASYMMETRIC NETWORK\")\n",
    "    X_0_1 = np.array([[10.0, -5.0, 5.0]], ndmin = 2).T\n",
    "    X_0 = [X_0_1 - b1, X_0_1 - b2]\n",
    "    delta = 0.9 # discount rate\n",
    "    n = 3 # number of naive agents\n",
    "    L = 2 # number of strategic agents\n",
    "    Q = [np.identity(n), np.identity(n)] # objective function for messages is just X'IX = X'X\n",
    "    R = [200 * np.identity(n), 200 * np.identity(n)] # message cost R = cI_n for some c under the new notation\n",
    "    B = [a1 * np.identity(n), a2 * np.identity(n)] # B^l = a_l I_n\n",
    "    x = [b1, b2] # agendas\n",
    "    r = [0, 0] # message cost minimality is centered around zero\n",
    "    c_base = sum([B[l] @ (r[l] * np.ones((n, 1))) for l in range(L)])\n",
    "    c = [c_base + (A - np.identity(n)) @ (x[l] * np.ones((n, 1))) for l in range(L)] # normalization vector\n",
    "    \n",
    "    K_ss, k_ss, kappa_ss = solve(Q, [np.zeros((1, n)), np.zeros((1, n))], [0, 0], A, B, delta, n, L, Q, R, x, c)\n",
    "    xs, rs, payoffs = optimal(X_0, K_ss, k_ss, A, B, delta, n, L, Q, R, x, c)\n",
    "    if print_:\n",
    "        print(\"Steady-State Opinions:\")\n",
    "        print(xs[0][-1] + b1)\n",
    "        print(\"Average of agendas:\")\n",
    "        print((b1+b2)/2)\n",
    "        print()\n",
    "        print(\"K^* (1, 2):\")\n",
    "        print(K_ss[0])\n",
    "        print(K_ss[1])\n",
    "        print()\n",
    "        print(\"k^* (1, 2):\")\n",
    "        print(k_ss[0])\n",
    "        print(k_ss[1])\n",
    "        print()\n",
    "        print(\"kappa^* (1, 2):\")\n",
    "        print(kappa_ss[0])\n",
    "        print(kappa_ss[1])\n",
    "    if print_ == False:\n",
    "        return xs[0][-1] + b1"
   ]
  },
  {
   "cell_type": "markdown",
   "id": "409245ea-b3a1-4c59-b3a7-8c14595398dc",
   "metadata": {},
   "source": [
    "## Some loose testing:"
   ]
  },
  {
   "cell_type": "code",
   "execution_count": 7,
   "id": "11af8cd7-66b8-48ed-bb75-94051f3b7136",
   "metadata": {},
   "outputs": [
    {
     "name": "stdout",
     "output_type": "stream",
     "text": [
      "ASYMMETRIC NETWORK\n",
      "Steady-State Opinions:\n",
      "[[2.50000079]\n",
      " [2.50000083]\n",
      " [2.50000082]]\n",
      "Average of agendas:\n",
      "2.5\n",
      "\n",
      "K^* (1, 2):\n",
      "[[4.97479444 1.71234484 1.85435939]\n",
      " [1.71234484 1.74409832 0.77104524]\n",
      " [1.85435939 0.77104524 1.98564254]]\n",
      "[[4.97479444 1.71234484 1.85435939]\n",
      " [1.71234484 1.74409832 0.77104524]\n",
      " [1.85435939 0.77104524 1.98564254]]\n",
      "\n",
      "k^* (1, 2):\n",
      "[[17.62777099  7.64775173  7.99120817]]\n",
      "[[-17.62777099  -7.64775173  -7.99120817]]\n",
      "\n",
      "kappa^* (1, 2):\n",
      "[[-50.71518573]]\n",
      "[[-50.71518573]]\n"
     ]
    }
   ],
   "source": [
    "run_simulation(0, 5, 1, 1)# just the default asymmetric case"
   ]
  },
  {
   "cell_type": "code",
   "execution_count": 8,
   "id": "ebdd4aa2-a206-4be0-ab41-4e7b458c4d66",
   "metadata": {},
   "outputs": [
    {
     "name": "stdout",
     "output_type": "stream",
     "text": [
      "ASYMMETRIC NETWORK\n",
      "Steady-State Opinions:\n",
      "[[1.09682321e-07]\n",
      " [1.19314815e-07]\n",
      " [1.17733701e-07]]\n",
      "Average of agendas:\n",
      "0.0\n",
      "\n",
      "K^* (1, 2):\n",
      "[[3.32372585 0.996173   1.10527732]\n",
      " [0.996173   1.4332804  0.44685528]\n",
      " [1.10527732 0.44685528 1.64260752]]\n",
      "[[4.17769166 1.36659749 1.49269144]\n",
      " [1.36659749 1.5940438  0.61453766]\n",
      " [1.49269144 0.61453766 1.81995015]]\n",
      "\n",
      "k^* (1, 2):\n",
      "[[0. 0. 0.]]\n",
      "[[0. 0. 0.]]\n",
      "\n",
      "kappa^* (1, 2):\n",
      "[[-0.]]\n",
      "[[-0.]]\n"
     ]
    }
   ],
   "source": [
    "run_simulation(0, 0, 1, 2) # make the agendas the same, but different weights of influence"
   ]
  },
  {
   "cell_type": "markdown",
   "id": "8374e941-2b09-43d4-a171-9f3c3409913f",
   "metadata": {},
   "source": [
    "As expected, the $K$s are now asymmetric."
   ]
  },
  {
   "cell_type": "code",
   "execution_count": 9,
   "id": "4f4c8899-da2d-4d72-8238-dda8e09c468b",
   "metadata": {},
   "outputs": [
    {
     "name": "stdout",
     "output_type": "stream",
     "text": [
      "ASYMMETRIC NETWORK\n",
      "Steady-State Opinions:\n",
      "[[6.06908688e-10]\n",
      " [7.13353540e-10]\n",
      " [6.77378616e-10]]\n",
      "Average of agendas:\n",
      "0.0\n",
      "\n",
      "K^* (1, 2):\n",
      "[[1.02818541 0.01153632 0.01577525]\n",
      " [0.01153632 1.00506193 0.00498303]\n",
      " [0.01577525 0.00498303 1.01521578]]\n",
      "[[1.16951402 0.07058737 0.08965411]\n",
      " [0.07058737 1.03087028 0.03093265]\n",
      " [0.08965411 0.03093265 1.07515145]]\n",
      "\n",
      "k^* (1, 2):\n",
      "[[0. 0. 0.]]\n",
      "[[0. 0. 0.]]\n",
      "\n",
      "kappa^* (1, 2):\n",
      "[[-0.]]\n",
      "[[-0.]]\n"
     ]
    }
   ],
   "source": [
    "run_simulation(0, 0, 0.00000000005, 27)"
   ]
  },
  {
   "cell_type": "code",
   "execution_count": 10,
   "id": "998fdad2-7d7b-4d4e-a720-897feb07f5c8",
   "metadata": {},
   "outputs": [
    {
     "name": "stdout",
     "output_type": "stream",
     "text": [
      "ASYMMETRIC NETWORK\n",
      "Steady-State Opinions:\n",
      "[[1.51541926e-19]\n",
      " [1.51541966e-19]\n",
      " [1.51541952e-19]]\n",
      "Average of agendas:\n",
      "0.0\n",
      "\n",
      "K^* (1, 2):\n",
      "[[1.00000000e+00 2.68820142e-14 3.44425847e-14]\n",
      " [2.68820142e-14 1.00000000e+00 1.17608810e-14]\n",
      " [3.44425847e-14 1.17608810e-14 1.00000000e+00]]\n",
      "[[1.00000021e+00 8.77914682e-08 1.12482819e-07]\n",
      " [8.77914682e-08 1.00000004e+00 3.84087673e-08]\n",
      " [1.12482819e-07 3.84087673e-08 1.00000010e+00]]\n",
      "\n",
      "k^* (1, 2):\n",
      "[[0. 0. 0.]]\n",
      "[[0. 0. 0.]]\n",
      "\n",
      "kappa^* (1, 2):\n",
      "[[-0.]]\n",
      "[[-0.]]\n"
     ]
    }
   ],
   "source": [
    "run_simulation(0, 0, 1, 27000)"
   ]
  },
  {
   "cell_type": "markdown",
   "id": "83f6c234-da1b-4763-b968-b2cbaf76e5e8",
   "metadata": {},
   "source": [
    "No matter what we set the weights to, in the 0, 0 agenda case, the opinions always go to zero."
   ]
  },
  {
   "cell_type": "code",
   "execution_count": 11,
   "id": "3ecafaf2-99fe-4d06-9c1b-ed86d151d72a",
   "metadata": {},
   "outputs": [
    {
     "name": "stdout",
     "output_type": "stream",
     "text": [
      "ASYMMETRIC NETWORK\n",
      "Steady-State Opinions:\n",
      "[[2.34350144e-07]\n",
      " [2.45136367e-07]\n",
      " [2.43521098e-07]]\n",
      "Average of agendas:\n",
      "0.0\n",
      "\n",
      "K^* (1, 2):\n",
      "[[4.97479421 1.71234474 1.85435928]\n",
      " [1.71234474 1.74409828 0.77104519]\n",
      " [1.85435928 0.77104519 1.98564249]]\n",
      "[[4.97479421 1.71234474 1.85435928]\n",
      " [1.71234474 1.74409828 0.77104519]\n",
      " [1.85435928 0.77104519 1.98564249]]\n",
      "\n",
      "k^* (1, 2):\n",
      "[[0. 0. 0.]]\n",
      "[[0. 0. 0.]]\n",
      "\n",
      "kappa^* (1, 2):\n",
      "[[-0.]]\n",
      "[[-0.]]\n"
     ]
    }
   ],
   "source": [
    "run_simulation(0, 0, 1, 1)"
   ]
  },
  {
   "cell_type": "code",
   "execution_count": 12,
   "id": "76793070-9f43-4e27-8cd8-320298e12b37",
   "metadata": {},
   "outputs": [
    {
     "name": "stdout",
     "output_type": "stream",
     "text": [
      "ASYMMETRIC NETWORK\n",
      "Steady-State Opinions:\n",
      "[[7.02458390e-07]\n",
      " [7.14060368e-07]\n",
      " [7.12484736e-07]]\n",
      "Average of agendas:\n",
      "0.0\n",
      "\n",
      "K^* (1, 2):\n",
      "[[6.75935479 2.48664965 2.66301269]\n",
      " [2.48664965 2.08012755 1.12162979]\n",
      " [2.66301269 1.12162979 2.35330051]]\n",
      "[[6.75935479 2.48664965 2.66301269]\n",
      " [2.48664965 2.08012755 1.12162979]\n",
      " [2.66301269 1.12162979 2.35330051]]\n",
      "\n",
      "k^* (1, 2):\n",
      "[[0. 0. 0.]]\n",
      "[[0. 0. 0.]]\n",
      "\n",
      "kappa^* (1, 2):\n",
      "[[-0.]]\n",
      "[[-0.]]\n"
     ]
    }
   ],
   "source": [
    "run_simulation(0, 0, 0.5, 0.5)"
   ]
  },
  {
   "cell_type": "markdown",
   "id": "80e85e96-3da4-4b8b-9cdd-2a488e6603fe",
   "metadata": {},
   "source": [
    "Even if the weights are the same, the magnitude matters for $K$."
   ]
  },
  {
   "cell_type": "code",
   "execution_count": 13,
   "id": "87d69920-1c35-4664-93be-1f3e094d5c60",
   "metadata": {},
   "outputs": [
    {
     "name": "stdout",
     "output_type": "stream",
     "text": [
      "ASYMMETRIC NETWORK\n",
      "Steady-State Opinions:\n",
      "[[2.50000246]\n",
      " [2.5000025 ]\n",
      " [2.5000025 ]]\n",
      "Average of agendas:\n",
      "2.5\n",
      "\n",
      "K^* (1, 2):\n",
      "[[6.75935539 2.48664991 2.66301296]\n",
      " [2.48664991 2.08012767 1.12162991]\n",
      " [2.66301296 1.12162991 2.35330064]]\n",
      "[[6.75935539 2.48664991 2.66301296]\n",
      " [2.48664991 2.08012767 1.12162991]\n",
      " [2.66301296 1.12162991 2.35330064]]\n",
      "\n",
      "k^* (1, 2):\n",
      "[[10.11667321  4.38974035  4.58336266]]\n",
      "[[-10.11667321  -4.38974035  -4.58336266]]\n",
      "\n",
      "kappa^* (1, 2):\n",
      "[[-9.5909081]]\n",
      "[[-9.5909081]]\n"
     ]
    }
   ],
   "source": [
    "run_simulation(0, 5, 0.5, 0.5)"
   ]
  },
  {
   "cell_type": "markdown",
   "id": "cfb59bb1-c3f9-4d88-a806-5bb74ec2cf33",
   "metadata": {},
   "source": [
    "The magnitude also matters for all the other matrices but in the equal weight case we still have the same structural results."
   ]
  },
  {
   "cell_type": "code",
   "execution_count": 14,
   "id": "629795a4-eea7-4f08-aaad-1deac8f66077",
   "metadata": {},
   "outputs": [
    {
     "name": "stdout",
     "output_type": "stream",
     "text": [
      "ASYMMETRIC NETWORK\n",
      "Steady-State Opinions:\n",
      "[[2.99613759]\n",
      " [2.99601571]\n",
      " [2.99600378]]\n",
      "Average of agendas:\n",
      "2.5\n",
      "\n",
      "K^* (1, 2):\n",
      "[[6.43059654 2.3439935  2.51408674]\n",
      " [2.3439935  2.01821916 1.05703513]\n",
      " [2.51408674 1.05703513 2.28571685]]\n",
      "[[6.62457434 2.42816628 2.60195291]\n",
      " [2.42816628 2.05474748 1.09514893]\n",
      " [2.60195291 1.09514893 2.32557812]]\n",
      "\n",
      "k^* (1, 2):\n",
      "[[13.04617084  5.66080631  5.91090461]]\n",
      "[[-9.38608791 -4.07269415 -4.25253048]]\n",
      "\n",
      "kappa^* (1, 2):\n",
      "[[-17.39881112]]\n",
      "[[-8.54876085]]\n"
     ]
    }
   ],
   "source": [
    "run_simulation(0, 5, 0.5, 0.6)"
   ]
  },
  {
   "cell_type": "code",
   "execution_count": 15,
   "id": "cd379cdb-0e6a-4fbb-924a-94e514f99191",
   "metadata": {},
   "outputs": [
    {
     "name": "stdout",
     "output_type": "stream",
     "text": [
      "ASYMMETRIC NETWORK\n",
      "Steady-State Opinions:\n",
      "[[2.00386659]\n",
      " [2.00398855]\n",
      " [2.00400048]]\n",
      "Average of agendas:\n",
      "2.5\n",
      "\n",
      "K^* (1, 2):\n",
      "[[6.62457434 2.42816628 2.60195291]\n",
      " [2.42816628 2.05474748 1.09514893]\n",
      " [2.60195291 1.09514893 2.32557812]]\n",
      "[[6.43059654 2.3439935  2.51408674]\n",
      " [2.3439935  2.01821916 1.05703513]\n",
      " [2.51408674 1.05703513 2.28571685]]\n",
      "\n",
      "k^* (1, 2):\n",
      "[[9.38608791 4.07269415 4.25253048]]\n",
      "[[-13.04617084  -5.66080631  -5.91090461]]\n",
      "\n",
      "kappa^* (1, 2):\n",
      "[[-8.54876085]]\n",
      "[[-17.39881112]]\n"
     ]
    }
   ],
   "source": [
    "run_simulation(0, 5, 0.6, 0.5)"
   ]
  },
  {
   "cell_type": "markdown",
   "id": "49a2c31c-735d-4a72-b6d5-4d51199e65b6",
   "metadata": {},
   "source": [
    "An increase in strategic agent 2's weight increases the limit opinions; an increase in strategic agent 1's weight decreases them. This likely relates to the agendas; if we have instead:"
   ]
  },
  {
   "cell_type": "code",
   "execution_count": 16,
   "id": "d1e58092-3a53-4737-abc0-fce278e290fb",
   "metadata": {},
   "outputs": [
    {
     "name": "stdout",
     "output_type": "stream",
     "text": [
      "ASYMMETRIC NETWORK\n",
      "Steady-State Opinions:\n",
      "[[4.26068483e-06]\n",
      " [4.33105537e-06]\n",
      " [4.32149855e-06]]\n",
      "Average of agendas:\n",
      "0.0\n",
      "\n",
      "K^* (1, 2):\n",
      "[[6.75935539 2.48664991 2.66301296]\n",
      " [2.48664991 2.08012767 1.12162991]\n",
      " [2.66301296 1.12162991 2.35330064]]\n",
      "[[6.75935539 2.48664991 2.66301296]\n",
      " [2.48664991 2.08012767 1.12162991]\n",
      " [2.66301296 1.12162991 2.35330064]]\n",
      "\n",
      "k^* (1, 2):\n",
      "[[20.23334643  8.77948069  9.16672532]]\n",
      "[[-20.23334643  -8.77948069  -9.16672532]]\n",
      "\n",
      "kappa^* (1, 2):\n",
      "[[-38.36363293]]\n",
      "[[-38.36363293]]\n"
     ]
    }
   ],
   "source": [
    "run_simulation(-5, 5, 0.5, 0.5)"
   ]
  },
  {
   "cell_type": "code",
   "execution_count": 17,
   "id": "4094985e-ba3a-44e0-97c9-fc794279b8af",
   "metadata": {},
   "outputs": [
    {
     "name": "stdout",
     "output_type": "stream",
     "text": [
      "ASYMMETRIC NETWORK\n",
      "Steady-State Opinions:\n",
      "[[0.99227462]\n",
      " [0.99203084]\n",
      " [0.99200698]]\n",
      "Average of agendas:\n",
      "0.0\n",
      "\n",
      "K^* (1, 2):\n",
      "[[6.43059654 2.3439935  2.51408674]\n",
      " [2.3439935  2.01821916 1.05703513]\n",
      " [2.51408674 1.05703513 2.28571685]]\n",
      "[[6.62457434 2.42816628 2.60195291]\n",
      " [2.42816628 2.05474748 1.09514893]\n",
      " [2.60195291 1.09514893 2.32557812]]\n",
      "\n",
      "k^* (1, 2):\n",
      "[[26.09234168 11.32161262 11.82180922]]\n",
      "[[-18.77217582  -8.1453883   -8.50506096]]\n",
      "\n",
      "kappa^* (1, 2):\n",
      "[[-69.59524541]]\n",
      "[[-34.19504391]]\n"
     ]
    }
   ],
   "source": [
    "run_simulation(-5, 5, 0.5, 0.6)"
   ]
  },
  {
   "cell_type": "markdown",
   "id": "8224c3d5-bf07-4365-8353-553e78452d08",
   "metadata": {},
   "source": [
    "Notice that unlike the 0, 0 case, even though the agendas average to zero, we still see an increase/decrease effect on the opinions."
   ]
  },
  {
   "cell_type": "code",
   "execution_count": 18,
   "id": "b7936550-f812-457a-bb75-c700f14805c0",
   "metadata": {},
   "outputs": [
    {
     "name": "stdout",
     "output_type": "stream",
     "text": [
      "ASYMMETRIC NETWORK\n",
      "Steady-State Opinions:\n",
      "[[5.00000071]\n",
      " [5.00000072]\n",
      " [5.00000072]]\n",
      "Average of agendas:\n",
      "5.0\n",
      "\n",
      "K^* (1, 2):\n",
      "[[6.75935479 2.48664965 2.66301269]\n",
      " [2.48664965 2.08012755 1.12162979]\n",
      " [2.66301269 1.12162979 2.35330051]]\n",
      "[[6.75935479 2.48664965 2.66301269]\n",
      " [2.48664965 2.08012755 1.12162979]\n",
      " [2.66301269 1.12162979 2.35330051]]\n",
      "\n",
      "k^* (1, 2):\n",
      "[[9.94746798e-15 4.31006154e-15 4.53382528e-15]]\n",
      "[[9.94746798e-15 4.31006154e-15 4.53382528e-15]]\n",
      "\n",
      "kappa^* (1, 2):\n",
      "[[-8.78541675e-30]]\n",
      "[[-8.78541675e-30]]\n"
     ]
    }
   ],
   "source": [
    "run_simulation(5, 5, 0.5, 0.5)"
   ]
  },
  {
   "cell_type": "code",
   "execution_count": 19,
   "id": "92904a72-939b-4237-8049-8f350cb5c9e8",
   "metadata": {},
   "outputs": [
    {
     "name": "stdout",
     "output_type": "stream",
     "text": [
      "ASYMMETRIC NETWORK\n",
      "Steady-State Opinions:\n",
      "[[5.]\n",
      " [5.]\n",
      " [5.]]\n",
      "Average of agendas:\n",
      "5.0\n",
      "\n",
      "K^* (1, 2):\n",
      "[[1.00000000e+00 2.67655877e-26 3.43012839e-26]\n",
      " [2.67655877e-26 1.00000000e+00 1.17124662e-26]\n",
      " [3.43012839e-26 1.17124662e-26 1.00000000e+00]]\n",
      "[[1.00000000e+00 8.77914952e-14 1.12482853e-13]\n",
      " [8.77914952e-14 1.00000000e+00 3.84087791e-14]\n",
      " [1.12482853e-13 3.84087791e-14 1.00000000e+00]]\n",
      "\n",
      "k^* (1, 2):\n",
      "[[1.85790142e-41 7.43228210e-42 1.11433501e-41]]\n",
      "[[6.09175871e-29 2.43670348e-29 3.65505523e-29]]\n",
      "\n",
      "kappa^* (1, 2):\n",
      "[[-4.12536987e-57]]\n",
      "[[-1.35264216e-44]]\n"
     ]
    }
   ],
   "source": [
    "run_simulation(5, 5, 0.005, 27000000)"
   ]
  },
  {
   "cell_type": "code",
   "execution_count": 20,
   "id": "b910108d-6445-41bd-aad5-af03b7a85dfa",
   "metadata": {},
   "outputs": [
    {
     "name": "stdout",
     "output_type": "stream",
     "text": [
      "ASYMMETRIC NETWORK\n",
      "Steady-State Opinions:\n",
      "[[5.00000001]\n",
      " [5.00000002]\n",
      " [5.00000001]]\n",
      "Average of agendas:\n",
      "5.0\n",
      "\n",
      "K^* (1, 2):\n",
      "[[1.26796853 0.11024109 0.14754854]\n",
      " [0.11024109 1.04832424 0.04782415]\n",
      " [0.14754854 0.04782415 1.13704194]]\n",
      "[[1.72082199 0.30408046 0.36423597]\n",
      " [0.30408046 1.13265777 0.13467073]\n",
      " [0.36423597 0.13467073 1.26631075]]\n",
      "\n",
      "k^* (1, 2):\n",
      "[[5.07406211e-17 1.87969485e-17 3.69413390e-17]]\n",
      "[[3.73569303e-16 1.57463193e-16 1.89321207e-16]]\n",
      "\n",
      "kappa^* (1, 2):\n",
      "[[-1.4811247e-31]]\n",
      "[[-3.43975297e-31]]\n"
     ]
    }
   ],
   "source": [
    "run_simulation(5, 5, 1, 10)"
   ]
  },
  {
   "cell_type": "markdown",
   "id": "1763fa13-1bf5-48b6-affb-1b40bd2f04d9",
   "metadata": {},
   "source": [
    "Here even though the agendas do not average to zero, they are the same agenda and we see no effect on the opinions for different weights."
   ]
  },
  {
   "cell_type": "markdown",
   "id": "51107cae-eb2b-4796-99c4-db337a204601",
   "metadata": {},
   "source": [
    "This implies that the effect of the message weights depends on the difference in agendas."
   ]
  },
  {
   "cell_type": "markdown",
   "id": "d7ba17eb-4a67-427e-945b-17f2649361f0",
   "metadata": {},
   "source": [
    "## Opposite Agendas"
   ]
  },
  {
   "cell_type": "markdown",
   "id": "e7d7957d-1aee-4f83-a943-1e5cb5449026",
   "metadata": {},
   "source": [
    "First, let's use a perfectly symmetric case:"
   ]
  },
  {
   "cell_type": "code",
   "execution_count": 21,
   "id": "50c8cf23-495a-4252-a256-e97c5f863a1a",
   "metadata": {},
   "outputs": [],
   "source": [
    "A_symmetric = np.array([ # symmetric\n",
    "        [1/3, 1/3, 1/3],\n",
    "        [1/3, 1/3, 1/3],\n",
    "        [1/3, 1/3, 1/3]\n",
    "    ])\n",
    "def run_simple(A, b1, b2, a1, a2, delta = 0.5, print_ = True):\n",
    "    X_0_1 = np.array([[10.0, -5.0, 5.0]], ndmin = 2).T\n",
    "    X_0 = [X_0_1 - b1, X_0_1 - b2]\n",
    "    n = 3 # number of naive agents\n",
    "    L = 2 # number of strategic agents\n",
    "    Q = [np.identity(n), np.identity(n)] # objective function for messages is just X'IX = X'X\n",
    "    R = [1 * np.identity(n), 1 * np.identity(n)] # message cost R = cI_n for some c under the new notation\n",
    "    B = [a1 * np.identity(n), a2 * np.identity(n)] # B^l = a_l I_n\n",
    "    x = [b1, b2] # agendas\n",
    "    r = [0, 0] # message cost minimality is centered around zero\n",
    "    c_base = sum([B[l] @ (r[l] * np.ones((n, 1))) for l in range(L)])\n",
    "    c = [c_base + (A - np.identity(n)) @ (x[l] * np.ones((n, 1))) for l in range(L)] # normalization vector\n",
    "    \n",
    "    K_ss, k_ss, kappa_ss = solve(Q, [np.zeros((1, n)), np.zeros((1, n))], [0, 0], A, B, delta, n, L, Q, R, x, c)\n",
    "    xs, rs, payoffs = optimal(X_0, K_ss, k_ss, A, B, delta, n, L, Q, R, x, c)\n",
    "    if print_:\n",
    "        print(\"Steady-State Opinions:\")\n",
    "        print(xs[0][-1] + b1)\n",
    "        print(\"Average of agendas:\")\n",
    "        print((b1+b2)/2)\n",
    "        print()\n",
    "        print(\"K^* (1, 2):\")\n",
    "        print(K_ss[0])\n",
    "        print(K_ss[1])\n",
    "        print()\n",
    "        print(\"k^* (1, 2):\")\n",
    "        print(k_ss[0])\n",
    "        print(k_ss[1])\n",
    "        print()\n",
    "        print(\"kappa^* (1, 2):\")\n",
    "        print(kappa_ss[0])\n",
    "        print(kappa_ss[1])\n",
    "    return xs[0][-1] + b1"
   ]
  },
  {
   "cell_type": "code",
   "execution_count": 22,
   "id": "7ee82b83-1146-47af-8fcf-f066702aaf40",
   "metadata": {},
   "outputs": [
    {
     "data": {
      "image/png": "[encoded data removed]",
      "text/plain": [
       "<Figure size 432x288 with 1 Axes>"
      ]
     },
     "metadata": {
      "needs_background": "light"
     },
     "output_type": "display_data"
    }
   ],
   "source": [
    "grid = np.linspace(0.0001, 50, 30)\n",
    "base_1 = [run_simple(A_symmetric, -5, 5, 1, g, print_ = False) for g in grid]\n",
    "plt.plot(grid, [b[0][0] for b in base_1], label = \"x_ss^1\")\n",
    "plt.plot(grid, [b[1][0] for b in base_1], label = \"x_ss^2\")\n",
    "plt.plot(grid, [b[2][0] for b in base_1], label = \"x_ss^3\")\n",
    "plt.xlabel(\"a_2\")\n",
    "plt.ylabel(\"limit opinions\")\n",
    "plt.legend()\n",
    "plt.title(\"Symmetric Network\")\n",
    "plt.show()"
   ]
  },
  {
   "cell_type": "markdown",
   "id": "6139f6e8-6d6d-4341-b779-375d0a50768f",
   "metadata": {},
   "source": [
    "There appears to be a limit in the perfectly symmetric case. Now if we use the asymmetric case from before:"
   ]
  },
  {
   "cell_type": "code",
   "execution_count": 23,
   "id": "78ba6e94-bfe5-4a8b-b18a-e24f9ec0a7c9",
   "metadata": {},
   "outputs": [
    {
     "data": {
      "image/png": "[encoded data removed]",
      "text/plain": [
       "<Figure size 432x288 with 1 Axes>"
      ]
     },
     "metadata": {
      "needs_background": "light"
     },
     "output_type": "display_data"
    }
   ],
   "source": [
    "base_2 = [run_simulation(-5, 5, 1, g, print_ = False) for g in grid]\n",
    "plt.plot(grid, [b[0][0] for b in base_2], label = \"x_ss^1\")\n",
    "plt.plot(grid, [b[1][0] for b in base_2], label = \"x_ss^2\")\n",
    "plt.plot(grid, [b[2][0] for b in base_2], label = \"x_ss^3\")\n",
    "plt.xlabel(\"a_2\")\n",
    "plt.ylabel(\"limit opinions\")\n",
    "plt.legend()\n",
    "plt.title(\"Asymmetric Network\")\n",
    "plt.show()"
   ]
  },
  {
   "cell_type": "markdown",
   "id": "570d9255-d985-4ebf-b401-9223bafb7c37",
   "metadata": {},
   "source": [
    "If we overlay:"
   ]
  },
  {
   "cell_type": "code",
   "execution_count": 24,
   "id": "c9ac7d95-41b7-43f4-bdfb-53b0b16f8308",
   "metadata": {},
   "outputs": [
    {
     "data": {
      "image/png": "[encoded data removed]",
      "text/plain": [
       "<Figure size 432x288 with 1 Axes>"
      ]
     },
     "metadata": {
      "needs_background": "light"
     },
     "output_type": "display_data"
    }
   ],
   "source": [
    "plt.plot(grid[:10], [b[0][0] for b in base_1[:10]], label = \"x_ss^1 symmetric\")\n",
    "plt.plot(grid[:10], [b[1][0] for b in base_1[:10]], label = \"x_ss^2 symmetric\")\n",
    "plt.plot(grid[:10], [b[2][0] for b in base_1[:10]], label = \"x_ss^3 symmetric\")\n",
    "plt.plot(grid[:10], [b[0][0] for b in base_2[:10]], label = \"x_ss^1 asymmetric\")\n",
    "plt.plot(grid[:10], [b[1][0] for b in base_2[:10]], label = \"x_ss^2 asymmetric\")\n",
    "plt.plot(grid[:10], [b[2][0] for b in base_2[:10]], label = \"x_ss^3 asymmetric\")\n",
    "plt.xlabel(\"a_2\")\n",
    "plt.ylabel(\"limit opinions\")\n",
    "plt.legend()\n",
    "plt.show()"
   ]
  },
  {
   "cell_type": "code",
   "execution_count": 25,
   "id": "67b1ab10-6da1-49f9-a276-49da71ee4402",
   "metadata": {},
   "outputs": [
    {
     "data": {
      "image/png": "[encoded data removed]",
      "text/plain": [
       "<Figure size 432x288 with 1 Axes>"
      ]
     },
     "metadata": {
      "needs_background": "light"
     },
     "output_type": "display_data"
    }
   ],
   "source": [
    "plt.plot(grid[-10:], [b[0][0] for b in base_1[-10:]], label = \"x_ss^1 symmetric\")\n",
    "plt.plot(grid[-10:], [b[1][0] for b in base_1[-10:]], label = \"x_ss^2 symmetric\")\n",
    "plt.plot(grid[-10:], [b[2][0] for b in base_1[-10:]], label = \"x_ss^3 symmetric\")\n",
    "plt.plot(grid[-10:], [b[0][0] for b in base_2[-10:]], label = \"x_ss^1 asymmetric\")\n",
    "plt.plot(grid[-10:], [b[1][0] for b in base_2[-10:]], label = \"x_ss^2 asymmetric\")\n",
    "plt.plot(grid[-10:], [b[2][0] for b in base_2[-10:]], label = \"x_ss^3 asymmetric\")\n",
    "plt.xlabel(\"a_2\")\n",
    "plt.ylabel(\"limit opinions\")\n",
    "plt.legend()\n",
    "plt.show()"
   ]
  },
  {
   "cell_type": "code",
   "execution_count": 26,
   "id": "0bbd41ee-ccf6-466a-bc83-b9daa99effbe",
   "metadata": {},
   "outputs": [
    {
     "data": {
      "text/plain": [
       "<matplotlib.legend.Legend at 0x1f72f45b1f0>"
      ]
     },
     "execution_count": 26,
     "metadata": {},
     "output_type": "execute_result"
    },
    {
     "data": {
      "image/png": "[encoded data removed]",
      "text/plain": [
       "<Figure size 432x288 with 1 Axes>"
      ]
     },
     "metadata": {
      "needs_background": "light"
     },
     "output_type": "display_data"
    }
   ],
   "source": [
    "plt.plot(grid[-25:], [b[0][0] for b in base_2[-25:]], label = \"x_ss^1 asymmetric\")\n",
    "plt.legend()"
   ]
  },
  {
   "cell_type": "markdown",
   "id": "c329a4e5-d3be-43a9-a427-e60b7108c546",
   "metadata": {},
   "source": [
    "This is very odd."
   ]
  },
  {
   "cell_type": "code",
   "execution_count": 27,
   "id": "fb54f8e6-db49-4114-b6a5-bf488b6221fe",
   "metadata": {},
   "outputs": [
    {
     "data": {
      "image/png": "[encoded data removed]",
      "text/plain": [
       "<Figure size 432x288 with 1 Axes>"
      ]
     },
     "metadata": {
      "needs_background": "light"
     },
     "output_type": "display_data"
    }
   ],
   "source": [
    "grid3 = np.linspace(60, 70, 30)\n",
    "base_3 = [run_simulation(-5, 5, 1, g, print_ = False) for g in grid3]\n",
    "plt.plot(grid3, [b[0][0] for b in base_3], label = \"x_ss^1\")\n",
    "plt.plot(grid3, [b[1][0] for b in base_3], label = \"x_ss^2\")\n",
    "plt.plot(grid3, [b[2][0] for b in base_3], label = \"x_ss^3\")\n",
    "plt.xlabel(\"a_2\")\n",
    "plt.ylabel(\"limit opinions\")\n",
    "plt.legend()\n",
    "plt.title(\"Asymmetric Network\")\n",
    "plt.show()"
   ]
  },
  {
   "cell_type": "markdown",
   "id": "1e5bf3d6-1010-4870-b1ae-8eefce7acb56",
   "metadata": {},
   "source": [
    "The limit as $a_2$ goes to infinity is strategic agent 2's agenda, but the intermediate values are very odd."
   ]
  },
  {
   "cell_type": "code",
   "execution_count": 28,
   "id": "d4265541-1791-47a3-84ff-1e31fe84511c",
   "metadata": {},
   "outputs": [
    {
     "name": "stdout",
     "output_type": "stream",
     "text": [
      "ASYMMETRIC NETWORK\n",
      "Steady-State Opinions:\n",
      "[[5.0000035]\n",
      " [4.9999954]\n",
      " [4.9999981]]\n",
      "Average of agendas:\n",
      "0.0\n",
      "\n",
      "K^* (1, 2):\n",
      "[[1.00000003e+00 1.42733246e-08 1.82892478e-08]\n",
      " [1.42733246e-08 1.00000001e+00 6.24447951e-09]\n",
      " [1.82892478e-08 6.24447951e-09 1.00000002e+00]]\n",
      "[[1.00015397e+00 6.39856563e-05 8.19816213e-05]\n",
      " [6.39856563e-05 1.00002799e+00 2.79937247e-05]\n",
      " [8.19816213e-05 2.79937247e-05 1.00006998e+00]]\n",
      "\n",
      "k^* (1, 2):\n",
      "[[0.00602432 0.00240973 0.00361459]]\n",
      "[[-2.70054440e-05 -1.08025681e-05 -1.62015744e-05]]\n",
      "\n",
      "kappa^* (1, 2):\n",
      "[[-2712.03350485]]\n",
      "[[-1.21545443e-05]]\n"
     ]
    }
   ],
   "source": [
    "run_simulation(-5, 5, 1, 1000)"
   ]
  },
  {
   "cell_type": "code",
   "execution_count": 29,
   "id": "58fd6b44-8874-47d2-beeb-5eb9db2a0c39",
   "metadata": {},
   "outputs": [
    {
     "name": "stdout",
     "output_type": "stream",
     "text": [
      "ASYMMETRIC NETWORK\n",
      "Steady-State Opinions:\n",
      "[[-5.0000035]\n",
      " [-4.9999954]\n",
      " [-4.9999981]]\n",
      "Average of agendas:\n",
      "0.0\n",
      "\n",
      "K^* (1, 2):\n",
      "[[1.00015397e+00 6.39856563e-05 8.19816213e-05]\n",
      " [6.39856563e-05 1.00002799e+00 2.79937247e-05]\n",
      " [8.19816213e-05 2.79937247e-05 1.00006998e+00]]\n",
      "[[1.00000003e+00 1.42733246e-08 1.82892478e-08]\n",
      " [1.42733246e-08 1.00000001e+00 6.24447951e-09]\n",
      " [1.82892478e-08 6.24447951e-09 1.00000002e+00]]\n",
      "\n",
      "k^* (1, 2):\n",
      "[[2.70054440e-05 1.08025681e-05 1.62015744e-05]]\n",
      "[[-0.00602432 -0.00240973 -0.00361459]]\n",
      "\n",
      "kappa^* (1, 2):\n",
      "[[-1.21545443e-05]]\n",
      "[[-2712.03350485]]\n"
     ]
    }
   ],
   "source": [
    "run_simulation(-5, 5, 1000, 1)"
   ]
  },
  {
   "cell_type": "code",
   "execution_count": 30,
   "id": "8ad6dd74-31c2-4a76-ae15-e5eefe3e6aee",
   "metadata": {},
   "outputs": [
    {
     "name": "stdout",
     "output_type": "stream",
     "text": [
      "ASYMMETRIC NETWORK\n",
      "Steady-State Opinions:\n",
      "[[4.9999929]\n",
      " [4.9999929]\n",
      " [4.9999929]]\n",
      "Average of agendas:\n",
      "0.0\n",
      "\n",
      "K^* (1, 2):\n",
      "[[5.21556479 1.81677405 1.96363031]\n",
      " [1.81677405 1.78942114 0.81831451]\n",
      " [1.96363031 0.81831451 2.03577453]]\n",
      "[[6.42786721 2.34281075 2.51284358]\n",
      " [2.34281075 2.01770576 1.05650012]\n",
      " [2.51284358 1.05650012 2.2851345 ]]\n",
      "\n",
      "k^* (1, 2):\n",
      "[[45.75110679 19.85016436 20.7352036 ]]\n",
      "[[-5.90398047e-05 -2.56169394e-05 -2.67528069e-05]]\n",
      "\n",
      "kappa^* (1, 2):\n",
      "[[-312.81505181]]\n",
      "[[-3.56347462e-10]]\n"
     ]
    }
   ],
   "source": [
    "run_simulation(-5, 5, 0.001, 1)"
   ]
  },
  {
   "cell_type": "code",
   "execution_count": 31,
   "id": "f06431a8-caa1-4b45-b185-67d7b35f1480",
   "metadata": {},
   "outputs": [
    {
     "name": "stdout",
     "output_type": "stream",
     "text": [
      "ASYMMETRIC NETWORK\n",
      "Steady-State Opinions:\n",
      "[[-4.99998851]\n",
      " [-4.99998837]\n",
      " [-4.99998839]]\n",
      "Average of agendas:\n",
      "0.0\n",
      "\n",
      "K^* (1, 2):\n",
      "[[6.42786721 2.34281075 2.51284358]\n",
      " [2.34281075 2.01770576 1.05650012]\n",
      " [2.51284358 1.05650012 2.2851345 ]]\n",
      "[[5.21556479 1.81677405 1.96363031]\n",
      " [1.81677405 1.78942114 0.81831451]\n",
      " [1.96363031 0.81831451 2.03577453]]\n",
      "\n",
      "k^* (1, 2):\n",
      "[[5.90398047e-05 2.56169394e-05 2.67528069e-05]]\n",
      "[[-45.75110679 -19.85016436 -20.7352036 ]]\n",
      "\n",
      "kappa^* (1, 2):\n",
      "[[-3.56347462e-10]]\n",
      "[[-312.81505181]]\n"
     ]
    }
   ],
   "source": [
    "run_simulation(-5, 5, 1, 0.001)"
   ]
  },
  {
   "cell_type": "markdown",
   "id": "017e74b9-46ad-46ff-95a0-fdf3f361427c",
   "metadata": {},
   "source": [
    "Limit-wise, the opposite of the infinity case occurs when one of the weights is brought to zero, which is also intuitive."
   ]
  },
  {
   "cell_type": "code",
   "execution_count": 32,
   "id": "0aaa2509-b150-4f7a-948f-36c8fb9efbfb",
   "metadata": {},
   "outputs": [
    {
     "data": {
      "text/plain": [
       "<matplotlib.legend.Legend at 0x1f72fe3ec10>"
      ]
     },
     "execution_count": 32,
     "metadata": {},
     "output_type": "execute_result"
    },
    {
     "data": {
      "image/png": "[encoded data removed]",
      "text/plain": [
       "<Figure size 432x288 with 1 Axes>"
      ]
     },
     "metadata": {
      "needs_background": "light"
     },
     "output_type": "display_data"
    }
   ],
   "source": [
    "A_stubborn = np.array([ # this is symmetric\n",
    "    [0.9, 0.07, 0.03],\n",
    "    [0.07, 0.58, 0.35],\n",
    "    [0.03, 0.35, 0.62]\n",
    "])\n",
    "plt.plot(grid[-25:], [b[0][0] for b in [run_simple(A_stubborn, -5, 5, 1, g, delta = 0.5, print_ = False) for g in grid][-25:]], label = \"x_ss^1\")\n",
    "plt.legend()"
   ]
  },
  {
   "cell_type": "code",
   "execution_count": 33,
   "id": "7bd7d9f6-a347-4edf-a142-6e56f20c60da",
   "metadata": {},
   "outputs": [
    {
     "data": {
      "text/plain": [
       "<matplotlib.legend.Legend at 0x1f72ff320a0>"
      ]
     },
     "execution_count": 33,
     "metadata": {},
     "output_type": "execute_result"
    },
    {
     "data": {
      "image/png": "[encoded data removed]",
      "text/plain": [
       "<Figure size 432x288 with 1 Axes>"
      ]
     },
     "metadata": {
      "needs_background": "light"
     },
     "output_type": "display_data"
    }
   ],
   "source": [
    "plt.plot(grid[-25:], [b[0][0] for b in [run_simple(A_stubborn, -5, 5, 1, g, delta = 0.9, print_ = False) for g in grid][-25:]], label = \"x_ss^1\")\n",
    "plt.legend()"
   ]
  },
  {
   "cell_type": "code",
   "execution_count": 34,
   "id": "98686551-0b35-4371-834f-7a0fe83e387f",
   "metadata": {},
   "outputs": [
    {
     "data": {
      "text/plain": [
       "<matplotlib.legend.Legend at 0x1f72ffaddf0>"
      ]
     },
     "execution_count": 34,
     "metadata": {},
     "output_type": "execute_result"
    },
    {
     "data": {
      "image/png": "[encoded data removed]",
      "text/plain": [
       "<Figure size 432x288 with 1 Axes>"
      ]
     },
     "metadata": {
      "needs_background": "light"
     },
     "output_type": "display_data"
    }
   ],
   "source": [
    "A_stubborn_asymmetric = np.array([ # asymmetric\n",
    "    [0.6, 0.3, 0.1],\n",
    "    [0.4, 0.1, 0.5],\n",
    "    [0.5, 0.2, 0.3]\n",
    "])\n",
    "plt.plot(grid[-25:], [b[0][0] for b in [run_simple(A_stubborn_asymmetric, -5, 5, 1, g, delta = 0.5, print_ = False) for g in grid][-25:]], label = \"x_ss^1\")\n",
    "plt.legend()"
   ]
  },
  {
   "cell_type": "code",
   "execution_count": 35,
   "id": "40d87083-1a50-4527-81fb-1b3c7bfc88b6",
   "metadata": {},
   "outputs": [
    {
     "data": {
      "text/plain": [
       "<matplotlib.legend.Legend at 0x1f72fffa370>"
      ]
     },
     "execution_count": 35,
     "metadata": {},
     "output_type": "execute_result"
    },
    {
     "data": {
      "image/png": "[encoded data removed]",
      "text/plain": [
       "<Figure size 432x288 with 1 Axes>"
      ]
     },
     "metadata": {
      "needs_background": "light"
     },
     "output_type": "display_data"
    }
   ],
   "source": [
    "plt.plot(grid[-25:], [b[0][0] for b in [run_simple(A_stubborn_asymmetric, -5, 5, 1, g, delta = 0.9, print_ = False) for g in grid][-25:]], label = \"x_ss^1\")\n",
    "plt.legend()"
   ]
  },
  {
   "cell_type": "code",
   "execution_count": 36,
   "id": "a00a76a6-73e3-4697-94df-de4fdc3b8f7f",
   "metadata": {},
   "outputs": [
    {
     "data": {
      "text/plain": [
       "<matplotlib.legend.Legend at 0x1f72ffad670>"
      ]
     },
     "execution_count": 36,
     "metadata": {},
     "output_type": "execute_result"
    },
    {
     "data": {
      "image/png": "[encoded data removed]",
      "text/plain": [
       "<Figure size 432x288 with 1 Axes>"
      ]
     },
     "metadata": {
      "needs_background": "light"
     },
     "output_type": "display_data"
    }
   ],
   "source": [
    "plt.plot(grid, [b[0][0] for b in [run_simple(A_stubborn_asymmetric, -5, 5, 1, g, delta = 0.9, print_ = False) for g in grid]], label = \"x_ss^1\")\n",
    "plt.legend()"
   ]
  },
  {
   "cell_type": "markdown",
   "id": "4ce1056c-9a8b-484f-8973-5730dcd5710e",
   "metadata": {},
   "source": [
    "The behaviour occurs with high $\\delta$ in the asymmetric case."
   ]
  }
 ],
 "metadata": {
  "kernelspec": {
   "display_name": "Python 3",
   "language": "python",
   "name": "python3"
  },
  "language_info": {
   "codemirror_mode": {
    "name": "ipython",
    "version": 3
   },
   "file_extension": ".py",
   "mimetype": "text/x-python",
   "name": "python",
   "nbconvert_exporter": "python",
   "pygments_lexer": "ipython3",
   "version": "3.8.8"
  },
  "widgets": {
   "application/vnd.jupyter.widget-state+json": {
    "state": {},
    "version_major": 2,
    "version_minor": 0
   }
  }
 },
 "nbformat": 4,
 "nbformat_minor": 5
}
