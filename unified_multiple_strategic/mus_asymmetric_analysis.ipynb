{
 "cells": [
  {
   "cell_type": "markdown",
   "id": "parallel-physics",
   "metadata": {},
   "source": [
    "# Unified Model with Multiple Strategic Agents: Asymmetric Network Analysis\n",
    "\n",
    "James Yu, 13 November 2022"
   ]
  },
  {
   "cell_type": "code",
   "execution_count": 1,
   "id": "authorized-melissa",
   "metadata": {
    "tags": []
   },
   "outputs": [],
   "source": [
    "from collections import defaultdict\n",
    "import matplotlib.pyplot as plt\n",
    "import numpy as np"
   ]
  },
  {
   "cell_type": "code",
   "execution_count": 2,
   "id": "precise-trick",
   "metadata": {
    "tags": []
   },
   "outputs": [],
   "source": [
    "def M(K, B, R, L, delta):\n",
    "    \"\"\"Computes M_{t-1} given B_l \\forall l, K_t^l \\forall l, \n",
    "        R_l \\forall l, number of strategic agents L, and delta.\"\"\"\n",
    "    # handle the generic structure first, with the correct pairings:\n",
    "    base = [[B[l_prime].T @ K[l_prime] @ B[l] for l in range(L)] for l_prime in range(L)]\n",
    "    # then change the diagonals to construct M_{t-1}:\n",
    "    for l in range(L): base[l][l] = B[l].T @ K[l] @ B[l] + R[l]/delta\n",
    "    return np.block(base)\n",
    "\n",
    "def H(B, K, A, L):\n",
    "    \"\"\"Computes H_{t-1} given B_l \\forall l, K_t^l \\forall l, \n",
    "        A, and number of strategic agents L.\"\"\"\n",
    "    return np.concatenate(tuple(B[l].T @ K[l] @ A for l in range(L)), axis = 0)\n",
    "\n",
    "def C_l(A, B, K, k, h, L, c, x, n):\n",
    "    \"\"\"Computes C_{t-1}^h (displayed as C_{t-1}^l) given A, B_l \\forall l, K_t^l \\forall l, \n",
    "        k_t^l \\forall l, a specific naive agent h, number of strategic agents L, \n",
    "        c_l \\forall l, x_l \\forall l, and number of naive agents n\"\"\"\n",
    "    return np.concatenate(tuple(B[l].T @ K[l] @ A @ ((x[h] - x[l]) * np.ones((n, 1))) \n",
    "                           + B[l].T @ K[l] @ c[l] \n",
    "                           + 0.5 * B[l].T @ k[l].T for l in range(L)), axis = 0)\n",
    "\n",
    "def E(M_, H_):\n",
    "    \"\"\"Computes the generic E_{t-1} given M_{t-1} and H_{t-1}.\"\"\"\n",
    "    return np.linalg.inv(M_) @ H_\n",
    "\n",
    "def F(M_, C_l_, l, n):\n",
    "    \"\"\"Computes F_{t-1}^l given M_{t-1}, C_{t-1}^l, \n",
    "       specific naive agent l and number of naive agents n.\"\"\"\n",
    "    return (np.linalg.inv(M_) @ C_l_)[l*n:(l+1)*n, :] # e.g. l = 0 gives ln = 0, l = 1 gives ln = n, etc\n",
    "\n",
    "def G(A, B, E_, L, n):\n",
    "    \"\"\"Computes the generic G_{t-1} given A, B_l \\forall l, \n",
    "        E_{t-1}, number of strategic agents L, and number of naive agents n.\"\"\"\n",
    "    return A - sum([B[l] @ E_[l*n:(l+1)*n, :] for l in range(L)])\n",
    "    \n",
    "def g_l(B, E_, h, x, F_, L, n, c):\n",
    "    \"\"\"Computes g_{t-1}^l given B_l \\forall l, E_{t-1}^l, \n",
    "        a particular naive agent h, x_l \\forall l, F_{t-1}^l \\forall l, \n",
    "        number of strategic agents L, number of naive agents n, and c_h.\"\"\"\n",
    "    return - sum([B[l] @ (E_[l*n:(l+1)*n, :] @ ((x[h] - x[l]) * np.ones((n, 1))) + F_[l]) for l in range(L)]) + c[h]"
   ]
  },
  {
   "cell_type": "code",
   "execution_count": 3,
   "id": "forced-trunk",
   "metadata": {},
   "outputs": [],
   "source": [
    "def K_t_minus_1(Q, K, E_, R, G_, L, delta, n):\n",
    "    return [Q[l] + E_[l*n:(l+1)*n, :].T @ R[l] @ E_[l*n:(l+1)*n, :] \n",
    "            + delta * G_.T @ K[l] @ G_ for l in range(L)]\n",
    "\n",
    "def k_t_minus_1(K, k, G_, g, E_, F_, R, L, delta, n):\n",
    "    return [2*delta* g[l].T @ K[l] @ G_ + delta * k[l] @ G_ \n",
    "            + 2 * F_[l].T @ R[l] @ E_[l*n:(l+1)*n, :] for l in range(L)]\n",
    "\n",
    "def kappa_t_minus_1(K, k, kappa, g_, F_, R, L, delta):            \n",
    "    return [-delta * (g_[l].T @ K[l] @ g_[l] + k[l] @ g_[l] - kappa[l]) \n",
    "            - (F_[l].T @ R[l] @ F_[l]) for l in range(L)]"
   ]
  },
  {
   "cell_type": "code",
   "execution_count": 4,
   "id": "pleased-criterion",
   "metadata": {
    "tags": []
   },
   "outputs": [],
   "source": [
    "def solve(K_t, k_t, kappa_t, A, B, delta, n, L, Q, R, x, c, tol = 300):\n",
    "    historical_K = [K_t]\n",
    "    historical_k = [k_t]\n",
    "    historical_kappa = [kappa_t]\n",
    "    max_distances = defaultdict(list)\n",
    "    counter = 0\n",
    "    while True:\n",
    "        M_ = M(K_t, B, R, L, delta)\n",
    "        H_ = H(B, K_t, A, L)\n",
    "        E_ = E(M_, H_)\n",
    "        G_ = G(A, B, E_, L, n)\n",
    "        K_new = K_t_minus_1(Q, K_t, E_, R, G_, L, delta, n)\n",
    "        F_ = [F(M_, C_l(A, B, K_t, k_t, l, L, c, x, n), l, n) for l in range(L)]\n",
    "        g = [g_l(B, E_, h, x, F_, L, n, c) for h in range(L)]\n",
    "        k_new = k_t_minus_1(K_t, k_t, G_, g, E_, F_, R, L, delta, n)\n",
    "        kappa_new = kappa_t_minus_1(K_t, k_t, kappa_t, g, F_, R, L, delta)\n",
    "        cd_K = [np.max(np.abs(K_t[l] - K_new[l])) for l in range(L)]\n",
    "        cd_k = [np.max(np.abs(k_t[l] - k_new[l])) for l in range(L)]\n",
    "        cd_kappa = [np.max(np.abs(kappa_t[l] - kappa_new[l])) for l in range(L)]\n",
    "        K_t = K_new\n",
    "        k_t = k_new\n",
    "        kappa_t = kappa_new\n",
    "        historical_K.insert(0, K_t)\n",
    "        historical_k.insert(0, k_t)\n",
    "        historical_kappa.insert(0, kappa_t)\n",
    "        for l in range(L):\n",
    "            max_distances[(l+1, \"K\")].append(cd_K[l])\n",
    "            max_distances[(l+1, \"k\")].append(cd_k[l])\n",
    "            max_distances[(l+1, \"kappa\")].append(cd_kappa[l])\n",
    "        counter += 1\n",
    "        if sum(cd_K + cd_k + cd_kappa) == 0 or counter > tol:\n",
    "            return max_distances, historical_K, historical_k, historical_kappa"
   ]
  },
  {
   "cell_type": "code",
   "execution_count": 5,
   "id": "unlimited-jamaica",
   "metadata": {},
   "outputs": [],
   "source": [
    "def optimal(X_init, historical_K, historical_k, historical_kappa, A, B, delta, n, L, Q, R, x, c, infinite = True):\n",
    "    X_t = [a.copy() for a in X_init]\n",
    "    xs = defaultdict(list)\n",
    "    for l in range(L):\n",
    "        xs[l].append(X_t[l])\n",
    "        \n",
    "    rs = defaultdict(list)\n",
    "    payoffs = defaultdict(list)\n",
    "    payoff = defaultdict(lambda: 0)\n",
    "    i = 0\n",
    "    while [i < len(historical_K), True][infinite]:\n",
    "        K_t = historical_K[[i, 0][infinite]]\n",
    "        k_t = historical_k[[i, 0][infinite]]\n",
    "        M_ = M(K_t, B, R, L, delta)\n",
    "        H_ = H(B, K_t, A, L)\n",
    "        E_ = E(M_, H_)\n",
    "        G_ = G(A, B, E_, L, n)\n",
    "        F_ = [F(M_, C_l(A, B, K_t, k_t, l, L, c, x, n), l, n) for l in range(L)]\n",
    "        g = [g_l(B, E_, h, x, F_, L, n, c) for h in range(L)]\n",
    "        for l in range(L):\n",
    "            # TODO: special code for finite horizon needs a terminal time T term\n",
    "            Y_new = -1 * E_[l*n:(l+1)*n, :] @ X_t[l] - F(M_, C_l(A, B, K_t, k_t, l, L, c, x, n), l, n)\n",
    "            rs[l].append(Y_new)\n",
    "            payoff[l] += (-1 * delta**i * (X_t[l].T @ Q[l] @ X_t[l])).item() + (-1 * delta**i * (Y_new.T @ R[l] @ Y_new)).item()\n",
    "            payoffs[l].append(payoff[l])\n",
    "            X_new = G_ @ X_t[l] + g[l]\n",
    "            xs[l].append(X_new)\n",
    "            if infinite == True and np.max(X_t[l] - X_new) == 0 and l == L - 1:\n",
    "                return xs, rs, payoffs\n",
    "            X_t[l] = X_new \n",
    "        i += 1\n",
    "        \n",
    "    return xs, rs, payoffs"
   ]
  },
  {
   "cell_type": "markdown",
   "id": "c1cfd796-8af4-42d2-8f2f-f14217ab1884",
   "metadata": {},
   "source": [
    "The objective is to determine whether the agenda-averaging property of the limit opinions continues to hold with asymmetric networks."
   ]
  },
  {
   "cell_type": "code",
   "execution_count": 6,
   "id": "synthetic-promotion",
   "metadata": {},
   "outputs": [],
   "source": [
    "def run_simulation(b, symmetric = True):\n",
    "    if symmetric:\n",
    "        A = np.array([ # stubborn\n",
    "            [0.9, 0.07, 0.03],\n",
    "            [0.07, 0.58, 0.35],\n",
    "            [0.03, 0.35, 0.62]\n",
    "        ])\n",
    "        print(\"SYMMETRIC NETWORK\")\n",
    "    else:\n",
    "        A = np.array([ # asymmetric\n",
    "            [0.6, 0.3, 0.1],\n",
    "            [0.4, 0.1, 0.5],\n",
    "            [0.5, 0.2, 0.3]\n",
    "        ])\n",
    "        print(\"ASYMMETRIC NETWORK\")\n",
    "    X_0_1 = np.array([[10.0, -5.0, 5.0]], ndmin = 2).T\n",
    "    X_0 = [X_0_1, X_0_1 - b]\n",
    "    delta = 0.9 # discount rate\n",
    "    n = 3 # number of naive agents\n",
    "    L = 2 # number of strategic agents\n",
    "    Q = [np.identity(n), np.identity(n)] # objective function for messages is just X'IX = X'X\n",
    "    R = [200 * np.identity(n), 200 * np.identity(n)] # message cost R = cI_n for some c under the new notation\n",
    "    B = [np.identity(n), np.identity(n)] # direct message broadcasting\n",
    "    x = [0, b] # agendas\n",
    "    r = [0, 0] # message cost minimality is centered around zero\n",
    "    c_base = sum([B[l] @ (r[l] * np.ones((n, 1))) for l in range(L)])\n",
    "    c = [c_base + (A - np.identity(n)) @ (x[l] * np.ones((n, 1))) for l in range(L)] # normalization vector\n",
    "    max_distances, historical_K, historical_k, historical_kappa = solve(Q, [np.zeros((1, n)), np.zeros((1, n))], [0, 0], A, B, delta, n, L, Q, R, x, c, tol = 1000)\n",
    "    xs, rs, payoffs = optimal(X_0, historical_K, historical_k, historical_kappa, A, B, delta, n, L, Q, R, x, c)\n",
    "    print(\"Steady-State Opinions:\")\n",
    "    print(xs[0][-1])\n",
    "    print(\"Average of agendas:\")\n",
    "    print(b/2)\n",
    "    print()\n",
    "    print(\"K^* (1, 2):\")\n",
    "    print(historical_K[0][0])\n",
    "    print(historical_K[0][1])\n",
    "    print()\n",
    "    print(\"k^* (1, 2):\")\n",
    "    print(historical_k[0][0])\n",
    "    print(\"sum:\", sum(historical_k[0][0][0]))\n",
    "    print(historical_k[0][1])\n",
    "    print(\"sum:\", sum(historical_k[0][1][0]))\n",
    "    print()\n",
    "    print(\"kappa^* (1, 2):\")\n",
    "    print(historical_kappa[0][0])\n",
    "    print(historical_kappa[0][1])"
   ]
  },
  {
   "cell_type": "markdown",
   "id": "b209b591-ef8c-491b-aa35-4855fbe94664",
   "metadata": {},
   "source": [
    "## Symmetric Runs:"
   ]
  },
  {
   "cell_type": "code",
   "execution_count": 7,
   "id": "9c111827-3206-4a7d-900b-0c26d90d74f6",
   "metadata": {},
   "outputs": [
    {
     "name": "stdout",
     "output_type": "stream",
     "text": [
      "SYMMETRIC NETWORK\n",
      "Steady-State Opinions:\n",
      "[[2.5]\n",
      " [2.5]\n",
      " [2.5]]\n",
      "Average of agendas:\n",
      "2.5\n",
      "\n",
      "K^* (1, 2):\n",
      "[[3.78777267 1.14352889 1.03448866]\n",
      " [1.14352889 2.91545084 1.90681049]\n",
      " [1.03448866 1.90681049 3.02449107]]\n",
      "[[3.78777267 1.14352889 1.03448866]\n",
      " [1.14352889 2.91545084 1.90681049]\n",
      " [1.03448866 1.90681049 3.02449107]]\n",
      "\n",
      "k^* (1, 2):\n",
      "[[10.8445118 10.8445118 10.8445118]]\n",
      "sum: 32.53353540958234\n",
      "[[-10.8445118 -10.8445118 -10.8445118]]\n",
      "sum: -32.53353540958234\n",
      "\n",
      "kappa^* (1, 2):\n",
      "[[-44.55788635]]\n",
      "[[-44.55788635]]\n"
     ]
    }
   ],
   "source": [
    "run_simulation(5)"
   ]
  },
  {
   "cell_type": "code",
   "execution_count": 8,
   "id": "1a63bc40-9710-4671-a742-a170de631fda",
   "metadata": {},
   "outputs": [
    {
     "name": "stdout",
     "output_type": "stream",
     "text": [
      "SYMMETRIC NETWORK\n",
      "Steady-State Opinions:\n",
      "[[3.]\n",
      " [3.]\n",
      " [3.]]\n",
      "Average of agendas:\n",
      "3.0\n",
      "\n",
      "K^* (1, 2):\n",
      "[[3.78777267 1.14352889 1.03448866]\n",
      " [1.14352889 2.91545084 1.90681049]\n",
      " [1.03448866 1.90681049 3.02449107]]\n",
      "[[3.78777267 1.14352889 1.03448866]\n",
      " [1.14352889 2.91545084 1.90681049]\n",
      " [1.03448866 1.90681049 3.02449107]]\n",
      "\n",
      "k^* (1, 2):\n",
      "[[13.01341416 13.01341416 13.01341416]]\n",
      "sum: 39.04024249149883\n",
      "[[-13.01341416 -13.01341416 -13.01341416]]\n",
      "sum: -39.04024249149887\n",
      "\n",
      "kappa^* (1, 2):\n",
      "[[-64.16335634]]\n",
      "[[-64.16335634]]\n"
     ]
    }
   ],
   "source": [
    "run_simulation(6)"
   ]
  },
  {
   "cell_type": "code",
   "execution_count": 9,
   "id": "d41cd825-2bea-4724-9070-a9803639257e",
   "metadata": {},
   "outputs": [
    {
     "name": "stdout",
     "output_type": "stream",
     "text": [
      "SYMMETRIC NETWORK\n",
      "Steady-State Opinions:\n",
      "[[364.]\n",
      " [364.]\n",
      " [364.]]\n",
      "Average of agendas:\n",
      "364.0\n",
      "\n",
      "K^* (1, 2):\n",
      "[[3.78777267 1.14352889 1.03448866]\n",
      " [1.14352889 2.91545084 1.90681049]\n",
      " [1.03448866 1.90681049 3.02449107]]\n",
      "[[3.78777267 1.14352889 1.03448866]\n",
      " [1.14352889 2.91545084 1.90681049]\n",
      " [1.03448866 1.90681049 3.02449107]]\n",
      "\n",
      "k^* (1, 2):\n",
      "[[1578.96091855 1578.96091855 1578.96091855]]\n",
      "sum: 4736.88275563519\n",
      "[[-1578.96091855 -1578.96091855 -1578.96091855]]\n",
      "sum: -4736.882755635193\n",
      "\n",
      "kappa^* (1, 2):\n",
      "[[-944598.67355035]]\n",
      "[[-944598.67355036]]\n"
     ]
    }
   ],
   "source": [
    "run_simulation(728)"
   ]
  },
  {
   "cell_type": "code",
   "execution_count": 10,
   "id": "777d0059-9300-44bf-bfb1-8c0414d32e57",
   "metadata": {},
   "outputs": [
    {
     "name": "stdout",
     "output_type": "stream",
     "text": [
      "SYMMETRIC NETWORK\n",
      "Steady-State Opinions:\n",
      "[[-317.]\n",
      " [-317.]\n",
      " [-317.]]\n",
      "Average of agendas:\n",
      "-317.0\n",
      "\n",
      "K^* (1, 2):\n",
      "[[3.78777267 1.14352889 1.03448866]\n",
      " [1.14352889 2.91545084 1.90681049]\n",
      " [1.03448866 1.90681049 3.02449107]]\n",
      "[[3.78777267 1.14352889 1.03448866]\n",
      " [1.14352889 2.91545084 1.90681049]\n",
      " [1.03448866 1.90681049 3.02449107]]\n",
      "\n",
      "k^* (1, 2):\n",
      "[[-1375.08409665 -1375.08409665 -1375.08409665]]\n",
      "sum: -4125.2522899350415\n",
      "[[1375.08409665 1375.08409665 1375.08409665]]\n",
      "sum: 4125.252289935046\n",
      "\n",
      "kappa^* (1, 2):\n",
      "[[-716412.39061105]]\n",
      "[[-716412.39061105]]\n"
     ]
    }
   ],
   "source": [
    "run_simulation(-634)"
   ]
  },
  {
   "cell_type": "code",
   "execution_count": 11,
   "id": "1da19dc1-1006-4a1d-80c3-6c121b936181",
   "metadata": {},
   "outputs": [
    {
     "name": "stdout",
     "output_type": "stream",
     "text": [
      "SYMMETRIC NETWORK\n",
      "Steady-State Opinions:\n",
      "[[1.3e-322]\n",
      " [1.3e-322]\n",
      " [1.3e-322]]\n",
      "Average of agendas:\n",
      "0.0\n",
      "\n",
      "K^* (1, 2):\n",
      "[[3.78777267 1.14352889 1.03448866]\n",
      " [1.14352889 2.91545084 1.90681049]\n",
      " [1.03448866 1.90681049 3.02449107]]\n",
      "[[3.78777267 1.14352889 1.03448866]\n",
      " [1.14352889 2.91545084 1.90681049]\n",
      " [1.03448866 1.90681049 3.02449107]]\n",
      "\n",
      "k^* (1, 2):\n",
      "[[0. 0. 0.]]\n",
      "sum: 0.0\n",
      "[[0. 0. 0.]]\n",
      "sum: 0.0\n",
      "\n",
      "kappa^* (1, 2):\n",
      "[[-0.]]\n",
      "[[-0.]]\n"
     ]
    }
   ],
   "source": [
    "run_simulation(0)"
   ]
  },
  {
   "cell_type": "markdown",
   "id": "ab184066-108a-4867-81a7-6dc43b9540e4",
   "metadata": {},
   "source": [
    "## Asymmetric Runs:"
   ]
  },
  {
   "cell_type": "code",
   "execution_count": 12,
   "id": "8d049bf4-d984-4927-9b5f-70473a40e418",
   "metadata": {},
   "outputs": [
    {
     "name": "stdout",
     "output_type": "stream",
     "text": [
      "ASYMMETRIC NETWORK\n",
      "Steady-State Opinions:\n",
      "[[2.5]\n",
      " [2.5]\n",
      " [2.5]]\n",
      "Average of agendas:\n",
      "2.5\n",
      "\n",
      "K^* (1, 2):\n",
      "[[4.97479444 1.71234484 1.85435939]\n",
      " [1.71234484 1.74409832 0.77104524]\n",
      " [1.85435939 0.77104524 1.98564254]]\n",
      "[[4.97479444 1.71234484 1.85435939]\n",
      " [1.71234484 1.74409832 0.77104524]\n",
      " [1.85435939 0.77104524 1.98564254]]\n",
      "\n",
      "k^* (1, 2):\n",
      "[[17.627771    7.64775173  7.99120817]]\n",
      "sum: 33.266730896574884\n",
      "[[-17.627771    -7.64775173  -7.99120817]]\n",
      "sum: -33.26673089657485\n",
      "\n",
      "kappa^* (1, 2):\n",
      "[[-50.71519228]]\n",
      "[[-50.71519228]]\n"
     ]
    }
   ],
   "source": [
    "run_simulation(5, symmetric = False)"
   ]
  },
  {
   "cell_type": "code",
   "execution_count": 13,
   "id": "f115da03-2f5d-4e0e-be66-d63602f51bd7",
   "metadata": {},
   "outputs": [
    {
     "name": "stdout",
     "output_type": "stream",
     "text": [
      "ASYMMETRIC NETWORK\n",
      "Steady-State Opinions:\n",
      "[[3.]\n",
      " [3.]\n",
      " [3.]]\n",
      "Average of agendas:\n",
      "3.0\n",
      "\n",
      "K^* (1, 2):\n",
      "[[4.97479444 1.71234484 1.85435939]\n",
      " [1.71234484 1.74409832 0.77104524]\n",
      " [1.85435939 0.77104524 1.98564254]]\n",
      "[[4.97479444 1.71234484 1.85435939]\n",
      " [1.71234484 1.74409832 0.77104524]\n",
      " [1.85435939 0.77104524 1.98564254]]\n",
      "\n",
      "k^* (1, 2):\n",
      "[[21.1533252   9.17730208  9.5894498 ]]\n",
      "sum: 39.92007707588985\n",
      "[[-21.1533252   -9.17730208  -9.5894498 ]]\n",
      "sum: -39.92007707588985\n",
      "\n",
      "kappa^* (1, 2):\n",
      "[[-73.02987688]]\n",
      "[[-73.02987688]]\n"
     ]
    }
   ],
   "source": [
    "run_simulation(6, symmetric = False)"
   ]
  },
  {
   "cell_type": "code",
   "execution_count": 14,
   "id": "4a29165f-187e-434d-9518-7b85ff33ab48",
   "metadata": {},
   "outputs": [
    {
     "name": "stdout",
     "output_type": "stream",
     "text": [
      "ASYMMETRIC NETWORK\n",
      "Steady-State Opinions:\n",
      "[[364.]\n",
      " [364.]\n",
      " [364.]]\n",
      "Average of agendas:\n",
      "364.0\n",
      "\n",
      "K^* (1, 2):\n",
      "[[4.97479444 1.71234484 1.85435939]\n",
      " [1.71234484 1.74409832 0.77104524]\n",
      " [1.85435939 0.77104524 1.98564254]]\n",
      "[[4.97479444 1.71234484 1.85435939]\n",
      " [1.71234484 1.74409832 0.77104524]\n",
      " [1.85435939 0.77104524 1.98564254]]\n",
      "\n",
      "k^* (1, 2):\n",
      "[[2566.60345742 1113.51265186 1163.51990926]]\n",
      "sum: 4843.636018541301\n",
      "[[-2566.60345742 -1113.51265186 -1163.51990926]]\n",
      "sum: -4843.6360185413\n",
      "\n",
      "kappa^* (1, 2):\n",
      "[[-1075129.6185127]]\n",
      "[[-1075129.6185127]]\n"
     ]
    }
   ],
   "source": [
    "run_simulation(728, symmetric = False)"
   ]
  },
  {
   "cell_type": "code",
   "execution_count": 15,
   "id": "05137f67-c434-4ed5-be3a-adee071d58ab",
   "metadata": {},
   "outputs": [
    {
     "name": "stdout",
     "output_type": "stream",
     "text": [
      "ASYMMETRIC NETWORK\n",
      "Steady-State Opinions:\n",
      "[[-317.]\n",
      " [-317.]\n",
      " [-317.]]\n",
      "Average of agendas:\n",
      "-317.0\n",
      "\n",
      "K^* (1, 2):\n",
      "[[4.97479444 1.71234484 1.85435939]\n",
      " [1.71234484 1.74409832 0.77104524]\n",
      " [1.85435939 0.77104524 1.98564254]]\n",
      "[[4.97479444 1.71234484 1.85435939]\n",
      " [1.71234484 1.74409832 0.77104524]\n",
      " [1.85435939 0.77104524 1.98564254]]\n",
      "\n",
      "k^* (1, 2):\n",
      "[[-2235.20136264  -969.73491934 -1013.2851957 ]]\n",
      "sum: -4218.2214776856945\n",
      "[[2235.20136264  969.73491934 1013.2851957 ]]\n",
      "sum: 4218.221477685696\n",
      "\n",
      "kappa^* (1, 2):\n",
      "[[-815411.03304796]]\n",
      "[[-815411.03304796]]\n"
     ]
    }
   ],
   "source": [
    "run_simulation(-634, symmetric = False)"
   ]
  },
  {
   "cell_type": "code",
   "execution_count": 16,
   "id": "c01a1eea-66ed-46b8-bd2c-dca2be3d09e4",
   "metadata": {},
   "outputs": [
    {
     "name": "stdout",
     "output_type": "stream",
     "text": [
      "ASYMMETRIC NETWORK\n",
      "Steady-State Opinions:\n",
      "[[5.e-323]\n",
      " [5.e-323]\n",
      " [5.e-323]]\n",
      "Average of agendas:\n",
      "0.0\n",
      "\n",
      "K^* (1, 2):\n",
      "[[4.97479444 1.71234484 1.85435939]\n",
      " [1.71234484 1.74409832 0.77104524]\n",
      " [1.85435939 0.77104524 1.98564254]]\n",
      "[[4.97479444 1.71234484 1.85435939]\n",
      " [1.71234484 1.74409832 0.77104524]\n",
      " [1.85435939 0.77104524 1.98564254]]\n",
      "\n",
      "k^* (1, 2):\n",
      "[[0. 0. 0.]]\n",
      "sum: 0.0\n",
      "[[0. 0. 0.]]\n",
      "sum: 0.0\n",
      "\n",
      "kappa^* (1, 2):\n",
      "[[-0.]]\n",
      "[[-0.]]\n"
     ]
    }
   ],
   "source": [
    "run_simulation(0, symmetric = False)"
   ]
  },
  {
   "cell_type": "markdown",
   "id": "2d306a4b-613b-4de0-9262-9dd5581d94d6",
   "metadata": {},
   "source": [
    "Note that, again, $5e-323$ is $5\\cdot 10^{-323}$ in scientific notation, which is zero when accounting for floating-point error."
   ]
  },
  {
   "cell_type": "markdown",
   "id": "479c4a46-e651-4e32-b9dc-4c2c6e4f20ee",
   "metadata": {},
   "source": [
    "From this we observe that the opinions continue to be the average of the agendas. The $k$ steady-state matrix for a given agent is the negative of the opponent's $k$ matrix."
   ]
  }
 ],
 "metadata": {
  "kernelspec": {
   "display_name": "Python 3",
   "language": "python",
   "name": "python3"
  },
  "language_info": {
   "codemirror_mode": {
    "name": "ipython",
    "version": 3
   },
   "file_extension": ".py",
   "mimetype": "text/x-python",
   "name": "python",
   "nbconvert_exporter": "python",
   "pygments_lexer": "ipython3",
   "version": "3.8.8"
  },
  "widgets": {
   "application/vnd.jupyter.widget-state+json": {
    "state": {},
    "version_major": 2,
    "version_minor": 0
   }
  }
 },
 "nbformat": 4,
 "nbformat_minor": 5
}
