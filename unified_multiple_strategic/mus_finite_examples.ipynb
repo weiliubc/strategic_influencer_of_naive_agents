{
 "cells": [
  {
   "cell_type": "markdown",
   "id": "16a02400-8a4e-4233-b8c5-d11e8d87543d",
   "metadata": {},
   "source": [
    "# More Finite-Horizon Results\n",
    "#### Unified Model with Multiple Strategic Agents\n",
    "\n",
    "James Yu, 20 December 2022"
   ]
  },
  {
   "cell_type": "code",
   "execution_count": 1,
   "id": "98409641-fce6-4df3-ae16-0feca4ea34a5",
   "metadata": {},
   "outputs": [],
   "source": [
    "from collections import namedtuple #,defaultdict\n",
    "import matplotlib.pyplot as plt\n",
    "import numpy as np\n",
    "from numpy.linalg import inv as npinv\n",
    "from numpy.linalg import matrix_power as nppow"
   ]
  },
  {
   "cell_type": "code",
   "execution_count": 2,
   "id": "a19a38c4-1ce0-437b-812a-30cb8e3290fe",
   "metadata": {},
   "outputs": [],
   "source": [
    "def finite_solution(A, delta, c, T, x_0, M = 1):\n",
    "    n = len(x_0)\n",
    "    eps = np.finfo(np.float64).eps\n",
    "    I = np.identity(n)\n",
    "    eigvals, U = np.linalg.eig(A)\n",
    "    chi_0 = U.T @ x_0\n",
    "    D = np.diag(eigvals)\n",
    "    K_t = I\n",
    "    K_sequence = [K_t]\n",
    "    \n",
    "    for i in range(T): # generate solution matrices\n",
    "        K_t_new = I + c * delta * (delta * K_t + c * I) @ nppow(npinv(M * delta * K_t + c * I), 2) @ K_t @ nppow(D, 2)\n",
    "        K_sequence.insert(0, K_t_new)\n",
    "        #if np.allclose(K_t, K_t_new, rtol = eps, atol = eps) and i >= T: break\n",
    "        K_t = K_t_new\n",
    "\n",
    "    chi_ts = [chi_0]\n",
    "    chi_var = chi_0\n",
    "    gamma_ts = []\n",
    "    L_ts = []\n",
    "    #K_ss = K_sequence[0]\n",
    "    #L_ss = -inv(B.T @ K_ss @ B + c * I / delta) @ B.T @ K_ss @ A\n",
    "    \n",
    "    payoff = 0\n",
    "    stage_payoffs = []\n",
    "    discounted_stage_payoffs = []\n",
    "    cumulative_payoffs = []\n",
    "\n",
    "    for i, K in enumerate(K_sequence[1:]): # while True\n",
    "        L_t = -delta * npinv(c * I + M * delta * K) @ K @ D\n",
    "        L_ts.append(L_t)\n",
    "        gamma_t = L_t @ chi_var\n",
    "        gamma_ts.append(gamma_t)\n",
    "        p = -(chi_var.T @ chi_var + c * gamma_t.T @ gamma_t).item()\n",
    "        payoff += delta**i * p\n",
    "        stage_payoffs.append(p)\n",
    "        discounted_stage_payoffs.append(delta**i * p)\n",
    "        cumulative_payoffs.append(payoff)\n",
    "        chi_var_new = D @ chi_var + M * gamma_t\n",
    "        chi_ts.append(chi_var_new)\n",
    "        #if np.allclose(chi_var, chi_var_new, rtol = eps, atol = eps): break\n",
    "        chi_var = chi_var_new\n",
    "        # i += 1\n",
    "    \n",
    "    # NOTE: missing final time T payoff term; payoffs cannot be interpreted unless added in the future\n",
    "        \n",
    "    Results = namedtuple(\"Results\", [\"chi_ts\", \"gamma_ts\", \"K_ts\", \"L_ts\"])\n",
    "    return Results(chi_ts, gamma_ts, K_sequence, L_ts)#, K_ss, L_ss"
   ]
  },
  {
   "cell_type": "markdown",
   "id": "025db117-9db8-4e16-8603-753e01948f9c",
   "metadata": {},
   "source": [
    "Original example:"
   ]
  },
  {
   "cell_type": "code",
   "execution_count": 3,
   "id": "39b8e45f-dff6-408a-a2b3-940cd180cf0b",
   "metadata": {},
   "outputs": [
    {
     "name": "stdout",
     "output_type": "stream",
     "text": [
      "Index 1 Index 2\n",
      "1.0613566391677058 1.0393063358102146\n",
      "1.0613566403747612 1.0393063360172352\n",
      "1.0613561910770124 1.0393062166883937\n",
      "1.0615234375 1.039375\n",
      "1.0 1.0\n"
     ]
    }
   ],
   "source": [
    "A = np.array([\n",
    "    [0.9, 0.1],\n",
    "    [0.1, 0.9]\n",
    "])\n",
    "delta = 0.9\n",
    "c = 0.5\n",
    "T = 5-1\n",
    "x_0 = np.array([[1.0, 1.0]], ndmin = 2).T\n",
    "M = 3\n",
    "result = finite_solution(A, delta, c, T, x_0, M = M)\n",
    "# K_t results\n",
    "print(\"Index 1 Index 2\")\n",
    "for K in result.K_ts:\n",
    "    print(K[0, 0], K[1, 1])"
   ]
  },
  {
   "cell_type": "code",
   "execution_count": 4,
   "id": "5404c645-45f8-40a2-b358-7433916332d9",
   "metadata": {},
   "outputs": [
    {
     "name": "stdout",
     "output_type": "stream",
     "text": [
      "Index 1 Index 2\n",
      "3.1840699175031175 3.1179190074306438\n",
      "3.1840699211242836 3.1179190080517056\n",
      "3.184068573231037 3.117918650065181\n",
      "3.1845703125 3.118125\n",
      "3.0 3.0\n"
     ]
    }
   ],
   "source": [
    "# MK_t results\n",
    "print(\"Index 1 Index 2\")\n",
    "for K in result.K_ts:\n",
    "    print(3 * K[0, 0], 3 * K[1, 1])"
   ]
  },
  {
   "cell_type": "code",
   "execution_count": 5,
   "id": "720a1af7-2f8a-4b32-b5c5-367fb457b474",
   "metadata": {},
   "outputs": [
    {
     "name": "stdout",
     "output_type": "stream",
     "text": [
      "Index 1 Index 2\n",
      "-0.2838136190357405 -0.22633750538273212\n",
      "-0.2838136011870781 -0.22633750145258447\n",
      "-0.28382024427746677 -0.22633976673408818\n",
      "-0.28125 -0.225\n"
     ]
    }
   ],
   "source": [
    "# L_t results\n",
    "print(\"Index 1 Index 2\")\n",
    "for L in result.L_ts:\n",
    "    print(L[0, 0], L[1, 1])"
   ]
  },
  {
   "cell_type": "code",
   "execution_count": 6,
   "id": "32064838-8fe2-412b-bf65-11b106241943",
   "metadata": {},
   "outputs": [
    {
     "name": "stdout",
     "output_type": "stream",
     "text": [
      "[[1.]\n",
      " [1.]]\n",
      "\n",
      "[[0.14855914]\n",
      " [0.14855914]]\n",
      "\n",
      "[[0.02206983]\n",
      " [0.02206983]]\n",
      "\n",
      "[[0.00327824]\n",
      " [0.00327824]]\n",
      "\n",
      "[[0.00051222]\n",
      " [0.00051222]]\n",
      "\n"
     ]
    }
   ],
   "source": [
    "# opinions\n",
    "eigvals, U = np.linalg.eig(A)\n",
    "for chi_t in result.chi_ts:\n",
    "    print(U @ chi_t)\n",
    "    print()"
   ]
  },
  {
   "cell_type": "markdown",
   "id": "a88270bf-980b-4bf3-a0c3-e605dbb49e78",
   "metadata": {},
   "source": [
    "Since the recursive equation forms do not depend on $T$, we will not see any changes if we reduce $T$."
   ]
  },
  {
   "cell_type": "code",
   "execution_count": 7,
   "id": "255b8dab-7ef9-4d60-8a21-0d0ce0786bc6",
   "metadata": {},
   "outputs": [
    {
     "name": "stdout",
     "output_type": "stream",
     "text": [
      "Index 1 Index 2\n",
      "[1.0613566391677058, 1.0445711865173006, 1.0037835007745688]\n",
      "[1.0613566403747612, 1.044571186858177, 1.003783500774587]\n",
      "[1.0613561910770126, 1.0445710132679178, 1.0037835006667668]\n",
      "[1.0615234375, 1.044659415092354, 1.003784139595146]\n",
      "[1.0, 1.0, 1.0]\n"
     ]
    }
   ],
   "source": [
    "A_symmetric = np.array([ # stubborn\n",
    "    [0.9, 0.07, 0.03],\n",
    "    [0.07, 0.58, 0.35],\n",
    "    [0.03, 0.35, 0.62]\n",
    "])\n",
    "result_stubborn = finite_solution(A_symmetric, delta, c, T, np.array([[1.0, 1.0, 1.0]], ndmin = 2).T, M = M)\n",
    "# K_t results\n",
    "print(\"Index 1 Index 2\")\n",
    "for K in result_stubborn.K_ts:\n",
    "    print([K[0, 0], K[1, 1], K[2, 2]])"
   ]
  },
  {
   "cell_type": "code",
   "execution_count": 8,
   "id": "9106f09b-11a0-41e2-919b-4ff9456e5381",
   "metadata": {},
   "outputs": [
    {
     "data": {
      "text/plain": [
       "array([[ True,  True,  True],\n",
       "       [ True,  True,  True],\n",
       "       [ True,  True,  True]])"
      ]
     },
     "execution_count": 8,
     "metadata": {},
     "output_type": "execute_result"
    }
   ],
   "source": [
    "result_stubborn.K_ts[0] <= result_stubborn.K_ts[1] # t = 0 vs t = 1, etc"
   ]
  },
  {
   "cell_type": "code",
   "execution_count": 9,
   "id": "0293d0e4-1e91-43e4-9540-5701ec451b26",
   "metadata": {},
   "outputs": [
    {
     "data": {
      "text/plain": [
       "array([[ True,  True,  True],\n",
       "       [ True,  True,  True],\n",
       "       [ True,  True,  True]])"
      ]
     },
     "execution_count": 9,
     "metadata": {},
     "output_type": "execute_result"
    }
   ],
   "source": [
    "result_stubborn.K_ts[2] <= result_stubborn.K_ts[1] "
   ]
  },
  {
   "cell_type": "code",
   "execution_count": 10,
   "id": "f9524fcd-d746-4853-a7e1-a21e1a2375df",
   "metadata": {},
   "outputs": [
    {
     "data": {
      "text/plain": [
       "array([[ True,  True,  True],\n",
       "       [ True,  True,  True],\n",
       "       [ True,  True,  True]])"
      ]
     },
     "execution_count": 10,
     "metadata": {},
     "output_type": "execute_result"
    }
   ],
   "source": [
    "result_stubborn.K_ts[2] <= result_stubborn.K_ts[3] "
   ]
  },
  {
   "cell_type": "code",
   "execution_count": 11,
   "id": "29db972e-8537-4f83-b45d-a40a858a1c20",
   "metadata": {},
   "outputs": [
    {
     "data": {
      "text/plain": [
       "array([[ True,  True,  True],\n",
       "       [ True,  True,  True],\n",
       "       [ True,  True,  True]])"
      ]
     },
     "execution_count": 11,
     "metadata": {},
     "output_type": "execute_result"
    }
   ],
   "source": [
    "result_stubborn.K_ts[4] <= result_stubborn.K_ts[3] "
   ]
  },
  {
   "cell_type": "code",
   "execution_count": 13,
   "id": "48fb7ef1-b400-40c9-8a72-98ddc00199de",
   "metadata": {},
   "outputs": [
    {
     "name": "stdout",
     "output_type": "stream",
     "text": [
      "Index 1 Index 2\n",
      "[1.0613566391677058, 1.0023193146150768, 1.0101282142244044]\n",
      "[1.0613566403747612, 1.0023193146150793, 1.0101282142253354]\n",
      "[1.0613561910770124, 1.0023193145902316, 1.0101282121611452]\n",
      "[1.0615234375, 1.002319554704756, 1.0101327890452438]\n",
      "[1.0, 1.0, 1.0]\n"
     ]
    }
   ],
   "source": [
    "A_balanced = np.array([ # balanced symmetric\n",
    "    [0.48, 0.3, 0.22],\n",
    "    [0.3, 0.52, 0.18],\n",
    "    [0.22, 0.18, 0.6]\n",
    "])\n",
    "result_balanced = finite_solution(A_balanced, delta, c, T, np.array([[1.0, 1.0, 1.0]], ndmin = 2).T, M = M)\n",
    "# K_t results\n",
    "print(\"Index 1 Index 2\")\n",
    "for K in result_balanced.K_ts:\n",
    "    print([K[0, 0], K[1, 1], K[2, 2]])"
   ]
  },
  {
   "cell_type": "markdown",
   "id": "819daabb-2017-4523-b33b-2316b46c5268",
   "metadata": {},
   "source": [
    "All of these cases demonstrate periodicity."
   ]
  }
 ],
 "metadata": {
  "kernelspec": {
   "display_name": "Python 3",
   "language": "python",
   "name": "python3"
  },
  "language_info": {
   "codemirror_mode": {
    "name": "ipython",
    "version": 3
   },
   "file_extension": ".py",
   "mimetype": "text/x-python",
   "name": "python",
   "nbconvert_exporter": "python",
   "pygments_lexer": "ipython3",
   "version": "3.8.8"
  },
  "widgets": {
   "application/vnd.jupyter.widget-state+json": {
    "state": {},
    "version_major": 2,
    "version_minor": 0
   }
  }
 },
 "nbformat": 4,
 "nbformat_minor": 5
}
