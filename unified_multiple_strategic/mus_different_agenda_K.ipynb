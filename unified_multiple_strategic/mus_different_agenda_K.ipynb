{
 "cells": [
  {
   "cell_type": "markdown",
   "id": "16a02400-8a4e-4233-b8c5-d11e8d87543d",
   "metadata": {},
   "source": [
    "# Different Agendas ($K^*$ and projection data only)\n",
    "Unified Model with Multiple Strategic Agents\\\n",
    "James Yu, 31 October 2022"
   ]
  },
  {
   "cell_type": "code",
   "execution_count": 1,
   "id": "98409641-fce6-4df3-ae16-0feca4ea34a5",
   "metadata": {},
   "outputs": [],
   "source": [
    "from collections import namedtuple #,defaultdict\n",
    "import matplotlib.pyplot as plt\n",
    "import numpy as np\n",
    "from numpy.linalg import inv as npinv\n",
    "from numpy.linalg import matrix_power as nppow"
   ]
  },
  {
   "cell_type": "code",
   "execution_count": 2,
   "id": "a19a38c4-1ce0-437b-812a-30cb8e3290fe",
   "metadata": {},
   "outputs": [],
   "source": [
    "def infinite_solution(A, delta, c, M = 1):\n",
    "    n = 3\n",
    "    eps = np.finfo(np.float64).eps\n",
    "    I = np.identity(n)\n",
    "    eigvals, U = np.linalg.eig(A)\n",
    "    D = np.diag(eigvals)\n",
    "    K_t = I\n",
    "    K_sequence = [K_t]\n",
    "    \n",
    "    while True: #for i in range(T): # generate solution matrices\n",
    "        K_t_new = I + c * delta * (delta * K_t + c * I) @ nppow(npinv(M * delta * K_t + c * I), 2) @ K_t @ nppow(D, 2)\n",
    "        K_sequence.insert(0, K_t_new)\n",
    "        if np.allclose(K_t, K_t_new, rtol = eps, atol = eps): break\n",
    "        K_t = K_t_new\n",
    "\n",
    "    K_ss = K_sequence[0]\n",
    "    return K_ss, D, U"
   ]
  },
  {
   "cell_type": "code",
   "execution_count": 3,
   "id": "052b7ac4-b89a-470a-a1aa-76080218c64d",
   "metadata": {},
   "outputs": [],
   "source": [
    "# taken from higher_cost_version.ipynb\n",
    "A = np.array([ # balanced\n",
    "    [0.48, 0.3, 0.22],\n",
    "    [0.3, 0.52, 0.18],\n",
    "    [0.22, 0.18, 0.6]\n",
    "])\n",
    "\n",
    "A_alt = np.array([ # stubborn\n",
    "    [0.9, 0.07, 0.03],\n",
    "    [0.07, 0.58, 0.35],\n",
    "    [0.03, 0.35, 0.62]\n",
    "])\n",
    "\n",
    "A_identical = np.array([ # identical\n",
    "    [0.6, 0.2, 0.2],\n",
    "    [0.2, 0.6, 0.2],\n",
    "    [0.2, 0.2, 0.6]\n",
    "])"
   ]
  },
  {
   "cell_type": "code",
   "execution_count": 4,
   "id": "8f9245f8-f4e5-490b-b272-abd15957e169",
   "metadata": {},
   "outputs": [],
   "source": [
    "delta = 0.9\n",
    "c = 0.5\n",
    "K_ss, D, U = infinite_solution(A, delta, c, M = 2) # balanced"
   ]
  },
  {
   "cell_type": "code",
   "execution_count": 5,
   "id": "7fd9cce8-ce32-4a69-831c-a2fb569be4e1",
   "metadata": {},
   "outputs": [
    {
     "data": {
      "text/plain": [
       "array([[1.12006384, 0.        , 0.        ],\n",
       "       [0.        , 1.00449158, 0.        ],\n",
       "       [0.        , 0.        , 1.01964356]])"
      ]
     },
     "execution_count": 5,
     "metadata": {},
     "output_type": "execute_result"
    }
   ],
   "source": [
    "K_ss"
   ]
  },
  {
   "cell_type": "code",
   "execution_count": 6,
   "id": "0480a444-75f8-4f39-af65-9c7d933e3adf",
   "metadata": {},
   "outputs": [
    {
     "data": {
      "text/plain": [
       "array([[1.        , 0.        , 0.        ],\n",
       "       [0.        , 0.19416995, 0.        ],\n",
       "       [0.        , 0.        , 0.40583005]])"
      ]
     },
     "execution_count": 6,
     "metadata": {},
     "output_type": "execute_result"
    }
   ],
   "source": [
    "D"
   ]
  },
  {
   "cell_type": "code",
   "execution_count": 7,
   "id": "4aded8ac-1058-4d69-b7e5-ff780bca8d28",
   "metadata": {},
   "outputs": [
    {
     "data": {
      "text/plain": [
       "array([[-0.57735027, -0.76505532, -0.28523152],\n",
       "       [-0.57735027,  0.6295454 , -0.51994159],\n",
       "       [-0.57735027,  0.13550992,  0.8051731 ]])"
      ]
     },
     "execution_count": 7,
     "metadata": {},
     "output_type": "execute_result"
    }
   ],
   "source": [
    "U"
   ]
  },
  {
   "cell_type": "code",
   "execution_count": 8,
   "id": "a930311f-fb3e-4c51-9a52-947df57b1cde",
   "metadata": {},
   "outputs": [],
   "source": [
    "K_ss_, D_, U_ = infinite_solution(A_alt, delta, c, M = 2) # stubborn"
   ]
  },
  {
   "cell_type": "code",
   "execution_count": 9,
   "id": "202e0654-eff1-4185-a00b-f980594f178e",
   "metadata": {},
   "outputs": [
    {
     "data": {
      "text/plain": [
       "array([[1.12006384, 0.        , 0.        ],\n",
       "       [0.        , 1.08697763, 0.        ],\n",
       "       [0.        , 0.        , 1.0073292 ]])"
      ]
     },
     "execution_count": 9,
     "metadata": {},
     "output_type": "execute_result"
    }
   ],
   "source": [
    "K_ss_"
   ]
  },
  {
   "cell_type": "code",
   "execution_count": 10,
   "id": "994ee527-cdb2-439f-bbbd-f13f9c81bd62",
   "metadata": {},
   "outputs": [
    {
     "data": {
      "text/plain": [
       "array([[1.        , 0.        , 0.        ],\n",
       "       [0.        , 0.85199338, 0.        ],\n",
       "       [0.        , 0.        , 0.24800662]])"
      ]
     },
     "execution_count": 10,
     "metadata": {},
     "output_type": "execute_result"
    }
   ],
   "source": [
    "D_"
   ]
  },
  {
   "cell_type": "code",
   "execution_count": 11,
   "id": "ea89cf7b-c4cd-4731-b7d1-fcc335e481a5",
   "metadata": {},
   "outputs": [
    {
     "data": {
      "text/plain": [
       "array([[ 0.57735027,  0.8151481 ,  0.04690676],\n",
       "       [ 0.57735027, -0.3669516 , -0.72939234],\n",
       "       [ 0.57735027, -0.44819649,  0.68248558]])"
      ]
     },
     "execution_count": 11,
     "metadata": {},
     "output_type": "execute_result"
    }
   ],
   "source": [
    "U_"
   ]
  },
  {
   "cell_type": "code",
   "execution_count": 12,
   "id": "f4d1c314-b147-44ba-9008-9734fb587583",
   "metadata": {},
   "outputs": [],
   "source": [
    "K_ss__, D__, U__ = infinite_solution(A_identical, delta, c, M = 2) # identical"
   ]
  },
  {
   "cell_type": "code",
   "execution_count": 13,
   "id": "b26ca31f-1c9a-4c05-95bc-e206da10306b",
   "metadata": {},
   "outputs": [
    {
     "data": {
      "text/plain": [
       "array([[1.01908243, 0.        , 0.        ],\n",
       "       [0.        , 1.12006384, 0.        ],\n",
       "       [0.        , 0.        , 1.01908243]])"
      ]
     },
     "execution_count": 13,
     "metadata": {},
     "output_type": "execute_result"
    }
   ],
   "source": [
    "K_ss__"
   ]
  },
  {
   "cell_type": "code",
   "execution_count": 14,
   "id": "ee8e04c5-ad2a-46a5-ad71-d8ac6438097a",
   "metadata": {},
   "outputs": [
    {
     "data": {
      "text/plain": [
       "array([[0.4, 0. , 0. ],\n",
       "       [0. , 1. , 0. ],\n",
       "       [0. , 0. , 0.4]])"
      ]
     },
     "execution_count": 14,
     "metadata": {},
     "output_type": "execute_result"
    }
   ],
   "source": [
    "D__"
   ]
  },
  {
   "cell_type": "code",
   "execution_count": 15,
   "id": "8b658208-1cb3-4005-9e7f-88eb7a32a638",
   "metadata": {},
   "outputs": [
    {
     "data": {
      "text/plain": [
       "array([[-0.81649658,  0.57735027, -0.26683061],\n",
       "       [ 0.40824829,  0.57735027, -0.53486687],\n",
       "       [ 0.40824829,  0.57735027,  0.80169748]])"
      ]
     },
     "execution_count": 15,
     "metadata": {},
     "output_type": "execute_result"
    }
   ],
   "source": [
    "U__"
   ]
  }
 ],
 "metadata": {
  "kernelspec": {
   "display_name": "Python 3",
   "language": "python",
   "name": "python3"
  },
  "language_info": {
   "codemirror_mode": {
    "name": "ipython",
    "version": 3
   },
   "file_extension": ".py",
   "mimetype": "text/x-python",
   "name": "python",
   "nbconvert_exporter": "python",
   "pygments_lexer": "ipython3",
   "version": "3.8.8"
  },
  "widgets": {
   "application/vnd.jupyter.widget-state+json": {
    "state": {},
    "version_major": 2,
    "version_minor": 0
   }
  }
 },
 "nbformat": 4,
 "nbformat_minor": 5
}
