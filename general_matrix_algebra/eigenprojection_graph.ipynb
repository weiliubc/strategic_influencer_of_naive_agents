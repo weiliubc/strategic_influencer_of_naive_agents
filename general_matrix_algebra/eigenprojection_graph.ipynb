{
 "cells": [
  {
   "cell_type": "markdown",
   "id": "074d5af5-f748-4605-a77c-3d640782532f",
   "metadata": {},
   "source": [
    "# Eigenprojection Graph Code\n",
    "\n",
    "James Yu, 10 November 2022, modified 6 June 2023, modified 20 July 2023"
   ]
  },
  {
   "cell_type": "code",
   "execution_count": 1,
   "id": "626b01ac-0a1c-47c9-b0e2-885f4ffa3c85",
   "metadata": {
    "tags": []
   },
   "outputs": [],
   "source": [
    "import matplotlib.pyplot as plt\n",
    "import numpy as np"
   ]
  },
  {
   "cell_type": "code",
   "execution_count": 2,
   "id": "b52d96e7-482d-4c3a-bc14-52ed53d422b1",
   "metadata": {},
   "outputs": [
    {
     "data": {
      "text/plain": [
       "array([[ 0.70710678, -0.70710678],\n",
       "       [ 0.70710678,  0.70710678]])"
      ]
     },
     "execution_count": 2,
     "metadata": {},
     "output_type": "execute_result"
    }
   ],
   "source": [
    "# matrix to eigendecompose\n",
    "A = np.array([\n",
    "    [0.7, 0.3],\n",
    "    [0.3, 0.7]\n",
    "])\n",
    "\n",
    "eigvals, U = np.linalg.eig(A)\n",
    "U"
   ]
  },
  {
   "cell_type": "code",
   "execution_count": 3,
   "id": "97c5a6af-7134-447a-8893-86a0b0de9570",
   "metadata": {},
   "outputs": [
    {
     "data": {
      "text/plain": [
       "array([[-0.5],\n",
       "       [ 2.5]])"
      ]
     },
     "execution_count": 3,
     "metadata": {},
     "output_type": "execute_result"
    }
   ],
   "source": [
    "x_0 = np.array([[-0.5, 2.5]], ndmin = 2).T\n",
    "x_0"
   ]
  },
  {
   "cell_type": "code",
   "execution_count": 4,
   "id": "010f5135-f03a-4382-b534-44975a2cac24",
   "metadata": {},
   "outputs": [
    {
     "data": {
      "text/plain": [
       "array([[1.41421356],\n",
       "       [2.12132034]])"
      ]
     },
     "execution_count": 4,
     "metadata": {},
     "output_type": "execute_result"
    }
   ],
   "source": [
    "U.T @ x_0"
   ]
  },
  {
   "cell_type": "code",
   "execution_count": 5,
   "id": "78b97e36-92ee-4270-bb69-0338eb4ec2a9",
   "metadata": {},
   "outputs": [
    {
     "data": {
      "text/plain": [
       "array([[1.41421356],\n",
       "       [2.12132034]])"
      ]
     },
     "execution_count": 5,
     "metadata": {},
     "output_type": "execute_result"
    }
   ],
   "source": [
    "(1/np.sqrt(2)) * np.array([[2, 3]], ndmin = 2).T"
   ]
  },
  {
   "cell_type": "code",
   "execution_count": 6,
   "id": "2c5d9bf5-8bab-412f-a975-67e1ca94f2f0",
   "metadata": {},
   "outputs": [
    {
     "data": {
      "text/plain": [
       "array([[ 0.70710678, -0.70710678],\n",
       "       [ 0.70710678,  0.70710678]])"
      ]
     },
     "execution_count": 6,
     "metadata": {},
     "output_type": "execute_result"
    }
   ],
   "source": [
    "(1/np.sqrt(2)) * np.array([\n",
    "    [1,-1],\n",
    "    [1,1]\n",
    "])"
   ]
  },
  {
   "cell_type": "code",
   "execution_count": 7,
   "id": "811d76c9-5300-4396-998d-e468d5b7d0bb",
   "metadata": {},
   "outputs": [
    {
     "data": {
      "image/png": "[encoded data removed]",
      "text/plain": [
       "<Figure size 432x288 with 1 Axes>"
      ]
     },
     "metadata": {
      "needs_background": "light"
     },
     "output_type": "display_data"
    }
   ],
   "source": [
    "u1 = np.array(U[:,0],ndmin=2).T\n",
    "u2 = np.array(U[:,1],ndmin=2).T\n",
    "\n",
    "plt.rcParams.update({\"text.usetex\": True}) # use LaTeX text font on plots\n",
    "plt.margins(x = 0, y = 0) # no spaces between axes and plots\n",
    "plt.gca().set_aspect(\"equal\") # i.e. https://stackoverflow.com/questions/50158333/how-do-i-enforce-a-square-grid-in-matplotlib\n",
    "\n",
    "plt.axhline(y = 0, color = \"black\", linewidth = 1)\n",
    "plt.axvline(x = 0, color = \"black\", linewidth = 1)\n",
    "plt.grid(visible = True, zorder = 1, alpha = 0.4)\n",
    "plt.ylim(-0.5, 3)\n",
    "plt.xlim(-2, 2)\n",
    "\n",
    "# eigenvectors\n",
    "plt.arrow(0, 0, *U[:,0], head_width = 0.1, linewidth = 2, facecolor = \"purple\", edgecolor = \"purple\", zorder = 3, length_includes_head=True)\n",
    "# note this is an origin and length, not a start and end coordinate (but end == length when origin == 0)\n",
    "plt.arrow(0, 0, *U[:,1], head_width = 0.1, linewidth = 2, facecolor = \"red\", edgecolor = \"red\", zorder = 3, length_includes_head=True)\n",
    "\n",
    "# x\n",
    "plt.arrow(0, 0, *x_0[:,0], head_width = 0.1, linewidth = 2, facecolor = \"black\", edgecolor = \"black\", zorder = 4, length_includes_head=True)\n",
    "\n",
    "# projection of x onto eigenvectors\n",
    "u1u1tx0 = (u1 @ u1.T @ x_0).flatten()\n",
    "u2u2tx0 = (u2 @ u2.T @ x_0).flatten()\n",
    "plt.arrow(0, 0, *u1u1tx0, linewidth = 2, head_width = 0.1, facecolor = \"blue\", edgecolor = \"blue\", zorder = 2, length_includes_head=True) \n",
    "plt.arrow(0, 0, *u2u2tx0, linewidth = 2, head_width = 0.1, facecolor = \"tab:orange\", edgecolor = \"tab:orange\", zorder = 2, length_includes_head=True)\n",
    "\n",
    "# projection lines\n",
    "plt.plot(np.linspace(x_0[0,0], u1u1tx0[0], 100), np.linspace(x_0[1,0], u1u1tx0[1], 100), '--', color = \"blue\", zorder = 2)\n",
    "plt.plot(np.linspace(x_0[0,0], u2u2tx0[0], 100), np.linspace(x_0[1,0], u2u2tx0[1], 100), '--', color = \"tab:orange\", zorder = 2)\n",
    "\n",
    "# labels\n",
    "plt.xlabel(\"$e_1$\", size = \"x-large\")\n",
    "plt.ylabel(\"$e_2$\", size = \"x-large\")\n",
    "plt.title(\"Projection of $x_0$ onto $U$: standard basis view\")\n",
    "plt.text(x_0[0,0]+0.05,x_0[1,0]+0.05,\"$x_0$\", size = \"x-large\")\n",
    "plt.text(U[0,0]-0.15,U[1,0]-0.35,\"$u_1$\", size = \"x-large\", color = \"purple\")\n",
    "plt.text(U[0,1]-0.03,U[1,1]-0.35,\"$u_2$\", size = \"x-large\", color = \"red\")\n",
    "plt.text(u1u1tx0[0]+0.02,u1u1tx0[1]+0.05,\"$(x_0 \\cdot u_1)u_1$\", size = \"x-large\", color = \"blue\")\n",
    "plt.text(u2u2tx0[0]+0.17,u2u2tx0[1]-0.05,\"$(x_0 \\cdot u_2)u_2$\", size = \"x-large\", color = \"#ff5900\")\n",
    "plt.savefig(\"standard.png\", dpi = 800, facecolor = \"white\", bbox_inches = \"tight\")"
   ]
  },
  {
   "cell_type": "code",
   "execution_count": 8,
   "id": "eb3e558f-1d48-4ef5-a5a5-002d831e8baf",
   "metadata": {},
   "outputs": [
    {
     "data": {
      "image/png": "[encoded data removed]",
      "text/plain": [
       "<Figure size 432x288 with 1 Axes>"
      ]
     },
     "metadata": {
      "needs_background": "light"
     },
     "output_type": "display_data"
    }
   ],
   "source": [
    "plt.gca().set_aspect(\"equal\") # i.e. https://stackoverflow.com/questions/50158333/how-do-i-enforce-a-square-grid-in-matplotlib\n",
    "\n",
    "plt.axhline(y = 0, color = \"black\", linewidth = 1)\n",
    "plt.axvline(x = 0, color = \"black\", linewidth = 1)\n",
    "plt.grid(visible = True, zorder = 1, alpha = 0.4)\n",
    "plt.ylim(-0.5, 3)\n",
    "plt.xlim(-1, 3)\n",
    "\n",
    "# eigenvectors\n",
    "plt.arrow(0, 0, 1, 0, head_width = 0.1, linewidth = 2, facecolor = \"purple\", edgecolor = \"purple\", zorder = 3, length_includes_head=True)\n",
    "# note this is an origin and length, not a start and end coordinate (but end == length when origin == 0)\n",
    "plt.arrow(0, 0, 0, 1, head_width = 0.1, linewidth = 2, facecolor = \"red\", edgecolor = \"red\", zorder = 3, length_includes_head=True)\n",
    "\n",
    "# \\tilde x\n",
    "plt.arrow(0, 0, *(U.T @ x_0)[:,0], head_width = 0.1, linewidth = 2, facecolor = \"black\", edgecolor = \"black\", zorder = 4, length_includes_head=True)\n",
    "\n",
    "# projection of x onto eigenvectors\n",
    "u1tx0, u1tx1 = (*(U.T @ x_0)[:,0],)\n",
    "plt.arrow(0, 0, u1tx0, 0, linewidth = 2, head_width = 0.1, facecolor = \"blue\", edgecolor = \"blue\", zorder = 2, length_includes_head=True) \n",
    "plt.arrow(0, 0, 0, u1tx1, linewidth = 2, head_width = 0.1, facecolor = \"tab:orange\", edgecolor = \"tab:orange\", zorder = 2, length_includes_head=True)\n",
    "\n",
    "# projection lines\n",
    "plt.plot([u1tx0]*100, np.linspace(0, u1tx1, 100), '--', color = \"blue\", zorder = 2)\n",
    "plt.plot(np.linspace(0, u1tx0, 100), [u1tx1]*100, '--', color = \"tab:orange\", zorder = 2)\n",
    "\n",
    "# labels\n",
    "plt.xlabel(\"$u_1$\", size = \"x-large\")\n",
    "plt.ylabel(\"$u_2$\", size = \"x-large\")\n",
    "plt.title(\"Projection of $x_0$ onto $U$: projected view\")\n",
    "plt.text(u1tx0+0.05,u1tx1+0.05,r\"$U^\\prime x_0 = \\tilde{x}_0$\", size = \"x-large\")\n",
    "#plt.text(0.7,0-0.2,\"$e_1$\", size = \"x-large\", color = \"purple\")\n",
    "#plt.text(0-0.25,0.7,\"$e_2$\", size = \"x-large\", color = \"red\")\n",
    "plt.text(u1tx0,0-0.2,\"$u_1^\\prime x_0$\", size = \"x-large\", color = \"blue\")\n",
    "plt.text(0-0.5,u1tx1,\"$u_2^\\prime x_0$\", size = \"x-large\", color = \"#ff5900\")\n",
    "plt.savefig(\"projected.png\", dpi = 800, facecolor = \"white\", bbox_inches = \"tight\")"
   ]
  },
  {
   "cell_type": "code",
   "execution_count": null,
   "id": "6238d42f-46b3-46fa-bfeb-51c21e0f86cf",
   "metadata": {},
   "outputs": [],
   "source": []
  }
 ],
 "metadata": {
  "kernelspec": {
   "display_name": "Python 3",
   "language": "python",
   "name": "python3"
  },
  "language_info": {
   "codemirror_mode": {
    "name": "ipython",
    "version": 3
   },
   "file_extension": ".py",
   "mimetype": "text/x-python",
   "name": "python",
   "nbconvert_exporter": "python",
   "pygments_lexer": "ipython3",
   "version": "3.8.8"
  },
  "widgets": {
   "application/vnd.jupyter.widget-state+json": {
    "state": {},
    "version_major": 2,
    "version_minor": 0
   }
  }
 },
 "nbformat": 4,
 "nbformat_minor": 5
}
