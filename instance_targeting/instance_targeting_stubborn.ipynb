{
 "cells": [
  {
   "cell_type": "markdown",
   "id": "80a718f0-8201-4a5d-9756-89a9f417fa0f",
   "metadata": {},
   "source": [
    "# Singular-Instance Targeting Example but with Stubborn Agent\n",
    "\n",
    "James Yu, 11 May 2022"
   ]
  },
  {
   "cell_type": "code",
   "execution_count": 1,
   "id": "69049266-7279-4afc-8e51-633574e667f0",
   "metadata": {},
   "outputs": [],
   "source": [
    "import matplotlib.pyplot as plt\n",
    "import numpy as np\n",
    "from scipy.optimize import minimize_scalar"
   ]
  },
  {
   "cell_type": "markdown",
   "id": "8a8115f3-6373-48f1-91e3-5c9747aaaec5",
   "metadata": {},
   "source": [
    "Without the assumption that $A$ is a symmetric matrix, we have to run comparative statics. First, recall that the objective function in question is:"
   ]
  },
  {
   "cell_type": "markdown",
   "id": "24937f7f-9486-46c0-a86b-193469207d07",
   "metadata": {},
   "source": [
    "$$V(x_0, x_1(x_0, r)) = -x_0^\\prime Q x_0 - \\delta x_1^\\prime Q x_1 - \\sum_{t = 1}^\\infty \\delta^{t+1} x_1^\\prime (A^t)^\\prime Q A^t x_1$$"
   ]
  },
  {
   "cell_type": "markdown",
   "id": "674deb1b-9728-4e32-bebf-d8fc38c75225",
   "metadata": {},
   "source": [
    "where $x_1(x_0, r) = \\tilde A x_0 + br$, where $\\tilde A$ is $A$ but weight-adjusted such that the cumulative row sums of $\\tilde A$ and $b$ are 1."
   ]
  },
  {
   "cell_type": "code",
   "execution_count": 2,
   "id": "c807e700-5bdb-477f-b0b7-5eb8cf200e48",
   "metadata": {},
   "outputs": [],
   "source": [
    "def _x_1(x_0, r, A, B, agent):\n",
    "    tilde_A = A.copy()\n",
    "    tilde_A[agent] *= 0.99\n",
    "    return tilde_A @ x_0 + B * r"
   ]
  },
  {
   "cell_type": "code",
   "execution_count": 3,
   "id": "bcd56125-faf2-4bcd-9058-9dafa592d54a",
   "metadata": {
    "tags": []
   },
   "outputs": [],
   "source": [
    "def V(x_0, r, delta, A, B, agent):\n",
    "    Q = (1/2) * np.identity(2)\n",
    "    x_1 = _x_1(x_0, r, A, B, agent)\n",
    "    cost = -x_0.T @ Q @ x_0 # first term\n",
    "    cost += -delta * x_1.T @ Q @ x_1 # second term\n",
    "    t = 1\n",
    "    while True:\n",
    "        A_t = np.linalg.matrix_power(A, t)\n",
    "        newcost = -delta**(t+1) * x_1.T @ A_t.T @ Q @ A_t @ x_1 # new term\n",
    "        if np.allclose(newcost, 0):\n",
    "            break\n",
    "        # add cost and increment t\n",
    "        cost += newcost\n",
    "        t += 1\n",
    "    return cost.item()"
   ]
  },
  {
   "cell_type": "markdown",
   "id": "7c33363e-537a-4749-b991-e12318829a2f",
   "metadata": {},
   "source": [
    "# Some comparative statics"
   ]
  },
  {
   "cell_type": "code",
   "execution_count": 4,
   "id": "92a81a01-f236-439f-ab95-c14debe39218",
   "metadata": {},
   "outputs": [
    {
     "data": {
      "text/plain": [
       "-238.23231397646546"
      ]
     },
     "execution_count": 4,
     "metadata": {},
     "output_type": "execute_result"
    }
   ],
   "source": [
    "A = np.array([\n",
    "    [0.99, 0.01],\n",
    "    [0.5, 0.5]\n",
    "])\n",
    "\n",
    "B_0 = np.array([\n",
    "    [0.01],\n",
    "    [0.0]\n",
    "], ndmin = 2)\n",
    "\n",
    "B_1 = np.array([\n",
    "    [0.0],\n",
    "    [0.01]\n",
    "], ndmin = 2)\n",
    "\n",
    "x_0 = np.array([[5.0], [-10.0]], ndmin = 2)\n",
    "V(x_0, 5.0, 0.9, A, B_0, 0)"
   ]
  },
  {
   "cell_type": "markdown",
   "id": "bf21b0c4-c77c-4130-942e-8b6caee85c9c",
   "metadata": {},
   "source": [
    "The objective function is quadratic in $r$. For example:"
   ]
  },
  {
   "cell_type": "code",
   "execution_count": 5,
   "id": "6eca30b5-6def-4775-bace-f4c6cb2793cd",
   "metadata": {},
   "outputs": [
    {
     "data": {
      "image/png": "[encoded data removed]",
      "text/plain": [
       "<Figure size 432x288 with 1 Axes>"
      ]
     },
     "metadata": {
      "needs_background": "light"
     },
     "output_type": "display_data"
    }
   ],
   "source": [
    "grid = np.linspace(-200, 200, 100)\n",
    "plt.plot(grid, [V(x_0, r, 0.9, A, B_0, 0) for r in grid])\n",
    "plt.show()"
   ]
  },
  {
   "cell_type": "markdown",
   "id": "256ff14e-eb43-4fa1-9665-7219dfb18e76",
   "metadata": {},
   "source": [
    "Therefore a unique extrema must exist."
   ]
  },
  {
   "cell_type": "code",
   "execution_count": 6,
   "id": "a20d7409-69d7-474c-a152-83406da2df12",
   "metadata": {},
   "outputs": [
    {
     "data": {
      "text/plain": [
       "     fun: 66.05321306869209\n",
       "    nfev: 12\n",
       "     nit: 5\n",
       " success: True\n",
       "       x: -468.3055121686446"
      ]
     },
     "execution_count": 6,
     "metadata": {},
     "output_type": "execute_result"
    }
   ],
   "source": [
    "minimize_scalar(lambda x: -1 * V(np.array([[5.0], [-10.0]], ndmin = 2), x, 0.9, A, B_0, 0))"
   ]
  },
  {
   "cell_type": "code",
   "execution_count": 7,
   "id": "63acc71d-ad2a-4da0-9707-199df7312113",
   "metadata": {},
   "outputs": [
    {
     "data": {
      "text/plain": [
       "     fun: 78.11662686616083\n",
       "    nfev: 14\n",
       "     nit: 7\n",
       " success: True\n",
       "       x: -464.9466057689355"
      ]
     },
     "execution_count": 7,
     "metadata": {},
     "output_type": "execute_result"
    }
   ],
   "source": [
    "minimize_scalar(lambda x: -1 * V(np.array([[5.0], [-11.0]], ndmin = 2), x, 0.9, A, B_0, 0))"
   ]
  },
  {
   "cell_type": "code",
   "execution_count": 8,
   "id": "7b91af51-b2be-42db-81e4-77d537f961f7",
   "metadata": {},
   "outputs": [
    {
     "data": {
      "text/plain": [
       "     fun: 91.46429770225059\n",
       "    nfev: 13\n",
       "     nit: 6\n",
       " success: True\n",
       "       x: -461.5877114697964"
      ]
     },
     "execution_count": 8,
     "metadata": {},
     "output_type": "execute_result"
    }
   ],
   "source": [
    "minimize_scalar(lambda x: -1 * V(np.array([[5.0], [-12.0]], ndmin = 2), x, 0.9, A, B_0, 0))"
   ]
  },
  {
   "cell_type": "code",
   "execution_count": 9,
   "id": "f292dd13-0aa6-4753-b32d-c3f84efc36f5",
   "metadata": {},
   "outputs": [
    {
     "data": {
      "image/png": "[encoded data removed]",
      "text/plain": [
       "<Figure size 432x288 with 1 Axes>"
      ]
     },
     "metadata": {
      "needs_background": "light"
     },
     "output_type": "display_data"
    }
   ],
   "source": [
    "grid = np.linspace(-20, 20, 50)\n",
    "plt.plot(grid, [minimize_scalar(lambda x: -1 * V(np.array([[5.0], [g]], ndmin = 2), x, 0.9, A, B_0, 0)).x for g in grid])\n",
    "plt.xlabel(\"x_0^2\")\n",
    "plt.ylabel(\"r\")\n",
    "plt.show()"
   ]
  },
  {
   "cell_type": "markdown",
   "id": "47cff16c-662b-4d90-be9a-ba6ebe0ddafa",
   "metadata": {},
   "source": [
    "This is linear in $x_0^2$, fixing $x_0^1 = 5$."
   ]
  },
  {
   "cell_type": "code",
   "execution_count": 35,
   "id": "ad0093ab-8f28-4c79-9f35-f6b6db92b66c",
   "metadata": {},
   "outputs": [
    {
     "data": {
      "image/png": "[encoded data removed]",
      "text/plain": [
       "<Figure size 432x288 with 1 Axes>"
      ]
     },
     "metadata": {
      "needs_background": "light"
     },
     "output_type": "display_data"
    }
   ],
   "source": [
    "grid = np.linspace(-60, 60, 50)\n",
    "plt.plot(grid, [minimize_scalar(lambda x: -1 * V(np.array([[g], [5.0]], ndmin = 2), x, 0.9, A, B_0, 0)).x for g in grid])\n",
    "plt.xlabel(\"x_0^1\")\n",
    "plt.ylabel(\"r\")\n",
    "plt.show()"
   ]
  },
  {
   "cell_type": "markdown",
   "id": "acdf7ef5-3d01-4769-b85e-4c9a97d3f1c9",
   "metadata": {},
   "source": [
    "Again, this is linear."
   ]
  },
  {
   "cell_type": "code",
   "execution_count": 11,
   "id": "ea914ad2-88c4-42c8-adce-1811cfd2cf76",
   "metadata": {},
   "outputs": [
    {
     "data": {
      "image/png": "[encoded data removed]",
      "text/plain": [
       "<Figure size 432x288 with 1 Axes>"
      ]
     },
     "metadata": {
      "needs_background": "light"
     },
     "output_type": "display_data"
    }
   ],
   "source": [
    "grid = np.linspace(0.1, 0.9, 50)\n",
    "plt.plot(grid, [minimize_scalar(lambda x: -1 * V(np.array([[5.0], [-10.0]], ndmin = 2), x, delta, A, B_0, 0)).x for delta in grid])\n",
    "plt.xlabel(\"delta\")\n",
    "plt.ylabel(\"r\")\n",
    "plt.show()"
   ]
  },
  {
   "cell_type": "markdown",
   "id": "f522a85b-1351-4bd4-983e-75af143622f5",
   "metadata": {},
   "source": [
    "This is not linear; we do see that the optimal $r^*$ is increasing in $\\delta$ but now there does exist a maximum."
   ]
  },
  {
   "cell_type": "code",
   "execution_count": 12,
   "id": "1a66aa20-1118-40c3-ae4f-3e8e036f1395",
   "metadata": {},
   "outputs": [
    {
     "data": {
      "text/plain": [
       "     fun: -0.0\n",
       "    nfev: 10\n",
       "     nit: 6\n",
       " success: True\n",
       "       x: 0.0"
      ]
     },
     "execution_count": 12,
     "metadata": {},
     "output_type": "execute_result"
    }
   ],
   "source": [
    "minimize_scalar(lambda x: -1 * V(np.array([[0.0], [0.0]], ndmin = 2), x, 0.9, A, B_0, 0))"
   ]
  },
  {
   "cell_type": "code",
   "execution_count": 13,
   "id": "d4201b94-1fe9-4db0-b732-fbe9080b5fee",
   "metadata": {},
   "outputs": [
    {
     "data": {
      "text/plain": [
       "     fun: 0.642128436538664\n",
       "    nfev: 12\n",
       "     nit: 6\n",
       " success: True\n",
       "       x: -100.37898128687617"
      ]
     },
     "execution_count": 13,
     "metadata": {},
     "output_type": "execute_result"
    }
   ],
   "source": [
    "minimize_scalar(lambda x: -1 * V(np.array([[1.0], [0.0]], ndmin = 2), x, 0.9, A, B_0, 0))"
   ]
  },
  {
   "cell_type": "code",
   "execution_count": 14,
   "id": "6ab3a86e-598f-4bc5-967a-4fb89c27a7eb",
   "metadata": {},
   "outputs": [
    {
     "data": {
      "text/plain": [
       "     fun: 0.6421284365386634\n",
       "    nfev: 18\n",
       "     nit: 12\n",
       " success: True\n",
       "       x: -3.3589813068713363"
      ]
     },
     "execution_count": 14,
     "metadata": {},
     "output_type": "execute_result"
    }
   ],
   "source": [
    "minimize_scalar(lambda x: -1 * V(np.array([[0.0], [1.0]], ndmin = 2), x, 0.9, A, B_0, 0))"
   ]
  },
  {
   "cell_type": "code",
   "execution_count": 15,
   "id": "2818310a-b3e6-40b3-bc44-5fd7fa900501",
   "metadata": {},
   "outputs": [
    {
     "data": {
      "text/plain": [
       "     fun: 1.5685140147265113\n",
       "    nfev: 13\n",
       "     nit: 7\n",
       " success: True\n",
       "       x: -103.73783463940417"
      ]
     },
     "execution_count": 15,
     "metadata": {},
     "output_type": "execute_result"
    }
   ],
   "source": [
    "minimize_scalar(lambda x: -1 * V(np.array([[1.0], [1.0]], ndmin = 2), x, 0.9, A, B_0, 0))"
   ]
  },
  {
   "cell_type": "markdown",
   "id": "dc81700f-f2d8-4567-ac1a-c08ba83be71e",
   "metadata": {},
   "source": [
    "The change in $r$ (presented as $x$) from a single increase in $x_0^l$ is different between the two agents, which is expected."
   ]
  },
  {
   "cell_type": "markdown",
   "id": "8dea147d-8b5e-4672-b571-dd886c141ccc",
   "metadata": {},
   "source": [
    "# Who is better to target?"
   ]
  },
  {
   "cell_type": "code",
   "execution_count": 16,
   "id": "166e64a6-0d3f-4a82-b09e-e7619c2af965",
   "metadata": {},
   "outputs": [
    {
     "name": "stdout",
     "output_type": "stream",
     "text": [
      "-238.23231397646546 target agent 1\n",
      "-238.17174456527178 target agent 2\n"
     ]
    }
   ],
   "source": [
    "print(V(np.array([[5.0], [-10.0]], ndmin = 2), 5.0, 0.9, A, B_0, 0), \"target agent 1\") # if r = 5\n",
    "print(V(np.array([[5.0], [-10.0]], ndmin = 2), 5.0, 0.9, A, B_1, 1), \"target agent 2\")"
   ]
  },
  {
   "cell_type": "code",
   "execution_count": 17,
   "id": "9898d0a7-c25b-44f1-9f3a-2213433a32c4",
   "metadata": {},
   "outputs": [
    {
     "data": {
      "image/png": "[encoded data removed]",
      "text/plain": [
       "<Figure size 432x288 with 1 Axes>"
      ]
     },
     "metadata": {
      "needs_background": "light"
     },
     "output_type": "display_data"
    }
   ],
   "source": [
    "# display the payoffs for using the optimal r at each point\n",
    "grid = np.linspace(-5, 5, 20)\n",
    "plt.plot(grid, [-1 * minimize_scalar(lambda x: -1 * V(np.array([[g], [5.0]], ndmin = 2), x, 0.9, A, B_0, 0)).fun for g in grid], label = \"target 1\")\n",
    "plt.plot(grid, [-1 * minimize_scalar(lambda x: -1 * V(np.array([[g], [5.0]], ndmin = 2), x, 0.9, A, B_1, 1)).fun for g in grid], label = \"target 2\")\n",
    "plt.xlabel(\"x_0^1\")\n",
    "plt.ylabel(\"total payoff\")\n",
    "plt.legend()\n",
    "plt.show()"
   ]
  },
  {
   "cell_type": "markdown",
   "id": "1bdafaab-f592-42d9-bed9-07c69c30d894",
   "metadata": {},
   "source": [
    "There is a brief region for $x_0^1$ where it is optimal to target agent 2; otherwise, it is optimal to target agent 1."
   ]
  },
  {
   "cell_type": "code",
   "execution_count": 18,
   "id": "337636a9-3cd5-4a99-8b5c-3bd69fd82a2b",
   "metadata": {},
   "outputs": [
    {
     "data": {
      "image/png": "[encoded data removed]",
      "text/plain": [
       "<Figure size 432x288 with 1 Axes>"
      ]
     },
     "metadata": {
      "needs_background": "light"
     },
     "output_type": "display_data"
    }
   ],
   "source": [
    "grid = np.linspace(-20, 10, 30)\n",
    "plt.plot(grid, [-1 * minimize_scalar(lambda x: -1 * V(np.array([[5.0], [g]], ndmin = 2), x, 0.9, A, B_0, 0)).fun for g in grid], label = \"target 1\")\n",
    "plt.plot(grid, [-1 * minimize_scalar(lambda x: -1 * V(np.array([[5.0], [g]], ndmin = 2), x, 0.9, A, B_1, 1)).fun for g in grid], label = \"target 2\")\n",
    "plt.xlabel(\"x_0^2\")\n",
    "plt.ylabel(\"total payoff\")\n",
    "plt.legend()\n",
    "plt.show()"
   ]
  },
  {
   "cell_type": "code",
   "execution_count": 19,
   "id": "daec7e9d-878b-4f73-b76f-8dc6480a2d59",
   "metadata": {},
   "outputs": [
    {
     "data": {
      "image/png": "[encoded data removed]",
      "text/plain": [
       "<Figure size 432x288 with 1 Axes>"
      ]
     },
     "metadata": {
      "needs_background": "light"
     },
     "output_type": "display_data"
    }
   ],
   "source": [
    "grid = np.linspace(50, 80, 30)\n",
    "plt.plot(grid, [-1 * minimize_scalar(lambda x: -1 * V(np.array([[5.0], [g]], ndmin = 2), x, 0.9, A, B_0, 0)).fun for g in grid], label = \"target 1\")\n",
    "plt.plot(grid, [-1 * minimize_scalar(lambda x: -1 * V(np.array([[5.0], [g]], ndmin = 2), x, 0.9, A, B_1, 1)).fun for g in grid], label = \"target 2\")\n",
    "plt.xlabel(\"x_0^2\")\n",
    "plt.ylabel(\"total payoff\")\n",
    "plt.legend()\n",
    "plt.show()"
   ]
  },
  {
   "cell_type": "markdown",
   "id": "63dcb342-3824-41c9-8501-f84a2da5746f",
   "metadata": {},
   "source": [
    "# Payoffs compared to original targeting model"
   ]
  },
  {
   "cell_type": "code",
   "execution_count": 20,
   "id": "ed11599e-154a-4990-b7c3-ec1b85fccbc2",
   "metadata": {},
   "outputs": [],
   "source": [
    "def get_payoff(A, B, R, x_0, delta): \n",
    "    Q = (1/2) * np.identity(2)\n",
    "    K_t = Q\n",
    "    K_sequence = [Q]\n",
    "    while True:\n",
    "        K_t_new = delta * A.T @ (K_t - K_t @ B @ np.linalg.inv(B.T @ K_t @ B + R / delta) @ B.T @ K_t) @ A + Q\n",
    "        K_sequence.insert(0, K_t_new)\n",
    "        if np.allclose(K_t, K_t_new, atol = np.finfo(np.float32).eps):\n",
    "            break\n",
    "        K_t = K_t_new\n",
    "\n",
    "    x_t = x_0\n",
    "    r_ts = []\n",
    "    payoff = 0\n",
    "    payoffs = []\n",
    "    x_ts = [x_0]\n",
    "    i = 0\n",
    "    while True:\n",
    "        L = -(np.linalg.inv(B.T @ K_sequence[0] @ B + R / delta) @ B.T @ K_sequence[0] @ A)\n",
    "        r_t = L @ x_t\n",
    "        r_ts.append(r_t.item())\n",
    "        payoff += (-1 * delta**i * (x_t.T @ Q @ x_t)).item() + (-1 * delta**i * (R * r_t**2)).item()\n",
    "        payoffs.append(payoff)\n",
    "        x_t_new = A @ x_t + B @ r_t\n",
    "        x_ts.append(x_t_new)\n",
    "        if np.allclose(x_t, x_t_new, atol = np.finfo(np.float32).eps):\n",
    "            break\n",
    "        x_t = x_t_new\n",
    "        i += 1\n",
    "        \n",
    "    return payoff, payoffs, x_ts"
   ]
  },
  {
   "cell_type": "markdown",
   "id": "6bcf7fc2-165a-4f4f-b668-6327542d89bd",
   "metadata": {},
   "source": [
    "### A default case: $\\delta = 0.9$, target agent 1:"
   ]
  },
  {
   "cell_type": "code",
   "execution_count": 21,
   "id": "6404c8f0-3a23-476d-aa18-a98de9145ab3",
   "metadata": {},
   "outputs": [
    {
     "data": {
      "text/plain": [
       "-66.05321306869209"
      ]
     },
     "execution_count": 21,
     "metadata": {},
     "output_type": "execute_result"
    }
   ],
   "source": [
    "minimize_scalar(lambda x: -1 * V(np.array([[5.0], [-10.0]], ndmin = 2), x, 0.9, A, B_0, 0)).fun * -1"
   ]
  },
  {
   "cell_type": "code",
   "execution_count": 22,
   "id": "ca2c343b-c545-405c-b855-7d3c1d7c61ac",
   "metadata": {},
   "outputs": [
    {
     "data": {
      "text/plain": [
       "-65.91616006233185"
      ]
     },
     "execution_count": 22,
     "metadata": {},
     "output_type": "execute_result"
    }
   ],
   "source": [
    "payoff, payoffs, x_ts = get_payoff(A, B_0, 0, np.array([[5.0], [-10.0]], ndmin = 2), 0.9)\n",
    "payoff"
   ]
  },
  {
   "cell_type": "markdown",
   "id": "fbab98f1-e8e9-4226-9bdf-0695181d2783",
   "metadata": {},
   "source": [
    "Payoff is better in the original model."
   ]
  },
  {
   "cell_type": "markdown",
   "id": "f9370e9b-afbd-46e4-9320-bc0be65ff996",
   "metadata": {},
   "source": [
    "### Target agent 2:"
   ]
  },
  {
   "cell_type": "code",
   "execution_count": 23,
   "id": "c2e2cf89-aa74-4fb1-bf36-d7cda8557491",
   "metadata": {},
   "outputs": [
    {
     "data": {
      "text/plain": [
       "-237.96782423209083"
      ]
     },
     "execution_count": 23,
     "metadata": {},
     "output_type": "execute_result"
    }
   ],
   "source": [
    "minimize_scalar(lambda x: -1 * V(np.array([[5.0], [-10.0]], ndmin = 2), x, 0.9, A, B_1, 1)).fun * -1"
   ]
  },
  {
   "cell_type": "code",
   "execution_count": 24,
   "id": "115dcad1-5801-437b-bc83-78113eca5ee0",
   "metadata": {},
   "outputs": [
    {
     "data": {
      "text/plain": [
       "-151.76644762784218"
      ]
     },
     "execution_count": 24,
     "metadata": {},
     "output_type": "execute_result"
    }
   ],
   "source": [
    "payoff, payoffs, x_ts = get_payoff(A, B_1, 0, np.array([[5.0], [-10.0]], ndmin = 2), 0.9)\n",
    "payoff"
   ]
  },
  {
   "cell_type": "markdown",
   "id": "789f1bf4-aac6-46da-a8f1-6ea4ea844eef",
   "metadata": {},
   "source": [
    "Still better in the original model."
   ]
  },
  {
   "cell_type": "markdown",
   "id": "a07ef302-88f6-4fe0-bcfc-8009c87fcb49",
   "metadata": {},
   "source": [
    "### Target agent 2 and flip $x_0$:"
   ]
  },
  {
   "cell_type": "code",
   "execution_count": 25,
   "id": "ed1e5a67-e4a5-4d05-9636-65d4c33de2be",
   "metadata": {},
   "outputs": [
    {
     "data": {
      "text/plain": [
       "-786.2464973198064"
      ]
     },
     "execution_count": 25,
     "metadata": {},
     "output_type": "execute_result"
    }
   ],
   "source": [
    "minimize_scalar(lambda x: -1 * V(np.array([[-10.0], [5.0]], ndmin = 2), x, 0.9, A, B_1, 1)).fun * -1"
   ]
  },
  {
   "cell_type": "code",
   "execution_count": 26,
   "id": "e2be2d2e-d3b8-4f9a-9bbd-c3d6d63f1d0e",
   "metadata": {},
   "outputs": [
    {
     "data": {
      "text/plain": [
       "-430.69444850557284"
      ]
     },
     "execution_count": 26,
     "metadata": {},
     "output_type": "execute_result"
    }
   ],
   "source": [
    "payoff, payoffs, x_ts = get_payoff(A, B_1, 0, np.array([[-10.0], [5.0]], ndmin = 2), 0.9)\n",
    "payoff"
   ]
  },
  {
   "cell_type": "markdown",
   "id": "6df389c7-cb7f-4057-b95f-6a48cef4f86a",
   "metadata": {},
   "source": [
    "Once again, better in the original model."
   ]
  },
  {
   "cell_type": "markdown",
   "id": "fbe7a9e9-1455-4d42-bd93-5c429c5c6502",
   "metadata": {},
   "source": [
    "### Default case but $\\delta = 0.1$:"
   ]
  },
  {
   "cell_type": "code",
   "execution_count": 27,
   "id": "52d0b071-4abf-4338-a3a4-c3a7dfee9cf8",
   "metadata": {},
   "outputs": [
    {
     "data": {
      "text/plain": [
       "-62.820307858210334"
      ]
     },
     "execution_count": 27,
     "metadata": {},
     "output_type": "execute_result"
    }
   ],
   "source": [
    "minimize_scalar(lambda x: -1 * V(np.array([[5.0], [-10.0]], ndmin = 2), x, 0.1, A, B_0, 0)).fun * -1"
   ]
  },
  {
   "cell_type": "code",
   "execution_count": 28,
   "id": "98d67cca-ffc6-4f6b-bcb5-b71747d8dc61",
   "metadata": {},
   "outputs": [
    {
     "data": {
      "text/plain": [
       "-62.8203076232815"
      ]
     },
     "execution_count": 28,
     "metadata": {},
     "output_type": "execute_result"
    }
   ],
   "source": [
    "payoff, payoffs, x_ts = get_payoff(A, B_0, 0, np.array([[5.0], [-10.0]], ndmin = 2), 0.1)\n",
    "payoff"
   ]
  },
  {
   "cell_type": "markdown",
   "id": "6f9a7988-8197-457d-ac29-906964de814f",
   "metadata": {},
   "source": [
    "With $\\delta = 1$, payoff is still better in the original model but the difference is much less."
   ]
  },
  {
   "cell_type": "markdown",
   "id": "95487c23-2e85-4f34-879a-8135d295bda7",
   "metadata": {},
   "source": [
    "### Extreme opinion difference:"
   ]
  },
  {
   "cell_type": "code",
   "execution_count": 29,
   "id": "193dbf01-42fa-4fe9-be64-e7f165d33005",
   "metadata": {},
   "outputs": [
    {
     "data": {
      "text/plain": [
       "-660532.1316408311"
      ]
     },
     "execution_count": 29,
     "metadata": {},
     "output_type": "execute_result"
    }
   ],
   "source": [
    "minimize_scalar(lambda x: -1 * V(np.array([[500.0], [-1000.0]], ndmin = 2), x, 0.9, A, B_0, 0)).fun * -1"
   ]
  },
  {
   "cell_type": "code",
   "execution_count": 30,
   "id": "f2c8b93d-81e6-45d0-824b-bcf0956233bb",
   "metadata": {},
   "outputs": [
    {
     "data": {
      "text/plain": [
       "-659161.6006233187"
      ]
     },
     "execution_count": 30,
     "metadata": {},
     "output_type": "execute_result"
    }
   ],
   "source": [
    "payoff, payoffs, x_ts = get_payoff(A, B_0, 0, np.array([[500.0], [-1000.0]], ndmin = 2), 0.9)\n",
    "payoff"
   ]
  },
  {
   "cell_type": "markdown",
   "id": "bcda80e9-21c1-412f-8329-0f8eac24c189",
   "metadata": {},
   "source": [
    "### Extreme difference, same sign:"
   ]
  },
  {
   "cell_type": "code",
   "execution_count": 31,
   "id": "bf514c76-640e-4a47-87c2-62c37594d257",
   "metadata": {},
   "outputs": [
    {
     "data": {
      "text/plain": [
       "-944789.1847682807"
      ]
     },
     "execution_count": 31,
     "metadata": {},
     "output_type": "execute_result"
    }
   ],
   "source": [
    "minimize_scalar(lambda x: -1 * V(np.array([[500.0], [1000.0]], ndmin = 2), x, 0.9, A, B_0, 0)).fun * -1"
   ]
  },
  {
   "cell_type": "code",
   "execution_count": 32,
   "id": "6ff12b2a-c86d-44bf-adde-b9e5bb791a80",
   "metadata": {},
   "outputs": [
    {
     "data": {
      "text/plain": [
       "-932454.4056098677"
      ]
     },
     "execution_count": 32,
     "metadata": {},
     "output_type": "execute_result"
    }
   ],
   "source": [
    "payoff, payoffs, x_ts = get_payoff(A, B_0, 0, np.array([[500.0], [1000.0]], ndmin = 2), 0.9)\n",
    "payoff"
   ]
  },
  {
   "cell_type": "markdown",
   "id": "0757e036-d2c5-4090-bf54-158595f0bf37",
   "metadata": {},
   "source": [
    "### No difference:"
   ]
  },
  {
   "cell_type": "code",
   "execution_count": 33,
   "id": "c7c2d5f0-6522-41d7-8598-634a925c447a",
   "metadata": {},
   "outputs": [
    {
     "data": {
      "text/plain": [
       "-39.212852559373964"
      ]
     },
     "execution_count": 33,
     "metadata": {},
     "output_type": "execute_result"
    }
   ],
   "source": [
    "minimize_scalar(lambda x: -1 * V(np.array([[5.0], [5.0]], ndmin = 2), x, 0.9, A, B_0, 0)).fun * -1"
   ]
  },
  {
   "cell_type": "code",
   "execution_count": 34,
   "id": "8f13746e-247a-44a2-a40e-45e903a41aa1",
   "metadata": {},
   "outputs": [
    {
     "data": {
      "text/plain": [
       "-38.664640249327455"
      ]
     },
     "execution_count": 34,
     "metadata": {},
     "output_type": "execute_result"
    }
   ],
   "source": [
    "payoff, payoffs, x_ts = get_payoff(A, B_0, 0, np.array([[5.0], [5.0]], ndmin = 2), 0.9)\n",
    "payoff"
   ]
  }
 ],
 "metadata": {
  "kernelspec": {
   "display_name": "Python 3",
   "language": "python",
   "name": "python3"
  },
  "language_info": {
   "codemirror_mode": {
    "name": "ipython",
    "version": 3
   },
   "file_extension": ".py",
   "mimetype": "text/x-python",
   "name": "python",
   "nbconvert_exporter": "python",
   "pygments_lexer": "ipython3",
   "version": "3.8.8"
  },
  "widgets": {
   "application/vnd.jupyter.widget-state+json": {
    "state": {},
    "version_major": 2,
    "version_minor": 0
   }
  }
 },
 "nbformat": 4,
 "nbformat_minor": 5
}
