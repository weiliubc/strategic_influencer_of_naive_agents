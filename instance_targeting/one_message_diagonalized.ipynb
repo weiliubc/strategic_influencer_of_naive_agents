{
 "cells": [
  {
   "cell_type": "markdown",
   "id": "da08d47d-dda5-4cde-921b-c0b8417e68e7",
   "metadata": {},
   "source": [
    "# One message model with a diagonalizable square matrix\n",
    "\n",
    "James Yu, 10 July 2022"
   ]
  },
  {
   "cell_type": "code",
   "execution_count": 1,
   "id": "9f0e2e14-913f-4593-819e-b66098c50bb9",
   "metadata": {},
   "outputs": [],
   "source": [
    "import numpy as np\n",
    "from sympy import *"
   ]
  },
  {
   "cell_type": "markdown",
   "id": "12e541a2-c7de-4401-9765-5d581e7bd9ac",
   "metadata": {},
   "source": [
    "Let $K = P^\\prime P$ be a symmetric matrix. Then:"
   ]
  },
  {
   "cell_type": "code",
   "execution_count": 2,
   "id": "c0cf65a0-ca99-40a0-bf5b-b84505def70d",
   "metadata": {},
   "outputs": [
    {
     "data": {
      "text/latex": [
       "$\\displaystyle \\left[\\begin{matrix}K_{11} & K_{12} & K_{13}\\\\K_{12} & K_{22} & K_{23}\\\\K_{13} & K_{23} & K_{33}\\end{matrix}\\right]$"
      ],
      "text/plain": [
       "Matrix([\n",
       "[K_11, K_12, K_13],\n",
       "[K_12, K_22, K_23],\n",
       "[K_13, K_23, K_33]])"
      ]
     },
     "execution_count": 2,
     "metadata": {},
     "output_type": "execute_result"
    }
   ],
   "source": [
    "k11, k12, k13, k22, k23, k33 = symbols(\"K_11 K_12 K_13 K_22 K_23 K_33\")\n",
    "K = Matrix([[k11, k12, k13], [k12, k22, k23], [k13, k23, k33]])\n",
    "K"
   ]
  },
  {
   "cell_type": "code",
   "execution_count": 3,
   "id": "1b8b5edd-25ec-4f03-865e-bd45155326b3",
   "metadata": {},
   "outputs": [
    {
     "data": {
      "text/latex": [
       "$\\displaystyle \\left[\\begin{matrix}\\lambda_{1} & 0 & 0\\\\0 & \\lambda_{2} & 0\\\\0 & 0 & \\lambda_{3}\\end{matrix}\\right]$"
      ],
      "text/plain": [
       "Matrix([\n",
       "[lambda_1,        0,        0],\n",
       "[       0, lambda_2,        0],\n",
       "[       0,        0, lambda_3]])"
      ]
     },
     "execution_count": 3,
     "metadata": {},
     "output_type": "execute_result"
    }
   ],
   "source": [
    "l1, l2, l3 = symbols(\"lambda_1 lambda_2 lambda_3\")\n",
    "D = Matrix([[l1, 0, 0], [0, l2, 0], [0, 0, l3]])\n",
    "D"
   ]
  },
  {
   "cell_type": "code",
   "execution_count": 4,
   "id": "1ae03fa3-48ac-4da9-a701-2cae92649727",
   "metadata": {},
   "outputs": [
    {
     "data": {
      "text/latex": [
       "$\\displaystyle \\left[\\begin{matrix}K_{11} \\lambda_{1}^{2} & K_{12} \\lambda_{1} \\lambda_{2} & K_{13} \\lambda_{1} \\lambda_{3}\\\\K_{12} \\lambda_{1} \\lambda_{2} & K_{22} \\lambda_{2}^{2} & K_{23} \\lambda_{2} \\lambda_{3}\\\\K_{13} \\lambda_{1} \\lambda_{3} & K_{23} \\lambda_{2} \\lambda_{3} & K_{33} \\lambda_{3}^{2}\\end{matrix}\\right]$"
      ],
      "text/plain": [
       "Matrix([\n",
       "[      K_11*lambda_1**2, K_12*lambda_1*lambda_2, K_13*lambda_1*lambda_3],\n",
       "[K_12*lambda_1*lambda_2,       K_22*lambda_2**2, K_23*lambda_2*lambda_3],\n",
       "[K_13*lambda_1*lambda_3, K_23*lambda_2*lambda_3,       K_33*lambda_3**2]])"
      ]
     },
     "execution_count": 4,
     "metadata": {},
     "output_type": "execute_result"
    }
   ],
   "source": [
    "D * K * D"
   ]
  },
  {
   "cell_type": "code",
   "execution_count": 5,
   "id": "3cbd2168-7b09-4a2d-a57c-15d9903d07a3",
   "metadata": {},
   "outputs": [
    {
     "data": {
      "text/latex": [
       "$\\displaystyle \\left[\\begin{matrix}K_{11} \\lambda_{1}^{4} & K_{12} \\lambda_{1}^{2} \\lambda_{2}^{2} & K_{13} \\lambda_{1}^{2} \\lambda_{3}^{2}\\\\K_{12} \\lambda_{1}^{2} \\lambda_{2}^{2} & K_{22} \\lambda_{2}^{4} & K_{23} \\lambda_{2}^{2} \\lambda_{3}^{2}\\\\K_{13} \\lambda_{1}^{2} \\lambda_{3}^{2} & K_{23} \\lambda_{2}^{2} \\lambda_{3}^{2} & K_{33} \\lambda_{3}^{4}\\end{matrix}\\right]$"
      ],
      "text/plain": [
       "Matrix([\n",
       "[            K_11*lambda_1**4, K_12*lambda_1**2*lambda_2**2, K_13*lambda_1**2*lambda_3**2],\n",
       "[K_12*lambda_1**2*lambda_2**2,             K_22*lambda_2**4, K_23*lambda_2**2*lambda_3**2],\n",
       "[K_13*lambda_1**2*lambda_3**2, K_23*lambda_2**2*lambda_3**2,             K_33*lambda_3**4]])"
      ]
     },
     "execution_count": 5,
     "metadata": {},
     "output_type": "execute_result"
    }
   ],
   "source": [
    "D * D * K * D * D"
   ]
  },
  {
   "cell_type": "code",
   "execution_count": 6,
   "id": "a8559bbd-51a1-4cf7-b216-47ae56c937f1",
   "metadata": {},
   "outputs": [
    {
     "data": {
      "text/latex": [
       "$\\displaystyle \\left[\\begin{matrix}K_{11} \\lambda_{1}^{6} & K_{12} \\lambda_{1}^{3} \\lambda_{2}^{3} & K_{13} \\lambda_{1}^{3} \\lambda_{3}^{3}\\\\K_{12} \\lambda_{1}^{3} \\lambda_{2}^{3} & K_{22} \\lambda_{2}^{6} & K_{23} \\lambda_{2}^{3} \\lambda_{3}^{3}\\\\K_{13} \\lambda_{1}^{3} \\lambda_{3}^{3} & K_{23} \\lambda_{2}^{3} \\lambda_{3}^{3} & K_{33} \\lambda_{3}^{6}\\end{matrix}\\right]$"
      ],
      "text/plain": [
       "Matrix([\n",
       "[            K_11*lambda_1**6, K_12*lambda_1**3*lambda_2**3, K_13*lambda_1**3*lambda_3**3],\n",
       "[K_12*lambda_1**3*lambda_2**3,             K_22*lambda_2**6, K_23*lambda_2**3*lambda_3**3],\n",
       "[K_13*lambda_1**3*lambda_3**3, K_23*lambda_2**3*lambda_3**3,             K_33*lambda_3**6]])"
      ]
     },
     "execution_count": 6,
     "metadata": {},
     "output_type": "execute_result"
    }
   ],
   "source": [
    "D * D * D * K * D * D * D"
   ]
  },
  {
   "cell_type": "code",
   "execution_count": 7,
   "id": "1c3c2676-7f14-469e-a6ce-60dfa80d92aa",
   "metadata": {},
   "outputs": [
    {
     "data": {
      "text/latex": [
       "$\\displaystyle \\left[\\begin{matrix}K_{11} \\left(\\lambda_{1}^{6} + \\lambda_{1}^{4} + \\lambda_{1}^{2} + 1\\right) & K_{12} \\left(\\lambda_{1}^{3} \\lambda_{2}^{3} + \\lambda_{1}^{2} \\lambda_{2}^{2} + \\lambda_{1} \\lambda_{2} + 1\\right) & K_{13} \\left(\\lambda_{1}^{3} \\lambda_{3}^{3} + \\lambda_{1}^{2} \\lambda_{3}^{2} + \\lambda_{1} \\lambda_{3} + 1\\right)\\\\K_{12} \\left(\\lambda_{1}^{3} \\lambda_{2}^{3} + \\lambda_{1}^{2} \\lambda_{2}^{2} + \\lambda_{1} \\lambda_{2} + 1\\right) & K_{22} \\left(\\lambda_{2}^{6} + \\lambda_{2}^{4} + \\lambda_{2}^{2} + 1\\right) & K_{23} \\left(\\lambda_{2}^{3} \\lambda_{3}^{3} + \\lambda_{2}^{2} \\lambda_{3}^{2} + \\lambda_{2} \\lambda_{3} + 1\\right)\\\\K_{13} \\left(\\lambda_{1}^{3} \\lambda_{3}^{3} + \\lambda_{1}^{2} \\lambda_{3}^{2} + \\lambda_{1} \\lambda_{3} + 1\\right) & K_{23} \\left(\\lambda_{2}^{3} \\lambda_{3}^{3} + \\lambda_{2}^{2} \\lambda_{3}^{2} + \\lambda_{2} \\lambda_{3} + 1\\right) & K_{33} \\left(\\lambda_{3}^{6} + \\lambda_{3}^{4} + \\lambda_{3}^{2} + 1\\right)\\end{matrix}\\right]$"
      ],
      "text/plain": [
       "Matrix([\n",
       "[                              K_11*(lambda_1**6 + lambda_1**4 + lambda_1**2 + 1), K_12*(lambda_1**3*lambda_2**3 + lambda_1**2*lambda_2**2 + lambda_1*lambda_2 + 1), K_13*(lambda_1**3*lambda_3**3 + lambda_1**2*lambda_3**2 + lambda_1*lambda_3 + 1)],\n",
       "[K_12*(lambda_1**3*lambda_2**3 + lambda_1**2*lambda_2**2 + lambda_1*lambda_2 + 1),                               K_22*(lambda_2**6 + lambda_2**4 + lambda_2**2 + 1), K_23*(lambda_2**3*lambda_3**3 + lambda_2**2*lambda_3**2 + lambda_2*lambda_3 + 1)],\n",
       "[K_13*(lambda_1**3*lambda_3**3 + lambda_1**2*lambda_3**2 + lambda_1*lambda_3 + 1), K_23*(lambda_2**3*lambda_3**3 + lambda_2**2*lambda_3**2 + lambda_2*lambda_3 + 1),                               K_33*(lambda_3**6 + lambda_3**4 + lambda_3**2 + 1)]])"
      ]
     },
     "execution_count": 7,
     "metadata": {},
     "output_type": "execute_result"
    }
   ],
   "source": [
    "simplify(K + (D * K * D) + (D * D * K * D * D) + (D * D * D * K * D * D * D))"
   ]
  },
  {
   "cell_type": "markdown",
   "id": "e591a05a-ca63-4a7e-89d4-e7f5d31d6206",
   "metadata": {},
   "source": [
    "Let the above matrix be denoted as $G^3$. Then we can easily see that $G_{i,j}^3 = K_{ij}((\\lambda_i \\lambda_j)^3 + (\\lambda_i \\lambda_j)^2 + (\\lambda_i \\lambda_j) + 1)$. This, extended to infinity, is a scalar infinite geometric series and so it has a solution: \n",
    "\n",
    "$$G^*_{i, j} = \\frac{K_{ij}}{1 - \\lambda_i \\lambda_j}$$"
   ]
  },
  {
   "cell_type": "markdown",
   "id": "c2a5fae3-0a7a-4a66-a703-ebf5836bd9ff",
   "metadata": {},
   "source": [
    "This generalizes to arbitrary dimensions based on the behaviour of $DKD$ in general."
   ]
  },
  {
   "cell_type": "code",
   "execution_count": 8,
   "id": "3879267f-fbff-40c5-a298-7d9f2ef82398",
   "metadata": {},
   "outputs": [],
   "source": [
    "A = np.array([\n",
    "    [0.3, 0.5, 0.2],\n",
    "    [0.3, 0.5, 0.2],\n",
    "    [0.3, 0.5, 0.2]\n",
    "])"
   ]
  },
  {
   "cell_type": "code",
   "execution_count": 9,
   "id": "5544f89a-d6e6-4bf7-9d6f-d624faedabcc",
   "metadata": {},
   "outputs": [
    {
     "name": "stdout",
     "output_type": "stream",
     "text": [
      "[[ 1.0000000e+00  0.0000000e+00  0.0000000e+00]\n",
      " [ 0.0000000e+00  3.6626128e-17  0.0000000e+00]\n",
      " [ 0.0000000e+00  0.0000000e+00 -2.1707311e-17]]\n",
      "[[ 0.57735027 -0.84998461  0.3933008 ]\n",
      " [ 0.57735027  0.35389685 -0.53505413]\n",
      " [ 0.57735027  0.39023479  0.74768413]]\n"
     ]
    }
   ],
   "source": [
    "eigvals, P = np.linalg.eig(A)\n",
    "D = np.diag(eigvals)\n",
    "print(D)\n",
    "print(P)"
   ]
  },
  {
   "cell_type": "code",
   "execution_count": 10,
   "id": "2d59710c-33bd-4011-97a4-684861cd0a23",
   "metadata": {},
   "outputs": [
    {
     "data": {
      "text/plain": [
       "array([[0.3, 0.5, 0.2],\n",
       "       [0.3, 0.5, 0.2],\n",
       "       [0.3, 0.5, 0.2]])"
      ]
     },
     "execution_count": 10,
     "metadata": {},
     "output_type": "execute_result"
    }
   ],
   "source": [
    "P @ D @ np.linalg.inv(P)"
   ]
  },
  {
   "cell_type": "markdown",
   "id": "2bbeb1d2-2fdd-4428-89ec-cb923e5d6b38",
   "metadata": {},
   "source": [
    "Now, we wish to compute the sum (let $\\delta = 1$ and start at $t = 0$ instead of $t = 1$ to get the idea across for now, it can be changed  later):\n",
    "$$\\sum\\limits_{t = 0}^\\infty \\mathbf{y}_0^\\prime (A^t)^\\prime A^t \\mathbf{y}_0$$"
   ]
  },
  {
   "cell_type": "markdown",
   "id": "3865191d-baf6-4b3c-8838-d112dbcce534",
   "metadata": {},
   "source": [
    "where $A = PDP^{-1}$ is diagonalizable."
   ]
  },
  {
   "cell_type": "markdown",
   "id": "3e62a11a-7977-46bc-a29d-f0a5860f25f2",
   "metadata": {},
   "source": [
    "It follows that we can compute the equivalent $\\mathbf{y}_0^\\prime [\\sum\\limits_{t = 0}^\\infty (A^t)^\\prime A^t]\\mathbf{y}_0$."
   ]
  },
  {
   "cell_type": "markdown",
   "id": "779148d6-436e-4da9-9b37-00e9c72334b6",
   "metadata": {},
   "source": [
    "The sum on the inside then evaluates to $\\sum\\limits_{t = 0}^\\infty ((PDP^{-1})^t)^\\prime (PDP^{-1})^t$."
   ]
  },
  {
   "cell_type": "markdown",
   "id": "42fdddd9-83e2-4ede-afb2-2fb32b51e469",
   "metadata": {},
   "source": [
    "$$= \\sum\\limits_{t = 0}^\\infty (PD^t P^{-1})^\\prime PD^tP^{-1}$$"
   ]
  },
  {
   "cell_type": "markdown",
   "id": "6fafb0b1-508c-4715-b721-461fa70eb374",
   "metadata": {
    "tags": []
   },
   "source": [
    "$$= \\sum\\limits_{t = 0}^\\infty (P^{-1})^\\prime D^t P^\\prime PD^tP^{-1}$$"
   ]
  },
  {
   "cell_type": "markdown",
   "id": "c30a250f-82ba-4ca2-a7ef-7b5cf6ad7922",
   "metadata": {},
   "source": [
    "$$= (P^{-1})^\\prime [\\sum\\limits_{t = 0}^\\infty  D^t P^\\prime PD^t]P^{-1}$$"
   ]
  },
  {
   "cell_type": "markdown",
   "id": "141a8930-b172-4128-9465-3a9bff686fcd",
   "metadata": {},
   "source": [
    "And now, using the solution we obtained above, each entry of the inner sum in brackets above is now: \n",
    "$$\\frac{(P^\\prime P)_{ij}}{1 - \\lambda_i \\lambda_j}$$"
   ]
  },
  {
   "cell_type": "markdown",
   "id": "f3e241f4-0a27-406b-b09e-2836e69976f5",
   "metadata": {},
   "source": [
    "Notice that if $P^\\prime = P^{-1}$, then $P^\\prime P = I$ where $I_{ii} = 1$ and $I_{ij} = 0$ for $i \\neq j$ and we get that the inner sum is a diagonal matrix where each entry with index $i$ is of the form:\n",
    "\n",
    "$$\\frac{1}{1 - \\lambda_i^2}$$"
   ]
  },
  {
   "cell_type": "markdown",
   "id": "5334ea14-79a6-41d2-aa48-9d2ba5cb4fdc",
   "metadata": {},
   "source": [
    "As it is diagonal, this is the same solution as $(I - D^2)^{-1}$, since the inverse of a diagonal matrix is the matrix of reciprocal diagonals. This means that the general solution is indeed a generalization of the one we already have for symmetric matrices."
   ]
  },
  {
   "cell_type": "code",
   "execution_count": 11,
   "id": "8ff4c53c-2762-44da-8c32-eed90a0a5b2c",
   "metadata": {},
   "outputs": [
    {
     "data": {
      "text/plain": [
       "array([ 1.0000000e+00,  3.6626128e-17, -2.1707311e-17])"
      ]
     },
     "execution_count": 11,
     "metadata": {},
     "output_type": "execute_result"
    }
   ],
   "source": [
    "eigvals"
   ]
  },
  {
   "cell_type": "code",
   "execution_count": 12,
   "id": "0aa14f24-392b-4223-af21-f661d24cac6d",
   "metadata": {},
   "outputs": [
    {
     "data": {
      "text/plain": [
       "array([[3.43, 4.05, 1.62],\n",
       "       [4.05, 7.75, 2.7 ],\n",
       "       [1.62, 2.7 , 2.08]])"
      ]
     },
     "execution_count": 12,
     "metadata": {},
     "output_type": "execute_result"
    }
   ],
   "source": [
    "sum([0.9**t * np.linalg.matrix_power(A, t).T @ np.linalg.matrix_power(A, t) for t in range(10000)]) # brute force direct"
   ]
  },
  {
   "cell_type": "code",
   "execution_count": 13,
   "id": "bc915eeb-605e-4940-ae88-293d2b435ea0",
   "metadata": {},
   "outputs": [
    {
     "data": {
      "text/plain": [
       "array([[10.        , -0.06111424,  0.34983431],\n",
       "       [-0.06111424,  1.        , -0.23188123],\n",
       "       [ 0.34983431, -0.23188123,  1.        ]])"
      ]
     },
     "execution_count": 13,
     "metadata": {},
     "output_type": "execute_result"
    }
   ],
   "source": [
    "G_brute_force = sum([0.9 ** t * np.linalg.matrix_power(D, t) @ P.T @ P @ np.linalg.matrix_power(D, t) for t in range(10000)])\n",
    "G_brute_force # brute force inner sum with diagonalization"
   ]
  },
  {
   "cell_type": "code",
   "execution_count": 14,
   "id": "6fa8072e-6eb5-4958-9ba1-14dd3b6d70b0",
   "metadata": {},
   "outputs": [
    {
     "data": {
      "text/plain": [
       "array([[3.43, 4.05, 1.62],\n",
       "       [4.05, 7.75, 2.7 ],\n",
       "       [1.62, 2.7 , 2.08]])"
      ]
     },
     "execution_count": 14,
     "metadata": {},
     "output_type": "execute_result"
    }
   ],
   "source": [
    "np.linalg.inv(P).T @ G_brute_force @ np.linalg.inv(P) # brute force total expression with diagonalization"
   ]
  },
  {
   "cell_type": "code",
   "execution_count": 15,
   "id": "887c1aee-48bb-410e-aa78-2fb51e182c70",
   "metadata": {},
   "outputs": [
    {
     "data": {
      "text/plain": [
       "array([[10.        , -0.06111424,  0.34983431],\n",
       "       [-0.06111424,  1.        , -0.23188123],\n",
       "       [ 0.34983431, -0.23188123,  1.        ]])"
      ]
     },
     "execution_count": 15,
     "metadata": {},
     "output_type": "execute_result"
    }
   ],
   "source": [
    "G = (P.T @ P) * np.array([ # elementwise multiply\n",
    "    [1/(1 - 0.9 * eigvals[0] * eigvals[0]), 1/(1 - 0.9 * eigvals[0] * eigvals[1]), 1/(1 - 0.9 * eigvals[0] * eigvals[2])],\n",
    "    [1/(1 - 0.9 * eigvals[1] * eigvals[0]), 1/(1 - 0.9 * eigvals[1] * eigvals[1]), 1/(1 - 0.9 * eigvals[1] * eigvals[2])],\n",
    "    [1/(1 - 0.9 * eigvals[2] * eigvals[0]), 1/(1 - 0.9 * eigvals[2] * eigvals[1]), 1/(1 - 0.9 * eigvals[2] * eigvals[2])],\n",
    "])\n",
    "G"
   ]
  },
  {
   "cell_type": "code",
   "execution_count": 16,
   "id": "e2b83d19-67f0-4350-8ebb-3ba924864b9b",
   "metadata": {},
   "outputs": [
    {
     "data": {
      "text/plain": [
       "array([[3.43, 4.05, 1.62],\n",
       "       [4.05, 7.75, 2.7 ],\n",
       "       [1.62, 2.7 , 2.08]])"
      ]
     },
     "execution_count": 16,
     "metadata": {},
     "output_type": "execute_result"
    }
   ],
   "source": [
    "np.linalg.inv(P).T @ G @ np.linalg.inv(P) # total expression using analytical solution"
   ]
  }
 ],
 "metadata": {
  "kernelspec": {
   "display_name": "Python 3",
   "language": "python",
   "name": "python3"
  },
  "language_info": {
   "codemirror_mode": {
    "name": "ipython",
    "version": 3
   },
   "file_extension": ".py",
   "mimetype": "text/x-python",
   "name": "python",
   "nbconvert_exporter": "python",
   "pygments_lexer": "ipython3",
   "version": "3.8.8"
  },
  "widgets": {
   "application/vnd.jupyter.widget-state+json": {
    "state": {},
    "version_major": 2,
    "version_minor": 0
   }
  }
 },
 "nbformat": 4,
 "nbformat_minor": 5
}
