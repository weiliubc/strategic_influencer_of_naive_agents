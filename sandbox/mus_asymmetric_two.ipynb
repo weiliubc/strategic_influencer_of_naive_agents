{
 "cells": [
  {
   "cell_type": "markdown",
   "id": "parallel-physics",
   "metadata": {},
   "source": [
    "# Unified Model with Multiple Strategic Agents\n",
    "\n",
    "Two naive agents\n",
    "\n",
    "James Yu, 20 August 2025"
   ]
  },
  {
   "cell_type": "code",
   "execution_count": 1,
   "id": "authorized-melissa",
   "metadata": {
    "tags": []
   },
   "outputs": [],
   "source": [
    "from collections import defaultdict\n",
    "import matplotlib.pyplot as plt\n",
    "import numpy as np\n",
    "\n",
    "np.set_printoptions(suppress=True)"
   ]
  },
  {
   "cell_type": "code",
   "execution_count": 2,
   "id": "precise-trick",
   "metadata": {
    "tags": []
   },
   "outputs": [],
   "source": [
    "def M(K, B, R, L, delta):\n",
    "    \"\"\"Computes M_{t-1} given B_l \\forall l, K_t^l \\forall l, \n",
    "        R_l \\forall l, number of strategic agents L, and delta.\"\"\"\n",
    "    # handle the generic structure first, with the correct pairings:\n",
    "    base = [[B[l_prime].T @ K[l_prime] @ B[l] for l in range(L)] for l_prime in range(L)]\n",
    "    # then change the diagonals to construct M_{t-1}:\n",
    "    for l in range(L): base[l][l] = B[l].T @ K[l] @ B[l] + R[l]/delta\n",
    "    return np.block(base)\n",
    "\n",
    "def H(B, K, A, L):\n",
    "    \"\"\"Computes H_{t-1} given B_l \\forall l, K_t^l \\forall l, \n",
    "        A, and number of strategic agents L.\"\"\"\n",
    "    return np.concatenate(tuple(B[l].T @ K[l] @ A for l in range(L)), axis = 0)\n",
    "\n",
    "def C_l(A, B, K, k, h, L, c, x, n):\n",
    "    \"\"\"Computes C_{t-1}^h (displayed as C_{t-1}^l) given A, B_l \\forall l, K_t^l \\forall l, \n",
    "        k_t^l \\forall l, a specific naive agent h, number of strategic agents L, \n",
    "        c_l \\forall l, x_l \\forall l, and number of naive agents n\"\"\"\n",
    "    return np.concatenate(tuple(B[l].T @ K[l] @ A @ ((x[h] - x[l]) * np.ones((n, 1))) \n",
    "                           + B[l].T @ K[l] @ c[l] \n",
    "                           + 0.5 * B[l].T @ k[l].T for l in range(L)), axis = 0)\n",
    "\n",
    "def E(M_, H_):\n",
    "    \"\"\"Computes the generic E_{t-1} given M_{t-1} and H_{t-1}.\"\"\"\n",
    "    return np.linalg.inv(M_) @ H_\n",
    "\n",
    "def F(M_, C_l_, l, n):\n",
    "    \"\"\"Computes F_{t-1}^l given M_{t-1}, C_{t-1}^l, \n",
    "       specific naive agent l and number of naive agents n.\"\"\"\n",
    "    return (np.linalg.inv(M_) @ C_l_)[l*n:(l+1)*n, :] # e.g. l = 0 gives ln = 0, l = 1 gives ln = n, etc\n",
    "\n",
    "def G(A, B, E_, L, n):\n",
    "    \"\"\"Computes the generic G_{t-1} given A, B_l \\forall l, \n",
    "        E_{t-1}, number of strategic agents L, and number of naive agents n.\"\"\"\n",
    "    return A - sum([B[l] @ E_[l*n:(l+1)*n, :] for l in range(L)])\n",
    "    \n",
    "def g_l(B, E_, h, x, F_, L, n, c):\n",
    "    \"\"\"Computes g_{t-1}^l given B_l \\forall l, E_{t-1}^l, \n",
    "        a particular naive agent h, x_l \\forall l, F_{t-1}^l \\forall l, \n",
    "        number of strategic agents L, number of naive agents n, and c_h.\"\"\"\n",
    "    return - sum([B[l] @ (E_[l*n:(l+1)*n, :] @ ((x[h] - x[l]) * np.ones((n, 1))) + F_[l]) for l in range(L)]) + c[h]"
   ]
  },
  {
   "cell_type": "code",
   "execution_count": 3,
   "id": "forced-trunk",
   "metadata": {},
   "outputs": [],
   "source": [
    "def K_t_minus_1(Q, K, E_, R, G_, L, delta, n):\n",
    "    return [Q[l] + E_[l*n:(l+1)*n, :].T @ R[l] @ E_[l*n:(l+1)*n, :] \n",
    "            + delta * G_.T @ K[l] @ G_ for l in range(L)]\n",
    "\n",
    "def k_t_minus_1(K, k, G_, g, E_, F_, R, L, delta, n):\n",
    "    return [2*delta* g[l].T @ K[l] @ G_ + delta * k[l] @ G_ \n",
    "            + 2 * F_[l].T @ R[l] @ E_[l*n:(l+1)*n, :] for l in range(L)]\n",
    "\n",
    "def kappa_t_minus_1(K, k, kappa, g_, F_, R, L, delta):            \n",
    "    return [-delta * (g_[l].T @ K[l] @ g_[l] + k[l] @ g_[l] - kappa[l]) \n",
    "            - (F_[l].T @ R[l] @ F_[l]) for l in range(L)]"
   ]
  },
  {
   "cell_type": "code",
   "execution_count": 4,
   "id": "pleased-criterion",
   "metadata": {
    "tags": []
   },
   "outputs": [],
   "source": [
    "def solve(K_t, k_t, kappa_t, A, B, delta, n, L, Q, R, x, c, tol = 300):\n",
    "    historical_K = [K_t]\n",
    "    historical_k = [k_t]\n",
    "    historical_kappa = [kappa_t]\n",
    "    max_distances = defaultdict(list)\n",
    "    counter = 0\n",
    "    while True:\n",
    "        M_ = M(K_t, B, R, L, delta)\n",
    "        H_ = H(B, K_t, A, L)\n",
    "        E_ = E(M_, H_)\n",
    "        G_ = G(A, B, E_, L, n)\n",
    "        K_new = K_t_minus_1(Q, K_t, E_, R, G_, L, delta, n)\n",
    "        F_ = [F(M_, C_l(A, B, K_t, k_t, l, L, c, x, n), l, n) for l in range(L)]\n",
    "        g = [g_l(B, E_, h, x, F_, L, n, c) for h in range(L)]\n",
    "        k_new = k_t_minus_1(K_t, k_t, G_, g, E_, F_, R, L, delta, n)\n",
    "        kappa_new = kappa_t_minus_1(K_t, k_t, kappa_t, g, F_, R, L, delta)\n",
    "        cd_K = [np.max(np.abs(K_t[l] - K_new[l])) for l in range(L)]\n",
    "        cd_k = [np.max(np.abs(k_t[l] - k_new[l])) for l in range(L)]\n",
    "        cd_kappa = [np.max(np.abs(kappa_t[l] - kappa_new[l])) for l in range(L)]\n",
    "        K_t = K_new\n",
    "        k_t = k_new\n",
    "        kappa_t = kappa_new\n",
    "        historical_K.insert(0, K_t)\n",
    "        historical_k.insert(0, k_t)\n",
    "        historical_kappa.insert(0, kappa_t)\n",
    "        for l in range(L):\n",
    "            max_distances[(l+1, \"K\")].append(cd_K[l])\n",
    "            max_distances[(l+1, \"k\")].append(cd_k[l])\n",
    "            max_distances[(l+1, \"kappa\")].append(cd_kappa[l])\n",
    "        counter += 1\n",
    "        if sum(cd_K + cd_k + cd_kappa) == 0 or counter > tol:\n",
    "            return max_distances, historical_K, historical_k, historical_kappa"
   ]
  },
  {
   "cell_type": "code",
   "execution_count": 5,
   "id": "unlimited-jamaica",
   "metadata": {},
   "outputs": [],
   "source": [
    "def optimal(X_init, historical_K, historical_k, historical_kappa, A, B, delta, n, L, Q, R, x, c, infinite = True):\n",
    "    X_t = [a.copy() for a in X_init]\n",
    "    xs = defaultdict(list)\n",
    "    for l in range(L):\n",
    "        xs[l].append(X_t[l])\n",
    "        \n",
    "    rs = defaultdict(list)\n",
    "    payoffs = defaultdict(list)\n",
    "    payoff = defaultdict(lambda: 0)\n",
    "    i = 0\n",
    "    while [i < len(historical_K), True][infinite]:\n",
    "        K_t = historical_K[[i, 0][infinite]]\n",
    "        k_t = historical_k[[i, 0][infinite]]\n",
    "        M_ = M(K_t, B, R, L, delta)\n",
    "        H_ = H(B, K_t, A, L)\n",
    "        E_ = E(M_, H_)\n",
    "        G_ = G(A, B, E_, L, n)\n",
    "        F_ = [F(M_, C_l(A, B, K_t, k_t, l, L, c, x, n), l, n) for l in range(L)]\n",
    "        g = [g_l(B, E_, h, x, F_, L, n, c) for h in range(L)]\n",
    "        for l in range(L):\n",
    "            # TODO: special code for finite horizon needs a terminal time T term\n",
    "            Y_new = -1 * E_[l*n:(l+1)*n, :] @ X_t[l] - F(M_, C_l(A, B, K_t, k_t, l, L, c, x, n), l, n)\n",
    "            rs[l].append(Y_new)\n",
    "            payoff[l] += (-1 * delta**i * (X_t[l].T @ Q[l] @ X_t[l])).item() + (-1 * delta**i * (Y_new.T @ R[l] @ Y_new)).item()\n",
    "            payoffs[l].append(payoff[l])\n",
    "            X_new = G_ @ X_t[l] + g[l]\n",
    "            xs[l].append(X_new)\n",
    "            if infinite == True and np.max(X_t[l] - X_new) == 0 and l == L - 1:\n",
    "                return xs, rs, payoffs\n",
    "            X_t[l] = X_new \n",
    "        i += 1\n",
    "        \n",
    "    return xs, rs, payoffs"
   ]
  },
  {
   "cell_type": "code",
   "execution_count": 6,
   "id": "synthetic-promotion",
   "metadata": {},
   "outputs": [],
   "source": [
    "def run_simulation(A, X_0_1, b1, b2, e_weight):\n",
    "    X_0 = [X_0_1 - b1, X_0_1 - b2]\n",
    "    delta = 0.9 # discount rate\n",
    "    c_cost = 1 # message cost\n",
    "    n = X_0_1.shape[0] # number of naive agents\n",
    "    L = 2 # number of strategic agents\n",
    "    Q = [np.identity(n), np.identity(n)] # objective function for messages is just X'IX = X'X\n",
    "    R = [c_cost * np.identity(n), c_cost * np.identity(n)] # message cost R = cI_n for some c under the new notation\n",
    "    b_matrix_1 = np.array([\n",
    "        [1-e_weight, 0.0],\n",
    "        [0.0, e_weight]\n",
    "    ])\n",
    "    b_matrix_2 = np.array([\n",
    "        [e_weight, 0.0],\n",
    "        [0.0, 1-e_weight]\n",
    "    ])\n",
    "    B = [b_matrix_1, b_matrix_2] # B^l\n",
    "    x = [b1, b2] # agendas\n",
    "    r = [0, 0] # message cost minimality is centered around zero\n",
    "    c_base = sum([B[l] @ (r[l] * np.ones((n, 1))) for l in range(L)])\n",
    "    c = [c_base + (A - np.identity(n)) @ (x[l] * np.ones((n, 1))) for l in range(L)] # normalization vector\n",
    "    max_distances, historical_K, historical_k, historical_kappa = solve(Q, [np.zeros((1, n)), np.zeros((1, n))], [0, 0], A, B, delta, n, L, Q, R, x, c, tol = 1000)\n",
    "    xs, rs, payoffs = optimal(X_0, historical_K, historical_k, historical_kappa, A, B, delta, n, L, Q, R, x, c)\n",
    "    return xs, rs, payoffs, historical_K\n",
    "    #print(xs[0][-1])\n",
    "    "
   ]
  },
  {
   "cell_type": "code",
   "execution_count": 7,
   "id": "ecbaaf4d-61fb-411c-ac00-e5a7f647e345",
   "metadata": {},
   "outputs": [],
   "source": [
    "X_0_1_numpy = np.array([[10.0, -5.0]], ndmin = 2).T"
   ]
  },
  {
   "cell_type": "code",
   "execution_count": 8,
   "id": "622bd2d2-723d-49be-a50f-7d7705bd17a8",
   "metadata": {},
   "outputs": [],
   "source": [
    "A_data = np.array([\n",
    "    [1.0, 0.0],\n",
    "    [0.0, 1.0]\n",
    "])"
   ]
  },
  {
   "cell_type": "markdown",
   "id": "7c93512d-8442-497d-b7d1-56bed3fb8ca6",
   "metadata": {},
   "source": [
    "# TEST 1: e = 0.01"
   ]
  },
  {
   "cell_type": "code",
   "execution_count": 9,
   "id": "9c111827-3206-4a7d-900b-0c26d90d74f6",
   "metadata": {
    "scrolled": true
   },
   "outputs": [],
   "source": [
    "b1_test = 1\n",
    "b2_test = -1\n",
    "e_test_1 = 0.01\n",
    "xs_1, rs_1, payoffs_1, historical_K_1 = run_simulation(A_data, X_0_1_numpy, b1_test, b2_test, e_test_1)"
   ]
  },
  {
   "cell_type": "code",
   "execution_count": 10,
   "id": "cb53e37d-0c8f-485c-b1f1-699179e4368c",
   "metadata": {},
   "outputs": [
    {
     "data": {
      "text/plain": [
       "array([[-0.0000326],\n",
       "       [-1.9999674]])"
      ]
     },
     "execution_count": 10,
     "metadata": {},
     "output_type": "execute_result"
    }
   ],
   "source": [
    "xs_1[0][-1]"
   ]
  },
  {
   "cell_type": "code",
   "execution_count": 11,
   "id": "7401ae5c-147b-4055-a923-ae30a3c72aec",
   "metadata": {},
   "outputs": [
    {
     "data": {
      "text/plain": [
       "array([[ 0.9999674],\n",
       "       [-0.9999674]])"
      ]
     },
     "execution_count": 11,
     "metadata": {},
     "output_type": "execute_result"
    }
   ],
   "source": [
    "xs_1[0][-1] + b1_test"
   ]
  },
  {
   "cell_type": "code",
   "execution_count": 12,
   "id": "b30e6b71-5fef-4f6f-a323-46b660ac85a9",
   "metadata": {},
   "outputs": [
    {
     "data": {
      "text/plain": [
       "array([[ 0.9999674],\n",
       "       [-0.9999674]])"
      ]
     },
     "execution_count": 12,
     "metadata": {},
     "output_type": "execute_result"
    }
   ],
   "source": [
    "xs_1[1][-1] + b2_test"
   ]
  },
  {
   "cell_type": "code",
   "execution_count": 13,
   "id": "62addc6e-cc4a-40ed-9ebb-ace7c762aa03",
   "metadata": {},
   "outputs": [
    {
     "data": {
      "text/plain": [
       "[array([[1.59659721, 0.        ],\n",
       "        [0.        , 1.18367315]]),\n",
       " array([[1.18367315, 0.        ],\n",
       "        [0.        , 1.59659721]])]"
      ]
     },
     "execution_count": 13,
     "metadata": {},
     "output_type": "execute_result"
    }
   ],
   "source": [
    "historical_K_1[0]"
   ]
  },
  {
   "cell_type": "markdown",
   "id": "cdf8f335-6aa6-4fea-b80d-6e8db16d8d5e",
   "metadata": {},
   "source": [
    "# LIMIT OPINION:"
   ]
  },
  {
   "cell_type": "code",
   "execution_count": 14,
   "id": "7b55fbc6-773b-470c-a4c0-906ce3e70822",
   "metadata": {},
   "outputs": [
    {
     "data": {
      "text/plain": [
       "array([[ 0.9999674, -0.9999674]])"
      ]
     },
     "execution_count": 14,
     "metadata": {},
     "output_type": "execute_result"
    }
   ],
   "source": [
    "(xs_1[0][-1] + b1_test).T"
   ]
  },
  {
   "cell_type": "markdown",
   "id": "a248e910-a85d-4a07-bade-f5159b9f206a",
   "metadata": {},
   "source": [
    "This is approximately the agendas."
   ]
  },
  {
   "cell_type": "markdown",
   "id": "d78bef63-ee55-43af-b642-ad437209f195",
   "metadata": {},
   "source": [
    "# K1, K2:"
   ]
  },
  {
   "cell_type": "code",
   "execution_count": 15,
   "id": "8d6261b9-b058-46e7-ae4b-e50acd1a8539",
   "metadata": {},
   "outputs": [
    {
     "data": {
      "text/plain": [
       "array([[1.59659721, 0.        ],\n",
       "       [0.        , 1.18367315]])"
      ]
     },
     "execution_count": 15,
     "metadata": {},
     "output_type": "execute_result"
    }
   ],
   "source": [
    "historical_K_1[0][0] # THIS IS K1"
   ]
  },
  {
   "cell_type": "code",
   "execution_count": 16,
   "id": "49435377-1439-4059-8bc7-5a4d253d0154",
   "metadata": {},
   "outputs": [
    {
     "data": {
      "text/plain": [
       "array([[1.18367315, 0.        ],\n",
       "       [0.        , 1.59659721]])"
      ]
     },
     "execution_count": 16,
     "metadata": {},
     "output_type": "execute_result"
    }
   ],
   "source": [
    "historical_K_1[0][1] # THIS IS K2"
   ]
  },
  {
   "cell_type": "markdown",
   "id": "9bed57b9-a015-48b0-9452-a399da32cf79",
   "metadata": {},
   "source": [
    "# LIMIT MESSAGES:"
   ]
  },
  {
   "cell_type": "code",
   "execution_count": 17,
   "id": "204be5c1-f5aa-4728-bed7-803cce3d1764",
   "metadata": {},
   "outputs": [
    {
     "data": {
      "text/plain": [
       "array([[0.00029031],\n",
       "       [0.02874087]])"
      ]
     },
     "execution_count": 17,
     "metadata": {},
     "output_type": "execute_result"
    }
   ],
   "source": [
    "rs_1[0][-1] # strategic agent 1"
   ]
  },
  {
   "cell_type": "code",
   "execution_count": 18,
   "id": "1075bc85-ff5f-47d1-b334-19c480f5b903",
   "metadata": {},
   "outputs": [
    {
     "data": {
      "text/plain": [
       "array([[-0.02874087],\n",
       "       [-0.00029031]])"
      ]
     },
     "execution_count": 18,
     "metadata": {},
     "output_type": "execute_result"
    }
   ],
   "source": [
    "rs_1[1][-1] # strategic agent 2"
   ]
  },
  {
   "cell_type": "markdown",
   "id": "388e5d2b-d034-4a6e-a397-71dd72dc3e34",
   "metadata": {},
   "source": [
    "# TEST 2: e = 0.5"
   ]
  },
  {
   "cell_type": "code",
   "execution_count": 19,
   "id": "5614bf03-fcc2-4ed0-8378-0634746685f5",
   "metadata": {},
   "outputs": [],
   "source": [
    "e_test_2 = 0.5\n",
    "xs_2, rs_2, payoffs_2, historical_K_2 = run_simulation(A_data, X_0_1_numpy, b1_test, b2_test, e_test_2)"
   ]
  },
  {
   "cell_type": "markdown",
   "id": "640f8130-f951-4790-91c3-c717e5d4ebad",
   "metadata": {},
   "source": [
    "# LIMIT OPINION:"
   ]
  },
  {
   "cell_type": "code",
   "execution_count": 20,
   "id": "1283552d-543d-4b5a-b24e-b785b8c5c88b",
   "metadata": {},
   "outputs": [
    {
     "data": {
      "text/plain": [
       "array([[0., 0.]])"
      ]
     },
     "execution_count": 20,
     "metadata": {},
     "output_type": "execute_result"
    }
   ],
   "source": [
    "(xs_2[0][-1] + b1_test).T"
   ]
  },
  {
   "cell_type": "markdown",
   "id": "acec8b26-5f57-468e-b01c-7b3a233bdbcc",
   "metadata": {},
   "source": [
    "# K1, K2:"
   ]
  },
  {
   "cell_type": "code",
   "execution_count": 21,
   "id": "3860add3-782e-40e8-af9c-11017725169a",
   "metadata": {},
   "outputs": [
    {
     "data": {
      "text/plain": [
       "array([[1.67483714, 0.        ],\n",
       "       [0.        , 1.67483714]])"
      ]
     },
     "execution_count": 21,
     "metadata": {},
     "output_type": "execute_result"
    }
   ],
   "source": [
    "historical_K_2[0][0] # THIS IS K1"
   ]
  },
  {
   "cell_type": "code",
   "execution_count": 22,
   "id": "03a4e0af-644a-4d8d-8be7-48d2eaa648b3",
   "metadata": {},
   "outputs": [
    {
     "data": {
      "text/plain": [
       "array([[1.67483714, 0.        ],\n",
       "       [0.        , 1.67483714]])"
      ]
     },
     "execution_count": 22,
     "metadata": {},
     "output_type": "execute_result"
    }
   ],
   "source": [
    "historical_K_2[0][1] # THIS IS K2"
   ]
  },
  {
   "cell_type": "markdown",
   "id": "f71d3636-72ac-4bce-b3fa-b56dcfbefef4",
   "metadata": {},
   "source": [
    "# LIMIT MESSAGES:"
   ]
  },
  {
   "cell_type": "code",
   "execution_count": 23,
   "id": "ce513986-614a-4283-ba25-e88787406169",
   "metadata": {},
   "outputs": [
    {
     "data": {
      "text/plain": [
       "array([[1.53376187],\n",
       "       [1.53376187]])"
      ]
     },
     "execution_count": 23,
     "metadata": {},
     "output_type": "execute_result"
    }
   ],
   "source": [
    "rs_2[0][-1] # strategic agent 1"
   ]
  },
  {
   "cell_type": "code",
   "execution_count": 24,
   "id": "3ef811ae-4aba-4d75-a3fa-e681f5e1752c",
   "metadata": {},
   "outputs": [
    {
     "data": {
      "text/plain": [
       "array([[-1.53376187],\n",
       "       [-1.53376187]])"
      ]
     },
     "execution_count": 24,
     "metadata": {},
     "output_type": "execute_result"
    }
   ],
   "source": [
    "rs_2[1][-1] # strategic agent 2"
   ]
  },
  {
   "cell_type": "markdown",
   "id": "3a99f206-6773-4277-bc00-262bb4c93f34",
   "metadata": {},
   "source": [
    "# TEST 3: when does it change from polarization to consensus?"
   ]
  },
  {
   "cell_type": "code",
   "execution_count": 25,
   "id": "c80a423e-2bc4-438e-bfab-8a42864880d6",
   "metadata": {},
   "outputs": [],
   "source": [
    "xs_res_grid = []\n",
    "for e_test_3 in np.linspace(0.01, 0.5, 100):\n",
    "    xs_3, rs_3, payoffs_3, historical_K_3 = run_simulation(A_data, X_0_1_numpy, b1_test, b2_test, e_test_3)\n",
    "    xs_res_grid.append(xs_3[0][-1] + b1_test)"
   ]
  },
  {
   "cell_type": "code",
   "execution_count": 26,
   "id": "779c4754-4faa-43d9-b6b2-08cd9c17270a",
   "metadata": {},
   "outputs": [
    {
     "data": {
      "text/plain": [
       "array([[ 0.9999674],\n",
       "       [-0.9999674]])"
      ]
     },
     "execution_count": 26,
     "metadata": {},
     "output_type": "execute_result"
    }
   ],
   "source": [
    "xs_res_grid[0]"
   ]
  },
  {
   "cell_type": "code",
   "execution_count": 27,
   "id": "17668e32-7ffb-4185-9c27-934ab751d1b6",
   "metadata": {},
   "outputs": [
    {
     "data": {
      "text/plain": [
       "array([0.9999674])"
      ]
     },
     "execution_count": 27,
     "metadata": {},
     "output_type": "execute_result"
    }
   ],
   "source": [
    "xs_res_grid[0][0]"
   ]
  },
  {
   "cell_type": "code",
   "execution_count": 28,
   "id": "621cb096-007f-49e3-bde9-da1976d5c054",
   "metadata": {},
   "outputs": [
    {
     "data": {
      "text/plain": [
       "np.float64(-0.9999674043374425)"
      ]
     },
     "execution_count": 28,
     "metadata": {},
     "output_type": "execute_result"
    }
   ],
   "source": [
    "xs_res_grid[0][1][0]"
   ]
  },
  {
   "cell_type": "code",
   "execution_count": 29,
   "id": "812d067e-5adc-4d0c-badc-a9eaea63f7a3",
   "metadata": {},
   "outputs": [
    {
     "data": {
      "image/png": "[encoded data removed]",
      "text/plain": [
       "<Figure size 640x480 with 1 Axes>"
      ]
     },
     "metadata": {},
     "output_type": "display_data"
    }
   ],
   "source": [
    "plt.plot(np.linspace(0.01, 0.5, 100), [xs_res[0][0] for xs_res in xs_res_grid], label = \"naive agent 1\")\n",
    "plt.plot(np.linspace(0.01, 0.5, 100), [xs_res[1][0] for xs_res in xs_res_grid], label = \"naive agent 2\")\n",
    "plt.xlabel(\"e\")\n",
    "plt.ylabel(\"limit opinion\")\n",
    "plt.legend()\n",
    "plt.show()"
   ]
  },
  {
   "cell_type": "markdown",
   "id": "17126cd3-4974-4dd8-b586-b7da6274dee0",
   "metadata": {},
   "source": [
    "# TEST 4: what if $e$ keeps going?"
   ]
  },
  {
   "cell_type": "code",
   "execution_count": 30,
   "id": "71bbd271-349c-4b2e-867c-63fbfe89bc88",
   "metadata": {},
   "outputs": [],
   "source": [
    "xs_res_grid_2 = []\n",
    "for e_test_4 in np.linspace(0.01, 0.99, 100):\n",
    "    xs_4, rs_4, payoffs_4, historical_K_4 = run_simulation(A_data, X_0_1_numpy, b1_test, b2_test, e_test_4)\n",
    "    xs_res_grid_2.append(xs_4[0][-1] + b1_test)"
   ]
  },
  {
   "cell_type": "code",
   "execution_count": 31,
   "id": "9183a3f5-9976-4253-94de-7ba03bd8a350",
   "metadata": {},
   "outputs": [
    {
     "data": {
      "image/png": "[encoded data removed]",
      "text/plain": [
       "<Figure size 640x480 with 1 Axes>"
      ]
     },
     "metadata": {},
     "output_type": "display_data"
    }
   ],
   "source": [
    "plt.plot(np.linspace(0.01, 0.99, 100), [xs_res[0][0] for xs_res in xs_res_grid_2], label = \"naive agent 1\")\n",
    "plt.plot(np.linspace(0.01, 0.99, 100), [xs_res[1][0] for xs_res in xs_res_grid_2], label = \"naive agent 2\")\n",
    "plt.xlabel(\"e\")\n",
    "plt.ylabel(\"limit opinion\")\n",
    "plt.legend()\n",
    "plt.show()"
   ]
  }
 ],
 "metadata": {
  "kernelspec": {
   "display_name": "Python (strategic)",
   "language": "python",
   "name": "strategic"
  },
  "language_info": {
   "codemirror_mode": {
    "name": "ipython",
    "version": 3
   },
   "file_extension": ".py",
   "mimetype": "text/x-python",
   "name": "python",
   "nbconvert_exporter": "python",
   "pygments_lexer": "ipython3",
   "version": "3.12.1"
  },
  "widgets": {
   "application/vnd.jupyter.widget-state+json": {
    "state": {},
    "version_major": 2,
    "version_minor": 0
   }
  }
 },
 "nbformat": 4,
 "nbformat_minor": 5
}
