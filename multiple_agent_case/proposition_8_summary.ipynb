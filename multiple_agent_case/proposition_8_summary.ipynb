{
 "cells": [
  {
   "cell_type": "markdown",
   "id": "05428c01-a684-4429-b07e-994cf7994bca",
   "metadata": {},
   "source": [
    "# Proposition 8: Simulations with Original Program (Summary)\n",
    "\n",
    "### Unified Model, Multiple Weighted Strategic Agents, Symmetric Network\n",
    "\n",
    "James Yu, 22 July 2023"
   ]
  },
  {
   "cell_type": "code",
   "execution_count": 1,
   "id": "2c91c0d4-5cb5-4969-8850-cc9fcd79b53e",
   "metadata": {},
   "outputs": [],
   "source": [
    "from collections import defaultdict\n",
    "import matplotlib.pyplot as plt\n",
    "import numpy as np\n",
    "np.set_printoptions(suppress=True)"
   ]
  },
  {
   "cell_type": "markdown",
   "id": "77c18ae7-32e2-4945-a4f8-ee16c25ecf3f",
   "metadata": {},
   "source": [
    "## Unprojected Solution Code"
   ]
  },
  {
   "cell_type": "code",
   "execution_count": 2,
   "id": "96a52398-750a-43fb-9903-3ce90d1471ae",
   "metadata": {},
   "outputs": [],
   "source": [
    "def M(K, B, R, L, delta):\n",
    "    \"\"\"Computes M_{t-1} given B_l \\forall l, K_t^l \\forall l, \n",
    "        R_l \\forall l, number of strategic agents L, and delta.\"\"\"\n",
    "    # handle the generic structure first, with the correct pairings:\n",
    "    base = [[B[l_prime].T @ K[l_prime] @ B[l] for l in range(L)] for l_prime in range(L)]\n",
    "    # then change the diagonals to construct M_{t-1}:\n",
    "    for l in range(L): base[l][l] = B[l].T @ K[l] @ B[l] + R[l]/delta\n",
    "    return np.block(base)\n",
    "\n",
    "def H(B, K, A, L):\n",
    "    \"\"\"Computes H_{t-1} given B_l \\forall l, K_t^l \\forall l, \n",
    "        A, and number of strategic agents L.\"\"\"\n",
    "    return np.concatenate(tuple(B[l].T @ K[l] @ A for l in range(L)), axis = 0)\n",
    "\n",
    "def C_l(A, B, K, k, h, L, c, x, n):\n",
    "    \"\"\"Computes C_{t-1}^h (displayed as C_{t-1}^l) given A, B_l \\forall l, K_t^l \\forall l, \n",
    "        k_t^l \\forall l, a specific naive agent h, number of strategic agents L, \n",
    "        c_l \\forall l, x_l \\forall l, and number of naive agents n\"\"\"\n",
    "    return np.concatenate(tuple(B[l].T @ K[l] @ A @ ((x[h] - x[l]) * np.ones((n, 1))) \n",
    "                           + B[l].T @ K[l] @ c[l] \n",
    "                           + 0.5 * B[l].T @ k[l].T for l in range(L)), axis = 0)\n",
    "\n",
    "def E(M_, H_):\n",
    "    \"\"\"Computes the generic E_{t-1} given M_{t-1} and H_{t-1}.\"\"\"\n",
    "    return np.linalg.inv(M_) @ H_\n",
    "\n",
    "def F(M_, C_l_, l, n):\n",
    "    \"\"\"Computes F_{t-1}^l given M_{t-1}, C_{t-1}^l, \n",
    "       specific naive agent l and number of naive agents n.\"\"\"\n",
    "    return (np.linalg.inv(M_) @ C_l_)[l*n:(l+1)*n, :] # e.g. l = 0 gives ln = 0, l = 1 gives ln = n, etc\n",
    "\n",
    "def G(A, B, E_, L, n):\n",
    "    \"\"\"Computes the generic G_{t-1} given A, B_l \\forall l, \n",
    "        E_{t-1}, number of strategic agents L, and number of naive agents n.\"\"\"\n",
    "    return A - sum([B[l] @ E_[l*n:(l+1)*n, :] for l in range(L)])\n",
    "    \n",
    "def g_l(B, E_, h, x, F_, L, n, c):\n",
    "    \"\"\"Computes g_{t-1}^l given B_l \\forall l, E_{t-1}^l, \n",
    "        a particular naive agent h, x_l \\forall l, F_{t-1}^l \\forall l, \n",
    "        number of strategic agents L, number of naive agents n, and c_h.\"\"\"\n",
    "    return - sum([B[l] @ (E_[l*n:(l+1)*n, :] @ ((x[h] - x[l]) * np.ones((n, 1))) + F_[l]) for l in range(L)]) + c[h]"
   ]
  },
  {
   "cell_type": "code",
   "execution_count": 3,
   "id": "e93ccabd-fdf7-43e7-b1e5-78f26321eb6d",
   "metadata": {},
   "outputs": [],
   "source": [
    "def K_t_minus_1(Q, K, E_, R, G_, L, delta, n):\n",
    "    return [Q[l] + E_[l*n:(l+1)*n, :].T @ R[l] @ E_[l*n:(l+1)*n, :] \n",
    "            + delta * G_.T @ K[l] @ G_ for l in range(L)]\n",
    "\n",
    "def k_t_minus_1(K, k, G_, g, E_, F_, R, L, delta, n):\n",
    "    return [2*delta* g[l].T @ K[l] @ G_ + delta * k[l] @ G_ \n",
    "            + 2 * F_[l].T @ R[l] @ E_[l*n:(l+1)*n, :] for l in range(L)]\n",
    "\n",
    "def kappa_t_minus_1(K, k, kappa, g_, F_, R, L, delta):            \n",
    "    return [-delta * (g_[l].T @ K[l] @ g_[l] + k[l] @ g_[l] - kappa[l]) \n",
    "            - (F_[l].T @ R[l] @ F_[l]) for l in range(L)]"
   ]
  },
  {
   "cell_type": "code",
   "execution_count": 4,
   "id": "bb45d95d-e326-4ce1-a0eb-b98dec9cc4ab",
   "metadata": {},
   "outputs": [],
   "source": [
    "def should_terminate(bundles, eps):\n",
    "    return all([np.allclose(b[0], b[1], rtol = eps, atol = eps) for b in bundles])\n",
    "\n",
    "def solve(K_t, k_t, kappa_t, A, B, delta, n, L, Q, R, x, c, tol):\n",
    "    historical_K = [K_t]\n",
    "    historical_k = [k_t]\n",
    "    historical_kappa = [kappa_t]\n",
    "    eps = np.sqrt(10**-11)\n",
    "    while True:\n",
    "        M_ = M(K_t, B, R, L, delta)\n",
    "        H_ = H(B, K_t, A, L)\n",
    "        E_ = E(M_, H_)\n",
    "        G_ = G(A, B, E_, L, n)\n",
    "        K_new = K_t_minus_1(Q, K_t, E_, R, G_, L, delta, n)\n",
    "        F_ = [F(M_, C_l(A, B, K_t, k_t, l, L, c, x, n), l, n) for l in range(L)]\n",
    "        g = [g_l(B, E_, h, x, F_, L, n, c) for h in range(L)]\n",
    "        k_new = k_t_minus_1(K_t, k_t, G_, g, E_, F_, R, L, delta, n)\n",
    "        kappa_new = kappa_t_minus_1(K_t, k_t, kappa_t, g, F_, R, L, delta)\n",
    "        historical_K.insert(0, K_new)\n",
    "        historical_k.insert(0, k_new)\n",
    "        historical_kappa.insert(0, kappa_new)\n",
    "        if should_terminate([(K_t, K_new), (k_t, k_new), (kappa_t, kappa_new)], eps):\n",
    "            return historical_K[0], historical_k[0], historical_kappa[0]\n",
    "        K_t = K_new\n",
    "        k_t = k_new\n",
    "        kappa_t = kappa_new"
   ]
  },
  {
   "cell_type": "code",
   "execution_count": 5,
   "id": "85a4f453-ecff-4d35-8fa0-3d97f9a24d88",
   "metadata": {},
   "outputs": [],
   "source": [
    "def optimal(X_init, K_ss, k_ss, A, B, delta, n, L, Q, R, x, c, eps):\n",
    "    X_t = [a.copy() for a in X_init]\n",
    "    xs = defaultdict(list)\n",
    "    for l in range(L):\n",
    "        xs[l].append(X_t[l])\n",
    "        \n",
    "    rs = defaultdict(list)\n",
    "    payoffs = defaultdict(list)\n",
    "    payoff = defaultdict(int)\n",
    "    \n",
    "    M_ = M(K_ss, B, R, L, delta)\n",
    "    H_ = H(B, K_ss, A, L)\n",
    "    E_ = E(M_, H_)\n",
    "    G_ = G(A, B, E_, L, n)\n",
    "    F_ = [F(M_, C_l(A, B, K_ss, k_ss, l, L, c, x, n), l, n) for l in range(L)]\n",
    "    g = [g_l(B, E_, h, x, F_, L, n, c) for h in range(L)]\n",
    "    \n",
    "    i = 0\n",
    "    while True:\n",
    "        for l in range(L):\n",
    "            # TODO: special code for finite horizon needs a terminal time T term\n",
    "            Y_new = -1 * E_[l*n:(l+1)*n, :] @ X_t[l] - F_[l]\n",
    "            rs[l].append(Y_new)\n",
    "            payoff[l] += (-1 * delta**i * (X_t[l].T @ Q[l] @ X_t[l])).item() + (-1 * delta**i * (Y_new.T @ R[l] @ Y_new)).item()\n",
    "            payoffs[l].append(payoff[l])\n",
    "            X_new = G_ @ X_t[l] + g[l]\n",
    "            xs[l].append(X_new)\n",
    "            if l == L - 1 and np.allclose(X_t[l], X_new, rtol = eps, atol = eps):\n",
    "                return xs, rs, payoffs\n",
    "            X_t[l] = X_new \n",
    "        i += 1\n",
    "        \n",
    "    return xs, rs, payoffs"
   ]
  },
  {
   "cell_type": "code",
   "execution_count": 6,
   "id": "d233ea88-234d-42f3-a028-8137fbe13cab",
   "metadata": {},
   "outputs": [],
   "source": [
    "def run_simulation(A, b1, b2, alpha1, alpha2, delta, c, X_0_1, tol = 10**-11):\n",
    "    X_0 = [X_0_1 - b1, X_0_1 - b2]\n",
    "    n = A.shape[0] # number of naive agents\n",
    "    L = 2 # number of strategic agents\n",
    "    Q = [np.identity(n), np.identity(n)] # objective function for messages is just X'IX = X'X\n",
    "    R = [c * np.identity(n), c * np.identity(n)] # message cost R = cI_n for some c under the new notation\n",
    "    B = [alpha1 * np.identity(n), alpha2 * np.identity(n)] # B^l = a_l I_n\n",
    "    x = [b1, b2] # agendas\n",
    "    r = [0, 0] # message cost minimality is centered around zero\n",
    "    c_base = sum([B[l] @ (r[l] * np.ones((n, 1))) for l in range(L)])\n",
    "    c = [c_base + (A - np.identity(n)) @ (x[l] * np.ones((n, 1))) for l in range(L)] # normalization vector\n",
    "    \n",
    "    K_ss, k_ss, kappa_ss = solve(Q, [np.zeros((1, n)), np.zeros((1, n))], [0, 0], A, B, delta, n, L, Q, R, x, c, tol)\n",
    "    xs, rs, payoffs = optimal(X_0, K_ss, k_ss, A, B, delta, n, L, Q, R, x, c, tol)\n",
    "    \n",
    "    result = {\n",
    "        \"K\": K_ss,\n",
    "        \"k\": k_ss,\n",
    "        \"kappa\": kappa_ss,\n",
    "        \"x\": xs,\n",
    "        \"r\": rs,\n",
    "        \"payoffs\": payoffs\n",
    "    }\n",
    "    return result"
   ]
  },
  {
   "cell_type": "markdown",
   "id": "4abe08f6-a721-47b4-a55d-5a8b05ebfd7f",
   "metadata": {},
   "source": [
    "# Common parameters for the examples:"
   ]
  },
  {
   "cell_type": "code",
   "execution_count": 7,
   "id": "f83f377c-1eb3-4436-b543-79d35e662dea",
   "metadata": {},
   "outputs": [],
   "source": [
    "delta = 0.9\n",
    "c = 2.0\n",
    "x0 = np.array([[10.0, -5.0]], ndmin = 2).T\n",
    "b1 = 10\n",
    "b2 = -5\n",
    "alpha1 = 6\n",
    "alpha2 = 5"
   ]
  },
  {
   "cell_type": "markdown",
   "id": "f42735af-b841-44f3-afe7-7b8638d46dbf",
   "metadata": {},
   "source": [
    "# Example 1: $a_1 = 0.6, a_2 = 0.4$"
   ]
  },
  {
   "cell_type": "code",
   "execution_count": 8,
   "id": "b02b7739-6451-41f0-8a9d-df76b75dcc1f",
   "metadata": {},
   "outputs": [],
   "source": [
    "A1 = np.array([\n",
    "    [0.6, 0.4],\n",
    "    [0.6, 0.4]\n",
    "])\n",
    "V1 = (1/np.sqrt(0.6**2 + 0.4**2)) * np.array([\n",
    "    [0.6, -0.4],\n",
    "    [0.4, 0.6]\n",
    "])"
   ]
  },
  {
   "cell_type": "code",
   "execution_count": 9,
   "id": "89a122c6-e6c1-4a36-85e5-17c4f1baaf45",
   "metadata": {},
   "outputs": [],
   "source": [
    "res1 = run_simulation(A1, b1, b2, alpha1, alpha2, delta, c, x0) # compute the solution"
   ]
  },
  {
   "cell_type": "code",
   "execution_count": 10,
   "id": "8a946e2d-5898-46e3-899e-d0bb7a534506",
   "metadata": {},
   "outputs": [],
   "source": [
    "tilde_K1_example1 = (V1.T @ res1[\"K\"][0] @ V1) # tilde K1\n",
    "tilde_k1_example1 = np.linalg.inv(2 * V1 @ tilde_K1_example1) @ (2 * (b1 * np.ones((2, 1))).T @ res1[\"K\"][0] - res1[\"k\"][0]).T # tilde_k1\n",
    "tilde_K2_example1 = (V1.T @ res1[\"K\"][1] @ V1) # tilde K2\n",
    "tilde_k2_example1 = np.linalg.inv(2 * V1 @ tilde_K2_example1) @ (2 * (b2 * np.ones((2, 1))).T @ res1[\"K\"][1] - res1[\"k\"][1]).T # tilde_k2\n",
    "tilde_x_infty_example1 = V1.T @ (res1[\"x\"][0][-1] + 10) # projected limit opinions\n",
    "tilde_r_1_example1 = [V1.T @ r for r in res1[\"r\"][0]] # projected messages, influencer 1\n",
    "tilde_r_2_example1 = [V1.T @ r for r in res1[\"r\"][1]] # projected messages, influencer 2"
   ]
  },
  {
   "cell_type": "code",
   "execution_count": 11,
   "id": "0a431486-64bf-4b7f-a63f-39aacdbeeb3b",
   "metadata": {},
   "outputs": [
    {
     "data": {
      "text/plain": [
       "array([[ 1.01998279, -0.        ],\n",
       "       [ 0.        ,  1.        ]])"
      ]
     },
     "execution_count": 11,
     "metadata": {},
     "output_type": "execute_result"
    }
   ],
   "source": [
    "tilde_K1_example1 # tilde_K1"
   ]
  },
  {
   "cell_type": "code",
   "execution_count": 12,
   "id": "5b8ede65-2b7b-4af4-8c57-c9f5f2f1fd44",
   "metadata": {},
   "outputs": [
    {
     "data": {
      "text/plain": [
       "array([[ 1.01407389, -0.        ],\n",
       "       [-0.        ,  1.        ]])"
      ]
     },
     "execution_count": 12,
     "metadata": {},
     "output_type": "execute_result"
    }
   ],
   "source": [
    "tilde_K2_example1 # tilde_K2"
   ]
  },
  {
   "cell_type": "code",
   "execution_count": 13,
   "id": "d60b5e1e-f30e-45cf-bb09-6741fec6c4ff",
   "metadata": {},
   "outputs": [
    {
     "data": {
      "text/plain": [
       "array([[22.36291019],\n",
       "       [ 2.77350098]])"
      ]
     },
     "execution_count": 13,
     "metadata": {},
     "output_type": "execute_result"
    }
   ],
   "source": [
    "tilde_k1_example1 # tilde_k1"
   ]
  },
  {
   "cell_type": "code",
   "execution_count": 14,
   "id": "e0ee2259-49d4-4c79-a3a1-4cc706aa1f23",
   "metadata": {},
   "outputs": [
    {
     "data": {
      "text/plain": [
       "array([[-15.59902881],\n",
       "       [ -1.38675049]])"
      ]
     },
     "execution_count": 14,
     "metadata": {},
     "output_type": "execute_result"
    }
   ],
   "source": [
    "tilde_k2_example1 # tilde_k2"
   ]
  },
  {
   "cell_type": "code",
   "execution_count": 15,
   "id": "810759df-7016-4429-9ac2-363bb30ad69a",
   "metadata": {},
   "outputs": [
    {
     "data": {
      "text/plain": [
       "array([[6.85805691],\n",
       "       [1.07913477]])"
      ]
     },
     "execution_count": 15,
     "metadata": {},
     "output_type": "execute_result"
    }
   ],
   "source": [
    "tilde_x_infty_example1 # projected limit opinions"
   ]
  },
  {
   "cell_type": "code",
   "execution_count": 16,
   "id": "ef9c9205-e011-49fe-9bbe-098e091fad30",
   "metadata": {},
   "outputs": [
    {
     "data": {
      "text/plain": [
       "[array([[42.82444069],\n",
       "        [ 4.59967346]]),\n",
       " array([[42.70395877],\n",
       "        [ 4.57564887]]),\n",
       " array([[42.69979447],\n",
       "        [ 4.57481849]]),\n",
       " array([[42.69965053],\n",
       "        [ 4.57478979]]),\n",
       " array([[42.69964556],\n",
       "        [ 4.5747888 ]]),\n",
       " array([[42.69964539],\n",
       "        [ 4.57478877]]),\n",
       " array([[42.69964538],\n",
       "        [ 4.57478877]]),\n",
       " array([[42.69964538],\n",
       "        [ 4.57478877]])]"
      ]
     },
     "execution_count": 16,
     "metadata": {},
     "output_type": "execute_result"
    }
   ],
   "source": [
    "tilde_r_1_example1 # projected messages, influencer 1"
   ]
  },
  {
   "cell_type": "code",
   "execution_count": 17,
   "id": "ef0c0b27-df38-44bf-8ffe-2cc1e49c8060",
   "metadata": {},
   "outputs": [
    {
     "data": {
      "text/plain": [
       "[array([[-51.13618083],\n",
       "        [ -5.52750459]]),\n",
       " array([[-51.23600079],\n",
       "        [ -5.54752508]]),\n",
       " array([[-51.23945094],\n",
       "        [ -5.54821707]]),\n",
       " array([[-51.23957019],\n",
       "        [ -5.54824098]]),\n",
       " array([[-51.23957431],\n",
       "        [ -5.54824181]]),\n",
       " array([[-51.23957445],\n",
       "        [ -5.54824184]]),\n",
       " array([[-51.23957446],\n",
       "        [ -5.54824184]]),\n",
       " array([[-51.23957446],\n",
       "        [ -5.54824184]])]"
      ]
     },
     "execution_count": 17,
     "metadata": {},
     "output_type": "execute_result"
    }
   ],
   "source": [
    "tilde_r_2_example1 # projected messages, influencer 2"
   ]
  },
  {
   "cell_type": "code",
   "execution_count": 18,
   "id": "058ace1c-9f54-4204-a221-53d85fff1472",
   "metadata": {},
   "outputs": [
    {
     "data": {
      "text/plain": [
       "[-3935.1794328124647,\n",
       " -7302.800503748285,\n",
       " -10332.548075650906,\n",
       " -13059.286370781792,\n",
       " -15513.349762643142,\n",
       " -17722.00678191668,\n",
       " -19709.798098223826,\n",
       " -21498.810282867937]"
      ]
     },
     "execution_count": 18,
     "metadata": {},
     "output_type": "execute_result"
    }
   ],
   "source": [
    "res1[\"payoffs\"][0] # cumulative payoffs at each stage, influencer 1"
   ]
  },
  {
   "cell_type": "code",
   "execution_count": 19,
   "id": "4b0a1105-5146-4660-b74c-76c71192a13e",
   "metadata": {},
   "outputs": [
    {
     "data": {
      "text/plain": [
       "[-5515.924594077803,\n",
       " -10472.05085078967,\n",
       " -14934.160961482312,\n",
       " -18950.109775987745,\n",
       " -22564.46525559832,\n",
       " -25817.385235357175,\n",
       " -28745.013218636697,\n",
       " -31379.878403634822]"
      ]
     },
     "execution_count": 19,
     "metadata": {},
     "output_type": "execute_result"
    }
   ],
   "source": [
    "res1[\"payoffs\"][1] # cumulative payoffs at each stage, influencer 2"
   ]
  },
  {
   "cell_type": "markdown",
   "id": "48f12f7a-c112-4903-81dc-f7af5e0a8707",
   "metadata": {},
   "source": [
    "# Example 2: $a_1 = 0.7, a_2 = 0.3$"
   ]
  },
  {
   "cell_type": "code",
   "execution_count": 20,
   "id": "059e94a9-10bb-4c27-b957-e3310fa06b56",
   "metadata": {},
   "outputs": [],
   "source": [
    "A2 = np.array([\n",
    "    [0.7, 0.3],\n",
    "    [0.7, 0.3]\n",
    "])\n",
    "V2 = (1/np.sqrt(0.7**2 + 0.3**2)) * np.array([\n",
    "    [0.7, -0.3],\n",
    "    [0.3, 0.7]\n",
    "])"
   ]
  },
  {
   "cell_type": "code",
   "execution_count": 21,
   "id": "7c340c34-ba31-4c3d-ac47-3cb66c8751d1",
   "metadata": {},
   "outputs": [],
   "source": [
    "res2 = run_simulation(A2, b1, b2, alpha1, alpha2, delta, c, x0) # compute the solution"
   ]
  },
  {
   "cell_type": "code",
   "execution_count": 22,
   "id": "0197fd6d-f080-48c1-9a41-1d926d516da7",
   "metadata": {},
   "outputs": [],
   "source": [
    "tilde_K1_example2 = (V2.T @ res2[\"K\"][0] @ V2) # tilde K1\n",
    "tilde_k1_example2 = np.linalg.inv(2 * V2 @ tilde_K1_example2) @ (2 * (b1 * np.ones((2, 1))).T @ res2[\"K\"][0] - res2[\"k\"][0]).T # tilde_k1\n",
    "tilde_K2_example2 = (V2.T @ res2[\"K\"][1] @ V2) # tilde K2\n",
    "tilde_k2_example2 = np.linalg.inv(2 * V2 @ tilde_K2_example2) @ (2 * (b2 * np.ones((2, 1))).T @ res2[\"K\"][1] - res2[\"k\"][1]).T # tilde_k2\n",
    "tilde_x_infty_example2 = V2.T @ (res2[\"x\"][0][-1] + 10) # projected limit opinions\n",
    "tilde_r_1_example2 = [V2.T @ r for r in res2[\"r\"][0]] # projected messages, influencer 1\n",
    "tilde_r_2_example2 = [V2.T @ r for r in res2[\"r\"][1]] # projected messages, influencer 2"
   ]
  },
  {
   "cell_type": "code",
   "execution_count": 23,
   "id": "a536f33a-8186-44b6-a7ec-a2a9dea366e4",
   "metadata": {},
   "outputs": [
    {
     "data": {
      "text/plain": [
       "array([[ 1.0222883, -0.       ],\n",
       "       [-0.       ,  1.       ]])"
      ]
     },
     "execution_count": 23,
     "metadata": {},
     "output_type": "execute_result"
    }
   ],
   "source": [
    "tilde_K1_example2 # tilde_K1"
   ]
  },
  {
   "cell_type": "code",
   "execution_count": 24,
   "id": "653a1cd9-0b0f-420a-9f15-a14417ae72a1",
   "metadata": {},
   "outputs": [
    {
     "data": {
      "text/plain": [
       "array([[1.01569802, 0.        ],\n",
       "       [0.        , 1.        ]])"
      ]
     },
     "execution_count": 24,
     "metadata": {},
     "output_type": "execute_result"
    }
   ],
   "source": [
    "tilde_K2_example2 # tilde_K2"
   ]
  },
  {
   "cell_type": "code",
   "execution_count": 25,
   "id": "5f482f34-bdbf-4238-913a-cfc51bd11eec",
   "metadata": {},
   "outputs": [
    {
     "data": {
      "text/plain": [
       "array([[22.08254466],\n",
       "       [ 5.25225731]])"
      ]
     },
     "execution_count": 25,
     "metadata": {},
     "output_type": "execute_result"
    }
   ],
   "source": [
    "tilde_k1_example2 # tilde_k1"
   ]
  },
  {
   "cell_type": "code",
   "execution_count": 26,
   "id": "880d8848-ef0b-4d4f-92d2-3067e6e2ecd5",
   "metadata": {},
   "outputs": [
    {
     "data": {
      "text/plain": [
       "array([[-15.69957821],\n",
       "       [ -2.62612866]])"
      ]
     },
     "execution_count": 26,
     "metadata": {},
     "output_type": "execute_result"
    }
   ],
   "source": [
    "tilde_k2_example2 # tilde_k2"
   ]
  },
  {
   "cell_type": "code",
   "execution_count": 27,
   "id": "be329001-5744-40a8-b543-107b9a3fb3a3",
   "metadata": {},
   "outputs": [
    {
     "data": {
      "text/plain": [
       "array([[6.65713561],\n",
       "       [2.04588666]])"
      ]
     },
     "execution_count": 27,
     "metadata": {},
     "output_type": "execute_result"
    }
   ],
   "source": [
    "tilde_x_infty_example2 # projected limit opinions"
   ]
  },
  {
   "cell_type": "code",
   "execution_count": 28,
   "id": "85de46c1-897f-48bb-abb9-2c7b9e3a9224",
   "metadata": {},
   "outputs": [
    {
     "data": {
      "text/plain": [
       "[array([[42.52310923],\n",
       "        [ 8.63576332]]),\n",
       " array([[42.57502616],\n",
       "        [ 8.65646124]]),\n",
       " array([[42.57681716],\n",
       "        [ 8.65717527]]),\n",
       " array([[42.57687894],\n",
       "        [ 8.6571999 ]]),\n",
       " array([[42.57688108],\n",
       "        [ 8.65720075]]),\n",
       " array([[42.57688115],\n",
       "        [ 8.65720078]]),\n",
       " array([[42.57688115],\n",
       "        [ 8.65720078]]),\n",
       " array([[42.57688115],\n",
       "        [ 8.65720078]])]"
      ]
     },
     "execution_count": 28,
     "metadata": {},
     "output_type": "execute_result"
    }
   ],
   "source": [
    "tilde_r_1_example2 # projected messages, influencer 1"
   ]
  },
  {
   "cell_type": "code",
   "execution_count": 29,
   "id": "ec6e452c-4fd4-481c-9095-fcb3a5176b87",
   "metadata": {},
   "outputs": [
    {
     "data": {
      "text/plain": [
       "[array([[-51.13677845],\n",
       "        [-10.529899  ]]),\n",
       " array([[-51.09379324],\n",
       "        [-10.51265073]]),\n",
       " array([[-51.09231037],\n",
       "        [-10.51205571]]),\n",
       " array([[-51.09225921],\n",
       "        [-10.51203519]]),\n",
       " array([[-51.09225745],\n",
       "        [-10.51203448]]),\n",
       " array([[-51.09225738],\n",
       "        [-10.51203445]]),\n",
       " array([[-51.09225738],\n",
       "        [-10.51203445]]),\n",
       " array([[-51.09225738],\n",
       "        [-10.51203445]])]"
      ]
     },
     "execution_count": 29,
     "metadata": {},
     "output_type": "execute_result"
    }
   ],
   "source": [
    "tilde_r_2_example2 # projected messages, influencer 2"
   ]
  },
  {
   "cell_type": "code",
   "execution_count": 30,
   "id": "0c4128ef-2aac-456a-9e03-51be27e422bc",
   "metadata": {},
   "outputs": [
    {
     "data": {
      "text/plain": [
       "[-3990.582453064502,\n",
       " -7434.89934027266,\n",
       " -10535.288342502681,\n",
       " -13325.654097373566,\n",
       " -15836.983762754173,\n",
       " -18097.180476685804,\n",
       " -20131.357519692756,\n",
       " -21962.116858413556]"
      ]
     },
     "execution_count": 30,
     "metadata": {},
     "output_type": "execute_result"
    }
   ],
   "source": [
    "res2[\"payoffs\"][0] # cumulative payoffs at each stage, influencer 1"
   ]
  },
  {
   "cell_type": "code",
   "execution_count": 31,
   "id": "d6314a40-39f7-4e52-9147-0f50f38c1a58",
   "metadata": {},
   "outputs": [
    {
     "data": {
      "text/plain": [
       "[-5676.69776600835,\n",
       " -10752.188351795472,\n",
       " -15319.402854333564,\n",
       " -19429.873345054526,\n",
       " -23129.296086230832,\n",
       " -26458.776531541473,\n",
       " -29455.308931645824,\n",
       " -32152.188091718777]"
      ]
     },
     "execution_count": 31,
     "metadata": {},
     "output_type": "execute_result"
    }
   ],
   "source": [
    "res2[\"payoffs\"][1] # cumulative payoffs at each stage, influencer 2"
   ]
  },
  {
   "cell_type": "markdown",
   "id": "d28b08a5-8c1c-44ae-85f9-3267f7ac727f",
   "metadata": {},
   "source": [
    "# Example 3: $a_1 = 0.9, a_2 = 0.1$"
   ]
  },
  {
   "cell_type": "code",
   "execution_count": 32,
   "id": "48f1608e-953f-4713-a297-018fbe563b24",
   "metadata": {},
   "outputs": [],
   "source": [
    "A3 = np.array([\n",
    "    [0.9, 0.1],\n",
    "    [0.9, 0.1]\n",
    "])\n",
    "V3 = (1/np.sqrt(0.9**2 + 0.1**2)) * np.array([\n",
    "    [0.9, -0.1],\n",
    "    [0.1, 0.9]\n",
    "])"
   ]
  },
  {
   "cell_type": "code",
   "execution_count": 33,
   "id": "5bf66917-3059-40ae-8dbf-f001c6106128",
   "metadata": {},
   "outputs": [],
   "source": [
    "res3 = run_simulation(A3, b1, b2, alpha1, alpha2, delta, c, x0) # compute the solution"
   ]
  },
  {
   "cell_type": "code",
   "execution_count": 34,
   "id": "92e21bab-52a1-4f23-aa40-8a728b1a5f61",
   "metadata": {},
   "outputs": [],
   "source": [
    "tilde_K1_example3 = (V3.T @ res3[\"K\"][0] @ V3) # tilde K1\n",
    "tilde_k1_example3 = np.linalg.inv(2 * V3 @ tilde_K1_example3) @ (2 * (b1 * np.ones((2, 1))).T @ res3[\"K\"][0] - res3[\"k\"][0]).T # tilde_k1\n",
    "tilde_K2_example3 = (V3.T @ res3[\"K\"][1] @ V3) # tilde K2\n",
    "tilde_k2_example3 = np.linalg.inv(2 * V3 @ tilde_K2_example3) @ (2 * (b2 * np.ones((2, 1))).T @ res3[\"K\"][1] - res3[\"k\"][1]).T # tilde_k2\n",
    "tilde_x_infty_example3 = V3.T @ (res3[\"x\"][0][-1] + 10) # projected limit opinions\n",
    "tilde_r_1_example3 = [V3.T @ r for r in res3[\"r\"][0]] # projected messages, influencer 1\n",
    "tilde_r_2_example3 = [V3.T @ r for r in res3[\"r\"][1]] # projected messages, influencer 2"
   ]
  },
  {
   "cell_type": "code",
   "execution_count": 35,
   "id": "efce0dd5-d6b0-421c-8ed8-729f4db635b7",
   "metadata": {},
   "outputs": [
    {
     "data": {
      "text/plain": [
       "array([[1.03150998, 0.        ],\n",
       "       [0.        , 1.        ]])"
      ]
     },
     "execution_count": 35,
     "metadata": {},
     "output_type": "execute_result"
    }
   ],
   "source": [
    "tilde_K1_example3 # tilde_K1"
   ]
  },
  {
   "cell_type": "code",
   "execution_count": 36,
   "id": "91edc781-e7bb-4aaf-a961-9e272b2c5f36",
   "metadata": {},
   "outputs": [
    {
     "data": {
      "text/plain": [
       "array([[ 1.022195, -0.      ],\n",
       "       [ 0.      ,  1.      ]])"
      ]
     },
     "execution_count": 36,
     "metadata": {},
     "output_type": "execute_result"
    }
   ],
   "source": [
    "tilde_K2_example3 # tilde_K2"
   ]
  },
  {
   "cell_type": "code",
   "execution_count": 37,
   "id": "fca58e6b-5377-4006-95a9-ca641e665e7a",
   "metadata": {},
   "outputs": [
    {
     "data": {
      "text/plain": [
       "array([[21.5920095 ],\n",
       "       [ 8.83452209]])"
      ]
     },
     "execution_count": 37,
     "metadata": {},
     "output_type": "execute_result"
    }
   ],
   "source": [
    "tilde_k1_example3 # tilde_k1"
   ]
  },
  {
   "cell_type": "code",
   "execution_count": 38,
   "id": "8a074f15-326a-4df0-895d-c3b4df8f902f",
   "metadata": {},
   "outputs": [
    {
     "data": {
      "text/plain": [
       "array([[-16.30100197],\n",
       "       [ -4.41726104]])"
      ]
     },
     "execution_count": 38,
     "metadata": {},
     "output_type": "execute_result"
    }
   ],
   "source": [
    "tilde_k2_example3 # tilde_k2"
   ]
  },
  {
   "cell_type": "code",
   "execution_count": 39,
   "id": "4bdda0c6-9755-45e0-b7d4-adb1ee8fcc1b",
   "metadata": {},
   "outputs": [
    {
     "data": {
      "text/plain": [
       "array([[6.14515996],\n",
       "       [3.45663265]])"
      ]
     },
     "execution_count": 39,
     "metadata": {},
     "output_type": "execute_result"
    }
   ],
   "source": [
    "tilde_x_infty_example3 # projected limit opinions"
   ]
  },
  {
   "cell_type": "code",
   "execution_count": 40,
   "id": "c6c359af-08fe-4a91-b0ca-580920c288d9",
   "metadata": {},
   "outputs": [
    {
     "data": {
      "text/plain": [
       "[array([[42.71159798],\n",
       "        [14.27419663]]),\n",
       " array([[43.01008374],\n",
       "        [14.51187615]]),\n",
       " array([[43.0203023 ],\n",
       "        [14.52001303]]),\n",
       " array([[43.02065213],\n",
       "        [14.52029159]]),\n",
       " array([[43.0206641 ],\n",
       "        [14.52030113]]),\n",
       " array([[43.02066451],\n",
       "        [14.52030145]]),\n",
       " array([[43.02066453],\n",
       "        [14.52030146]]),\n",
       " array([[43.02066453],\n",
       "        [14.52030146]]),\n",
       " array([[43.02066453],\n",
       "        [14.52030146]])]"
      ]
     },
     "execution_count": 40,
     "metadata": {},
     "output_type": "execute_result"
    }
   ],
   "source": [
    "tilde_r_1_example3 # projected messages, influencer 1"
   ]
  },
  {
   "cell_type": "code",
   "execution_count": 41,
   "id": "4af7dca7-f7dd-4891-a985-b01faff4e5fc",
   "metadata": {},
   "outputs": [
    {
     "data": {
      "text/plain": [
       "[array([[-51.88002705],\n",
       "        [-17.92134819]]),\n",
       " array([[-51.63353513],\n",
       "        [-17.72328192]]),\n",
       " array([[-51.62509657],\n",
       "        [-17.71650118]]),\n",
       " array([[-51.62480767],\n",
       "        [-17.71626905]]),\n",
       " array([[-51.62479778],\n",
       "        [-17.7162611 ]]),\n",
       " array([[-51.62479744],\n",
       "        [-17.71626083]]),\n",
       " array([[-51.62479743],\n",
       "        [-17.71626082]]),\n",
       " array([[-51.62479743],\n",
       "        [-17.71626082]]),\n",
       " array([[-51.62479743],\n",
       "        [-17.71626082]])]"
      ]
     },
     "execution_count": 41,
     "metadata": {},
     "output_type": "execute_result"
    }
   ],
   "source": [
    "tilde_r_2_example3 # projected messages, influencer 2"
   ]
  },
  {
   "cell_type": "code",
   "execution_count": 42,
   "id": "8c5e7d0b-7242-419b-b9a8-66b3b9cf9be9",
   "metadata": {},
   "outputs": [
    {
     "data": {
      "text/plain": [
       "[-4281.06658216661,\n",
       " -8035.67657632715,\n",
       " -11418.233051082123,\n",
       " -14462.639372216221,\n",
       " -17202.608312162378,\n",
       " -19668.5804582794,\n",
       " -21887.955392870943,\n",
       " -23885.39283409842,\n",
       " -25683.08653120608]"
      ]
     },
     "execution_count": 42,
     "metadata": {},
     "output_type": "execute_result"
    }
   ],
   "source": [
    "res3[\"payoffs\"][0] # cumulative payoffs at each stage, influencer 1"
   ]
  },
  {
   "cell_type": "code",
   "execution_count": 43,
   "id": "13ef6d76-c529-4194-b930-21ff1df98546",
   "metadata": {},
   "outputs": [
    {
     "data": {
      "text/plain": [
       "[-6250.423855816567,\n",
       " -11796.610572538,\n",
       " -16783.212574056233,\n",
       " -21271.00186819263,\n",
       " -25310.007534514392,\n",
       " -28945.112489441155,\n",
       " -32216.706944414924,\n",
       " -35161.14195375389,\n",
       " -37811.13346215472]"
      ]
     },
     "execution_count": 43,
     "metadata": {},
     "output_type": "execute_result"
    }
   ],
   "source": [
    "res3[\"payoffs\"][1] # cumulative payoffs at each stage, influencer 2"
   ]
  }
 ],
 "metadata": {
  "kernelspec": {
   "display_name": "Python 3",
   "language": "python",
   "name": "python3"
  },
  "language_info": {
   "codemirror_mode": {
    "name": "ipython",
    "version": 3
   },
   "file_extension": ".py",
   "mimetype": "text/x-python",
   "name": "python",
   "nbconvert_exporter": "python",
   "pygments_lexer": "ipython3",
   "version": "3.8.8"
  },
  "widgets": {
   "application/vnd.jupyter.widget-state+json": {
    "state": {},
    "version_major": 2,
    "version_minor": 0
   }
  }
 },
 "nbformat": 4,
 "nbformat_minor": 5
}
