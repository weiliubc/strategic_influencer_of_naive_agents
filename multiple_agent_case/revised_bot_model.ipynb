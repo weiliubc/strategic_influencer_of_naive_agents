{
 "cells": [
  {
   "cell_type": "markdown",
   "id": "2dc596bd-b630-4dbf-a643-860b9f118c5a",
   "metadata": {},
   "source": [
    "# Verification of New Results for Bots Case\n",
    "#### Unified Model with Integrated Bot \n",
    "\n",
    "James Yu, 12 January 2023"
   ]
  },
  {
   "cell_type": "code",
   "execution_count": 1,
   "id": "5deb7be5-5bd5-4cda-9926-3be72f5cacb8",
   "metadata": {},
   "outputs": [],
   "source": [
    "import matplotlib.pyplot as plt\n",
    "import numpy as np\n",
    "from numpy.linalg import inv\n",
    "np.set_printoptions(suppress=True) # disable scientific notation for readability"
   ]
  },
  {
   "cell_type": "code",
   "execution_count": 2,
   "id": "5d7a5d27-4795-4156-9f05-fffbaaff09c4",
   "metadata": {
    "tags": []
   },
   "outputs": [],
   "source": [
    "def infinite_solution(A_n, A_c, delta, c, x_0, z, b = np.identity(3)):\n",
    "    n = len(x_0)\n",
    "    eps = np.finfo(np.float64).eps\n",
    "    I = np.identity(n)\n",
    "    O = np.zeros((n, n))\n",
    "    \n",
    "    Q = np.block([\n",
    "        [I, O], \n",
    "        [O, I]\n",
    "    ])\n",
    "    A = np.block([\n",
    "        [A_n, A_c], \n",
    "        [O, I]\n",
    "    ])\n",
    "    B = np.block([\n",
    "        [b], # identity matrix by default \n",
    "        [O]\n",
    "    ])\n",
    "    K_t = Q\n",
    "    K_sequence = [K_t]\n",
    "    \n",
    "    while True: # generate solution matrices; note I divide delta into the inverse term for simplification\n",
    "        K_t_new = Q + delta * A.T @ (K_t - K_t @ B @ inv(B.T @ K_t @ B + c * I / delta) @ B.T @ K_t) @ A\n",
    "        K_sequence.insert(0, K_t_new)\n",
    "        if np.allclose(K_t, K_t_new, rtol = eps, atol = eps): break\n",
    "        K_t = K_t_new\n",
    "\n",
    "    chi_var = np.block([\n",
    "        [x_0], \n",
    "        [z]\n",
    "    ])\n",
    "    chi_ts = [chi_var]\n",
    "    r_ts = []\n",
    "    K_ss = K_sequence[0]\n",
    "    L_ss = -inv(B.T @ K_ss @ B + c * I / delta) @ B.T @ K_ss @ A\n",
    "    \n",
    "    payoff = 0\n",
    "    stage_payoffs = []\n",
    "    discounted_stage_payoffs = []\n",
    "    cumulative_payoffs = []\n",
    "    \n",
    "    i = 0\n",
    "    while True:\n",
    "        r_t = L_ss @ chi_var\n",
    "        r_ts.append(r_t)\n",
    "        p = -(chi_var.T @ Q @ chi_var + c * r_t.T @ r_t + z.T @ z).item()\n",
    "        payoff += delta**i * p\n",
    "        stage_payoffs.append(p)\n",
    "        discounted_stage_payoffs.append(delta**i * p)\n",
    "        cumulative_payoffs.append(payoff)\n",
    "        chi_var_new = A @ chi_var + B @ r_t\n",
    "        chi_ts.append(chi_var_new)\n",
    "        if np.allclose(chi_var, chi_var_new, rtol = eps, atol = eps): break\n",
    "        chi_var = chi_var_new\n",
    "        i += 1\n",
    "        \n",
    "    return chi_ts, r_ts, stage_payoffs, discounted_stage_payoffs, cumulative_payoffs, K_ss, L_ss"
   ]
  },
  {
   "cell_type": "markdown",
   "id": "f993b294-61ed-4409-b662-7058abbd7213",
   "metadata": {},
   "source": [
    "# 0. Setup"
   ]
  },
  {
   "cell_type": "code",
   "execution_count": 3,
   "id": "1948b15f-c07e-4a9f-8446-3dc51cae3d24",
   "metadata": {},
   "outputs": [],
   "source": [
    "A_1_n = 0.99 * np.array([\n",
    "    [0.3, 0.4, 0.3],\n",
    "    [0.6, 0.2, 0.2],\n",
    "    [0.5, 0.1, 0.4]\n",
    "])\n",
    "A_1_c = np.diag([0.01, 0.01, 0.01])\n",
    "\n",
    "delta = 0.9\n",
    "c = 1.0\n",
    "x_0 = np.array([[10.0, 5.0, -20.0]], ndmin = 2).T\n",
    "z = np.array([[5.0, 5.0, 5.0]], ndmin = 2).T"
   ]
  },
  {
   "cell_type": "code",
   "execution_count": 4,
   "id": "d8d521b3-a053-4a6e-a6d5-bdd8b0e966fd",
   "metadata": {},
   "outputs": [],
   "source": [
    "chi_ts, r_ts, stage_payoffs, discounted_stage_payoffs, cumulative_payoffs, K_ss, L_ss = infinite_solution(A_1_n, A_1_c, delta, c, x_0, z)"
   ]
  },
  {
   "cell_type": "code",
   "execution_count": 5,
   "id": "d75922b3-af58-4c87-96bf-a7665242bddc",
   "metadata": {},
   "outputs": [
    {
     "name": "stdout",
     "output_type": "stream",
     "text": [
      "[[ 1.38616486  0.17105178  0.23321578  0.00371302  0.0044536   0.00413393]\n",
      " [ 0.17105178  1.11998571  0.11887399  0.00315167  0.00201313  0.00154197]\n",
      " [ 0.23321578  0.11887399  1.16516367  0.00293632  0.00209553  0.00321817]\n",
      " [ 0.00371302  0.00315167  0.00293632 10.00070065  0.00022898  0.00020687]\n",
      " [ 0.0044536   0.00201313  0.00209553  0.00022898 10.00055207  0.00005221]\n",
      " [ 0.00413393  0.00154197  0.00321817  0.00020687  0.00005221 10.0006539 ]]\n"
     ]
    }
   ],
   "source": [
    "print(K_ss)"
   ]
  },
  {
   "cell_type": "code",
   "execution_count": 6,
   "id": "5dc9d884-2264-454a-8ee6-eea9974e6199",
   "metadata": {},
   "outputs": [
    {
     "name": "stdout",
     "output_type": "stream",
     "text": [
      "[[-0.20416138 -0.22807784 -0.18698905 -0.00678598 -0.00198875 -0.00195085]\n",
      " [-0.316895   -0.11369141 -0.11730197 -0.00157713 -0.00571962 -0.00073902]\n",
      " [-0.2773602  -0.07228275 -0.21818719 -0.0015369  -0.00094037 -0.00629405]]\n"
     ]
    }
   ],
   "source": [
    "print(L_ss)"
   ]
  },
  {
   "cell_type": "code",
   "execution_count": 7,
   "id": "d9d6c344-bb54-440f-8c68-7ceeee4b61da",
   "metadata": {},
   "outputs": [
    {
     "data": {
      "text/plain": [
       "array([[-0.00103162],\n",
       "       [ 0.01107937],\n",
       "       [ 0.00755896],\n",
       "       [ 5.        ],\n",
       "       [ 5.        ],\n",
       "       [ 5.        ]])"
      ]
     },
     "execution_count": 7,
     "metadata": {},
     "output_type": "execute_result"
    }
   ],
   "source": [
    "chi_ts[-1] # terminal opinions"
   ]
  },
  {
   "cell_type": "code",
   "execution_count": 8,
   "id": "be31be08-a611-4a33-abed-917ce4716c00",
   "metadata": {},
   "outputs": [
    {
     "data": {
      "text/plain": [
       "array([[-0.05735767],\n",
       "       [-0.04199823],\n",
       "       [-0.04602059]])"
      ]
     },
     "execution_count": 8,
     "metadata": {},
     "output_type": "execute_result"
    }
   ],
   "source": [
    "r_ts[-1] # terminal messages"
   ]
  },
  {
   "cell_type": "markdown",
   "id": "9ce2175f-51d0-4947-b77e-4741aafb0b17",
   "metadata": {},
   "source": [
    "# 1. Expression for $K_1$ component of the block matrix $K^*$"
   ]
  },
  {
   "cell_type": "markdown",
   "id": "bfc15093-4950-4e56-ae2c-c79335050d63",
   "metadata": {},
   "source": [
    "Recall that this expression was:\n",
    "\n",
    "$$\n",
    "K_1 = I + c\\delta(A^n)'K_1(\\delta K_1 + cI)^{-1}A^n\n",
    "$$"
   ]
  },
  {
   "cell_type": "code",
   "execution_count": 9,
   "id": "8a0ce4b4-1bab-4c07-a611-0efd0ef0fa39",
   "metadata": {},
   "outputs": [
    {
     "name": "stdout",
     "output_type": "stream",
     "text": [
      "[[ 1.38616486  0.17105178  0.23321578  0.00371302  0.0044536   0.00413393]\n",
      " [ 0.17105178  1.11998571  0.11887399  0.00315167  0.00201313  0.00154197]\n",
      " [ 0.23321578  0.11887399  1.16516367  0.00293632  0.00209553  0.00321817]\n",
      " [ 0.00371302  0.00315167  0.00293632 10.00070065  0.00022898  0.00020687]\n",
      " [ 0.0044536   0.00201313  0.00209553  0.00022898 10.00055207  0.00005221]\n",
      " [ 0.00413393  0.00154197  0.00321817  0.00020687  0.00005221 10.0006539 ]]\n"
     ]
    }
   ],
   "source": [
    "print(K_ss)"
   ]
  },
  {
   "cell_type": "code",
   "execution_count": 10,
   "id": "4efe8fcc-fac6-4e39-a8f5-a0abd9226835",
   "metadata": {},
   "outputs": [
    {
     "name": "stdout",
     "output_type": "stream",
     "text": [
      "[[1.38616486 0.17105178 0.23321578]\n",
      " [0.17105178 1.11998571 0.11887399]\n",
      " [0.23321578 0.11887399 1.16516367]]\n"
     ]
    }
   ],
   "source": [
    "print(K_ss[0:3,0:3]) # K_1"
   ]
  },
  {
   "cell_type": "code",
   "execution_count": 11,
   "id": "405a6b68-ba08-422e-ae91-6e98395022b2",
   "metadata": {},
   "outputs": [
    {
     "data": {
      "text/plain": [
       "True"
      ]
     },
     "execution_count": 11,
     "metadata": {},
     "output_type": "execute_result"
    }
   ],
   "source": [
    "K_1 = K_ss[0:3,0:3]\n",
    "LHS = np.identity(3) + c*delta*A_1_n.T @ K_1 @ inv(delta*K_1 + c*np.identity(3)) @ A_1_n\n",
    "np.allclose(LHS, K_1) # is approximately equal?"
   ]
  },
  {
   "cell_type": "code",
   "execution_count": 12,
   "id": "f74dccb1-c9dd-4bf6-8ef9-acabfbe0db7d",
   "metadata": {},
   "outputs": [
    {
     "data": {
      "text/plain": [
       "array([[1.38616486, 0.17105178, 0.23321578],\n",
       "       [0.17105178, 1.11998571, 0.11887399],\n",
       "       [0.23321578, 0.11887399, 1.16516367]])"
      ]
     },
     "execution_count": 12,
     "metadata": {},
     "output_type": "execute_result"
    }
   ],
   "source": [
    "LHS"
   ]
  },
  {
   "cell_type": "markdown",
   "id": "e9155222-eb89-4a09-837e-9adcfffce3dd",
   "metadata": {},
   "source": [
    "They appear to be the same. To decompose:"
   ]
  },
  {
   "cell_type": "code",
   "execution_count": 13,
   "id": "7a95aa59-8026-4e7f-a9f2-92a9fdd043ae",
   "metadata": {},
   "outputs": [
    {
     "data": {
      "text/plain": [
       "array([[0.56586377, 0.69742486, 0.64496902],\n",
       "       [0.54529011, 0.27113598, 0.20811753],\n",
       "       [0.4841214 , 0.28767028, 0.49878625]])"
      ]
     },
     "execution_count": 13,
     "metadata": {},
     "output_type": "execute_result"
    }
   ],
   "source": [
    "c*delta*A_1_n.T @ K_1"
   ]
  },
  {
   "cell_type": "code",
   "execution_count": 14,
   "id": "bbf14618-566d-4ffd-b7e1-b92cc886806a",
   "metadata": {},
   "outputs": [
    {
     "data": {
      "text/plain": [
       "array([[ 0.45129744, -0.03222578, -0.04455476],\n",
       "       [-0.03222578,  0.50170187, -0.0228987 ],\n",
       "       [-0.04455476, -0.0228987 ,  0.49388767]])"
      ]
     },
     "execution_count": 14,
     "metadata": {},
     "output_type": "execute_result"
    }
   ],
   "source": [
    "inv(delta*K_1 + c*np.identity(3)) "
   ]
  },
  {
   "cell_type": "code",
   "execution_count": 15,
   "id": "419e8228-6bfd-44ca-b4b3-e679be8e8430",
   "metadata": {},
   "outputs": [
    {
     "data": {
      "text/plain": [
       "array([[0.38616486, 0.17105178, 0.23321578],\n",
       "       [0.17105178, 0.11998571, 0.11887399],\n",
       "       [0.23321578, 0.11887399, 0.16516367]])"
      ]
     },
     "execution_count": 15,
     "metadata": {},
     "output_type": "execute_result"
    }
   ],
   "source": [
    "c*delta*A_1_n.T @ K_1 @ inv(delta*K_1 + c*np.identity(3)) @ A_1_n"
   ]
  },
  {
   "cell_type": "markdown",
   "id": "f60243e9-330b-42d9-8037-f8545cf7b24c",
   "metadata": {},
   "source": [
    "# 2. Expression for $K_2$ component of the block matrix $K^*$"
   ]
  },
  {
   "cell_type": "markdown",
   "id": "339d42f9-7f1d-4653-9a75-e9981f6682e8",
   "metadata": {},
   "source": [
    "Recall this was:\n",
    "\n",
    "$$\n",
    "K_2 = (A^n)'c\\delta K_1 (\\delta K_1 + cI)^{-1}A^z + (A^n)'(\\delta K_1 + cI)^{-1}K_2\n",
    "$$"
   ]
  },
  {
   "cell_type": "code",
   "execution_count": 16,
   "id": "1adab6e1-b368-466d-90b2-f2a4b34ef560",
   "metadata": {},
   "outputs": [
    {
     "name": "stdout",
     "output_type": "stream",
     "text": [
      "[[ 1.38616486  0.17105178  0.23321578  0.00371302  0.0044536   0.00413393]\n",
      " [ 0.17105178  1.11998571  0.11887399  0.00315167  0.00201313  0.00154197]\n",
      " [ 0.23321578  0.11887399  1.16516367  0.00293632  0.00209553  0.00321817]\n",
      " [ 0.00371302  0.00315167  0.00293632 10.00070065  0.00022898  0.00020687]\n",
      " [ 0.0044536   0.00201313  0.00209553  0.00022898 10.00055207  0.00005221]\n",
      " [ 0.00413393  0.00154197  0.00321817  0.00020687  0.00005221 10.0006539 ]]\n"
     ]
    }
   ],
   "source": [
    "print(K_ss)"
   ]
  },
  {
   "cell_type": "code",
   "execution_count": 17,
   "id": "d10833f0-09e5-4321-929a-ce720f2076a0",
   "metadata": {},
   "outputs": [
    {
     "name": "stdout",
     "output_type": "stream",
     "text": [
      "[[0.00371302 0.0044536  0.00413393]\n",
      " [0.00315167 0.00201313 0.00154197]\n",
      " [0.00293632 0.00209553 0.00321817]]\n"
     ]
    }
   ],
   "source": [
    "print(K_ss[0:3, 3:6]) # K_2"
   ]
  },
  {
   "cell_type": "code",
   "execution_count": 18,
   "id": "9f6dd934-ecfd-405b-bbdf-79d0447ae2fc",
   "metadata": {},
   "outputs": [
    {
     "data": {
      "text/plain": [
       "False"
      ]
     },
     "execution_count": 18,
     "metadata": {},
     "output_type": "execute_result"
    }
   ],
   "source": [
    "K_2 = K_ss[0:3, 3:6]\n",
    "LHS_2 = A_1_n.T @ (c * delta * K_1) @ inv(delta * K_1 + c*np.identity(3)) @ A_1_c + A_1_n.T @ inv(delta * K_1 + c*np.identity(3)) @ K_2\n",
    "np.allclose(LHS_2, K_2) # is approximately equal?"
   ]
  },
  {
   "cell_type": "code",
   "execution_count": 19,
   "id": "b0cc188f-1080-4216-b176-9aa3846abfc5",
   "metadata": {},
   "outputs": [
    {
     "data": {
      "text/plain": [
       "array([[0.00389873, 0.00459633, 0.00428508],\n",
       "       [0.00324844, 0.00211048, 0.00163299],\n",
       "       [0.00305481, 0.00219803, 0.00333332]])"
      ]
     },
     "execution_count": 19,
     "metadata": {},
     "output_type": "execute_result"
    }
   ],
   "source": [
    "LHS_2"
   ]
  },
  {
   "cell_type": "markdown",
   "id": "62621bc6-bad9-497d-b472-46a83392a659",
   "metadata": {},
   "source": [
    "# 3. Expression for $x_{\\infty}$ terminal opinions"
   ]
  },
  {
   "cell_type": "markdown",
   "id": "fe1c59a2-a516-41d5-9e8a-fe94631df13d",
   "metadata": {},
   "source": [
    "$$\n",
    "x_\\infty = (\\delta K_1 + cI - cA^n)^{-1}(cA^z - \\delta K_2)z\n",
    "$$"
   ]
  },
  {
   "cell_type": "code",
   "execution_count": 20,
   "id": "1eecef9b-adfa-48f4-bab0-02540053f3ee",
   "metadata": {},
   "outputs": [
    {
     "data": {
      "text/plain": [
       "array([[-0.00103162],\n",
       "       [ 0.01107937],\n",
       "       [ 0.00755896]])"
      ]
     },
     "execution_count": 20,
     "metadata": {},
     "output_type": "execute_result"
    }
   ],
   "source": [
    "LHS_3 = inv(delta * K_1 + c*np.identity(3) - c * A_1_n) @ (c * A_1_c - delta * K_2) @ z\n",
    "LHS_3"
   ]
  },
  {
   "cell_type": "code",
   "execution_count": 21,
   "id": "e1b92429-206e-4e50-b3c4-ba4bf42ee8d8",
   "metadata": {},
   "outputs": [
    {
     "data": {
      "text/plain": [
       "array([[-0.00103162],\n",
       "       [ 0.01107937],\n",
       "       [ 0.00755896]])"
      ]
     },
     "execution_count": 21,
     "metadata": {},
     "output_type": "execute_result"
    }
   ],
   "source": [
    "chi_ts[-1][0:3]"
   ]
  },
  {
   "cell_type": "code",
   "execution_count": 22,
   "id": "62d15f37-3c2b-4be5-a182-0896132e5ff8",
   "metadata": {},
   "outputs": [
    {
     "data": {
      "text/plain": [
       "True"
      ]
     },
     "execution_count": 22,
     "metadata": {},
     "output_type": "execute_result"
    }
   ],
   "source": [
    "np.allclose(chi_ts[-1][0:3], LHS_3)"
   ]
  }
 ],
 "metadata": {
  "kernelspec": {
   "display_name": "Python 3",
   "language": "python",
   "name": "python3"
  },
  "language_info": {
   "codemirror_mode": {
    "name": "ipython",
    "version": 3
   },
   "file_extension": ".py",
   "mimetype": "text/x-python",
   "name": "python",
   "nbconvert_exporter": "python",
   "pygments_lexer": "ipython3",
   "version": "3.8.8"
  },
  "widgets": {
   "application/vnd.jupyter.widget-state+json": {
    "state": {},
    "version_major": 2,
    "version_minor": 0
   }
  }
 },
 "nbformat": 4,
 "nbformat_minor": 5
}
