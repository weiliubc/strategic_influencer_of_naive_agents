{
 "cells": [
  {
   "cell_type": "markdown",
   "id": "parallel-physics",
   "metadata": {},
   "source": [
    "# Expanded Non-Consensus Case: Perfectly Opposing Agendas\n",
    "\n",
    "#### Unified Model with Multiple Strategic Agents\n",
    "#### Strategic Agent-Specific Message Weights\n",
    "\n",
    "James Yu, 14 March 2023"
   ]
  },
  {
   "cell_type": "code",
   "execution_count": 1,
   "id": "authorized-melissa",
   "metadata": {
    "tags": []
   },
   "outputs": [],
   "source": [
    "from collections import defaultdict\n",
    "import matplotlib.pyplot as plt\n",
    "import numpy as np"
   ]
  },
  {
   "cell_type": "code",
   "execution_count": 2,
   "id": "precise-trick",
   "metadata": {
    "tags": []
   },
   "outputs": [],
   "source": [
    "def M(K, B, R, L, delta):\n",
    "    \"\"\"Computes M_{t-1} given B_l \\forall l, K_t^l \\forall l, \n",
    "        R_l \\forall l, number of strategic agents L, and delta.\"\"\"\n",
    "    # handle the generic structure first, with the correct pairings:\n",
    "    base = [[B[l_prime].T @ K[l_prime] @ B[l] for l in range(L)] for l_prime in range(L)]\n",
    "    # then change the diagonals to construct M_{t-1}:\n",
    "    for l in range(L): base[l][l] = B[l].T @ K[l] @ B[l] + R[l]/delta\n",
    "    return np.block(base)\n",
    "\n",
    "def H(B, K, A, L):\n",
    "    \"\"\"Computes H_{t-1} given B_l \\forall l, K_t^l \\forall l, \n",
    "        A, and number of strategic agents L.\"\"\"\n",
    "    return np.concatenate(tuple(B[l].T @ K[l] @ A for l in range(L)), axis = 0)\n",
    "\n",
    "def C_l(A, B, K, k, h, L, c, x, n):\n",
    "    \"\"\"Computes C_{t-1}^h (displayed as C_{t-1}^l) given A, B_l \\forall l, K_t^l \\forall l, \n",
    "        k_t^l \\forall l, a specific naive agent h, number of strategic agents L, \n",
    "        c_l \\forall l, x_l \\forall l, and number of naive agents n\"\"\"\n",
    "    return np.concatenate(tuple(B[l].T @ K[l] @ A @ ((x[h] - x[l]) * np.ones((n, 1))) \n",
    "                           + B[l].T @ K[l] @ c[l] \n",
    "                           + 0.5 * B[l].T @ k[l].T for l in range(L)), axis = 0)\n",
    "\n",
    "def E(M_, H_):\n",
    "    \"\"\"Computes the generic E_{t-1} given M_{t-1} and H_{t-1}.\"\"\"\n",
    "    return np.linalg.inv(M_) @ H_\n",
    "\n",
    "def F(M_, C_l_, l, n):\n",
    "    \"\"\"Computes F_{t-1}^l given M_{t-1}, C_{t-1}^l, \n",
    "       specific naive agent l and number of naive agents n.\"\"\"\n",
    "    return (np.linalg.inv(M_) @ C_l_)[l*n:(l+1)*n, :] # e.g. l = 0 gives ln = 0, l = 1 gives ln = n, etc\n",
    "\n",
    "def G(A, B, E_, L, n):\n",
    "    \"\"\"Computes the generic G_{t-1} given A, B_l \\forall l, \n",
    "        E_{t-1}, number of strategic agents L, and number of naive agents n.\"\"\"\n",
    "    return A - sum([B[l] @ E_[l*n:(l+1)*n, :] for l in range(L)])\n",
    "    \n",
    "def g_l(B, E_, h, x, F_, L, n, c):\n",
    "    \"\"\"Computes g_{t-1}^l given B_l \\forall l, E_{t-1}^l, \n",
    "        a particular naive agent h, x_l \\forall l, F_{t-1}^l \\forall l, \n",
    "        number of strategic agents L, number of naive agents n, and c_h.\"\"\"\n",
    "    return - sum([B[l] @ (E_[l*n:(l+1)*n, :] @ ((x[h] - x[l]) * np.ones((n, 1))) + F_[l]) for l in range(L)]) + c[h]"
   ]
  },
  {
   "cell_type": "code",
   "execution_count": 3,
   "id": "forced-trunk",
   "metadata": {},
   "outputs": [],
   "source": [
    "def K_t_minus_1(Q, K, E_, R, G_, L, delta, n):\n",
    "    return [Q[l] + E_[l*n:(l+1)*n, :].T @ R[l] @ E_[l*n:(l+1)*n, :] \n",
    "            + delta * G_.T @ K[l] @ G_ for l in range(L)]\n",
    "\n",
    "def k_t_minus_1(K, k, G_, g, E_, F_, R, L, delta, n):\n",
    "    return [2*delta* g[l].T @ K[l] @ G_ + delta * k[l] @ G_ \n",
    "            + 2 * F_[l].T @ R[l] @ E_[l*n:(l+1)*n, :] for l in range(L)]\n",
    "\n",
    "def kappa_t_minus_1(K, k, kappa, g_, F_, R, L, delta):            \n",
    "    return [-delta * (g_[l].T @ K[l] @ g_[l] + k[l] @ g_[l] - kappa[l]) \n",
    "            - (F_[l].T @ R[l] @ F_[l]) for l in range(L)]"
   ]
  },
  {
   "cell_type": "code",
   "execution_count": 4,
   "id": "pleased-criterion",
   "metadata": {
    "tags": []
   },
   "outputs": [],
   "source": [
    "def should_terminate(bundles, eps):\n",
    "    return all([np.allclose(b[0], b[1], rtol = eps, atol = eps) for b in bundles])\n",
    "\n",
    "def solve(K_t, k_t, kappa_t, A, B, delta, n, L, Q, R, x, c, tol):\n",
    "    historical_K = [K_t]\n",
    "    historical_k = [k_t]\n",
    "    historical_kappa = [kappa_t]\n",
    "    eps = np.sqrt(np.finfo(np.float64).eps)\n",
    "    while True:\n",
    "        M_ = M(K_t, B, R, L, delta)\n",
    "        H_ = H(B, K_t, A, L)\n",
    "        E_ = E(M_, H_)\n",
    "        G_ = G(A, B, E_, L, n)\n",
    "        K_new = K_t_minus_1(Q, K_t, E_, R, G_, L, delta, n)\n",
    "        F_ = [F(M_, C_l(A, B, K_t, k_t, l, L, c, x, n), l, n) for l in range(L)]\n",
    "        g = [g_l(B, E_, h, x, F_, L, n, c) for h in range(L)]\n",
    "        k_new = k_t_minus_1(K_t, k_t, G_, g, E_, F_, R, L, delta, n)\n",
    "        kappa_new = kappa_t_minus_1(K_t, k_t, kappa_t, g, F_, R, L, delta)\n",
    "        historical_K.insert(0, K_new)\n",
    "        historical_k.insert(0, k_new)\n",
    "        historical_kappa.insert(0, kappa_new)\n",
    "        if should_terminate([(K_t, K_new), (k_t, k_new), (kappa_t, kappa_new)], eps):\n",
    "            return historical_K[0], historical_k[0], historical_kappa[0]\n",
    "        K_t = K_new\n",
    "        k_t = k_new\n",
    "        kappa_t = kappa_new"
   ]
  },
  {
   "cell_type": "code",
   "execution_count": 5,
   "id": "unlimited-jamaica",
   "metadata": {},
   "outputs": [],
   "source": [
    "def optimal(X_init, K_ss, k_ss, A, B, delta, n, L, Q, R, x, c, eps):\n",
    "    X_t = [a.copy() for a in X_init]\n",
    "    xs = defaultdict(list)\n",
    "    for l in range(L):\n",
    "        xs[l].append(X_t[l])\n",
    "        \n",
    "    rs = defaultdict(list)\n",
    "    payoffs = defaultdict(list)\n",
    "    payoff = defaultdict(int)\n",
    "    \n",
    "    M_ = M(K_ss, B, R, L, delta)\n",
    "    H_ = H(B, K_ss, A, L)\n",
    "    E_ = E(M_, H_)\n",
    "    G_ = G(A, B, E_, L, n)\n",
    "    F_ = [F(M_, C_l(A, B, K_ss, k_ss, l, L, c, x, n), l, n) for l in range(L)]\n",
    "    g = [g_l(B, E_, h, x, F_, L, n, c) for h in range(L)]\n",
    "    \n",
    "    i = 0\n",
    "    while True:\n",
    "        for l in range(L):\n",
    "            # TODO: special code for finite horizon needs a terminal time T term\n",
    "            Y_new = -1 * E_[l*n:(l+1)*n, :] @ X_t[l] - F(M_, C_l(A, B, K_ss, k_ss, l, L, c, x, n), l, n)\n",
    "            rs[l].append(Y_new)\n",
    "            payoff[l] += (-1 * delta**i * (X_t[l].T @ Q[l] @ X_t[l])).item() + (-1 * delta**i * (Y_new.T @ R[l] @ Y_new)).item()\n",
    "            payoffs[l].append(payoff[l])\n",
    "            X_new = G_ @ X_t[l] + g[l]\n",
    "            xs[l].append(X_new)\n",
    "            if l == L - 1 and np.allclose(X_t[l], X_new, rtol = eps, atol = eps):\n",
    "                return xs, rs, payoffs\n",
    "            X_t[l] = X_new \n",
    "        i += 1\n",
    "        \n",
    "    return xs, rs, payoffs"
   ]
  },
  {
   "cell_type": "code",
   "execution_count": 6,
   "id": "synthetic-promotion",
   "metadata": {},
   "outputs": [],
   "source": [
    "def run_simulation(b1, b2, a1, a2, delta = 0.9, c = 200, X_0_1 = np.array([[7.0, -2.0, 5.0]], ndmin = 2).T, symmetric = False, print_ = True, tol = np.sqrt(np.finfo(np.float64).eps)):\n",
    "    if symmetric:\n",
    "        raise Exception(\"symmetric network not allowed\")\n",
    "    else:\n",
    "        A = np.array([ # asymmetric\n",
    "            [0.6, 0.3, 0.1],\n",
    "            [0.4, 0.1, 0.5],\n",
    "            [0.5, 0.2, 0.3]\n",
    "        ])\n",
    "        if print_: \n",
    "            print(\"ASYMMETRIC NETWORK\")\n",
    "            print(A)\n",
    "        \n",
    "    X_0 = [X_0_1 - b1, X_0_1 - b2]\n",
    "    n = 3 # number of naive agents\n",
    "    L = 2 # number of strategic agents\n",
    "    Q = [np.identity(n), np.identity(n)] # objective function for messages is just X'IX = X'X\n",
    "    R = [c * np.identity(n), c * np.identity(n)] # message cost R = cI_n for some c under the new notation\n",
    "    B = [a1 * np.identity(n), a2 * np.identity(n)] # B^l = a_l I_n\n",
    "    x = [b1, b2] # agendas\n",
    "    r = [0, 0] # message cost minimality is centered around zero\n",
    "    c_base = sum([B[l] @ (r[l] * np.ones((n, 1))) for l in range(L)])\n",
    "    c = [c_base + (A - np.identity(n)) @ (x[l] * np.ones((n, 1))) for l in range(L)] # normalization vector\n",
    "    \n",
    "    K_ss, k_ss, kappa_ss = solve(Q, [np.zeros((1, n)), np.zeros((1, n))], [0, 0], A, B, delta, n, L, Q, R, x, c, tol)\n",
    "    xs, rs, payoffs = optimal(X_0, K_ss, k_ss, A, B, delta, n, L, Q, R, x, c, tol)\n",
    "    if print_:\n",
    "        print(\"Steady-State Opinions:\")\n",
    "        print(xs[0][-1] + b1)\n",
    "        print(\"Average of agendas:\")\n",
    "        print((b1+b2)/2)\n",
    "        print()\n",
    "        print(\"K^* (1, 2):\")\n",
    "        print(K_ss[0])\n",
    "        print(K_ss[1])\n",
    "        print()\n",
    "        print(\"k^* (1, 2):\")\n",
    "        print(k_ss[0])\n",
    "        print(k_ss[1])\n",
    "        print()\n",
    "        print(\"kappa^* (1, 2):\")\n",
    "        print(kappa_ss[0])\n",
    "        print(kappa_ss[1])\n",
    "        print()\n",
    "        print(\"Terminal messages (1, 2):\")\n",
    "        print(rs[0][-1])\n",
    "        print(rs[1][-1])\n",
    "        print()\n",
    "        print(\"Weighted terminal messages alpha_1 r_1 + alpha_2 r_2:\")\n",
    "        print(a1 * rs[0][-1] + a2 * rs[1][-1])\n",
    "        print()\n",
    "        print(\"Limit opinions:\")\n",
    "        print(xs[0][-1] + b1)\n",
    "        return xs, rs, payoffs\n",
    "    if print_ == False:\n",
    "        return xs[0][-1] + b1"
   ]
  },
  {
   "cell_type": "code",
   "execution_count": 7,
   "id": "008e68f2-5c09-4c7c-be37-b32d2d9dc6a3",
   "metadata": {},
   "outputs": [
    {
     "name": "stdout",
     "output_type": "stream",
     "text": [
      "ASYMMETRIC NETWORK\n",
      "[[0.6 0.3 0.1]\n",
      " [0.4 0.1 0.5]\n",
      " [0.5 0.2 0.3]]\n",
      "Steady-State Opinions:\n",
      "[[3.93243131]\n",
      " [2.82909723]\n",
      " [3.00114962]]\n",
      "Average of agendas:\n",
      "0.0\n",
      "\n",
      "K^* (1, 2):\n",
      "[[1.071449   0.02972412 0.03790981]\n",
      " [0.02972412 1.01300171 0.01301554]\n",
      " [0.03790981 0.01301554 1.03205556]]\n",
      "[[1.0521373  0.02164292 0.02786772]\n",
      " [0.02164292 1.00947083 0.0094599 ]\n",
      " [0.02786772 0.0094599  1.02403179]]\n",
      "\n",
      "k^* (1, 2):\n",
      "[[-28.02039342 -11.74440974 -14.48847576]]\n",
      "[[29.47590463 12.33294084 15.33436719]]\n",
      "\n",
      "kappa^* (1, 2):\n",
      "[[-25335.71278132]]\n",
      "[[-39299.40326737]]\n",
      "\n",
      "Terminal messages (1, 2):\n",
      "[[113.34470925]\n",
      " [ 72.40205835]\n",
      " [ 79.87028661]]\n",
      "[[-135.16539461]\n",
      " [ -87.93718995]\n",
      " [ -96.70680496]]\n",
      "\n",
      "Weighted terminal messages alpha_1 r_1 + alpha_2 r_2:\n",
      "[[ 0.42412824]\n",
      " [-0.52735997]\n",
      " [-0.43123051]]\n",
      "\n",
      "Limit opinions:\n",
      "[[3.93243131]\n",
      " [2.82909723]\n",
      " [3.00114962]]\n",
      "\n",
      "[[113.34470925]\n",
      " [ 72.40205835]\n",
      " [ 79.87028661]]\n",
      "[[-135.16539461]\n",
      " [ -87.93718995]\n",
      " [ -96.70680496]]\n",
      "\n",
      "-15808.147721199239\n",
      "-25008.91163752477\n"
     ]
    },
    {
     "data": {
      "image/png": "[encoded data removed]",
      "text/plain": [
       "<Figure size 460.8x360 with 1 Axes>"
      ]
     },
     "metadata": {
      "needs_background": "light"
     },
     "output_type": "display_data"
    }
   ],
   "source": [
    "plt.rcParams.update({\"text.usetex\": True})\n",
    "plt.rcParams[\"figure.figsize\"] = (6.4, 5)\n",
    "xs, rs, payoffs = run_simulation(10, -10, 0.6, 0.5, c = 0.1, delta = 0.9)\n",
    "for j in range(3):\n",
    "    plt.plot(range(len(xs[0])), [xs[0][i][j]+(10) for i in range(len(xs[0]))], label = f\"Agent {j+1}\")\n",
    "\n",
    "print()\n",
    "print(rs[0][-1])\n",
    "print(rs[1][-1])\n",
    "print()\n",
    "print(payoffs[0][-1])\n",
    "print(payoffs[1][-1])\n",
    "plt.xlabel(\"Time ($t$)\")\n",
    "plt.ylabel(\"Naive Agent Opinion ($x_t$)\")\n",
    "plt.legend()\n",
    "plt.title(\"Opinion Evolution\")\n",
    "plt.savefig(\"opinion_c_0_1_opposing_7.png\", dpi = 800, facecolor = \"white\")\n",
    "plt.show()"
   ]
  },
  {
   "cell_type": "code",
   "execution_count": 8,
   "id": "f4b56f93-aded-4b32-a75b-ff0c3d34bd7c",
   "metadata": {},
   "outputs": [
    {
     "data": {
      "image/png": "[encoded data removed]",
      "text/plain": [
       "<Figure size 460.8x360 with 1 Axes>"
      ]
     },
     "metadata": {
      "needs_background": "light"
     },
     "output_type": "display_data"
    }
   ],
   "source": [
    "for j in range(3):\n",
    "    plt.plot(range(len(rs[0])), [rs[0][i][j] for i in range(len(rs[0]))], label = f\"To Agent {j+1}\")\n",
    "plt.xlabel(\"Time\")\n",
    "plt.ylabel(\"Message\")\n",
    "plt.legend()\n",
    "plt.title(\"Messages: Strategic Agent 1\")\n",
    "plt.show()"
   ]
  },
  {
   "cell_type": "code",
   "execution_count": 9,
   "id": "28c4d1b1-8529-4188-9b10-00e06addf85f",
   "metadata": {},
   "outputs": [
    {
     "data": {
      "image/png": "[encoded data removed]",
      "text/plain": [
       "<Figure size 460.8x360 with 1 Axes>"
      ]
     },
     "metadata": {
      "needs_background": "light"
     },
     "output_type": "display_data"
    }
   ],
   "source": [
    "for j in range(3):\n",
    "    plt.plot(range(len(rs[1])), [rs[1][i][j] for i in range(len(rs[1]))], label = f\"To Agent {j+1}\")\n",
    "plt.xlabel(\"Time\")\n",
    "plt.ylabel(\"Message\")\n",
    "plt.legend()\n",
    "plt.title(\"Messages: Strategic Agent 2\")\n",
    "plt.show()"
   ]
  },
  {
   "cell_type": "code",
   "execution_count": 10,
   "id": "5b53f8f8-9d3b-4a93-8cc6-90186be48ec3",
   "metadata": {},
   "outputs": [
    {
     "data": {
      "image/png": "[encoded data removed]",
      "text/plain": [
       "<Figure size 460.8x360 with 1 Axes>"
      ]
     },
     "metadata": {
      "needs_background": "light"
     },
     "output_type": "display_data"
    }
   ],
   "source": [
    "plt.plot(range(len(payoffs[0])), [payoffs[0][i] for i in range(len(payoffs[0]))])\n",
    "plt.xlabel(\"Time\")\n",
    "plt.ylabel(\"Cumulative Payoff\")\n",
    "plt.title(\"Cumulative Payoffs: Strategic Agent 1\")\n",
    "plt.show()"
   ]
  },
  {
   "cell_type": "code",
   "execution_count": 11,
   "id": "3c882456-f455-4b3c-a356-e1a5c0d1594f",
   "metadata": {},
   "outputs": [
    {
     "data": {
      "image/png": "[encoded data removed]",
      "text/plain": [
       "<Figure size 460.8x360 with 1 Axes>"
      ]
     },
     "metadata": {
      "needs_background": "light"
     },
     "output_type": "display_data"
    }
   ],
   "source": [
    "plt.plot(range(len(payoffs[1])), [payoffs[1][i] for i in range(len(payoffs[1]))])\n",
    "plt.xlabel(\"Time\")\n",
    "plt.ylabel(\"Cumulative Payoff\")\n",
    "plt.title(\"Cumulative Payoffs: Strategic Agent 2\")\n",
    "plt.show()"
   ]
  }
 ],
 "metadata": {
  "kernelspec": {
   "display_name": "Python 3",
   "language": "python",
   "name": "python3"
  },
  "language_info": {
   "codemirror_mode": {
    "name": "ipython",
    "version": 3
   },
   "file_extension": ".py",
   "mimetype": "text/x-python",
   "name": "python",
   "nbconvert_exporter": "python",
   "pygments_lexer": "ipython3",
   "version": "3.8.8"
  },
  "widgets": {
   "application/vnd.jupyter.widget-state+json": {
    "state": {},
    "version_major": 2,
    "version_minor": 0
   }
  }
 },
 "nbformat": 4,
 "nbformat_minor": 5
}
