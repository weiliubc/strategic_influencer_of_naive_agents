{
 "cells": [
  {
   "cell_type": "markdown",
   "id": "parallel-physics",
   "metadata": {},
   "source": [
    "# $\\epsilon$-Distance Convergence Analysis\n",
    "#### Unified Model with Multiple Strategic Agents \n",
    "\n",
    "#### Strategic Agent-Specific Message Weights \n",
    "\n",
    "James Yu, 19 December 2022"
   ]
  },
  {
   "cell_type": "code",
   "execution_count": 1,
   "id": "authorized-melissa",
   "metadata": {
    "tags": []
   },
   "outputs": [],
   "source": [
    "from collections import defaultdict\n",
    "import matplotlib.pyplot as plt\n",
    "import numpy as np"
   ]
  },
  {
   "cell_type": "code",
   "execution_count": 2,
   "id": "precise-trick",
   "metadata": {
    "tags": []
   },
   "outputs": [],
   "source": [
    "def M(K, B, R, L, delta):\n",
    "    \"\"\"Computes M_{t-1} given B_l \\forall l, K_t^l \\forall l, \n",
    "        R_l \\forall l, number of strategic agents L, and delta.\"\"\"\n",
    "    # handle the generic structure first, with the correct pairings:\n",
    "    base = [[B[l_prime].T @ K[l_prime] @ B[l] for l in range(L)] for l_prime in range(L)]\n",
    "    # then change the diagonals to construct M_{t-1}:\n",
    "    for l in range(L): base[l][l] = B[l].T @ K[l] @ B[l] + R[l]/delta\n",
    "    return np.block(base)\n",
    "\n",
    "def H(B, K, A, L):\n",
    "    \"\"\"Computes H_{t-1} given B_l \\forall l, K_t^l \\forall l, \n",
    "        A, and number of strategic agents L.\"\"\"\n",
    "    return np.concatenate(tuple(B[l].T @ K[l] @ A for l in range(L)), axis = 0)\n",
    "\n",
    "def C_l(A, B, K, k, h, L, c, x, n):\n",
    "    \"\"\"Computes C_{t-1}^h (displayed as C_{t-1}^l) given A, B_l \\forall l, K_t^l \\forall l, \n",
    "        k_t^l \\forall l, a specific naive agent h, number of strategic agents L, \n",
    "        c_l \\forall l, x_l \\forall l, and number of naive agents n\"\"\"\n",
    "    return np.concatenate(tuple(B[l].T @ K[l] @ A @ ((x[h] - x[l]) * np.ones((n, 1))) \n",
    "                           + B[l].T @ K[l] @ c[l] \n",
    "                           + 0.5 * B[l].T @ k[l].T for l in range(L)), axis = 0)\n",
    "\n",
    "def E(M_, H_):\n",
    "    \"\"\"Computes the generic E_{t-1} given M_{t-1} and H_{t-1}.\"\"\"\n",
    "    return np.linalg.inv(M_) @ H_\n",
    "\n",
    "def F(M_, C_l_, l, n):\n",
    "    \"\"\"Computes F_{t-1}^l given M_{t-1}, C_{t-1}^l, \n",
    "       specific naive agent l and number of naive agents n.\"\"\"\n",
    "    return (np.linalg.inv(M_) @ C_l_)[l*n:(l+1)*n, :] # e.g. l = 0 gives ln = 0, l = 1 gives ln = n, etc\n",
    "\n",
    "def G(A, B, E_, L, n):\n",
    "    \"\"\"Computes the generic G_{t-1} given A, B_l \\forall l, \n",
    "        E_{t-1}, number of strategic agents L, and number of naive agents n.\"\"\"\n",
    "    return A - sum([B[l] @ E_[l*n:(l+1)*n, :] for l in range(L)])\n",
    "    \n",
    "def g_l(B, E_, h, x, F_, L, n, c):\n",
    "    \"\"\"Computes g_{t-1}^l given B_l \\forall l, E_{t-1}^l, \n",
    "        a particular naive agent h, x_l \\forall l, F_{t-1}^l \\forall l, \n",
    "        number of strategic agents L, number of naive agents n, and c_h.\"\"\"\n",
    "    return - sum([B[l] @ (E_[l*n:(l+1)*n, :] @ ((x[h] - x[l]) * np.ones((n, 1))) + F_[l]) for l in range(L)]) + c[h]"
   ]
  },
  {
   "cell_type": "code",
   "execution_count": 3,
   "id": "forced-trunk",
   "metadata": {},
   "outputs": [],
   "source": [
    "def K_t_minus_1(Q, K, E_, R, G_, L, delta, n):\n",
    "    return [Q[l] + E_[l*n:(l+1)*n, :].T @ R[l] @ E_[l*n:(l+1)*n, :] \n",
    "            + delta * G_.T @ K[l] @ G_ for l in range(L)]\n",
    "\n",
    "def k_t_minus_1(K, k, G_, g, E_, F_, R, L, delta, n):\n",
    "    return [2*delta* g[l].T @ K[l] @ G_ + delta * k[l] @ G_ \n",
    "            + 2 * F_[l].T @ R[l] @ E_[l*n:(l+1)*n, :] for l in range(L)]\n",
    "\n",
    "def kappa_t_minus_1(K, k, kappa, g_, F_, R, L, delta):            \n",
    "    return [-delta * (g_[l].T @ K[l] @ g_[l] + k[l] @ g_[l] - kappa[l]) \n",
    "            - (F_[l].T @ R[l] @ F_[l]) for l in range(L)]"
   ]
  },
  {
   "cell_type": "code",
   "execution_count": 4,
   "id": "pleased-criterion",
   "metadata": {
    "tags": []
   },
   "outputs": [],
   "source": [
    "def should_terminate(bundles, eps):\n",
    "    return all([np.allclose(b[0], b[1], rtol = eps, atol = eps) for b in bundles])\n",
    "\n",
    "def solve(K_t, k_t, kappa_t, A, B, delta, n, L, Q, R, x, c, eps):\n",
    "    historical_K = [K_t]\n",
    "    historical_k = [k_t]\n",
    "    historical_kappa = [kappa_t]\n",
    "    while True:\n",
    "        M_ = M(K_t, B, R, L, delta)\n",
    "        H_ = H(B, K_t, A, L)\n",
    "        E_ = E(M_, H_)\n",
    "        G_ = G(A, B, E_, L, n)\n",
    "        K_new = K_t_minus_1(Q, K_t, E_, R, G_, L, delta, n)\n",
    "        F_ = [F(M_, C_l(A, B, K_t, k_t, l, L, c, x, n), l, n) for l in range(L)]\n",
    "        g = [g_l(B, E_, h, x, F_, L, n, c) for h in range(L)]\n",
    "        k_new = k_t_minus_1(K_t, k_t, G_, g, E_, F_, R, L, delta, n)\n",
    "        kappa_new = kappa_t_minus_1(K_t, k_t, kappa_t, g, F_, R, L, delta)\n",
    "        historical_K.insert(0, K_new)\n",
    "        historical_k.insert(0, k_new)\n",
    "        historical_kappa.insert(0, kappa_new)\n",
    "        if should_terminate([(K_t, K_new), (k_t, k_new), (kappa_t, kappa_new)], eps):\n",
    "            return historical_K[0], historical_k[0], historical_kappa[0]\n",
    "        K_t = K_new\n",
    "        k_t = k_new\n",
    "        kappa_t = kappa_new"
   ]
  },
  {
   "cell_type": "code",
   "execution_count": 5,
   "id": "unlimited-jamaica",
   "metadata": {},
   "outputs": [],
   "source": [
    "def optimal(X_init, K_ss, k_ss, A, B, delta, n, L, Q, R, x, c, eps):\n",
    "    X_t = [a.copy() for a in X_init]\n",
    "    xs = defaultdict(list)\n",
    "    for l in range(L):\n",
    "        xs[l].append(X_t[l])\n",
    "        \n",
    "    rs = defaultdict(list)\n",
    "    payoffs = defaultdict(list)\n",
    "    payoff = defaultdict(int)\n",
    "    \n",
    "    M_ = M(K_ss, B, R, L, delta)\n",
    "    H_ = H(B, K_ss, A, L)\n",
    "    E_ = E(M_, H_)\n",
    "    G_ = G(A, B, E_, L, n)\n",
    "    F_ = [F(M_, C_l(A, B, K_ss, k_ss, l, L, c, x, n), l, n) for l in range(L)]\n",
    "    g = [g_l(B, E_, h, x, F_, L, n, c) for h in range(L)]\n",
    "    \n",
    "    i = 0\n",
    "    while True:\n",
    "        for l in range(L):\n",
    "            # TODO: special code for finite horizon needs a terminal time T term\n",
    "            Y_new = -1 * E_[l*n:(l+1)*n, :] @ X_t[l] - F(M_, C_l(A, B, K_ss, k_ss, l, L, c, x, n), l, n)\n",
    "            rs[l].append(Y_new)\n",
    "            payoff[l] += (-1 * delta**i * (X_t[l].T @ Q[l] @ X_t[l])).item() + (-1 * delta**i * (Y_new.T @ R[l] @ Y_new)).item()\n",
    "            payoffs[l].append(payoff[l])\n",
    "            X_new = G_ @ X_t[l] + g[l]\n",
    "            xs[l].append(X_new)\n",
    "            if l == L - 1 and np.allclose(X_t[l], X_new, rtol = eps, atol = eps):\n",
    "                return xs, rs, payoffs\n",
    "            X_t[l] = X_new \n",
    "        i += 1\n",
    "        \n",
    "    return xs, rs, payoffs"
   ]
  },
  {
   "cell_type": "code",
   "execution_count": 6,
   "id": "synthetic-promotion",
   "metadata": {},
   "outputs": [],
   "source": [
    "def run_simulation(b1, b2, a1, a2, delta = 0.9, c = 200, X_0_1 = np.array([[10.0, -5.0, 5.0]], ndmin = 2).T, A = np.array([ # asymmetric\n",
    "                            [0.6, 0.3, 0.1],\n",
    "                            [0.4, 0.1, 0.5],\n",
    "                            [0.5, 0.2, 0.3]\n",
    "                    ]), \n",
    "                   tol = np.finfo(np.float64).eps, print_ = True):\n",
    "    X_0 = [X_0_1 - b1, X_0_1 - b2]\n",
    "    n = 3 # number of naive agents\n",
    "    L = 2 # number of strategic agents\n",
    "    Q = [np.identity(n), np.identity(n)] # objective function for messages is just X'IX = X'X\n",
    "    R = [c * np.identity(n), c * np.identity(n)] # message cost R = cI_n for some c under the new notation\n",
    "    B = [a1 * np.identity(n), a2 * np.identity(n)] # B^l = a_l I_n\n",
    "    x = [b1, b2] # agendas\n",
    "    r = [0, 0] # message cost minimality is centered around zero\n",
    "    c_base = sum([B[l] @ (r[l] * np.ones((n, 1))) for l in range(L)])\n",
    "    c = [c_base + (A - np.identity(n)) @ (x[l] * np.ones((n, 1))) for l in range(L)] # normalization vector\n",
    "    \n",
    "    K_ss, k_ss, kappa_ss = solve(Q, [np.zeros((1, n)), np.zeros((1, n))], [0, 0], A, B, delta, n, L, Q, R, x, c, tol)\n",
    "    xs, rs, payoffs = optimal(X_0, K_ss, k_ss, A, B, delta, n, L, Q, R, x, c, tol)\n",
    "    \n",
    "    if print_:\n",
    "        print(\"Steady-State Opinions:\")\n",
    "        print(xs[0][-1] + b1)\n",
    "        print(\"Average of agendas:\")\n",
    "        print((b1+b2)/2)\n",
    "        print()\n",
    "        print(\"K^* (1, 2):\")\n",
    "        print(K_ss[0])\n",
    "        print(K_ss[1])\n",
    "        print()\n",
    "        print(\"k^* (1, 2):\")\n",
    "        print(k_ss[0])\n",
    "        print(k_ss[1])\n",
    "        print()\n",
    "        print(\"kappa^* (1, 2):\")\n",
    "        print(kappa_ss[0])\n",
    "        print(kappa_ss[1])\n",
    "    else:\n",
    "        return xs[0][-1] + b1"
   ]
  },
  {
   "cell_type": "markdown",
   "id": "23f41e30-38c0-4dc5-acd6-0335d28c4ba9",
   "metadata": {},
   "source": [
    "The original example was:"
   ]
  },
  {
   "cell_type": "code",
   "execution_count": 7,
   "id": "14f85e1d-fffc-4970-b07b-51940a31d544",
   "metadata": {},
   "outputs": [
    {
     "name": "stdout",
     "output_type": "stream",
     "text": [
      "Steady-State Opinions:\n",
      "[[2.99613579]\n",
      " [2.99601388]\n",
      " [2.99600195]]\n",
      "Average of agendas:\n",
      "2.5\n",
      "\n",
      "K^* (1, 2):\n",
      "[[6.43059654 2.3439935  2.51408674]\n",
      " [2.3439935  2.01821916 1.05703513]\n",
      " [2.51408674 1.05703513 2.28571685]]\n",
      "[[6.62457434 2.42816628 2.60195291]\n",
      " [2.42816628 2.05474748 1.09514893]\n",
      " [2.60195291 1.09514893 2.32557812]]\n",
      "\n",
      "k^* (1, 2):\n",
      "[[13.04617086  5.66080632  5.91090462]]\n",
      "[[-9.38608793 -4.07269416 -4.25253049]]\n",
      "\n",
      "kappa^* (1, 2):\n",
      "[[-17.39881349]]\n",
      "[[-8.54876211]]\n"
     ]
    }
   ],
   "source": [
    "run_simulation(0, 5, 0.5, 0.6)"
   ]
  },
  {
   "cell_type": "markdown",
   "id": "05d93c72-1a66-45a2-a63d-e8aec0500836",
   "metadata": {},
   "source": [
    "and the question is whether these are the same limit opinions or different limit opinions after accounting for rounding errors."
   ]
  },
  {
   "cell_type": "code",
   "execution_count": 8,
   "id": "58c6e8d2-8d15-4422-b589-1b5ab40bd030",
   "metadata": {},
   "outputs": [
    {
     "name": "stdout",
     "output_type": "stream",
     "text": [
      "Steady-State Opinions:\n",
      "[[5.]\n",
      " [5.]\n",
      " [5.]]\n",
      "Average of agendas:\n",
      "2.5\n",
      "\n",
      "K^* (1, 2):\n",
      "[[1.00000000e+00 1.09862798e-15 1.40761714e-15]\n",
      " [1.09862798e-15 1.00000000e+00 4.80649741e-16]\n",
      " [1.40761714e-15 4.80649741e-16 1.00000000e+00]]\n",
      "[[1.00000004e+00 1.77777767e-08 2.27777764e-08]\n",
      " [1.77777767e-08 1.00000001e+00 7.77777730e-09]\n",
      " [2.27777764e-08 7.77777730e-09 1.00000002e+00]]\n",
      "\n",
      "k^* (1, 2):\n",
      "[[8.34270731e-07 3.33708293e-07 5.00562438e-07]]\n",
      "[[-9.37500053e-10 -3.75000025e-10 -5.62500015e-10]]\n",
      "\n",
      "kappa^* (1, 2):\n",
      "[[-675.75936673]]\n",
      "[[-5.27343805e-11]]\n"
     ]
    }
   ],
   "source": [
    "run_simulation(0, 5, 0.5, 60000)"
   ]
  },
  {
   "cell_type": "markdown",
   "id": "34a745a8-d510-4643-a97c-6f09e3f48a13",
   "metadata": {},
   "source": [
    "In the limit as the second weight goes to infinity, there is apparent consensus at the opinion of the second agenda. But this is a limiting case."
   ]
  },
  {
   "cell_type": "code",
   "execution_count": 22,
   "id": "763c71d4-8380-4736-9574-40dbeb7f4786",
   "metadata": {},
   "outputs": [
    {
     "name": "stdout",
     "output_type": "stream",
     "text": [
      "Steady-State Opinions:\n",
      "[[2.95143991]\n",
      " [2.95143989]\n",
      " [2.95143989]]\n",
      "Average of agendas:\n",
      "2.5\n",
      "\n",
      "K^* (1, 2):\n",
      "[[8.48156654 3.23398226 3.44306546]\n",
      " [3.23398226 2.40444509 1.4600299 ]\n",
      " [3.44306546 1.4600299  2.70702319]]\n",
      "[[8.48578458 3.23581267 3.44497579]\n",
      " [3.23581267 2.40523942 1.46085874]\n",
      " [3.44497579 1.46085874 2.70788897]]\n",
      "\n",
      "k^* (1, 2):\n",
      "[[0.26080478 0.11317201 0.11813246]]\n",
      "[[-0.18121719 -0.07863627 -0.08208297]]\n",
      "\n",
      "kappa^* (1, 2):\n",
      "[[-0.00435574]]\n",
      "[[-0.00210125]]\n"
     ]
    }
   ],
   "source": [
    "run_simulation(0, 5, 0.5, 0.6, c = 20000)"
   ]
  },
  {
   "cell_type": "code",
   "execution_count": 9,
   "id": "a09b95d5-abfb-4941-9ce0-f26894d93cd7",
   "metadata": {},
   "outputs": [
    {
     "name": "stdout",
     "output_type": "stream",
     "text": [
      "Steady-State Opinions:\n",
      "[[3.4859028 ]\n",
      " [3.17343934]\n",
      " [3.23660598]]\n",
      "Average of agendas:\n",
      "2.5\n",
      "\n",
      "K^* (1, 2):\n",
      "[[1.00051755e+00 2.15081435e-04 2.75593419e-04]\n",
      " [2.15081435e-04 1.00009410e+00 9.40968168e-05]\n",
      " [2.75593419e-04 9.40968168e-05 1.00023530e+00]]\n",
      "[[1.00074474e+00 3.09506955e-04 3.96535464e-04]\n",
      " [3.09506955e-04 1.00013541e+00 1.35410603e-04]\n",
      " [3.96535464e-04 1.35410603e-04 1.00033847e+00]]\n",
      "\n",
      "k^* (1, 2):\n",
      "[[5.95076759 2.47142506 3.17561577]]\n",
      "[[-5.94645549 -2.46970382 -3.1730129 ]]\n",
      "\n",
      "kappa^* (1, 2):\n",
      "[[-171446.70943223]]\n",
      "[[-118936.58721259]]\n"
     ]
    }
   ],
   "source": [
    "run_simulation(0, 5, 0.5, 0.6, c = 0.001)"
   ]
  },
  {
   "cell_type": "markdown",
   "id": "f8b9403a-e082-4cdc-851c-2c48d3251af3",
   "metadata": {},
   "source": [
    "The lower the message cost is, the greater the disparity between the steady-state opinions."
   ]
  },
  {
   "cell_type": "code",
   "execution_count": 60,
   "id": "52ee1e97-b6c8-4d51-94f1-034e4407fead",
   "metadata": {},
   "outputs": [
    {
     "name": "stdout",
     "output_type": "stream",
     "text": [
      "Steady-State Opinions:\n",
      "[[-257048.5977707 ]\n",
      " [-413280.33096974]\n",
      " [-381697.01236092]]\n",
      "Average of agendas:\n",
      "-750000.0\n",
      "\n",
      "K^* (1, 2):\n",
      "[[1.00051755e+00 2.15081435e-04 2.75593419e-04]\n",
      " [2.15081435e-04 1.00009410e+00 9.40968168e-05]\n",
      " [2.75593419e-04 9.40968168e-05 1.00023530e+00]]\n",
      "[[1.00074474e+00 3.09506955e-04 3.96535464e-04]\n",
      " [3.09506955e-04 1.00013541e+00 1.35410603e-04]\n",
      " [3.96535464e-04 1.35410603e-04 1.00033847e+00]]\n",
      "\n",
      "k^* (1, 2):\n",
      "[[2975383.79362803 1235712.53043289 1587807.88658898]]\n",
      "[[-2973227.74481416 -1234851.91233711 -1586506.45110562]]\n",
      "\n",
      "kappa^* (1, 2):\n",
      "[[-4.28616774e+16]]\n",
      "[[-2.97341468e+16]]\n"
     ]
    }
   ],
   "source": [
    "run_simulation(-2000000, 500000, 0.5, 0.6, c = 0.001)"
   ]
  },
  {
   "cell_type": "code",
   "execution_count": 61,
   "id": "6b28c944-0fd2-4436-bfc6-4edb3879f4a3",
   "metadata": {},
   "outputs": [
    {
     "name": "stdout",
     "output_type": "stream",
     "text": [
      "Steady-State Opinions:\n",
      "[[-415379.58458623]\n",
      " [-479815.73402876]\n",
      " [-463051.20819921]]\n",
      "Average of agendas:\n",
      "-750000.0\n",
      "\n",
      "K^* (1, 2):\n",
      "[[1.00051787e+00 2.15216516e-04 2.75766441e-04]\n",
      " [2.15216516e-04 1.00009416e+00 9.41559183e-05]\n",
      " [2.75766441e-04 9.41559183e-05 1.00023545e+00]]\n",
      "[[1.00074441e+00 3.09367967e-04 3.96357447e-04]\n",
      " [3.09367967e-04 1.00013535e+00 1.35349792e-04]\n",
      " [3.96357447e-04 1.35349792e-04 1.00033832e+00]]\n",
      "\n",
      "k^* (1, 2):\n",
      "[[1217500.82402722  497501.33690076  684996.12949357]]\n",
      "[[-1215307.28789544  -496624.23294212  -683678.6623402 ]]\n",
      "\n",
      "kappa^* (1, 2):\n",
      "[[-1.43906477e+15]]\n",
      "[[-9.97362401e+14]]\n"
     ]
    }
   ],
   "source": [
    "run_simulation(-2000000, 500000, 0.5, 0.6, delta = 0.5, c = 0.001)"
   ]
  },
  {
   "cell_type": "code",
   "execution_count": 10,
   "id": "ad1bbe71-ef2e-4431-aafc-9d20baf03356",
   "metadata": {},
   "outputs": [
    {
     "name": "stdout",
     "output_type": "stream",
     "text": [
      "Steady-State Opinions:\n",
      "[[29961357.93166986]\n",
      " [29960138.75482544]\n",
      " [29960019.46809755]]\n",
      "Average of agendas:\n",
      "25000000.0\n",
      "\n",
      "K^* (1, 2):\n",
      "[[6.43059654 2.3439935  2.51408674]\n",
      " [2.3439935  2.01821916 1.05703513]\n",
      " [2.51408674 1.05703513 2.28571685]]\n",
      "[[6.62457434 2.42816628 2.60195291]\n",
      " [2.42816628 2.05474748 1.09514893]\n",
      " [2.60195291 1.09514893 2.32557812]]\n",
      "\n",
      "k^* (1, 2):\n",
      "[[1.30461709e+08 5.66080632e+07 5.91090462e+07]]\n",
      "[[-93860879.28679268 -40726941.5626741  -42525304.89759514]]\n",
      "\n",
      "kappa^* (1, 2):\n",
      "[[-1.73988135e+15]]\n",
      "[[-8.54876211e+14]]\n"
     ]
    }
   ],
   "source": [
    "run_simulation(0, 50000000, 0.5, 0.6)"
   ]
  },
  {
   "cell_type": "markdown",
   "id": "eba9eb97-0d6f-48b9-a9ba-1ce105ede1ed",
   "metadata": {},
   "source": [
    "These limit opinions do appear different, but note the very large $\\kappa^*$ term which when multiplied by an error can cause errors to explode."
   ]
  },
  {
   "cell_type": "code",
   "execution_count": 40,
   "id": "59a2eb51-b0f9-4f5a-9774-1acecd742238",
   "metadata": {},
   "outputs": [
    {
     "name": "stdout",
     "output_type": "stream",
     "text": [
      "Steady-State Opinions:\n",
      "[[29523969.1876968 ]\n",
      " [29523942.21798625]\n",
      " [29523942.22018254]]\n",
      "Average of agendas:\n",
      "25000000.0\n",
      "\n",
      "K^* (1, 2):\n",
      "[[2.16582387 0.49754769 0.56421571]\n",
      " [0.49754769 1.21658699 0.22240098]\n",
      " [0.56421571 0.22240098 1.35276575]]\n",
      "[[2.16828273 0.49861201 0.56534099]\n",
      " [0.49861201 1.21704908 0.22288199]\n",
      " [0.56534099 0.22288199 1.35330705]]\n",
      "\n",
      "k^* (1, 2):\n",
      "[[1528676.41911293  660166.07559384  706191.9836902 ]]\n",
      "[[-1063830.28221317  -459424.10386284  -491432.87509177]]\n",
      "\n",
      "kappa^* (1, 2):\n",
      "[[-8.06566539e+11]]\n",
      "[[-3.89605145e+11]]\n"
     ]
    }
   ],
   "source": [
    "run_simulation(0, 50000000, 0.5, 0.6, delta = 0.5936)"
   ]
  },
  {
   "cell_type": "code",
   "execution_count": 11,
   "id": "1d690514-ed39-4ee8-8413-fb4a35c695f3",
   "metadata": {},
   "outputs": [
    {
     "name": "stdout",
     "output_type": "stream",
     "text": [
      "Steady-State Opinions:\n",
      "[[29515625.52159192]\n",
      " [29515614.97813952]\n",
      " [29515615.39493213]]\n",
      "Average of agendas:\n",
      "25000000.0\n",
      "\n",
      "K^* (1, 2):\n",
      "[[1.7980716  0.33927461 0.39197709]\n",
      " [0.33927461 1.14779705 0.15118689]\n",
      " [0.39197709 0.15118689 1.25947003]]\n",
      "[[1.79900555 0.33967797 0.39240842]\n",
      " [0.33967797 1.14797224 0.15136887]\n",
      " [0.39240842 0.15136887 1.25968787]]\n",
      "\n",
      "k^* (1, 2):\n",
      "[[580367.98586168 249570.8999515  272718.06722077]]\n",
      "[[-403505.30112752 -173517.50897707 -189603.16373026]]\n",
      "\n",
      "kappa^* (1, 2):\n",
      "[[-1.58864718e+11]]\n",
      "[[-7.66870047e+10]]\n"
     ]
    }
   ],
   "source": [
    "run_simulation(0, 50000000, 0.5, 0.6, delta = 0.5)"
   ]
  },
  {
   "cell_type": "markdown",
   "id": "a1e4d5de-0cc8-4e6b-91fb-b33c0a561563",
   "metadata": {},
   "source": [
    "If we decrease $\\delta$, note now that the opinions are no longer monotonically sorted the way they were in the previous case. We can try to do a plot:"
   ]
  },
  {
   "cell_type": "code",
   "execution_count": 12,
   "id": "3453456f-064f-47b4-b06b-b7eb67541265",
   "metadata": {},
   "outputs": [
    {
     "data": {
      "text/plain": [
       "[<matplotlib.lines.Line2D at 0x17c7a88b610>]"
      ]
     },
     "execution_count": 12,
     "metadata": {},
     "output_type": "execute_result"
    },
    {
     "data": {
      "image/png": "[encoded data removed]",
      "text/plain": [
       "<Figure size 432x288 with 1 Axes>"
      ]
     },
     "metadata": {
      "needs_background": "light"
     },
     "output_type": "display_data"
    }
   ],
   "source": [
    "delta_grid = np.linspace(0.5, 0.9, 100)\n",
    "generated_data = [run_simulation(0, 50000000, 0.5, 0.6, delta = d, print_ = False) for d in delta_grid]\n",
    "plt.plot(delta_grid, [g[0] for g in generated_data])\n",
    "plt.plot(delta_grid, [g[1] for g in generated_data])\n",
    "plt.plot(delta_grid, [g[2] for g in generated_data])"
   ]
  },
  {
   "cell_type": "markdown",
   "id": "1bf10ac0-35cc-423e-ab88-008dbd262a9d",
   "metadata": {},
   "source": [
    "but this plot is not very useful since from the perspective of the given scale (1e7 = 1 * 10^7 = 10 million, so the y-axis is in 10s of millions), all the opinions align."
   ]
  },
  {
   "cell_type": "markdown",
   "id": "0aac512c-7af9-4826-b0a4-2398a887aa2f",
   "metadata": {},
   "source": [
    "Here is an example to show the difficulties with numerical error. Suppose we have some number:"
   ]
  },
  {
   "cell_type": "code",
   "execution_count": 13,
   "id": "1f40c471-9840-4c20-851f-62b69d468fa9",
   "metadata": {},
   "outputs": [
    {
     "data": {
      "text/plain": [
       "2.0"
      ]
     },
     "execution_count": 13,
     "metadata": {},
     "output_type": "execute_result"
    }
   ],
   "source": [
    "2.0"
   ]
  },
  {
   "cell_type": "markdown",
   "id": "478c2813-5c22-484d-b478-ebedd3e7049d",
   "metadata": {},
   "source": [
    "But after rounding error, we actually get this number in the computer:"
   ]
  },
  {
   "cell_type": "code",
   "execution_count": 14,
   "id": "cc36cd7c-73f7-4e0a-a6e8-1fede74b6bf1",
   "metadata": {},
   "outputs": [
    {
     "data": {
      "text/plain": [
       "2.00000001"
      ]
     },
     "execution_count": 14,
     "metadata": {},
     "output_type": "execute_result"
    }
   ],
   "source": [
    "2.00000001"
   ]
  },
  {
   "cell_type": "markdown",
   "id": "88ec1905-bf60-4243-890f-4061eb1d242c",
   "metadata": {},
   "source": [
    "Suppose we want to do an operation like $a\\cdot x$ for some constant $a$. If $a$ is very small, e.g. $a = 5$, then the true result of $ax$ is $ax = 2*5= 10$. But with the error:"
   ]
  },
  {
   "cell_type": "code",
   "execution_count": 15,
   "id": "9ca25ff5-e6ad-4015-864c-5f1ffeefb26d",
   "metadata": {},
   "outputs": [
    {
     "data": {
      "text/plain": [
       "10.00000005"
      ]
     },
     "execution_count": 15,
     "metadata": {},
     "output_type": "execute_result"
    }
   ],
   "source": [
    "2.00000001 * 5"
   ]
  },
  {
   "cell_type": "markdown",
   "id": "0ff836d1-2b67-49d6-9808-e89c2d13e66b",
   "metadata": {},
   "source": [
    "The error is also multiplied by $5$, but it is still quite small. Now suppose $a = 10^{11}$:"
   ]
  },
  {
   "cell_type": "code",
   "execution_count": 16,
   "id": "40816fd2-891b-43b1-8a9c-5f8c72f008f1",
   "metadata": {},
   "outputs": [
    {
     "data": {
      "text/plain": [
       "200000000000.0"
      ]
     },
     "execution_count": 16,
     "metadata": {},
     "output_type": "execute_result"
    }
   ],
   "source": [
    "2.0 * 10**11"
   ]
  },
  {
   "cell_type": "code",
   "execution_count": 17,
   "id": "3c2d86f2-a89d-47ae-b4ff-bb4b98cd3877",
   "metadata": {},
   "outputs": [
    {
     "data": {
      "text/plain": [
       "200000001000.0"
      ]
     },
     "execution_count": 17,
     "metadata": {},
     "output_type": "execute_result"
    }
   ],
   "source": [
    "2.00000001 * 10**11"
   ]
  },
  {
   "cell_type": "markdown",
   "id": "ffc82ac7-b783-4f59-96c9-1887c04d74b5",
   "metadata": {},
   "source": [
    "Now our result is off by 1000, which is non-negligible."
   ]
  },
  {
   "cell_type": "code",
   "execution_count": 20,
   "id": "2a5e74d7-7af3-4fd5-8221-1898980add9d",
   "metadata": {},
   "outputs": [
    {
     "name": "stdout",
     "output_type": "stream",
     "text": [
      "Steady-State Opinions:\n",
      "[[5.]\n",
      " [5.]\n",
      " [5.]]\n",
      "Average of agendas:\n",
      "2.5\n",
      "\n",
      "K^* (1, 2):\n",
      "[[7.08984934 2.63005757 2.81273234]\n",
      " [2.63005757 2.14236232 1.18656429]\n",
      " [2.81273234 1.18656429 2.42126355]]\n",
      "[[7.73293909 2.90911995 3.10400474]\n",
      " [2.90911995 2.26346601 1.3129272 ]\n",
      " [3.10400474 1.3129272  2.55332651]]\n",
      "\n",
      "k^* (1, 2):\n",
      "[[12.13424534  5.26528994  5.49698273]]\n",
      "[[1.32084974e-14 5.72521004e-15 6.01058375e-15]]\n",
      "\n",
      "kappa^* (1, 2):\n",
      "[[-12.71282003]]\n",
      "[[-1.23849394e-29]]\n"
     ]
    }
   ],
   "source": [
    "run_simulation(0, 5, 0, 0.5)"
   ]
  },
  {
   "cell_type": "code",
   "execution_count": 84,
   "id": "10c9aadb-50c9-4459-95cd-fe095fec7218",
   "metadata": {},
   "outputs": [
    {
     "name": "stdout",
     "output_type": "stream",
     "text": [
      "Steady-State Opinions:\n",
      "[[-2.57048598]\n",
      " [-4.13280331]\n",
      " [-3.81697012]]\n",
      "Average of agendas:\n",
      "-7.5\n",
      "\n",
      "K^* (1, 2):\n",
      "[[1.00051755e+00 2.15081435e-04 2.75593419e-04]\n",
      " [2.15081435e-04 1.00009410e+00 9.40968168e-05]\n",
      " [2.75593419e-04 9.40968168e-05 1.00023530e+00]]\n",
      "[[1.00074474e+00 3.09506955e-04 3.96535464e-04]\n",
      " [3.09506955e-04 1.00013541e+00 1.35410603e-04]\n",
      " [3.96535464e-04 1.35410603e-04 1.00033847e+00]]\n",
      "\n",
      "k^* (1, 2):\n",
      "[[29.75383794 12.3571253  15.87807887]]\n",
      "[[-29.73227745 -12.34851912 -15.86506451]]\n",
      "\n",
      "kappa^* (1, 2):\n",
      "[[-4286167.73580572]]\n",
      "[[-2973414.68031478]]\n"
     ]
    }
   ],
   "source": [
    "run_simulation(-20, 5, 0.5, 0.6, c = 0.001, delta = 0.9)"
   ]
  },
  {
   "cell_type": "code",
   "execution_count": 83,
   "id": "368fe5e4-ab3f-46bb-a9d0-f7bbe28538dd",
   "metadata": {},
   "outputs": [
    {
     "data": {
      "text/plain": [
       "[<matplotlib.lines.Line2D at 0x17c03b01880>]"
      ]
     },
     "execution_count": 83,
     "metadata": {},
     "output_type": "execute_result"
    },
    {
     "data": {
      "image/png": "[encoded data removed]",
      "text/plain": [
       "<Figure size 432x288 with 1 Axes>"
      ]
     },
     "metadata": {
      "needs_background": "light"
     },
     "output_type": "display_data"
    }
   ],
   "source": [
    "delta_grid = np.linspace(-10, -40, 100)\n",
    "generated_data = [run_simulation(d, 5, 0.5, 0.6, c = 0.001, print_ = False, delta = 0.9, tol = 10**-8) for d in delta_grid]\n",
    "plt.plot(delta_grid, [g[0] for g in generated_data])\n",
    "plt.plot(delta_grid, [g[1] for g in generated_data])\n",
    "plt.plot(delta_grid, [g[2] for g in generated_data])"
   ]
  },
  {
   "cell_type": "code",
   "execution_count": 74,
   "id": "592ef525-21c5-4b36-a1d3-f38b404aa1a6",
   "metadata": {},
   "outputs": [
    {
     "data": {
      "text/plain": [
       "[<matplotlib.lines.Line2D at 0x17c0238f0d0>]"
      ]
     },
     "execution_count": 74,
     "metadata": {},
     "output_type": "execute_result"
    },
    {
     "data": {
      "image/png": "[encoded data removed]",
      "text/plain": [
       "<Figure size 432x288 with 1 Axes>"
      ]
     },
     "metadata": {
      "needs_background": "light"
     },
     "output_type": "display_data"
    }
   ],
   "source": [
    "delta_grid = np.linspace(0.5, 0.9, 100)\n",
    "generated_data = [run_simulation(-2000000, 500000, 0.5, 0.6, c = 0.001, delta = d, print_ = False, tol = 10**-8) for d in delta_grid]\n",
    "plt.plot(delta_grid, [g[0] for g in generated_data])\n",
    "plt.plot(delta_grid, [g[1] for g in generated_data])\n",
    "plt.plot(delta_grid, [g[2] for g in generated_data])"
   ]
  }
 ],
 "metadata": {
  "kernelspec": {
   "display_name": "Python 3",
   "language": "python",
   "name": "python3"
  },
  "language_info": {
   "codemirror_mode": {
    "name": "ipython",
    "version": 3
   },
   "file_extension": ".py",
   "mimetype": "text/x-python",
   "name": "python",
   "nbconvert_exporter": "python",
   "pygments_lexer": "ipython3",
   "version": "3.8.8"
  },
  "widgets": {
   "application/vnd.jupyter.widget-state+json": {
    "state": {},
    "version_major": 2,
    "version_minor": 0
   }
  }
 },
 "nbformat": 4,
 "nbformat_minor": 5
}
