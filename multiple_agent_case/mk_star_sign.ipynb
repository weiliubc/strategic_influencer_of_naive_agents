{
 "cells": [
  {
   "cell_type": "markdown",
   "id": "fe795cd5-3ac3-4f63-b3f5-9e3a1806d1ac",
   "metadata": {},
   "source": [
    "# Quick symbolic check of MK* expression\n",
    "\n",
    "James Yu, 14 January 2023"
   ]
  },
  {
   "cell_type": "code",
   "execution_count": 1,
   "id": "bd8b5b03-14c2-4622-a2cd-2fa58ab9c5d6",
   "metadata": {},
   "outputs": [],
   "source": [
    "from sympy import *"
   ]
  },
  {
   "cell_type": "code",
   "execution_count": 2,
   "id": "b1174d97-dba1-42b5-ab8a-0334f1cc0ef2",
   "metadata": {},
   "outputs": [],
   "source": [
    "c, delta, alpha, lambda_j, M = symbols(\"c delta alpha lambda_j M\")"
   ]
  },
  {
   "cell_type": "code",
   "execution_count": 3,
   "id": "32901ecb-c370-4176-941b-2b8287973151",
   "metadata": {
    "tags": []
   },
   "outputs": [
    {
     "data": {
      "text/latex": [
       "$\\displaystyle x{\\left(M \\right)}$"
      ],
      "text/plain": [
       "x(M)"
      ]
     },
     "execution_count": 3,
     "metadata": {},
     "output_type": "execute_result"
    }
   ],
   "source": [
    "x = Function(\"x\")(M)\n",
    "x"
   ]
  },
  {
   "cell_type": "code",
   "execution_count": 4,
   "id": "634799e9-18b4-4813-be18-751b2f7397a7",
   "metadata": {},
   "outputs": [
    {
     "data": {
      "text/latex": [
       "$\\displaystyle y{\\left(M \\right)}$"
      ],
      "text/plain": [
       "y(M)"
      ]
     },
     "execution_count": 4,
     "metadata": {},
     "output_type": "execute_result"
    }
   ],
   "source": [
    "y = Function(\"y\")(M)\n",
    "y"
   ]
  },
  {
   "cell_type": "code",
   "execution_count": 5,
   "id": "344cea14-5d3f-48ca-8c23-5c31c8823299",
   "metadata": {},
   "outputs": [
    {
     "data": {
      "text/latex": [
       "$\\displaystyle \\frac{c \\delta \\lambda_{j}^{2} \\left(\\alpha^{2} \\delta x{\\left(M \\right)} + c\\right) x{\\left(M \\right)}}{\\left(\\alpha^{2} \\delta y{\\left(M \\right)} + c\\right)^{2}} - x{\\left(M \\right)} + 1$"
      ],
      "text/plain": [
       "c*delta*lambda_j**2*(alpha**2*delta*x(M) + c)*x(M)/(alpha**2*delta*y(M) + c)**2 - x(M) + 1"
      ]
     },
     "execution_count": 5,
     "metadata": {},
     "output_type": "execute_result"
    }
   ],
   "source": [
    "g = 1 + (c * delta * x * (delta * alpha**2 * x + c) * lambda_j**2)/(delta * y * alpha**2 + c)**2 - x\n",
    "g"
   ]
  },
  {
   "cell_type": "code",
   "execution_count": 6,
   "id": "3a3d4fc5-be46-4611-b6c9-818cfbf9174f",
   "metadata": {},
   "outputs": [
    {
     "data": {
      "text/latex": [
       "$\\displaystyle \\frac{- 2 \\alpha^{2} c \\delta^{2} \\lambda_{j}^{2} x y' \\left(\\alpha^{2} \\delta x + c\\right) + c \\delta \\lambda_{j}^{2} x' \\left(2 \\alpha^{2} \\delta x + c\\right) \\left(M \\alpha^{2} \\delta x + c\\right) - x' \\left(M \\alpha^{2} \\delta x + c\\right)^{3}}{\\left(M \\alpha^{2} \\delta x + c\\right)^{3}}$"
      ],
      "text/plain": [
       "(-2*alpha**2*c*delta**2*lambda_j**2*x*y'*(alpha**2*delta*x + c) + c*delta*lambda_j**2*x'*(2*alpha**2*delta*x + c)*(M*alpha**2*delta*x + c) - x'*(M*alpha**2*delta*x + c)**3)/(M*alpha**2*delta*x + c)**3"
      ]
     },
     "execution_count": 6,
     "metadata": {},
     "output_type": "execute_result"
    }
   ],
   "source": [
    "simplify(diff(g, M)).subs(diff(y, M), Symbol(\"y'\")).subs(diff(x, M), Symbol(\"x'\")).subs(x, Symbol(\"x\")).subs(y, Symbol(\"x\")*M)"
   ]
  },
  {
   "cell_type": "markdown",
   "id": "324a993f-188c-4204-b61f-00f3d59f7f6b",
   "metadata": {},
   "source": [
    "Set equal to zero and simplify:"
   ]
  },
  {
   "cell_type": "code",
   "execution_count": 7,
   "id": "5bd51093-fe75-4cce-a329-97bbacb2e37e",
   "metadata": {},
   "outputs": [
    {
     "data": {
      "text/latex": [
       "$\\displaystyle - x' \\left(- \\frac{c \\delta \\lambda_{j}^{2} \\left(2 \\alpha^{2} \\delta x + c\\right)}{\\left(M \\alpha^{2} \\delta x + c\\right)^{2}} + 1\\right)$"
      ],
      "text/plain": [
       "-x'*(-c*delta*lambda_j**2*(2*alpha**2*delta*x + c)/(M*alpha**2*delta*x + c)**2 + 1)"
      ]
     },
     "execution_count": 7,
     "metadata": {},
     "output_type": "execute_result"
    }
   ],
   "source": [
    "LHS = -Symbol(\"x'\")*(1 - (c * delta * (2 * alpha**2 * delta * Symbol(\"x\") + c) * lambda_j**2) / (alpha**2 * delta * M * Symbol(\"x\") + c)**2)\n",
    "LHS"
   ]
  },
  {
   "cell_type": "code",
   "execution_count": 8,
   "id": "e1a8a661-6a50-4060-855f-5751a0cdbd52",
   "metadata": {},
   "outputs": [
    {
     "data": {
      "text/latex": [
       "$\\displaystyle \\frac{2 \\alpha^{2} c \\delta^{2} \\lambda_{j}^{2} x y' \\left(\\alpha^{2} \\delta x + c\\right)}{\\left(M \\alpha^{2} \\delta x + c\\right)^{3}}$"
      ],
      "text/plain": [
       "2*alpha**2*c*delta**2*lambda_j**2*x*y'*(alpha**2*delta*x + c)/(M*alpha**2*delta*x + c)**3"
      ]
     },
     "execution_count": 8,
     "metadata": {},
     "output_type": "execute_result"
    }
   ],
   "source": [
    "RHS = 2*alpha**2 * c * delta**2 * lambda_j**2 * Symbol(\"x\") * Symbol(\"y'\") * (alpha**2 * delta * Symbol(\"x\") + c) / (M * alpha**2 * delta * Symbol(\"x\") + c)**3\n",
    "RHS"
   ]
  }
 ],
 "metadata": {
  "kernelspec": {
   "display_name": "Python 3",
   "language": "python",
   "name": "python3"
  },
  "language_info": {
   "codemirror_mode": {
    "name": "ipython",
    "version": 3
   },
   "file_extension": ".py",
   "mimetype": "text/x-python",
   "name": "python",
   "nbconvert_exporter": "python",
   "pygments_lexer": "ipython3",
   "version": "3.8.8"
  },
  "widgets": {
   "application/vnd.jupyter.widget-state+json": {
    "state": {},
    "version_major": 2,
    "version_minor": 0
   }
  }
 },
 "nbformat": 4,
 "nbformat_minor": 5
}
