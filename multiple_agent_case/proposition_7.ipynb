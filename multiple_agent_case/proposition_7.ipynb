{
 "cells": [
  {
   "cell_type": "markdown",
   "id": "05428c01-a684-4429-b07e-994cf7994bca",
   "metadata": {},
   "source": [
    "# Proposition 7 Analysis\n",
    "\n",
    "### Unified Model, Multiple Weighted Strategic Agents, Symmetric Network\n",
    "\n",
    "James Yu, 20 June 2023"
   ]
  },
  {
   "cell_type": "code",
   "execution_count": 1,
   "id": "2c91c0d4-5cb5-4969-8850-cc9fcd79b53e",
   "metadata": {},
   "outputs": [],
   "source": [
    "from collections import defaultdict\n",
    "import matplotlib.pyplot as plt\n",
    "import numpy as np\n",
    "np.set_printoptions(suppress=True)"
   ]
  },
  {
   "cell_type": "code",
   "execution_count": 2,
   "id": "96a52398-750a-43fb-9903-3ce90d1471ae",
   "metadata": {},
   "outputs": [],
   "source": [
    "def M(K, B, R, L, delta):\n",
    "    \"\"\"Computes M_{t-1} given B_l \\forall l, K_t^l \\forall l, \n",
    "        R_l \\forall l, number of strategic agents L, and delta.\"\"\"\n",
    "    # handle the generic structure first, with the correct pairings:\n",
    "    base = [[B[l_prime].T @ K[l_prime] @ B[l] for l in range(L)] for l_prime in range(L)]\n",
    "    # then change the diagonals to construct M_{t-1}:\n",
    "    for l in range(L): base[l][l] = B[l].T @ K[l] @ B[l] + R[l]/delta\n",
    "    return np.block(base)\n",
    "\n",
    "def H(B, K, A, L):\n",
    "    \"\"\"Computes H_{t-1} given B_l \\forall l, K_t^l \\forall l, \n",
    "        A, and number of strategic agents L.\"\"\"\n",
    "    return np.concatenate(tuple(B[l].T @ K[l] @ A for l in range(L)), axis = 0)\n",
    "\n",
    "def C_l(A, B, K, k, h, L, c, x, n):\n",
    "    \"\"\"Computes C_{t-1}^h (displayed as C_{t-1}^l) given A, B_l \\forall l, K_t^l \\forall l, \n",
    "        k_t^l \\forall l, a specific naive agent h, number of strategic agents L, \n",
    "        c_l \\forall l, x_l \\forall l, and number of naive agents n\"\"\"\n",
    "    return np.concatenate(tuple(B[l].T @ K[l] @ A @ ((x[h] - x[l]) * np.ones((n, 1))) \n",
    "                           + B[l].T @ K[l] @ c[l] \n",
    "                           + 0.5 * B[l].T @ k[l].T for l in range(L)), axis = 0)\n",
    "\n",
    "def E(M_, H_):\n",
    "    \"\"\"Computes the generic E_{t-1} given M_{t-1} and H_{t-1}.\"\"\"\n",
    "    return np.linalg.inv(M_) @ H_\n",
    "\n",
    "def F(M_, C_l_, l, n):\n",
    "    \"\"\"Computes F_{t-1}^l given M_{t-1}, C_{t-1}^l, \n",
    "       specific naive agent l and number of naive agents n.\"\"\"\n",
    "    return (np.linalg.inv(M_) @ C_l_)[l*n:(l+1)*n, :] # e.g. l = 0 gives ln = 0, l = 1 gives ln = n, etc\n",
    "\n",
    "def G(A, B, E_, L, n):\n",
    "    \"\"\"Computes the generic G_{t-1} given A, B_l \\forall l, \n",
    "        E_{t-1}, number of strategic agents L, and number of naive agents n.\"\"\"\n",
    "    return A - sum([B[l] @ E_[l*n:(l+1)*n, :] for l in range(L)])\n",
    "    \n",
    "def g_l(B, E_, h, x, F_, L, n, c):\n",
    "    \"\"\"Computes g_{t-1}^l given B_l \\forall l, E_{t-1}^l, \n",
    "        a particular naive agent h, x_l \\forall l, F_{t-1}^l \\forall l, \n",
    "        number of strategic agents L, number of naive agents n, and c_h.\"\"\"\n",
    "    return - sum([B[l] @ (E_[l*n:(l+1)*n, :] @ ((x[h] - x[l]) * np.ones((n, 1))) + F_[l]) for l in range(L)]) + c[h]"
   ]
  },
  {
   "cell_type": "code",
   "execution_count": 3,
   "id": "e93ccabd-fdf7-43e7-b1e5-78f26321eb6d",
   "metadata": {},
   "outputs": [],
   "source": [
    "def K_t_minus_1(Q, K, E_, R, G_, L, delta, n):\n",
    "    return [Q[l] + E_[l*n:(l+1)*n, :].T @ R[l] @ E_[l*n:(l+1)*n, :] \n",
    "            + delta * G_.T @ K[l] @ G_ for l in range(L)]\n",
    "\n",
    "def k_t_minus_1(K, k, G_, g, E_, F_, R, L, delta, n):\n",
    "    return [2*delta* g[l].T @ K[l] @ G_ + delta * k[l] @ G_ \n",
    "            + 2 * F_[l].T @ R[l] @ E_[l*n:(l+1)*n, :] for l in range(L)]\n",
    "\n",
    "def kappa_t_minus_1(K, k, kappa, g_, F_, R, L, delta):            \n",
    "    return [-delta * (g_[l].T @ K[l] @ g_[l] + k[l] @ g_[l] - kappa[l]) \n",
    "            - (F_[l].T @ R[l] @ F_[l]) for l in range(L)]"
   ]
  },
  {
   "cell_type": "code",
   "execution_count": 4,
   "id": "bb45d95d-e326-4ce1-a0eb-b98dec9cc4ab",
   "metadata": {},
   "outputs": [],
   "source": [
    "def should_terminate(bundles, eps):\n",
    "    return all([np.allclose(b[0], b[1], rtol = eps, atol = eps) for b in bundles])\n",
    "\n",
    "def solve(K_t, k_t, kappa_t, A, B, delta, n, L, Q, R, x, c, tol):\n",
    "    historical_K = [K_t]\n",
    "    historical_k = [k_t]\n",
    "    historical_kappa = [kappa_t]\n",
    "    eps = np.sqrt(np.finfo(np.float64).eps)\n",
    "    while True:\n",
    "        M_ = M(K_t, B, R, L, delta)\n",
    "        H_ = H(B, K_t, A, L)\n",
    "        E_ = E(M_, H_)\n",
    "        G_ = G(A, B, E_, L, n)\n",
    "        K_new = K_t_minus_1(Q, K_t, E_, R, G_, L, delta, n)\n",
    "        F_ = [F(M_, C_l(A, B, K_t, k_t, l, L, c, x, n), l, n) for l in range(L)]\n",
    "        g = [g_l(B, E_, h, x, F_, L, n, c) for h in range(L)]\n",
    "        k_new = k_t_minus_1(K_t, k_t, G_, g, E_, F_, R, L, delta, n)\n",
    "        kappa_new = kappa_t_minus_1(K_t, k_t, kappa_t, g, F_, R, L, delta)\n",
    "        historical_K.insert(0, K_new)\n",
    "        historical_k.insert(0, k_new)\n",
    "        historical_kappa.insert(0, kappa_new)\n",
    "        if should_terminate([(K_t, K_new), (k_t, k_new), (kappa_t, kappa_new)], eps):\n",
    "            return historical_K[0], historical_k[0], historical_kappa[0]\n",
    "        K_t = K_new\n",
    "        k_t = k_new\n",
    "        kappa_t = kappa_new"
   ]
  },
  {
   "cell_type": "code",
   "execution_count": 5,
   "id": "85a4f453-ecff-4d35-8fa0-3d97f9a24d88",
   "metadata": {},
   "outputs": [],
   "source": [
    "def optimal(X_init, K_ss, k_ss, A, B, delta, n, L, Q, R, x, c, eps):\n",
    "    X_t = [a.copy() for a in X_init]\n",
    "    xs = defaultdict(list)\n",
    "    for l in range(L):\n",
    "        xs[l].append(X_t[l])\n",
    "        \n",
    "    rs = defaultdict(list)\n",
    "    payoffs = defaultdict(list)\n",
    "    payoff = defaultdict(int)\n",
    "    \n",
    "    M_ = M(K_ss, B, R, L, delta)\n",
    "    H_ = H(B, K_ss, A, L)\n",
    "    E_ = E(M_, H_)\n",
    "    G_ = G(A, B, E_, L, n)\n",
    "    F_ = [F(M_, C_l(A, B, K_ss, k_ss, l, L, c, x, n), l, n) for l in range(L)]\n",
    "    g = [g_l(B, E_, h, x, F_, L, n, c) for h in range(L)]\n",
    "    \n",
    "    i = 0\n",
    "    while True:\n",
    "        for l in range(L):\n",
    "            # TODO: special code for finite horizon needs a terminal time T term\n",
    "            Y_new = -1 * E_[l*n:(l+1)*n, :] @ X_t[l] - F(M_, C_l(A, B, K_ss, k_ss, l, L, c, x, n), l, n)\n",
    "            rs[l].append(Y_new)\n",
    "            payoff[l] += (-1 * delta**i * (X_t[l].T @ Q[l] @ X_t[l])).item() + (-1 * delta**i * (Y_new.T @ R[l] @ Y_new)).item()\n",
    "            payoffs[l].append(payoff[l])\n",
    "            X_new = G_ @ X_t[l] + g[l]\n",
    "            xs[l].append(X_new)\n",
    "            if l == L - 1 and np.allclose(X_t[l], X_new, rtol = eps, atol = eps):\n",
    "                return xs, rs, payoffs\n",
    "            X_t[l] = X_new \n",
    "        i += 1\n",
    "        \n",
    "    return xs, rs, payoffs"
   ]
  },
  {
   "cell_type": "code",
   "execution_count": 6,
   "id": "d233ea88-234d-42f3-a028-8137fbe13cab",
   "metadata": {},
   "outputs": [],
   "source": [
    "def run_simulation(A, b1, b2, a1, a2, delta, c, X_0_1, tol = np.sqrt(np.finfo(np.float64).eps)):\n",
    "    X_0 = [X_0_1 - b1, X_0_1 - b2]\n",
    "    n = A.shape[0] # number of naive agents\n",
    "    L = 2 # number of strategic agents\n",
    "    Q = [np.identity(n), np.identity(n)] # objective function for messages is just X'IX = X'X\n",
    "    R = [c * np.identity(n), c * np.identity(n)] # message cost R = cI_n for some c under the new notation\n",
    "    B = [a1 * np.identity(n), a2 * np.identity(n)] # B^l = a_l I_n\n",
    "    x = [b1, b2] # agendas\n",
    "    r = [0, 0] # message cost minimality is centered around zero\n",
    "    c_base = sum([B[l] @ (r[l] * np.ones((n, 1))) for l in range(L)])\n",
    "    c = [c_base + (A - np.identity(n)) @ (x[l] * np.ones((n, 1))) for l in range(L)] # normalization vector\n",
    "    \n",
    "    K_ss, k_ss, kappa_ss = solve(Q, [np.zeros((1, n)), np.zeros((1, n))], [0, 0], A, B, delta, n, L, Q, R, x, c, tol)\n",
    "    xs, rs, payoffs = optimal(X_0, K_ss, k_ss, A, B, delta, n, L, Q, R, x, c, tol)\n",
    "    return K_ss, k_ss, kappa_ss, xs, rs, payoffs"
   ]
  },
  {
   "cell_type": "code",
   "execution_count": 7,
   "id": "b02b7739-6451-41f0-8a9d-df76b75dcc1f",
   "metadata": {},
   "outputs": [],
   "source": [
    "A1 = np.array([\n",
    "    [0.3, 0.5, 0.2],\n",
    "    [0.5, 0.4, 0.1],\n",
    "    [0.2, 0.1, 0.7]\n",
    "])\n",
    "\n",
    "delta = 0.9\n",
    "c = 1.0\n",
    "X_0_1 = np.array([[10.0, -5.0, 5.0]], ndmin = 2).T\n",
    "b1 = 10\n",
    "b2 = -10\n",
    "a1 = 6\n",
    "a2 = 5\n",
    "K_ss, k_ss, kappa_ss, xs, rs, payoffs = run_simulation(A1, b1, b2, a1, a2, delta, c, X_0_1)"
   ]
  },
  {
   "cell_type": "markdown",
   "id": "0154751f-2ac3-4e85-812d-d6055e3dcc0c",
   "metadata": {},
   "source": [
    "## 43, 44"
   ]
  },
  {
   "cell_type": "code",
   "execution_count": 8,
   "id": "e664d2ef-2ad2-4846-84b6-f1addebf9dc3",
   "metadata": {},
   "outputs": [],
   "source": [
    "from scipy.optimize import fsolve"
   ]
  },
  {
   "cell_type": "code",
   "execution_count": 9,
   "id": "c055b3ba-9cc8-4b46-8e33-4b71c05d0006",
   "metadata": {},
   "outputs": [],
   "source": [
    "eigvals_raw, U_raw = np.linalg.eig(A1)\n",
    "# sort eigenvalues largest to smallest so the \"1\" comes first\n",
    "eigval_sorting_map = np.flip(np.argsort(eigvals_raw)) \n",
    "eigvals = eigvals_raw[eigval_sorting_map]\n",
    "U = U_raw[:, eigval_sorting_map]"
   ]
  },
  {
   "cell_type": "code",
   "execution_count": 10,
   "id": "7bea2c47-9db5-4a54-90b0-437362c314a1",
   "metadata": {},
   "outputs": [
    {
     "data": {
      "text/plain": [
       "array([1, 2, 0], dtype=int64)"
      ]
     },
     "execution_count": 10,
     "metadata": {},
     "output_type": "execute_result"
    }
   ],
   "source": [
    "eigval_sorting_map"
   ]
  },
  {
   "cell_type": "code",
   "execution_count": 11,
   "id": "bfcf2715-8f8f-4d4a-934f-fb2ea2c5268c",
   "metadata": {},
   "outputs": [
    {
     "data": {
      "text/plain": [
       "(array([-0.16055513,  1.        ,  0.56055513]),\n",
       " array([[ 0.75130448, -0.57735027, -0.31970025],\n",
       "        [-0.65252078, -0.57735027, -0.49079864],\n",
       "        [-0.0987837 , -0.57735027,  0.81049889]]))"
      ]
     },
     "execution_count": 11,
     "metadata": {},
     "output_type": "execute_result"
    }
   ],
   "source": [
    "eigvals_raw, U_raw"
   ]
  },
  {
   "cell_type": "code",
   "execution_count": 12,
   "id": "bc52cbc8-70e7-4078-8bd0-14740ac76991",
   "metadata": {},
   "outputs": [
    {
     "data": {
      "text/plain": [
       "(array([ 1.        ,  0.56055513, -0.16055513]),\n",
       " array([[-0.57735027, -0.31970025,  0.75130448],\n",
       "        [-0.57735027, -0.49079864, -0.65252078],\n",
       "        [-0.57735027,  0.81049889, -0.0987837 ]]))"
      ]
     },
     "execution_count": 12,
     "metadata": {},
     "output_type": "execute_result"
    }
   ],
   "source": [
    "eigvals, U"
   ]
  },
  {
   "cell_type": "code",
   "execution_count": 13,
   "id": "a267fdf2-8f40-4bc9-9679-b4d2176675dd",
   "metadata": {},
   "outputs": [],
   "source": [
    "D = np.diag(eigvals)"
   ]
  },
  {
   "cell_type": "code",
   "execution_count": 14,
   "id": "7fd03edf-ee03-40a6-a3c8-345cadbd8218",
   "metadata": {},
   "outputs": [],
   "source": [
    "def tilde_Kj(c, delta, a1, a2, lambdaj):\n",
    "    g1 = lambda x, y: x - (1 + (c*delta * lambdaj**2 * x * (delta*x*a1**2 + c))/((c+delta*x*a1**2 + delta*y*a2**2)**2))\n",
    "    g2 = lambda x, y: y - (1 + (c*delta * lambdaj**2 * y * (delta*y*a2**2 + c))/((c+delta*x*a1**2 + delta*y*a2**2)**2))\n",
    "    g = lambda x: (g1(x[0], x[1]), g2(x[0], x[1]))\n",
    "    return fsolve(g, [1, 1])"
   ]
  },
  {
   "cell_type": "code",
   "execution_count": 15,
   "id": "d7a81a38-f0ac-49ce-a351-a17dfaa3cc45",
   "metadata": {},
   "outputs": [
    {
     "data": {
      "text/plain": [
       "[array([1.00964258, 1.00674558]),\n",
       " array([1.00302499, 1.00212454]),\n",
       " array([1.00024799, 1.00017446])]"
      ]
     },
     "execution_count": 15,
     "metadata": {},
     "output_type": "execute_result"
    }
   ],
   "source": [
    "tilde_K_constructor = [tilde_Kj(c, delta, a1, a2, lambdaj) for lambdaj in eigvals]\n",
    "tilde_K_constructor"
   ]
  },
  {
   "cell_type": "code",
   "execution_count": 16,
   "id": "37cde4ec-44d1-497b-838f-301d28237d88",
   "metadata": {},
   "outputs": [
    {
     "data": {
      "text/plain": [
       "array([[1.00964258, 0.        , 0.        ],\n",
       "       [0.        , 1.00302499, 0.        ],\n",
       "       [0.        , 0.        , 1.00024799]])"
      ]
     },
     "execution_count": 16,
     "metadata": {},
     "output_type": "execute_result"
    }
   ],
   "source": [
    "tilde_Kss_1 = np.diag([K[0] for K in tilde_K_constructor])\n",
    "tilde_Kss_1"
   ]
  },
  {
   "cell_type": "code",
   "execution_count": 17,
   "id": "62f7365c-9303-4f6c-8d61-f08b9933507e",
   "metadata": {},
   "outputs": [
    {
     "data": {
      "text/plain": [
       "array([[1.00674558, 0.        , 0.        ],\n",
       "       [0.        , 1.00212454, 0.        ],\n",
       "       [0.        , 0.        , 1.00017446]])"
      ]
     },
     "execution_count": 17,
     "metadata": {},
     "output_type": "execute_result"
    }
   ],
   "source": [
    "tilde_Kss_2 = np.diag([K[1] for K in tilde_K_constructor])\n",
    "tilde_Kss_2"
   ]
  },
  {
   "cell_type": "code",
   "execution_count": 18,
   "id": "c7c75b4c-51c7-420f-9242-ab4fad54bbc6",
   "metadata": {},
   "outputs": [
    {
     "data": {
      "text/plain": [
       "True"
      ]
     },
     "execution_count": 18,
     "metadata": {},
     "output_type": "execute_result"
    }
   ],
   "source": [
    "np.allclose(K_ss[0], U @ tilde_Kss_1 @ U.T)"
   ]
  },
  {
   "cell_type": "code",
   "execution_count": 19,
   "id": "02586061-e370-4e7e-9aa9-13031ab00858",
   "metadata": {},
   "outputs": [
    {
     "data": {
      "text/plain": [
       "True"
      ]
     },
     "execution_count": 19,
     "metadata": {},
     "output_type": "execute_result"
    }
   ],
   "source": [
    "np.allclose(K_ss[1], U @ tilde_Kss_2 @ U.T)"
   ]
  },
  {
   "cell_type": "markdown",
   "id": "52126673-eec5-4b8b-afb7-4e69b4158414",
   "metadata": {},
   "source": [
    "## 41, 42"
   ]
  },
  {
   "cell_type": "code",
   "execution_count": 20,
   "id": "02bcc4e3-cf31-4a23-bea6-d1a96eba03f9",
   "metadata": {},
   "outputs": [
    {
     "data": {
      "text/plain": [
       "True"
      ]
     },
     "execution_count": 20,
     "metadata": {},
     "output_type": "execute_result"
    }
   ],
   "source": [
    "I = np.identity(3)\n",
    "Gamma = np.linalg.inv(c*I + delta*a1**2 * tilde_Kss_1 + delta*a2**2 * tilde_Kss_2)\n",
    "np.allclose(tilde_Kss_1, I + c*delta*D @ Gamma @ tilde_Kss_1 @ (delta*a1**2 * tilde_Kss_1 + c*I) @ Gamma @ D)"
   ]
  },
  {
   "cell_type": "code",
   "execution_count": 21,
   "id": "3a2f583e-f550-4477-9bcb-762d7dfc0f7f",
   "metadata": {},
   "outputs": [
    {
     "data": {
      "text/plain": [
       "True"
      ]
     },
     "execution_count": 21,
     "metadata": {},
     "output_type": "execute_result"
    }
   ],
   "source": [
    "np.allclose(tilde_Kss_2, I + c*delta*D @ Gamma @ tilde_Kss_2 @ (delta*a2**2 * tilde_Kss_2 + c*I) @ Gamma @ D)"
   ]
  },
  {
   "cell_type": "markdown",
   "id": "e2fc7172-4394-49f4-8269-503a4daee454",
   "metadata": {},
   "source": [
    "## 50, 51"
   ]
  },
  {
   "cell_type": "code",
   "execution_count": 22,
   "id": "49ac2dd2-3efc-4be0-be2f-7d543a8e221d",
   "metadata": {},
   "outputs": [
    {
     "data": {
      "text/plain": [
       "array([[-31.10691353],\n",
       "       [  0.        ],\n",
       "       [  0.        ]])"
      ]
     },
     "execution_count": 22,
     "metadata": {},
     "output_type": "execute_result"
    }
   ],
   "source": [
    "Y = I - delta * Gamma @ Gamma @ D @ (delta * a1**2 * tilde_Kss_1 + c*I) @ (delta * a2**2 * tilde_Kss_2 + c*I)\n",
    "Z1 = delta**2 * a2**2 * Gamma @ D @ (delta * a1**2 * tilde_Kss_1 + c*I) @ tilde_Kss_1 @ Gamma\n",
    "Z2 = delta**2 * a1**2 * Gamma @ D @ (delta * a2**2 * tilde_Kss_2 + c*I) @ tilde_Kss_2 @ Gamma\n",
    "tilde_b1 = U.T @ (b1 * np.ones((3, 1)))\n",
    "tilde_b2 = U.T @ (b2 * np.ones((3, 1)))\n",
    "tilde_Kk1 = np.linalg.inv((Y @ Y) - (Z1 @ Z2)) @ ((Y @ tilde_b1) - (Z1 @ tilde_b2))\n",
    "tilde_Kk1"
   ]
  },
  {
   "cell_type": "code",
   "execution_count": 23,
   "id": "766c2a7b-aa7f-4f28-aa26-5b1b5138cb20",
   "metadata": {},
   "outputs": [
    {
     "data": {
      "text/plain": [
       "array([[31.15709111],\n",
       "       [-0.        ],\n",
       "       [-0.        ]])"
      ]
     },
     "execution_count": 23,
     "metadata": {},
     "output_type": "execute_result"
    }
   ],
   "source": [
    "tilde_Kk2 = np.linalg.inv(Y @ Y - Z1 @ Z2) @ (Y @ tilde_b2 - Z2 @ tilde_b1)\n",
    "tilde_Kk2"
   ]
  },
  {
   "cell_type": "code",
   "execution_count": 24,
   "id": "04ba67df-9611-4622-9b1f-c12dbb76f092",
   "metadata": {},
   "outputs": [
    {
     "data": {
      "text/plain": [
       "array([[17.9595849],\n",
       "       [17.9595849],\n",
       "       [17.9595849]])"
      ]
     },
     "execution_count": 24,
     "metadata": {},
     "output_type": "execute_result"
    }
   ],
   "source": [
    "U @ tilde_Kk1"
   ]
  },
  {
   "cell_type": "code",
   "execution_count": 25,
   "id": "b0b67fa8-0f30-4d09-b140-cce73b63c6f9",
   "metadata": {},
   "outputs": [
    {
     "data": {
      "text/plain": [
       "array([[-17.98855494],\n",
       "       [-17.98855494],\n",
       "       [-17.98855494]])"
      ]
     },
     "execution_count": 25,
     "metadata": {},
     "output_type": "execute_result"
    }
   ],
   "source": [
    "U @ tilde_Kk2"
   ]
  },
  {
   "cell_type": "code",
   "execution_count": 26,
   "id": "66906397-d68f-4ca6-bc16-95691a34b2cd",
   "metadata": {},
   "outputs": [
    {
     "data": {
      "text/plain": [
       "array([[-15.87796046],\n",
       "       [-15.87796046],\n",
       "       [-15.87796046]])"
      ]
     },
     "execution_count": 26,
     "metadata": {},
     "output_type": "execute_result"
    }
   ],
   "source": [
    "K_ss[0] @ k_ss[0].T"
   ]
  },
  {
   "cell_type": "code",
   "execution_count": 27,
   "id": "323a2703-c867-44cd-924a-783ca35abfd1",
   "metadata": {},
   "outputs": [
    {
     "data": {
      "text/plain": [
       "array([[15.94906308],\n",
       "       [15.94906308],\n",
       "       [15.94906308]])"
      ]
     },
     "execution_count": 27,
     "metadata": {},
     "output_type": "execute_result"
    }
   ],
   "source": [
    "K_ss[1] @ k_ss[1].T"
   ]
  },
  {
   "cell_type": "markdown",
   "id": "79c8b509-cbb5-4d5a-9d2a-5e1a9336c336",
   "metadata": {},
   "source": [
    "TODO: why does this not match?"
   ]
  },
  {
   "cell_type": "markdown",
   "id": "8ce6091b-4715-4d1f-9b17-1dcc281ffd0c",
   "metadata": {},
   "source": [
    "## 48, 49"
   ]
  },
  {
   "cell_type": "code",
   "execution_count": 28,
   "id": "9c364f7a-050a-4391-877e-4784bdf1b950",
   "metadata": {},
   "outputs": [
    {
     "data": {
      "text/plain": [
       "True"
      ]
     },
     "execution_count": 28,
     "metadata": {},
     "output_type": "execute_result"
    }
   ],
   "source": [
    "w = a1**2 * tilde_Kk1 + a2**2 * tilde_Kk2\n",
    "np.allclose(tilde_Kk1, tilde_b1 - delta * Gamma @ D @ (delta * a1**2 * tilde_Kss_1 + c*I) @ (delta * tilde_Kss_1 @ Gamma @ w - tilde_Kk1))"
   ]
  },
  {
   "cell_type": "code",
   "execution_count": 29,
   "id": "bcea6f47-70e6-4a03-b083-13c3daa1de8c",
   "metadata": {},
   "outputs": [
    {
     "data": {
      "text/plain": [
       "True"
      ]
     },
     "execution_count": 29,
     "metadata": {},
     "output_type": "execute_result"
    }
   ],
   "source": [
    "np.allclose(tilde_Kk2, tilde_b2 - delta * Gamma @ D @ (delta * a2**2 * tilde_Kss_2 + c*I) @ (delta * tilde_Kss_2 @ Gamma @ w - tilde_Kk2))"
   ]
  },
  {
   "cell_type": "markdown",
   "id": "ec0c71ca-8a30-4e18-924b-2762afc183fc",
   "metadata": {},
   "source": [
    "## Limit Opinions"
   ]
  },
  {
   "cell_type": "code",
   "execution_count": 30,
   "id": "49cce2a6-520f-4684-b763-adb886751eda",
   "metadata": {},
   "outputs": [
    {
     "data": {
      "text/plain": [
       "array([[3.19968643],\n",
       "       [3.19968643],\n",
       "       [3.19968643]])"
      ]
     },
     "execution_count": 30,
     "metadata": {},
     "output_type": "execute_result"
    }
   ],
   "source": [
    "x_ss = xs[0][-1]+b1\n",
    "x_ss"
   ]
  },
  {
   "cell_type": "code",
   "execution_count": 31,
   "id": "55bc9f26-c496-437f-bafb-f23d8a779cc8",
   "metadata": {},
   "outputs": [
    {
     "data": {
      "text/plain": [
       "array([[-5.54201947],\n",
       "       [ 0.        ],\n",
       "       [-0.        ]])"
      ]
     },
     "execution_count": 31,
     "metadata": {},
     "output_type": "execute_result"
    }
   ],
   "source": [
    "U.T @ x_ss"
   ]
  },
  {
   "cell_type": "code",
   "execution_count": 32,
   "id": "fca6652f-097b-4fe6-9e02-9e696cec1c3d",
   "metadata": {},
   "outputs": [
    {
     "data": {
      "text/plain": [
       "array([[-5.54201947],\n",
       "       [ 0.        ],\n",
       "       [ 0.        ]])"
      ]
     },
     "execution_count": 32,
     "metadata": {},
     "output_type": "execute_result"
    }
   ],
   "source": [
    "np.linalg.inv(I - c*Gamma @ D) @ (delta * Gamma) @ w"
   ]
  },
  {
   "cell_type": "code",
   "execution_count": 33,
   "id": "11be733a-fac2-4e24-823e-04ddaa26bfd1",
   "metadata": {},
   "outputs": [
    {
     "data": {
      "text/plain": [
       "array([[-5.54201947],\n",
       "       [ 0.        ],\n",
       "       [ 0.        ]])"
      ]
     },
     "execution_count": 33,
     "metadata": {},
     "output_type": "execute_result"
    }
   ],
   "source": [
    "np.linalg.inv(a1**2 * tilde_Kss_1 + a2**2 * tilde_Kss_2) @ w"
   ]
  },
  {
   "cell_type": "markdown",
   "id": "ca41ade6-2753-4f29-afef-f15fd28aa640",
   "metadata": {},
   "source": [
    "## 52"
   ]
  },
  {
   "cell_type": "code",
   "execution_count": 34,
   "id": "3141e411-6a02-45c6-9cc4-48ef71ba9abb",
   "metadata": {},
   "outputs": [
    {
     "data": {
      "text/plain": [
       "array([[-188.13233947],\n",
       "       [   0.00000002],\n",
       "       [  -0.        ]])"
      ]
     },
     "execution_count": 34,
     "metadata": {},
     "output_type": "execute_result"
    }
   ],
   "source": [
    "(a1**2 * tilde_Kss_1 + a2**2 * tilde_Kss_2) @ (Y@Y - Z1@Z2) @ (U.T @ x_ss)"
   ]
  },
  {
   "cell_type": "code",
   "execution_count": 35,
   "id": "1ede2550-abac-44a8-81e7-86ab4bea2bb7",
   "metadata": {},
   "outputs": [
    {
     "data": {
      "text/plain": [
       "array([[-188.13233945],\n",
       "       [   0.        ],\n",
       "       [   0.        ]])"
      ]
     },
     "execution_count": 35,
     "metadata": {},
     "output_type": "execute_result"
    }
   ],
   "source": [
    "a1**2 * (I - delta*Gamma @ D @ (delta * a2**2 * tilde_Kss_2 + c*I))@tilde_b1 + a2**2 * (I - delta*Gamma@D@(delta*a1**2 * tilde_Kss_1 + c*I))@tilde_b2"
   ]
  },
  {
   "cell_type": "code",
   "execution_count": 36,
   "id": "78d5b52e-f9ca-4fcd-a3a5-1ce10adb880d",
   "metadata": {},
   "outputs": [
    {
     "data": {
      "text/plain": [
       "array([[-188.13233945],\n",
       "       [   0.        ],\n",
       "       [   0.        ]])"
      ]
     },
     "execution_count": 36,
     "metadata": {},
     "output_type": "execute_result"
    }
   ],
   "source": [
    "(Y@Y - Z1@Z2)@w"
   ]
  },
  {
   "cell_type": "markdown",
   "id": "c3b0a369-4447-4964-9a59-6959f8720d11",
   "metadata": {},
   "source": [
    "## b1 > b2"
   ]
  },
  {
   "cell_type": "code",
   "execution_count": 37,
   "id": "1b6a8a5b-d696-4911-ab23-670073ab7ba8",
   "metadata": {},
   "outputs": [
    {
     "data": {
      "text/plain": [
       "array([[137.76185518],\n",
       "       [  0.        ],\n",
       "       [  0.        ]])"
      ]
     },
     "execution_count": 37,
     "metadata": {},
     "output_type": "execute_result"
    }
   ],
   "source": [
    "K_ss, k_ss, kappa_ss, xs, rs, payoffs = run_simulation(A1, b1, b2, a1, a2, delta, c, X_0_1)\n",
    "np.abs(U.T @ rs[0][-1]) # influencer 1"
   ]
  },
  {
   "cell_type": "code",
   "execution_count": 38,
   "id": "bff36146-26ee-444f-bafd-8acec7899489",
   "metadata": {},
   "outputs": [
    {
     "data": {
      "text/plain": [
       "array([[165.31422623],\n",
       "       [  0.        ],\n",
       "       [  0.        ]])"
      ]
     },
     "execution_count": 38,
     "metadata": {},
     "output_type": "execute_result"
    }
   ],
   "source": [
    "np.abs(U.T @ rs[1][-1]) # influencer 2"
   ]
  },
  {
   "cell_type": "code",
   "execution_count": 39,
   "id": "2783a917-357e-4b09-97c5-c433310cc68f",
   "metadata": {},
   "outputs": [
    {
     "data": {
      "text/plain": [
       "(array([[6.88809276],\n",
       "        [0.        ],\n",
       "        [0.        ]]),\n",
       " array([[8.26571131],\n",
       "        [0.        ],\n",
       "        [0.        ]]))"
      ]
     },
     "execution_count": 39,
     "metadata": {},
     "output_type": "execute_result"
    }
   ],
   "source": [
    "K_ss, k_ss, kappa_ss, xs, rs, payoffs = run_simulation(A1, 10, 9, a1, a2, delta, c, X_0_1)\n",
    "np.abs(U.T @ rs[0][-1]), np.abs(U.T @ rs[1][-1])"
   ]
  },
  {
   "cell_type": "code",
   "execution_count": 40,
   "id": "22ee120a-0bef-40b1-a8d2-b7383feadfc9",
   "metadata": {},
   "outputs": [
    {
     "data": {
      "text/plain": [
       "(array([[6.88809276],\n",
       "        [0.        ],\n",
       "        [0.        ]]),\n",
       " array([[8.26571131],\n",
       "        [0.        ],\n",
       "        [0.        ]]))"
      ]
     },
     "execution_count": 40,
     "metadata": {},
     "output_type": "execute_result"
    }
   ],
   "source": [
    "K_ss, k_ss, kappa_ss, xs, rs, payoffs = run_simulation(A1, 10, 11, a1, a2, delta, c, X_0_1)\n",
    "np.abs(U.T @ rs[0][-1]), np.abs(U.T @ rs[1][-1])"
   ]
  },
  {
   "cell_type": "code",
   "execution_count": 41,
   "id": "79b9f3ae-5abc-4d15-8a55-e68599a5a9de",
   "metadata": {},
   "outputs": [
    {
     "data": {
      "text/plain": [
       "(array([[0.],\n",
       "        [0.],\n",
       "        [0.]]),\n",
       " array([[0.],\n",
       "        [0.],\n",
       "        [0.]]))"
      ]
     },
     "execution_count": 41,
     "metadata": {},
     "output_type": "execute_result"
    }
   ],
   "source": [
    "K_ss, k_ss, kappa_ss, xs, rs, payoffs = run_simulation(A1, 10, 10, a1, a2, delta, c, X_0_1)\n",
    "np.abs(U.T @ rs[0][-1]), np.abs(U.T @ rs[1][-1])"
   ]
  },
  {
   "cell_type": "code",
   "execution_count": 42,
   "id": "b3910379-b8ae-4db7-b635-54bcf18fe24d",
   "metadata": {},
   "outputs": [
    {
     "data": {
      "text/plain": [
       "-251.3450261100448"
      ]
     },
     "execution_count": 42,
     "metadata": {},
     "output_type": "execute_result"
    }
   ],
   "source": [
    "payoffs[0][-1]"
   ]
  },
  {
   "cell_type": "code",
   "execution_count": 43,
   "id": "5c3cb339-17b8-435a-a641-49bba9a9f530",
   "metadata": {},
   "outputs": [
    {
     "data": {
      "text/plain": [
       "-250.9411231791053"
      ]
     },
     "execution_count": 43,
     "metadata": {},
     "output_type": "execute_result"
    }
   ],
   "source": [
    "payoffs[1][-1]"
   ]
  }
 ],
 "metadata": {
  "kernelspec": {
   "display_name": "Python 3",
   "language": "python",
   "name": "python3"
  },
  "language_info": {
   "codemirror_mode": {
    "name": "ipython",
    "version": 3
   },
   "file_extension": ".py",
   "mimetype": "text/x-python",
   "name": "python",
   "nbconvert_exporter": "python",
   "pygments_lexer": "ipython3",
   "version": "3.8.8"
  },
  "widgets": {
   "application/vnd.jupyter.widget-state+json": {
    "state": {},
    "version_major": 2,
    "version_minor": 0
   }
  }
 },
 "nbformat": 4,
 "nbformat_minor": 5
}
