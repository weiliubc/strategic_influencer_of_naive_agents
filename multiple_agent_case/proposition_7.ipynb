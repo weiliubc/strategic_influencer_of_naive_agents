{
 "cells": [
  {
   "cell_type": "markdown",
   "id": "05428c01-a684-4429-b07e-994cf7994bca",
   "metadata": {},
   "source": [
    "# Proposition 7 Analysis\n",
    "\n",
    "### Unified Model, Multiple Weighted Strategic Agents, Symmetric Network\n",
    "\n",
    "James Yu, 20 June 2023, updated 26 June 2023 and 4 July 2023"
   ]
  },
  {
   "cell_type": "code",
   "execution_count": 1,
   "id": "2c91c0d4-5cb5-4969-8850-cc9fcd79b53e",
   "metadata": {},
   "outputs": [],
   "source": [
    "from collections import defaultdict\n",
    "import matplotlib.pyplot as plt\n",
    "import numpy as np\n",
    "np.set_printoptions(suppress=True)"
   ]
  },
  {
   "cell_type": "markdown",
   "id": "77c18ae7-32e2-4945-a4f8-ee16c25ecf3f",
   "metadata": {},
   "source": [
    "## Unprojected Solution Code"
   ]
  },
  {
   "cell_type": "code",
   "execution_count": 2,
   "id": "96a52398-750a-43fb-9903-3ce90d1471ae",
   "metadata": {},
   "outputs": [],
   "source": [
    "def M(K, B, R, L, delta):\n",
    "    \"\"\"Computes M_{t-1} given B_l \\forall l, K_t^l \\forall l, \n",
    "        R_l \\forall l, number of strategic agents L, and delta.\"\"\"\n",
    "    # handle the generic structure first, with the correct pairings:\n",
    "    base = [[B[l_prime].T @ K[l_prime] @ B[l] for l in range(L)] for l_prime in range(L)]\n",
    "    # then change the diagonals to construct M_{t-1}:\n",
    "    for l in range(L): base[l][l] = B[l].T @ K[l] @ B[l] + R[l]/delta\n",
    "    return np.block(base)\n",
    "\n",
    "def H(B, K, A, L):\n",
    "    \"\"\"Computes H_{t-1} given B_l \\forall l, K_t^l \\forall l, \n",
    "        A, and number of strategic agents L.\"\"\"\n",
    "    return np.concatenate(tuple(B[l].T @ K[l] @ A for l in range(L)), axis = 0)\n",
    "\n",
    "def C_l(A, B, K, k, h, L, c, x, n):\n",
    "    \"\"\"Computes C_{t-1}^h (displayed as C_{t-1}^l) given A, B_l \\forall l, K_t^l \\forall l, \n",
    "        k_t^l \\forall l, a specific naive agent h, number of strategic agents L, \n",
    "        c_l \\forall l, x_l \\forall l, and number of naive agents n\"\"\"\n",
    "    return np.concatenate(tuple(B[l].T @ K[l] @ A @ ((x[h] - x[l]) * np.ones((n, 1))) \n",
    "                           + B[l].T @ K[l] @ c[l] \n",
    "                           + 0.5 * B[l].T @ k[l].T for l in range(L)), axis = 0)\n",
    "\n",
    "def E(M_, H_):\n",
    "    \"\"\"Computes the generic E_{t-1} given M_{t-1} and H_{t-1}.\"\"\"\n",
    "    return np.linalg.inv(M_) @ H_\n",
    "\n",
    "def F(M_, C_l_, l, n):\n",
    "    \"\"\"Computes F_{t-1}^l given M_{t-1}, C_{t-1}^l, \n",
    "       specific naive agent l and number of naive agents n.\"\"\"\n",
    "    return (np.linalg.inv(M_) @ C_l_)[l*n:(l+1)*n, :] # e.g. l = 0 gives ln = 0, l = 1 gives ln = n, etc\n",
    "\n",
    "def G(A, B, E_, L, n):\n",
    "    \"\"\"Computes the generic G_{t-1} given A, B_l \\forall l, \n",
    "        E_{t-1}, number of strategic agents L, and number of naive agents n.\"\"\"\n",
    "    return A - sum([B[l] @ E_[l*n:(l+1)*n, :] for l in range(L)])\n",
    "    \n",
    "def g_l(B, E_, h, x, F_, L, n, c):\n",
    "    \"\"\"Computes g_{t-1}^l given B_l \\forall l, E_{t-1}^l, \n",
    "        a particular naive agent h, x_l \\forall l, F_{t-1}^l \\forall l, \n",
    "        number of strategic agents L, number of naive agents n, and c_h.\"\"\"\n",
    "    return - sum([B[l] @ (E_[l*n:(l+1)*n, :] @ ((x[h] - x[l]) * np.ones((n, 1))) + F_[l]) for l in range(L)]) + c[h]"
   ]
  },
  {
   "cell_type": "code",
   "execution_count": 3,
   "id": "e93ccabd-fdf7-43e7-b1e5-78f26321eb6d",
   "metadata": {},
   "outputs": [],
   "source": [
    "def K_t_minus_1(Q, K, E_, R, G_, L, delta, n):\n",
    "    return [Q[l] + E_[l*n:(l+1)*n, :].T @ R[l] @ E_[l*n:(l+1)*n, :] \n",
    "            + delta * G_.T @ K[l] @ G_ for l in range(L)]\n",
    "\n",
    "def k_t_minus_1(K, k, G_, g, E_, F_, R, L, delta, n):\n",
    "    return [2*delta* g[l].T @ K[l] @ G_ + delta * k[l] @ G_ \n",
    "            + 2 * F_[l].T @ R[l] @ E_[l*n:(l+1)*n, :] for l in range(L)]\n",
    "\n",
    "def kappa_t_minus_1(K, k, kappa, g_, F_, R, L, delta):            \n",
    "    return [-delta * (g_[l].T @ K[l] @ g_[l] + k[l] @ g_[l] - kappa[l]) \n",
    "            - (F_[l].T @ R[l] @ F_[l]) for l in range(L)]"
   ]
  },
  {
   "cell_type": "code",
   "execution_count": 4,
   "id": "bb45d95d-e326-4ce1-a0eb-b98dec9cc4ab",
   "metadata": {},
   "outputs": [],
   "source": [
    "def should_terminate(bundles, eps):\n",
    "    return all([np.allclose(b[0], b[1], rtol = eps, atol = eps) for b in bundles])\n",
    "\n",
    "def solve(K_t, k_t, kappa_t, A, B, delta, n, L, Q, R, x, c, tol):\n",
    "    historical_K = [K_t]\n",
    "    historical_k = [k_t]\n",
    "    historical_kappa = [kappa_t]\n",
    "    eps = np.sqrt(np.finfo(np.float64).eps)\n",
    "    while True:\n",
    "        M_ = M(K_t, B, R, L, delta)\n",
    "        H_ = H(B, K_t, A, L)\n",
    "        E_ = E(M_, H_)\n",
    "        G_ = G(A, B, E_, L, n)\n",
    "        K_new = K_t_minus_1(Q, K_t, E_, R, G_, L, delta, n)\n",
    "        F_ = [F(M_, C_l(A, B, K_t, k_t, l, L, c, x, n), l, n) for l in range(L)]\n",
    "        g = [g_l(B, E_, h, x, F_, L, n, c) for h in range(L)]\n",
    "        k_new = k_t_minus_1(K_t, k_t, G_, g, E_, F_, R, L, delta, n)\n",
    "        kappa_new = kappa_t_minus_1(K_t, k_t, kappa_t, g, F_, R, L, delta)\n",
    "        historical_K.insert(0, K_new)\n",
    "        historical_k.insert(0, k_new)\n",
    "        historical_kappa.insert(0, kappa_new)\n",
    "        if should_terminate([(K_t, K_new), (k_t, k_new), (kappa_t, kappa_new)], eps):\n",
    "            return historical_K[0], historical_k[0], historical_kappa[0]\n",
    "        K_t = K_new\n",
    "        k_t = k_new\n",
    "        kappa_t = kappa_new"
   ]
  },
  {
   "cell_type": "code",
   "execution_count": 5,
   "id": "85a4f453-ecff-4d35-8fa0-3d97f9a24d88",
   "metadata": {},
   "outputs": [],
   "source": [
    "def optimal(X_init, K_ss, k_ss, A, B, delta, n, L, Q, R, x, c, eps):\n",
    "    X_t = [a.copy() for a in X_init]\n",
    "    xs = defaultdict(list)\n",
    "    for l in range(L):\n",
    "        xs[l].append(X_t[l])\n",
    "        \n",
    "    rs = defaultdict(list)\n",
    "    payoffs = defaultdict(list)\n",
    "    payoff = defaultdict(int)\n",
    "    \n",
    "    M_ = M(K_ss, B, R, L, delta)\n",
    "    H_ = H(B, K_ss, A, L)\n",
    "    E_ = E(M_, H_)\n",
    "    G_ = G(A, B, E_, L, n)\n",
    "    F_ = [F(M_, C_l(A, B, K_ss, k_ss, l, L, c, x, n), l, n) for l in range(L)]\n",
    "    g = [g_l(B, E_, h, x, F_, L, n, c) for h in range(L)]\n",
    "    \n",
    "    i = 0\n",
    "    while True:\n",
    "        for l in range(L):\n",
    "            # TODO: special code for finite horizon needs a terminal time T term\n",
    "            # TODO: use F_\n",
    "            Y_new = -1 * E_[l*n:(l+1)*n, :] @ X_t[l] - F(M_, C_l(A, B, K_ss, k_ss, l, L, c, x, n), l, n)\n",
    "            rs[l].append(Y_new)\n",
    "            payoff[l] += (-1 * delta**i * (X_t[l].T @ Q[l] @ X_t[l])).item() + (-1 * delta**i * (Y_new.T @ R[l] @ Y_new)).item()\n",
    "            payoffs[l].append(payoff[l])\n",
    "            X_new = G_ @ X_t[l] + g[l]\n",
    "            xs[l].append(X_new)\n",
    "            if l == L - 1 and np.allclose(X_t[l], X_new, rtol = eps, atol = eps):\n",
    "                return xs, rs, payoffs\n",
    "            X_t[l] = X_new \n",
    "        i += 1\n",
    "        \n",
    "    return xs, rs, payoffs"
   ]
  },
  {
   "cell_type": "code",
   "execution_count": 6,
   "id": "d233ea88-234d-42f3-a028-8137fbe13cab",
   "metadata": {},
   "outputs": [],
   "source": [
    "def run_simulation(A, b1, b2, a1, a2, delta, c, X_0_1, tol = np.sqrt(np.finfo(np.float64).eps)):\n",
    "    X_0 = [X_0_1 - b1, X_0_1 - b2]\n",
    "    n = A.shape[0] # number of naive agents\n",
    "    L = 2 # number of strategic agents\n",
    "    Q = [np.identity(n), np.identity(n)] # objective function for messages is just X'IX = X'X\n",
    "    R = [c * np.identity(n), c * np.identity(n)] # message cost R = cI_n for some c under the new notation\n",
    "    B = [a1 * np.identity(n), a2 * np.identity(n)] # B^l = a_l I_n\n",
    "    x = [b1, b2] # agendas\n",
    "    r = [0, 0] # message cost minimality is centered around zero\n",
    "    c_base = sum([B[l] @ (r[l] * np.ones((n, 1))) for l in range(L)])\n",
    "    c = [c_base + (A - np.identity(n)) @ (x[l] * np.ones((n, 1))) for l in range(L)] # normalization vector\n",
    "    \n",
    "    K_ss, k_ss, kappa_ss = solve(Q, [np.zeros((1, n)), np.zeros((1, n))], [0, 0], A, B, delta, n, L, Q, R, x, c, tol)\n",
    "    xs, rs, payoffs = optimal(X_0, K_ss, k_ss, A, B, delta, n, L, Q, R, x, c, tol)\n",
    "    return K_ss, k_ss, kappa_ss, xs, rs, payoffs"
   ]
  },
  {
   "cell_type": "markdown",
   "id": "20c5b6d6-aabc-4672-9ee2-b045c4b484a4",
   "metadata": {},
   "source": [
    "## Compute unprojected solution as a benchmark"
   ]
  },
  {
   "cell_type": "code",
   "execution_count": 7,
   "id": "b02b7739-6451-41f0-8a9d-df76b75dcc1f",
   "metadata": {},
   "outputs": [],
   "source": [
    "A1 = np.array([\n",
    "    [0.3, 0.5, 0.2],\n",
    "    [0.5, 0.4, 0.1],\n",
    "    [0.2, 0.1, 0.7]\n",
    "])\n",
    "\n",
    "delta = 0.9\n",
    "c = 1.0\n",
    "X_0_1 = np.array([[10.0, -5.0, 5.0]], ndmin = 2).T\n",
    "b1 = 10\n",
    "b2 = -10\n",
    "a1 = 6\n",
    "a2 = 5\n",
    "K_ss, k_ss, kappa_ss, xs, rs, payoffs = run_simulation(A1, b1, b2, a1, a2, delta, c, X_0_1)"
   ]
  },
  {
   "cell_type": "markdown",
   "id": "0154751f-2ac3-4e85-812d-d6055e3dcc0c",
   "metadata": {},
   "source": [
    "## 43, 44"
   ]
  },
  {
   "cell_type": "markdown",
   "id": "b6e5bb3d-163d-4572-ae44-631672d3fdaf",
   "metadata": {},
   "source": [
    "Here we are using the above network to see if expressions 43 and 44 will resolve. This is the system of equations for the Ricatti matrices $\\tilde K^m$."
   ]
  },
  {
   "cell_type": "code",
   "execution_count": 8,
   "id": "e664d2ef-2ad2-4846-84b6-f1addebf9dc3",
   "metadata": {},
   "outputs": [],
   "source": [
    "from scipy.optimize import fsolve"
   ]
  },
  {
   "cell_type": "markdown",
   "id": "8b283034-5ff1-4d5f-82c8-deed1f642448",
   "metadata": {},
   "source": [
    "First, recall that the standard is for the first eigenvalue to be the \"1\". However, this is not done automatically, so we must use sorting to achieve it. The basis that we obtain through this sorting procedure must remain constant throughout every step of our analysis in order to ensure consistency of projected results."
   ]
  },
  {
   "cell_type": "code",
   "execution_count": 9,
   "id": "c055b3ba-9cc8-4b46-8e33-4b71c05d0006",
   "metadata": {},
   "outputs": [],
   "source": [
    "# the underlying process turns out to be a common implementation\n",
    "# regardless, partial inspiration for the underlying process from: \n",
    "# https://stackoverflow.com/questions/8092920/sort-eigenvalues-and-associated-eigenvectors-after-using-numpy-linalg-eig-in-pyt\n",
    "# implementation reverse-engineered using the NumPy documentation\n",
    "\n",
    "eigvals_raw, U_raw = np.linalg.eig(A1)\n",
    "# sort eigenvalues largest to smallest so the \"1\" comes first\n",
    "eigval_sorting_map = np.flip(np.argsort(eigvals_raw)) \n",
    "eigvals = eigvals_raw[eigval_sorting_map]\n",
    "U = U_raw[:, eigval_sorting_map]"
   ]
  },
  {
   "cell_type": "code",
   "execution_count": 10,
   "id": "7bea2c47-9db5-4a54-90b0-437362c314a1",
   "metadata": {},
   "outputs": [
    {
     "data": {
      "text/plain": [
       "array([1, 2, 0], dtype=int64)"
      ]
     },
     "execution_count": 10,
     "metadata": {},
     "output_type": "execute_result"
    }
   ],
   "source": [
    "eigval_sorting_map"
   ]
  },
  {
   "cell_type": "markdown",
   "id": "1544536a-28a7-4852-9373-ec8b5b2f04f0",
   "metadata": {},
   "source": [
    "Initially unsorted:"
   ]
  },
  {
   "cell_type": "code",
   "execution_count": 11,
   "id": "bfcf2715-8f8f-4d4a-934f-fb2ea2c5268c",
   "metadata": {},
   "outputs": [
    {
     "data": {
      "text/plain": [
       "(array([-0.16055513,  1.        ,  0.56055513]),\n",
       " array([[ 0.75130448, -0.57735027, -0.31970025],\n",
       "        [-0.65252078, -0.57735027, -0.49079864],\n",
       "        [-0.0987837 , -0.57735027,  0.81049889]]))"
      ]
     },
     "execution_count": 11,
     "metadata": {},
     "output_type": "execute_result"
    }
   ],
   "source": [
    "eigvals_raw, U_raw"
   ]
  },
  {
   "cell_type": "markdown",
   "id": "af97fecc-02dc-44d6-accf-474b03eb1613",
   "metadata": {},
   "source": [
    "Sorted from largest to smallest eigenvalues:"
   ]
  },
  {
   "cell_type": "code",
   "execution_count": 12,
   "id": "bc52cbc8-70e7-4078-8bd0-14740ac76991",
   "metadata": {},
   "outputs": [
    {
     "data": {
      "text/plain": [
       "(array([ 1.        ,  0.56055513, -0.16055513]),\n",
       " array([[-0.57735027, -0.31970025,  0.75130448],\n",
       "        [-0.57735027, -0.49079864, -0.65252078],\n",
       "        [-0.57735027,  0.81049889, -0.0987837 ]]))"
      ]
     },
     "execution_count": 12,
     "metadata": {},
     "output_type": "execute_result"
    }
   ],
   "source": [
    "eigvals, U"
   ]
  },
  {
   "cell_type": "code",
   "execution_count": 13,
   "id": "a267fdf2-8f40-4bc9-9679-b4d2176675dd",
   "metadata": {},
   "outputs": [],
   "source": [
    "D = np.diag(eigvals)"
   ]
  },
  {
   "cell_type": "markdown",
   "id": "124cabf4-f651-4a63-89a2-48c8ae23a3f8",
   "metadata": {},
   "source": [
    "Now that we have the proper ordering, we can use it to solve the system of equations to get each $\\tilde K^m$. Due to the nonlinearity, we must do this numerically. The following defines a parametrized system of two equations in two unknowns and numerically solves it with the SciPy fsolve function:"
   ]
  },
  {
   "cell_type": "code",
   "execution_count": 14,
   "id": "7fd03edf-ee03-40a6-a3c8-345cadbd8218",
   "metadata": {},
   "outputs": [],
   "source": [
    "def tilde_Kj(c, delta, a1, a2, lambdaj):\n",
    "    g1 = lambda x, y: x - (1 + (c*delta * lambdaj**2 * x * (delta*x*a1**2 + c))/((c+delta*x*a1**2 + delta*y*a2**2)**2))\n",
    "    g2 = lambda x, y: y - (1 + (c*delta * lambdaj**2 * y * (delta*y*a2**2 + c))/((c+delta*x*a1**2 + delta*y*a2**2)**2))\n",
    "    g = lambda x: (g1(x[0], x[1]), g2(x[0], x[1]))\n",
    "    return fsolve(g, [1, 1])"
   ]
  },
  {
   "cell_type": "markdown",
   "id": "23de8c4c-9809-4eba-9a74-de97be954511",
   "metadata": {},
   "source": [
    "This operates on each dimension $j$ so we must consolidate them:"
   ]
  },
  {
   "cell_type": "code",
   "execution_count": 15,
   "id": "d7a81a38-f0ac-49ce-a351-a17dfaa3cc45",
   "metadata": {},
   "outputs": [
    {
     "data": {
      "text/plain": [
       "[array([1.00964258, 1.00674558]),\n",
       " array([1.00302499, 1.00212454]),\n",
       " array([1.00024799, 1.00017446])]"
      ]
     },
     "execution_count": 15,
     "metadata": {},
     "output_type": "execute_result"
    }
   ],
   "source": [
    "tilde_K_constructor = [tilde_Kj(c, delta, a1, a2, lambdaj) for lambdaj in eigvals]\n",
    "tilde_K_constructor"
   ]
  },
  {
   "cell_type": "markdown",
   "id": "a127b962-0bb3-473d-a3b5-b91bd2781f8e",
   "metadata": {},
   "source": [
    "Each dimension is a separate entry or row in this list. Each such entry or row contains the corresponding solutions $x = K_j^1$ and $y = K_j^2$. To put these into their respective diagonal matrices $K^1$ and $K^2$, we can do the following:"
   ]
  },
  {
   "cell_type": "code",
   "execution_count": 16,
   "id": "37cde4ec-44d1-497b-838f-301d28237d88",
   "metadata": {},
   "outputs": [
    {
     "data": {
      "text/plain": [
       "array([[1.00964258, 0.        , 0.        ],\n",
       "       [0.        , 1.00302499, 0.        ],\n",
       "       [0.        , 0.        , 1.00024799]])"
      ]
     },
     "execution_count": 16,
     "metadata": {},
     "output_type": "execute_result"
    }
   ],
   "source": [
    "tilde_Kss_1 = np.diag([K[0] for K in tilde_K_constructor])\n",
    "tilde_Kss_1"
   ]
  },
  {
   "cell_type": "code",
   "execution_count": 17,
   "id": "62f7365c-9303-4f6c-8d61-f08b9933507e",
   "metadata": {},
   "outputs": [
    {
     "data": {
      "text/plain": [
       "array([[1.00674558, 0.        , 0.        ],\n",
       "       [0.        , 1.00212454, 0.        ],\n",
       "       [0.        , 0.        , 1.00017446]])"
      ]
     },
     "execution_count": 17,
     "metadata": {},
     "output_type": "execute_result"
    }
   ],
   "source": [
    "tilde_Kss_2 = np.diag([K[1] for K in tilde_K_constructor])\n",
    "tilde_Kss_2"
   ]
  },
  {
   "cell_type": "markdown",
   "id": "4057f200-b362-4d40-a707-0891499a989e",
   "metadata": {},
   "source": [
    "Finally, we check if these match the original, unprojected solutions by applying the eigenvector matrix:"
   ]
  },
  {
   "cell_type": "code",
   "execution_count": 18,
   "id": "c7c75b4c-51c7-420f-9242-ab4fad54bbc6",
   "metadata": {},
   "outputs": [
    {
     "data": {
      "text/plain": [
       "True"
      ]
     },
     "execution_count": 18,
     "metadata": {},
     "output_type": "execute_result"
    }
   ],
   "source": [
    "np.allclose(K_ss[0], U @ tilde_Kss_1 @ U.T)"
   ]
  },
  {
   "cell_type": "code",
   "execution_count": 19,
   "id": "02586061-e370-4e7e-9aa9-13031ab00858",
   "metadata": {},
   "outputs": [
    {
     "data": {
      "text/plain": [
       "True"
      ]
     },
     "execution_count": 19,
     "metadata": {},
     "output_type": "execute_result"
    }
   ],
   "source": [
    "np.allclose(K_ss[1], U @ tilde_Kss_2 @ U.T)"
   ]
  },
  {
   "cell_type": "markdown",
   "id": "52126673-eec5-4b8b-afb7-4e69b4158414",
   "metadata": {},
   "source": [
    "## 41, 42"
   ]
  },
  {
   "cell_type": "markdown",
   "id": "3b8db252-9491-4ae5-90aa-01f9c180b6e0",
   "metadata": {},
   "source": [
    "Here we are checking if the above solution matrices also satisfy the implicit matrix formulations given by expressions 41 and 42:"
   ]
  },
  {
   "cell_type": "code",
   "execution_count": 20,
   "id": "02bcc4e3-cf31-4a23-bea6-d1a96eba03f9",
   "metadata": {},
   "outputs": [
    {
     "data": {
      "text/plain": [
       "True"
      ]
     },
     "execution_count": 20,
     "metadata": {},
     "output_type": "execute_result"
    }
   ],
   "source": [
    "I = np.identity(3)\n",
    "Gamma = np.linalg.inv(c*I + delta*a1**2 * tilde_Kss_1 + delta*a2**2 * tilde_Kss_2)\n",
    "np.allclose(tilde_Kss_1, I + c*delta*D @ Gamma @ tilde_Kss_1 @ (delta*a1**2 * tilde_Kss_1 + c*I) @ Gamma @ D)"
   ]
  },
  {
   "cell_type": "code",
   "execution_count": 21,
   "id": "3a2f583e-f550-4477-9bcb-762d7dfc0f7f",
   "metadata": {},
   "outputs": [
    {
     "data": {
      "text/plain": [
       "True"
      ]
     },
     "execution_count": 21,
     "metadata": {},
     "output_type": "execute_result"
    }
   ],
   "source": [
    "np.allclose(tilde_Kss_2, I + c*delta*D @ Gamma @ tilde_Kss_2 @ (delta*a2**2 * tilde_Kss_2 + c*I) @ Gamma @ D)"
   ]
  },
  {
   "cell_type": "markdown",
   "id": "e2fc7172-4394-49f4-8269-503a4daee454",
   "metadata": {},
   "source": [
    "## 50, 51"
   ]
  },
  {
   "cell_type": "markdown",
   "id": "4fe6c377-0dc0-4255-858a-58a982921cd1",
   "metadata": {},
   "source": [
    "Here we are looking at the explicit matrix formulations for $\\tilde K \\tilde k$:"
   ]
  },
  {
   "cell_type": "code",
   "execution_count": 22,
   "id": "49ac2dd2-3efc-4be0-be2f-7d543a8e221d",
   "metadata": {},
   "outputs": [
    {
     "data": {
      "text/plain": [
       "array([[-31.10691353],\n",
       "       [  0.        ],\n",
       "       [  0.        ]])"
      ]
     },
     "execution_count": 22,
     "metadata": {},
     "output_type": "execute_result"
    }
   ],
   "source": [
    "Y = I - delta * Gamma @ Gamma @ D @ (delta * a1**2 * tilde_Kss_1 + c*I) @ (delta * a2**2 * tilde_Kss_2 + c*I)\n",
    "Z1 = delta**2 * a2**2 * Gamma @ D @ (delta * a1**2 * tilde_Kss_1 + c*I) @ tilde_Kss_1 @ Gamma\n",
    "Z2 = delta**2 * a1**2 * Gamma @ D @ (delta * a2**2 * tilde_Kss_2 + c*I) @ tilde_Kss_2 @ Gamma\n",
    "tilde_b1 = U.T @ (b1 * np.ones((3, 1)))\n",
    "tilde_b2 = U.T @ (b2 * np.ones((3, 1)))\n",
    "tilde_Kk1 = np.linalg.inv((Y @ Y) - (Z1 @ Z2)) @ ((Y @ tilde_b1) - (Z1 @ tilde_b2))\n",
    "tilde_Kk1"
   ]
  },
  {
   "cell_type": "code",
   "execution_count": 23,
   "id": "766c2a7b-aa7f-4f28-aa26-5b1b5138cb20",
   "metadata": {},
   "outputs": [
    {
     "data": {
      "text/plain": [
       "array([[31.15709111],\n",
       "       [-0.        ],\n",
       "       [-0.        ]])"
      ]
     },
     "execution_count": 23,
     "metadata": {},
     "output_type": "execute_result"
    }
   ],
   "source": [
    "tilde_Kk2 = np.linalg.inv(Y @ Y - Z1 @ Z2) @ (Y @ tilde_b2 - Z2 @ tilde_b1)\n",
    "tilde_Kk2"
   ]
  },
  {
   "cell_type": "markdown",
   "id": "0318b477-f82f-43a2-a027-d5eb4642fd58",
   "metadata": {},
   "source": [
    "To check correctness, we want to compare the terma $\\tilde K$ and $\\tilde k$ between the old and new code. We already checked that $\\tilde K$ is correct. The old, unprojected value function directly uses a separate linear term $k$ so we need to compute what this separate linear term would be in the new, projected value function:"
   ]
  },
  {
   "cell_type": "code",
   "execution_count": 24,
   "id": "17e20c41-5d05-4c92-9368-e08d6ba67bdc",
   "metadata": {},
   "outputs": [
    {
     "data": {
      "text/plain": [
       "array([[-35.9191698],\n",
       "       [-35.9191698],\n",
       "       [-35.9191698]])"
      ]
     },
     "execution_count": 24,
     "metadata": {},
     "output_type": "execute_result"
    }
   ],
   "source": [
    "-2 * U @ tilde_Kk1 # K1k1, new value function"
   ]
  },
  {
   "cell_type": "code",
   "execution_count": 25,
   "id": "2fae635b-20db-4241-b728-c7f90b52da43",
   "metadata": {},
   "outputs": [
    {
     "data": {
      "text/plain": [
       "array([[35.97710987],\n",
       "       [35.97710987],\n",
       "       [35.97710987]])"
      ]
     },
     "execution_count": 25,
     "metadata": {},
     "output_type": "execute_result"
    }
   ],
   "source": [
    "-2 * U @ tilde_Kk2 # K2k2, new value function"
   ]
  },
  {
   "cell_type": "markdown",
   "id": "981d5902-a058-499d-828e-9f5015ce0b07",
   "metadata": {},
   "source": [
    "In the old, unprojected value function we also have a normalization based on the agenda of each strategic agent. We must de-normalize the unprojected linear term before comparing:"
   ]
  },
  {
   "cell_type": "code",
   "execution_count": 26,
   "id": "291100c0-557b-4aca-9bf2-f4feaa7cce2e",
   "metadata": {},
   "outputs": [
    {
     "data": {
      "text/plain": [
       "array([[-35.9191698],\n",
       "       [-35.9191698],\n",
       "       [-35.9191698]])"
      ]
     },
     "execution_count": 26,
     "metadata": {},
     "output_type": "execute_result"
    }
   ],
   "source": [
    "(-2 * (b1 * np.ones((3, 1))).T @ K_ss[0] +  k_ss[0]).T # old value function m=1"
   ]
  },
  {
   "cell_type": "code",
   "execution_count": 27,
   "id": "323a2703-c867-44cd-924a-783ca35abfd1",
   "metadata": {},
   "outputs": [
    {
     "data": {
      "text/plain": [
       "array([[35.97710987],\n",
       "       [35.97710987],\n",
       "       [35.97710987]])"
      ]
     },
     "execution_count": 27,
     "metadata": {},
     "output_type": "execute_result"
    }
   ],
   "source": [
    "(-2 * (b2 * np.ones((3, 1))).T @ K_ss[1] +  k_ss[1]).T # old value function m=2"
   ]
  },
  {
   "cell_type": "markdown",
   "id": "7c015c12-a780-4020-92b4-686f4b1e94ff",
   "metadata": {},
   "source": [
    "These look equal, and we can verify to be sure:"
   ]
  },
  {
   "cell_type": "code",
   "execution_count": 28,
   "id": "0df6cacd-a333-4160-92f8-3ddb7accb227",
   "metadata": {},
   "outputs": [
    {
     "data": {
      "text/plain": [
       "True"
      ]
     },
     "execution_count": 28,
     "metadata": {},
     "output_type": "execute_result"
    }
   ],
   "source": [
    "np.allclose(-2 * U @ tilde_Kk1, (-2 * (b1 * np.ones((3, 1))).T @ K_ss[0] +  k_ss[0]).T)"
   ]
  },
  {
   "cell_type": "code",
   "execution_count": 29,
   "id": "db599ba3-1476-462f-8b62-969959a9d1cc",
   "metadata": {},
   "outputs": [
    {
     "data": {
      "text/plain": [
       "True"
      ]
     },
     "execution_count": 29,
     "metadata": {},
     "output_type": "execute_result"
    }
   ],
   "source": [
    "np.allclose(-2 * U @ tilde_Kk2, (-2 * (b2 * np.ones((3, 1))).T @ K_ss[1] +  k_ss[1]).T)"
   ]
  },
  {
   "cell_type": "markdown",
   "id": "8ce6091b-4715-4d1f-9b17-1dcc281ffd0c",
   "metadata": {},
   "source": [
    "## 48, 49"
   ]
  },
  {
   "cell_type": "markdown",
   "id": "11f5a074-2cdf-49af-bff2-7df30bde1521",
   "metadata": {},
   "source": [
    "Here we are checking the implicit matrix formulation of $\\tilde K \\tilde k$:"
   ]
  },
  {
   "cell_type": "code",
   "execution_count": 30,
   "id": "9c364f7a-050a-4391-877e-4784bdf1b950",
   "metadata": {},
   "outputs": [
    {
     "data": {
      "text/plain": [
       "True"
      ]
     },
     "execution_count": 30,
     "metadata": {},
     "output_type": "execute_result"
    }
   ],
   "source": [
    "w = a1**2 * tilde_Kk1 + a2**2 * tilde_Kk2\n",
    "np.allclose(tilde_Kk1, tilde_b1 - delta * Gamma @ D @ (delta * a1**2 * tilde_Kss_1 + c*I) @ (delta * tilde_Kss_1 @ Gamma @ w - tilde_Kk1))"
   ]
  },
  {
   "cell_type": "code",
   "execution_count": 31,
   "id": "bcea6f47-70e6-4a03-b083-13c3daa1de8c",
   "metadata": {},
   "outputs": [
    {
     "data": {
      "text/plain": [
       "True"
      ]
     },
     "execution_count": 31,
     "metadata": {},
     "output_type": "execute_result"
    }
   ],
   "source": [
    "np.allclose(tilde_Kk2, tilde_b2 - delta * Gamma @ D @ (delta * a2**2 * tilde_Kss_2 + c*I) @ (delta * tilde_Kss_2 @ Gamma @ w - tilde_Kk2))"
   ]
  },
  {
   "cell_type": "markdown",
   "id": "ec0c71ca-8a30-4e18-924b-2762afc183fc",
   "metadata": {},
   "source": [
    "## Limit Opinions"
   ]
  },
  {
   "cell_type": "markdown",
   "id": "2cb8319e-e45f-41a9-a1ba-538cbf09fab5",
   "metadata": {},
   "source": [
    "For the limit opinions, we first pull the unprojected and de-normalized result from the old code:"
   ]
  },
  {
   "cell_type": "code",
   "execution_count": 32,
   "id": "49cce2a6-520f-4684-b763-adb886751eda",
   "metadata": {},
   "outputs": [
    {
     "data": {
      "text/plain": [
       "array([[3.19968643],\n",
       "       [3.19968643],\n",
       "       [3.19968643]])"
      ]
     },
     "execution_count": 32,
     "metadata": {},
     "output_type": "execute_result"
    }
   ],
   "source": [
    "x_ss = xs[0][-1]+b1\n",
    "x_ss"
   ]
  },
  {
   "cell_type": "markdown",
   "id": "20b939f6-995e-4db2-8432-4cb3c73092d6",
   "metadata": {},
   "source": [
    "We see consensus, as expected. We then project it, and see the expected form of a nonzero entry followed by zeros:"
   ]
  },
  {
   "cell_type": "code",
   "execution_count": 33,
   "id": "55bc9f26-c496-437f-bafb-f23d8a779cc8",
   "metadata": {},
   "outputs": [
    {
     "data": {
      "text/plain": [
       "array([[-5.54201947],\n",
       "       [ 0.        ],\n",
       "       [-0.        ]])"
      ]
     },
     "execution_count": 33,
     "metadata": {},
     "output_type": "execute_result"
    }
   ],
   "source": [
    "U.T @ x_ss"
   ]
  },
  {
   "cell_type": "markdown",
   "id": "c4101551-30d1-4127-b498-78295e32168e",
   "metadata": {},
   "source": [
    "From there, we test the two explicit formulations:"
   ]
  },
  {
   "cell_type": "code",
   "execution_count": 34,
   "id": "fca6652f-097b-4fe6-9e02-9e696cec1c3d",
   "metadata": {},
   "outputs": [
    {
     "data": {
      "text/plain": [
       "array([[-5.54201947],\n",
       "       [ 0.        ],\n",
       "       [ 0.        ]])"
      ]
     },
     "execution_count": 34,
     "metadata": {},
     "output_type": "execute_result"
    }
   ],
   "source": [
    "np.linalg.inv(I - c*Gamma @ D) @ (delta * Gamma) @ w"
   ]
  },
  {
   "cell_type": "code",
   "execution_count": 35,
   "id": "11be733a-fac2-4e24-823e-04ddaa26bfd1",
   "metadata": {},
   "outputs": [
    {
     "data": {
      "text/plain": [
       "array([[-5.54201947],\n",
       "       [ 0.        ],\n",
       "       [ 0.        ]])"
      ]
     },
     "execution_count": 35,
     "metadata": {},
     "output_type": "execute_result"
    }
   ],
   "source": [
    "np.linalg.inv(a1**2 * tilde_Kss_1 + a2**2 * tilde_Kss_2) @ w"
   ]
  },
  {
   "cell_type": "markdown",
   "id": "bb2b9d91-34d6-4149-ba74-be7d8c539902",
   "metadata": {},
   "source": [
    "which are the same."
   ]
  },
  {
   "cell_type": "markdown",
   "id": "ca41ade6-2753-4f29-afef-f15fd28aa640",
   "metadata": {},
   "source": [
    "## 52"
   ]
  },
  {
   "cell_type": "markdown",
   "id": "dd55375e-9874-4263-9af8-962f00adb06f",
   "metadata": {},
   "source": [
    "Here we are checking the expressions used to demonstrate consensus:"
   ]
  },
  {
   "cell_type": "code",
   "execution_count": 36,
   "id": "3141e411-6a02-45c6-9cc4-48ef71ba9abb",
   "metadata": {},
   "outputs": [
    {
     "data": {
      "text/plain": [
       "array([[-188.13233947],\n",
       "       [   0.00000002],\n",
       "       [  -0.        ]])"
      ]
     },
     "execution_count": 36,
     "metadata": {},
     "output_type": "execute_result"
    }
   ],
   "source": [
    "(a1**2 * tilde_Kss_1 + a2**2 * tilde_Kss_2) @ (Y@Y - Z1@Z2) @ (U.T @ x_ss)"
   ]
  },
  {
   "cell_type": "markdown",
   "id": "0fee6f7a-088e-4dad-b9e6-747d47853bc6",
   "metadata": {},
   "source": [
    "Note there is some numerical error here; if the second row is added to the first row, we get the result seen below. This is identifiable as numerical error because we can decompile the expression:"
   ]
  },
  {
   "cell_type": "code",
   "execution_count": 37,
   "id": "4f8b21d7-9b1d-4ccb-a409-1e8bf70fb489",
   "metadata": {},
   "outputs": [
    {
     "data": {
      "text/plain": [
       "array([[33.94653167,  0.        ,  0.        ],\n",
       "       [ 0.        , 45.73447651,  0.        ],\n",
       "       [ 0.        ,  0.        , 65.44798526]])"
      ]
     },
     "execution_count": 37,
     "metadata": {},
     "output_type": "execute_result"
    }
   ],
   "source": [
    "(a1**2 * tilde_Kss_1 + a2**2 * tilde_Kss_2) @ (Y@Y - Z1@Z2)"
   ]
  },
  {
   "cell_type": "code",
   "execution_count": 38,
   "id": "129b50b7-5f56-4d69-8522-0bd5a400b772",
   "metadata": {},
   "outputs": [
    {
     "data": {
      "text/plain": [
       "array([[-5.54201947],\n",
       "       [ 0.        ],\n",
       "       [-0.        ]])"
      ]
     },
     "execution_count": 38,
     "metadata": {},
     "output_type": "execute_result"
    }
   ],
   "source": [
    "(U.T @ x_ss)"
   ]
  },
  {
   "cell_type": "markdown",
   "id": "8f6a28b0-1a1c-47ab-b200-762e8e1f1558",
   "metadata": {},
   "source": [
    "Of course if there were no error, the multiplication of the two components would yield a vector with zeros in the second and third position.\n",
    "\n",
    "Comparing to the other expression in 52:"
   ]
  },
  {
   "cell_type": "code",
   "execution_count": 39,
   "id": "1ede2550-abac-44a8-81e7-86ab4bea2bb7",
   "metadata": {},
   "outputs": [
    {
     "data": {
      "text/plain": [
       "array([[-188.13233945],\n",
       "       [   0.        ],\n",
       "       [   0.        ]])"
      ]
     },
     "execution_count": 39,
     "metadata": {},
     "output_type": "execute_result"
    }
   ],
   "source": [
    "a1**2 * (I - delta*Gamma @ D @ (delta * a2**2 * tilde_Kss_2 + c*I))@tilde_b1 + a2**2 * (I - delta*Gamma@D@(delta*a1**2 * tilde_Kss_1 + c*I))@tilde_b2"
   ]
  },
  {
   "cell_type": "markdown",
   "id": "4f3e9d56-d8d5-4ee0-b1ba-31ac08ca380f",
   "metadata": {},
   "source": [
    "Substituting $\\tilde x_\\infty$ in 52 for the closed form definition should also imply the following is equal to the above:"
   ]
  },
  {
   "cell_type": "code",
   "execution_count": 40,
   "id": "78d5b52e-f9ca-4fcd-a3a5-1ce10adb880d",
   "metadata": {},
   "outputs": [
    {
     "data": {
      "text/plain": [
       "array([[-188.13233945],\n",
       "       [   0.        ],\n",
       "       [   0.        ]])"
      ]
     },
     "execution_count": 40,
     "metadata": {},
     "output_type": "execute_result"
    }
   ],
   "source": [
    "(Y@Y - Z1@Z2)@w"
   ]
  },
  {
   "cell_type": "markdown",
   "id": "c3b0a369-4447-4964-9a59-6959f8720d11",
   "metadata": {},
   "source": [
    "## b1 > b2"
   ]
  },
  {
   "cell_type": "markdown",
   "id": "b11b27ae-06b2-4eac-92ae-453665c1e59c",
   "metadata": {},
   "source": [
    "Here we explore the property of the first strategic agent having less limit intervention than the second if $b_1 \\neq b_2$ (in projected terms). We first check the same example we used above:"
   ]
  },
  {
   "cell_type": "code",
   "execution_count": 41,
   "id": "1b6a8a5b-d696-4911-ab23-670073ab7ba8",
   "metadata": {},
   "outputs": [
    {
     "data": {
      "text/plain": [
       "array([[137.76185518],\n",
       "       [  0.        ],\n",
       "       [  0.        ]])"
      ]
     },
     "execution_count": 41,
     "metadata": {},
     "output_type": "execute_result"
    }
   ],
   "source": [
    "K_ss, k_ss, kappa_ss, xs, rs, payoffs = run_simulation(A1, b1, b2, a1, a2, delta, c, X_0_1)\n",
    "np.abs(U.T @ rs[0][-1]) # influencer 1"
   ]
  },
  {
   "cell_type": "code",
   "execution_count": 42,
   "id": "bff36146-26ee-444f-bafd-8acec7899489",
   "metadata": {},
   "outputs": [
    {
     "data": {
      "text/plain": [
       "array([[165.31422623],\n",
       "       [  0.        ],\n",
       "       [  0.        ]])"
      ]
     },
     "execution_count": 42,
     "metadata": {},
     "output_type": "execute_result"
    }
   ],
   "source": [
    "np.abs(U.T @ rs[1][-1]) # influencer 2"
   ]
  },
  {
   "cell_type": "markdown",
   "id": "9338b7e2-8254-44a6-9d85-bdbd26b26321",
   "metadata": {},
   "source": [
    "That was with $b_1 = 10, b_2 = -10$. We can try a closer pair:"
   ]
  },
  {
   "cell_type": "code",
   "execution_count": 43,
   "id": "2783a917-357e-4b09-97c5-c433310cc68f",
   "metadata": {},
   "outputs": [
    {
     "data": {
      "text/plain": [
       "(array([[6.88809276],\n",
       "        [0.        ],\n",
       "        [0.        ]]),\n",
       " array([[8.26571131],\n",
       "        [0.        ],\n",
       "        [0.        ]]))"
      ]
     },
     "execution_count": 43,
     "metadata": {},
     "output_type": "execute_result"
    }
   ],
   "source": [
    "K_ss, k_ss, kappa_ss, xs, rs, payoffs = run_simulation(A1, 10, 9, a1, a2, delta, c, X_0_1)\n",
    "np.abs(U.T @ rs[0][-1]), np.abs(U.T @ rs[1][-1])"
   ]
  },
  {
   "cell_type": "markdown",
   "id": "f20ca805-72fb-43b1-91b5-9f10c38e2de0",
   "metadata": {},
   "source": [
    "Holding the influence weights fixed, we can even try flipping the order of the agendas:"
   ]
  },
  {
   "cell_type": "code",
   "execution_count": 44,
   "id": "22ee120a-0bef-40b1-a8d2-b7383feadfc9",
   "metadata": {},
   "outputs": [
    {
     "data": {
      "text/plain": [
       "(array([[6.88809276],\n",
       "        [0.        ],\n",
       "        [0.        ]]),\n",
       " array([[8.26571131],\n",
       "        [0.        ],\n",
       "        [0.        ]]))"
      ]
     },
     "execution_count": 44,
     "metadata": {},
     "output_type": "execute_result"
    }
   ],
   "source": [
    "K_ss, k_ss, kappa_ss, xs, rs, payoffs = run_simulation(A1, 10, 11, a1, a2, delta, c, X_0_1)\n",
    "np.abs(U.T @ rs[0][-1]), np.abs(U.T @ rs[1][-1])"
   ]
  },
  {
   "cell_type": "markdown",
   "id": "8d58ff34-8af1-477c-b626-c19a8efa07d6",
   "metadata": {},
   "source": [
    "In all cases, we see the message of strategic agent 1 is less intense than that of agent 2. We can also see the messages take a similar form to other vectors seen throughout the analysis, where the entries other than the first are zeros."
   ]
  },
  {
   "cell_type": "markdown",
   "id": "f7ef5d52-aa1f-43be-9f66-7dbd7f422dcc",
   "metadata": {},
   "source": [
    "For the case where $b_1 = b_2$, the agendas are the same and we expect consensus in opinions at the agenda point. Hence no intervention would be expected in the limit, and:"
   ]
  },
  {
   "cell_type": "code",
   "execution_count": 45,
   "id": "79b9f3ae-5abc-4d15-8a55-e68599a5a9de",
   "metadata": {},
   "outputs": [
    {
     "data": {
      "text/plain": [
       "(array([[0.],\n",
       "        [0.],\n",
       "        [0.]]),\n",
       " array([[0.],\n",
       "        [0.],\n",
       "        [0.]]))"
      ]
     },
     "execution_count": 45,
     "metadata": {},
     "output_type": "execute_result"
    }
   ],
   "source": [
    "K_ss, k_ss, kappa_ss, xs, rs, payoffs = run_simulation(A1, 10, 10, a1, a2, delta, c, X_0_1)\n",
    "np.abs(U.T @ rs[0][-1]), np.abs(U.T @ rs[1][-1])"
   ]
  },
  {
   "cell_type": "markdown",
   "id": "7bb43bfe-5861-49f2-a29c-240ddeb42cee",
   "metadata": {},
   "source": [
    "This is indeed what we see. Despite this, because of the asymmetric influence weights, we should still see greater payoff for the influencer with less intermediate intervention i.e. strategic agent 2:"
   ]
  },
  {
   "cell_type": "code",
   "execution_count": 46,
   "id": "b3910379-b8ae-4db7-b635-54bcf18fe24d",
   "metadata": {},
   "outputs": [
    {
     "data": {
      "text/plain": [
       "-251.3450261100448"
      ]
     },
     "execution_count": 46,
     "metadata": {},
     "output_type": "execute_result"
    }
   ],
   "source": [
    "payoffs[0][-1] # influencer 1"
   ]
  },
  {
   "cell_type": "code",
   "execution_count": 47,
   "id": "5c3cb339-17b8-435a-a641-49bba9a9f530",
   "metadata": {},
   "outputs": [
    {
     "data": {
      "text/plain": [
       "-250.9411231791053"
      ]
     },
     "execution_count": 47,
     "metadata": {},
     "output_type": "execute_result"
    }
   ],
   "source": [
    "payoffs[1][-1] # influencer 2"
   ]
  },
  {
   "cell_type": "markdown",
   "id": "f6a3b1f0-e330-460b-a2c3-e4e0c1d559dc",
   "metadata": {},
   "source": [
    "To see why, we can look at the unprojected messages:"
   ]
  },
  {
   "cell_type": "code",
   "execution_count": 48,
   "id": "26b34677-2727-4c7a-8fa7-94136b8719e2",
   "metadata": {},
   "outputs": [
    {
     "data": {
      "text/plain": [
       "[array([[0.82199194],\n",
       "        [0.62879492],\n",
       "        [0.48379942]]),\n",
       " array([[0.01167021],\n",
       "        [0.01261988],\n",
       "        [0.01003288]]),\n",
       " array([[0.0002097 ],\n",
       "        [0.00021093],\n",
       "        [0.00018832]]),\n",
       " array([[0.00000366],\n",
       "        [0.00000369],\n",
       "        [0.00000346]]),\n",
       " array([[0.00000006],\n",
       "        [0.00000006],\n",
       "        [0.00000006]]),\n",
       " array([[0.],\n",
       "        [0.],\n",
       "        [0.]])]"
      ]
     },
     "execution_count": 48,
     "metadata": {},
     "output_type": "execute_result"
    }
   ],
   "source": [
    "rs[0]"
   ]
  },
  {
   "cell_type": "code",
   "execution_count": 49,
   "id": "4774bb77-d29e-4fc6-93c2-4a63a5bf16c7",
   "metadata": {},
   "outputs": [
    {
     "data": {
      "text/plain": [
       "[array([[0.68340113],\n",
       "        [0.52239437],\n",
       "        [0.40173392]]),\n",
       " array([[0.00969741],\n",
       "        [0.01048853],\n",
       "        [0.00833446]]),\n",
       " array([[0.00017426],\n",
       "        [0.00017528],\n",
       "        [0.00015646]]),\n",
       " array([[0.00000304],\n",
       "        [0.00000307],\n",
       "        [0.00000287]]),\n",
       " array([[0.00000005],\n",
       "        [0.00000005],\n",
       "        [0.00000005]]),\n",
       " array([[0.],\n",
       "        [0.],\n",
       "        [0.]])]"
      ]
     },
     "execution_count": 49,
     "metadata": {},
     "output_type": "execute_result"
    }
   ],
   "source": [
    "rs[1]"
   ]
  },
  {
   "cell_type": "markdown",
   "id": "3bd57a42-db66-41a4-8343-972628ecf091",
   "metadata": {},
   "source": [
    "Indeed the messages of influencer 2 are smaller."
   ]
  },
  {
   "cell_type": "markdown",
   "id": "6a0357da-28ba-4aa9-a11b-e563860db030",
   "metadata": {},
   "source": [
    "Finally, the limit opinions should have consensus at the agenda point:"
   ]
  },
  {
   "cell_type": "code",
   "execution_count": 50,
   "id": "d0c550a5-34d5-495d-aceb-80073be2fe83",
   "metadata": {},
   "outputs": [
    {
     "data": {
      "text/plain": [
       "array([[10.],\n",
       "       [10.],\n",
       "       [10.]])"
      ]
     },
     "execution_count": 50,
     "metadata": {},
     "output_type": "execute_result"
    }
   ],
   "source": [
    "xs[0][-1]+10"
   ]
  }
 ],
 "metadata": {
  "kernelspec": {
   "display_name": "Python 3",
   "language": "python",
   "name": "python3"
  },
  "language_info": {
   "codemirror_mode": {
    "name": "ipython",
    "version": 3
   },
   "file_extension": ".py",
   "mimetype": "text/x-python",
   "name": "python",
   "nbconvert_exporter": "python",
   "pygments_lexer": "ipython3",
   "version": "3.8.8"
  },
  "widgets": {
   "application/vnd.jupyter.widget-state+json": {
    "state": {},
    "version_major": 2,
    "version_minor": 0
   }
  }
 },
 "nbformat": 4,
 "nbformat_minor": 5
}
