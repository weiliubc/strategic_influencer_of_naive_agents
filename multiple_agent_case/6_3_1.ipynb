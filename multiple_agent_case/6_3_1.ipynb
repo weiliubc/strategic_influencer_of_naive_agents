{
 "cells": [
  {
   "cell_type": "markdown",
   "id": "parallel-physics",
   "metadata": {},
   "source": [
    "# Expanded Non-Consensus Case: Perfectly Opposing Agendas\n",
    "\n",
    "#### Unified Model with Multiple Strategic Agents\n",
    "#### Strategic Agent-Specific Message Weights\n",
    "#### Highly Symmetric Network\n",
    "#### Extra Examples\n",
    "\n",
    "James Yu, 4 April 2023"
   ]
  },
  {
   "cell_type": "code",
   "execution_count": 1,
   "id": "authorized-melissa",
   "metadata": {
    "tags": []
   },
   "outputs": [],
   "source": [
    "from collections import defaultdict\n",
    "import matplotlib.pyplot as plt\n",
    "import numpy as np\n",
    "np.set_printoptions(suppress=True)"
   ]
  },
  {
   "cell_type": "code",
   "execution_count": 2,
   "id": "precise-trick",
   "metadata": {
    "tags": []
   },
   "outputs": [],
   "source": [
    "def M(K, B, R, L, delta):\n",
    "    \"\"\"Computes M_{t-1} given B_l \\forall l, K_t^l \\forall l, \n",
    "        R_l \\forall l, number of strategic agents L, and delta.\"\"\"\n",
    "    # handle the generic structure first, with the correct pairings:\n",
    "    base = [[B[l_prime].T @ K[l_prime] @ B[l] for l in range(L)] for l_prime in range(L)]\n",
    "    # then change the diagonals to construct M_{t-1}:\n",
    "    for l in range(L): base[l][l] = B[l].T @ K[l] @ B[l] + R[l]/delta\n",
    "    return np.block(base)\n",
    "\n",
    "def H(B, K, A, L):\n",
    "    \"\"\"Computes H_{t-1} given B_l \\forall l, K_t^l \\forall l, \n",
    "        A, and number of strategic agents L.\"\"\"\n",
    "    return np.concatenate(tuple(B[l].T @ K[l] @ A for l in range(L)), axis = 0)\n",
    "\n",
    "def C_l(A, B, K, k, h, L, c, x, n):\n",
    "    \"\"\"Computes C_{t-1}^h (displayed as C_{t-1}^l) given A, B_l \\forall l, K_t^l \\forall l, \n",
    "        k_t^l \\forall l, a specific naive agent h, number of strategic agents L, \n",
    "        c_l \\forall l, x_l \\forall l, and number of naive agents n\"\"\"\n",
    "    return np.concatenate(tuple(B[l].T @ K[l] @ A @ ((x[h] - x[l]) * np.ones((n, 1))) \n",
    "                           + B[l].T @ K[l] @ c[l] \n",
    "                           + 0.5 * B[l].T @ k[l].T for l in range(L)), axis = 0)\n",
    "\n",
    "def E(M_, H_):\n",
    "    \"\"\"Computes the generic E_{t-1} given M_{t-1} and H_{t-1}.\"\"\"\n",
    "    return np.linalg.inv(M_) @ H_\n",
    "\n",
    "def F(M_, C_l_, l, n):\n",
    "    \"\"\"Computes F_{t-1}^l given M_{t-1}, C_{t-1}^l, \n",
    "       specific naive agent l and number of naive agents n.\"\"\"\n",
    "    return (np.linalg.inv(M_) @ C_l_)[l*n:(l+1)*n, :] # e.g. l = 0 gives ln = 0, l = 1 gives ln = n, etc\n",
    "\n",
    "def G(A, B, E_, L, n):\n",
    "    \"\"\"Computes the generic G_{t-1} given A, B_l \\forall l, \n",
    "        E_{t-1}, number of strategic agents L, and number of naive agents n.\"\"\"\n",
    "    return A - sum([B[l] @ E_[l*n:(l+1)*n, :] for l in range(L)])\n",
    "    \n",
    "def g_l(B, E_, h, x, F_, L, n, c):\n",
    "    \"\"\"Computes g_{t-1}^l given B_l \\forall l, E_{t-1}^l, \n",
    "        a particular naive agent h, x_l \\forall l, F_{t-1}^l \\forall l, \n",
    "        number of strategic agents L, number of naive agents n, and c_h.\"\"\"\n",
    "    return - sum([B[l] @ (E_[l*n:(l+1)*n, :] @ ((x[h] - x[l]) * np.ones((n, 1))) + F_[l]) for l in range(L)]) + c[h]"
   ]
  },
  {
   "cell_type": "code",
   "execution_count": 3,
   "id": "forced-trunk",
   "metadata": {},
   "outputs": [],
   "source": [
    "def K_t_minus_1(Q, K, E_, R, G_, L, delta, n):\n",
    "    return [Q[l] + E_[l*n:(l+1)*n, :].T @ R[l] @ E_[l*n:(l+1)*n, :] \n",
    "            + delta * G_.T @ K[l] @ G_ for l in range(L)]\n",
    "\n",
    "def k_t_minus_1(K, k, G_, g, E_, F_, R, L, delta, n):\n",
    "    return [2*delta* g[l].T @ K[l] @ G_ + delta * k[l] @ G_ \n",
    "            + 2 * F_[l].T @ R[l] @ E_[l*n:(l+1)*n, :] for l in range(L)]\n",
    "\n",
    "def kappa_t_minus_1(K, k, kappa, g_, F_, R, L, delta):            \n",
    "    return [-delta * (g_[l].T @ K[l] @ g_[l] + k[l] @ g_[l] - kappa[l]) \n",
    "            - (F_[l].T @ R[l] @ F_[l]) for l in range(L)]"
   ]
  },
  {
   "cell_type": "code",
   "execution_count": 4,
   "id": "pleased-criterion",
   "metadata": {
    "tags": []
   },
   "outputs": [],
   "source": [
    "def should_terminate(bundles, eps):\n",
    "    return all([np.allclose(b[0], b[1], rtol = eps, atol = eps) for b in bundles])\n",
    "\n",
    "def solve(K_t, k_t, kappa_t, A, B, delta, n, L, Q, R, x, c, tol):\n",
    "    historical_K = [K_t]\n",
    "    historical_k = [k_t]\n",
    "    historical_kappa = [kappa_t]\n",
    "    eps = np.sqrt(np.finfo(np.float64).eps)\n",
    "    while True:\n",
    "        M_ = M(K_t, B, R, L, delta)\n",
    "        H_ = H(B, K_t, A, L)\n",
    "        E_ = E(M_, H_)\n",
    "        G_ = G(A, B, E_, L, n)\n",
    "        K_new = K_t_minus_1(Q, K_t, E_, R, G_, L, delta, n)\n",
    "        F_ = [F(M_, C_l(A, B, K_t, k_t, l, L, c, x, n), l, n) for l in range(L)]\n",
    "        g = [g_l(B, E_, h, x, F_, L, n, c) for h in range(L)]\n",
    "        k_new = k_t_minus_1(K_t, k_t, G_, g, E_, F_, R, L, delta, n)\n",
    "        kappa_new = kappa_t_minus_1(K_t, k_t, kappa_t, g, F_, R, L, delta)\n",
    "        historical_K.insert(0, K_new)\n",
    "        historical_k.insert(0, k_new)\n",
    "        historical_kappa.insert(0, kappa_new)\n",
    "        if should_terminate([(K_t, K_new), (k_t, k_new), (kappa_t, kappa_new)], eps):\n",
    "            return historical_K[0], historical_k[0], historical_kappa[0]\n",
    "        K_t = K_new\n",
    "        k_t = k_new\n",
    "        kappa_t = kappa_new"
   ]
  },
  {
   "cell_type": "code",
   "execution_count": 5,
   "id": "unlimited-jamaica",
   "metadata": {},
   "outputs": [],
   "source": [
    "def optimal(X_init, K_ss, k_ss, A, B, delta, n, L, Q, R, x, c, eps):\n",
    "    X_t = [a.copy() for a in X_init]\n",
    "    xs = defaultdict(list)\n",
    "    for l in range(L):\n",
    "        xs[l].append(X_t[l])\n",
    "        \n",
    "    rs = defaultdict(list)\n",
    "    payoffs = defaultdict(list)\n",
    "    payoff = defaultdict(int)\n",
    "    \n",
    "    M_ = M(K_ss, B, R, L, delta)\n",
    "    H_ = H(B, K_ss, A, L)\n",
    "    E_ = E(M_, H_)\n",
    "    G_ = G(A, B, E_, L, n)\n",
    "    F_ = [F(M_, C_l(A, B, K_ss, k_ss, l, L, c, x, n), l, n) for l in range(L)]\n",
    "    g = [g_l(B, E_, h, x, F_, L, n, c) for h in range(L)]\n",
    "    \n",
    "    i = 0\n",
    "    while True:\n",
    "        for l in range(L):\n",
    "            # TODO: special code for finite horizon needs a terminal time T term\n",
    "            Y_new = -1 * E_[l*n:(l+1)*n, :] @ X_t[l] - F(M_, C_l(A, B, K_ss, k_ss, l, L, c, x, n), l, n)\n",
    "            rs[l].append(Y_new)\n",
    "            payoff[l] += (-1 * delta**i * (X_t[l].T @ Q[l] @ X_t[l])).item() + (-1 * delta**i * (Y_new.T @ R[l] @ Y_new)).item()\n",
    "            payoffs[l].append(payoff[l])\n",
    "            X_new = G_ @ X_t[l] + g[l]\n",
    "            xs[l].append(X_new)\n",
    "            if l == L - 1 and np.allclose(X_t[l], X_new, rtol = eps, atol = eps):\n",
    "                return xs, rs, payoffs\n",
    "            X_t[l] = X_new \n",
    "        i += 1\n",
    "        \n",
    "    return xs, rs, payoffs"
   ]
  },
  {
   "cell_type": "code",
   "execution_count": 6,
   "id": "synthetic-promotion",
   "metadata": {},
   "outputs": [],
   "source": [
    "def run_simulation(A, b1, b2, a1, a2, delta = 0.9, c = 200, X_0_1 = np.array([[10.0, -2.0, 5.0]], ndmin = 2).T, print_ = True, tol = np.sqrt(np.finfo(np.float64).eps)):\n",
    "    X_0 = [X_0_1 - b1, X_0_1 - b2]\n",
    "    n = 3 # number of naive agents\n",
    "    L = 2 # number of strategic agents\n",
    "    Q = [np.identity(n), np.identity(n)] # objective function for messages is just X'IX = X'X\n",
    "    R = [c * np.identity(n), c * np.identity(n)] # message cost R = cI_n for some c under the new notation\n",
    "    B = [a1 * np.identity(n), a2 * np.identity(n)] # B^l = a_l I_n\n",
    "    x = [b1, b2] # agendas\n",
    "    r = [0, 0] # message cost minimality is centered around zero\n",
    "    c_base = sum([B[l] @ (r[l] * np.ones((n, 1))) for l in range(L)])\n",
    "    c = [c_base + (A - np.identity(n)) @ (x[l] * np.ones((n, 1))) for l in range(L)] # normalization vector\n",
    "    \n",
    "    K_ss, k_ss, kappa_ss = solve(Q, [np.zeros((1, n)), np.zeros((1, n))], [0, 0], A, B, delta, n, L, Q, R, x, c, tol)\n",
    "    xs, rs, payoffs = optimal(X_0, K_ss, k_ss, A, B, delta, n, L, Q, R, x, c, tol)\n",
    "    if print_:\n",
    "        print(\"Steady-State Opinions:\")\n",
    "        print((xs[0][-1] + b1).T)\n",
    "        print(\"K^* (1, 2):\")\n",
    "        print(K_ss[0])\n",
    "        print(K_ss[1])\n",
    "        print(\"k^* (1, 2):\")\n",
    "        print(k_ss[0])\n",
    "        print(k_ss[1])\n",
    "        print(\"kappa^* (1, 2):\")\n",
    "        print(kappa_ss[0])\n",
    "        print(kappa_ss[1])\n",
    "        print(\"Terminal messages (1, 2):\")\n",
    "        print(rs[0][-1].T)\n",
    "        print(rs[1][-1].T)\n",
    "        return xs, rs, payoffs\n",
    "    if print_ == False:\n",
    "        return xs[0][-1] + b1"
   ]
  },
  {
   "cell_type": "code",
   "execution_count": 7,
   "id": "357c2448-f120-4c7c-a48f-f316da9f24a0",
   "metadata": {},
   "outputs": [],
   "source": [
    "def do_ensemble(A, X_0_1 = np.array([[10.0, -2.0, 5.0]], ndmin = 2).T):\n",
    "    xs, rs, payoffs = run_simulation(A, 10, -10, 10.0, 5.0, c = 0.1, delta = 0.9, X_0_1 = X_0_1)\n",
    "    return (xs, rs, payoffs)"
   ]
  },
  {
   "cell_type": "code",
   "execution_count": 8,
   "id": "c9c665dc-f6b9-4c63-a2a6-08bbb0963a14",
   "metadata": {},
   "outputs": [],
   "source": [
    "def show_opinions(res, labels):\n",
    "    for l, r in enumerate(res):\n",
    "        xs, rs, payoffs = r\n",
    "        for j in range(3):\n",
    "            \"\"\"\n",
    "            IMPORTANT: the 10 below comes from the agenda bias\n",
    "            \"\"\"\n",
    "            plt.plot(range(len(xs[0])), [xs[0][i][j]+(10) for i in range(len(xs[0]))], label = f\"Agent {j+1}, {labels[l]}\")\n",
    "\n",
    "    plt.xlabel(\"Time ($t$)\")\n",
    "    plt.ylabel(\"Naive Agent Opinion ($x_t$)\")\n",
    "    plt.legend()\n",
    "    plt.title(\"Opinion Evolution\")\n",
    "    plt.show()"
   ]
  },
  {
   "cell_type": "code",
   "execution_count": 9,
   "id": "945d5061-6138-44d5-b5b5-fdcdd0a0b7be",
   "metadata": {},
   "outputs": [],
   "source": [
    "def show_messages(res, k, labels):\n",
    "    for l, r in enumerate(res):\n",
    "        xs, rs, payoffs = r\n",
    "        for j in range(3):\n",
    "            plt.plot(range(len(rs[k])), [rs[k][i][j] for i in range(len(rs[k]))], label = f\"To Agent {j+1}, {labels[l]}\")\n",
    "    plt.xlabel(\"Time\")\n",
    "    plt.ylabel(\"Message\")\n",
    "    plt.legend()\n",
    "    plt.title(f\"Messages: Strategic Agent {k}\")\n",
    "    plt.show()"
   ]
  },
  {
   "cell_type": "code",
   "execution_count": 10,
   "id": "008e68f2-5c09-4c7c-be37-b32d2d9dc6a3",
   "metadata": {},
   "outputs": [
    {
     "name": "stdout",
     "output_type": "stream",
     "text": [
      "[[0.6 0.3 0.1]\n",
      " [0.6 0.3 0.1]\n",
      " [0.6 0.3 0.1]]\n",
      "Steady-State Opinions:\n",
      "[[10.36704668  8.18501036  6.73031948]]\n",
      "K^* (1, 2):\n",
      "[[1.00069087 0.00034544 0.00011515]\n",
      " [0.00034544 1.00017272 0.00005757]\n",
      " [0.00011515 0.00005757 1.00001919]]\n",
      "[[1.00017313 0.00008656 0.00002885]\n",
      " [0.00008656 1.00004328 0.00001443]\n",
      " [0.00002885 0.00001443 1.00000481]]\n",
      "k^* (1, 2):\n",
      "[[-14.57281195  -7.28640598  -2.42880199]]\n",
      "[[14.60656258  7.30328129  2.4344271 ]]\n",
      "kappa^* (1, 2):\n",
      "[[-792226.18044087]]\n",
      "[[-3178012.98923755]]\n",
      "Terminal messages (1, 2):\n",
      "[[622.80982496 491.27108092 403.57858489]]\n",
      "[[-1245.4159932   -982.77491238  -807.6808585 ]]\n"
     ]
    }
   ],
   "source": [
    "A1 = np.array([ # opinion leader highly symmetric\n",
    "    [0.6, 0.3, 0.1],\n",
    "    [0.6, 0.3, 0.1],\n",
    "    [0.6, 0.3, 0.1]\n",
    "])\n",
    "\n",
    "print(A1)\n",
    "res1 = do_ensemble(A1)"
   ]
  },
  {
   "cell_type": "code",
   "execution_count": 14,
   "id": "86684d05-42bd-4484-b71f-02e669af74e7",
   "metadata": {},
   "outputs": [
    {
     "name": "stdout",
     "output_type": "stream",
     "text": [
      "[[0.55 0.3  0.15]\n",
      " [0.55 0.3  0.15]\n",
      " [0.55 0.3  0.15]]\n",
      "Steady-State Opinions:\n",
      "[[10.00337754  8.18488015  7.09378172]]\n",
      "K^* (1, 2):\n",
      "[[1.00058052 0.00031665 0.00015832]\n",
      " [0.00031665 1.00017272 0.00008636]\n",
      " [0.00015832 0.00008636 1.00004318]]\n",
      "[[1.00014547 0.00007935 0.00003967]\n",
      " [0.00007935 1.00004328 0.00002164]\n",
      " [0.00003967 0.00002164 1.00001082]]\n",
      "k^* (1, 2):\n",
      "[[-13.35849682  -7.28645281  -3.64322641]]\n",
      "[[13.3896842   7.30346411  3.65173206]]\n",
      "kappa^* (1, 2):\n",
      "[[-783641.7175219]]\n",
      "[[-3143496.36034963]]\n",
      "Terminal messages (1, 2):\n",
      "[[600.9213417  491.30186981 425.53018668]]\n",
      "[[-1201.64628568  -982.77104138  -851.4458948 ]]\n"
     ]
    }
   ],
   "source": [
    "A2 = np.array([\n",
    "    [0.55, 0.3, 0.15],\n",
    "    [0.55, 0.3, 0.15],\n",
    "    [0.55, 0.3, 0.15]\n",
    "])\n",
    "\n",
    "print(A2)\n",
    "res2 = do_ensemble(A2)"
   ]
  }
 ],
 "metadata": {
  "kernelspec": {
   "display_name": "Python 3",
   "language": "python",
   "name": "python3"
  },
  "language_info": {
   "codemirror_mode": {
    "name": "ipython",
    "version": 3
   },
   "file_extension": ".py",
   "mimetype": "text/x-python",
   "name": "python",
   "nbconvert_exporter": "python",
   "pygments_lexer": "ipython3",
   "version": "3.8.8"
  },
  "widgets": {
   "application/vnd.jupyter.widget-state+json": {
    "state": {},
    "version_major": 2,
    "version_minor": 0
   }
  }
 },
 "nbformat": 4,
 "nbformat_minor": 5
}
