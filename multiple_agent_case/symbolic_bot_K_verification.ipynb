{
 "cells": [
  {
   "cell_type": "markdown",
   "id": "488acefc-8176-40f3-9b0c-77bace6877ae",
   "metadata": {},
   "source": [
    "# Verification of New Results for Bots Case: Symbolic Expansion\n",
    "#### Unified Model with Integrated Bot \n",
    "\n",
    "James Yu, 14 January 2023"
   ]
  },
  {
   "cell_type": "code",
   "execution_count": 1,
   "id": "2275c38c-984e-4e9d-ab13-52d80a352876",
   "metadata": {},
   "outputs": [],
   "source": [
    "from sympy import *"
   ]
  },
  {
   "cell_type": "code",
   "execution_count": 2,
   "id": "a48c69f2-ef4d-4164-97b2-8546956e68f3",
   "metadata": {},
   "outputs": [
    {
     "data": {
      "text/latex": [
       "$\\displaystyle \\mathbb{I}$"
      ],
      "text/plain": [
       "I"
      ]
     },
     "execution_count": 2,
     "metadata": {},
     "output_type": "execute_result"
    }
   ],
   "source": [
    "I = Identity(3)\n",
    "I"
   ]
  },
  {
   "cell_type": "code",
   "execution_count": 3,
   "id": "da5b563e-0a24-4188-96b2-6ed17b546627",
   "metadata": {},
   "outputs": [
    {
     "data": {
      "text/latex": [
       "$\\displaystyle \\left[\\begin{matrix}K_{1} & K_{2}\\\\K_{2}^{T} & K_{3}\\end{matrix}\\right]$"
      ],
      "text/plain": [
       "Matrix([\n",
       "[  K_1, K_2],\n",
       "[K_2.T, K_3]])"
      ]
     },
     "execution_count": 3,
     "metadata": {},
     "output_type": "execute_result"
    }
   ],
   "source": [
    "K1 = MatrixSymbol(\"K_1\", 3, 3)\n",
    "K2 = MatrixSymbol(\"K_2\", 3, 3)\n",
    "K3 = MatrixSymbol(\"K_3\", 3, 3)\n",
    "K = BlockMatrix([[K1, K2], [K2.T, K3]])\n",
    "K"
   ]
  },
  {
   "cell_type": "code",
   "execution_count": 4,
   "id": "61fcc66b-19fc-464a-8686-d7889ff90bc0",
   "metadata": {},
   "outputs": [
    {
     "data": {
      "text/latex": [
       "$\\displaystyle \\left[\\begin{matrix}An & Az\\\\\\mathbb{0} & \\mathbb{I}\\end{matrix}\\right]$"
      ],
      "text/plain": [
       "Matrix([\n",
       "[An, Az],\n",
       "[ 0,  I]])"
      ]
     },
     "execution_count": 4,
     "metadata": {},
     "output_type": "execute_result"
    }
   ],
   "source": [
    "An = MatrixSymbol(\"An\", 3, 3)\n",
    "Az = MatrixSymbol(\"Az\", 3, 3)\n",
    "O = ZeroMatrix(3, 3)\n",
    "A = BlockMatrix([[An, Az], [O, I]])\n",
    "A"
   ]
  },
  {
   "cell_type": "code",
   "execution_count": 5,
   "id": "bae74960-bcd2-420c-bf2d-a2107e373a3e",
   "metadata": {},
   "outputs": [
    {
     "data": {
      "text/latex": [
       "$\\displaystyle \\left[\\begin{matrix}\\mathbb{I} & \\mathbb{0}\\\\\\mathbb{0} & \\mathbb{I}\\end{matrix}\\right]$"
      ],
      "text/plain": [
       "Matrix([\n",
       "[I, 0],\n",
       "[0, I]])"
      ]
     },
     "execution_count": 5,
     "metadata": {},
     "output_type": "execute_result"
    }
   ],
   "source": [
    "I_block = BlockMatrix([[I, O], [O, I]])\n",
    "I_block"
   ]
  },
  {
   "cell_type": "code",
   "execution_count": 6,
   "id": "9589d31a-3f7c-453b-8650-895787067350",
   "metadata": {},
   "outputs": [],
   "source": [
    "delta, c = symbols(\"delta, c\")"
   ]
  },
  {
   "cell_type": "code",
   "execution_count": 7,
   "id": "c8e66b8c-8c66-4a90-9bf1-93ea3a425345",
   "metadata": {},
   "outputs": [
    {
     "data": {
      "text/latex": [
       "$\\displaystyle \\left[\\begin{matrix}- \\delta \\left(c \\mathbb{I} + \\delta K_{1}\\right)^{-1} K_{1} + \\mathbb{I} & - \\delta \\left(c \\mathbb{I} + \\delta K_{1}\\right)^{-1} K_{2}\\\\\\mathbb{0} & \\mathbb{I}\\end{matrix}\\right]$"
      ],
      "text/plain": [
       "Matrix([\n",
       "[(-delta)*(c*I + delta*K_1)**(-1)*K_1 + I, (-delta)*(c*I + delta*K_1)**(-1)*K_2],\n",
       "[                                       0,                                    I]])"
      ]
     },
     "execution_count": 7,
     "metadata": {},
     "output_type": "execute_result"
    }
   ],
   "source": [
    "simplified_term_PROTOTYPE = BlockMatrix([\n",
    "    [I - Inverse(delta*K1 + c*I) * delta * K1, -Inverse(delta*K1 + c*I)*delta*K2],\n",
    "    [O, I]\n",
    "])\n",
    "simplified_term_PROTOTYPE"
   ]
  },
  {
   "cell_type": "markdown",
   "id": "648fff4d-0af3-44ee-ab90-0ebc4c291849",
   "metadata": {},
   "source": [
    "To simplify subsequent calculations we can observe the following:\n",
    "\n",
    "$$\n",
    "-\\delta (cI + \\delta K_1)^{-1}K_1 + I = -(cI + \\delta K_1)^{-1}\\delta K_1 + I = -(cI + \\delta K_1)^{-1}\\delta K_1 + (cI + \\delta K_1)^{-1}(cI + \\delta K_1) = (cI + \\delta K_1)^{-1}(cI + \\delta K_1 - \\delta K_1) = c(cI + \\delta K_1)^{-1}\n",
    "$$"
   ]
  },
  {
   "cell_type": "code",
   "execution_count": 8,
   "id": "b679456e-0b12-4213-b15b-8cf640a971e9",
   "metadata": {},
   "outputs": [
    {
     "data": {
      "text/latex": [
       "$\\displaystyle \\left[\\begin{matrix}c \\left(c \\mathbb{I} + \\delta K_{1}\\right)^{-1} & - \\delta \\left(c \\mathbb{I} + \\delta K_{1}\\right)^{-1} K_{2}\\\\\\mathbb{0} & \\mathbb{I}\\end{matrix}\\right]$"
      ],
      "text/plain": [
       "Matrix([\n",
       "[c*(c*I + delta*K_1)**(-1), (-delta)*(c*I + delta*K_1)**(-1)*K_2],\n",
       "[                        0,                                    I]])"
      ]
     },
     "execution_count": 8,
     "metadata": {},
     "output_type": "execute_result"
    }
   ],
   "source": [
    "simplified_term = BlockMatrix([\n",
    "    [c * Inverse(delta*K1 + c*I), -Inverse(delta*K1 + c*I)*delta*K2],\n",
    "    [O, I]\n",
    "])\n",
    "simplified_term"
   ]
  },
  {
   "cell_type": "code",
   "execution_count": 9,
   "id": "392a6b95-ae8d-40b0-ad6e-c50dea1ae8ac",
   "metadata": {},
   "outputs": [
    {
     "data": {
      "text/latex": [
       "$\\displaystyle \\delta \\left[\\begin{matrix}An^{T} & \\mathbb{0}\\\\Az^{T} & \\mathbb{I}\\end{matrix}\\right] \\left[\\begin{matrix}K_{1} & K_{2}\\\\K_{2}^{T} & K_{3}\\end{matrix}\\right] \\left[\\begin{matrix}c \\left(c \\mathbb{I} + \\delta K_{1}\\right)^{-1} & - \\delta \\left(c \\mathbb{I} + \\delta K_{1}\\right)^{-1} K_{2}\\\\\\mathbb{0} & \\mathbb{I}\\end{matrix}\\right] \\left[\\begin{matrix}An & Az\\\\\\mathbb{0} & \\mathbb{I}\\end{matrix}\\right] + \\left[\\begin{matrix}\\mathbb{I} & \\mathbb{0}\\\\\\mathbb{0} & \\mathbb{I}\\end{matrix}\\right]$"
      ],
      "text/plain": [
       "delta*Matrix([\n",
       "[An.T, 0],\n",
       "[Az.T, I]])*Matrix([\n",
       "[  K_1, K_2],\n",
       "[K_2.T, K_3]])*Matrix([\n",
       "[c*(c*I + delta*K_1)**(-1), (-delta)*(c*I + delta*K_1)**(-1)*K_2],\n",
       "[                        0,                                    I]])*Matrix([\n",
       "[An, Az],\n",
       "[ 0,  I]]) + Matrix([\n",
       "[I, 0],\n",
       "[0, I]])"
      ]
     },
     "execution_count": 9,
     "metadata": {},
     "output_type": "execute_result"
    }
   ],
   "source": [
    "RHS = I_block + delta * A.T * K * simplified_term * A\n",
    "RHS"
   ]
  },
  {
   "cell_type": "code",
   "execution_count": 10,
   "id": "cced9e17-dcb0-4a02-8aac-6551453a77c2",
   "metadata": {
    "tags": []
   },
   "outputs": [
    {
     "data": {
      "text/latex": [
       "$\\displaystyle \\left[\\begin{matrix}c \\delta An^{T} K_{1} \\left(c \\mathbb{I} + \\delta K_{1}\\right)^{-1} An + \\mathbb{I} & \\delta \\left(c An^{T} K_{1} \\left(c \\mathbb{I} + \\delta K_{1}\\right)^{-1} Az - \\delta An^{T} K_{1} \\left(c \\mathbb{I} + \\delta K_{1}\\right)^{-1} K_{2} + An^{T} K_{2}\\right)\\\\c \\delta \\left(Az^{T} K_{1} + K_{2}^{T}\\right) \\left(c \\mathbb{I} + \\delta K_{1}\\right)^{-1} An & \\delta \\left(c \\left(Az^{T} K_{1} + K_{2}^{T}\\right) \\left(c \\mathbb{I} + \\delta K_{1}\\right)^{-1} Az - \\delta \\left(Az^{T} K_{1} + K_{2}^{T}\\right) \\left(c \\mathbb{I} + \\delta K_{1}\\right)^{-1} K_{2} + K_{3} + Az^{T} K_{2}\\right) + \\mathbb{I}\\end{matrix}\\right]$"
      ],
      "text/plain": [
       "Matrix([\n",
       "[      (c*delta)*An.T*K_1*(c*I + delta*K_1)**(-1)*An + I,                               delta*(c*An.T*K_1*(c*I + delta*K_1)**(-1)*Az + (-delta)*An.T*K_1*(c*I + delta*K_1)**(-1)*K_2 + An.T*K_2)],\n",
       "[(c*delta)*(Az.T*K_1 + K_2.T)*(c*I + delta*K_1)**(-1)*An, delta*(c*(Az.T*K_1 + K_2.T)*(c*I + delta*K_1)**(-1)*Az + (-delta)*(Az.T*K_1 + K_2.T)*(c*I + delta*K_1)**(-1)*K_2 + K_3 + Az.T*K_2) + I]])"
      ]
     },
     "execution_count": 10,
     "metadata": {},
     "output_type": "execute_result"
    }
   ],
   "source": [
    "block_collapse(RHS)"
   ]
  },
  {
   "cell_type": "markdown",
   "id": "940314bf-5568-4525-9a21-c5dea8a0139d",
   "metadata": {},
   "source": [
    "The above expression should be equivalent to:"
   ]
  },
  {
   "cell_type": "code",
   "execution_count": 11,
   "id": "14e9fadc-362f-4670-970c-52a895efc906",
   "metadata": {
    "tags": []
   },
   "outputs": [
    {
     "data": {
      "text/latex": [
       "$\\displaystyle \\left[\\begin{matrix}K_{1} & K_{2}\\\\K_{2}^{T} & K_{3}\\end{matrix}\\right]$"
      ],
      "text/plain": [
       "Matrix([\n",
       "[  K_1, K_2],\n",
       "[K_2.T, K_3]])"
      ]
     },
     "execution_count": 11,
     "metadata": {},
     "output_type": "execute_result"
    }
   ],
   "source": [
    "K"
   ]
  },
  {
   "cell_type": "markdown",
   "id": "e4bde575-cbaf-46b5-bd0c-1d9213cec5ca",
   "metadata": {},
   "source": [
    "The upper left equation is equation 6."
   ]
  },
  {
   "cell_type": "markdown",
   "id": "9242d278-32c7-4ea2-bd08-60f4edf83a96",
   "metadata": {},
   "source": [
    "If we take the transpose of the lower left expression, we get $K_2$ is equal to:"
   ]
  },
  {
   "cell_type": "code",
   "execution_count": 12,
   "id": "ad62e50f-82b5-4565-9ba7-6c0a862714be",
   "metadata": {
    "tags": []
   },
   "outputs": [
    {
     "data": {
      "text/latex": [
       "$\\displaystyle c \\delta An^{T} \\left(c \\mathbb{I} + \\delta K_{1}\\right)^{-1} \\left(K_{1} Az + K_{2}\\right)$"
      ],
      "text/plain": [
       "(c*delta)*An.T*(c*I + delta*K_1)**(-1)*(K_1*Az + K_2)"
      ]
     },
     "execution_count": 12,
     "metadata": {},
     "output_type": "execute_result"
    }
   ],
   "source": [
    "((c * delta * (Az.T * K1 + K2.T) * Inverse(c*I+delta*K1) * An).T).subs(K1.T, K1) # account for K1 is symmetric"
   ]
  },
  {
   "cell_type": "markdown",
   "id": "abd98a60-a752-4939-a2ff-2712bdd7a30b",
   "metadata": {},
   "source": [
    "Suppose we take instead the upper right expression of the block matrix:"
   ]
  },
  {
   "cell_type": "code",
   "execution_count": 13,
   "id": "794443c5-8c7e-473c-9d4a-0d16d4db7a60",
   "metadata": {
    "tags": []
   },
   "outputs": [
    {
     "data": {
      "text/latex": [
       "$\\displaystyle \\delta \\left(c An^{T} K_{1} \\left(c \\mathbb{I} + \\delta K_{1}\\right)^{-1} Az - \\delta An^{T} K_{1} \\left(c \\mathbb{I} + \\delta K_{1}\\right)^{-1} K_{2} + An^{T} K_{2}\\right)$"
      ],
      "text/plain": [
       "delta*(c*An.T*K_1*(c*I + delta*K_1)**(-1)*Az + (-delta)*An.T*K_1*(c*I + delta*K_1)**(-1)*K_2 + An.T*K_2)"
      ]
     },
     "execution_count": 13,
     "metadata": {},
     "output_type": "execute_result"
    }
   ],
   "source": [
    "delta * (c * An.T * K1 * Inverse(c*I + delta*K1)*Az - delta * An.T*K1 * Inverse(c*I + delta*K1)*K2 + An.T * K2)"
   ]
  },
  {
   "cell_type": "markdown",
   "id": "d0b67ccb-62ae-43b9-80f9-e2474b310a6d",
   "metadata": {},
   "source": [
    "Next we push $\\delta$ into the expression:"
   ]
  },
  {
   "cell_type": "code",
   "execution_count": 14,
   "id": "1072267a-699f-4399-be56-e3b3bf576ce0",
   "metadata": {},
   "outputs": [
    {
     "data": {
      "text/latex": [
       "$\\displaystyle \\delta An^{T} K_{2} - \\delta^{2} An^{T} K_{1} \\left(c \\mathbb{I} + \\delta K_{1}\\right)^{-1} K_{2} + c \\delta An^{T} K_{1} \\left(c \\mathbb{I} + \\delta K_{1}\\right)^{-1} Az$"
      ],
      "text/plain": [
       "delta*An.T*K_2 + (-delta**2)*An.T*K_1*(c*I + delta*K_1)**(-1)*K_2 + (c*delta)*An.T*K_1*(c*I + delta*K_1)**(-1)*Az"
      ]
     },
     "execution_count": 14,
     "metadata": {},
     "output_type": "execute_result"
    }
   ],
   "source": [
    "(-delta * An.T * (delta * K1) * Inverse(c * I + delta * K1) * K2 + An.T * (delta * K1) * (c * Inverse(c * I + delta * K1))*Az + An.T * (delta * K2))"
   ]
  },
  {
   "cell_type": "markdown",
   "id": "fc8261c6-864b-4134-b985-d1a262827c8f",
   "metadata": {},
   "source": [
    "Now we group like terms with respect to $K_2$:"
   ]
  },
  {
   "cell_type": "code",
   "execution_count": 15,
   "id": "b8cb230b-065d-42da-98f6-194b1ac0ef91",
   "metadata": {},
   "outputs": [
    {
     "data": {
      "text/latex": [
       "$\\displaystyle \\delta An^{T} \\left(- \\delta K_{1} \\left(c \\mathbb{I} + \\delta K_{1}\\right)^{-1} + \\mathbb{I}\\right) K_{2} + c \\delta An^{T} K_{1} \\left(c \\mathbb{I} + \\delta K_{1}\\right)^{-1} Az$"
      ],
      "text/plain": [
       "delta*An.T*((-delta)*K_1*(c*I + delta*K_1)**(-1) + I)*K_2 + (c*delta)*An.T*K_1*(c*I + delta*K_1)**(-1)*Az"
      ]
     },
     "execution_count": 15,
     "metadata": {},
     "output_type": "execute_result"
    }
   ],
   "source": [
    "delta * An.T * (I - (delta * K1) * Inverse(c * I + delta * K1)) * K2 + An.T * (delta * K1) * (c * Inverse(c * I + delta * K1))*Az"
   ]
  },
  {
   "cell_type": "markdown",
   "id": "1dece8f3-81e4-4319-b4d1-697115919267",
   "metadata": {},
   "source": [
    "If we stop here for a moment, we can recognize that this is very similar to equation 7 from the note."
   ]
  },
  {
   "cell_type": "markdown",
   "id": "03d1fc79-d82f-419b-8251-d12daa29344c",
   "metadata": {
    "tags": []
   },
   "source": [
    "$$\n",
    "An^T c\\delta K_1 (\\delta K_1 + cI)^{-1}Az + \\delta An^T K_1 (I -\\delta (\\delta K_1 + cI)^{-1}K_2)\n",
    "$$"
   ]
  },
  {
   "cell_type": "markdown",
   "id": "5250a7d2-9a96-45fa-a460-0a17725bc77a",
   "metadata": {},
   "source": [
    "As a matter of fact, the $Az$ term is identical. In the symbolic result, the remaining term expands out to:\n",
    "\n",
    "$$\n",
    "\\delta An^T K_2 - \\delta An^T \\delta K_1 (cI + \\delta K_1)^{-1} K_2\n",
    "$$\n",
    "\n",
    "In equation 7, the remaining term expands out to:\n",
    "\n",
    "$$\n",
    "\\delta An^T K_1 - \\delta An^T \\delta K_1 (cI + \\delta K_1)^{-1} K_2\n",
    "$$\n",
    "\n",
    "so the typo is in the first term of these expanded expressions where $K_1$ should instead be $K_2$. This translates to the expression from the symbolic solver."
   ]
  },
  {
   "cell_type": "markdown",
   "id": "c46b483e-177e-4059-a95f-5b6536526aba",
   "metadata": {},
   "source": [
    "We can actually keep going from here. If we apply the substitution from before again:"
   ]
  },
  {
   "cell_type": "code",
   "execution_count": 16,
   "id": "23877933-aa27-4664-bb9c-a6ab3862da93",
   "metadata": {},
   "outputs": [
    {
     "data": {
      "text/latex": [
       "$\\displaystyle c \\delta An^{T} \\left(c \\mathbb{I} + \\delta K_{1}\\right)^{-1} K_{2} + c \\delta An^{T} K_{1} \\left(c \\mathbb{I} + \\delta K_{1}\\right)^{-1} Az$"
      ],
      "text/plain": [
       "(c*delta)*An.T*(c*I + delta*K_1)**(-1)*K_2 + (c*delta)*An.T*K_1*(c*I + delta*K_1)**(-1)*Az"
      ]
     },
     "execution_count": 16,
     "metadata": {},
     "output_type": "execute_result"
    }
   ],
   "source": [
    "delta * An.T * (c * Inverse(c * I + delta * K1)) * K2 + An.T * (delta * K1) * (c * Inverse(c * I + delta * K1))*Az"
   ]
  },
  {
   "cell_type": "markdown",
   "id": "e6ef19b3-400c-4aa9-b076-10e154a39071",
   "metadata": {},
   "source": [
    "Finally, we do the following operation sequence:\n",
    "\n",
    "$$\n",
    "K_1 (cI + \\delta K_1)^{-1} = \\frac{1}{\\delta}I - \\frac{1}{\\delta}I + \\frac{\\delta}{\\delta}K_1 (cI + \\delta K_1)^{-1}\\\\\n",
    "= \\frac{1}{\\delta}[I-I + \\delta K_1 (cI + \\delta K_1)^{-1}]\\\\\n",
    "= \\frac{1}{\\delta}[I- (cI + \\delta K_1)(cI + \\delta K_1)^{-1} + \\delta K_1 (cI + \\delta K_1)^{-1}]\\\\\n",
    "= \\frac{1}{\\delta}[I- (cI + \\delta K_1 - \\delta K_1)(cI + \\delta K_1)^{-1}]\\\\\n",
    "= \\frac{1}{\\delta}[I- cI(cI + \\delta K_1)^{-1}]\\\\\n",
    "= \\frac{1}{\\delta}[I- (cI + \\delta K_1)^{-1}cI]\\\\\n",
    "= \\frac{1}{\\delta}[(cI + \\delta K_1)^{-1}(cI + \\delta K_1)- (cI + \\delta K_1)^{-1}cI]\\\\\n",
    "= \\frac{1}{\\delta}[(cI + \\delta K_1)^{-1}(cI + \\delta K_1 - cI)]\\\\\n",
    "= \\frac{1}{\\delta}[(cI + \\delta K_1)^{-1}\\delta K_1]\\\\\n",
    "= (cI + \\delta K_1)^{-1}K_1\\\\\n",
    "$$\n",
    "\n",
    "which if we substitute into the above yields:"
   ]
  },
  {
   "cell_type": "code",
   "execution_count": 17,
   "id": "826c4686-1983-489a-b38d-ba45c53c4e05",
   "metadata": {},
   "outputs": [
    {
     "data": {
      "text/latex": [
       "$\\displaystyle c \\delta An^{T} \\left(c \\mathbb{I} + \\delta K_{1}\\right)^{-1} K_{1} Az + c \\delta An^{T} \\left(c \\mathbb{I} + \\delta K_{1}\\right)^{-1} K_{2}$"
      ],
      "text/plain": [
       "(c*delta)*An.T*(c*I + delta*K_1)**(-1)*K_1*Az + (c*delta)*An.T*(c*I + delta*K_1)**(-1)*K_2"
      ]
     },
     "execution_count": 17,
     "metadata": {},
     "output_type": "execute_result"
    }
   ],
   "source": [
    "delta * An.T * (c * Inverse(c * I + delta * K1)) * K2 + An.T * (c * Inverse(c * I + delta * K1))* (delta * K1) *Az"
   ]
  },
  {
   "cell_type": "markdown",
   "id": "03a2108f-784c-446b-9da1-727a1dda90d8",
   "metadata": {},
   "source": [
    "which simplifies to:"
   ]
  },
  {
   "cell_type": "code",
   "execution_count": 18,
   "id": "cd076068-ccaa-4bb2-9c01-00217cf1b246",
   "metadata": {},
   "outputs": [
    {
     "data": {
      "text/latex": [
       "$\\displaystyle c \\delta An^{T} \\left(c \\mathbb{I} + \\delta K_{1}\\right)^{-1} \\left(K_{1} Az + K_{2}\\right)$"
      ],
      "text/plain": [
       "(c*delta)*An.T*(c*I + delta*K_1)**(-1)*(K_1*Az + K_2)"
      ]
     },
     "execution_count": 18,
     "metadata": {},
     "output_type": "execute_result"
    }
   ],
   "source": [
    "c * delta * An.T * Inverse(c * I + delta * K1) * (K2 + K1*Az)"
   ]
  },
  {
   "cell_type": "markdown",
   "id": "474f3505-a232-445c-93d9-9e2fc970f8ff",
   "metadata": {
    "tags": []
   },
   "source": [
    "which is, again, the transpose of the lower left entry of the symbolic block matrix, implying that the symbolic block matrix is correctly symmetric."
   ]
  },
  {
   "cell_type": "markdown",
   "id": "e2fefcae-ad3a-4029-9725-569e3245a1c9",
   "metadata": {},
   "source": [
    "We can also validate the limit opinion expression:"
   ]
  },
  {
   "cell_type": "code",
   "execution_count": 19,
   "id": "8c0b2ed5-cacb-4874-bb6b-c9c78b2b8b62",
   "metadata": {},
   "outputs": [
    {
     "data": {
      "text/latex": [
       "$\\displaystyle \\left[\\begin{matrix}c \\left(c \\mathbb{I} + \\delta K_{1}\\right)^{-1} An & c \\left(c \\mathbb{I} + \\delta K_{1}\\right)^{-1} Az - \\delta \\left(c \\mathbb{I} + \\delta K_{1}\\right)^{-1} K_{2}\\\\\\mathbb{0} & \\mathbb{I}\\end{matrix}\\right]$"
      ],
      "text/plain": [
       "Matrix([\n",
       "[c*(c*I + delta*K_1)**(-1)*An, c*(c*I + delta*K_1)**(-1)*Az + (-delta)*(c*I + delta*K_1)**(-1)*K_2],\n",
       "[                           0,                                                                   I]])"
      ]
     },
     "execution_count": 19,
     "metadata": {},
     "output_type": "execute_result"
    }
   ],
   "source": [
    "block_collapse(simplified_term * A)"
   ]
  },
  {
   "cell_type": "code",
   "execution_count": 20,
   "id": "98777971-f331-4b71-b6c7-af0a8fdfc34a",
   "metadata": {},
   "outputs": [
    {
     "data": {
      "text/latex": [
       "$\\displaystyle \\left[\\begin{matrix}x\\\\z\\end{matrix}\\right]$"
      ],
      "text/plain": [
       "Matrix([\n",
       "[x],\n",
       "[z]])"
      ]
     },
     "execution_count": 20,
     "metadata": {},
     "output_type": "execute_result"
    }
   ],
   "source": [
    "chi = BlockMatrix([\n",
    "    [MatrixSymbol(\"x\", 3, 1),],\n",
    "    [MatrixSymbol(\"z\", 3, 1),]\n",
    "])\n",
    "chi"
   ]
  },
  {
   "cell_type": "code",
   "execution_count": 21,
   "id": "f4f10ffe-b33a-42b7-b7c6-b673f0cbbed7",
   "metadata": {},
   "outputs": [
    {
     "data": {
      "text/latex": [
       "$\\displaystyle \\left[\\begin{matrix}c \\left(c \\mathbb{I} + \\delta K_{1}\\right)^{-1} An & c \\left(c \\mathbb{I} + \\delta K_{1}\\right)^{-1} Az - \\delta \\left(c \\mathbb{I} + \\delta K_{1}\\right)^{-1} K_{2}\\\\\\mathbb{0} & \\mathbb{I}\\end{matrix}\\right]$"
      ],
      "text/plain": [
       "Matrix([\n",
       "[c*(c*I + delta*K_1)**(-1)*An, c*(c*I + delta*K_1)**(-1)*Az + (-delta)*(c*I + delta*K_1)**(-1)*K_2],\n",
       "[                           0,                                                                   I]])"
      ]
     },
     "execution_count": 21,
     "metadata": {},
     "output_type": "execute_result"
    }
   ],
   "source": [
    "block_collapse(simplified_term * A)"
   ]
  },
  {
   "cell_type": "code",
   "execution_count": 22,
   "id": "e3498861-d261-46fa-99f4-e4ed9681a30a",
   "metadata": {},
   "outputs": [
    {
     "data": {
      "text/latex": [
       "$\\displaystyle \\left[\\begin{matrix}\\left(c \\left(c \\mathbb{I} + \\delta K_{1}\\right)^{-1} An\\right)^{2} & c \\left(c \\mathbb{I} + \\delta K_{1}\\right)^{-1} An \\left(c \\left(c \\mathbb{I} + \\delta K_{1}\\right)^{-1} Az - \\delta \\left(c \\mathbb{I} + \\delta K_{1}\\right)^{-1} K_{2}\\right) + c \\left(c \\mathbb{I} + \\delta K_{1}\\right)^{-1} Az - \\delta \\left(c \\mathbb{I} + \\delta K_{1}\\right)^{-1} K_{2}\\\\\\mathbb{0} & \\mathbb{I}\\end{matrix}\\right]$"
      ],
      "text/plain": [
       "Matrix([\n",
       "[(c*(c*I + delta*K_1)**(-1)*An)**2, c*(c*I + delta*K_1)**(-1)*An*(c*(c*I + delta*K_1)**(-1)*Az + (-delta)*(c*I + delta*K_1)**(-1)*K_2) + c*(c*I + delta*K_1)**(-1)*Az + (-delta)*(c*I + delta*K_1)**(-1)*K_2],\n",
       "[                                0,                                                                                                                                                                        I]])"
      ]
     },
     "execution_count": 22,
     "metadata": {},
     "output_type": "execute_result"
    }
   ],
   "source": [
    "block_collapse((simplified_term * A)**2)"
   ]
  },
  {
   "cell_type": "code",
   "execution_count": 23,
   "id": "60bee747-bd6d-4015-9e5f-bb21d527a180",
   "metadata": {},
   "outputs": [
    {
     "data": {
      "text/latex": [
       "$\\displaystyle \\left[\\begin{matrix}\\left(c \\left(c \\mathbb{I} + \\delta K_{1}\\right)^{-1} An\\right)^{3} & c \\left(c \\mathbb{I} + \\delta K_{1}\\right)^{-1} An \\left(c \\left(c \\mathbb{I} + \\delta K_{1}\\right)^{-1} Az - \\delta \\left(c \\mathbb{I} + \\delta K_{1}\\right)^{-1} K_{2}\\right) + c \\left(c \\mathbb{I} + \\delta K_{1}\\right)^{-1} Az - \\delta \\left(c \\mathbb{I} + \\delta K_{1}\\right)^{-1} K_{2} + \\left(c \\left(c \\mathbb{I} + \\delta K_{1}\\right)^{-1} An\\right)^{2} \\left(c \\left(c \\mathbb{I} + \\delta K_{1}\\right)^{-1} Az - \\delta \\left(c \\mathbb{I} + \\delta K_{1}\\right)^{-1} K_{2}\\right)\\\\\\mathbb{0} & \\mathbb{I}\\end{matrix}\\right]$"
      ],
      "text/plain": [
       "Matrix([\n",
       "[(c*(c*I + delta*K_1)**(-1)*An)**3, c*(c*I + delta*K_1)**(-1)*An*(c*(c*I + delta*K_1)**(-1)*Az + (-delta)*(c*I + delta*K_1)**(-1)*K_2) + c*(c*I + delta*K_1)**(-1)*Az + (-delta)*(c*I + delta*K_1)**(-1)*K_2 + (c*(c*I + delta*K_1)**(-1)*An)**2*(c*(c*I + delta*K_1)**(-1)*Az + (-delta)*(c*I + delta*K_1)**(-1)*K_2)],\n",
       "[                                0,                                                                                                                                                                                                                                                                                  I]])"
      ]
     },
     "execution_count": 23,
     "metadata": {},
     "output_type": "execute_result"
    }
   ],
   "source": [
    "block_collapse((simplified_term * A)**3)"
   ]
  },
  {
   "cell_type": "markdown",
   "id": "8e299378-7535-47e2-8014-139b7576bbb9",
   "metadata": {
    "tags": []
   },
   "source": [
    "From here we can see in the limit we would get the limit expression from the note and subsequently the product of matrix inverses law can be used to get the final expression."
   ]
  }
 ],
 "metadata": {
  "kernelspec": {
   "display_name": "Python 3",
   "language": "python",
   "name": "python3"
  },
  "language_info": {
   "codemirror_mode": {
    "name": "ipython",
    "version": 3
   },
   "file_extension": ".py",
   "mimetype": "text/x-python",
   "name": "python",
   "nbconvert_exporter": "python",
   "pygments_lexer": "ipython3",
   "version": "3.8.8"
  },
  "widgets": {
   "application/vnd.jupyter.widget-state+json": {
    "state": {},
    "version_major": 2,
    "version_minor": 0
   }
  }
 },
 "nbformat": 4,
 "nbformat_minor": 5
}
