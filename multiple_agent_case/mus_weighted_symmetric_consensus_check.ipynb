{
 "cells": [
  {
   "cell_type": "markdown",
   "id": "parallel-physics",
   "metadata": {},
   "source": [
    "# Limit Opinion Consensus Check for Symmetric Case\n",
    "\n",
    "#### Unified Model with Multiple Strategic Agents\n",
    "#### Strategic Agent-Specific Message Weights\n",
    "\n",
    "James Yu, 20 January 2023"
   ]
  },
  {
   "cell_type": "code",
   "execution_count": 1,
   "id": "authorized-melissa",
   "metadata": {
    "tags": []
   },
   "outputs": [],
   "source": [
    "from collections import defaultdict\n",
    "import matplotlib.pyplot as plt\n",
    "import numpy as np"
   ]
  },
  {
   "cell_type": "code",
   "execution_count": 2,
   "id": "precise-trick",
   "metadata": {
    "tags": []
   },
   "outputs": [],
   "source": [
    "def M(K, B, R, L, delta):\n",
    "    \"\"\"Computes M_{t-1} given B_l \\forall l, K_t^l \\forall l, \n",
    "        R_l \\forall l, number of strategic agents L, and delta.\"\"\"\n",
    "    # handle the generic structure first, with the correct pairings:\n",
    "    base = [[B[l_prime].T @ K[l_prime] @ B[l] for l in range(L)] for l_prime in range(L)]\n",
    "    # then change the diagonals to construct M_{t-1}:\n",
    "    for l in range(L): base[l][l] = B[l].T @ K[l] @ B[l] + R[l]/delta\n",
    "    return np.block(base)\n",
    "\n",
    "def H(B, K, A, L):\n",
    "    \"\"\"Computes H_{t-1} given B_l \\forall l, K_t^l \\forall l, \n",
    "        A, and number of strategic agents L.\"\"\"\n",
    "    return np.concatenate(tuple(B[l].T @ K[l] @ A for l in range(L)), axis = 0)\n",
    "\n",
    "def C_l(A, B, K, k, h, L, c, x, n):\n",
    "    \"\"\"Computes C_{t-1}^h (displayed as C_{t-1}^l) given A, B_l \\forall l, K_t^l \\forall l, \n",
    "        k_t^l \\forall l, a specific naive agent h, number of strategic agents L, \n",
    "        c_l \\forall l, x_l \\forall l, and number of naive agents n\"\"\"\n",
    "    return np.concatenate(tuple(B[l].T @ K[l] @ A @ ((x[h] - x[l]) * np.ones((n, 1))) \n",
    "                           + B[l].T @ K[l] @ c[l] \n",
    "                           + 0.5 * B[l].T @ k[l].T for l in range(L)), axis = 0)\n",
    "\n",
    "def E(M_, H_):\n",
    "    \"\"\"Computes the generic E_{t-1} given M_{t-1} and H_{t-1}.\"\"\"\n",
    "    return np.linalg.inv(M_) @ H_\n",
    "\n",
    "def F(M_, C_l_, l, n):\n",
    "    \"\"\"Computes F_{t-1}^l given M_{t-1}, C_{t-1}^l, \n",
    "       specific naive agent l and number of naive agents n.\"\"\"\n",
    "    return (np.linalg.inv(M_) @ C_l_)[l*n:(l+1)*n, :] # e.g. l = 0 gives ln = 0, l = 1 gives ln = n, etc\n",
    "\n",
    "def G(A, B, E_, L, n):\n",
    "    \"\"\"Computes the generic G_{t-1} given A, B_l \\forall l, \n",
    "        E_{t-1}, number of strategic agents L, and number of naive agents n.\"\"\"\n",
    "    return A - sum([B[l] @ E_[l*n:(l+1)*n, :] for l in range(L)])\n",
    "    \n",
    "def g_l(B, E_, h, x, F_, L, n, c):\n",
    "    \"\"\"Computes g_{t-1}^l given B_l \\forall l, E_{t-1}^l, \n",
    "        a particular naive agent h, x_l \\forall l, F_{t-1}^l \\forall l, \n",
    "        number of strategic agents L, number of naive agents n, and c_h.\"\"\"\n",
    "    return - sum([B[l] @ (E_[l*n:(l+1)*n, :] @ ((x[h] - x[l]) * np.ones((n, 1))) + F_[l]) for l in range(L)]) + c[h]"
   ]
  },
  {
   "cell_type": "code",
   "execution_count": 3,
   "id": "forced-trunk",
   "metadata": {},
   "outputs": [],
   "source": [
    "def K_t_minus_1(Q, K, E_, R, G_, L, delta, n):\n",
    "    return [Q[l] + E_[l*n:(l+1)*n, :].T @ R[l] @ E_[l*n:(l+1)*n, :] \n",
    "            + delta * G_.T @ K[l] @ G_ for l in range(L)]\n",
    "\n",
    "def k_t_minus_1(K, k, G_, g, E_, F_, R, L, delta, n):\n",
    "    return [2*delta* g[l].T @ K[l] @ G_ + delta * k[l] @ G_ \n",
    "            + 2 * F_[l].T @ R[l] @ E_[l*n:(l+1)*n, :] for l in range(L)]\n",
    "\n",
    "def kappa_t_minus_1(K, k, kappa, g_, F_, R, L, delta):            \n",
    "    return [-delta * (g_[l].T @ K[l] @ g_[l] + k[l] @ g_[l] - kappa[l]) \n",
    "            - (F_[l].T @ R[l] @ F_[l]) for l in range(L)]"
   ]
  },
  {
   "cell_type": "code",
   "execution_count": 4,
   "id": "pleased-criterion",
   "metadata": {
    "tags": []
   },
   "outputs": [],
   "source": [
    "def should_terminate(bundles, eps):\n",
    "    return all([np.allclose(b[0], b[1], rtol = eps, atol = eps) for b in bundles])\n",
    "\n",
    "def solve(K_t, k_t, kappa_t, A, B, delta, n, L, Q, R, x, c, tol):\n",
    "    historical_K = [K_t]\n",
    "    historical_k = [k_t]\n",
    "    historical_kappa = [kappa_t]\n",
    "    eps = np.sqrt(np.finfo(np.float64).eps)\n",
    "    while True:\n",
    "        M_ = M(K_t, B, R, L, delta)\n",
    "        H_ = H(B, K_t, A, L)\n",
    "        E_ = E(M_, H_)\n",
    "        G_ = G(A, B, E_, L, n)\n",
    "        K_new = K_t_minus_1(Q, K_t, E_, R, G_, L, delta, n)\n",
    "        F_ = [F(M_, C_l(A, B, K_t, k_t, l, L, c, x, n), l, n) for l in range(L)]\n",
    "        g = [g_l(B, E_, h, x, F_, L, n, c) for h in range(L)]\n",
    "        k_new = k_t_minus_1(K_t, k_t, G_, g, E_, F_, R, L, delta, n)\n",
    "        kappa_new = kappa_t_minus_1(K_t, k_t, kappa_t, g, F_, R, L, delta)\n",
    "        historical_K.insert(0, K_new)\n",
    "        historical_k.insert(0, k_new)\n",
    "        historical_kappa.insert(0, kappa_new)\n",
    "        if should_terminate([(K_t, K_new), (k_t, k_new), (kappa_t, kappa_new)], eps):\n",
    "            return historical_K[0], historical_k[0], historical_kappa[0]\n",
    "        K_t = K_new\n",
    "        k_t = k_new\n",
    "        kappa_t = kappa_new"
   ]
  },
  {
   "cell_type": "code",
   "execution_count": 5,
   "id": "unlimited-jamaica",
   "metadata": {},
   "outputs": [],
   "source": [
    "def optimal(X_init, K_ss, k_ss, A, B, delta, n, L, Q, R, x, c, eps):\n",
    "    X_t = [a.copy() for a in X_init]\n",
    "    xs = defaultdict(list)\n",
    "    for l in range(L):\n",
    "        xs[l].append(X_t[l])\n",
    "        \n",
    "    rs = defaultdict(list)\n",
    "    payoffs = defaultdict(list)\n",
    "    payoff = defaultdict(int)\n",
    "    \n",
    "    M_ = M(K_ss, B, R, L, delta)\n",
    "    H_ = H(B, K_ss, A, L)\n",
    "    E_ = E(M_, H_)\n",
    "    G_ = G(A, B, E_, L, n)\n",
    "    F_ = [F(M_, C_l(A, B, K_ss, k_ss, l, L, c, x, n), l, n) for l in range(L)]\n",
    "    g = [g_l(B, E_, h, x, F_, L, n, c) for h in range(L)]\n",
    "    \n",
    "    i = 0\n",
    "    while True:\n",
    "        for l in range(L):\n",
    "            # TODO: special code for finite horizon needs a terminal time T term\n",
    "            Y_new = -1 * E_[l*n:(l+1)*n, :] @ X_t[l] - F(M_, C_l(A, B, K_ss, k_ss, l, L, c, x, n), l, n)\n",
    "            rs[l].append(Y_new)\n",
    "            payoff[l] += (-1 * delta**i * (X_t[l].T @ Q[l] @ X_t[l])).item() + (-1 * delta**i * (Y_new.T @ R[l] @ Y_new)).item()\n",
    "            payoffs[l].append(payoff[l])\n",
    "            X_new = G_ @ X_t[l] + g[l]\n",
    "            xs[l].append(X_new)\n",
    "            if l == L - 1 and np.allclose(X_t[l], X_new, rtol = eps, atol = eps):\n",
    "                return xs, rs, payoffs\n",
    "            X_t[l] = X_new \n",
    "        i += 1\n",
    "        \n",
    "    return xs, rs, payoffs"
   ]
  },
  {
   "cell_type": "code",
   "execution_count": 6,
   "id": "synthetic-promotion",
   "metadata": {},
   "outputs": [],
   "source": [
    "def run_simulation(b1, b2, a1, a2, delta = 0.9, c = 200, X_0_1 = np.array([[10.0, -5.0, 5.0]], ndmin = 2).T, symmetric = True, print_ = True, tol = np.sqrt(np.finfo(np.float64).eps)):\n",
    "    if symmetric:\n",
    "        A = np.array([ # stubborn\n",
    "            [0.9, 0.07, 0.03],\n",
    "            [0.07, 0.58, 0.35],\n",
    "            [0.03, 0.35, 0.62]\n",
    "        ])\n",
    "        if print_: print(\"SYMMETRIC NETWORK\")\n",
    "    else:\n",
    "        raise Exception(\"asymmetric network not allowed\")\n",
    "    X_0 = [X_0_1 - b1, X_0_1 - b2]\n",
    "    n = 3 # number of naive agents\n",
    "    L = 2 # number of strategic agents\n",
    "    Q = [np.identity(n), np.identity(n)] # objective function for messages is just X'IX = X'X\n",
    "    R = [c * np.identity(n), c * np.identity(n)] # message cost R = cI_n for some c under the new notation\n",
    "    B = [a1 * np.identity(n), a2 * np.identity(n)] # B^l = a_l I_n\n",
    "    x = [b1, b2] # agendas\n",
    "    r = [0, 0] # message cost minimality is centered around zero\n",
    "    c_base = sum([B[l] @ (r[l] * np.ones((n, 1))) for l in range(L)])\n",
    "    c = [c_base + (A - np.identity(n)) @ (x[l] * np.ones((n, 1))) for l in range(L)] # normalization vector\n",
    "    \n",
    "    K_ss, k_ss, kappa_ss = solve(Q, [np.zeros((1, n)), np.zeros((1, n))], [0, 0], A, B, delta, n, L, Q, R, x, c, tol)\n",
    "    xs, rs, payoffs = optimal(X_0, K_ss, k_ss, A, B, delta, n, L, Q, R, x, c, tol)\n",
    "    if print_:\n",
    "        print(\"Steady-State Opinions:\")\n",
    "        print(xs[0][-1] + b1)\n",
    "        print(\"Average of agendas:\")\n",
    "        print((b1+b2)/2)\n",
    "        print()\n",
    "        print(\"K^* (1, 2):\")\n",
    "        print(K_ss[0])\n",
    "        print(K_ss[1])\n",
    "        print()\n",
    "        print(\"k^* (1, 2):\")\n",
    "        print(k_ss[0])\n",
    "        print(k_ss[1])\n",
    "        print()\n",
    "        print(\"kappa^* (1, 2):\")\n",
    "        print(kappa_ss[0])\n",
    "        print(kappa_ss[1])\n",
    "    if print_ == False:\n",
    "        return xs[0][-1] + b1"
   ]
  },
  {
   "cell_type": "code",
   "execution_count": 7,
   "id": "11af8cd7-66b8-48ed-bb75-94051f3b7136",
   "metadata": {},
   "outputs": [
    {
     "name": "stdout",
     "output_type": "stream",
     "text": [
      "SYMMETRIC NETWORK\n",
      "Steady-State Opinions:\n",
      "[[2.7302074e-07]\n",
      " [2.7302074e-07]\n",
      " [2.7302074e-07]]\n",
      "Average of agendas:\n",
      "0.0\n",
      "\n",
      "K^* (1, 2):\n",
      "[[3.78777258 1.1435288  1.03448857]\n",
      " [1.1435288  2.91545075 1.9068104 ]\n",
      " [1.03448857 1.9068104  3.02449098]]\n",
      "[[3.78777258 1.1435288  1.03448857]\n",
      " [1.1435288  2.91545075 1.9068104 ]\n",
      " [1.03448857 1.9068104  3.02449098]]\n",
      "\n",
      "k^* (1, 2):\n",
      "[[0. 0. 0.]]\n",
      "[[0. 0. 0.]]\n",
      "\n",
      "kappa^* (1, 2):\n",
      "[[-0.]]\n",
      "[[-0.]]\n"
     ]
    }
   ],
   "source": [
    "run_simulation(0, 0, 1, 1) #b1, b2 agendas, followed by alpha_1, alpha_2 weights"
   ]
  },
  {
   "cell_type": "code",
   "execution_count": 8,
   "id": "59105333-e478-45cd-9664-0d7a895cff77",
   "metadata": {},
   "outputs": [
    {
     "name": "stdout",
     "output_type": "stream",
     "text": [
      "SYMMETRIC NETWORK\n",
      "Steady-State Opinions:\n",
      "[[11625.87638798]\n",
      " [11625.87638726]\n",
      " [11625.87638774]]\n",
      "Average of agendas:\n",
      "505000.0\n",
      "\n",
      "K^* (1, 2):\n",
      "[[1.00000634e+00 8.87061121e-07 5.44986774e-07]\n",
      " [8.87061121e-07 1.00000361e+00 3.28158155e-06]\n",
      " [5.44986774e-07 3.28158155e-06 1.00000395e+00]]\n",
      "[[1.00000009e+00 1.27811501e-08 7.85234212e-09]\n",
      " [1.27811501e-08 1.00000005e+00 4.72828058e-08]\n",
      " [7.85234212e-09 4.72828058e-08 1.00000006e+00]]\n",
      "\n",
      "k^* (1, 2):\n",
      "[[25581.99915085 25581.99915086 25581.99915086]]\n",
      "[[-25597.17070242 -25597.1707023  -25597.17070168]]\n",
      "\n",
      "kappa^* (1, 2):\n",
      "[[-6.3133415e+14]]\n",
      "[[-4.38689529e+16]]\n"
     ]
    }
   ],
   "source": [
    "run_simulation(10000, 1000000, 5000, 600)"
   ]
  },
  {
   "cell_type": "code",
   "execution_count": 9,
   "id": "d8a483ee-17a0-42d9-9f3f-c2c4f9e0eec1",
   "metadata": {},
   "outputs": [
    {
     "name": "stdout",
     "output_type": "stream",
     "text": [
      "SYMMETRIC NETWORK\n",
      "Steady-State Opinions:\n",
      "[[3.29858496]\n",
      " [3.29858496]\n",
      " [3.29858496]]\n",
      "Average of agendas:\n",
      "2.5\n",
      "\n",
      "K^* (1, 2):\n",
      "[[1.00054838e+00 7.66793942e-05 4.71020401e-05]\n",
      " [7.66793942e-05 1.00031176e+00 2.83720873e-04]\n",
      " [4.71020401e-05 2.83720873e-04 1.00034134e+00]]\n",
      "[[1.00078899e+00 1.10369149e-04 6.78155985e-05]\n",
      " [1.10369149e-04 1.00044856e+00 4.08244004e-04]\n",
      " [6.78155985e-05 4.08244004e-04 1.00049112e+00]]\n",
      "\n",
      "k^* (1, 2):\n",
      "[[3.86599532 3.86599532 3.86599532]]\n",
      "[[-3.86304519 -3.86304519 -3.86304519]]\n",
      "\n",
      "kappa^* (1, 2):\n",
      "[[-166665.88961279]]\n",
      "[[-115621.20489165]]\n"
     ]
    }
   ],
   "source": [
    "run_simulation(0, 5, 0.5, 0.6, c = 0.001)"
   ]
  },
  {
   "cell_type": "code",
   "execution_count": 10,
   "id": "029c56f7-9939-4fee-bb4a-be4188fd62a1",
   "metadata": {},
   "outputs": [
    {
     "name": "stdout",
     "output_type": "stream",
     "text": [
      "SYMMETRIC NETWORK\n",
      "Steady-State Opinions:\n",
      "[[32985849.61916232]\n",
      " [32985849.61915815]\n",
      " [32985849.61915527]]\n",
      "Average of agendas:\n",
      "25000000.0\n",
      "\n",
      "K^* (1, 2):\n",
      "[[1.00054838e+00 7.66793942e-05 4.71020401e-05]\n",
      " [7.66793942e-05 1.00031176e+00 2.83720873e-04]\n",
      " [4.71020401e-05 2.83720873e-04 1.00034134e+00]]\n",
      "[[1.00078899e+00 1.10369149e-04 6.78155985e-05]\n",
      " [1.10369149e-04 1.00044856e+00 4.08244004e-04]\n",
      " [6.78155985e-05 4.08244004e-04 1.00049112e+00]]\n",
      "\n",
      "k^* (1, 2):\n",
      "[[38659953.1800124  38659953.18001056 38659953.18001081]]\n",
      "[[-38630451.8761257  -38630451.87612632 -38630451.87612429]]\n",
      "\n",
      "kappa^* (1, 2):\n",
      "[[-1.6666589e+19]]\n",
      "[[-1.15621205e+19]]\n"
     ]
    }
   ],
   "source": [
    "run_simulation(0, 50000000, 0.5, 0.6, c = 0.001)"
   ]
  },
  {
   "cell_type": "code",
   "execution_count": 11,
   "id": "c2a70cfa-c634-4e56-b780-8ff345aa5c13",
   "metadata": {},
   "outputs": [
    {
     "name": "stdout",
     "output_type": "stream",
     "text": [
      "SYMMETRIC NETWORK\n",
      "Steady-State Opinions:\n",
      "[[29912158.04595353]\n",
      " [29912158.04595353]\n",
      " [29912158.04595353]]\n",
      "Average of agendas:\n",
      "25000000.0\n",
      "\n",
      "K^* (1, 2):\n",
      "[[4.4403969  1.68498693 1.56834678]\n",
      " [1.68498693 3.5072757  2.50146797]\n",
      " [1.56834678 2.50146797 3.62391585]]\n",
      "[[4.51804633 1.75568218 1.63856629]\n",
      " [1.75568218 3.58111925 2.57549338]\n",
      " [1.63856629 2.57549338 3.69823513]]\n",
      "\n",
      "k^* (1, 2):\n",
      "[[77263792.38263299 77263792.38263297 77263792.38263297]]\n",
      "[[-55407371.95950853 -55407371.95950856 -55407371.95950855]]\n",
      "\n",
      "kappa^* (1, 2):\n",
      "[[-1.45131421e+15]]\n",
      "[[-7.11990399e+14]]\n"
     ]
    }
   ],
   "source": [
    "run_simulation(0, 50000000, 0.5, 0.6)"
   ]
  },
  {
   "cell_type": "code",
   "execution_count": 12,
   "id": "7a3f7fcc-4dc4-42f2-84c4-00966dad1fdf",
   "metadata": {},
   "outputs": [
    {
     "name": "stdout",
     "output_type": "stream",
     "text": [
      "SYMMETRIC NETWORK\n",
      "Steady-State Opinions:\n",
      "[[-3.50707519]\n",
      " [-3.50707519]\n",
      " [-3.50707519]]\n",
      "Average of agendas:\n",
      "-7.5\n",
      "\n",
      "K^* (1, 2):\n",
      "[[1.00054838e+00 7.66793942e-05 4.71020401e-05]\n",
      " [7.66793942e-05 1.00031176e+00 2.83720873e-04]\n",
      " [4.71020401e-05 2.83720873e-04 1.00034134e+00]]\n",
      "[[1.00078899e+00 1.10369149e-04 6.78155985e-05]\n",
      " [1.10369149e-04 1.00044856e+00 4.08244004e-04]\n",
      " [6.78155985e-05 4.08244004e-04 1.00049112e+00]]\n",
      "\n",
      "k^* (1, 2):\n",
      "[[19.32997659 19.32997659 19.32997659]]\n",
      "[[-19.31522594 -19.31522594 -19.31522594]]\n",
      "\n",
      "kappa^* (1, 2):\n",
      "[[-4166647.2403197]]\n",
      "[[-2890530.12229136]]\n"
     ]
    }
   ],
   "source": [
    "run_simulation(-20, 5, 0.5, 0.6, c = 0.001, delta = 0.9)"
   ]
  },
  {
   "cell_type": "code",
   "execution_count": 13,
   "id": "d1a1f813-a7a1-439f-91cf-6fe3998465ad",
   "metadata": {},
   "outputs": [
    {
     "name": "stdout",
     "output_type": "stream",
     "text": [
      "SYMMETRIC NETWORK\n",
      "Steady-State Opinions:\n",
      "[[55.00327353]\n",
      " [55.00327353]\n",
      " [55.00327353]]\n",
      "Average of agendas:\n",
      "55.0\n",
      "\n",
      "K^* (1, 2):\n",
      "[[1.00081573e+00 1.14090319e-04 7.00940502e-05]\n",
      " [1.14090319e-04 1.00046376e+00 4.22064204e-04]\n",
      " [7.00940502e-05 4.22064204e-04 1.00050776e+00]]\n",
      "[[1.00081580e+00 1.14099434e-04 7.00996555e-05]\n",
      " [1.14099434e-04 1.00046380e+00 4.22097887e-04]\n",
      " [7.00996555e-05 4.22097887e-04 1.00050780e+00]]\n",
      "\n",
      "k^* (1, 2):\n",
      "[[73.8434663 73.8434663 73.8434663]]\n",
      "[[-73.84345193 -73.84345193 -73.84345193]]\n",
      "\n",
      "kappa^* (1, 2):\n",
      "[[-40863124.55921516]]\n",
      "[[-40859844.82597104]]\n"
     ]
    }
   ],
   "source": [
    "run_simulation(10, 100, 0.5, 0.50002, c = 0.001, delta = 0.9)"
   ]
  }
 ],
 "metadata": {
  "kernelspec": {
   "display_name": "Python 3",
   "language": "python",
   "name": "python3"
  },
  "language_info": {
   "codemirror_mode": {
    "name": "ipython",
    "version": 3
   },
   "file_extension": ".py",
   "mimetype": "text/x-python",
   "name": "python",
   "nbconvert_exporter": "python",
   "pygments_lexer": "ipython3",
   "version": "3.8.8"
  },
  "widgets": {
   "application/vnd.jupyter.widget-state+json": {
    "state": {},
    "version_major": 2,
    "version_minor": 0
   }
  }
 },
 "nbformat": 4,
 "nbformat_minor": 5
}
