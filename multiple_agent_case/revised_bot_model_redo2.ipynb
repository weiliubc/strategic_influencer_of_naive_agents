{
 "cells": [
  {
   "cell_type": "markdown",
   "id": "2dc596bd-b630-4dbf-a643-860b9f118c5a",
   "metadata": {},
   "source": [
    "# Verification of New Results for Bots Case (revised, alternate example)\n",
    "#### Unified Model with Integrated Bot \n",
    "\n",
    "James Yu, 14 January 2023"
   ]
  },
  {
   "cell_type": "code",
   "execution_count": 1,
   "id": "5deb7be5-5bd5-4cda-9926-3be72f5cacb8",
   "metadata": {},
   "outputs": [],
   "source": [
    "import matplotlib.pyplot as plt\n",
    "import numpy as np\n",
    "from numpy.linalg import inv\n",
    "np.set_printoptions(suppress=True) # disable scientific notation for readability"
   ]
  },
  {
   "cell_type": "code",
   "execution_count": 2,
   "id": "5d7a5d27-4795-4156-9f05-fffbaaff09c4",
   "metadata": {
    "tags": []
   },
   "outputs": [],
   "source": [
    "def infinite_solution(A_n, A_c, delta, c, x_0, z, b = np.identity(3)):\n",
    "    n = len(x_0)\n",
    "    eps = np.finfo(np.float64).eps\n",
    "    I = np.identity(n)\n",
    "    O = np.zeros((n, n))\n",
    "    \n",
    "    Q = np.block([\n",
    "        [I, O], \n",
    "        [O, I]\n",
    "    ])\n",
    "    A = np.block([\n",
    "        [A_n, A_c], \n",
    "        [O, I]\n",
    "    ])\n",
    "    B = np.block([\n",
    "        [b], # identity matrix by default \n",
    "        [O]\n",
    "    ])\n",
    "    K_t = Q\n",
    "    K_sequence = [K_t]\n",
    "    \n",
    "    while True: # generate solution matrices; note I divide delta into the inverse term for simplification\n",
    "        K_t_new = Q + delta * A.T @ (K_t - K_t @ B @ inv(B.T @ K_t @ B + c * I / delta) @ B.T @ K_t) @ A\n",
    "        K_sequence.insert(0, K_t_new)\n",
    "        if np.allclose(K_t, K_t_new, rtol = eps, atol = eps): break\n",
    "        K_t = K_t_new\n",
    "\n",
    "    chi_var = np.block([\n",
    "        [x_0], \n",
    "        [z]\n",
    "    ])\n",
    "    chi_ts = [chi_var]\n",
    "    r_ts = []\n",
    "    K_ss = K_sequence[0]\n",
    "    L_ss = -inv(B.T @ K_ss @ B + c * I / delta) @ B.T @ K_ss @ A\n",
    "    \n",
    "    payoff = 0\n",
    "    stage_payoffs = []\n",
    "    discounted_stage_payoffs = []\n",
    "    cumulative_payoffs = []\n",
    "    \n",
    "    i = 0\n",
    "    while True:\n",
    "        r_t = L_ss @ chi_var\n",
    "        r_ts.append(r_t)\n",
    "        p = -(chi_var.T @ Q @ chi_var + c * r_t.T @ r_t).item()\n",
    "        payoff += delta**i * p\n",
    "        stage_payoffs.append(p)\n",
    "        discounted_stage_payoffs.append(delta**i * p)\n",
    "        cumulative_payoffs.append(payoff)\n",
    "        chi_var_new = A @ chi_var + B @ r_t\n",
    "        chi_ts.append(chi_var_new)\n",
    "        if np.allclose(chi_var, chi_var_new, rtol = eps, atol = eps): break\n",
    "        chi_var = chi_var_new\n",
    "        i += 1\n",
    "        \n",
    "    return chi_ts, r_ts, stage_payoffs, discounted_stage_payoffs, cumulative_payoffs, K_ss, L_ss"
   ]
  },
  {
   "cell_type": "markdown",
   "id": "f993b294-61ed-4409-b662-7058abbd7213",
   "metadata": {},
   "source": [
    "# 0. Setup"
   ]
  },
  {
   "cell_type": "code",
   "execution_count": 3,
   "id": "1948b15f-c07e-4a9f-8446-3dc51cae3d24",
   "metadata": {},
   "outputs": [],
   "source": [
    "A_1_n = 0.9 * np.array([\n",
    "    [0.6, 0.3, 0.1],\n",
    "    [0.4, 0.1, 0.5],\n",
    "    [0.1, 0.7, 0.2]\n",
    "])\n",
    "A_1_c = np.diag([0.1, 0.1, 0.1])\n",
    "\n",
    "delta = 0.54\n",
    "c = 37.28\n",
    "x_0 = np.array([[60.77, -4.3, -80.5]], ndmin = 2).T\n",
    "z = np.array([[-6.0, 4.0, 3.0]], ndmin = 2).T"
   ]
  },
  {
   "cell_type": "code",
   "execution_count": 4,
   "id": "d8d521b3-a053-4a6e-a6d5-bdd8b0e966fd",
   "metadata": {},
   "outputs": [],
   "source": [
    "chi_ts, r_ts, stage_payoffs, discounted_stage_payoffs, cumulative_payoffs, K_ss, L_ss = infinite_solution(A_1_n, A_1_c, delta, c, x_0, z)"
   ]
  },
  {
   "cell_type": "code",
   "execution_count": 5,
   "id": "d75922b3-af58-4c87-96bf-a7665242bddc",
   "metadata": {},
   "outputs": [
    {
     "name": "stdout",
     "output_type": "stream",
     "text": [
      "[[1.37823398 0.2474061  0.21977945 0.07919491 0.06258287 0.0409958 ]\n",
      " [0.2474061  1.36724688 0.17508143 0.05301135 0.04464539 0.06544638]\n",
      " [0.21977945 0.17508143 1.2017931  0.03388671 0.053984   0.03762203]\n",
      " [0.07919491 0.05301135 0.03388671 2.20775135 0.01586067 0.01089185]\n",
      " [0.06258287 0.04464539 0.053984   0.01586067 2.19968782 0.01554776]\n",
      " [0.0409958  0.06544638 0.03762203 0.01089185 0.01554776 2.19625973]]\n"
     ]
    }
   ],
   "source": [
    "print(K_ss)"
   ]
  },
  {
   "cell_type": "code",
   "execution_count": 6,
   "id": "5dc9d884-2264-454a-8ee6-eea9974e6199",
   "metadata": {},
   "outputs": [
    {
     "name": "stdout",
     "output_type": "stream",
     "text": [
      "[[-0.01207064 -0.0075156  -0.00385728 -0.0030757  -0.00122795 -0.00088322]\n",
      " [-0.00906006 -0.00420749 -0.00947825 -0.00109161 -0.0025693  -0.00116958]\n",
      " [-0.00406659 -0.01181453 -0.00444743 -0.00078301 -0.0010076  -0.00224096]]\n"
     ]
    }
   ],
   "source": [
    "print(L_ss)"
   ]
  },
  {
   "cell_type": "code",
   "execution_count": 7,
   "id": "d9d6c344-bb54-440f-8c68-7ceeee4b61da",
   "metadata": {},
   "outputs": [
    {
     "data": {
      "text/plain": [
       "array([[-1.03993199],\n",
       "       [ 0.23483942],\n",
       "       [ 0.42422861],\n",
       "       [-6.        ],\n",
       "       [ 4.        ],\n",
       "       [ 3.        ]])"
      ]
     },
     "execution_count": 7,
     "metadata": {},
     "output_type": "execute_result"
    }
   ],
   "source": [
    "chi_ts[-1] # terminal opinions"
   ]
  },
  {
   "cell_type": "code",
   "execution_count": 8,
   "id": "be31be08-a611-4a33-abed-917ce4716c00",
   "metadata": {},
   "outputs": [
    {
     "data": {
      "text/plain": [
       "array([[ 0.02004406],\n",
       "       [-0.00282349],\n",
       "       [-0.00648749]])"
      ]
     },
     "execution_count": 8,
     "metadata": {},
     "output_type": "execute_result"
    }
   ],
   "source": [
    "r_ts[-1] # terminal messages"
   ]
  },
  {
   "cell_type": "markdown",
   "id": "9ce2175f-51d0-4947-b77e-4741aafb0b17",
   "metadata": {},
   "source": [
    "# 1. Expression for $K_1$ component of the block matrix $K^*$"
   ]
  },
  {
   "cell_type": "markdown",
   "id": "bfc15093-4950-4e56-ae2c-c79335050d63",
   "metadata": {},
   "source": [
    "Recall that this expression was:\n",
    "\n",
    "$$\n",
    "K_1 = I + c\\delta(A^n)'K_1(\\delta K_1 + cI)^{-1}A^n\n",
    "$$"
   ]
  },
  {
   "cell_type": "code",
   "execution_count": 9,
   "id": "8a0ce4b4-1bab-4c07-a611-0efd0ef0fa39",
   "metadata": {},
   "outputs": [
    {
     "name": "stdout",
     "output_type": "stream",
     "text": [
      "[[1.37823398 0.2474061  0.21977945 0.07919491 0.06258287 0.0409958 ]\n",
      " [0.2474061  1.36724688 0.17508143 0.05301135 0.04464539 0.06544638]\n",
      " [0.21977945 0.17508143 1.2017931  0.03388671 0.053984   0.03762203]\n",
      " [0.07919491 0.05301135 0.03388671 2.20775135 0.01586067 0.01089185]\n",
      " [0.06258287 0.04464539 0.053984   0.01586067 2.19968782 0.01554776]\n",
      " [0.0409958  0.06544638 0.03762203 0.01089185 0.01554776 2.19625973]]\n"
     ]
    }
   ],
   "source": [
    "print(K_ss)"
   ]
  },
  {
   "cell_type": "code",
   "execution_count": 10,
   "id": "4efe8fcc-fac6-4e39-a8f5-a0abd9226835",
   "metadata": {},
   "outputs": [
    {
     "name": "stdout",
     "output_type": "stream",
     "text": [
      "[[1.37823398 0.2474061  0.21977945]\n",
      " [0.2474061  1.36724688 0.17508143]\n",
      " [0.21977945 0.17508143 1.2017931 ]]\n"
     ]
    }
   ],
   "source": [
    "print(K_ss[0:3,0:3]) # K_1"
   ]
  },
  {
   "cell_type": "code",
   "execution_count": 11,
   "id": "405a6b68-ba08-422e-ae91-6e98395022b2",
   "metadata": {},
   "outputs": [
    {
     "data": {
      "text/plain": [
       "True"
      ]
     },
     "execution_count": 11,
     "metadata": {},
     "output_type": "execute_result"
    }
   ],
   "source": [
    "K_1 = K_ss[0:3,0:3]\n",
    "LHS = np.identity(3) + c*delta*A_1_n.T @ K_1 @ inv(delta*K_1 + c*np.identity(3)) @ A_1_n\n",
    "np.allclose(LHS, K_1) # is approximately equal?"
   ]
  },
  {
   "cell_type": "code",
   "execution_count": 12,
   "id": "f74dccb1-c9dd-4bf6-8ef9-acabfbe0db7d",
   "metadata": {},
   "outputs": [
    {
     "data": {
      "text/plain": [
       "array([[1.37823398, 0.2474061 , 0.21977945],\n",
       "       [0.2474061 , 1.36724688, 0.17508143],\n",
       "       [0.21977945, 0.17508143, 1.2017931 ]])"
      ]
     },
     "execution_count": 12,
     "metadata": {},
     "output_type": "execute_result"
    }
   ],
   "source": [
    "LHS"
   ]
  },
  {
   "cell_type": "markdown",
   "id": "e9155222-eb89-4a09-837e-9adcfffce3dd",
   "metadata": {},
   "source": [
    "They appear to be the same. To decompose:"
   ]
  },
  {
   "cell_type": "code",
   "execution_count": 13,
   "id": "7a95aa59-8026-4e7f-a9f2-92a9fdd043ae",
   "metadata": {},
   "outputs": [
    {
     "data": {
      "text/plain": [
       "array([[17.17377966, 12.9154834 ,  5.83546313],\n",
       "       [10.72692557,  6.04244349, 16.75373693],\n",
       "       [ 5.53475345, 13.46862441,  6.33910459]])"
      ]
     },
     "execution_count": 13,
     "metadata": {},
     "output_type": "execute_result"
    }
   ],
   "source": [
    "c*delta*A_1_n.T @ K_1"
   ]
  },
  {
   "cell_type": "code",
   "execution_count": 14,
   "id": "bbf14618-566d-4ffd-b7e1-b92cc886806a",
   "metadata": {},
   "outputs": [
    {
     "data": {
      "text/plain": [
       "array([[ 0.02629959, -0.00009221, -0.00008206],\n",
       "       [-0.00009221,  0.0263036 , -0.00006528],\n",
       "       [-0.00008206, -0.00006528,  0.02636549]])"
      ]
     },
     "execution_count": 14,
     "metadata": {},
     "output_type": "execute_result"
    }
   ],
   "source": [
    "inv(delta*K_1 + c*np.identity(3)) "
   ]
  },
  {
   "cell_type": "code",
   "execution_count": 15,
   "id": "419e8228-6bfd-44ca-b4b3-e679be8e8430",
   "metadata": {},
   "outputs": [
    {
     "data": {
      "text/plain": [
       "array([[0.37823398, 0.2474061 , 0.21977945],\n",
       "       [0.2474061 , 0.36724688, 0.17508143],\n",
       "       [0.21977945, 0.17508143, 0.2017931 ]])"
      ]
     },
     "execution_count": 15,
     "metadata": {},
     "output_type": "execute_result"
    }
   ],
   "source": [
    "c*delta*A_1_n.T @ K_1 @ inv(delta*K_1 + c*np.identity(3)) @ A_1_n"
   ]
  },
  {
   "cell_type": "markdown",
   "id": "f60243e9-330b-42d9-8037-f8545cf7b24c",
   "metadata": {},
   "source": [
    "# 2. Expression for $K_2$ component of the block matrix $K^*$"
   ]
  },
  {
   "cell_type": "markdown",
   "id": "a725fb06-949a-4f28-b7bd-587f69e9a804",
   "metadata": {},
   "source": [
    "$$\n",
    "K_2 = c \\delta {A^n}' (\\delta K_1 + cI)^{-1} (K_1 A^z + K_2)\n",
    "$$"
   ]
  },
  {
   "cell_type": "code",
   "execution_count": 16,
   "id": "1adab6e1-b368-466d-90b2-f2a4b34ef560",
   "metadata": {},
   "outputs": [
    {
     "name": "stdout",
     "output_type": "stream",
     "text": [
      "[[1.37823398 0.2474061  0.21977945 0.07919491 0.06258287 0.0409958 ]\n",
      " [0.2474061  1.36724688 0.17508143 0.05301135 0.04464539 0.06544638]\n",
      " [0.21977945 0.17508143 1.2017931  0.03388671 0.053984   0.03762203]\n",
      " [0.07919491 0.05301135 0.03388671 2.20775135 0.01586067 0.01089185]\n",
      " [0.06258287 0.04464539 0.053984   0.01586067 2.19968782 0.01554776]\n",
      " [0.0409958  0.06544638 0.03762203 0.01089185 0.01554776 2.19625973]]\n"
     ]
    }
   ],
   "source": [
    "print(K_ss)"
   ]
  },
  {
   "cell_type": "code",
   "execution_count": 17,
   "id": "d10833f0-09e5-4321-929a-ce720f2076a0",
   "metadata": {},
   "outputs": [
    {
     "name": "stdout",
     "output_type": "stream",
     "text": [
      "[[0.07919491 0.06258287 0.0409958 ]\n",
      " [0.05301135 0.04464539 0.06544638]\n",
      " [0.03388671 0.053984   0.03762203]]\n"
     ]
    }
   ],
   "source": [
    "print(K_ss[0:3, 3:6]) # K_2"
   ]
  },
  {
   "cell_type": "code",
   "execution_count": 18,
   "id": "9f6dd934-ecfd-405b-bbdf-79d0447ae2fc",
   "metadata": {},
   "outputs": [
    {
     "data": {
      "text/plain": [
       "True"
      ]
     },
     "execution_count": 18,
     "metadata": {},
     "output_type": "execute_result"
    }
   ],
   "source": [
    "K_2 = K_ss[0:3, 3:6]\n",
    "LHS_2 = c * delta * A_1_n.T @ inv(c * np.identity(3) + delta * K_1) @ (K_2 + K_1 @ A_1_c)\n",
    "np.allclose(LHS_2, K_2) # is approximately equal?"
   ]
  },
  {
   "cell_type": "code",
   "execution_count": 19,
   "id": "b0cc188f-1080-4216-b176-9aa3846abfc5",
   "metadata": {},
   "outputs": [
    {
     "data": {
      "text/plain": [
       "array([[0.07919491, 0.06258287, 0.0409958 ],\n",
       "       [0.05301135, 0.04464539, 0.06544638],\n",
       "       [0.03388671, 0.053984  , 0.03762203]])"
      ]
     },
     "execution_count": 19,
     "metadata": {},
     "output_type": "execute_result"
    }
   ],
   "source": [
    "LHS_2"
   ]
  },
  {
   "cell_type": "markdown",
   "id": "62621bc6-bad9-497d-b472-46a83392a659",
   "metadata": {},
   "source": [
    "# 3. Expression for $x_{\\infty}$ terminal opinions"
   ]
  },
  {
   "cell_type": "markdown",
   "id": "fe1c59a2-a516-41d5-9e8a-fe94631df13d",
   "metadata": {},
   "source": [
    "$$\n",
    "x_\\infty = (\\delta K_1 + cI - cA^n)^{-1}(cA^z - \\delta K_2)z\n",
    "$$"
   ]
  },
  {
   "cell_type": "code",
   "execution_count": 20,
   "id": "1eecef9b-adfa-48f4-bab0-02540053f3ee",
   "metadata": {},
   "outputs": [
    {
     "data": {
      "text/plain": [
       "array([[-1.03993199],\n",
       "       [ 0.23483942],\n",
       "       [ 0.42422861]])"
      ]
     },
     "execution_count": 20,
     "metadata": {},
     "output_type": "execute_result"
    }
   ],
   "source": [
    "LHS_3 = inv(delta * K_1 + c*np.identity(3) - c * A_1_n) @ (c * A_1_c - delta * K_2) @ z\n",
    "LHS_3"
   ]
  },
  {
   "cell_type": "code",
   "execution_count": 21,
   "id": "e1b92429-206e-4e50-b3c4-ba4bf42ee8d8",
   "metadata": {},
   "outputs": [
    {
     "data": {
      "text/plain": [
       "array([[-1.03993199],\n",
       "       [ 0.23483942],\n",
       "       [ 0.42422861]])"
      ]
     },
     "execution_count": 21,
     "metadata": {},
     "output_type": "execute_result"
    }
   ],
   "source": [
    "chi_ts[-1][0:3]"
   ]
  },
  {
   "cell_type": "code",
   "execution_count": 22,
   "id": "62d15f37-3c2b-4be5-a182-0896132e5ff8",
   "metadata": {},
   "outputs": [
    {
     "data": {
      "text/plain": [
       "True"
      ]
     },
     "execution_count": 22,
     "metadata": {},
     "output_type": "execute_result"
    }
   ],
   "source": [
    "np.allclose(chi_ts[-1][0:3], LHS_3)"
   ]
  },
  {
   "cell_type": "markdown",
   "id": "e45744de-c8ef-42e8-b50a-cb9352c39225",
   "metadata": {},
   "source": [
    "Checking limit vanishing:"
   ]
  },
  {
   "cell_type": "code",
   "execution_count": 23,
   "id": "ee6f0e16-7a5b-4d3f-b99e-9df712d56ae2",
   "metadata": {},
   "outputs": [
    {
     "data": {
      "text/plain": [
       "array([[0.52792936, 0.2624844 , 0.08614272],\n",
       "       [0.35093994, 0.08579251, 0.44052175],\n",
       "       [0.08593341, 0.61818547, 0.17555257]])"
      ]
     },
     "execution_count": 23,
     "metadata": {},
     "output_type": "execute_result"
    }
   ],
   "source": [
    "(c * inv(delta * K_1 + c * np.identity(3)) @ A_1_n)"
   ]
  },
  {
   "cell_type": "code",
   "execution_count": 24,
   "id": "d110cb5e-4f03-4bc8-b733-91ea5f472765",
   "metadata": {},
   "outputs": [
    {
     "data": {
      "text/plain": [
       "array([[0.3782282 , 0.21434459, 0.17622993],\n",
       "       [0.25323505, 0.37180076, 0.14535911],\n",
       "       [0.27739857, 0.18411591, 0.31054539]])"
      ]
     },
     "execution_count": 24,
     "metadata": {},
     "output_type": "execute_result"
    }
   ],
   "source": [
    "np.linalg.matrix_power(c * inv(delta * K_1 + c * np.identity(3)) @ A_1_n, 2)"
   ]
  },
  {
   "cell_type": "code",
   "execution_count": 25,
   "id": "b10537c0-2aff-4b01-be67-1182fb8349c2",
   "metadata": {},
   "outputs": [
    {
     "data": {
      "text/plain": [
       "array([[0.29004389, 0.22661094, 0.15794268],\n",
       "       [0.27666116, 0.18822686, 0.21111884],\n",
       "       [0.2377467 , 0.28058321, 0.15951997]])"
      ]
     },
     "execution_count": 25,
     "metadata": {},
     "output_type": "execute_result"
    }
   ],
   "source": [
    "np.linalg.matrix_power(c * inv(delta * K_1 + c * np.identity(3)) @ A_1_n, 3)"
   ]
  },
  {
   "cell_type": "code",
   "execution_count": 26,
   "id": "6132a8c2-1269-49ef-85f7-4bc1dbf4e8c7",
   "metadata": {},
   "outputs": [
    {
     "data": {
      "text/plain": [
       "array([[0.00000086, 0.00000072, 0.00000056],\n",
       "       [0.00000086, 0.00000072, 0.00000056],\n",
       "       [0.00000086, 0.00000072, 0.00000056]])"
      ]
     },
     "execution_count": 26,
     "metadata": {},
     "output_type": "execute_result"
    }
   ],
   "source": [
    "np.linalg.matrix_power(c * inv(delta * K_1 + c * np.identity(3)) @ A_1_n, 100)"
   ]
  },
  {
   "cell_type": "code",
   "execution_count": 27,
   "id": "8be7b1da-2114-4f26-bf4f-117dd35131b5",
   "metadata": {},
   "outputs": [
    {
     "data": {
      "text/plain": [
       "array([[0., 0., 0.],\n",
       "       [0., 0., 0.],\n",
       "       [0., 0., 0.]])"
      ]
     },
     "execution_count": 27,
     "metadata": {},
     "output_type": "execute_result"
    }
   ],
   "source": [
    "np.linalg.matrix_power(c * inv(delta * K_1 + c * np.identity(3)) @ A_1_n, 1000)"
   ]
  }
 ],
 "metadata": {
  "kernelspec": {
   "display_name": "Python 3",
   "language": "python",
   "name": "python3"
  },
  "language_info": {
   "codemirror_mode": {
    "name": "ipython",
    "version": 3
   },
   "file_extension": ".py",
   "mimetype": "text/x-python",
   "name": "python",
   "nbconvert_exporter": "python",
   "pygments_lexer": "ipython3",
   "version": "3.8.8"
  },
  "widgets": {
   "application/vnd.jupyter.widget-state+json": {
    "state": {},
    "version_major": 2,
    "version_minor": 0
   }
  }
 },
 "nbformat": 4,
 "nbformat_minor": 5
}
