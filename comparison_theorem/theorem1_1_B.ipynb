{
 "cells": [
  {
   "cell_type": "markdown",
   "id": "2a635c38-3809-402b-8157-0af41ab49f5f",
   "metadata": {},
   "source": [
    "# Some more experiments with Theorem 1.1\n",
    "\n",
    "James Yu, 20 December 2021"
   ]
  },
  {
   "cell_type": "code",
   "execution_count": 1,
   "id": "2459081b-a454-459b-ba6d-21cc18b3d7d1",
   "metadata": {},
   "outputs": [],
   "source": [
    "import numpy as np\n",
    "from sympy import *"
   ]
  },
  {
   "cell_type": "markdown",
   "id": "352a347a-9c50-447c-b300-b8758a224d18",
   "metadata": {},
   "source": [
    "## What about adjusting B?"
   ]
  },
  {
   "cell_type": "code",
   "execution_count": 2,
   "id": "34817211-2228-4e00-b36f-231fb144b4ef",
   "metadata": {},
   "outputs": [],
   "source": [
    "x1, x2, x3, x4, a11, a12, a22, b1, b2, epsilon = symbols(\"x1, x2, x3, x4, a11, a12, a22, b1, b2, epsilon\")\n",
    "\n",
    "# now this is the A from before\n",
    "A_tilde = Matrix(([[a11 - epsilon/2, a12 - epsilon/2], [a12 - epsilon/2, a22 - epsilon/2]]))\n",
    "B_tilde = Matrix(([[b1 + epsilon], [b2 + epsilon]]))"
   ]
  },
  {
   "cell_type": "code",
   "execution_count": 3,
   "id": "fb2df839-5698-48a1-a365-0fde6118e67c",
   "metadata": {},
   "outputs": [
    {
     "data": {
      "text/latex": [
       "$\\displaystyle \\left[\\begin{matrix}a_{11} - \\frac{\\epsilon}{2} & a_{12} - \\frac{\\epsilon}{2}\\\\a_{12} - \\frac{\\epsilon}{2} & a_{22} - \\frac{\\epsilon}{2}\\end{matrix}\\right]$"
      ],
      "text/plain": [
       "Matrix([\n",
       "[a11 - epsilon/2, a12 - epsilon/2],\n",
       "[a12 - epsilon/2, a22 - epsilon/2]])"
      ]
     },
     "execution_count": 3,
     "metadata": {},
     "output_type": "execute_result"
    }
   ],
   "source": [
    "A_tilde"
   ]
  },
  {
   "cell_type": "code",
   "execution_count": 4,
   "id": "4e66ac51-fbe6-4a70-8022-1c9a6174c897",
   "metadata": {},
   "outputs": [
    {
     "data": {
      "text/latex": [
       "$\\displaystyle \\left[\\begin{matrix}b_{1} + \\epsilon\\\\b_{2} + \\epsilon\\end{matrix}\\right]$"
      ],
      "text/plain": [
       "Matrix([\n",
       "[b1 + epsilon],\n",
       "[b2 + epsilon]])"
      ]
     },
     "execution_count": 4,
     "metadata": {},
     "output_type": "execute_result"
    }
   ],
   "source": [
    "B_tilde"
   ]
  },
  {
   "cell_type": "markdown",
   "id": "86845df1-9bae-408d-97d2-472a19cfaf9f",
   "metadata": {},
   "source": [
    "Even reweightings from the naive agents."
   ]
  },
  {
   "cell_type": "code",
   "execution_count": 5,
   "id": "8c020e5c-7f3b-4aed-af93-ccd3e457884c",
   "metadata": {},
   "outputs": [
    {
     "data": {
      "text/latex": [
       "$\\displaystyle \\left[\\begin{matrix}- \\left(b_{1} + \\epsilon\\right)^{2} & - \\left(b_{1} + \\epsilon\\right) \\left(b_{2} + \\epsilon\\right)\\\\- \\left(b_{1} + \\epsilon\\right) \\left(b_{2} + \\epsilon\\right) & - \\left(b_{2} + \\epsilon\\right)^{2}\\end{matrix}\\right]$"
      ],
      "text/plain": [
       "Matrix([\n",
       "[            -(b1 + epsilon)**2, -(b1 + epsilon)*(b2 + epsilon)],\n",
       "[-(b1 + epsilon)*(b2 + epsilon),             -(b2 + epsilon)**2]])"
      ]
     },
     "execution_count": 5,
     "metadata": {},
     "output_type": "execute_result"
    }
   ],
   "source": [
    "simplify(-B_tilde * B_tilde.T) # - B R^-1 B', but suppose R = 1"
   ]
  },
  {
   "cell_type": "code",
   "execution_count": 6,
   "id": "b2f23900-fd31-45bf-9e32-4271e1bab3a4",
   "metadata": {
    "tags": []
   },
   "outputs": [
    {
     "data": {
      "text/latex": [
       "$\\displaystyle \\left[\\begin{matrix}b_{1}^{2} - \\left(b_{1} + \\epsilon\\right)^{2} & - \\epsilon \\left(b_{1} + b_{2} + \\epsilon\\right)\\\\- \\epsilon \\left(b_{1} + b_{2} + \\epsilon\\right) & b_{2}^{2} - \\left(b_{2} + \\epsilon\\right)^{2}\\end{matrix}\\right]$"
      ],
      "text/plain": [
       "Matrix([\n",
       "[   b1**2 - (b1 + epsilon)**2, -epsilon*(b1 + b2 + epsilon)],\n",
       "[-epsilon*(b1 + b2 + epsilon),    b2**2 - (b2 + epsilon)**2]])"
      ]
     },
     "execution_count": 6,
     "metadata": {},
     "output_type": "execute_result"
    }
   ],
   "source": [
    "B = Matrix(([[b1], [b2]]))\n",
    "diff = simplify((-B_tilde * B_tilde.T) - (-B * B.T))\n",
    "diff"
   ]
  },
  {
   "cell_type": "code",
   "execution_count": 7,
   "id": "d44b5b99-b34c-4164-8846-7a01d0294200",
   "metadata": {},
   "outputs": [
    {
     "name": "stdout",
     "output_type": "stream",
     "text": [
      "-epsilon*(b1 + b2 + epsilon)\n"
     ]
    }
   ],
   "source": [
    "print(diff[1])"
   ]
  },
  {
   "cell_type": "code",
   "execution_count": 8,
   "id": "7f80fc63-f30c-4fcc-b26d-d62230db9616",
   "metadata": {},
   "outputs": [
    {
     "data": {
      "text/latex": [
       "$\\displaystyle \\left[\\begin{matrix}0 & 0 & - \\frac{\\epsilon}{2} & - \\frac{\\epsilon}{2}\\\\0 & 0 & - \\frac{\\epsilon}{2} & - \\frac{\\epsilon}{2}\\\\- \\frac{\\epsilon}{2} & - \\frac{\\epsilon}{2} & b_{1}^{2} - \\left(b_{1} + \\epsilon\\right)^{2} & - \\epsilon \\left(b_{1} + b_{2} + \\epsilon\\right)\\\\- \\frac{\\epsilon}{2} & - \\frac{\\epsilon}{2} & - \\epsilon \\left(b_{1} + b_{2} + \\epsilon\\right) & b_{2}^{2} - \\left(b_{2} + \\epsilon\\right)^{2}\\end{matrix}\\right]$"
      ],
      "text/plain": [
       "Matrix([\n",
       "[         0,          0,                   -epsilon/2,                   -epsilon/2],\n",
       "[         0,          0,                   -epsilon/2,                   -epsilon/2],\n",
       "[-epsilon/2, -epsilon/2,    b1**2 - (b1 + epsilon)**2, -epsilon*(b1 + b2 + epsilon)],\n",
       "[-epsilon/2, -epsilon/2, -epsilon*(b1 + b2 + epsilon),    b2**2 - (b2 + epsilon)**2]])"
      ]
     },
     "execution_count": 8,
     "metadata": {},
     "output_type": "execute_result"
    }
   ],
   "source": [
    "M = Matrix(([[0, 0, -epsilon/2, -epsilon/2], \n",
    "             [0, 0, -epsilon/2, -epsilon/2], \n",
    "             [-epsilon/2, -epsilon/2, diff[0], diff[1]], \n",
    "             [-epsilon/2, -epsilon/2, diff[2], diff[3]]]))\n",
    "M"
   ]
  },
  {
   "cell_type": "code",
   "execution_count": 9,
   "id": "533b720c-29da-46ec-b951-189d43c5fbeb",
   "metadata": {},
   "outputs": [
    {
     "data": {
      "text/plain": [
       "{-epsilon*(b1 + b2 + epsilon) - epsilon*sqrt(2*b1**2 + 2*b1*epsilon + 2*b2**2 + 2*b2*epsilon + epsilon**2 + 1): 1,\n",
       " -epsilon*(b1 + b2 + epsilon) + epsilon*sqrt(2*b1**2 + 2*b1*epsilon + 2*b2**2 + 2*b2*epsilon + epsilon**2 + 1): 1,\n",
       " 0: 2}"
      ]
     },
     "execution_count": 9,
     "metadata": {},
     "output_type": "execute_result"
    }
   ],
   "source": [
    "M.eigenvals()"
   ]
  },
  {
   "cell_type": "markdown",
   "id": "9d13d65a-5b60-48ad-9240-7d41770516b8",
   "metadata": {},
   "source": [
    "(there are two \"zero\" eigenvalues)"
   ]
  },
  {
   "cell_type": "code",
   "execution_count": 10,
   "id": "49f16988-628e-4faf-af02-aacadf5ee668",
   "metadata": {},
   "outputs": [],
   "source": [
    "eigenvalues = list(M.eigenvals())"
   ]
  },
  {
   "cell_type": "code",
   "execution_count": 11,
   "id": "8d394389-a6e4-45e2-a9af-fb60720032d5",
   "metadata": {},
   "outputs": [
    {
     "data": {
      "text/latex": [
       "$\\displaystyle - \\epsilon \\left(b_{1} + b_{2} + \\epsilon + \\sqrt{2 b_{1}^{2} + 2 b_{1} \\epsilon + 2 b_{2}^{2} + 2 b_{2} \\epsilon + \\epsilon^{2} + 1}\\right)$"
      ],
      "text/plain": [
       "-epsilon*(b1 + b2 + epsilon + sqrt(2*b1**2 + 2*b1*epsilon + 2*b2**2 + 2*b2*epsilon + epsilon**2 + 1))"
      ]
     },
     "execution_count": 11,
     "metadata": {},
     "output_type": "execute_result"
    }
   ],
   "source": [
    "simplify(eigenvalues[0])"
   ]
  },
  {
   "cell_type": "code",
   "execution_count": 12,
   "id": "6b39fc84-b807-4875-9f77-57f7d575c089",
   "metadata": {
    "tags": []
   },
   "outputs": [
    {
     "data": {
      "text/latex": [
       "$\\displaystyle \\epsilon \\left(- b_{1} - b_{2} - \\epsilon + \\sqrt{2 b_{1}^{2} + 2 b_{1} \\epsilon + 2 b_{2}^{2} + 2 b_{2} \\epsilon + \\epsilon^{2} + 1}\\right)$"
      ],
      "text/plain": [
       "epsilon*(-b1 - b2 - epsilon + sqrt(2*b1**2 + 2*b1*epsilon + 2*b2**2 + 2*b2*epsilon + epsilon**2 + 1))"
      ]
     },
     "execution_count": 12,
     "metadata": {},
     "output_type": "execute_result"
    }
   ],
   "source": [
    "simplify(eigenvalues[1])"
   ]
  },
  {
   "cell_type": "code",
   "execution_count": 26,
   "id": "c8645877-bd9c-4d29-8502-1258a51b00f7",
   "metadata": {},
   "outputs": [
    {
     "data": {
      "text/plain": [
       "-0.38615528128088306"
      ]
     },
     "execution_count": 26,
     "metadata": {},
     "output_type": "execute_result"
    }
   ],
   "source": [
    "float(simplify(eigenvalues[0]).subs(epsilon, 0.1).subs(b1, 0.8).subs(b2, 0.9))"
   ]
  },
  {
   "cell_type": "code",
   "execution_count": 17,
   "id": "3754fc54-4429-4b6d-a0cd-a92b727d2d17",
   "metadata": {},
   "outputs": [
    {
     "data": {
      "text/plain": [
       "0.0618033988749895"
      ]
     },
     "execution_count": 17,
     "metadata": {},
     "output_type": "execute_result"
    }
   ],
   "source": [
    "float(simplify(eigenvalues[1]).subs(epsilon, 0.1).subs(b1, 0.2).subs(b2, 0.2))"
   ]
  },
  {
   "cell_type": "code",
   "execution_count": null,
   "id": "4473567c-0139-4d13-8f25-61bab22526c9",
   "metadata": {},
   "outputs": [],
   "source": []
  }
 ],
 "metadata": {
  "kernelspec": {
   "display_name": "Python 3",
   "language": "python",
   "name": "python3"
  },
  "language_info": {
   "codemirror_mode": {
    "name": "ipython",
    "version": 3
   },
   "file_extension": ".py",
   "mimetype": "text/x-python",
   "name": "python",
   "nbconvert_exporter": "python",
   "pygments_lexer": "ipython3",
   "version": "3.8.8"
  },
  "widgets": {
   "application/vnd.jupyter.widget-state+json": {
    "state": {},
    "version_major": 2,
    "version_minor": 0
   }
  }
 },
 "nbformat": 4,
 "nbformat_minor": 5
}
