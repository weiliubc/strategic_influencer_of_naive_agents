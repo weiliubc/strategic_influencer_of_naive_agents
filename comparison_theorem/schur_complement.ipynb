{
 "cells": [
  {
   "cell_type": "markdown",
   "id": "2a635c38-3809-402b-8157-0af41ab49f5f",
   "metadata": {},
   "source": [
    "# Experiments with the Schur complement test\n",
    "\n",
    "James Yu, 21 December 2021"
   ]
  },
  {
   "cell_type": "code",
   "execution_count": 1,
   "id": "2459081b-a454-459b-ba6d-21cc18b3d7d1",
   "metadata": {},
   "outputs": [],
   "source": [
    "import numpy as np\n",
    "from sympy import *"
   ]
  },
  {
   "cell_type": "markdown",
   "id": "afd0906a-be39-4974-85d0-baeaa136590f",
   "metadata": {
    "tags": []
   },
   "source": [
    "$$M = LHS - RHS = \\begin{bmatrix}Q & \\tilde A^\\prime\\\\\\tilde A & -\\tilde B R^{-1}\\tilde B^\\prime\\end{bmatrix} - \\begin{bmatrix}Q & A^\\prime\\\\A & - B R^{-1} B^\\prime\\end{bmatrix}$$"
   ]
  },
  {
   "cell_type": "markdown",
   "id": "e7fdbc5f-8af3-428c-8e62-de2c2cb52d5c",
   "metadata": {},
   "source": [
    "$$=  \\begin{bmatrix}0 & (\\tilde A - A)^\\prime\\\\\\tilde A - A & (-\\tilde B R^{-1}\\tilde B^\\prime) - (-B R^{-1} B^\\prime)\\end{bmatrix}$$"
   ]
  },
  {
   "cell_type": "markdown",
   "id": "13c6b5ec-0883-4cff-a7f5-6adfce1365e5",
   "metadata": {
    "tags": []
   },
   "source": [
    "The task is to ensure that this matrix is positive semidefinite. First, ensuring the bottom right block matrix is positive definite."
   ]
  },
  {
   "cell_type": "code",
   "execution_count": 2,
   "id": "e7164a69-90fa-464b-a07b-b22a7e892f97",
   "metadata": {},
   "outputs": [
    {
     "name": "stdout",
     "output_type": "stream",
     "text": [
      "[[0.21 0.19]\n",
      " [0.19 0.16]]\n"
     ]
    },
    {
     "data": {
      "text/plain": [
       "array([ 0.37663768, -0.00663768])"
      ]
     },
     "execution_count": 2,
     "metadata": {},
     "output_type": "execute_result"
    }
   ],
   "source": [
    "B = np.array([\n",
    "    [0.5], \n",
    "    [0.5]], ndmin = 2)\n",
    "tilde_B = np.array([\n",
    "    [0.2], \n",
    "    [0.3]], ndmin = 2)\n",
    "mat = (-(tilde_B @ tilde_B.T)) - (-(B @ B.T))\n",
    "print(mat)\n",
    "np.linalg.eigvals(mat) # note R = I_1 so R^{-1} = I_1"
   ]
  },
  {
   "cell_type": "markdown",
   "id": "0ccdd0bd-af16-4dde-9f5f-f70c92104243",
   "metadata": {},
   "source": [
    "This is positive semidefinite, which would not work."
   ]
  },
  {
   "cell_type": "code",
   "execution_count": 6,
   "id": "c5be96bd-e123-48cd-9ad0-6936220c22be",
   "metadata": {},
   "outputs": [
    {
     "name": "stdout",
     "output_type": "stream",
     "text": [
      "[[0.3  0.15]\n",
      " [0.15 0.21]]\n"
     ]
    },
    {
     "data": {
      "text/plain": [
       "array([0.4116046, 0.0983954])"
      ]
     },
     "execution_count": 6,
     "metadata": {},
     "output_type": "execute_result"
    }
   ],
   "source": [
    "B = np.array([\n",
    "    [0.5, 0.3], \n",
    "    [0, 0.5]], ndmin = 2)\n",
    "tilde_B = np.array([\n",
    "    [0.2, 0], \n",
    "    [0, 0.2]], ndmin = 2)\n",
    "mat = (-(tilde_B @ tilde_B.T)) - (-(B @ B.T))\n",
    "print(mat)\n",
    "np.linalg.eigvals(mat)"
   ]
  },
  {
   "cell_type": "markdown",
   "id": "986c5d67-196e-485b-8a64-1778e10a74f5",
   "metadata": {
    "tags": []
   },
   "source": [
    "This, however, is positive definite, and would generalize to arbitrary diagonals creating $(-\\tilde B R^{-1}\\tilde B^\\prime) - (-B R^{-1} B^\\prime) = c I_n$ for some constant $c > 0$. Then:\n",
    "\n",
    "$$M = \\begin{bmatrix}0 & (\\tilde A - A)^\\prime\\\\\\tilde A - A & c I_n\\end{bmatrix}$$"
   ]
  },
  {
   "cell_type": "markdown",
   "id": "f81e48a9-2813-4121-87cc-67b9b527526f",
   "metadata": {},
   "source": [
    "Next, $\\frac{1}{c}(\\tilde A - A)^\\prime(\\tilde A - A)$ must be negative semidefinite. $c > 0$, so:"
   ]
  },
  {
   "cell_type": "markdown",
   "id": "742ea8fa-39b1-4b91-8f35-945c9e652ac5",
   "metadata": {},
   "source": [
    "$\\succ$"
   ]
  },
  {
   "cell_type": "code",
   "execution_count": 8,
   "id": "9315bd59-16f9-4ad9-8490-566a268c60b6",
   "metadata": {},
   "outputs": [
    {
     "name": "stdout",
     "output_type": "stream",
     "text": [
      "[[ 0.3  0.3]\n",
      " [ 0.4 -0.1]]\n",
      "\n",
      "[[-0.0966 -0.0321]\n",
      " [-0.0321 -0.0201]]\n"
     ]
    },
    {
     "data": {
      "text/plain": [
       "array([-0.10828468, -0.00841532])"
      ]
     },
     "execution_count": 8,
     "metadata": {},
     "output_type": "execute_result"
    }
   ],
   "source": [
    "B = np.array([\n",
    "    [0.5, 0.3], \n",
    "    [0, 0.5]], ndmin = 2)\n",
    "tilde_B = np.array([\n",
    "    [0.2, 0], \n",
    "    [0, 0.2]], ndmin = 2)\n",
    "\n",
    "A = np.array([\n",
    "    [0.2, 0], \n",
    "    [0, 0.5]], ndmin = 2)\n",
    "tilde_A = np.array([\n",
    "    [0.5, 0.3], \n",
    "    [0.4, 0.4]], ndmin = 2)\n",
    "\n",
    "mat = tilde_A - A\n",
    "print(mat)\n",
    "print()\n",
    "print(-mat.T @ ((-(tilde_B @ tilde_B.T)) - (-(B @ B.T))) @ mat)\n",
    "np.linalg.eigvals(-mat.T @ ((-(tilde_B @ tilde_B.T)) - (-(B @ B.T))) @ mat) # <- this must be positive definite: A - BC^{-1}B'"
   ]
  },
  {
   "cell_type": "markdown",
   "id": "cabba462-92e3-4520-b53d-6656dcd73424",
   "metadata": {},
   "source": [
    "An issue: $X^\\prime X$ is positive semidefinite for any $X$.\n",
    "\n",
    "(Proof: $y^\\prime X^\\prime X y$ where $y$ is $n$ by 1 and $X$ is $m$ by $n$ yields $Xy$ as an $m$ by 1 vector multiplied by $y^\\prime X^\\prime = (Xy)^\\prime$. This is of the form:\n",
    "\n",
    "$$(Xy)_1^2 + (Xy)_2^2 + \\dots \\geq 0$$\n",
    "So this must be positive semidefinite."
   ]
  }
 ],
 "metadata": {
  "kernelspec": {
   "display_name": "Python 3",
   "language": "python",
   "name": "python3"
  },
  "language_info": {
   "codemirror_mode": {
    "name": "ipython",
    "version": 3
   },
   "file_extension": ".py",
   "mimetype": "text/x-python",
   "name": "python",
   "nbconvert_exporter": "python",
   "pygments_lexer": "ipython3",
   "version": "3.8.8"
  },
  "widgets": {
   "application/vnd.jupyter.widget-state+json": {
    "state": {},
    "version_major": 2,
    "version_minor": 0
   }
  }
 },
 "nbformat": 4,
 "nbformat_minor": 5
}
