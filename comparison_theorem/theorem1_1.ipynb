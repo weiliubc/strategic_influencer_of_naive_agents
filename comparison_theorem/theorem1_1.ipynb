{
 "cells": [
  {
   "cell_type": "markdown",
   "id": "2a635c38-3809-402b-8157-0af41ab49f5f",
   "metadata": {},
   "source": [
    "# Some experiments with Theorem 1.1\n",
    "\n",
    "James Yu, 20 December 2021"
   ]
  },
  {
   "cell_type": "code",
   "execution_count": 2,
   "id": "2459081b-a454-459b-ba6d-21cc18b3d7d1",
   "metadata": {},
   "outputs": [],
   "source": [
    "import numpy as np\n",
    "from sympy import *"
   ]
  },
  {
   "cell_type": "markdown",
   "id": "10e4e33b-b97e-4597-a7f5-49c27f350ce0",
   "metadata": {},
   "source": [
    "## Is the simple $\\epsilon$ weight adjustment valid?"
   ]
  },
  {
   "cell_type": "code",
   "execution_count": 2,
   "id": "183e7c69-ef8e-47fe-873c-be5daeea0325",
   "metadata": {},
   "outputs": [
    {
     "name": "stdout",
     "output_type": "stream",
     "text": [
      "[[ 0.   0.   0.1 -0.1]\n",
      " [ 0.   0.  -0.1  0.1]\n",
      " [ 0.1 -0.1  0.   0. ]\n",
      " [-0.1  0.1  0.   0. ]]\n"
     ]
    }
   ],
   "source": [
    "Q = np.identity(2) # I_2\n",
    "\n",
    "R = np.identity(1) # I_1\n",
    "\n",
    "B = np.array([\n",
    "    [0.5], \n",
    "    [0.5],\n",
    "], ndmin = 2) # require B to be a matrix (ndmin = 2), even though one of its dimensions is 1\n",
    "\n",
    "A = np.array([\n",
    "    [0.25, 0.25],\n",
    "    [0.25, 0.25],\n",
    "], ndmin = 2) # ndmin = 2 isn't necessary here because the matrix has both dimensions > 1, but I keep it for consistency\n",
    "\n",
    "epsilon = 0.1\n",
    "\n",
    "A_prime = np.array([\n",
    "    [0.25 + epsilon, 0.25 - epsilon],\n",
    "    [0.25 - epsilon, 0.25  + epsilon],\n",
    "], ndmin = 2)\n",
    "\n",
    "RHS = np.block([\n",
    "    [Q, A.T], # A is symmetric but put transpose for consistency with theorem\n",
    "    [A, -B @ np.linalg.inv(R) @ B.T],\n",
    "])\n",
    "\n",
    "LHS = np.block([\n",
    "    [Q, A_prime.T],\n",
    "    [A_prime, -B @ np.linalg.inv(R) @ B.T],\n",
    "])\n",
    "\n",
    "print(LHS - RHS)"
   ]
  },
  {
   "cell_type": "code",
   "execution_count": 3,
   "id": "d94dbf0e-7e40-4fcf-8d7c-ae30fc205a71",
   "metadata": {
    "tags": []
   },
   "outputs": [
    {
     "data": {
      "text/plain": [
       "array([[ 5],\n",
       "       [-5],\n",
       "       [-5],\n",
       "       [ 5]])"
      ]
     },
     "execution_count": 3,
     "metadata": {},
     "output_type": "execute_result"
    }
   ],
   "source": [
    "x = np.array([5, -5, -5, 5], ndmin = 2).T\n",
    "x"
   ]
  },
  {
   "cell_type": "code",
   "execution_count": 4,
   "id": "b4e80422-5664-4936-8b72-5e9d99fab389",
   "metadata": {},
   "outputs": [
    {
     "data": {
      "text/plain": [
       "array([[-1.],\n",
       "       [ 1.],\n",
       "       [ 1.],\n",
       "       [-1.]])"
      ]
     },
     "execution_count": 4,
     "metadata": {},
     "output_type": "execute_result"
    }
   ],
   "source": [
    "test = LHS - RHS\n",
    "test @ x"
   ]
  },
  {
   "cell_type": "code",
   "execution_count": 5,
   "id": "03e028c6-172c-414d-af10-d877203dcf4b",
   "metadata": {},
   "outputs": [
    {
     "data": {
      "text/plain": [
       "array([[-20.]])"
      ]
     },
     "execution_count": 5,
     "metadata": {},
     "output_type": "execute_result"
    }
   ],
   "source": [
    "x.T @ test @ x"
   ]
  },
  {
   "cell_type": "markdown",
   "id": "811bdbd1-c44e-4864-abca-06a184f195cc",
   "metadata": {},
   "source": [
    "The matrix is not positive semidefinite."
   ]
  },
  {
   "cell_type": "code",
   "execution_count": 6,
   "id": "a5cc413c-3edb-4d97-83eb-16ce67717272",
   "metadata": {},
   "outputs": [
    {
     "data": {
      "text/plain": [
       "array([[20.]])"
      ]
     },
     "execution_count": 6,
     "metadata": {},
     "output_type": "execute_result"
    }
   ],
   "source": [
    "x = np.array([-5, 5, -5, 5], ndmin = 2).T\n",
    "x.T @ test @ x"
   ]
  },
  {
   "cell_type": "markdown",
   "id": "d5c7ae74-8e4c-4901-9fc0-91e3ccc323d1",
   "metadata": {},
   "source": [
    "Nor is it negative semidefinite."
   ]
  },
  {
   "cell_type": "markdown",
   "id": "07775d9c-6e56-45f0-8d97-700df326652a",
   "metadata": {},
   "source": [
    "### Conclusion: appears to not be valid in the 2x2 case."
   ]
  },
  {
   "cell_type": "markdown",
   "id": "cd64cf48-2946-4cb5-81cb-59195e856135",
   "metadata": {},
   "source": [
    "## Theoretical verification:\n",
    "\n",
    "The above does work standalone as a counterfactual, however."
   ]
  },
  {
   "cell_type": "code",
   "execution_count": 7,
   "id": "31a9a0b2-c5f3-44b9-91f7-9e587f0329ce",
   "metadata": {},
   "outputs": [
    {
     "data": {
      "text/latex": [
       "$\\displaystyle \\left[\\begin{matrix}0 & 0 & \\epsilon & - \\epsilon\\\\0 & 0 & - \\epsilon & \\epsilon\\\\\\epsilon & - \\epsilon & 0 & 0\\\\- \\epsilon & \\epsilon & 0 & 0\\end{matrix}\\right]$"
      ],
      "text/plain": [
       "Matrix([\n",
       "[       0,        0,  epsilon, -epsilon],\n",
       "[       0,        0, -epsilon,  epsilon],\n",
       "[ epsilon, -epsilon,        0,        0],\n",
       "[-epsilon,  epsilon,        0,        0]])"
      ]
     },
     "execution_count": 7,
     "metadata": {},
     "output_type": "execute_result"
    }
   ],
   "source": [
    "x1, x2, x3, x4, epsilon = symbols(\"x1, x2, x3, x4, epsilon\")\n",
    "\n",
    "M = Matrix(([[0, 0, epsilon, -epsilon], [0, 0, -epsilon, epsilon], [epsilon, -epsilon, 0, 0], [-epsilon, epsilon, 0, 0]]))\n",
    "x = Matrix(([[x1, x2, x3, x4]]))\n",
    "M"
   ]
  },
  {
   "cell_type": "code",
   "execution_count": 8,
   "id": "dc0a69fa-345c-4f15-853f-7f0b3b1105fa",
   "metadata": {},
   "outputs": [
    {
     "data": {
      "text/latex": [
       "$\\displaystyle \\left[\\begin{matrix}2 \\epsilon \\left(x_{1} x_{3} - x_{1} x_{4} - x_{2} x_{3} + x_{2} x_{4}\\right)\\end{matrix}\\right]$"
      ],
      "text/plain": [
       "Matrix([[2*epsilon*(x1*x3 - x1*x4 - x2*x3 + x2*x4)]])"
      ]
     },
     "execution_count": 8,
     "metadata": {},
     "output_type": "execute_result"
    }
   ],
   "source": [
    "simplify(expand(x * M * x.T))"
   ]
  },
  {
   "cell_type": "markdown",
   "id": "cb1a7972-da76-4341-91b5-3f5b9a03bb46",
   "metadata": {
    "tags": []
   },
   "source": [
    "which reduces to $2\\epsilon(x_1 - x_2)(x_3 - x_4)$, which is not necessarily non-negative $\\forall x$."
   ]
  },
  {
   "cell_type": "markdown",
   "id": "a123a4e1-0d27-4a04-a75d-6acb3324ca49",
   "metadata": {},
   "source": [
    "## What adjustment to the $A$ matrix would work?"
   ]
  },
  {
   "cell_type": "markdown",
   "id": "b0d8f778-18b0-4dc2-82fd-a76847e1a3aa",
   "metadata": {},
   "source": [
    "Any working adjustment would need to preserve the weight of the strategic agent through $B$ and thus has to be balanced across columns."
   ]
  },
  {
   "cell_type": "code",
   "execution_count": 11,
   "id": "b174dfa1-4404-4e5c-a6d0-3c8658f4917b",
   "metadata": {},
   "outputs": [
    {
     "data": {
      "text/latex": [
       "$\\displaystyle \\left[\\begin{matrix}0 & 0 & \\epsilon & - \\epsilon\\\\0 & 0 & 0 & 0\\\\\\epsilon & - \\epsilon & 0 & 0\\\\0 & 0 & 0 & 0\\end{matrix}\\right]$"
      ],
      "text/plain": [
       "Matrix([\n",
       "[      0,        0, epsilon, -epsilon],\n",
       "[      0,        0,       0,        0],\n",
       "[epsilon, -epsilon,       0,        0],\n",
       "[      0,        0,       0,        0]])"
      ]
     },
     "execution_count": 11,
     "metadata": {},
     "output_type": "execute_result"
    }
   ],
   "source": [
    "x1, x2, x3, x4, epsilon, delta = symbols(\"x1, x2, x3, x4, epsilon, delta\")\n",
    "\n",
    "M = Matrix(([[0, 0, epsilon, -epsilon], [0, 0, 0, 0], [epsilon, -epsilon, 0, 0], [0, 0, 0, 0]]))\n",
    "x = Matrix(([[x1, x2, x3, x4]]))\n",
    "M"
   ]
  },
  {
   "cell_type": "code",
   "execution_count": 12,
   "id": "fe0ee481-2cc8-475f-b4a8-b3806ded584e",
   "metadata": {},
   "outputs": [
    {
     "data": {
      "text/latex": [
       "$\\displaystyle \\left[\\begin{matrix}2 \\epsilon x_{1} x_{3} - \\epsilon x_{1} x_{4} - \\epsilon x_{2} x_{3}\\end{matrix}\\right]$"
      ],
      "text/plain": [
       "Matrix([[2*epsilon*x1*x3 - epsilon*x1*x4 - epsilon*x2*x3]])"
      ]
     },
     "execution_count": 12,
     "metadata": {},
     "output_type": "execute_result"
    }
   ],
   "source": [
    "x * M * x.T"
   ]
  },
  {
   "cell_type": "code",
   "execution_count": 13,
   "id": "d5d94020-b556-45af-aaa4-c61febc3b158",
   "metadata": {},
   "outputs": [
    {
     "data": {
      "text/latex": [
       "$\\displaystyle \\left[\\begin{matrix}2 \\epsilon x_{1} x_{3} - \\epsilon x_{1} x_{4} - \\epsilon x_{2} x_{3}\\end{matrix}\\right]$"
      ],
      "text/plain": [
       "Matrix([[2*epsilon*x1*x3 - epsilon*x1*x4 - epsilon*x2*x3]])"
      ]
     },
     "execution_count": 13,
     "metadata": {},
     "output_type": "execute_result"
    }
   ],
   "source": [
    "expand(x * M * x.T)"
   ]
  },
  {
   "cell_type": "markdown",
   "id": "9df1f2b9-37ed-4dea-9ffb-629331754220",
   "metadata": {},
   "source": [
    "This expression would have to be greater or equal to zero, $\\forall x$, for the theorem to apply."
   ]
  },
  {
   "cell_type": "code",
   "execution_count": 14,
   "id": "c3660ad9-6b4b-4b9b-8b4d-e2406224f540",
   "metadata": {
    "tags": []
   },
   "outputs": [
    {
     "data": {
      "text/latex": [
       "$\\displaystyle \\left[\\begin{matrix}2 \\epsilon x_{1} x_{3}\\end{matrix}\\right]$"
      ],
      "text/plain": [
       "Matrix([[2*epsilon*x1*x3]])"
      ]
     },
     "execution_count": 14,
     "metadata": {},
     "output_type": "execute_result"
    }
   ],
   "source": [
    "expand(x * M * x.T).subs(x2, 0).subs(x4, 0)"
   ]
  },
  {
   "cell_type": "code",
   "execution_count": 10,
   "id": "f17bcc41-15fa-40b7-8365-f1f12ca1927a",
   "metadata": {},
   "outputs": [
    {
     "data": {
      "text/latex": [
       "$\\displaystyle \\left[\\begin{matrix}- 2 \\delta x_{2} x_{4}\\end{matrix}\\right]$"
      ],
      "text/plain": [
       "Matrix([[-2*delta*x2*x4]])"
      ]
     },
     "execution_count": 10,
     "metadata": {},
     "output_type": "execute_result"
    }
   ],
   "source": [
    "expand(x * M * x.T).subs(x1, 0).subs(x3, 0)"
   ]
  },
  {
   "cell_type": "markdown",
   "id": "87d0973a-0592-49d6-be07-2246da178346",
   "metadata": {},
   "source": [
    "These are not necessarily non-negative either with respect to $x$."
   ]
  },
  {
   "cell_type": "markdown",
   "id": "352a347a-9c50-447c-b300-b8758a224d18",
   "metadata": {},
   "source": [
    "## What about adjusting B?"
   ]
  },
  {
   "cell_type": "code",
   "execution_count": 2,
   "id": "34817211-2228-4e00-b36f-231fb144b4ef",
   "metadata": {},
   "outputs": [],
   "source": [
    "x1, x2, x3, x4, a11, a12, a22, b1, b2, epsilon, delta = symbols(\"x1, x2, x3, x4, a11, a12, a22, b1, b2, epsilon, delta\")\n",
    "\n",
    "# now this is the A from before\n",
    "A_tilde = Matrix(([[a11 - epsilon/2, a12 - epsilon/2], [a12 - epsilon/2, a22 - epsilon/2]]))\n",
    "B_tilde = Matrix(([[b1 + epsilon], [b2 + epsilon]]))"
   ]
  },
  {
   "cell_type": "code",
   "execution_count": 3,
   "id": "fb2df839-5698-48a1-a365-0fde6118e67c",
   "metadata": {},
   "outputs": [
    {
     "data": {
      "text/latex": [
       "$\\displaystyle \\left[\\begin{matrix}a_{11} - \\frac{\\epsilon}{2} & a_{12} - \\frac{\\epsilon}{2}\\\\a_{12} - \\frac{\\epsilon}{2} & a_{22} - \\frac{\\epsilon}{2}\\end{matrix}\\right]$"
      ],
      "text/plain": [
       "Matrix([\n",
       "[a11 - epsilon/2, a12 - epsilon/2],\n",
       "[a12 - epsilon/2, a22 - epsilon/2]])"
      ]
     },
     "execution_count": 3,
     "metadata": {},
     "output_type": "execute_result"
    }
   ],
   "source": [
    "A_tilde"
   ]
  },
  {
   "cell_type": "code",
   "execution_count": 4,
   "id": "4e66ac51-fbe6-4a70-8022-1c9a6174c897",
   "metadata": {},
   "outputs": [
    {
     "data": {
      "text/latex": [
       "$\\displaystyle \\left[\\begin{matrix}b_{1} + \\epsilon\\\\b_{2} + \\epsilon\\end{matrix}\\right]$"
      ],
      "text/plain": [
       "Matrix([\n",
       "[b1 + epsilon],\n",
       "[b2 + epsilon]])"
      ]
     },
     "execution_count": 4,
     "metadata": {},
     "output_type": "execute_result"
    }
   ],
   "source": [
    "B_tilde"
   ]
  },
  {
   "cell_type": "markdown",
   "id": "86845df1-9bae-408d-97d2-472a19cfaf9f",
   "metadata": {},
   "source": [
    "Even reweightings from the naive agents."
   ]
  },
  {
   "cell_type": "code",
   "execution_count": 5,
   "id": "8c020e5c-7f3b-4aed-af93-ccd3e457884c",
   "metadata": {},
   "outputs": [
    {
     "data": {
      "text/latex": [
       "$\\displaystyle \\left[\\begin{matrix}- \\left(b_{1} + \\epsilon\\right)^{2} & - \\left(b_{1} + \\epsilon\\right) \\left(b_{2} + \\epsilon\\right)\\\\- \\left(b_{1} + \\epsilon\\right) \\left(b_{2} + \\epsilon\\right) & - \\left(b_{2} + \\epsilon\\right)^{2}\\end{matrix}\\right]$"
      ],
      "text/plain": [
       "Matrix([\n",
       "[            -(b1 + epsilon)**2, -(b1 + epsilon)*(b2 + epsilon)],\n",
       "[-(b1 + epsilon)*(b2 + epsilon),             -(b2 + epsilon)**2]])"
      ]
     },
     "execution_count": 5,
     "metadata": {},
     "output_type": "execute_result"
    }
   ],
   "source": [
    "simplify(-B_tilde * B_tilde.T) # - B R^-1 B', but suppose R = 1"
   ]
  },
  {
   "cell_type": "code",
   "execution_count": 1,
   "id": "b2f23900-fd31-45bf-9e32-4271e1bab3a4",
   "metadata": {},
   "outputs": [
    {
     "ename": "NameError",
     "evalue": "name 'Matrix' is not defined",
     "output_type": "error",
     "traceback": [
      "\u001b[1;31m---------------------------------------------------------------------------\u001b[0m",
      "\u001b[1;31mNameError\u001b[0m                                 Traceback (most recent call last)",
      "\u001b[1;32m<ipython-input-1-34ac458292ff>\u001b[0m in \u001b[0;36m<module>\u001b[1;34m\u001b[0m\n\u001b[1;32m----> 1\u001b[1;33m \u001b[0mB\u001b[0m \u001b[1;33m=\u001b[0m \u001b[0mMatrix\u001b[0m\u001b[1;33m(\u001b[0m\u001b[1;33m(\u001b[0m\u001b[1;33m[\u001b[0m\u001b[1;33m[\u001b[0m\u001b[0mb1\u001b[0m\u001b[1;33m]\u001b[0m\u001b[1;33m,\u001b[0m \u001b[1;33m[\u001b[0m\u001b[0mb2\u001b[0m\u001b[1;33m]\u001b[0m\u001b[1;33m]\u001b[0m\u001b[1;33m)\u001b[0m\u001b[1;33m)\u001b[0m\u001b[1;33m\u001b[0m\u001b[1;33m\u001b[0m\u001b[0m\n\u001b[0m\u001b[0;32m      2\u001b[0m \u001b[0msimplify\u001b[0m\u001b[1;33m(\u001b[0m\u001b[1;33m(\u001b[0m\u001b[1;33m-\u001b[0m\u001b[0mB_tilde\u001b[0m \u001b[1;33m*\u001b[0m \u001b[0mB_tilde\u001b[0m\u001b[1;33m.\u001b[0m\u001b[0mT\u001b[0m\u001b[1;33m)\u001b[0m \u001b[1;33m-\u001b[0m \u001b[1;33m(\u001b[0m\u001b[1;33m-\u001b[0m\u001b[0mB\u001b[0m \u001b[1;33m*\u001b[0m \u001b[0mB\u001b[0m\u001b[1;33m.\u001b[0m\u001b[0mT\u001b[0m\u001b[1;33m)\u001b[0m\u001b[1;33m)\u001b[0m\u001b[1;33m\u001b[0m\u001b[1;33m\u001b[0m\u001b[0m\n",
      "\u001b[1;31mNameError\u001b[0m: name 'Matrix' is not defined"
     ]
    }
   ],
   "source": [
    "B = Matrix(([[b1], [b2]]))\n",
    "simplify((-B_tilde * B_tilde.T) - (-B * B.T))"
   ]
  },
  {
   "cell_type": "code",
   "execution_count": 3,
   "id": "7f80fc63-f30c-4fcc-b26d-d62230db9616",
   "metadata": {},
   "outputs": [
    {
     "data": {
      "text/latex": [
       "$\\displaystyle \\left[\\begin{matrix}0 & 0 & - \\frac{\\epsilon}{2} & - \\frac{\\epsilon}{2}\\\\0 & 0 & - \\frac{\\delta}{2} & - \\frac{\\delta}{2}\\\\- \\frac{\\epsilon}{2} & - \\frac{\\epsilon}{2} & - b_{1}^{2} - \\left(b_{1} + \\epsilon\\right)^{2} & - b_{1} b_{2} - \\left(b_{1} + \\epsilon\\right) \\left(b_{2} + \\delta\\right)\\\\- \\frac{\\delta}{2} & - \\frac{\\delta}{2} & - b_{1} b_{2} - \\left(b_{1} + \\epsilon\\right) \\left(b_{2} + \\delta\\right) & - b_{2}^{2} - \\left(b_{2} + \\delta\\right)^{2}\\end{matrix}\\right]$"
      ],
      "text/plain": [
       "Matrix([\n",
       "[         0,          0,                           -epsilon/2,                           -epsilon/2],\n",
       "[         0,          0,                             -delta/2,                             -delta/2],\n",
       "[-epsilon/2, -epsilon/2,           -b1**2 - (b1 + epsilon)**2, -b1*b2 - (b1 + epsilon)*(b2 + delta)],\n",
       "[  -delta/2,   -delta/2, -b1*b2 - (b1 + epsilon)*(b2 + delta),             -b2**2 - (b2 + delta)**2]])"
      ]
     },
     "execution_count": 3,
     "metadata": {},
     "output_type": "execute_result"
    }
   ],
   "source": [
    "M = Matrix(([[0, 0, -epsilon/2, -epsilon/2], \n",
    "             [0, 0, -delta/2, -delta/2], \n",
    "             [-epsilon/2, -epsilon/2, -(b1**2) - (b1 + epsilon)**2, -b1*b2 - (b1+epsilon)*(b2+delta)], \n",
    "             [-delta/2, -delta/2, -b1*b2 - (b1 + epsilon)*(b2 + delta), -(b2**2) - (b2 + delta)**2]]))\n",
    "M"
   ]
  },
  {
   "cell_type": "code",
   "execution_count": 4,
   "id": "6c88461a-b65d-48f4-a746-5abd8e5a511d",
   "metadata": {
    "tags": []
   },
   "outputs": [
    {
     "data": {
      "text/latex": [
       "$\\displaystyle \\left[\\begin{matrix}- \\frac{x_{1} \\left(\\delta x_{4} + \\epsilon x_{3}\\right)}{2} - \\frac{x_{2} \\left(\\delta x_{4} + \\epsilon x_{3}\\right)}{2} - \\frac{x_{3} \\left(\\delta x_{2} + \\epsilon x_{1} + 2 x_{3} \\left(b_{1}^{2} + \\left(b_{1} + \\epsilon\\right)^{2}\\right) + 2 x_{4} \\left(b_{1} b_{2} + \\left(b_{1} + \\epsilon\\right) \\left(b_{2} + \\delta\\right)\\right)\\right)}{2} - \\frac{x_{4} \\left(\\delta x_{2} + \\epsilon x_{1} + 2 x_{3} \\left(b_{1} b_{2} + \\left(b_{1} + \\epsilon\\right) \\left(b_{2} + \\delta\\right)\\right) + 2 x_{4} \\left(b_{2}^{2} + \\left(b_{2} + \\delta\\right)^{2}\\right)\\right)}{2}\\end{matrix}\\right]$"
      ],
      "text/plain": [
       "Matrix([[-x1*(delta*x4 + epsilon*x3)/2 - x2*(delta*x4 + epsilon*x3)/2 - x3*(delta*x2 + epsilon*x1 + 2*x3*(b1**2 + (b1 + epsilon)**2) + 2*x4*(b1*b2 + (b1 + epsilon)*(b2 + delta)))/2 - x4*(delta*x2 + epsilon*x1 + 2*x3*(b1*b2 + (b1 + epsilon)*(b2 + delta)) + 2*x4*(b2**2 + (b2 + delta)**2))/2]])"
      ]
     },
     "execution_count": 4,
     "metadata": {},
     "output_type": "execute_result"
    }
   ],
   "source": [
    "x = Matrix(([[x1, x2, x3, x4]]))\n",
    "simplify(x * M * x.T)"
   ]
  },
  {
   "cell_type": "markdown",
   "id": "a926f646-a8ab-49c8-97b1-9c98ae8e2a23",
   "metadata": {},
   "source": [
    "The term to the right of $x_4$ must be positive since $b_2 > 0$ (this result is irrespective of whether $\\delta$ is positive or negative). The whole term then cannot be positive due to the minus sign in front. For example, if $x_4 = 1$, then:"
   ]
  },
  {
   "cell_type": "code",
   "execution_count": 5,
   "id": "06558591-3b34-45b1-a8b2-62836d0bc47a",
   "metadata": {},
   "outputs": [
    {
     "data": {
      "text/latex": [
       "$\\displaystyle \\left[\\begin{matrix}- x_{3}^{2} \\left(b_{1}^{2} + \\left(b_{1} + \\epsilon\\right)^{2}\\right)\\end{matrix}\\right]$"
      ],
      "text/plain": [
       "Matrix([[-x3**2*(b1**2 + (b1 + epsilon)**2)]])"
      ]
     },
     "execution_count": 5,
     "metadata": {},
     "output_type": "execute_result"
    }
   ],
   "source": [
    "simplify(x * M * x.T).subs(x1, 0).subs(x4, 0).subs(x2, 0)"
   ]
  },
  {
   "cell_type": "markdown",
   "id": "4bc65bf2-c4d4-4033-968b-03e4138ec92a",
   "metadata": {},
   "source": [
    "This must be negative. The negative sign is outside the $b_2^2$ term as can be seen by the following:"
   ]
  },
  {
   "cell_type": "code",
   "execution_count": 22,
   "id": "1395d9cb-8113-4c84-9a96-0c7e48b9a37d",
   "metadata": {
    "tags": []
   },
   "outputs": [
    {
     "data": {
      "text/latex": [
       "$\\displaystyle \\left[\\begin{matrix}- \\left(\\delta + 0.5\\right)^{2} - 0.25\\end{matrix}\\right]$"
      ],
      "text/plain": [
       "Matrix([[-(delta + 0.5)**2 - 0.25]])"
      ]
     },
     "execution_count": 22,
     "metadata": {},
     "output_type": "execute_result"
    }
   ],
   "source": [
    "simplify(x * M * x.T).subs(x1, 0).subs(x3, 0).subs(x2, 0).subs(x4, 1).subs(b2, 0.5)"
   ]
  },
  {
   "cell_type": "markdown",
   "id": "d5a4e83a-0602-4c93-a171-e273e9ff4732",
   "metadata": {},
   "source": [
    "So this is a counterexample for the $B$ adjustment case, at least for $\\delta \\neq 0$."
   ]
  }
 ],
 "metadata": {
  "kernelspec": {
   "display_name": "Python 3",
   "language": "python",
   "name": "python3"
  },
  "language_info": {
   "codemirror_mode": {
    "name": "ipython",
    "version": 3
   },
   "file_extension": ".py",
   "mimetype": "text/x-python",
   "name": "python",
   "nbconvert_exporter": "python",
   "pygments_lexer": "ipython3",
   "version": "3.8.8"
  },
  "widgets": {
   "application/vnd.jupyter.widget-state+json": {
    "state": {},
    "version_major": 2,
    "version_minor": 0
   }
  }
 },
 "nbformat": 4,
 "nbformat_minor": 5
}
