{
 "cells": [
  {
   "cell_type": "markdown",
   "id": "2dc596bd-b630-4dbf-a643-860b9f118c5a",
   "metadata": {},
   "source": [
    "# Unified Model with Integrated Bot: Highly Symmetric Case In-Depth\n",
    "\n",
    "James Yu, 20 August 2022"
   ]
  },
  {
   "cell_type": "code",
   "execution_count": 1,
   "id": "5deb7be5-5bd5-4cda-9926-3be72f5cacb8",
   "metadata": {},
   "outputs": [],
   "source": [
    "import matplotlib.pyplot as plt\n",
    "import numpy as np\n",
    "from numpy.linalg import inv\n",
    "from sympy import *\n",
    "np.set_printoptions(suppress=True) # disable scientific notation for readability"
   ]
  },
  {
   "cell_type": "markdown",
   "id": "548391b6-7522-4fc0-afcd-5d27847bfc76",
   "metadata": {},
   "source": [
    "# 1. Verify the $x_{\\infty}$ formula\n",
    "\n",
    "This formula is\n",
    "\n",
    "$$x_{\\infty} = \\frac{cd - \\delta k_2}{cd + \\delta k_1} z$$"
   ]
  },
  {
   "cell_type": "code",
   "execution_count": 2,
   "id": "5d7a5d27-4795-4156-9f05-fffbaaff09c4",
   "metadata": {
    "tags": []
   },
   "outputs": [],
   "source": [
    "def infinite_solution(A_n, A_c, delta, c, x_0, z):\n",
    "    n = len(x_0)\n",
    "    eps = np.finfo(np.float64).eps\n",
    "    I = np.identity(n)\n",
    "    O = np.zeros((n, n))\n",
    "    \n",
    "    Q = np.block([\n",
    "        [I, O], \n",
    "        [O, O]\n",
    "    ])\n",
    "    A = np.block([\n",
    "        [A_n, A_c], \n",
    "        [O, I]\n",
    "    ])\n",
    "    B = np.block([\n",
    "        [I],\n",
    "        [O]\n",
    "    ])\n",
    "    K_t = Q\n",
    "    K_sequence = [K_t]\n",
    "    \n",
    "    while True: # generate solution matrices; note I divide delta into the inverse term for simplification\n",
    "        K_t_new = Q + delta * A.T @ (K_t - K_t @ B @ inv(B.T @ K_t @ B + c * I / delta) @ B.T @ K_t) @ A\n",
    "        K_sequence.insert(0, K_t_new)\n",
    "        if np.allclose(K_t, K_t_new, rtol = eps, atol = eps): break\n",
    "        K_t = K_t_new\n",
    "\n",
    "    chi_var = np.block([\n",
    "        [x_0], \n",
    "        [z]\n",
    "    ])\n",
    "    chi_ts = [chi_var]\n",
    "    r_ts = []\n",
    "    K_ss = K_sequence[0]\n",
    "    L_ss = -inv(B.T @ K_ss @ B + c * I / delta) @ B.T @ K_ss @ A\n",
    "    \n",
    "    payoff = 0\n",
    "    stage_payoffs = []\n",
    "    discounted_stage_payoffs = []\n",
    "    cumulative_payoffs = []\n",
    "    \n",
    "    i = 0\n",
    "    while True:\n",
    "        r_t = L_ss @ chi_var\n",
    "        r_ts.append(r_t)\n",
    "        p = -(chi_var.T @ Q @ chi_var + c * r_t.T @ r_t).item()\n",
    "        payoff += delta**i * p\n",
    "        stage_payoffs.append(p)\n",
    "        discounted_stage_payoffs.append(delta**i * p)\n",
    "        cumulative_payoffs.append(payoff)\n",
    "        chi_var_new = A @ chi_var + B @ r_t\n",
    "        chi_ts.append(chi_var_new)\n",
    "        if np.allclose(chi_var, chi_var_new, rtol = eps, atol = eps): break\n",
    "        chi_var = chi_var_new\n",
    "        i += 1\n",
    "        \n",
    "    return chi_ts, K_ss #, r_ts, stage_payoffs, discounted_stage_payoffs, cumulative_payoffs, K_ss, L_ss"
   ]
  },
  {
   "cell_type": "markdown",
   "id": "e63784e2-116d-4ca9-9b5f-b0056b51d009",
   "metadata": {},
   "source": [
    "## Baseline"
   ]
  },
  {
   "cell_type": "code",
   "execution_count": 3,
   "id": "1948b15f-c07e-4a9f-8446-3dc51cae3d24",
   "metadata": {},
   "outputs": [],
   "source": [
    "A_1_n = 0.99 * np.array([\n",
    "    [0.5, 0.25, 0.25],\n",
    "    [0.25, 0.5, 0.25],\n",
    "    [0.25, 0.25, 0.5]\n",
    "])\n",
    "A_1_c = np.diag([0.01, 0.01, 0.01])\n",
    "delta = 0.999\n",
    "c = 1.0\n",
    "\n",
    "x_0 = np.array([[10.0, 5.0, -20.0]], ndmin = 2).T\n",
    "z = np.array([[5.0, 5.0, 5.0]], ndmin = 2).T"
   ]
  },
  {
   "cell_type": "code",
   "execution_count": 4,
   "id": "d8d521b3-a053-4a6e-a6d5-bdd8b0e966fd",
   "metadata": {},
   "outputs": [],
   "source": [
    "chi_ts, K_ss = infinite_solution(A_1_n, A_1_c, delta, c, x_0, z)"
   ]
  },
  {
   "cell_type": "code",
   "execution_count": 5,
   "id": "4cc80d38-5528-47d7-af0a-7d859b41aff4",
   "metadata": {},
   "outputs": [
    {
     "name": "stdout",
     "output_type": "stream",
     "text": [
      "[[1.22185386 0.19077235 0.19077235 0.00423084 0.00280085 0.00280085]\n",
      " [0.19077235 1.22185386 0.19077235 0.00280085 0.00423084 0.00280085]\n",
      " [0.19077235 0.19077235 1.22185386 0.00280085 0.00280085 0.00423084]\n",
      " [0.00423084 0.00280085 0.00280085 0.0758686  0.01205966 0.01205966]\n",
      " [0.00280085 0.00423084 0.00280085 0.01205966 0.0758686  0.01205966]\n",
      " [0.00280085 0.00280085 0.00423084 0.01205966 0.01205966 0.0758686 ]]\n"
     ]
    }
   ],
   "source": [
    "print(K_ss)"
   ]
  },
  {
   "cell_type": "code",
   "execution_count": 6,
   "id": "04ece7ca-1868-4ce6-bf3b-b82c195ba045",
   "metadata": {},
   "outputs": [
    {
     "data": {
      "text/plain": [
       "array([[1.22185386, 0.19077235, 0.19077235],\n",
       "       [0.19077235, 1.22185386, 0.19077235],\n",
       "       [0.19077235, 0.19077235, 1.22185386]])"
      ]
     },
     "execution_count": 6,
     "metadata": {},
     "output_type": "execute_result"
    }
   ],
   "source": [
    "K_ss[0:3, 0:3] # K_1"
   ]
  },
  {
   "cell_type": "code",
   "execution_count": 7,
   "id": "5fe5717c-43fd-40c7-954c-b93df096d6b6",
   "metadata": {},
   "outputs": [
    {
     "data": {
      "text/plain": [
       "array([[0.00423084, 0.00280085, 0.00280085],\n",
       "       [0.00280085, 0.00423084, 0.00280085],\n",
       "       [0.00280085, 0.00280085, 0.00423084]])"
      ]
     },
     "execution_count": 7,
     "metadata": {},
     "output_type": "execute_result"
    }
   ],
   "source": [
    "K_ss[0:3, 3:6] # K_2"
   ]
  },
  {
   "cell_type": "code",
   "execution_count": 8,
   "id": "a2df7d3b-36c9-436f-8c2b-63013b743786",
   "metadata": {},
   "outputs": [
    {
     "data": {
      "text/plain": [
       "1.6132310912068586"
      ]
     },
     "execution_count": 8,
     "metadata": {},
     "output_type": "execute_result"
    }
   ],
   "source": [
    "k1 = sum(K_ss[0:3, 0:3])[0]\n",
    "k2 = sum(K_ss[0:3, 3:6])[0]\n",
    "k1 + k2"
   ]
  },
  {
   "cell_type": "code",
   "execution_count": 9,
   "id": "75ac87ed-6f02-41a3-8f7d-282c21b51a97",
   "metadata": {},
   "outputs": [
    {
     "data": {
      "text/plain": [
       "array([1.61323109, 1.61323109, 1.61323109, 0.10982046, 0.10982046,\n",
       "       0.10982046])"
      ]
     },
     "execution_count": 9,
     "metadata": {},
     "output_type": "execute_result"
    }
   ],
   "source": [
    "sum(K_ss)"
   ]
  },
  {
   "cell_type": "code",
   "execution_count": 10,
   "id": "3009cacb-0129-4d6d-9d29-dd39cde4cf03",
   "metadata": {},
   "outputs": [
    {
     "data": {
      "text/plain": [
       "array([[0.00054999],\n",
       "       [0.00054999],\n",
       "       [0.00054999]])"
      ]
     },
     "execution_count": 10,
     "metadata": {},
     "output_type": "execute_result"
    }
   ],
   "source": [
    "d = A_1_c[0, 0]\n",
    "z * ((c * d) - (delta * k2)) / ((c * d) + (delta * k1))"
   ]
  },
  {
   "cell_type": "code",
   "execution_count": 11,
   "id": "8cb870ab-5ea6-4b85-a584-646195f2c180",
   "metadata": {},
   "outputs": [
    {
     "data": {
      "text/plain": [
       "array([[0.00054999],\n",
       "       [0.00054999],\n",
       "       [0.00054999],\n",
       "       [5.        ],\n",
       "       [5.        ],\n",
       "       [5.        ]])"
      ]
     },
     "execution_count": 11,
     "metadata": {},
     "output_type": "execute_result"
    }
   ],
   "source": [
    "chi_ts[-1] # x_ss"
   ]
  },
  {
   "cell_type": "markdown",
   "id": "ed2c529d-e709-4082-80bd-1d00115b30de",
   "metadata": {},
   "source": [
    "They are the same."
   ]
  },
  {
   "cell_type": "markdown",
   "id": "610461d2-d73b-42d6-9073-0b69fe4722ff",
   "metadata": {},
   "source": [
    "## Different $x_0$"
   ]
  },
  {
   "cell_type": "code",
   "execution_count": 12,
   "id": "d01d66b9-c30f-4e3a-8982-25ef8928266d",
   "metadata": {},
   "outputs": [
    {
     "data": {
      "text/plain": [
       "array([[0.00054999],\n",
       "       [0.00054999],\n",
       "       [0.00054999]])"
      ]
     },
     "execution_count": 12,
     "metadata": {},
     "output_type": "execute_result"
    }
   ],
   "source": [
    "x_0_1 = np.array([[3.0, 4.0, 5.0]], ndmin = 2).T\n",
    "chi_ts_1, K_ss_1 = infinite_solution(A_1_n, A_1_c, delta, c, x_0_1, z)\n",
    "k1_1 = sum(K_ss_1[0:3, 0:3])[0]\n",
    "k2_1 = sum(K_ss_1[0:3, 3:6])[0]\n",
    "z * ((c * d) - (delta * k2_1)) / ((c * d) + (delta * k1_1))"
   ]
  },
  {
   "cell_type": "code",
   "execution_count": 13,
   "id": "d6300387-d5f2-4ee0-b895-90f8d04f921f",
   "metadata": {},
   "outputs": [
    {
     "data": {
      "text/plain": [
       "array([[0.00054999],\n",
       "       [0.00054999],\n",
       "       [0.00054999],\n",
       "       [5.        ],\n",
       "       [5.        ],\n",
       "       [5.        ]])"
      ]
     },
     "execution_count": 13,
     "metadata": {},
     "output_type": "execute_result"
    }
   ],
   "source": [
    "chi_ts_1[-1]"
   ]
  },
  {
   "cell_type": "markdown",
   "id": "987af9f7-3ec1-424e-babb-c912948f2607",
   "metadata": {},
   "source": [
    "## Lower $\\delta$"
   ]
  },
  {
   "cell_type": "code",
   "execution_count": 14,
   "id": "66d9b503-3862-42cd-8a7d-834b040fdb65",
   "metadata": {},
   "outputs": [
    {
     "data": {
      "text/plain": [
       "array([[0.04999505],\n",
       "       [0.04999505],\n",
       "       [0.04999505]])"
      ]
     },
     "execution_count": 14,
     "metadata": {},
     "output_type": "execute_result"
    }
   ],
   "source": [
    "delta_2 = 0.5\n",
    "chi_ts_2, K_ss_2 = infinite_solution(A_1_n, A_1_c, delta_2, c, x_0, z)\n",
    "k1_2 = sum(K_ss_2[0:3, 0:3])[0]\n",
    "k2_2 = sum(K_ss_2[0:3, 3:6])[0]\n",
    "z * ((c * d) - (delta_2 * k2_2)) / ((c * d) + (delta_2 * k1_2))"
   ]
  },
  {
   "cell_type": "code",
   "execution_count": 15,
   "id": "7d682e77-0605-483a-830a-e80b9fdb342c",
   "metadata": {},
   "outputs": [
    {
     "data": {
      "text/plain": [
       "array([[0.04999505],\n",
       "       [0.04999505],\n",
       "       [0.04999505],\n",
       "       [5.        ],\n",
       "       [5.        ],\n",
       "       [5.        ]])"
      ]
     },
     "execution_count": 15,
     "metadata": {},
     "output_type": "execute_result"
    }
   ],
   "source": [
    "chi_ts_2[-1]"
   ]
  },
  {
   "cell_type": "markdown",
   "id": "5c1c4021-5c4e-4beb-b11f-f175ed088e72",
   "metadata": {},
   "source": [
    "## Lower $c$"
   ]
  },
  {
   "cell_type": "code",
   "execution_count": 16,
   "id": "ab19bd75-603a-43b3-ad9c-983e98a2cd53",
   "metadata": {},
   "outputs": [
    {
     "data": {
      "text/plain": [
       "array([[0.000055],\n",
       "       [0.000055],\n",
       "       [0.000055]])"
      ]
     },
     "execution_count": 16,
     "metadata": {},
     "output_type": "execute_result"
    }
   ],
   "source": [
    "c_3 = 0.1\n",
    "chi_ts_3, K_ss_3 = infinite_solution(A_1_n, A_1_c, delta, c_3, x_0, z)\n",
    "k1_3 = sum(K_ss_3[0:3, 0:3])[0]\n",
    "k2_3 = sum(K_ss_3[0:3, 3:6])[0]\n",
    "z * ((c_3 * d) - (delta * k2_3)) / ((c_3 * d) + (delta * k1_3))"
   ]
  },
  {
   "cell_type": "code",
   "execution_count": 17,
   "id": "cf454ca0-d530-48a6-ad16-d9cda61e58cd",
   "metadata": {},
   "outputs": [
    {
     "data": {
      "text/plain": [
       "array([[0.000055],\n",
       "       [0.000055],\n",
       "       [0.000055],\n",
       "       [5.      ],\n",
       "       [5.      ],\n",
       "       [5.      ]])"
      ]
     },
     "execution_count": 17,
     "metadata": {},
     "output_type": "execute_result"
    }
   ],
   "source": [
    "chi_ts_3[-1]"
   ]
  },
  {
   "cell_type": "markdown",
   "id": "e560a554-c461-456b-9f64-239ac2eef915",
   "metadata": {},
   "source": [
    "## Higher $c$"
   ]
  },
  {
   "cell_type": "code",
   "execution_count": 18,
   "id": "3e7834ab-f6d7-4e7a-84d0-acb64241b205",
   "metadata": {},
   "outputs": [
    {
     "data": {
      "text/plain": [
       "array([[0.05440648],\n",
       "       [0.05440648],\n",
       "       [0.05440648]])"
      ]
     },
     "execution_count": 18,
     "metadata": {},
     "output_type": "execute_result"
    }
   ],
   "source": [
    "c_4 = 100.0\n",
    "chi_ts_4, K_ss_4 = infinite_solution(A_1_n, A_1_c, delta, c_4, x_0, z)\n",
    "k1_4 = sum(K_ss_4[0:3, 0:3])[0]\n",
    "k2_4 = sum(K_ss_4[0:3, 3:6])[0]\n",
    "z * ((c_4 * d) - (delta * k2_4)) / ((c_4 * d) + (delta * k1_4))"
   ]
  },
  {
   "cell_type": "code",
   "execution_count": 19,
   "id": "29ce9e4e-30a6-4890-b9bf-79fe2f6b785c",
   "metadata": {},
   "outputs": [
    {
     "data": {
      "text/plain": [
       "array([[0.05440648],\n",
       "       [0.05440648],\n",
       "       [0.05440648],\n",
       "       [5.        ],\n",
       "       [5.        ],\n",
       "       [5.        ]])"
      ]
     },
     "execution_count": 19,
     "metadata": {},
     "output_type": "execute_result"
    }
   ],
   "source": [
    "chi_ts_4[-1]"
   ]
  },
  {
   "cell_type": "markdown",
   "id": "faca594d-22c7-4b68-a8e0-5922286d6316",
   "metadata": {},
   "source": [
    "## Different $z$"
   ]
  },
  {
   "cell_type": "code",
   "execution_count": 20,
   "id": "688f109b-58d8-4322-88c4-89bb79639e4a",
   "metadata": {},
   "outputs": [
    {
     "data": {
      "text/plain": [
       "array([[0.00219996],\n",
       "       [0.00219996],\n",
       "       [0.00219996]])"
      ]
     },
     "execution_count": 20,
     "metadata": {},
     "output_type": "execute_result"
    }
   ],
   "source": [
    "z_5 = np.array([[20.0, 20.0, 20.0]], ndmin = 2).T\n",
    "chi_ts_5, K_ss_5 = infinite_solution(A_1_n, A_1_c, delta, c, x_0, z_5)\n",
    "k1_5 = sum(K_ss_5[0:3, 0:3])[0]\n",
    "k2_5 = sum(K_ss_5[0:3, 3:6])[0]\n",
    "z_5 * ((c * d) - (delta * k2_5)) / ((c * d) + (delta * k1_5))"
   ]
  },
  {
   "cell_type": "code",
   "execution_count": 21,
   "id": "c8b583fc-a81d-4998-94cd-352981e20ca8",
   "metadata": {},
   "outputs": [
    {
     "data": {
      "text/plain": [
       "array([[ 0.00219996],\n",
       "       [ 0.00219996],\n",
       "       [ 0.00219996],\n",
       "       [20.        ],\n",
       "       [20.        ],\n",
       "       [20.        ]])"
      ]
     },
     "execution_count": 21,
     "metadata": {},
     "output_type": "execute_result"
    }
   ],
   "source": [
    "chi_ts_5[-1]"
   ]
  },
  {
   "cell_type": "markdown",
   "id": "3c4427d2-30b2-4178-bbd9-6f0699f0a9ad",
   "metadata": {},
   "source": [
    "## Different network"
   ]
  },
  {
   "cell_type": "code",
   "execution_count": 22,
   "id": "fbacd5d6-e794-4542-9f4b-6bc6bd9b01da",
   "metadata": {},
   "outputs": [
    {
     "data": {
      "text/plain": [
       "array([[1.00160096],\n",
       "       [1.00160096],\n",
       "       [1.00160096]])"
      ]
     },
     "execution_count": 22,
     "metadata": {},
     "output_type": "execute_result"
    }
   ],
   "source": [
    "A_6_n = 0.5 * np.array([\n",
    "    [0.4, 0.3, 0.3],\n",
    "    [0.3, 0.4, 0.3],\n",
    "    [0.3, 0.3, 0.4]\n",
    "])\n",
    "A_6_c = np.diag([0.5, 0.5, 0.5])\n",
    "d_6 = A_6_c[0, 0]\n",
    "chi_ts_6, K_ss_6 = infinite_solution(A_6_n, A_6_c, delta, c, x_0, z)\n",
    "k1_6 = sum(K_ss_6[0:3, 0:3])[0]\n",
    "k2_6 = sum(K_ss_6[0:3, 3:6])[0]\n",
    "z * ((c * d_6) - (delta * k2_6)) / ((c * d_6) + (delta * k1_6))"
   ]
  },
  {
   "cell_type": "code",
   "execution_count": 23,
   "id": "f09f898a-68e4-458f-8896-68581202a18f",
   "metadata": {},
   "outputs": [
    {
     "data": {
      "text/plain": [
       "array([[1.00160096],\n",
       "       [1.00160096],\n",
       "       [1.00160096],\n",
       "       [5.        ],\n",
       "       [5.        ],\n",
       "       [5.        ]])"
      ]
     },
     "execution_count": 23,
     "metadata": {},
     "output_type": "execute_result"
    }
   ],
   "source": [
    "chi_ts_6[-1]"
   ]
  },
  {
   "cell_type": "markdown",
   "id": "349c27f6-a6fe-4752-8ec5-ad26fc1f4b33",
   "metadata": {},
   "source": [
    "# 2. Symbolic expressions for $k_1$,  $k_2$ and $x_{\\infty}$"
   ]
  },
  {
   "cell_type": "code",
   "execution_count": 24,
   "id": "1ecbec93-53fe-4fed-be44-22f7363fcd9f",
   "metadata": {},
   "outputs": [
    {
     "data": {
      "text/latex": [
       "$\\displaystyle d z + r + x \\left(1 - d\\right)$"
      ],
      "text/plain": [
       "d*z + r + x*(1 - d)"
      ]
     },
     "execution_count": 24,
     "metadata": {},
     "output_type": "execute_result"
    }
   ],
   "source": [
    "x, d, z, r, delta, c, k1, k2, k3 = symbols(\"x d z r delta c k_1 k_2 k_3\")\n",
    "xprime = (1 - d) * x + d * z + r # the next period function\n",
    "xprime"
   ]
  },
  {
   "cell_type": "code",
   "execution_count": 25,
   "id": "803e859e-7ebf-4b5d-b63c-cf0b6815b5d1",
   "metadata": {},
   "outputs": [
    {
     "data": {
      "text/latex": [
       "$\\displaystyle - c r^{2} - \\delta k_{1} \\left(d z + r + x \\left(1 - d\\right)\\right)^{2} - 2 \\delta k_{2} z \\left(d z + r + x \\left(1 - d\\right)\\right) - \\delta k_{3} - x^{2}$"
      ],
      "text/plain": [
       "-c*r**2 - delta*k_1*(d*z + r + x*(1 - d))**2 - 2*delta*k_2*z*(d*z + r + x*(1 - d)) - delta*k_3 - x**2"
      ]
     },
     "execution_count": 25,
     "metadata": {},
     "output_type": "execute_result"
    }
   ],
   "source": [
    "v_x = -(x**2) - (c * r**2) - (delta * k1 * xprime**2) - (2 * delta * k2 * xprime * z) - (delta * k3)\n",
    "v_x"
   ]
  },
  {
   "cell_type": "code",
   "execution_count": 26,
   "id": "85ff57be-e2ea-4414-934a-611e4d80c8a6",
   "metadata": {},
   "outputs": [
    {
     "data": {
      "text/latex": [
       "$\\displaystyle - 2 c r - \\delta k_{1} \\left(2 d z + 2 r + 2 x \\left(1 - d\\right)\\right) - 2 \\delta k_{2} z$"
      ],
      "text/plain": [
       "-2*c*r - delta*k_1*(2*d*z + 2*r + 2*x*(1 - d)) - 2*delta*k_2*z"
      ]
     },
     "execution_count": 26,
     "metadata": {},
     "output_type": "execute_result"
    }
   ],
   "source": [
    "diff(v_x, r)"
   ]
  },
  {
   "cell_type": "code",
   "execution_count": 27,
   "id": "ebf00288-694d-47c1-956e-483d43808f39",
   "metadata": {},
   "outputs": [
    {
     "data": {
      "text/latex": [
       "$\\displaystyle - 2 c r + 2 d \\delta k_{1} x - 2 d \\delta k_{1} z - 2 \\delta k_{1} r - 2 \\delta k_{1} x - 2 \\delta k_{2} z$"
      ],
      "text/plain": [
       "-2*c*r + 2*d*delta*k_1*x - 2*d*delta*k_1*z - 2*delta*k_1*r - 2*delta*k_1*x - 2*delta*k_2*z"
      ]
     },
     "execution_count": 27,
     "metadata": {},
     "output_type": "execute_result"
    }
   ],
   "source": [
    "expand(diff(v_x, r))"
   ]
  },
  {
   "cell_type": "code",
   "execution_count": 28,
   "id": "0150bab7-de8f-4e06-8bbd-68ad76810c8f",
   "metadata": {},
   "outputs": [
    {
     "data": {
      "text/latex": [
       "$\\displaystyle - 2 c r + 2 d \\delta k_{1} x - 2 d \\delta k_{1} z - 2 \\delta k_{1} r - 2 \\delta k_{1} x - 2 \\delta k_{2} z$"
      ],
      "text/plain": [
       "-2*c*r + 2*d*delta*k_1*x - 2*d*delta*k_1*z - 2*delta*k_1*r - 2*delta*k_1*x - 2*delta*k_2*z"
      ]
     },
     "execution_count": 28,
     "metadata": {},
     "output_type": "execute_result"
    }
   ],
   "source": [
    "# the FOC from the notes, multiplied on both sides by -2\n",
    "expand(-2 * (delta * (1 - d) * x * k1 + delta * d * z * k1 + delta * k2 * z + r * (delta * k1 + c)))"
   ]
  },
  {
   "cell_type": "code",
   "execution_count": 29,
   "id": "5f8b0063-4373-4319-9494-ec8442e4f8cd",
   "metadata": {},
   "outputs": [
    {
     "data": {
      "text/plain": [
       "[delta*(d*k_1*x - d*k_1*z - k_1*x - k_2*z)/(c + delta*k_1)]"
      ]
     },
     "execution_count": 29,
     "metadata": {},
     "output_type": "execute_result"
    }
   ],
   "source": [
    "solve(diff(v_x, r), r)"
   ]
  },
  {
   "cell_type": "code",
   "execution_count": 30,
   "id": "cb53689c-5fb1-4844-8663-909a61ab86c6",
   "metadata": {},
   "outputs": [
    {
     "data": {
      "text/latex": [
       "$\\displaystyle \\frac{\\delta \\left(d k_{1} x - d k_{1} z - k_{1} x - k_{2} z\\right)}{c + \\delta k_{1}}$"
      ],
      "text/plain": [
       "delta*(d*k_1*x - d*k_1*z - k_1*x - k_2*z)/(c + delta*k_1)"
      ]
     },
     "execution_count": 30,
     "metadata": {},
     "output_type": "execute_result"
    }
   ],
   "source": [
    "r_star = solve(diff(v_x, r), r)[0] # only one solution from above\n",
    "r_star"
   ]
  },
  {
   "cell_type": "code",
   "execution_count": 31,
   "id": "b350dbbb-74ec-4fd2-ad73-189ca824944b",
   "metadata": {
    "tags": []
   },
   "outputs": [
    {
     "data": {
      "text/latex": [
       "$\\displaystyle \\frac{\\delta \\left(d k_{1} x - d k_{1} z - k_{1} x - k_{2} z\\right)}{c + \\delta k_{1}}$"
      ],
      "text/plain": [
       "delta*(d*k_1*x - d*k_1*z - k_1*x - k_2*z)/(c + delta*k_1)"
      ]
     },
     "execution_count": 31,
     "metadata": {},
     "output_type": "execute_result"
    }
   ],
   "source": [
    "simplify(expand(r_star))"
   ]
  },
  {
   "cell_type": "markdown",
   "id": "8a16181e-ee35-4d5a-a295-f9aa6b236578",
   "metadata": {},
   "source": [
    "We can take this opportunity to solve for $x_{\\infty}$:"
   ]
  },
  {
   "cell_type": "markdown",
   "id": "28ddfdd0-624a-419d-ac19-d8832e5c479a",
   "metadata": {},
   "source": [
    "$$x_{\\infty} = (1 - d)x_{\\infty} + dz + r_{ss}$$"
   ]
  },
  {
   "cell_type": "code",
   "execution_count": 32,
   "id": "25a86128-0b78-476c-b70e-9afb3e327755",
   "metadata": {},
   "outputs": [
    {
     "data": {
      "text/latex": [
       "$\\displaystyle \\frac{z \\left(c d - \\delta k_{2}\\right)}{c d + \\delta k_{1}}$"
      ],
      "text/plain": [
       "z*(c*d - delta*k_2)/(c*d + delta*k_1)"
      ]
     },
     "execution_count": 32,
     "metadata": {},
     "output_type": "execute_result"
    }
   ],
   "source": [
    "solve((1-d)*x + d*z + r_star - x, x)[0]"
   ]
  },
  {
   "cell_type": "markdown",
   "id": "91a60ff4-8fc9-41ba-9306-c69a35ba838a",
   "metadata": {},
   "source": [
    "Back to the value function:"
   ]
  },
  {
   "cell_type": "code",
   "execution_count": 33,
   "id": "433e54b4-a1ee-4af7-8c9a-3761eb24c4bf",
   "metadata": {
    "tags": []
   },
   "outputs": [
    {
     "data": {
      "text/latex": [
       "$\\displaystyle \\frac{- c d^{2} \\delta k_{1} x^{2} + 2 c d^{2} \\delta k_{1} x z - c d^{2} \\delta k_{1} z^{2} + 2 c d \\delta k_{1} x^{2} - 2 c d \\delta k_{1} x z + 2 c d \\delta k_{2} x z - 2 c d \\delta k_{2} z^{2} - c \\delta k_{1} x^{2} - 2 c \\delta k_{2} x z - c \\delta k_{3} - c x^{2} - \\delta^{2} k_{1} k_{3} + \\delta^{2} k_{2}^{2} z^{2} - \\delta k_{1} x^{2}}{c + \\delta k_{1}}$"
      ],
      "text/plain": [
       "(-c*d**2*delta*k_1*x**2 + 2*c*d**2*delta*k_1*x*z - c*d**2*delta*k_1*z**2 + 2*c*d*delta*k_1*x**2 - 2*c*d*delta*k_1*x*z + 2*c*d*delta*k_2*x*z - 2*c*d*delta*k_2*z**2 - c*delta*k_1*x**2 - 2*c*delta*k_2*x*z - c*delta*k_3 - c*x**2 - delta**2*k_1*k_3 + delta**2*k_2**2*z**2 - delta*k_1*x**2)/(c + delta*k_1)"
      ]
     },
     "execution_count": 33,
     "metadata": {},
     "output_type": "execute_result"
    }
   ],
   "source": [
    "simplify(expand(v_x).subs(r, r_star))"
   ]
  },
  {
   "cell_type": "markdown",
   "id": "5cf13ac1-7173-4027-aeb8-a05b69dba6d9",
   "metadata": {},
   "source": [
    "First, we need terms containing $x^2$. This gives the following expression for $k_1$:"
   ]
  },
  {
   "cell_type": "code",
   "execution_count": 34,
   "id": "2d166167-10c4-4081-b85d-d84deaacd07e",
   "metadata": {},
   "outputs": [
    {
     "data": {
      "text/latex": [
       "$\\displaystyle \\frac{c d^{2} \\delta k_{1} - 2 c d \\delta k_{1} + c \\delta k_{1} + c + \\delta k_{1}}{c + \\delta k_{1}}$"
      ],
      "text/plain": [
       "(c*d**2*delta*k_1 - 2*c*d*delta*k_1 + c*delta*k_1 + c + delta*k_1)/(c + delta*k_1)"
      ]
     },
     "execution_count": 34,
     "metadata": {},
     "output_type": "execute_result"
    }
   ],
   "source": [
    "k1_solved = simplify(-(-c*d**2 * delta * k1 + 2*c*d*delta*k1 - c*delta*k1 - c - delta*k1)/(c+delta*k1))\n",
    "k1_solved"
   ]
  },
  {
   "cell_type": "markdown",
   "id": "5e7b7aa1-7311-4145-8a5d-18040177827f",
   "metadata": {
    "tags": []
   },
   "source": [
    "which we see simplifies to $k_1 = 1 + \\frac{c\\delta k_1(1-d)^2}{c+\\delta k_1}$ as in the note."
   ]
  },
  {
   "cell_type": "code",
   "execution_count": 35,
   "id": "634e2cf4-e239-4214-9d70-02e767d490d6",
   "metadata": {
    "tags": []
   },
   "outputs": [
    {
     "data": {
      "text/latex": [
       "$\\displaystyle \\frac{c \\delta k_{1} \\left(1 - d\\right)^{2}}{c + \\delta k_{1}} + 1$"
      ],
      "text/plain": [
       "c*delta*k_1*(1 - d)**2/(c + delta*k_1) + 1"
      ]
     },
     "execution_count": 35,
     "metadata": {},
     "output_type": "execute_result"
    }
   ],
   "source": [
    "k1_solved_simple = 1 + (c*delta*k1*(1-d)**2)/(c+delta*k1)\n",
    "k1_solved_simple"
   ]
  },
  {
   "cell_type": "code",
   "execution_count": 36,
   "id": "34b7d9c8-a3e9-4d84-b63a-6efe2d6b7c33",
   "metadata": {},
   "outputs": [
    {
     "data": {
      "text/latex": [
       "$\\displaystyle c d^{2} \\delta k_{1} - 2 c d \\delta k_{1} + c \\delta k_{1} - c k_{1} + c - \\delta k_{1}^{2} + \\delta k_{1}$"
      ],
      "text/plain": [
       "c*d**2*delta*k_1 - 2*c*d*delta*k_1 + c*delta*k_1 - c*k_1 + c - delta*k_1**2 + delta*k_1"
      ]
     },
     "execution_count": 36,
     "metadata": {},
     "output_type": "execute_result"
    }
   ],
   "source": [
    "simplify(expand((k1_solved_simple - k1) * (c + delta * k1))) # multiply both sides by the denominator"
   ]
  },
  {
   "cell_type": "markdown",
   "id": "7642101d-3e59-4666-a433-00cd2bdf6bbb",
   "metadata": {
    "tags": []
   },
   "source": [
    "Then $-\\delta k_1^2 + k_1 (\\delta - c + c\\delta(1-d)^2) + c = 0$"
   ]
  },
  {
   "cell_type": "code",
   "execution_count": 37,
   "id": "fa34ee08-a2de-46a3-ba59-4839f78e0358",
   "metadata": {},
   "outputs": [
    {
     "data": {
      "text/plain": [
       "[(g - sqrt(4*c*delta + g**2))/(2*delta),\n",
       " (g + sqrt(4*c*delta + g**2))/(2*delta)]"
      ]
     },
     "execution_count": 37,
     "metadata": {},
     "output_type": "execute_result"
    }
   ],
   "source": [
    "g = symbols(\"g\")\n",
    "solve(-delta*k1**2 + k1*g + c, k1)"
   ]
  },
  {
   "cell_type": "code",
   "execution_count": 38,
   "id": "ace06da3-cfbf-4d1c-ac5b-6ac7d41e73ea",
   "metadata": {
    "tags": []
   },
   "outputs": [
    {
     "data": {
      "text/latex": [
       "$\\displaystyle \\frac{c \\delta \\left(1 - d\\right)^{2} - c + \\delta - \\sqrt{4 c \\delta + \\left(c \\delta \\left(1 - d\\right)^{2} - c + \\delta\\right)^{2}}}{2 \\delta}$"
      ],
      "text/plain": [
       "(c*delta*(1 - d)**2 - c + delta - sqrt(4*c*delta + (c*delta*(1 - d)**2 - c + delta)**2))/(2*delta)"
      ]
     },
     "execution_count": 38,
     "metadata": {},
     "output_type": "execute_result"
    }
   ],
   "source": [
    "solve(-delta*k1**2 + k1*g + c, k1)[0].subs(g, delta-c+c*delta*(1-d)**2)"
   ]
  },
  {
   "cell_type": "code",
   "execution_count": 39,
   "id": "c5e060df-a9b5-4971-916f-2c8ce6212690",
   "metadata": {},
   "outputs": [
    {
     "data": {
      "text/latex": [
       "$\\displaystyle -0.98693315943369$"
      ],
      "text/plain": [
       "-0.986933159433690"
      ]
     },
     "execution_count": 39,
     "metadata": {},
     "output_type": "execute_result"
    }
   ],
   "source": [
    "solve(-delta*k1**2 + k1*g + c, k1)[0].subs(g, delta-c+c*delta*(1-d)**2).subs(delta, 0.9).subs(d, 0.5).subs(c, 1)"
   ]
  },
  {
   "cell_type": "code",
   "execution_count": 40,
   "id": "121a7efc-e00e-41ee-a059-e5dfb1ebc15f",
   "metadata": {},
   "outputs": [
    {
     "data": {
      "text/plain": [
       "-0.9869331594336914"
      ]
     },
     "execution_count": 40,
     "metadata": {},
     "output_type": "execute_result"
    }
   ],
   "source": [
    "1 + (1*0.9*(1-0.5)**2 * -0.98693315943369) / (1 + 0.9 * -0.98693315943369)"
   ]
  },
  {
   "cell_type": "code",
   "execution_count": 41,
   "id": "b5768770-dd71-44d0-809d-84a2549a932c",
   "metadata": {
    "tags": []
   },
   "outputs": [
    {
     "data": {
      "text/latex": [
       "$\\displaystyle \\frac{c \\delta \\left(1 - d\\right)^{2} - c + \\delta + \\sqrt{4 c \\delta + \\left(c \\delta \\left(1 - d\\right)^{2} - c + \\delta\\right)^{2}}}{2 \\delta}$"
      ],
      "text/plain": [
       "(c*delta*(1 - d)**2 - c + delta + sqrt(4*c*delta + (c*delta*(1 - d)**2 - c + delta)**2))/(2*delta)"
      ]
     },
     "execution_count": 41,
     "metadata": {},
     "output_type": "execute_result"
    }
   ],
   "source": [
    "solve(-delta*k1**2 + k1*g + c, k1)[1].subs(g, delta-c+c*delta*(1-d)**2)"
   ]
  },
  {
   "cell_type": "code",
   "execution_count": 42,
   "id": "264b80ff-5e84-4d2f-9872-be9a185d2c3d",
   "metadata": {},
   "outputs": [
    {
     "data": {
      "text/latex": [
       "$\\displaystyle 1.12582204832258$"
      ],
      "text/plain": [
       "1.12582204832258"
      ]
     },
     "execution_count": 42,
     "metadata": {},
     "output_type": "execute_result"
    }
   ],
   "source": [
    "solve(-delta*k1**2 + k1*g + c, k1)[1].subs(g, delta-c+c*delta*(1-d)**2).subs(delta, 0.9).subs(d, 0.5).subs(c, 1)"
   ]
  },
  {
   "cell_type": "code",
   "execution_count": 43,
   "id": "9868af64-e946-45d3-b0e0-eeb968e4d285",
   "metadata": {},
   "outputs": [
    {
     "name": "stdout",
     "output_type": "stream",
     "text": [
      "[[1.04273065 0.0415457  0.0415457  0.06210507 0.04996829 0.04996829]\n",
      " [0.0415457  1.04273065 0.0415457  0.04996829 0.06210507 0.04996829]\n",
      " [0.0415457  0.0415457  1.04273065 0.04996829 0.04996829 0.06210507]\n",
      " [0.06210507 0.04996829 0.04996829 1.45350884 0.21173007 0.21173007]\n",
      " [0.04996829 0.06210507 0.04996829 0.21173007 1.45350884 0.21173007]\n",
      " [0.04996829 0.04996829 0.06210507 0.21173007 0.21173007 1.45350884]]\n"
     ]
    }
   ],
   "source": [
    "_, K_test = infinite_solution(A_6_n, A_6_c, 0.9, 1, x_0, np.array([[5.0, 5.0, 5.0]], ndmin = 2).T)\n",
    "print(K_test)"
   ]
  },
  {
   "cell_type": "code",
   "execution_count": 44,
   "id": "80c3848c-32ab-4827-960b-5ece32af3e22",
   "metadata": {},
   "outputs": [
    {
     "data": {
      "text/plain": [
       "array([1.12582205, 1.12582205, 1.12582205])"
      ]
     },
     "execution_count": 44,
     "metadata": {},
     "output_type": "execute_result"
    }
   ],
   "source": [
    "sum(K_test[0:3, 0:3])"
   ]
  },
  {
   "cell_type": "markdown",
   "id": "660152d4-8b95-449d-8f7d-624ccb38adaa",
   "metadata": {},
   "source": [
    "The positive (second) solution is the one which occurs in practice."
   ]
  },
  {
   "cell_type": "markdown",
   "id": "8b4158bc-c742-470f-8192-f1b7c27dd029",
   "metadata": {},
   "source": [
    "Back to the value function again:"
   ]
  },
  {
   "cell_type": "code",
   "execution_count": 45,
   "id": "cc8e8b16-9ab3-4692-b28d-e2ccd51320c4",
   "metadata": {
    "tags": []
   },
   "outputs": [
    {
     "data": {
      "text/latex": [
       "$\\displaystyle \\frac{- c d^{2} \\delta k_{1} x^{2} + 2 c d^{2} \\delta k_{1} x z - c d^{2} \\delta k_{1} z^{2} + 2 c d \\delta k_{1} x^{2} - 2 c d \\delta k_{1} x z + 2 c d \\delta k_{2} x z - 2 c d \\delta k_{2} z^{2} - c \\delta k_{1} x^{2} - 2 c \\delta k_{2} x z - c \\delta k_{3} - c x^{2} - \\delta^{2} k_{1} k_{3} + \\delta^{2} k_{2}^{2} z^{2} - \\delta k_{1} x^{2}}{c + \\delta k_{1}}$"
      ],
      "text/plain": [
       "(-c*d**2*delta*k_1*x**2 + 2*c*d**2*delta*k_1*x*z - c*d**2*delta*k_1*z**2 + 2*c*d*delta*k_1*x**2 - 2*c*d*delta*k_1*x*z + 2*c*d*delta*k_2*x*z - 2*c*d*delta*k_2*z**2 - c*delta*k_1*x**2 - 2*c*delta*k_2*x*z - c*delta*k_3 - c*x**2 - delta**2*k_1*k_3 + delta**2*k_2**2*z**2 - delta*k_1*x**2)/(c + delta*k_1)"
      ]
     },
     "execution_count": 45,
     "metadata": {},
     "output_type": "execute_result"
    }
   ],
   "source": [
    "simplify(expand(v_x).subs(r, r_star))"
   ]
  },
  {
   "cell_type": "markdown",
   "id": "5091d648-dd90-4e4d-9e49-e3fe51ce0900",
   "metadata": {},
   "source": [
    "Taking terms with $x$, we get the following expression for $k_2$:"
   ]
  },
  {
   "cell_type": "code",
   "execution_count": 46,
   "id": "52497705-5612-43ce-affd-8a3ebffcc13d",
   "metadata": {},
   "outputs": [
    {
     "data": {
      "text/latex": [
       "$\\displaystyle \\frac{1.0 c \\delta \\left(- d^{2} k_{1} + d k_{1} - d k_{2} + k_{2}\\right)}{c + \\delta k_{1}}$"
      ],
      "text/plain": [
       "1.0*c*delta*(-d**2*k_1 + d*k_1 - d*k_2 + k_2)/(c + delta*k_1)"
      ]
     },
     "execution_count": 46,
     "metadata": {},
     "output_type": "execute_result"
    }
   ],
   "source": [
    "simplify(-0.5 * (2*c*d**2*delta*k1 - 2*c*d*delta*k1 + 2*c*d*delta*k2 - 2*c*delta*k2) / (c+delta*k1))"
   ]
  },
  {
   "cell_type": "markdown",
   "id": "6bba3caa-6668-4fee-a705-dcf4f26183b8",
   "metadata": {},
   "source": [
    "This evaluates to $k_2 = \\frac{c\\delta (1-d)(dk_1 + k_2)}{c+\\delta k_1}$."
   ]
  },
  {
   "cell_type": "code",
   "execution_count": 47,
   "id": "ae914cb9-b707-40e9-b835-6a3a2d8d7f43",
   "metadata": {},
   "outputs": [
    {
     "data": {
      "text/latex": [
       "$\\displaystyle \\frac{c d \\delta k_{1} \\left(1 - d\\right)}{c d \\delta - c \\delta + c + \\delta k_{1}}$"
      ],
      "text/plain": [
       "c*d*delta*k_1*(1 - d)/(c*d*delta - c*delta + c + delta*k_1)"
      ]
     },
     "execution_count": 47,
     "metadata": {},
     "output_type": "execute_result"
    }
   ],
   "source": [
    "solve(simplify((c*delta*(1-d)*(d*k1+k2))/(c+delta*k1) - k2), k2)[0]"
   ]
  }
 ],
 "metadata": {
  "kernelspec": {
   "display_name": "Python 3",
   "language": "python",
   "name": "python3"
  },
  "language_info": {
   "codemirror_mode": {
    "name": "ipython",
    "version": 3
   },
   "file_extension": ".py",
   "mimetype": "text/x-python",
   "name": "python",
   "nbconvert_exporter": "python",
   "pygments_lexer": "ipython3",
   "version": "3.8.8"
  },
  "widgets": {
   "application/vnd.jupyter.widget-state+json": {
    "state": {},
    "version_major": 2,
    "version_minor": 0
   }
  }
 },
 "nbformat": 4,
 "nbformat_minor": 5
}
