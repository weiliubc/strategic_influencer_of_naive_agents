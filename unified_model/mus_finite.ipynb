{
 "cells": [
  {
   "cell_type": "markdown",
   "id": "16a02400-8a4e-4233-b8c5-d11e8d87543d",
   "metadata": {},
   "source": [
    "# Unified Model with Multiple Strategic Agents: Finite-Horizon Analysis\n",
    "\n",
    "James Yu, 23 October 2022"
   ]
  },
  {
   "cell_type": "code",
   "execution_count": 1,
   "id": "98409641-fce6-4df3-ae16-0feca4ea34a5",
   "metadata": {},
   "outputs": [],
   "source": [
    "from collections import namedtuple #,defaultdict\n",
    "import matplotlib.pyplot as plt\n",
    "import numpy as np\n",
    "from numpy.linalg import inv as npinv\n",
    "from numpy.linalg import matrix_power as nppow"
   ]
  },
  {
   "cell_type": "code",
   "execution_count": 2,
   "id": "a19a38c4-1ce0-437b-812a-30cb8e3290fe",
   "metadata": {},
   "outputs": [],
   "source": [
    "def finite_solution(A, delta, c, T, x_0, M = 1):\n",
    "    n = len(x_0)\n",
    "    eps = np.finfo(np.float64).eps\n",
    "    I = np.identity(n)\n",
    "    eigvals, U = np.linalg.eig(A)\n",
    "    chi_0 = U.T @ x_0\n",
    "    D = np.diag(eigvals)\n",
    "    K_t = I\n",
    "    K_sequence = [K_t]\n",
    "    \n",
    "    for i in range(T): # generate solution matrices\n",
    "        K_t_new = I + c * delta * (delta * K_t + c * I) @ nppow(npinv(M * delta * K_t + c * I), 2) @ K_t @ nppow(D, 2)\n",
    "        K_sequence.insert(0, K_t_new)\n",
    "        #if np.allclose(K_t, K_t_new, rtol = eps, atol = eps) and i >= T: break\n",
    "        K_t = K_t_new\n",
    "\n",
    "    chi_ts = [chi_0]\n",
    "    chi_var = chi_0\n",
    "    gamma_ts = []\n",
    "    L_ts = []\n",
    "    #K_ss = K_sequence[0]\n",
    "    #L_ss = -inv(B.T @ K_ss @ B + c * I / delta) @ B.T @ K_ss @ A\n",
    "    \n",
    "    payoff = 0\n",
    "    stage_payoffs = []\n",
    "    discounted_stage_payoffs = []\n",
    "    cumulative_payoffs = []\n",
    "\n",
    "    for i, K in enumerate(K_sequence[1:]): # while True\n",
    "        L_t = -delta * npinv(c * I + M * delta * K) @ K @ D\n",
    "        L_ts.append(L_t)\n",
    "        gamma_t = L_t @ chi_var\n",
    "        gamma_ts.append(gamma_t)\n",
    "        p = -(chi_var.T @ chi_var + c * gamma_t.T @ gamma_t).item()\n",
    "        payoff += delta**i * p\n",
    "        stage_payoffs.append(p)\n",
    "        discounted_stage_payoffs.append(delta**i * p)\n",
    "        cumulative_payoffs.append(payoff)\n",
    "        chi_var_new = D @ chi_var + M * gamma_t\n",
    "        chi_ts.append(chi_var_new)\n",
    "        #if np.allclose(chi_var, chi_var_new, rtol = eps, atol = eps): break\n",
    "        chi_var = chi_var_new\n",
    "        # i += 1\n",
    "        \n",
    "    Results = namedtuple(\"Results\", [\"chi_ts\", \"gamma_ts\", \"K_ts\", \"L_ts\", \"payoff\", \"stage_payoffs\", \"discounted_stage_payoffs\", \"cumulative_payoffs\"])\n",
    "    return Results(chi_ts, gamma_ts, K_sequence, L_ts, payoff, stage_payoffs, discounted_stage_payoffs, cumulative_payoffs)#, K_ss, L_ss"
   ]
  },
  {
   "cell_type": "markdown",
   "id": "e68cf45a-b6a5-432a-9e24-6eb581ad940c",
   "metadata": {},
   "source": [
    "### Baseline: $M = 1$ strategic agents:"
   ]
  },
  {
   "cell_type": "code",
   "execution_count": 3,
   "id": "98f5f1b1-1d61-464e-a297-41b3d99a72fe",
   "metadata": {},
   "outputs": [
    {
     "name": "stdout",
     "output_type": "stream",
     "text": [
      "Index 1 Index 2\n",
      "1.3545766763101257 1.2198673635043773\n",
      "1.3545766758474271 1.2198673634799293\n",
      "1.3545766697698922 1.2198673630464518\n",
      "1.3545765899416025 1.219867355360585\n",
      "1.3545755413994027 1.2198672190847089\n",
      "1.3545617689358052 1.2198648028201033\n",
      "1.3543808878763623 1.2198219618861206\n",
      "1.3520084566596196 1.2190627253064168\n",
      "1.3214285714285714 1.2057142857142857\n",
      "1.0 1.0\n"
     ]
    }
   ],
   "source": [
    "A = np.array([\n",
    "    [0.9, 0.1],\n",
    "    [0.1, 0.9]\n",
    "])\n",
    "result = finite_solution(A, 0.9, 0.5, 10-1, np.array([[1.0, 1.0]], ndmin = 2).T, M = 1)\n",
    "# K_t results\n",
    "print(\"Index 1 Index 2\")\n",
    "for K in result.K_ts:\n",
    "    print(K[0, 0], K[1, 1])"
   ]
  },
  {
   "cell_type": "code",
   "execution_count": 4,
   "id": "dfde489f-4743-46de-99a4-6fcebb85ea0f",
   "metadata": {},
   "outputs": [
    {
     "name": "stdout",
     "output_type": "stream",
     "text": [
      "Index 1 Index 2\n",
      "-0.7091533526202515 -0.549668408760943\n",
      "-0.7091533516948545 -0.5496684086998234\n",
      "-0.7091533395397842 -0.5496684076161293\n",
      "-0.7091531798832047 -0.5496683884014626\n",
      "-0.7091510827988052 -0.5496680477117718\n",
      "-0.7091235378716104 -0.5496620070502581\n",
      "-0.7087617757527246 -0.5495549047153017\n",
      "-0.7040169133192389 -0.5476568132660419\n",
      "-0.6428571428571429 -0.5142857142857143\n"
     ]
    }
   ],
   "source": [
    "# L_t results\n",
    "print(\"Index 1 Index 2\")\n",
    "for L in result.L_ts:\n",
    "    print(L[0, 0], L[1, 1])"
   ]
  },
  {
   "cell_type": "markdown",
   "id": "02c6f79f-4408-4b39-ba3c-f3e4fcf5af03",
   "metadata": {},
   "source": [
    "### $M = 2$"
   ]
  },
  {
   "cell_type": "code",
   "execution_count": 5,
   "id": "bdac103e-e8ab-42fc-ab6e-a6a21893c1c6",
   "metadata": {},
   "outputs": [
    {
     "name": "stdout",
     "output_type": "stream",
     "text": [
      "Index 1 Index 2\n",
      "1.1200638417170201 1.0766350168801482\n",
      "1.1200638417170201 1.0766350168801482\n",
      "1.1200638417170201 1.0766350168801482\n",
      "1.120063841717003 1.0766350168801468\n",
      "1.1200638417146014 1.0766350168798946\n",
      "1.1200638413745252 1.0766350168291208\n",
      "1.1200637932224402 1.076635006610833\n",
      "1.1200569753202527 1.0766329501743985\n",
      "1.1190926275992439 1.076219281663516\n",
      "1.0 1.0\n"
     ]
    }
   ],
   "source": [
    "result_2 = finite_solution(A, 0.9, 0.5, 10-1, np.array([[1.0, 1.0]], ndmin = 2).T, M = 2)\n",
    "# K_t results\n",
    "print(\"Index 1 Index 2\")\n",
    "for K in result_2.K_ts:\n",
    "    print(K[0, 0], K[1, 1])"
   ]
  },
  {
   "cell_type": "code",
   "execution_count": 6,
   "id": "79da1c3c-5254-4339-bb64-52efe5c927d5",
   "metadata": {},
   "outputs": [
    {
     "name": "stdout",
     "output_type": "stream",
     "text": [
      "Index 1 Index 2\n",
      "-0.40064046816757 -0.31796362855596505\n",
      "-0.40064046816757 -0.31796362855596505\n",
      "-0.40064046816756876 -0.3179636285559649\n",
      "-0.40064046816739807 -0.3179636285559497\n",
      "-0.4006404681432253 -0.3179636285528743\n",
      "-0.40064046472054216 -0.3179636279339557\n",
      "-0.4006399800970261 -0.31796350337603474\n",
      "-0.40057138561010447 -0.31793843986857745\n",
      "-0.39130434782608703 -0.31304347826086965\n"
     ]
    }
   ],
   "source": [
    "# L_t results\n",
    "print(\"Index 1 Index 2\")\n",
    "for L in result_2.L_ts:\n",
    "    print(L[0, 0], L[1, 1])"
   ]
  },
  {
   "cell_type": "markdown",
   "id": "0a3fac30-b7e5-41f7-af43-9b9a189de91f",
   "metadata": {},
   "source": [
    "### $M = 3$"
   ]
  },
  {
   "cell_type": "code",
   "execution_count": 7,
   "id": "39b8e45f-dff6-408a-a2b3-940cd180cf0b",
   "metadata": {},
   "outputs": [
    {
     "name": "stdout",
     "output_type": "stream",
     "text": [
      "Index 1 Index 2\n",
      "1.06135663917094 1.0393063358105732\n",
      "1.06135663917094 1.0393063358105732\n",
      "1.06135663917094 1.0393063358105732\n",
      "1.06135663917094 1.0393063358105732\n",
      "1.0613566391709486 1.0393063358105736\n",
      "1.0613566391677058 1.0393063358102146\n",
      "1.0613566403747612 1.0393063360172352\n",
      "1.0613561910770124 1.0393062166883937\n",
      "1.0615234375 1.039375\n",
      "1.0 1.0\n"
     ]
    }
   ],
   "source": [
    "result_3 = finite_solution(A, 0.9, 0.5, 10-1, np.array([[1.0, 1.0]], ndmin = 2).T, M = 3)\n",
    "# K_t results\n",
    "print(\"Index 1 Index 2\")\n",
    "for K in result_3.K_ts:\n",
    "    print(K[0, 0], K[1, 1])"
   ]
  },
  {
   "cell_type": "code",
   "execution_count": 8,
   "id": "720a1af7-2f8a-4b32-b5c5-367fb457b474",
   "metadata": {},
   "outputs": [
    {
     "name": "stdout",
     "output_type": "stream",
     "text": [
      "Index 1 Index 2\n",
      "-0.2838136189879178 -0.22633750537592567\n",
      "-0.2838136189879178 -0.22633750537592567\n",
      "-0.2838136189879178 -0.22633750537592567\n",
      "-0.2838136189879182 -0.22633750537592567\n",
      "-0.2838136189877894 -0.22633750537591385\n",
      "-0.2838136190357405 -0.22633750538273212\n",
      "-0.2838136011870781 -0.22633750145258447\n",
      "-0.28382024427746677 -0.22633976673408818\n",
      "-0.28125 -0.225\n"
     ]
    }
   ],
   "source": [
    "# L_t results\n",
    "print(\"Index 1 Index 2\")\n",
    "for L in result_3.L_ts:\n",
    "    print(L[0, 0], L[1, 1])"
   ]
  },
  {
   "cell_type": "markdown",
   "id": "a6f815a2-bee4-40fe-b8f7-d766094ab755",
   "metadata": {},
   "source": [
    "### $M = 4$"
   ]
  },
  {
   "cell_type": "code",
   "execution_count": 9,
   "id": "c0c15a22-c601-435c-bef3-bc9c0e58a90c",
   "metadata": {},
   "outputs": [
    {
     "name": "stdout",
     "output_type": "stream",
     "text": [
      "Index 1 Index 2\n",
      "1.0373229161282222 1.0239217067980593\n",
      "1.0373229161282222 1.0239217067980593\n",
      "1.0373229161282222 1.0239217067980593\n",
      "1.037322916128222 1.0239217067980593\n",
      "1.037322916128264 1.0239217067980624\n",
      "1.037322916117928 1.0239217067968862\n",
      "1.0373229186689057 1.0239217072430158\n",
      "1.0373222890728773 1.0239215380284017\n",
      "1.0374776918500892 1.0239857227840572\n",
      "1.0 1.0\n"
     ]
    }
   ],
   "source": [
    "result_4 = finite_solution(A, 0.9, 0.5, 10-1, np.array([[1.0, 1.0]], ndmin = 2).T, M = 4)\n",
    "# K_t results\n",
    "print(\"Index 1 Index 2\")\n",
    "for K in result_4.K_ts:\n",
    "    print(K[0, 0], K[1, 1])"
   ]
  },
  {
   "cell_type": "code",
   "execution_count": 10,
   "id": "14e7bf40-5984-43e8-a2dc-92b7a29e0ae4",
   "metadata": {},
   "outputs": [
    {
     "name": "stdout",
     "output_type": "stream",
     "text": [
      "Index 1 Index 2\n",
      "-0.22047961763849405 -0.17611151989772883\n",
      "-0.22047961763849405 -0.17611151989772883\n",
      "-0.22047961763849402 -0.17611151989772883\n",
      "-0.22047961763849505 -0.17611151989772889\n",
      "-0.22047961763823565 -0.1761115198977047\n",
      "-0.22047961770225974 -0.17611151990686988\n",
      "-0.2204796019007474 -0.1761115164305681\n",
      "-0.220483501664583 -0.17611283495318908\n",
      "-0.21951219512195125 -0.17560975609756102\n"
     ]
    }
   ],
   "source": [
    "# L_t results\n",
    "print(\"Index 1 Index 2\")\n",
    "for L in result_4.L_ts:\n",
    "    print(L[0, 0], L[1, 1])"
   ]
  },
  {
   "cell_type": "markdown",
   "id": "7fb3026d-ba5f-4fa3-adb8-dec17558c32f",
   "metadata": {},
   "source": [
    "### $M = 10$"
   ]
  },
  {
   "cell_type": "code",
   "execution_count": 11,
   "id": "b1f2fc31-61b1-4b0f-9a6b-3b2b9a15a0b8",
   "metadata": {},
   "outputs": [
    {
     "name": "stdout",
     "output_type": "stream",
     "text": [
      "Index 1 Index 2\n",
      "1.0069684320011412 1.004462588025787\n",
      "1.0069684320011412 1.004462588025787\n",
      "1.0069684320011412 1.004462588025787\n",
      "1.0069684320011412 1.004462588025787\n",
      "1.0069684320011414 1.004462588025787\n",
      "1.0069684320010774 1.00446258802578\n",
      "1.0069684320378745 1.004462588032022\n",
      "1.0069684108514427 1.0044625824412194\n",
      "1.0069806094182825 1.004467590027701\n",
      "1.0 1.0\n"
     ]
    }
   ],
   "source": [
    "result_10 = finite_solution(A, 0.9, 0.5, 10-1, np.array([[1.0, 1.0]], ndmin = 2).T, M = 10)\n",
    "# K_t results\n",
    "print(\"Index 1 Index 2\")\n",
    "for K in result_10.K_ts:\n",
    "    print(K[0, 0], K[1, 1])"
   ]
  },
  {
   "cell_type": "code",
   "execution_count": 12,
   "id": "8faabb04-fe75-4fd1-a8f0-769e90c4f0a7",
   "metadata": {},
   "outputs": [
    {
     "name": "stdout",
     "output_type": "stream",
     "text": [
      "Index 1 Index 2\n",
      "-0.09477135987458439 -0.0758071996490281\n",
      "-0.09477135987458439 -0.0758071996490281\n",
      "-0.09477135987458439 -0.0758071996490281\n",
      "-0.09477135987458438 -0.0758071996490281\n",
      "-0.09477135987458407 -0.07580719964902807\n",
      "-0.09477135987476515 -0.07580719964905276\n",
      "-0.09477135977050752 -0.07580719962693888\n",
      "-0.09477141979850415 -0.07580721943387475\n",
      "-0.09473684210526316 -0.07578947368421053\n"
     ]
    }
   ],
   "source": [
    "# L_t results\n",
    "print(\"Index 1 Index 2\")\n",
    "for L in result_10.L_ts:\n",
    "    print(L[0, 0], L[1, 1])"
   ]
  },
  {
   "cell_type": "markdown",
   "id": "fb557838-09d9-42fe-896f-e9e5ee7db3c3",
   "metadata": {},
   "source": [
    "### $M = 100$"
   ]
  },
  {
   "cell_type": "code",
   "execution_count": 13,
   "id": "ff423b89-b4b1-4573-bb72-e364f874336d",
   "metadata": {},
   "outputs": [
    {
     "name": "stdout",
     "output_type": "stream",
     "text": [
      "Index 1 Index 2\n",
      "1.0000769186813623 1.000049228427797\n",
      "1.0000769186813623 1.000049228427797\n",
      "1.0000769186813623 1.000049228427797\n",
      "1.0000769186813623 1.000049228427797\n",
      "1.0000769186813623 1.000049228427797\n",
      "1.0000769186813623 1.000049228427797\n",
      "1.0000769186813623 1.000049228427797\n",
      "1.0000769186813079 1.0000492284277829\n",
      "1.0000769207289155 1.000049229266506\n",
      "1.0 1.0\n"
     ]
    }
   ],
   "source": [
    "result_100 = finite_solution(A, 0.9, 0.5, 10-1, np.array([[1.0, 1.0]], ndmin = 2).T, M = 100)\n",
    "# K_t results\n",
    "print(\"Index 1 Index 2\")\n",
    "for K in result_100.K_ts:\n",
    "    print(K[0, 0], K[1, 1])"
   ]
  },
  {
   "cell_type": "code",
   "execution_count": 14,
   "id": "97bc02e8-515f-4889-9edd-34a29e0c20e8",
   "metadata": {},
   "outputs": [
    {
     "name": "stdout",
     "output_type": "stream",
     "text": [
      "Index 1 Index 2\n",
      "-0.009944755607064388 -0.007955803268687334\n",
      "-0.009944755607064388 -0.007955803268687334\n",
      "-0.009944755607064388 -0.007955803268687334\n",
      "-0.009944755607064388 -0.007955803268687334\n",
      "-0.009944755607064388 -0.007955803268687334\n",
      "-0.009944755607064388 -0.007955803268687334\n",
      "-0.009944755607064384 -0.007955803268687334\n",
      "-0.009944755607176873 -0.007955803268724197\n",
      "-0.009944751381215469 -0.007955801104972375\n"
     ]
    }
   ],
   "source": [
    "# L_t results\n",
    "print(\"Index 1 Index 2\")\n",
    "for L in result_100.L_ts:\n",
    "    print(L[0, 0], L[1, 1])"
   ]
  },
  {
   "cell_type": "markdown",
   "id": "a6251400-1c7b-4720-b576-505b30df60b7",
   "metadata": {},
   "source": [
    "### $M = 1000000$ (limit case)"
   ]
  },
  {
   "cell_type": "code",
   "execution_count": 15,
   "id": "bc9b60bf-ceb0-4ff8-b183-aef8fa32b233",
   "metadata": {},
   "outputs": [
    {
     "name": "stdout",
     "output_type": "stream",
     "text": [
      "Index 1 Index 2\n",
      "1.0000000000007778 1.0000000000004978\n",
      "1.0000000000007778 1.0000000000004978\n",
      "1.0000000000007778 1.0000000000004978\n",
      "1.0000000000007778 1.0000000000004978\n",
      "1.0000000000007778 1.0000000000004978\n",
      "1.0000000000007778 1.0000000000004978\n",
      "1.0000000000007778 1.0000000000004978\n",
      "1.0000000000007778 1.0000000000004978\n",
      "1.0000000000007778 1.0000000000004978\n",
      "1.0 1.0\n"
     ]
    }
   ],
   "source": [
    "result_1000000 = finite_solution(A, 0.9, 0.5, 10-1, np.array([[1.0, 1.0]], ndmin = 2).T, M = 1000000)\n",
    "# K_t results\n",
    "print(\"Index 1 Index 2\")\n",
    "for K in result_1000000.K_ts:\n",
    "    print(K[0, 0], K[1, 1])"
   ]
  },
  {
   "cell_type": "code",
   "execution_count": 16,
   "id": "45fbfdf6-f516-45d1-b59b-3cfb16eb3c8f",
   "metadata": {},
   "outputs": [
    {
     "name": "stdout",
     "output_type": "stream",
     "text": [
      "Index 1 Index 2\n",
      "-9.999994444447531e-07 -7.999995555558025e-07\n",
      "-9.999994444447531e-07 -7.999995555558025e-07\n",
      "-9.999994444447531e-07 -7.999995555558025e-07\n",
      "-9.999994444447531e-07 -7.999995555558025e-07\n",
      "-9.999994444447531e-07 -7.999995555558025e-07\n",
      "-9.999994444447531e-07 -7.999995555558025e-07\n",
      "-9.999994444447531e-07 -7.999995555558025e-07\n",
      "-9.999994444447531e-07 -7.999995555558025e-07\n",
      "-9.999994444447531e-07 -7.999995555558025e-07\n"
     ]
    }
   ],
   "source": [
    "# L_t results\n",
    "print(\"Index 1 Index 2\")\n",
    "for L in result_1000000.L_ts:\n",
    "    print(L[0, 0], L[1, 1])"
   ]
  }
 ],
 "metadata": {
  "kernelspec": {
   "display_name": "Python 3",
   "language": "python",
   "name": "python3"
  },
  "language_info": {
   "codemirror_mode": {
    "name": "ipython",
    "version": 3
   },
   "file_extension": ".py",
   "mimetype": "text/x-python",
   "name": "python",
   "nbconvert_exporter": "python",
   "pygments_lexer": "ipython3",
   "version": "3.8.8"
  },
  "widgets": {
   "application/vnd.jupyter.widget-state+json": {
    "state": {},
    "version_major": 2,
    "version_minor": 0
   }
  }
 },
 "nbformat": 4,
 "nbformat_minor": 5
}
