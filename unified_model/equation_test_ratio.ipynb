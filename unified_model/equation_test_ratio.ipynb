{
 "cells": [
  {
   "cell_type": "markdown",
   "id": "f9dcada3-4c33-4997-813e-aabd5697fd4d",
   "metadata": {},
   "source": [
    "# Alternate version of convergence rate test: $K_j / \\lambda_j$\n",
    "\n",
    "James Yu, 24 July 2022"
   ]
  },
  {
   "cell_type": "code",
   "execution_count": 1,
   "id": "c9477502-87c4-4580-b7dc-84e79ef9ef40",
   "metadata": {
    "tags": []
   },
   "outputs": [],
   "source": [
    "import matplotlib.pyplot as plt\n",
    "import numpy as np\n",
    "from sympy import *"
   ]
  },
  {
   "cell_type": "code",
   "execution_count": 2,
   "id": "4a80358b-ea46-4d2f-86e5-dff127b0aeca",
   "metadata": {},
   "outputs": [],
   "source": [
    "def ratio(delta, c, lambda_j):\n",
    "    K_j_star = ((delta + delta*c*lambda_j**2 - c) + sqrt((c-delta-delta*c*lambda_j**2)**2 + 4*delta*c)) / (2 * delta)\n",
    "    return K_j_star / lambda_j"
   ]
  },
  {
   "cell_type": "code",
   "execution_count": 3,
   "id": "e5de4e8f-3fe9-4e07-8430-d5be3aaa7314",
   "metadata": {},
   "outputs": [
    {
     "data": {
      "image/png": "[encoded data removed]",
      "text/plain": [
       "<Figure size 432x288 with 1 Axes>"
      ]
     },
     "metadata": {
      "needs_background": "light"
     },
     "output_type": "display_data"
    }
   ],
   "source": [
    "linsp = np.linspace(-1, 1, 100)\n",
    "\n",
    "plt.scatter(linsp, [ratio(1, 0.1, lambda_j) for lambda_j in linsp], label = \"delta = 1, c = 0.1\", s = 2)\n",
    "plt.scatter(linsp, [ratio(1, 1, lambda_j) for lambda_j in linsp], label = \"delta = 1, c = 1\", s = 2)\n",
    "plt.scatter(linsp, [ratio(1, 100, lambda_j) for lambda_j in linsp], label = \"delta = 1, c = 100\", s = 2)\n",
    "\n",
    "plt.scatter(linsp, [ratio(0.5, 0.1, lambda_j) for lambda_j in linsp], label = \"delta = 0.5, c = 0.1\", s = 2)\n",
    "plt.scatter(linsp, [ratio(0.5, 1, lambda_j) for lambda_j in linsp], label = \"delta = 0.5, c = 1\", s = 2)\n",
    "plt.scatter(linsp, [ratio(0.5, 100, lambda_j) for lambda_j in linsp], label = \"delta = 0.5, c = 100\", s = 2)\n",
    "\n",
    "plt.scatter(linsp, [ratio(0.1, 0.1, lambda_j) for lambda_j in linsp], label = \"delta = 0.1, c = 0.1\", s = 2)\n",
    "plt.scatter(linsp, [ratio(0.1, 1, lambda_j) for lambda_j in linsp], label = \"delta = 0.1, c = 1\", s = 2)\n",
    "plt.scatter(linsp, [ratio(0.1, 100, lambda_j) for lambda_j in linsp], label = \"delta = 0.1, c = 100\", s = 2)\n",
    "plt.legend(framealpha = 0.01)\n",
    "plt.xlabel(\"$\\lambda_j$\")\n",
    "plt.ylabel(\"ratio\")\n",
    "plt.show()"
   ]
  },
  {
   "cell_type": "markdown",
   "id": "fced36e3-5971-4cf2-9250-cd88593f552f",
   "metadata": {},
   "source": [
    "The function does not actually appear to be decreasing everywhere, which is odd."
   ]
  },
  {
   "cell_type": "code",
   "execution_count": 4,
   "id": "1a0460a1-c0df-4aca-bcd2-ffd8d47ba386",
   "metadata": {
    "tags": []
   },
   "outputs": [
    {
     "data": {
      "text/latex": [
       "$\\displaystyle \\frac{c \\delta \\lambda_{j}^{2} - c + \\delta + \\sqrt{4 c \\delta + \\left(- c \\delta \\lambda_{j}^{2} + c - \\delta\\right)^{2}}}{2 \\delta \\lambda_{j}}$"
      ],
      "text/plain": [
       "(c*delta*lambda_j**2 - c + delta + sqrt(4*c*delta + (-c*delta*lambda_j**2 + c - delta)**2))/(2*delta*lambda_j)"
      ]
     },
     "execution_count": 4,
     "metadata": {},
     "output_type": "execute_result"
    }
   ],
   "source": [
    "delta, c, lambda_j = symbols(\"delta c lambda_j\")\n",
    "rho = ratio(delta, c, lambda_j)\n",
    "rho"
   ]
  },
  {
   "cell_type": "code",
   "execution_count": 5,
   "id": "4d369885-434a-4a16-b8b1-cbe911081bd5",
   "metadata": {
    "tags": []
   },
   "outputs": [
    {
     "data": {
      "text/latex": [
       "$\\displaystyle \\frac{c \\delta \\lambda_{j}^{2} \\left(c \\delta \\lambda_{j}^{2} - c + \\delta + \\sqrt{4 c \\delta + \\left(c \\delta \\lambda_{j}^{2} - c + \\delta\\right)^{2}}\\right) + \\frac{\\sqrt{4 c \\delta + \\left(c \\delta \\lambda_{j}^{2} - c + \\delta\\right)^{2}} \\left(- c \\delta \\lambda_{j}^{2} + c - \\delta - \\sqrt{4 c \\delta + \\left(c \\delta \\lambda_{j}^{2} - c + \\delta\\right)^{2}}\\right)}{2}}{\\delta \\lambda_{j}^{2} \\sqrt{4 c \\delta + \\left(c \\delta \\lambda_{j}^{2} - c + \\delta\\right)^{2}}}$"
      ],
      "text/plain": [
       "(c*delta*lambda_j**2*(c*delta*lambda_j**2 - c + delta + sqrt(4*c*delta + (c*delta*lambda_j**2 - c + delta)**2)) + sqrt(4*c*delta + (c*delta*lambda_j**2 - c + delta)**2)*(-c*delta*lambda_j**2 + c - delta - sqrt(4*c*delta + (c*delta*lambda_j**2 - c + delta)**2))/2)/(delta*lambda_j**2*sqrt(4*c*delta + (c*delta*lambda_j**2 - c + delta)**2))"
      ]
     },
     "execution_count": 5,
     "metadata": {},
     "output_type": "execute_result"
    }
   ],
   "source": [
    "deriv = simplify(diff(rho, lambda_j))\n",
    "deriv"
   ]
  },
  {
   "cell_type": "markdown",
   "id": "12d4d057-00af-44c3-9252-089402aa084a",
   "metadata": {},
   "source": [
    "The denominator is positive. If we expand the numerator:"
   ]
  },
  {
   "cell_type": "code",
   "execution_count": 6,
   "id": "0e75d4e4-04bd-4fcb-a519-de90bad9c3e3",
   "metadata": {
    "tags": []
   },
   "outputs": [
    {
     "data": {
      "text/latex": [
       "$\\displaystyle \\frac{c^{2} \\delta^{2} \\lambda_{j}^{4}}{2} - \\frac{c^{2}}{2} + \\frac{c \\delta \\lambda_{j}^{2} \\sqrt{c^{2} \\delta^{2} \\lambda_{j}^{4} - 2 c^{2} \\delta \\lambda_{j}^{2} + c^{2} + 2 c \\delta^{2} \\lambda_{j}^{2} + 2 c \\delta + \\delta^{2}}}{2} - c \\delta + \\frac{c \\sqrt{c^{2} \\delta^{2} \\lambda_{j}^{4} - 2 c^{2} \\delta \\lambda_{j}^{2} + c^{2} + 2 c \\delta^{2} \\lambda_{j}^{2} + 2 c \\delta + \\delta^{2}}}{2} - \\frac{\\delta^{2}}{2} - \\frac{\\delta \\sqrt{c^{2} \\delta^{2} \\lambda_{j}^{4} - 2 c^{2} \\delta \\lambda_{j}^{2} + c^{2} + 2 c \\delta^{2} \\lambda_{j}^{2} + 2 c \\delta + \\delta^{2}}}{2}$"
      ],
      "text/plain": [
       "c**2*delta**2*lambda_j**4/2 - c**2/2 + c*delta*lambda_j**2*sqrt(c**2*delta**2*lambda_j**4 - 2*c**2*delta*lambda_j**2 + c**2 + 2*c*delta**2*lambda_j**2 + 2*c*delta + delta**2)/2 - c*delta + c*sqrt(c**2*delta**2*lambda_j**4 - 2*c**2*delta*lambda_j**2 + c**2 + 2*c*delta**2*lambda_j**2 + 2*c*delta + delta**2)/2 - delta**2/2 - delta*sqrt(c**2*delta**2*lambda_j**4 - 2*c**2*delta*lambda_j**2 + c**2 + 2*c*delta**2*lambda_j**2 + 2*c*delta + delta**2)/2"
      ]
     },
     "execution_count": 6,
     "metadata": {},
     "output_type": "execute_result"
    }
   ],
   "source": [
    "expand(fraction(deriv)[0])"
   ]
  },
  {
   "cell_type": "markdown",
   "id": "dc9b81f1-f3ac-4ec0-b65b-c88a288cbf69",
   "metadata": {},
   "source": [
    "$c^2\\delta^2\\lambda_j^4 - c^2 = c^2(\\delta^2\\lambda_j^4 - 1) \\leq 0$, so the first two terms together are negative."
   ]
  },
  {
   "cell_type": "markdown",
   "id": "ea877f67-f13b-4751-8242-e88fbc3cf145",
   "metadata": {
    "tags": []
   },
   "source": [
    "$c\\delta\\lambda_j^2 + c - \\delta = \\delta(c\\lambda_j^2 - 1) + c$. This is ambiguous, so the square root terms together may not necessarily be negative."
   ]
  },
  {
   "cell_type": "code",
   "execution_count": 7,
   "id": "80e1fdbd-017e-48d6-bab3-7052fc81c840",
   "metadata": {
    "tags": []
   },
   "outputs": [
    {
     "data": {
      "text/latex": [
       "$\\displaystyle 50.1202921502506$"
      ],
      "text/plain": [
       "50.1202921502506"
      ]
     },
     "execution_count": 7,
     "metadata": {},
     "output_type": "execute_result"
    }
   ],
   "source": [
    "simplify(deriv.subs(delta, 0.9).subs(lambda_j, 1).subs(c, 100.0))"
   ]
  },
  {
   "cell_type": "code",
   "execution_count": 8,
   "id": "50ea9e0c-042a-4ccb-8f30-b1604df53a7c",
   "metadata": {},
   "outputs": [
    {
     "data": {
      "text/latex": [
       "$\\displaystyle -0.907837862894675$"
      ],
      "text/plain": [
       "-0.907837862894675"
      ]
     },
     "execution_count": 8,
     "metadata": {},
     "output_type": "execute_result"
    }
   ],
   "source": [
    "simplify(deriv.subs(delta, 0.9).subs(lambda_j, 1).subs(c, 0.1))"
   ]
  },
  {
   "cell_type": "markdown",
   "id": "774c01d9-d849-464c-b857-0bb06e2766da",
   "metadata": {},
   "source": [
    "Indeed, this is the case."
   ]
  },
  {
   "cell_type": "code",
   "execution_count": 9,
   "id": "4f632e4f-6b7a-4940-9390-fc7d1a795d46",
   "metadata": {},
   "outputs": [
    {
     "data": {
      "image/png": "[encoded data removed]",
      "text/plain": [
       "<Figure size 432x288 with 1 Axes>"
      ]
     },
     "metadata": {
      "needs_background": "light"
     },
     "output_type": "display_data"
    }
   ],
   "source": [
    "plt.scatter(np.linspace(0.1, 1, 100), [ratio(1, 100, lambda_j) for lambda_j in np.linspace(0.1, 1, 100)], label = \"delta = 1, c = 100\", s = 2)\n",
    "plt.legend(framealpha = 0.01)\n",
    "plt.xlabel(\"$\\lambda_j$\")\n",
    "plt.ylabel(\"ratio\")\n",
    "plt.show()"
   ]
  },
  {
   "cell_type": "code",
   "execution_count": 10,
   "id": "d18e8ecf-498a-456b-b587-59a6a91ff11f",
   "metadata": {},
   "outputs": [
    {
     "data": {
      "image/png": "[encoded data removed]",
      "text/plain": [
       "<Figure size 432x288 with 1 Axes>"
      ]
     },
     "metadata": {
      "needs_background": "light"
     },
     "output_type": "display_data"
    }
   ],
   "source": [
    "plt.scatter(np.linspace(0.4, 1, 100), [ratio(0.5, 100, lambda_j) for lambda_j in np.linspace(0.4, 1, 100)], label = \"delta = 0.5, c = 100\", s = 2)\n",
    "plt.legend(framealpha = 0.01)\n",
    "plt.xlabel(\"$\\lambda_j$\")\n",
    "plt.ylabel(\"ratio\")\n",
    "plt.show()"
   ]
  },
  {
   "cell_type": "code",
   "execution_count": 11,
   "id": "acc75d7f-b824-4072-8ff8-5e340ebda729",
   "metadata": {},
   "outputs": [
    {
     "data": {
      "image/png": "[encoded data removed]",
      "text/plain": [
       "<Figure size 432x288 with 1 Axes>"
      ]
     },
     "metadata": {
      "needs_background": "light"
     },
     "output_type": "display_data"
    }
   ],
   "source": [
    "plt.scatter(np.linspace(0.4, 1, 100), [ratio(0.1, 100, lambda_j) for lambda_j in np.linspace(0.4, 1, 100)], label = \"delta = 0.1, c = 100\", s = 2)\n",
    "plt.legend(framealpha = 0.01)\n",
    "plt.xlabel(\"$\\lambda_j$\")\n",
    "plt.ylabel(\"ratio\")\n",
    "plt.show()"
   ]
  }
 ],
 "metadata": {
  "kernelspec": {
   "display_name": "Python 3",
   "language": "python",
   "name": "python3"
  },
  "language_info": {
   "codemirror_mode": {
    "name": "ipython",
    "version": 3
   },
   "file_extension": ".py",
   "mimetype": "text/x-python",
   "name": "python",
   "nbconvert_exporter": "python",
   "pygments_lexer": "ipython3",
   "version": "3.8.8"
  },
  "widgets": {
   "application/vnd.jupyter.widget-state+json": {
    "state": {},
    "version_major": 2,
    "version_minor": 0
   }
  }
 },
 "nbformat": 4,
 "nbformat_minor": 5
}
