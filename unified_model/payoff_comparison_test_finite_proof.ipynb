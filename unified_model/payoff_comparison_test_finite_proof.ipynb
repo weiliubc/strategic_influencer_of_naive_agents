{
 "cells": [
  {
   "cell_type": "markdown",
   "id": "2908d617-2c2a-4616-b8e2-9cd47c0da00d",
   "metadata": {},
   "source": [
    "# Proof that the myopic strategy outperforms the one-shot strategy for finite horizon models T > 2\n",
    "\n",
    "James Yu, 8 August 2022"
   ]
  },
  {
   "cell_type": "code",
   "execution_count": 1,
   "id": "f1cc2fb2-7cc2-455c-a2d6-004093f220cb",
   "metadata": {},
   "outputs": [],
   "source": [
    "from sympy import *"
   ]
  },
  {
   "cell_type": "code",
   "execution_count": 2,
   "id": "d8c309ca-23ba-44d8-8288-2095719ab51f",
   "metadata": {},
   "outputs": [],
   "source": [
    "lambda_, delta, c, d, T = symbols(\"lambda_j, delta, c, Sigma_j, T\")"
   ]
  },
  {
   "cell_type": "markdown",
   "id": "6c74a9ac-5e6c-4ceb-aeb6-7d637e916334",
   "metadata": {
    "tags": []
   },
   "source": [
    "## Proof by induction on the horizon length $T$:\n",
    "\n",
    "First, recall that we already know the models have identical payoff for $T = 1$, so begin with a base case of $T = 2$. In order to do this, we need the general payoff form for each model first."
   ]
  },
  {
   "cell_type": "markdown",
   "id": "69b42360-c5ad-4607-aaab-084761012144",
   "metadata": {},
   "source": [
    "In the one-shot model, recall that the optimal payoff is:\n",
    "\n",
    "$$-\\tilde{x_0}^\\prime \\tilde{x_0} - c \\tilde{r_0}^\\prime \\tilde{r_0} - \\sum\\limits_1^T \\delta^t \\tilde{x_1}^\\prime D^{2(t-1)} \\tilde{x_1}$$"
   ]
  },
  {
   "cell_type": "markdown",
   "id": "cb613d0a-f588-4aa4-a485-0654710cf1b8",
   "metadata": {},
   "source": [
    "where we know:\n",
    "\n",
    "$$\\tilde{r_0} = -(cI + \\delta[\\sum\\limits_0^{T-1} \\delta^t D^{2t}])^{-1} \\delta [\\sum\\limits_0^{T-1} \\delta^t D^{2t}] D\\tilde{x_0}$$"
   ]
  },
  {
   "cell_type": "markdown",
   "id": "be1e3fc0-548b-4af7-a638-b5323db06d1b",
   "metadata": {},
   "source": [
    "and:\n",
    "\n",
    "$$\\tilde{x_1} = D\\tilde{x_0} + \\tilde{r_0}$$"
   ]
  },
  {
   "cell_type": "markdown",
   "id": "d76d4e9a-8dbd-4b3c-8b9e-042dafd6ee86",
   "metadata": {},
   "source": [
    "First, notice we can reparametrize the sum of payoffs from $t = 1$ to $T$ by factoring out $\\delta$ (and subsequently factor out $\\tilde{x_1}$ to put the sum into the same form as the sums in $\\tilde{r_0}$):"
   ]
  },
  {
   "cell_type": "markdown",
   "id": "282234b5-ec00-402c-b050-2e862293311d",
   "metadata": {},
   "source": [
    "$$-\\tilde{x_0}^\\prime \\tilde{x_0} - c \\tilde{r_0}^\\prime \\tilde{r_0} - \\delta \\sum\\limits_1^T \\delta^{t-1} \\tilde{x_1}^\\prime D^{2(t-1)} \\tilde{x_1}$$\n",
    "\n",
    "$$= -\\tilde{x_0}^\\prime \\tilde{x_0} - c \\tilde{r_0}^\\prime \\tilde{r_0} - \\delta \\tilde{x_1}^\\prime [\\sum\\limits_0^{T-1} \\delta^t D^{2t}] \\tilde{x_1}$$"
   ]
  },
  {
   "cell_type": "markdown",
   "id": "d42e4427-6f98-415a-a30c-bb2e01446eca",
   "metadata": {},
   "source": [
    "Next, denote $\\sum\\limits_0^{T-1} \\delta^t D^{2t}$ as $\\Sigma$. Substituting $\\tilde{r_0}$ and $\\tilde{x_1}$, we then have:"
   ]
  },
  {
   "cell_type": "markdown",
   "id": "db418d41-5d17-4eba-8260-215a4c551971",
   "metadata": {
    "tags": []
   },
   "source": [
    "$$= -\\tilde{x_0}^\\prime \\tilde{x_0} - c\\tilde{x_0}^\\prime D^2 \\Sigma^2 \\delta^2 (cI + \\delta \\Sigma)^{-2} \\tilde{x_0} - \\delta (D\\tilde{x_0} - (cI + \\delta\\Sigma)^{-1}\\delta\\Sigma D \\tilde{x_0})^\\prime \\Sigma (D\\tilde{x_0}- (cI + \\delta\\Sigma)^{-1}\\delta\\Sigma D \\tilde{x_0})$$"
   ]
  },
  {
   "cell_type": "markdown",
   "id": "56e81ec0-81c7-496b-b42f-08da628de937",
   "metadata": {
    "tags": []
   },
   "source": [
    "$$= -\\tilde{x_0}^\\prime \\tilde{x_0} - c\\tilde{x_0}^\\prime D^2 \\Sigma^2 \\delta^2 (cI + \\delta \\Sigma)^{-2} \\tilde{x_0} - \\delta \\tilde{x_0}^\\prime D^2(I- (cI + \\delta\\Sigma)^{-1}\\delta\\Sigma)^2 \\Sigma \\tilde{x_0}$$"
   ]
  },
  {
   "cell_type": "markdown",
   "id": "b3e723c4-4df5-4825-8513-2135efaca0cd",
   "metadata": {},
   "source": [
    "Next, factor out $\\tilde{x_0}$ and consider an arbitrary dimension of the resulting matrix (where $\\Sigma_j$ is the $j$-th diagonal of $\\Sigma$):"
   ]
  },
  {
   "cell_type": "markdown",
   "id": "bb5fdb85-1787-4ee4-a87b-04f24f4562cf",
   "metadata": {},
   "source": [
    "$$-1 - c\\lambda_j^2 \\Sigma_j^2 \\delta^2 (c + \\delta \\Sigma_j)^{-2} - \\delta \\lambda_j^2 (1 - (c + \\delta\\Sigma_j)^{-1} \\delta\\Sigma_j)^2 \\Sigma_j$$"
   ]
  },
  {
   "cell_type": "markdown",
   "id": "3a593a86-f7c5-427c-8bb4-bdd3cc92c43e",
   "metadata": {
    "tags": []
   },
   "source": [
    "$$= -1 - \\frac{c\\lambda_j^2 \\Sigma_j^2 \\delta^2}{(c + \\delta \\Sigma_j)^2} - \\delta \\lambda_j^2 (1 - (c + \\delta\\Sigma_j)^{-1} \\delta\\Sigma_j)^2 \\Sigma_j$$"
   ]
  },
  {
   "cell_type": "markdown",
   "id": "77a78e19-fe0f-498a-88ba-43a22c44d95d",
   "metadata": {},
   "source": [
    "$$= -1 - \\frac{c\\lambda_j^2 \\Sigma_j^2 \\delta^2}{(c + \\delta \\Sigma_j)^2} - \\delta \\lambda_j^2 (1 - \\frac{\\delta\\Sigma_j}{c + \\delta\\Sigma_j})^2 \\Sigma_j$$"
   ]
  },
  {
   "cell_type": "markdown",
   "id": "a799ebb1-bfc2-4591-aee2-350624e1eab2",
   "metadata": {},
   "source": [
    "$$= -1 - \\frac{c\\lambda_j^2 \\Sigma_j^2 \\delta^2}{(c + \\delta \\Sigma_j)^2} - \\delta \\lambda_j^2 (1 - 2\\frac{\\delta\\Sigma_j}{c + \\delta\\Sigma_j} + (\\frac{\\delta\\Sigma_j}{c + \\delta\\Sigma_j})^2) \\Sigma_j$$"
   ]
  },
  {
   "cell_type": "markdown",
   "id": "4442de84-74db-4da5-8745-dd723aa57ef5",
   "metadata": {},
   "source": [
    "$$= -1 - \\frac{c\\lambda_j^2 \\Sigma_j^2 \\delta^2}{(c + \\delta \\Sigma_j)^2} - \\delta \\Sigma_j \\lambda_j^2 + 2\\frac{\\delta^2\\lambda_j^2\\Sigma_j^2}{c + \\delta\\Sigma_j} - \\frac{\\delta\\Sigma_j\\lambda_j^2(\\delta\\Sigma_j)^2}{(c + \\delta\\Sigma_j)^2}$$"
   ]
  },
  {
   "cell_type": "markdown",
   "id": "8355ab59-cf1b-4d5a-84a6-fff52c7e4391",
   "metadata": {
    "tags": []
   },
   "source": [
    "$$= -1 - \\frac{\\lambda_j^2 \\Sigma_j^2 \\delta^2(c + \\delta\\Sigma_j)}{(c + \\delta \\Sigma_j)^2} - \\delta \\Sigma_j \\lambda_j^2 + 2\\frac{\\delta^2\\lambda_j^2\\Sigma_j^2}{c + \\delta\\Sigma_j}$$"
   ]
  },
  {
   "cell_type": "markdown",
   "id": "365342fc-e9f8-41f7-b340-ae0ede874a93",
   "metadata": {
    "tags": []
   },
   "source": [
    "$$= -1 - \\frac{\\lambda_j^2 \\Sigma_j^2 \\delta^2}{c + \\delta \\Sigma_j} - \\delta \\Sigma_j \\lambda_j^2 + 2\\frac{\\delta^2\\lambda_j^2\\Sigma_j^2}{c + \\delta\\Sigma_j}$$"
   ]
  },
  {
   "cell_type": "markdown",
   "id": "5a52ecf4-a489-4ca1-ad71-b4b049a620e3",
   "metadata": {
    "tags": []
   },
   "source": [
    "$$= -1 + \\frac{\\lambda_j^2 \\Sigma_j^2 \\delta^2}{c + \\delta \\Sigma_j} - \\frac{\\delta \\Sigma_j \\lambda_j^2 (c+\\delta\\Sigma_j)}{c + \\delta \\Sigma_j}$$"
   ]
  },
  {
   "cell_type": "markdown",
   "id": "3079abd6-fe94-4a75-9089-da42d42796b2",
   "metadata": {},
   "source": [
    "$$= -1 + \\frac{\\lambda_j^2 \\Sigma_j^2 \\delta^2 - c\\delta \\Sigma_j \\lambda_j^2 - \\delta^2\\Sigma_j^2 \\lambda_j^2}{c + \\delta \\Sigma_j}$$"
   ]
  },
  {
   "cell_type": "markdown",
   "id": "d2a3d206-7a94-4438-893c-c53106a639f1",
   "metadata": {
    "tags": []
   },
   "source": [
    "$$= -1 - \\frac{c\\delta \\Sigma_j \\lambda_j^2}{c + \\delta \\Sigma_j}$$"
   ]
  },
  {
   "cell_type": "markdown",
   "id": "fe915ddc-7851-4d52-8dfb-cf6077d0b38f",
   "metadata": {},
   "source": [
    "Next, the optimal payoff for the myopic model is:"
   ]
  },
  {
   "cell_type": "markdown",
   "id": "e5cf1bab-1a82-49af-b7aa-3cf163510a31",
   "metadata": {},
   "source": [
    "$$-\\sum\\limits_0^{T-1} (\\delta^t \\tilde{x_t}^\\prime \\tilde{x_t} + c \\tilde{r_t}^\\prime \\tilde{r_t}) - \\delta^T \\tilde{x_T}^\\prime \\tilde{x_T}$$"
   ]
  },
  {
   "cell_type": "markdown",
   "id": "42518351-64d4-427f-87ac-2a022e7ec821",
   "metadata": {},
   "source": [
    "where:\n",
    "\n",
    "$$L^m = -\\frac{\\delta}{\\delta+c}D$$\n",
    "\n",
    "$$\\tilde{x_t} = (D+L^m)^t \\tilde{x_0} = (\\frac{c}{\\delta+c})^t D^t \\tilde{x_0}$$\n",
    "\n",
    "$$\\tilde{r_t} = L^m \\tilde{x_t}$$"
   ]
  },
  {
   "cell_type": "markdown",
   "id": "115bcc05-d0d0-4782-ace1-2edb4f172655",
   "metadata": {},
   "source": [
    "Thus, the payoff function simplifies to:"
   ]
  },
  {
   "cell_type": "markdown",
   "id": "2ceda739-7851-42cb-be77-ef563b73dd82",
   "metadata": {},
   "source": [
    "$$-\\sum\\limits_0^{T-1} \\delta^t \\tilde{x_t}^\\prime (I + c \\frac{\\delta^2}{(\\delta+c)^2}D^2)\\tilde{x_t} - \\delta^T \\tilde{x_T}^\\prime \\tilde{x_T}$$"
   ]
  },
  {
   "cell_type": "markdown",
   "id": "5c003135-45a4-48e1-a9da-98375ff840bd",
   "metadata": {},
   "source": [
    "$$= -\\sum\\limits_0^{T-1} \\delta^t \\tilde{x_0}^\\prime (\\frac{c}{\\delta+c})^{2t}D^{2t} (I + c \\frac{\\delta^2}{(\\delta+c)^2}D^2)\\tilde{x_0} - \\delta^T \\tilde{x_0}^\\prime (\\frac{c}{\\delta+c})^{2T} D^{2T} \\tilde{x_0}$$"
   ]
  },
  {
   "cell_type": "markdown",
   "id": "511b9678-9172-43f9-bfb1-c83fd6a1c7f5",
   "metadata": {},
   "source": [
    "$$= -\\tilde{x_0}^\\prime (I + c \\frac{\\delta^2}{(\\delta+c)^2}D^2) [\\sum\\limits_0^{T-1} \\frac{c^{2t} \\delta^t}{(\\delta+c)^{2t}}D^{2t}]\\tilde{x_0} - \\delta^T \\tilde{x_0}^\\prime (\\frac{c}{\\delta+c})^{2T} D^{2T} \\tilde{x_0}$$"
   ]
  },
  {
   "cell_type": "markdown",
   "id": "7b507d03-b230-4c81-acb7-368a6274902c",
   "metadata": {},
   "source": [
    "We can now again factor out $\\tilde{x_0}$ and consider an arbitrary dimension of the resulting matrix:"
   ]
  },
  {
   "cell_type": "markdown",
   "id": "75389ba3-2c78-49b3-9cfb-2787ad153f0f",
   "metadata": {},
   "source": [
    "$$-(1 + c \\frac{\\delta^2}{(\\delta+c)^2}\\lambda_j^2) [\\sum\\limits_0^{T-1} \\frac{c^{2t} \\delta^t}{(\\delta+c)^{2t}}\\lambda_j^{2t}] - \\delta^T (\\frac{c\\lambda_j}{\\delta+c})^{2T}$$"
   ]
  },
  {
   "cell_type": "markdown",
   "id": "ee4cbf9e-d4d2-446d-a899-83b06cf1a3c7",
   "metadata": {},
   "source": [
    "From here, we can now check the two payoff expressions for $T = 2$. First, the one-shot payoff contains the sum $\\Sigma_j$ which for $T = 2$ evaluates to $1 + \\delta \\lambda_j^2$. Substituting this into the payoff expression gives:"
   ]
  },
  {
   "cell_type": "code",
   "execution_count": 3,
   "id": "7a9f157f-f415-4f02-921e-466d53018978",
   "metadata": {},
   "outputs": [
    {
     "data": {
      "text/latex": [
       "$\\displaystyle - \\frac{c \\delta \\lambda_{j}^{2} \\left(\\delta \\lambda_{j}^{2} + 1\\right)}{c + \\delta \\left(\\delta \\lambda_{j}^{2} + 1\\right)} - 1$"
      ],
      "text/plain": [
       "-c*delta*lambda_j**2*(delta*lambda_j**2 + 1)/(c + delta*(delta*lambda_j**2 + 1)) - 1"
      ]
     },
     "execution_count": 3,
     "metadata": {},
     "output_type": "execute_result"
    }
   ],
   "source": [
    "one_shot_payoff = -1 - (c * delta * lambda_**2 * (1 + delta * lambda_**2) / (c + delta * (1 + delta * lambda_**2)))\n",
    "one_shot_payoff"
   ]
  },
  {
   "cell_type": "markdown",
   "id": "cbe83026-f224-4f00-b008-4989423a8a19",
   "metadata": {},
   "source": [
    "The myopic payoff expression for $T = 2$ is:"
   ]
  },
  {
   "cell_type": "code",
   "execution_count": 4,
   "id": "b443e4b2-4219-4296-a16e-0d866ca6e4e7",
   "metadata": {
    "tags": []
   },
   "outputs": [
    {
     "data": {
      "text/latex": [
       "$\\displaystyle - \\frac{c^{4} \\delta^{2} \\lambda_{j}^{4}}{\\left(c + \\delta\\right)^{4}} + \\left(- \\frac{c \\delta^{2} \\lambda_{j}^{2}}{\\left(c + \\delta\\right)^{2}} - 1\\right) \\left(\\frac{c^{2} \\delta \\lambda_{j}^{2}}{\\left(c + \\delta\\right)^{2}} + 1\\right)$"
      ],
      "text/plain": [
       "-c**4*delta**2*lambda_j**4/(c + delta)**4 + (-c*delta**2*lambda_j**2/(c + delta)**2 - 1)*(c**2*delta*lambda_j**2/(c + delta)**2 + 1)"
      ]
     },
     "execution_count": 4,
     "metadata": {},
     "output_type": "execute_result"
    }
   ],
   "source": [
    "myopic_payoff = -(1 + c * (delta * lambda_ / (delta + c))**2) * (1 + delta * (c*lambda_/(delta+c))**2) - delta**2 * (c*lambda_/(delta+c))**4\n",
    "myopic_payoff"
   ]
  },
  {
   "cell_type": "markdown",
   "id": "12751531-42f1-406c-88bd-11fbb28eecd7",
   "metadata": {},
   "source": [
    "If we subtract the one-shot payoff from the myopic payoff, we get:"
   ]
  },
  {
   "cell_type": "code",
   "execution_count": 5,
   "id": "eb30d0cb-1fc0-462f-bd1a-57aee8594fcd",
   "metadata": {},
   "outputs": [
    {
     "data": {
      "text/latex": [
       "$\\displaystyle \\frac{c^{2} \\delta^{3} \\lambda_{j}^{4} \\left(- c \\delta \\lambda_{j}^{2} + c + \\delta\\right)}{c^{4} + c^{3} \\delta^{2} \\lambda_{j}^{2} + 4 c^{3} \\delta + 3 c^{2} \\delta^{3} \\lambda_{j}^{2} + 6 c^{2} \\delta^{2} + 3 c \\delta^{4} \\lambda_{j}^{2} + 4 c \\delta^{3} + \\delta^{5} \\lambda_{j}^{2} + \\delta^{4}}$"
      ],
      "text/plain": [
       "c**2*delta**3*lambda_j**4*(-c*delta*lambda_j**2 + c + delta)/(c**4 + c**3*delta**2*lambda_j**2 + 4*c**3*delta + 3*c**2*delta**3*lambda_j**2 + 6*c**2*delta**2 + 3*c*delta**4*lambda_j**2 + 4*c*delta**3 + delta**5*lambda_j**2 + delta**4)"
      ]
     },
     "execution_count": 5,
     "metadata": {},
     "output_type": "execute_result"
    }
   ],
   "source": [
    "simplify(myopic_payoff - one_shot_payoff)"
   ]
  },
  {
   "cell_type": "markdown",
   "id": "976b7795-b778-4823-bb93-543ac572640d",
   "metadata": {
    "tags": []
   },
   "source": [
    "which is positive since $c \\geq 0, \\delta \\geq 0, \\lambda_j \\geq 0, \\delta + c - c\\delta\\lambda_j^2 = \\delta + c(1 - \\delta\\lambda_j^2) > 0$. Thus, in $T = 2$, the myopic payoff is strictly greater than the one-shot payoff. Note that if $c$ and $\\delta$ are both zero, multiple results contain $0/0$ forms, so this case is ignored."
   ]
  },
  {
   "cell_type": "markdown",
   "id": "e9899af6-17f8-4f81-8644-1c9ba1e3ba10",
   "metadata": {},
   "source": [
    "Next, assume that the myopic payoff is strictly greater than the one-shot payoff for an arbitrary length $T \\geq 2$. We will show that the myopic payoff is then also strictly greater than the one-shot payoff for length $T + 1$."
   ]
  },
  {
   "cell_type": "markdown",
   "id": "d6a00525-a3ea-4bc5-96a2-fdd86873d235",
   "metadata": {},
   "source": [
    "First, recall that the myopic payoff for horizon length $T$ is:"
   ]
  },
  {
   "cell_type": "markdown",
   "id": "aca83d1f-3266-4a39-b0bf-f0c235176daa",
   "metadata": {},
   "source": [
    "$$V_{0, T}^M = -(1 + c \\frac{\\delta^2}{(\\delta+c)^2}\\lambda_j^2) [\\sum\\limits_0^{T-1} \\frac{c^{2t} \\delta^t}{(\\delta+c)^{2t}}\\lambda_j^{2t}] - \\delta^T (\\frac{c\\lambda_j}{\\delta+c})^{2T}$$"
   ]
  },
  {
   "cell_type": "markdown",
   "id": "84ad5bd9-b86c-44fe-8745-c77ff6ea87a2",
   "metadata": {},
   "source": [
    "For horizon length $T + 1$, the payoff is:"
   ]
  },
  {
   "cell_type": "markdown",
   "id": "db12b2c3-fc3f-4477-906b-485ab1a9287b",
   "metadata": {
    "tags": []
   },
   "source": [
    "$$V_{0, T+1}^M = -(1 + c \\frac{\\delta^2}{(\\delta+c)^2}\\lambda_j^2) [\\sum\\limits_0^T \\frac{c^{2t} \\delta^t}{(\\delta+c)^{2t}}\\lambda_j^{2t}] - \\delta^{T+1} (\\frac{c\\lambda_j}{\\delta+c})^{2(T+1)}$$"
   ]
  },
  {
   "cell_type": "markdown",
   "id": "f2924608-36fe-432b-a67c-903c9cbf5dbd",
   "metadata": {
    "tags": []
   },
   "source": [
    "$$ = -(1 + c \\frac{\\delta^2}{(\\delta+c)^2}\\lambda_j^2) [\\sum\\limits_0^{T-1} \\frac{c^{2t} \\delta^t}{(\\delta+c)^{2t}}\\lambda_j^{2t}] - \\frac{c^{2T}\\delta^T \\lambda_j^{2T}}{(\\delta+c)^{2T}} - \\frac{c^{2T+1}\\delta^{T+2}\\lambda_j^{2T+2}}{(\\delta+c)^{2T+2}} - \\delta^{T+1} (\\frac{c\\lambda_j}{\\delta+c})^{2(T+1)}$$"
   ]
  },
  {
   "cell_type": "markdown",
   "id": "48baa044-c289-48b1-9946-6acf05c7dba4",
   "metadata": {},
   "source": [
    "$$= V_{0,T}^M - \\frac{c^{2T+1}\\delta^{T+2}\\lambda_j^{2(T+1)}}{(\\delta+c)^{2(T+1)}} - \\delta^{T+1}(\\frac{c\\lambda_j}{\\delta+c})^{2(T+1)}$$"
   ]
  },
  {
   "cell_type": "markdown",
   "id": "91ac74a0-8c9a-4989-81d7-e27cab287565",
   "metadata": {},
   "source": [
    "$$= V_{0,T}^M - \\frac{c^{2T+1}\\delta^{T+2}\\lambda_j^{2(T+1)} + \\delta^{T+1}(c\\lambda_j)^{2(T+1)}}{(\\delta+c)^{2(T+1)}}$$"
   ]
  },
  {
   "cell_type": "markdown",
   "id": "5a2c55c6-efdf-485d-a670-6925854701fa",
   "metadata": {},
   "source": [
    "$$= V_{0,T}^M - \\frac{c^{2T+1}\\delta^{T+1}\\lambda_j^{2(T+1)}(\\delta+c)}{(\\delta+c)^{2(T+1)}}$$"
   ]
  },
  {
   "cell_type": "markdown",
   "id": "d0ff29b8-a2d9-40b4-9b55-39b454877528",
   "metadata": {},
   "source": [
    "$$= V_{0,T}^M - \\frac{c^{2T+1}\\delta^{T+1}\\lambda_j^{2(T+1)}}{(\\delta+c)^{2T+1}}$$"
   ]
  },
  {
   "cell_type": "markdown",
   "id": "c0f17d7a-3437-428d-b251-3b5a7905e6f6",
   "metadata": {},
   "source": [
    "From here we can see that $V_{0,T+1}^M - V_{0,T}^M = -\\frac{c^{2T+1}\\delta^{T+1}\\lambda_j^{2(T+1)}}{(\\delta+c)^{2T+1}}$."
   ]
  },
  {
   "cell_type": "markdown",
   "id": "e275471b-2e95-4b7a-9bb2-f18140efffbc",
   "metadata": {},
   "source": [
    "Next, recall that the one-shot payoff for horizon length $T$ is:"
   ]
  },
  {
   "cell_type": "markdown",
   "id": "4acaddfe-92a5-4178-a048-22225f32d23a",
   "metadata": {},
   "source": [
    "$$V_{0,T}^O = -1 - \\frac{c\\delta \\Sigma_j \\lambda_j^2}{c + \\delta \\Sigma_j}$$"
   ]
  },
  {
   "cell_type": "markdown",
   "id": "4e5e9cf3-f331-435e-a429-51b9b19ddd3a",
   "metadata": {},
   "source": [
    "where $\\Sigma_j = \\sum\\limits_0^{T-1}\\delta^t \\lambda_j^{2t}$ given horizon length $T$. It follows that:"
   ]
  },
  {
   "cell_type": "markdown",
   "id": "29f8f89e-533b-40e4-9b11-de4c0be751e0",
   "metadata": {},
   "source": [
    "$$V_{0,T+1}^O = -1 - \\frac{c\\delta (\\Sigma_j+\\delta^T\\lambda_j^{2T}) \\lambda_j^2}{c + \\delta (\\Sigma_j+\\delta^T\\lambda_j^{2T})}$$"
   ]
  },
  {
   "cell_type": "markdown",
   "id": "ef337489-3503-4718-966e-ca5db71142b7",
   "metadata": {},
   "source": [
    "Thus, $V_{0,T+1}^O - V_{0,T}^O$ is:"
   ]
  },
  {
   "cell_type": "code",
   "execution_count": 6,
   "id": "6c0c20c0-d428-4360-b8a2-21fb2ecde20f",
   "metadata": {
    "tags": []
   },
   "outputs": [
    {
     "data": {
      "text/latex": [
       "$\\displaystyle - \\frac{c^{2} \\delta \\delta^{T} \\lambda_{j}^{2} \\lambda_{j}^{2 T}}{\\Sigma_{j}^{2} \\delta^{2} + 2 \\Sigma_{j} c \\delta + \\Sigma_{j} \\delta^{2} \\delta^{T} \\lambda_{j}^{2 T} + c^{2} + c \\delta \\delta^{T} \\lambda_{j}^{2 T}}$"
      ],
      "text/plain": [
       "-c**2*delta*delta**T*lambda_j**2*lambda_j**(2*T)/(Sigma_j**2*delta**2 + 2*Sigma_j*c*delta + Sigma_j*delta**2*delta**T*lambda_j**(2*T) + c**2 + c*delta*delta**T*lambda_j**(2*T))"
      ]
     },
     "execution_count": 6,
     "metadata": {},
     "output_type": "execute_result"
    }
   ],
   "source": [
    "one_shot_old = -1 -c * delta * lambda_**2 * d / (c + delta * d)\n",
    "one_shot_new = - 1 - c * delta * lambda_**2 * (d + delta**T * lambda_**(2*T)) / (c + delta * (d + delta**T * lambda_**(2*T)))\n",
    "one_shot_difference = expand(simplify(one_shot_new - one_shot_old))\n",
    "one_shot_difference"
   ]
  },
  {
   "cell_type": "markdown",
   "id": "d51f8776-4e8c-43f3-b3e0-8662c113148f",
   "metadata": {},
   "source": [
    "Now, if we take $V_{0,T+1}^M - V_{0,T}^M$ and subtract $V_{0,T+1}^O - V_{0,T}^O$, we get:"
   ]
  },
  {
   "cell_type": "code",
   "execution_count": 7,
   "id": "d280892c-79f0-4f60-865b-b10b9d10b4bb",
   "metadata": {},
   "outputs": [
    {
     "data": {
      "text/latex": [
       "$\\displaystyle \\frac{\\delta^{T + 1} \\lambda_{j}^{2 T + 2} \\left(c^{2} - c^{2 T + 1} \\left(c + \\delta\\right)^{- 2 T - 1} \\left(\\Sigma_{j}^{2} \\delta^{2} + 2 \\Sigma_{j} c \\delta + \\Sigma_{j} \\delta^{T + 2} \\lambda_{j}^{2 T} + c^{2} + c \\delta^{T + 1} \\lambda_{j}^{2 T}\\right)\\right)}{\\Sigma_{j}^{2} \\delta^{2} + 2 \\Sigma_{j} c \\delta + \\Sigma_{j} \\delta^{T + 2} \\lambda_{j}^{2 T} + c^{2} + c \\delta^{T + 1} \\lambda_{j}^{2 T}}$"
      ],
      "text/plain": [
       "delta**(T + 1)*lambda_j**(2*T + 2)*(c**2 - c**(2*T + 1)*(c + delta)**(-2*T - 1)*(Sigma_j**2*delta**2 + 2*Sigma_j*c*delta + Sigma_j*delta**(T + 2)*lambda_j**(2*T) + c**2 + c*delta**(T + 1)*lambda_j**(2*T)))/(Sigma_j**2*delta**2 + 2*Sigma_j*c*delta + Sigma_j*delta**(T + 2)*lambda_j**(2*T) + c**2 + c*delta**(T + 1)*lambda_j**(2*T))"
      ]
     },
     "execution_count": 7,
     "metadata": {},
     "output_type": "execute_result"
    }
   ],
   "source": [
    "myopic_difference = -lambda_**(2*(T+1)) * c**(2*T + 1) * delta**(T+1) / ((delta+c)**(2*T + 1))\n",
    "simplify(myopic_difference - one_shot_difference)"
   ]
  },
  {
   "cell_type": "markdown",
   "id": "4b224a4b-bb98-4ee6-9204-83b3469fc4fc",
   "metadata": {},
   "source": [
    "The denominator is positive, so we consider the numerator:"
   ]
  },
  {
   "cell_type": "code",
   "execution_count": 8,
   "id": "370c3179-a918-4092-ab59-609f33fe64ad",
   "metadata": {
    "tags": []
   },
   "outputs": [
    {
     "data": {
      "text/latex": [
       "$\\displaystyle \\delta^{T + 1} \\lambda_{j}^{2 T + 2} \\left(c^{2} - c^{2 T + 1} \\left(c + \\delta\\right)^{- 2 T - 1} \\left(\\Sigma_{j}^{2} \\delta^{2} + 2 \\Sigma_{j} c \\delta + \\Sigma_{j} \\delta^{T + 2} \\lambda_{j}^{2 T} + c^{2} + c \\delta^{T + 1} \\lambda_{j}^{2 T}\\right)\\right)$"
      ],
      "text/plain": [
       "delta**(T + 1)*lambda_j**(2*T + 2)*(c**2 - c**(2*T + 1)*(c + delta)**(-2*T - 1)*(Sigma_j**2*delta**2 + 2*Sigma_j*c*delta + Sigma_j*delta**(T + 2)*lambda_j**(2*T) + c**2 + c*delta**(T + 1)*lambda_j**(2*T)))"
      ]
     },
     "execution_count": 8,
     "metadata": {},
     "output_type": "execute_result"
    }
   ],
   "source": [
    "numer = fraction(simplify(myopic_difference - one_shot_difference))[0]\n",
    "numer"
   ]
  },
  {
   "cell_type": "markdown",
   "id": "6c5c6b21-0806-45a5-a531-b2e1bebd8cab",
   "metadata": {},
   "source": [
    "In the event that $\\delta$ or $\\lambda_j$ is zero, the payoff differences evaluate to zero and there is no difference between them (this also occurs in the infinite-horizon solution) so we ignore these cases. As a result, since we are considering positive cases, we can remove these two variables from the front of the numerator and, after simplification, we are left with:"
   ]
  },
  {
   "cell_type": "code",
   "execution_count": 9,
   "id": "423dce12-2272-42bb-a3fd-9464966b3903",
   "metadata": {
    "tags": []
   },
   "outputs": [
    {
     "data": {
      "text/latex": [
       "$\\displaystyle c^{2} - \\left(\\frac{c}{c + \\delta}\\right)^{2 T + 1} \\left(\\Sigma_{j} \\delta + c\\right) \\left(\\Sigma_{j} \\delta + c + \\delta^{T + 1} \\lambda_{j}^{2 T}\\right)$"
      ],
      "text/plain": [
       "c**2 - (c/(c + delta))**(2*T + 1)*(Sigma_j*delta + c)*(Sigma_j*delta + c + delta**(T + 1)*lambda_j**(2*T))"
      ]
     },
     "execution_count": 9,
     "metadata": {},
     "output_type": "execute_result"
    }
   ],
   "source": [
    "numer_simplify = simplify(c**2 - (c/(c+delta))**(2*T + 1) * ((d*delta + c)**2 + lambda_**(2*T) * delta**(T+1) * (c + delta*d)))\n",
    "numer_simplify"
   ]
  },
  {
   "cell_type": "markdown",
   "id": "6bc67155-8bd2-4496-91f4-b0e0a072c921",
   "metadata": {},
   "source": [
    "Factoring out $c^2$, we get:"
   ]
  },
  {
   "cell_type": "markdown",
   "id": "30f71557-329c-4c4f-beb2-1dcd8d9a82a4",
   "metadata": {},
   "source": [
    "$$c^2 (1 - \\frac{c^{2T-1}}{(c+\\delta)^{2T+1}} (c+\\delta\\Sigma_j)(c + \\delta\\Sigma_j + \\delta^{T+1}\\lambda_j^{2T}))$$"
   ]
  },
  {
   "cell_type": "markdown",
   "id": "ccccc1dd-438f-4a8c-aebf-9240acb338a1",
   "metadata": {},
   "source": [
    "We assume $c$ is positive for the same comparison reasons as before (again, this occurs in the infinite-horizon case as well). Then we can remove $c^2$ and focus on the remaining component:"
   ]
  },
  {
   "cell_type": "markdown",
   "id": "08eeb09c-e2a4-42a9-a7cf-d28510500aca",
   "metadata": {},
   "source": [
    "$$1 - \\frac{c^{2T-1}}{(c+\\delta)^{2T+1}} (c+\\delta\\Sigma_j)(c + \\delta\\Sigma_j + \\delta^{T+1}\\lambda_j^{2T})$$"
   ]
  },
  {
   "cell_type": "markdown",
   "id": "63aa5435-55b1-42ee-9b40-197ea3832f2a",
   "metadata": {},
   "source": [
    "which is positive if and only if we have the following:"
   ]
  },
  {
   "cell_type": "markdown",
   "id": "0f8f9017-f2b9-416a-8960-9f61f1d5646b",
   "metadata": {},
   "source": [
    "$$1 > \\frac{c^{2T-1}}{(c+\\delta)^{2T+1}} (c+\\delta\\Sigma_j)(c + \\delta\\Sigma_j + \\delta^{T+1}\\lambda_j^{2T})$$"
   ]
  },
  {
   "cell_type": "markdown",
   "id": "ac9aa116-e182-4a85-91a3-4b22f98e647d",
   "metadata": {},
   "source": [
    "This would follow from the following statement, if true:"
   ]
  },
  {
   "cell_type": "markdown",
   "id": "bca14140-3638-409c-b42b-d7169cef622a",
   "metadata": {
    "tags": []
   },
   "source": [
    "$$c^{2T-1}(c+\\delta\\Sigma_j)(c + \\delta\\Sigma_j + \\delta^{T+1}\\lambda_j^{2T}) < (c+\\delta)^{2T+1}$$"
   ]
  },
  {
   "cell_type": "markdown",
   "id": "7bfa3f3f-940a-4dbf-84e1-83ccc4afedbc",
   "metadata": {
    "tags": []
   },
   "source": [
    "To show this, notice that $\\Sigma_j = \\sum\\limits_0^{T-1}\\delta^t \\lambda_j^{2t} \\leq \\sum\\limits_0^{T-1} 1 = T$, and that $\\delta\\Sigma_j + \\delta^{T+1}\\lambda_j^{2T} = \\delta(\\Sigma_j + \\delta^T\\lambda_j^{2T}) = \\delta(\\sum\\limits_0^T \\delta^t \\lambda_j^{2t}) \\leq \\delta(\\sum\\limits_0^T 1) = \\delta(T+1)$."
   ]
  },
  {
   "cell_type": "markdown",
   "id": "4b98e9b2-d3d5-437f-be25-0692bef858c9",
   "metadata": {},
   "source": [
    "It follows that:"
   ]
  },
  {
   "cell_type": "markdown",
   "id": "4a6af3c7-6970-4fe9-b2e6-abd6a6dbf199",
   "metadata": {},
   "source": [
    "$$c^{2T-1}(c+\\delta\\Sigma_j)(c + \\delta\\Sigma_j + \\delta^{T+1}\\lambda_j^{2T}) \\leq c^{2T-1}(c+\\delta T)(c + \\delta(T+1))$$"
   ]
  },
  {
   "cell_type": "markdown",
   "id": "d3b19e5e-884a-4767-943a-1c2f806206a9",
   "metadata": {},
   "source": [
    "We can expand $c^{2T-1}(c+\\delta T)(c + \\delta(T+1))$ as follows:\n",
    "\n",
    "$$= c^{2T-1}(c^2 + c\\delta T + c\\delta (T+1) + \\delta^2 T (T+1)$$\n",
    "\n",
    "$$= c^{2T+1} + c^{2T}\\delta T + c^{2T}\\delta (T+1) + c^{2T-1}\\delta^2 T (T+1)$$\n",
    "\n",
    "$$= c^{2T+1} + c^{2T}\\delta (2T+1) + c^{2T-1}\\delta^2 T (T+1)$$"
   ]
  },
  {
   "cell_type": "markdown",
   "id": "92b94ddf-bf03-4c4f-8a98-6447519590fd",
   "metadata": {},
   "source": [
    "Now, if we expand $(c+\\delta)^{2T+1}$, by the binomial theorem we get the following:"
   ]
  },
  {
   "cell_type": "markdown",
   "id": "859c52d6-a36d-403d-8732-0aa0b84df1b2",
   "metadata": {
    "tags": []
   },
   "source": [
    "$$(c+\\delta)^{2T+1} = {2T+1 \\choose 0} c^{2T+1}\\delta^0  + {2T+1 \\choose 1} c^{2T}\\delta^1 + {2T+1 \\choose 2} c^{2T-1}\\delta^2 + \\dots + {2T+1 \\choose 2T+1} c^0 \\delta^{2T+1}$$"
   ]
  },
  {
   "cell_type": "markdown",
   "id": "e306f096-9d4e-4923-9cf6-bb0baa1df409",
   "metadata": {
    "tags": []
   },
   "source": [
    "$$= c^{2T+1} + (2T+1) c^{2T}\\delta + \\frac{(2T+1)(2T)}{2} c^{2T-1}\\delta^2 + \\dots + \\delta^{2T+1}$$\n",
    "\n",
    "$$= c^{2T+1} + (2T+1) c^{2T}\\delta + T(T+1) c^{2T-1}\\delta^2 + \\dots + \\delta^{2T+1}$$"
   ]
  },
  {
   "cell_type": "markdown",
   "id": "2e1f909a-e853-40c6-b314-0af11c4e5c80",
   "metadata": {},
   "source": [
    "If we then compute $(c+\\delta)^{2T+1} - c^{2T-1}(c+\\delta T)(c + \\delta(T+1))$, we get:"
   ]
  },
  {
   "cell_type": "markdown",
   "id": "5dc095b5-00de-4e92-82cf-0ba61c6e2811",
   "metadata": {},
   "source": [
    "$$c^{2T+1} + (2T+1) c^{2T}\\delta + T(T+1) c^{2T-1}\\delta^2 + {2T+1 \\choose 3}c^{2T-2}\\delta^3 + \\dots + \\delta^{2T+1} - c^{2T+1} - c^{2T}\\delta (2T+1) - c^{2T-1}\\delta^2 T (T+1)$$"
   ]
  },
  {
   "cell_type": "markdown",
   "id": "0b19be8f-06ad-4a26-8add-76b8d0c42b7c",
   "metadata": {},
   "source": [
    "$$= {2T+1 \\choose 3}c^{2T-2}\\delta^3 + \\dots + \\delta^{2T+1} > 0$$"
   ]
  },
  {
   "cell_type": "markdown",
   "id": "f840aa8b-3fa0-4825-b382-af6997dbf998",
   "metadata": {},
   "source": [
    "Thus, \n",
    "\n",
    "$$c^{2T-1}(c+\\delta\\Sigma_j)(c + \\delta\\Sigma_j + \\delta^{T+1}\\lambda_j^{2T}) \\leq c^{2T-1}(c+\\delta T)(c + \\delta(T+1)) < (c+\\delta)^{2T+1}$$\n",
    "\n",
    "This implies\n",
    "\n",
    "$$1 > \\frac{c^{2T-1}}{(c+\\delta)^{2T+1}} (c+\\delta\\Sigma_j)(c + \\delta\\Sigma_j + \\delta^{T+1}\\lambda_j^{2T})$$\n",
    "\n",
    "and so $1 - \\frac{c^{2T-1}}{(c+\\delta)^{2T+1}} (c+\\delta\\Sigma_j)(c + \\delta\\Sigma_j + \\delta^{T+1}\\lambda_j^{2T})$ is positive. "
   ]
  },
  {
   "cell_type": "markdown",
   "id": "3977aa4a-7f1e-4369-8d3d-cf08f48d4e23",
   "metadata": {},
   "source": [
    "This then implies that $(V_{0,T+1}^M - V_{0,T}^M) - (V_{0,T+1}^O - V_{0,T}^O) > 0$. Since by the induction hypothesis we know that $V_{0,T}^M > V_{0,T}^O$, we have that:\n",
    "\n",
    "$$V_{0,T}^M + V_{0,T+1}^M - V_{0,T}^M = V_{0,T+1}^M > V_{0,T+1}^O + V_{0,T}^M - V_{0,T}^O$$\n",
    "\n",
    "Thus, since $V_{0,T}^M > V_{0,T}^O$ implies $V_{0,T}^M - V_{0,T}^O > 0$, we get:\n",
    "\n",
    "$$V_{0,T+1}^M > V_{0,T+1}^O + V_{0,T}^M - V_{0,T}^O > V_{0,T+1}^O$$\n",
    "\n",
    "and conclude with $V_{0,T+1}^M > V_{0,T+1}^O$, as was to be shown.\n",
    "\n",
    "Thus, by induction, we have that the myopic payoff strictly exceeds the one-shot payoff for all $T \\geq 2$ given nonzero $c, \\delta, \\lambda_j$ (otherwise the myopic payoff only weakly exceeds the one-shot payoff)."
   ]
  }
 ],
 "metadata": {
  "kernelspec": {
   "display_name": "Python 3",
   "language": "python",
   "name": "python3"
  },
  "language_info": {
   "codemirror_mode": {
    "name": "ipython",
    "version": 3
   },
   "file_extension": ".py",
   "mimetype": "text/x-python",
   "name": "python",
   "nbconvert_exporter": "python",
   "pygments_lexer": "ipython3",
   "version": "3.8.8"
  },
  "widgets": {
   "application/vnd.jupyter.widget-state+json": {
    "state": {},
    "version_major": 2,
    "version_minor": 0
   }
  }
 },
 "nbformat": 4,
 "nbformat_minor": 5
}
