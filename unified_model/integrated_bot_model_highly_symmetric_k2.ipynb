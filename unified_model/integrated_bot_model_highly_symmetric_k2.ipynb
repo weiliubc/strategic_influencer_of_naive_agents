{
 "cells": [
  {
   "cell_type": "markdown",
   "id": "2dc596bd-b630-4dbf-a643-860b9f118c5a",
   "metadata": {},
   "source": [
    "# Unified Model with Integrated Bot (Highly Symmetric Case): $K_2$\n",
    "\n",
    "James Yu, 22 August 2022"
   ]
  },
  {
   "cell_type": "code",
   "execution_count": 1,
   "id": "5deb7be5-5bd5-4cda-9926-3be72f5cacb8",
   "metadata": {},
   "outputs": [],
   "source": [
    "import matplotlib.pyplot as plt\n",
    "import numpy as np\n",
    "from numpy.linalg import inv\n",
    "from sympy import *\n",
    "np.set_printoptions(suppress=True) # disable scientific notation for readability"
   ]
  },
  {
   "cell_type": "code",
   "execution_count": 2,
   "id": "9bdfd5bd-bbfb-43fe-b85e-677becc34e30",
   "metadata": {},
   "outputs": [],
   "source": [
    "def infinite_solution(A_n, A_c, delta, c, x_0, z):\n",
    "    n = len(x_0)\n",
    "    eps = np.finfo(np.float64).eps\n",
    "    I = np.identity(n)\n",
    "    O = np.zeros((n, n))\n",
    "    \n",
    "    Q = np.block([\n",
    "        [I, O], \n",
    "        [O, O]\n",
    "    ])\n",
    "    A = np.block([\n",
    "        [A_n, A_c], \n",
    "        [O, I]\n",
    "    ])\n",
    "    B = np.block([\n",
    "        [I],\n",
    "        [O]\n",
    "    ])\n",
    "    K_t = Q\n",
    "    K_sequence = [K_t]\n",
    "    \n",
    "    while True: # generate solution matrices; note I divide delta into the inverse term for simplification\n",
    "        K_t_new = Q + delta * A.T @ (K_t - K_t @ B @ inv(B.T @ K_t @ B + c * I / delta) @ B.T @ K_t) @ A\n",
    "        K_sequence.insert(0, K_t_new)\n",
    "        if np.allclose(K_t, K_t_new, rtol = eps, atol = eps): break\n",
    "        K_t = K_t_new\n",
    "\n",
    "    chi_var = np.block([\n",
    "        [x_0], \n",
    "        [z]\n",
    "    ])\n",
    "    chi_ts = [chi_var]\n",
    "    r_ts = []\n",
    "    K_ss = K_sequence[0]\n",
    "    L_ss = -inv(B.T @ K_ss @ B + c * I / delta) @ B.T @ K_ss @ A\n",
    "    \n",
    "    payoff = 0\n",
    "    stage_payoffs = []\n",
    "    discounted_stage_payoffs = []\n",
    "    cumulative_payoffs = []\n",
    "    \n",
    "    i = 0\n",
    "    while True:\n",
    "        r_t = L_ss @ chi_var\n",
    "        r_ts.append(r_t)\n",
    "        p = -(chi_var.T @ Q @ chi_var + c * r_t.T @ r_t).item()\n",
    "        payoff += delta**i * p\n",
    "        stage_payoffs.append(p)\n",
    "        discounted_stage_payoffs.append(delta**i * p)\n",
    "        cumulative_payoffs.append(payoff)\n",
    "        chi_var_new = A @ chi_var + B @ r_t\n",
    "        chi_ts.append(chi_var_new)\n",
    "        if np.allclose(chi_var, chi_var_new, rtol = eps, atol = eps): break\n",
    "        chi_var = chi_var_new\n",
    "        i += 1\n",
    "        \n",
    "    return chi_ts, K_ss #, r_ts, stage_payoffs, discounted_stage_payoffs, cumulative_payoffs, K_ss, L_ss"
   ]
  },
  {
   "cell_type": "markdown",
   "id": "9d7a50f7-be40-4196-ad3e-5786714f9d82",
   "metadata": {},
   "source": [
    "# Prelim expressions"
   ]
  },
  {
   "cell_type": "code",
   "execution_count": 3,
   "id": "1ecbec93-53fe-4fed-be44-22f7363fcd9f",
   "metadata": {},
   "outputs": [
    {
     "data": {
      "text/latex": [
       "$\\displaystyle \\frac{\\delta \\left(d k_{1} x - d k_{1} z - k_{1} x - k_{2} z\\right)}{c + \\delta k_{1}}$"
      ],
      "text/plain": [
       "delta*(d*k_1*x - d*k_1*z - k_1*x - k_2*z)/(c + delta*k_1)"
      ]
     },
     "execution_count": 3,
     "metadata": {},
     "output_type": "execute_result"
    }
   ],
   "source": [
    "x, d, z, r, delta, c, k1, k2, k3 = symbols(\"x d z r delta c k_1 k_2 k_3\")\n",
    "xprime = (1 - d) * x + d * z + r # the next period function\n",
    "v_x = -(x**2) - (c * r**2) - (delta * k1 * xprime**2) - (2 * delta * k2 * xprime * z) - (delta * k3)\n",
    "r_star = solve(diff(v_x, r), r)[0]\n",
    "simplify(expand(r_star)) # r_star"
   ]
  },
  {
   "cell_type": "code",
   "execution_count": 4,
   "id": "fa34ee08-a2de-46a3-ba59-4839f78e0358",
   "metadata": {
    "tags": []
   },
   "outputs": [
    {
     "data": {
      "text/latex": [
       "$\\displaystyle \\frac{c \\delta \\left(1 - d\\right)^{2} - c + \\delta + \\sqrt{4 c \\delta + \\left(c \\delta \\left(1 - d\\right)^{2} - c + \\delta\\right)^{2}}}{2 \\delta}$"
      ],
      "text/plain": [
       "(c*delta*(1 - d)**2 - c + delta + sqrt(4*c*delta + (c*delta*(1 - d)**2 - c + delta)**2))/(2*delta)"
      ]
     },
     "execution_count": 4,
     "metadata": {},
     "output_type": "execute_result"
    }
   ],
   "source": [
    "g = symbols(\"g\")\n",
    "solve(-delta*k1**2 + k1*g + c, k1)[1].subs(g, delta-c+c*delta*(1-d)**2) # k1"
   ]
  },
  {
   "cell_type": "code",
   "execution_count": 5,
   "id": "ae914cb9-b707-40e9-b835-6a3a2d8d7f43",
   "metadata": {
    "tags": []
   },
   "outputs": [
    {
     "data": {
      "text/latex": [
       "$\\displaystyle \\frac{c d \\delta k_{1} \\left(1 - d\\right)}{c d \\delta - c \\delta + c + \\delta k_{1}}$"
      ],
      "text/plain": [
       "c*d*delta*k_1*(1 - d)/(c*d*delta - c*delta + c + delta*k_1)"
      ]
     },
     "execution_count": 5,
     "metadata": {},
     "output_type": "execute_result"
    }
   ],
   "source": [
    "solve(simplify((c*delta*(1-d)*(d*k1+k2))/(c+delta*k1) - k2), k2)[0] # k2"
   ]
  },
  {
   "cell_type": "markdown",
   "id": "de3e66d5-60f0-47fb-ac65-409af0460329",
   "metadata": {},
   "source": [
    "# Validate the $k_2$ expression numerically (for three examples)"
   ]
  },
  {
   "cell_type": "markdown",
   "id": "3fe6a8eb-3591-47ba-ac99-0014e8500e8c",
   "metadata": {},
   "source": [
    "### 1"
   ]
  },
  {
   "cell_type": "code",
   "execution_count": 6,
   "id": "7902a4f1-f644-4d6e-9d8f-e0958d803e9d",
   "metadata": {},
   "outputs": [
    {
     "data": {
      "text/latex": [
       "$\\displaystyle 1.12582204832258$"
      ],
      "text/plain": [
       "1.12582204832258"
      ]
     },
     "execution_count": 6,
     "metadata": {},
     "output_type": "execute_result"
    }
   ],
   "source": [
    "K1 = solve(-delta*k1**2 + k1*g + c, k1)[1].subs(g, delta-c+c*delta*(1-d)**2).subs(delta, 0.9).subs(d, 0.5).subs(c, 1)\n",
    "K1 # k1, but using different name to avoid collision"
   ]
  },
  {
   "cell_type": "code",
   "execution_count": 7,
   "id": "bf1c24b6-8296-4c15-839e-d4afe91b3c6e",
   "metadata": {},
   "outputs": [
    {
     "data": {
      "text/latex": [
       "$\\displaystyle 0.162041648264928$"
      ],
      "text/plain": [
       "0.162041648264928"
      ]
     },
     "execution_count": 7,
     "metadata": {},
     "output_type": "execute_result"
    }
   ],
   "source": [
    "K2 = solve(simplify((c*delta*(1-d)*(d*k1+k2))/(c+delta*k1) - k2), k2)[0].subs(k1, K1).subs(delta, 0.9).subs(d, 0.5).subs(c, 1)\n",
    "K2 # same here"
   ]
  },
  {
   "cell_type": "code",
   "execution_count": 8,
   "id": "7a59095e-5715-4690-a5d3-3986b9c1c7fc",
   "metadata": {},
   "outputs": [
    {
     "data": {
      "text/plain": [
       "array([1.12582205, 1.12582205, 1.12582205])"
      ]
     },
     "execution_count": 8,
     "metadata": {},
     "output_type": "execute_result"
    }
   ],
   "source": [
    "A_6_n = 0.5 * np.array([\n",
    "    [0.4, 0.3, 0.3],\n",
    "    [0.3, 0.4, 0.3],\n",
    "    [0.3, 0.3, 0.4]\n",
    "])\n",
    "A_6_c = np.diag([0.5, 0.5, 0.5])\n",
    "x_0 = np.array([[10.0, 5.0, -20.0]], ndmin = 2).T\n",
    "_, K_test = infinite_solution(A_6_n, A_6_c, 0.9, 1, x_0, np.array([[5.0, 5.0, 5.0]], ndmin = 2).T)\n",
    "sum(K_test[0:3, 0:3]) # k1"
   ]
  },
  {
   "cell_type": "code",
   "execution_count": 9,
   "id": "0a5de951-1446-401e-abcc-4d2fac7bd2d5",
   "metadata": {},
   "outputs": [
    {
     "data": {
      "text/plain": [
       "array([0.16204165, 0.16204165, 0.16204165])"
      ]
     },
     "execution_count": 9,
     "metadata": {},
     "output_type": "execute_result"
    }
   ],
   "source": [
    "sum(K_test[0:3, 3:6]) # k2"
   ]
  },
  {
   "cell_type": "markdown",
   "id": "2833a4a5-01dd-44dc-8e7c-f4cc15f85726",
   "metadata": {},
   "source": [
    "### 2"
   ]
  },
  {
   "cell_type": "code",
   "execution_count": 10,
   "id": "7d8e957d-00a7-48d2-910a-704d4142b76f",
   "metadata": {},
   "outputs": [
    {
     "data": {
      "text/latex": [
       "$\\displaystyle 1.06033304260491$"
      ],
      "text/plain": [
       "1.06033304260491"
      ]
     },
     "execution_count": 10,
     "metadata": {},
     "output_type": "execute_result"
    }
   ],
   "source": [
    "K1_2 = solve(-delta*k1**2 + k1*g + c, k1)[1].subs(g, delta-c+c*delta*(1-d)**2).subs(delta, 0.3).subs(d, 0.5).subs(c, 1)\n",
    "K1_2"
   ]
  },
  {
   "cell_type": "code",
   "execution_count": 11,
   "id": "6952771c-7c38-46af-93bc-fe6b3efceb24",
   "metadata": {},
   "outputs": [
    {
     "data": {
      "text/latex": [
       "$\\displaystyle 0.0680806301971238$"
      ],
      "text/plain": [
       "0.0680806301971238"
      ]
     },
     "execution_count": 11,
     "metadata": {},
     "output_type": "execute_result"
    }
   ],
   "source": [
    "solve(simplify((c*delta*(1-d)*(d*k1+k2))/(c+delta*k1) - k2), k2)[0].subs(k1, K1_2).subs(delta, 0.3).subs(d, 0.5).subs(c, 1)"
   ]
  },
  {
   "cell_type": "code",
   "execution_count": 12,
   "id": "de2c3440-c242-4c41-af7d-f82c8bde08a4",
   "metadata": {},
   "outputs": [
    {
     "data": {
      "text/plain": [
       "array([1.06033304, 1.06033304, 1.06033304])"
      ]
     },
     "execution_count": 12,
     "metadata": {},
     "output_type": "execute_result"
    }
   ],
   "source": [
    "_, K_test_2 = infinite_solution(A_6_n, A_6_c, 0.3, 1, x_0, np.array([[5.0, 5.0, 5.0]], ndmin = 2).T)\n",
    "sum(K_test_2[0:3, 0:3]) # k1"
   ]
  },
  {
   "cell_type": "code",
   "execution_count": 13,
   "id": "58fac7c9-1bce-4614-9fc9-86618affef02",
   "metadata": {},
   "outputs": [
    {
     "data": {
      "text/plain": [
       "array([0.06808063, 0.06808063, 0.06808063])"
      ]
     },
     "execution_count": 13,
     "metadata": {},
     "output_type": "execute_result"
    }
   ],
   "source": [
    "sum(K_test_2[0:3, 3:6]) # k2"
   ]
  },
  {
   "cell_type": "markdown",
   "id": "87e9f476-5051-441a-815b-289ef924b2a2",
   "metadata": {},
   "source": [
    "### 3"
   ]
  },
  {
   "cell_type": "code",
   "execution_count": 14,
   "id": "62d2d9cf-d28a-4d40-99ed-0679dfc3eebc",
   "metadata": {},
   "outputs": [],
   "source": [
    "A_7_n = 0.2 * np.array([\n",
    "    [0.4, 0.3, 0.3],\n",
    "    [0.3, 0.4, 0.3],\n",
    "    [0.3, 0.3, 0.4]\n",
    "])\n",
    "A_7_c = np.diag([0.8, 0.8, 0.8])"
   ]
  },
  {
   "cell_type": "code",
   "execution_count": 15,
   "id": "c2fae85f-557d-4486-b742-79ac3beccd5e",
   "metadata": {},
   "outputs": [
    {
     "data": {
      "text/latex": [
       "$\\displaystyle 1.006017999838$"
      ],
      "text/plain": [
       "1.00601799983800"
      ]
     },
     "execution_count": 15,
     "metadata": {},
     "output_type": "execute_result"
    }
   ],
   "source": [
    "K1_3 = solve(-delta*k1**2 + k1*g + c, k1)[1].subs(g, delta-c+c*delta*(1-d)**2).subs(delta, 0.3).subs(d, 0.8).subs(c, 0.3)\n",
    "K1_3"
   ]
  },
  {
   "cell_type": "code",
   "execution_count": 16,
   "id": "d2a2fe85-87e2-41c2-8f42-00a77f4f930c",
   "metadata": {},
   "outputs": [
    {
     "data": {
      "text/latex": [
       "$\\displaystyle 0.0248141918503549$"
      ],
      "text/plain": [
       "0.0248141918503549"
      ]
     },
     "execution_count": 16,
     "metadata": {},
     "output_type": "execute_result"
    }
   ],
   "source": [
    "solve(simplify((c*delta*(1-d)*(d*k1+k2))/(c+delta*k1) - k2), k2)[0].subs(k1, K1_3).subs(delta, 0.3).subs(d, 0.8).subs(c, 0.3)"
   ]
  },
  {
   "cell_type": "code",
   "execution_count": 17,
   "id": "2d19cf48-874c-42d3-831d-5fd456f7f5cb",
   "metadata": {},
   "outputs": [
    {
     "data": {
      "text/plain": [
       "array([1.006018, 1.006018, 1.006018])"
      ]
     },
     "execution_count": 17,
     "metadata": {},
     "output_type": "execute_result"
    }
   ],
   "source": [
    "_, K_test_3 = infinite_solution(A_7_n, A_7_c, 0.3, 0.3, x_0, np.array([[5.0, 5.0, 5.0]], ndmin = 2).T)\n",
    "sum(K_test_3[0:3, 0:3]) # k1"
   ]
  },
  {
   "cell_type": "code",
   "execution_count": 18,
   "id": "380c7487-b3fc-444c-82ef-e6610318eb17",
   "metadata": {},
   "outputs": [
    {
     "data": {
      "text/plain": [
       "array([0.02481419, 0.02481419, 0.02481419])"
      ]
     },
     "execution_count": 18,
     "metadata": {},
     "output_type": "execute_result"
    }
   ],
   "source": [
    "sum(K_test_3[0:3, 3:6]) # k2"
   ]
  },
  {
   "cell_type": "markdown",
   "id": "5bf935d8-ee8a-406b-8a1d-f5dcc111968b",
   "metadata": {},
   "source": [
    "# $k_1/c$ in $c$"
   ]
  },
  {
   "cell_type": "code",
   "execution_count": 19,
   "id": "b4641d66-80a5-4ec6-9c66-6a7e0b44780d",
   "metadata": {
    "tags": []
   },
   "outputs": [
    {
     "data": {
      "text/latex": [
       "$\\displaystyle \\frac{c \\delta \\left(1 - d\\right)^{2} - c + \\delta + \\sqrt{4 c \\delta + \\left(c \\delta \\left(1 - d\\right)^{2} - c + \\delta\\right)^{2}}}{2 \\delta}$"
      ],
      "text/plain": [
       "(c*delta*(1 - d)**2 - c + delta + sqrt(4*c*delta + (c*delta*(1 - d)**2 - c + delta)**2))/(2*delta)"
      ]
     },
     "execution_count": 19,
     "metadata": {},
     "output_type": "execute_result"
    }
   ],
   "source": [
    "k1_solved = solve(-delta*k1**2 + k1*g + c, k1)[1].subs(g, delta-c+c*delta*(1-d)**2)\n",
    "k1_solved # from before"
   ]
  },
  {
   "cell_type": "code",
   "execution_count": 20,
   "id": "47198147-68d7-419c-9880-4a2967cbe321",
   "metadata": {
    "tags": []
   },
   "outputs": [
    {
     "data": {
      "text/latex": [
       "$\\displaystyle \\frac{d^{2}}{2} - d + \\frac{1}{2} - \\frac{1}{2 \\delta} + \\frac{1}{2 c} + \\frac{\\sqrt{c^{2} d^{4} \\delta^{2} - 4 c^{2} d^{3} \\delta^{2} + 6 c^{2} d^{2} \\delta^{2} - 2 c^{2} d^{2} \\delta - 4 c^{2} d \\delta^{2} + 4 c^{2} d \\delta + c^{2} \\delta^{2} - 2 c^{2} \\delta + c^{2} + 2 c d^{2} \\delta^{2} - 4 c d \\delta^{2} + 2 c \\delta^{2} + 2 c \\delta + \\delta^{2}}}{2 c \\delta}$"
      ],
      "text/plain": [
       "d**2/2 - d + 1/2 - 1/(2*delta) + 1/(2*c) + sqrt(c**2*d**4*delta**2 - 4*c**2*d**3*delta**2 + 6*c**2*d**2*delta**2 - 2*c**2*d**2*delta - 4*c**2*d*delta**2 + 4*c**2*d*delta + c**2*delta**2 - 2*c**2*delta + c**2 + 2*c*d**2*delta**2 - 4*c*d*delta**2 + 2*c*delta**2 + 2*c*delta + delta**2)/(2*c*delta)"
      ]
     },
     "execution_count": 20,
     "metadata": {},
     "output_type": "execute_result"
    }
   ],
   "source": [
    "expand(k1_solved/c)"
   ]
  },
  {
   "cell_type": "markdown",
   "id": "145b08c7-e65c-4ab5-aa2e-327a8da17e37",
   "metadata": {},
   "source": [
    "The $1/2c$ term decreases in $c$, so we examine the square root:"
   ]
  },
  {
   "cell_type": "code",
   "execution_count": 21,
   "id": "b5f0e3d2-83c7-44c2-a4d1-8a0b401eda16",
   "metadata": {
    "tags": []
   },
   "outputs": [
    {
     "data": {
      "text/latex": [
       "$\\displaystyle \\frac{\\sqrt{c^{2} d^{4} \\delta^{2} - 4 c^{2} d^{3} \\delta^{2} + 6 c^{2} d^{2} \\delta^{2} - 2 c^{2} d^{2} \\delta - 4 c^{2} d \\delta^{2} + 4 c^{2} d \\delta + c^{2} \\delta^{2} - 2 c^{2} \\delta + c^{2} + 2 c d^{2} \\delta^{2} - 4 c d \\delta^{2} + 2 c \\delta^{2} + 2 c \\delta + \\delta^{2}}}{2 c \\delta}$"
      ],
      "text/plain": [
       "sqrt(c**2*d**4*delta**2 - 4*c**2*d**3*delta**2 + 6*c**2*d**2*delta**2 - 2*c**2*d**2*delta - 4*c**2*d*delta**2 + 4*c**2*d*delta + c**2*delta**2 - 2*c**2*delta + c**2 + 2*c*d**2*delta**2 - 4*c*d*delta**2 + 2*c*delta**2 + 2*c*delta + delta**2)/(2*c*delta)"
      ]
     },
     "execution_count": 21,
     "metadata": {},
     "output_type": "execute_result"
    }
   ],
   "source": [
    "expand(sqrt(4*c*delta + (delta-c+c*delta*(1-d)**2)**2)/(2*c*delta))"
   ]
  },
  {
   "cell_type": "markdown",
   "id": "cc288e1c-0dee-46a1-98d7-3c54d9bd7006",
   "metadata": {},
   "source": [
    "which is just:"
   ]
  },
  {
   "cell_type": "code",
   "execution_count": 22,
   "id": "3b7f1ac6-5877-4b3a-804e-8284fa0d72f8",
   "metadata": {
    "tags": []
   },
   "outputs": [
    {
     "data": {
      "text/latex": [
       "$\\displaystyle \\frac{\\sqrt{4 c \\delta + \\left(c \\delta \\left(1 - d\\right)^{2} - c + \\delta\\right)^{2}}}{2 c \\delta}$"
      ],
      "text/plain": [
       "sqrt(4*c*delta + (c*delta*(1 - d)**2 - c + delta)**2)/(2*c*delta)"
      ]
     },
     "execution_count": 22,
     "metadata": {},
     "output_type": "execute_result"
    }
   ],
   "source": [
    "sqrt(4*c*delta + (delta-c+c*delta*(1-d)**2)**2)/(2*c*delta)"
   ]
  },
  {
   "cell_type": "markdown",
   "id": "36ab6aa2-5279-460e-8084-acddef4d69de",
   "metadata": {},
   "source": [
    "which simplifies to the following since $2c\\delta > 0$:"
   ]
  },
  {
   "cell_type": "code",
   "execution_count": 23,
   "id": "eaf3f648-ca38-4a32-8a97-72ceffc577df",
   "metadata": {},
   "outputs": [
    {
     "data": {
      "text/latex": [
       "$\\displaystyle \\sqrt{\\left(\\frac{\\left(1 - d\\right)^{2}}{2} - \\frac{1}{2 \\delta} + \\frac{1}{2 c}\\right)^{2} + \\frac{1}{c \\delta}}$"
      ],
      "text/plain": [
       "sqrt(((1 - d)**2/2 - 1/(2*delta) + 1/(2*c))**2 + 1/(c*delta))"
      ]
     },
     "execution_count": 23,
     "metadata": {},
     "output_type": "execute_result"
    }
   ],
   "source": [
    "sqrt(1/(c*delta) + ((1-d)**2/2 - 1/(2*delta) + 1/(2*c))**2)"
   ]
  },
  {
   "cell_type": "markdown",
   "id": "410fd6bb-9c17-4f58-85f9-226c60156949",
   "metadata": {},
   "source": [
    "Expanding:"
   ]
  },
  {
   "cell_type": "code",
   "execution_count": 24,
   "id": "047d2cb9-b333-42ed-94a8-8500a20949c4",
   "metadata": {
    "tags": []
   },
   "outputs": [
    {
     "data": {
      "text/latex": [
       "$\\displaystyle \\sqrt{\\frac{d^{4}}{4} - d^{3} + \\frac{3 d^{2}}{2} - \\frac{d^{2}}{2 \\delta} - d + \\frac{d}{\\delta} + \\frac{1}{4} - \\frac{1}{2 \\delta} + \\frac{1}{4 \\delta^{2}} + \\frac{d^{2}}{2 c} - \\frac{d}{c} + \\frac{1}{2 c} + \\frac{1}{2 c \\delta} + \\frac{1}{4 c^{2}}}$"
      ],
      "text/plain": [
       "sqrt(d**4/4 - d**3 + 3*d**2/2 - d**2/(2*delta) - d + d/delta + 1/4 - 1/(2*delta) + 1/(4*delta**2) + d**2/(2*c) - d/c + 1/(2*c) + 1/(2*c*delta) + 1/(4*c**2))"
      ]
     },
     "execution_count": 24,
     "metadata": {},
     "output_type": "execute_result"
    }
   ],
   "source": [
    "expand(sqrt(1/(c*delta) + ((1-d)**2/2 - 1/(2*delta) + 1/(2*c))**2))"
   ]
  },
  {
   "cell_type": "markdown",
   "id": "c9d14a76-c75f-4fe9-ad9a-7b223131dc3c",
   "metadata": {},
   "source": [
    "The terms with $c$ are:"
   ]
  },
  {
   "cell_type": "code",
   "execution_count": 25,
   "id": "66ae80dc-34ad-48bb-8f9c-cadd616a540f",
   "metadata": {},
   "outputs": [
    {
     "data": {
      "text/latex": [
       "$\\displaystyle \\frac{d^{2}}{2 c} - \\frac{d}{c} + \\frac{1}{2 c} + \\frac{1}{2 c \\delta} + \\frac{1}{4 c^{2}}$"
      ],
      "text/plain": [
       "d**2/(2*c) - d/c + 1/(2*c) + 1/(2*c*delta) + 1/(4*c**2)"
      ]
     },
     "execution_count": 25,
     "metadata": {},
     "output_type": "execute_result"
    }
   ],
   "source": [
    "d**2/(2*c) - d/c + 1/(2*c) + 1/(2*c*delta) + 1/(4*c**2)"
   ]
  },
  {
   "cell_type": "markdown",
   "id": "e47bd9db-40f3-4fa8-b366-5a34f0a39d5c",
   "metadata": {},
   "source": [
    "and the first three combine together, which changes the expression to:"
   ]
  },
  {
   "cell_type": "code",
   "execution_count": 26,
   "id": "9c861367-c677-40d4-8d97-4ba52aaacab5",
   "metadata": {},
   "outputs": [
    {
     "data": {
      "text/latex": [
       "$\\displaystyle \\frac{\\left(1 - d\\right)^{2}}{2 c} + \\frac{1}{2 c \\delta} + \\frac{1}{4 c^{2}}$"
      ],
      "text/plain": [
       "(1 - d)**2/(2*c) + 1/(2*c*delta) + 1/(4*c**2)"
      ]
     },
     "execution_count": 26,
     "metadata": {},
     "output_type": "execute_result"
    }
   ],
   "source": [
    "(1-d)**2 / (2*c) + 1/(2*c*delta) + 1/(4*c**2)"
   ]
  },
  {
   "cell_type": "markdown",
   "id": "18270857-563d-44cd-8a5c-dc9992d4cab9",
   "metadata": {},
   "source": [
    "which is decreasing in $c$. Thus, $k_1/c$ is decreasing in $c$."
   ]
  },
  {
   "cell_type": "markdown",
   "id": "0cc46c25-b272-4df6-bd18-f393e8ae785f",
   "metadata": {},
   "source": [
    "We can do some checks:"
   ]
  },
  {
   "cell_type": "code",
   "execution_count": 27,
   "id": "2e0006d8-6472-45ac-8645-45437b423e2b",
   "metadata": {},
   "outputs": [
    {
     "data": {
      "image/png": "[encoded data removed]",
      "text/plain": [
       "<Figure size 432x288 with 1 Axes>"
      ]
     },
     "metadata": {
      "needs_background": "light"
     },
     "output_type": "display_data"
    }
   ],
   "source": [
    " # note the parameters listed here\n",
    "f = lambda x: float((k1_solved/c).subs(delta, 0.9).subs(d, 0.6).subs(c, x))\n",
    "plt.plot(np.linspace(0.1, 100, 100), [f(x) for x in np.linspace(0.1, 100, 100)])\n",
    "plt.title(\"k1/c vs c\")\n",
    "plt.xlabel(\"c\")\n",
    "plt.ylabel(\"k1/c\")\n",
    "plt.show()"
   ]
  },
  {
   "cell_type": "code",
   "execution_count": 28,
   "id": "62f21faf-50e1-4a75-bb80-1843f189f521",
   "metadata": {},
   "outputs": [
    {
     "data": {
      "image/png": "[encoded data removed]",
      "text/plain": [
       "<Figure size 432x288 with 1 Axes>"
      ]
     },
     "metadata": {
      "needs_background": "light"
     },
     "output_type": "display_data"
    }
   ],
   "source": [
    "f2 = lambda x: float((k1_solved/c).subs(delta, 0.3).subs(d, 0.6).subs(c, x))\n",
    "plt.plot(np.linspace(0.1, 100, 100), [f2(x) for x in np.linspace(0.1, 100, 100)])\n",
    "plt.title(\"k1/c vs c\")\n",
    "plt.xlabel(\"c\")\n",
    "plt.ylabel(\"k1/c\")\n",
    "plt.show()"
   ]
  },
  {
   "cell_type": "code",
   "execution_count": 29,
   "id": "49d5e374-2bdc-46db-b7b9-f1fdfb9278a2",
   "metadata": {},
   "outputs": [
    {
     "data": {
      "image/png": "[encoded data removed]",
      "text/plain": [
       "<Figure size 432x288 with 1 Axes>"
      ]
     },
     "metadata": {
      "needs_background": "light"
     },
     "output_type": "display_data"
    }
   ],
   "source": [
    "f3 = lambda x: float((k1_solved/c).subs(delta, 0.9).subs(d, 0.1).subs(c, x))\n",
    "plt.plot(np.linspace(0.1, 100, 100), [f3(x) for x in np.linspace(0.1, 100, 100)])\n",
    "plt.title(\"k1/c vs c\")\n",
    "plt.xlabel(\"c\")\n",
    "plt.ylabel(\"k1/c\")\n",
    "plt.show()"
   ]
  },
  {
   "cell_type": "markdown",
   "id": "95481704-b20b-45ce-8f97-c644d91a603a",
   "metadata": {},
   "source": [
    "# $k_2/c$ in $c$"
   ]
  },
  {
   "cell_type": "code",
   "execution_count": 30,
   "id": "56c790e1-51ca-4d8f-b2d1-7417082db101",
   "metadata": {},
   "outputs": [
    {
     "data": {
      "text/latex": [
       "$\\displaystyle \\frac{d \\delta k_{1} \\left(1 - d\\right)}{c d \\delta - c \\delta + c + \\delta k_{1}}$"
      ],
      "text/plain": [
       "d*delta*k_1*(1 - d)/(c*d*delta - c*delta + c + delta*k_1)"
      ]
     },
     "execution_count": 30,
     "metadata": {},
     "output_type": "execute_result"
    }
   ],
   "source": [
    "k2_solved = solve(simplify((c*delta*(1-d)*(d*k1+k2))/(c+delta*k1) - k2), k2)[0]\n",
    "k2_solved/c"
   ]
  },
  {
   "cell_type": "markdown",
   "id": "14dd8550-406e-4102-8e93-a7b2f2b55113",
   "metadata": {},
   "source": [
    "Multiply the numerator and denominator by $1/c$:"
   ]
  },
  {
   "cell_type": "code",
   "execution_count": 31,
   "id": "728ff461-025f-4646-8ea8-ce3f0f565925",
   "metadata": {},
   "outputs": [
    {
     "data": {
      "text/latex": [
       "$\\displaystyle \\frac{\\frac{\\delta k_1}{c} d \\left(1 - d\\right)}{\\frac{\\delta k_1}{c} + d \\delta - \\delta + 1}$"
      ],
      "text/plain": [
       "\\frac{\\delta k_1}{c}*d*(1 - d)/(\\frac{\\delta k_1}{c} + d*delta - delta + 1)"
      ]
     },
     "execution_count": 31,
     "metadata": {},
     "output_type": "execute_result"
    }
   ],
   "source": [
    "dk1c = Symbol(r\"\\frac{\\delta k_1}{c}\")\n",
    "(d * (1-d) * dk1c) / (d*delta - delta + 1 + dk1c)"
   ]
  },
  {
   "cell_type": "markdown",
   "id": "fffdd2ff-9870-4ac8-b076-aefc489c3bb3",
   "metadata": {},
   "source": [
    "Multiply the numerator and denominator by $c / \\delta k_1$:"
   ]
  },
  {
   "cell_type": "code",
   "execution_count": 32,
   "id": "a3aa1b3d-74b3-4684-8678-c37c72fa14a5",
   "metadata": {},
   "outputs": [
    {
     "data": {
      "text/latex": [
       "$\\displaystyle \\frac{d \\left(1 - d\\right)}{1 + \\frac{d \\delta - \\delta + 1}{\\frac{\\delta k_1}{c}}}$"
      ],
      "text/plain": [
       "d*(1 - d)/(1 + (d*delta - delta + 1)/\\frac{\\delta k_1}{c})"
      ]
     },
     "execution_count": 32,
     "metadata": {},
     "output_type": "execute_result"
    }
   ],
   "source": [
    "d * (1 - d) / (1 + (d*delta + (1 - delta)) / (dk1c))"
   ]
  },
  {
   "cell_type": "markdown",
   "id": "5cb5ee43-5819-4e23-be12-086cecf23b85",
   "metadata": {},
   "source": [
    "Since $\\delta k_1 / c$ is decreasing in $c$, we can observe that the expression as a whole is decreasing in $c$ (as the other components are positive)."
   ]
  },
  {
   "cell_type": "markdown",
   "id": "56f368a7-76f5-489e-a109-07b5110b7e62",
   "metadata": {},
   "source": [
    "We can verify - first, that the expressions are the same:"
   ]
  },
  {
   "cell_type": "code",
   "execution_count": 33,
   "id": "ab8c0a6a-cb0c-438a-bc0c-d17047dc1a5c",
   "metadata": {},
   "outputs": [
    {
     "data": {
      "text/latex": [
       "$\\displaystyle \\frac{d \\delta k_{1} \\left(1 - d\\right)}{c \\delta \\left(d - 1\\right) + c + \\delta k_{1}}$"
      ],
      "text/plain": [
       "d*delta*k_1*(1 - d)/(c*delta*(d - 1) + c + delta*k_1)"
      ]
     },
     "execution_count": 33,
     "metadata": {},
     "output_type": "execute_result"
    }
   ],
   "source": [
    "simplify(expand(d * (1 - d) / (1 + (d*delta + (1 - delta)) / (delta * k1 / c))))"
   ]
  },
  {
   "cell_type": "markdown",
   "id": "8d3f1a42-e242-43a6-b918-b4b19fb51a59",
   "metadata": {},
   "source": [
    "and second, that it decreases in $c$ in practice:"
   ]
  },
  {
   "cell_type": "code",
   "execution_count": 34,
   "id": "fd7322ba-8859-446a-b297-388c2068e6c6",
   "metadata": {},
   "outputs": [
    {
     "data": {
      "image/png": "[encoded data removed]",
      "text/plain": [
       "<Figure size 432x288 with 1 Axes>"
      ]
     },
     "metadata": {
      "needs_background": "light"
     },
     "output_type": "display_data"
    }
   ],
   "source": [
    "f4 = lambda x: float((k2_solved/c).subs(k1, k1_solved).subs(delta, 0.9).subs(d, 0.6).subs(c, x))\n",
    "plt.plot(np.linspace(0.1, 100, 100), [f4(x) for x in np.linspace(0.1, 100, 100)])\n",
    "plt.title(\"k2/c vs c\")\n",
    "plt.xlabel(\"c\")\n",
    "plt.ylabel(\"k2/c\")\n",
    "plt.show()"
   ]
  },
  {
   "cell_type": "code",
   "execution_count": 35,
   "id": "d411b133-7aa1-4b2c-a357-89de918c4212",
   "metadata": {},
   "outputs": [
    {
     "data": {
      "image/png": "[encoded data removed]",
      "text/plain": [
       "<Figure size 432x288 with 1 Axes>"
      ]
     },
     "metadata": {
      "needs_background": "light"
     },
     "output_type": "display_data"
    }
   ],
   "source": [
    "f5 = lambda x: float((k2_solved/c).subs(k1, k1_solved).subs(delta, 0.3).subs(d, 0.6).subs(c, x))\n",
    "plt.plot(np.linspace(0.1, 100, 100), [f5(x) for x in np.linspace(0.1, 100, 100)])\n",
    "plt.title(\"k2/c vs c\")\n",
    "plt.xlabel(\"c\")\n",
    "plt.ylabel(\"k2/c\")\n",
    "plt.show()"
   ]
  },
  {
   "cell_type": "code",
   "execution_count": 36,
   "id": "a82ab82e-4d34-4923-a0c9-6c9e98f1a968",
   "metadata": {},
   "outputs": [
    {
     "data": {
      "image/png": "[encoded data removed]",
      "text/plain": [
       "<Figure size 432x288 with 1 Axes>"
      ]
     },
     "metadata": {
      "needs_background": "light"
     },
     "output_type": "display_data"
    }
   ],
   "source": [
    "f6 = lambda x: float((k2_solved/c).subs(k1, k1_solved).subs(delta, 0.9).subs(d, 0.1).subs(c, x))\n",
    "plt.plot(np.linspace(0.1, 100, 100), [f6(x) for x in np.linspace(0.1, 100, 100)])\n",
    "plt.title(\"k2/c vs c\")\n",
    "plt.xlabel(\"c\")\n",
    "plt.ylabel(\"k2/c\")\n",
    "plt.show()"
   ]
  },
  {
   "cell_type": "markdown",
   "id": "f575e167-281b-40d7-8a4f-f7835a8c9861",
   "metadata": {},
   "source": [
    "# $\\delta k_1$ in $\\delta$"
   ]
  },
  {
   "cell_type": "code",
   "execution_count": 37,
   "id": "ff7362cd-33bc-4118-97e7-2d7571be3fd8",
   "metadata": {
    "tags": []
   },
   "outputs": [
    {
     "data": {
      "text/latex": [
       "$\\displaystyle \\frac{c \\delta \\left(1 - d\\right)^{2}}{2} - \\frac{c}{2} + \\frac{\\delta}{2} + \\frac{\\sqrt{4 c \\delta + \\left(c \\delta \\left(1 - d\\right)^{2} - c + \\delta\\right)^{2}}}{2}$"
      ],
      "text/plain": [
       "c*delta*(1 - d)**2/2 - c/2 + delta/2 + sqrt(4*c*delta + (c*delta*(1 - d)**2 - c + delta)**2)/2"
      ]
     },
     "execution_count": 37,
     "metadata": {},
     "output_type": "execute_result"
    }
   ],
   "source": [
    "delta * k1_solved"
   ]
  },
  {
   "cell_type": "markdown",
   "id": "4ac9e855-ab52-434e-9e38-2ab1cfd80c11",
   "metadata": {},
   "source": [
    "The derivative of the above expression is:"
   ]
  },
  {
   "cell_type": "code",
   "execution_count": 38,
   "id": "bd926985-4d5d-404c-bb1f-3321ac78e270",
   "metadata": {
    "tags": []
   },
   "outputs": [
    {
     "data": {
      "text/latex": [
       "$\\displaystyle \\frac{c \\left(1 - d\\right)^{2}}{2} + \\frac{2 c + \\frac{\\left(2 c \\left(1 - d\\right)^{2} + 2\\right) \\left(c \\delta \\left(1 - d\\right)^{2} - c + \\delta\\right)}{2}}{2 \\sqrt{4 c \\delta + \\left(c \\delta \\left(1 - d\\right)^{2} - c + \\delta\\right)^{2}}} + \\frac{1}{2}$"
      ],
      "text/plain": [
       "c*(1 - d)**2/2 + (2*c + (2*c*(1 - d)**2 + 2)*(c*delta*(1 - d)**2 - c + delta)/2)/(2*sqrt(4*c*delta + (c*delta*(1 - d)**2 - c + delta)**2)) + 1/2"
      ]
     },
     "execution_count": 38,
     "metadata": {},
     "output_type": "execute_result"
    }
   ],
   "source": [
    "diff(delta * k1_solved, delta)"
   ]
  },
  {
   "cell_type": "markdown",
   "id": "a1c389d9-772a-4361-b554-d3675e22413a",
   "metadata": {
    "tags": []
   },
   "source": [
    "Let $g = c\\delta(1-d)^2 - c + \\delta$. Then let $g^\\prime = c(1-d)^2 + 1$. This implies that we have:"
   ]
  },
  {
   "cell_type": "markdown",
   "id": "9e3863c8-2a80-4fb8-bf74-2d6966f0aec7",
   "metadata": {},
   "source": [
    "$$\\frac{g^\\prime}{2} + \\frac{2c + gg^\\prime}{2\\sqrt{4c\\delta + g^2}}$$"
   ]
  },
  {
   "cell_type": "markdown",
   "id": "1ae753ce-78bf-4a87-b859-5456eb202a0e",
   "metadata": {},
   "source": [
    "$$= \\frac{g^\\prime}{2}(1 + \\frac{g}{\\sqrt{4c\\delta+g^2}}) + \\frac{c}{\\sqrt{4c\\delta+g^2}}$$"
   ]
  },
  {
   "cell_type": "markdown",
   "id": "d82cb9f0-b9d7-4a3f-9a5e-fe9085bb131f",
   "metadata": {},
   "source": [
    "We know $g^\\prime > 0$ and the fraction on the right is positive, so we look at the fraction in the middle, which is:"
   ]
  },
  {
   "cell_type": "code",
   "execution_count": 39,
   "id": "e6fce7bb-3c1c-4675-9c5f-cd23729a332b",
   "metadata": {},
   "outputs": [
    {
     "data": {
      "text/latex": [
       "$\\displaystyle \\frac{g}{\\sqrt{4 c \\delta + g^{2}}}$"
      ],
      "text/plain": [
       "g/sqrt(4*c*delta + g**2)"
      ]
     },
     "execution_count": 39,
     "metadata": {},
     "output_type": "execute_result"
    }
   ],
   "source": [
    "(g/sqrt(4*c*delta + g**2))"
   ]
  },
  {
   "cell_type": "markdown",
   "id": "bc508124-2f70-428d-b7ab-f9b61600d246",
   "metadata": {},
   "source": [
    "If $g$ is positive, then this is positive. If $g$ is negative, then consider $\\sqrt{4c\\delta + g^2} - |g|$. We know that $\\sqrt{g^2} - |g| = 0$ so, since $\\sqrt{}$ is monotone positive and $4c\\delta > 0$, it follows that $\\sqrt{4c\\delta + g^2} > |g|$. Thus, the magnitude of the above fraction is less than 1, and so $1 + \\frac{g}{\\sqrt{4c\\delta+g^2}} > 0$. This implies that the derivative of $\\delta k_1$ with respect to $\\delta$ is always positive, and so this expression is increasing in $\\delta$."
   ]
  },
  {
   "cell_type": "code",
   "execution_count": 40,
   "id": "6aa12c22-c999-4862-8221-8ab35897ff44",
   "metadata": {},
   "outputs": [
    {
     "data": {
      "image/png": "[encoded data removed]",
      "text/plain": [
       "<Figure size 432x288 with 1 Axes>"
      ]
     },
     "metadata": {
      "needs_background": "light"
     },
     "output_type": "display_data"
    }
   ],
   "source": [
    "f7 = lambda x: float((delta * k1_solved).subs(delta, x).subs(d, 0.6).subs(c, 1))\n",
    "plt.plot(np.linspace(0.001, 1, 100), [f7(x) for x in np.linspace(0.001, 1, 100)])\n",
    "plt.title(\"delta * k1 vs delta\")\n",
    "plt.xlabel(\"delta\")\n",
    "plt.ylabel(\"delta * k1\")\n",
    "plt.show()"
   ]
  },
  {
   "cell_type": "code",
   "execution_count": 41,
   "id": "a554059b-61ef-43fb-92c4-17e5a62f2eeb",
   "metadata": {},
   "outputs": [
    {
     "data": {
      "image/png": "[encoded data removed]",
      "text/plain": [
       "<Figure size 432x288 with 1 Axes>"
      ]
     },
     "metadata": {
      "needs_background": "light"
     },
     "output_type": "display_data"
    }
   ],
   "source": [
    "f8 = lambda x: float((delta * k1_solved).subs(delta, x).subs(d, 0.2).subs(c, 1))\n",
    "plt.plot(np.linspace(0.001, 1, 100), [f8(x) for x in np.linspace(0.001, 1, 100)])\n",
    "plt.title(\"delta * k1 vs delta\")\n",
    "plt.xlabel(\"delta\")\n",
    "plt.ylabel(\"delta * k1\")\n",
    "plt.show()"
   ]
  },
  {
   "cell_type": "code",
   "execution_count": 42,
   "id": "ed2269d4-da4d-4fa1-ba06-e8c268666184",
   "metadata": {},
   "outputs": [
    {
     "data": {
      "image/png": "[encoded data removed]",
      "text/plain": [
       "<Figure size 432x288 with 1 Axes>"
      ]
     },
     "metadata": {
      "needs_background": "light"
     },
     "output_type": "display_data"
    }
   ],
   "source": [
    "f9 = lambda x: float((delta * k1_solved).subs(delta, x).subs(d, 0.2).subs(c, 100))\n",
    "plt.plot(np.linspace(0.001, 1, 100), [f9(x) for x in np.linspace(0.001, 1, 100)])\n",
    "plt.title(\"delta * k1 vs delta\")\n",
    "plt.xlabel(\"delta\")\n",
    "plt.ylabel(\"delta * k1\")\n",
    "plt.show()"
   ]
  },
  {
   "cell_type": "code",
   "execution_count": 43,
   "id": "0ac7ccfb-57ff-49d8-9f68-ac85dfe797ce",
   "metadata": {},
   "outputs": [
    {
     "data": {
      "image/png": "[encoded data removed]",
      "text/plain": [
       "<Figure size 432x288 with 1 Axes>"
      ]
     },
     "metadata": {
      "needs_background": "light"
     },
     "output_type": "display_data"
    }
   ],
   "source": [
    "f10 = lambda x: float((delta * k1_solved).subs(delta, x).subs(d, 0.2).subs(c, 0.01))\n",
    "plt.plot(np.linspace(0.001, 1, 100), [f10(x) for x in np.linspace(0.001, 1, 100)])\n",
    "plt.title(\"delta * k1 vs delta\")\n",
    "plt.xlabel(\"delta\")\n",
    "plt.ylabel(\"delta * k1\")\n",
    "plt.show()"
   ]
  },
  {
   "cell_type": "markdown",
   "id": "873b8369-c2d7-4243-8a08-2245fa8cf08a",
   "metadata": {},
   "source": [
    "# $\\delta k_2$ in $\\delta$"
   ]
  },
  {
   "cell_type": "code",
   "execution_count": 44,
   "id": "7d9bba4e-d30f-4379-83c7-38a6b31ebeff",
   "metadata": {},
   "outputs": [
    {
     "data": {
      "text/latex": [
       "$\\displaystyle \\frac{c d \\delta^{2} k_{1} \\left(1 - d\\right)}{c d \\delta - c \\delta + c + \\delta k_{1}}$"
      ],
      "text/plain": [
       "c*d*delta**2*k_1*(1 - d)/(c*d*delta - c*delta + c + delta*k_1)"
      ]
     },
     "execution_count": 44,
     "metadata": {},
     "output_type": "execute_result"
    }
   ],
   "source": [
    "delta * k2_solved"
   ]
  },
  {
   "cell_type": "markdown",
   "id": "07f9d582-2d2a-430b-b85a-8a8477f0d68a",
   "metadata": {},
   "source": [
    "Multiply the numerator and denominator by $\\frac{1}{\\delta k_1}$:"
   ]
  },
  {
   "cell_type": "code",
   "execution_count": 45,
   "id": "13f97866-841f-4694-83e8-9beceede5811",
   "metadata": {},
   "outputs": [
    {
     "data": {
      "text/latex": [
       "$\\displaystyle \\frac{c d \\delta \\left(1 - d\\right)}{\\frac{c \\left(d - 1\\right)}{k_{1}} + \\frac{c}{\\delta k_{1}} + 1}$"
      ],
      "text/plain": [
       "c*d*delta*(1 - d)/(c*(d - 1)/k_1 + c/(delta*k_1) + 1)"
      ]
     },
     "execution_count": 45,
     "metadata": {},
     "output_type": "execute_result"
    }
   ],
   "source": [
    "c * d * delta * (1-d) / ((c * delta * (d - 1))/(delta * k1) + c/(delta*k1) + 1)"
   ]
  },
  {
   "cell_type": "code",
   "execution_count": 46,
   "id": "95096ab9-be9f-43e5-ae1b-829ca5f8b6c6",
   "metadata": {
    "tags": []
   },
   "outputs": [
    {
     "data": {
      "text/latex": [
       "$\\displaystyle \\frac{c d \\delta^{2} k_{1} \\left(1 - d\\right)}{c d \\delta - c \\delta + c + \\delta k_{1}}$"
      ],
      "text/plain": [
       "c*d*delta**2*k_1*(1 - d)/(c*d*delta - c*delta + c + delta*k_1)"
      ]
     },
     "execution_count": 46,
     "metadata": {},
     "output_type": "execute_result"
    }
   ],
   "source": [
    "(delta * k2_solved)"
   ]
  },
  {
   "cell_type": "markdown",
   "id": "3d24cf81-c907-40b4-ad04-3a67f628911e",
   "metadata": {},
   "source": [
    "Remove some constants on the numerator and then take the reciprocal to get:"
   ]
  },
  {
   "cell_type": "code",
   "execution_count": 47,
   "id": "80da2079-4cf2-4d50-94f5-ce438beb3ec2",
   "metadata": {},
   "outputs": [
    {
     "data": {
      "text/latex": [
       "$\\displaystyle \\frac{c d \\delta - c \\delta + c + \\delta k_{1}}{c d \\delta^{2} k_{1}}$"
      ],
      "text/plain": [
       "(c*d*delta - c*delta + c + delta*k_1)/(c*d*delta**2*k_1)"
      ]
     },
     "execution_count": 47,
     "metadata": {},
     "output_type": "execute_result"
    }
   ],
   "source": [
    "1 / (delta * k2_solved / (1 - d))"
   ]
  },
  {
   "cell_type": "markdown",
   "id": "f920a59d-828d-441d-9910-e15a8d8ae65d",
   "metadata": {},
   "source": [
    "This simplifies to:"
   ]
  },
  {
   "cell_type": "code",
   "execution_count": 48,
   "id": "1d43d7bc-8c6f-48a0-a3bf-b5c2f2ff0de6",
   "metadata": {
    "tags": []
   },
   "outputs": [
    {
     "data": {
      "text/latex": [
       "$\\displaystyle \\frac{1}{\\delta k_{1}} - \\frac{1}{d \\delta k_{1}} + \\frac{1}{d \\delta^{2} k_{1}} + \\frac{1}{c d \\delta}$"
      ],
      "text/plain": [
       "1/(delta*k_1) - 1/(d*delta*k_1) + 1/(d*delta**2*k_1) + 1/(c*d*delta)"
      ]
     },
     "execution_count": 48,
     "metadata": {},
     "output_type": "execute_result"
    }
   ],
   "source": [
    "(1/(delta*k1)) - (1/(d*delta*k1)) + (1 / (d * delta**2 * k1)) + (1 / (c * d * delta))"
   ]
  },
  {
   "cell_type": "markdown",
   "id": "37f473f9-04f3-437e-a59e-b416fe1537b4",
   "metadata": {},
   "source": [
    "Merge the middle two terms to get:"
   ]
  },
  {
   "cell_type": "code",
   "execution_count": 49,
   "id": "30bd950e-34cf-4f75-bf46-1be497162d9b",
   "metadata": {},
   "outputs": [
    {
     "data": {
      "text/latex": [
       "$\\displaystyle \\frac{2 \\left(1 - \\delta\\right)}{d \\delta \\left(c \\delta \\left(1 - d\\right)^{2} - c + \\delta + \\sqrt{4 c \\delta + \\left(c \\delta \\left(1 - d\\right)^{2} - c + \\delta\\right)^{2}}\\right)}$"
      ],
      "text/plain": [
       "2*(1 - delta)/(d*delta*(c*delta*(1 - d)**2 - c + delta + sqrt(4*c*delta + (c*delta*(1 - d)**2 - c + delta)**2)))"
      ]
     },
     "execution_count": 49,
     "metadata": {},
     "output_type": "execute_result"
    }
   ],
   "source": [
    "simplify(- (1/(d*delta*k1)) + (1 / (d * delta**2 * k1))).subs(k1, k1_solved)"
   ]
  },
  {
   "cell_type": "markdown",
   "id": "0965f7fd-d8a5-4910-9be0-a4e2d0085199",
   "metadata": {},
   "source": [
    "Both the numerator and denominator are positive. The numerator decreases in $\\delta$ whereas the denominator increases in $\\delta$."
   ]
  },
  {
   "cell_type": "markdown",
   "id": "d5d42ade-de3b-4c07-916f-88c672626d77",
   "metadata": {},
   "source": [
    "Let the fraction be equal to $\\frac{a}{b}$ (note $a > 0, b > 0, \\frac{\\partial a}{\\partial \\delta} < 0, \\frac{\\partial (1/b)}{\\partial \\delta} < 0$)."
   ]
  },
  {
   "cell_type": "markdown",
   "id": "8fedfc27-7011-49fa-bf0a-f06dbb913c25",
   "metadata": {
    "tags": []
   },
   "source": [
    "Then the derivative of $\\frac{a}{b}$ with respect to $\\delta$ is the derivative of $a \\frac{1}{b}$, which by the product rule is $a \\frac{\\partial (1/b)}{\\partial \\delta} + b \\frac{\\partial a}{\\partial \\delta}$."
   ]
  },
  {
   "cell_type": "markdown",
   "id": "e2148e16-cece-416c-9c95-41a9ee470df5",
   "metadata": {},
   "source": [
    "By the above, this is negative. Thus, $\\frac{a}{b}$ decreases in $\\delta$. We know that $\\frac{1}{\\delta k_1}$ and $\\frac{1}{cd\\delta}$ both decrease in $\\delta$, so the reciprocal expression above decreases in $\\delta$. This means the original expression, $\\delta k_2$, increases in $\\delta$. We can do some checks:"
   ]
  },
  {
   "cell_type": "code",
   "execution_count": 50,
   "id": "a6300aba-12fe-4349-afa7-3890faf1093e",
   "metadata": {},
   "outputs": [
    {
     "data": {
      "image/png": "[encoded data removed]",
      "text/plain": [
       "<Figure size 432x288 with 1 Axes>"
      ]
     },
     "metadata": {
      "needs_background": "light"
     },
     "output_type": "display_data"
    }
   ],
   "source": [
    "f11 = lambda x: float((delta * k2_solved).subs(k1, k1_solved).subs(delta, x).subs(d, 0.6).subs(c, 1))\n",
    "plt.plot(np.linspace(0.001, 1, 100), [f11(x) for x in np.linspace(0.001, 1, 100)])\n",
    "plt.title(\"delta * k2 vs delta\")\n",
    "plt.xlabel(\"delta\")\n",
    "plt.ylabel(\"delta * k2\")\n",
    "plt.show()"
   ]
  },
  {
   "cell_type": "code",
   "execution_count": 51,
   "id": "c984806e-ba5c-4d04-8f2a-68b0f934bfd0",
   "metadata": {},
   "outputs": [
    {
     "data": {
      "image/png": "[encoded data removed]",
      "text/plain": [
       "<Figure size 432x288 with 1 Axes>"
      ]
     },
     "metadata": {
      "needs_background": "light"
     },
     "output_type": "display_data"
    }
   ],
   "source": [
    "f12 = lambda x: float((delta * k2_solved).subs(k1, k1_solved).subs(delta, x).subs(d, 0.3).subs(c, 1))\n",
    "plt.plot(np.linspace(0.001, 1, 100), [f12(x) for x in np.linspace(0.001, 1, 100)])\n",
    "plt.title(\"delta * k2 vs delta\")\n",
    "plt.xlabel(\"delta\")\n",
    "plt.ylabel(\"delta * k2\")\n",
    "plt.show()"
   ]
  },
  {
   "cell_type": "code",
   "execution_count": 52,
   "id": "42767a6f-1e8d-47e6-8230-2370ffeb2a7e",
   "metadata": {},
   "outputs": [
    {
     "data": {
      "image/png": "[encoded data removed]",
      "text/plain": [
       "<Figure size 432x288 with 1 Axes>"
      ]
     },
     "metadata": {
      "needs_background": "light"
     },
     "output_type": "display_data"
    }
   ],
   "source": [
    "f13 = lambda x: float((delta * k2_solved).subs(k1, k1_solved).subs(delta, x).subs(d, 0.3).subs(c, 0.1))\n",
    "plt.plot(np.linspace(0.001, 1, 100), [f13(x) for x in np.linspace(0.001, 1, 100)])\n",
    "plt.title(\"delta * k2 vs delta\")\n",
    "plt.xlabel(\"delta\")\n",
    "plt.ylabel(\"delta * k2\")\n",
    "plt.show()"
   ]
  },
  {
   "cell_type": "code",
   "execution_count": 53,
   "id": "6387ef9f-aa5e-4fba-9b9b-c7054444620d",
   "metadata": {},
   "outputs": [
    {
     "data": {
      "image/png": "[encoded data removed]",
      "text/plain": [
       "<Figure size 432x288 with 1 Axes>"
      ]
     },
     "metadata": {
      "needs_background": "light"
     },
     "output_type": "display_data"
    }
   ],
   "source": [
    "f14 = lambda x: float((delta * k2_solved).subs(k1, k1_solved).subs(delta, x).subs(d, 0.3).subs(c, 1000.0))\n",
    "plt.plot(np.linspace(0.001, 1, 100), [f14(x) for x in np.linspace(0.001, 1, 100)])\n",
    "plt.title(\"delta * k2 vs delta\")\n",
    "plt.xlabel(\"delta\")\n",
    "plt.ylabel(\"delta * k2\")\n",
    "plt.show()"
   ]
  },
  {
   "cell_type": "markdown",
   "id": "f29985aa-1c4d-46ad-a4f3-45b88364d9ba",
   "metadata": {},
   "source": [
    "# $k_1/d$ in $d$"
   ]
  },
  {
   "cell_type": "code",
   "execution_count": 54,
   "id": "2ad6d67b-ebb8-403a-b2ed-a929c4fbc84a",
   "metadata": {},
   "outputs": [
    {
     "data": {
      "text/latex": [
       "$\\displaystyle \\frac{c \\delta \\left(2 d - 2\\right) + \\frac{c \\delta \\left(2 d - 2\\right) \\left(c \\delta \\left(1 - d\\right)^{2} - c + \\delta\\right)}{\\sqrt{4 c \\delta + \\left(c \\delta \\left(1 - d\\right)^{2} - c + \\delta\\right)^{2}}}}{2 d \\delta} - \\frac{c \\delta \\left(1 - d\\right)^{2} - c + \\delta + \\sqrt{4 c \\delta + \\left(c \\delta \\left(1 - d\\right)^{2} - c + \\delta\\right)^{2}}}{2 d^{2} \\delta}$"
      ],
      "text/plain": [
       "(c*delta*(2*d - 2) + c*delta*(2*d - 2)*(c*delta*(1 - d)**2 - c + delta)/sqrt(4*c*delta + (c*delta*(1 - d)**2 - c + delta)**2))/(2*d*delta) - (c*delta*(1 - d)**2 - c + delta + sqrt(4*c*delta + (c*delta*(1 - d)**2 - c + delta)**2))/(2*d**2*delta)"
      ]
     },
     "execution_count": 54,
     "metadata": {},
     "output_type": "execute_result"
    }
   ],
   "source": [
    "diff(k1_solved/d, d)"
   ]
  },
  {
   "cell_type": "markdown",
   "id": "d92e0231-4d9d-45d6-ac09-7cefa8292dae",
   "metadata": {},
   "source": [
    "The term on the right, including the minus sign, is negative. We turn to the term on the left, which if we let $g = c\\delta(1-d)^2 - c + \\delta$, is:"
   ]
  },
  {
   "cell_type": "code",
   "execution_count": 55,
   "id": "2cf0a372-28e5-45f8-bc79-55b9a9dd07fd",
   "metadata": {},
   "outputs": [
    {
     "data": {
      "text/latex": [
       "$\\displaystyle \\frac{c \\left(d - 1\\right) \\left(\\frac{g}{\\sqrt{4 c \\delta + g^{2}}} + 1\\right)}{d}$"
      ],
      "text/plain": [
       "c*(d - 1)*(g/sqrt(4*c*delta + g**2) + 1)/d"
      ]
     },
     "execution_count": 55,
     "metadata": {},
     "output_type": "execute_result"
    }
   ],
   "source": [
    "(c*delta*(d-1) * (1 + g/sqrt(4*c*delta+g**2)))/(d*delta)"
   ]
  },
  {
   "cell_type": "markdown",
   "id": "6d11833c-7946-4ed8-9c63-14cbc5770597",
   "metadata": {},
   "source": [
    "We saw earlier that $1 + \\frac{g}{\\sqrt{4c\\delta+g^2}} > 0$ is positive so the term as a whole is negative. This implies that the derivative is negative, and so $k_1/d$ is decreasing in $d$. We can check:"
   ]
  },
  {
   "cell_type": "code",
   "execution_count": 56,
   "id": "c13a3f48-3d13-4216-90e3-4e3563b8f13e",
   "metadata": {},
   "outputs": [
    {
     "data": {
      "image/png": "[encoded data removed]",
      "text/plain": [
       "<Figure size 432x288 with 1 Axes>"
      ]
     },
     "metadata": {
      "needs_background": "light"
     },
     "output_type": "display_data"
    }
   ],
   "source": [
    "f15 = lambda x: float((k1_solved/d).subs(delta, 0.9).subs(d, x).subs(c, 1))\n",
    "plt.plot(np.linspace(0.001, 1, 100), [f15(x) for x in np.linspace(0.001, 1, 100)])\n",
    "plt.title(\"k1/d vs d\")\n",
    "plt.xlabel(\"d\")\n",
    "plt.ylabel(\"k1/d\")\n",
    "plt.show()"
   ]
  },
  {
   "cell_type": "code",
   "execution_count": 57,
   "id": "b1b4df98-4933-47a2-9e94-400370ec9a7e",
   "metadata": {},
   "outputs": [
    {
     "data": {
      "image/png": "[encoded data removed]",
      "text/plain": [
       "<Figure size 432x288 with 1 Axes>"
      ]
     },
     "metadata": {
      "needs_background": "light"
     },
     "output_type": "display_data"
    }
   ],
   "source": [
    "f16 = lambda x: float((k1_solved/d).subs(delta, 0.5).subs(d, x).subs(c, 1))\n",
    "plt.plot(np.linspace(0.001, 1, 100), [f16(x) for x in np.linspace(0.001, 1, 100)])\n",
    "plt.title(\"k1/d vs d\")\n",
    "plt.xlabel(\"d\")\n",
    "plt.ylabel(\"k1/d\")\n",
    "plt.show()"
   ]
  },
  {
   "cell_type": "code",
   "execution_count": 58,
   "id": "1c3a6e2b-875d-4e30-9fcc-eccea9d4c490",
   "metadata": {},
   "outputs": [
    {
     "data": {
      "image/png": "[encoded data removed]",
      "text/plain": [
       "<Figure size 432x288 with 1 Axes>"
      ]
     },
     "metadata": {
      "needs_background": "light"
     },
     "output_type": "display_data"
    }
   ],
   "source": [
    "f17 = lambda x: float((k1_solved/d).subs(delta, 0.9).subs(d, x).subs(c, 0.1))\n",
    "plt.plot(np.linspace(0.001, 1, 100), [f17(x) for x in np.linspace(0.001, 1, 100)])\n",
    "plt.title(\"k1/d vs d\")\n",
    "plt.xlabel(\"d\")\n",
    "plt.ylabel(\"k1/d\")\n",
    "plt.show()"
   ]
  },
  {
   "cell_type": "code",
   "execution_count": 59,
   "id": "c4e25a35-258d-46ff-b939-c5777d088e35",
   "metadata": {},
   "outputs": [
    {
     "data": {
      "image/png": "[encoded data removed]",
      "text/plain": [
       "<Figure size 432x288 with 1 Axes>"
      ]
     },
     "metadata": {
      "needs_background": "light"
     },
     "output_type": "display_data"
    }
   ],
   "source": [
    "f18 = lambda x: float((k1_solved/d).subs(delta, 0.9).subs(d, x).subs(c, 100.0))\n",
    "plt.plot(np.linspace(0.001, 1, 100), [f18(x) for x in np.linspace(0.001, 1, 100)])\n",
    "plt.title(\"k1/d vs d\")\n",
    "plt.xlabel(\"d\")\n",
    "plt.ylabel(\"k1/d\")\n",
    "plt.show()"
   ]
  },
  {
   "cell_type": "markdown",
   "id": "a72c4a3f-caad-4df8-8469-7c40e0b778e9",
   "metadata": {},
   "source": [
    "# $k_2/d$ in $d$"
   ]
  },
  {
   "cell_type": "code",
   "execution_count": 60,
   "id": "f4f332f0-14db-44cd-af9e-839977b63046",
   "metadata": {
    "tags": []
   },
   "outputs": [
    {
     "data": {
      "text/latex": [
       "$\\displaystyle \\frac{c \\delta k_{1} \\left(1 - d\\right)}{c d \\delta - c \\delta + c + \\delta k_{1}}$"
      ],
      "text/plain": [
       "c*delta*k_1*(1 - d)/(c*d*delta - c*delta + c + delta*k_1)"
      ]
     },
     "execution_count": 60,
     "metadata": {},
     "output_type": "execute_result"
    }
   ],
   "source": [
    "k2_solved/d"
   ]
  },
  {
   "cell_type": "markdown",
   "id": "0c373c2f-294d-4f0e-87ff-575be026cba1",
   "metadata": {},
   "source": [
    "It should be noted, first, that if we take the derivative of $k_1$ with respect to $d$:"
   ]
  },
  {
   "cell_type": "code",
   "execution_count": 61,
   "id": "9f5cb44c-6d17-497e-aea2-c017ddcb7069",
   "metadata": {
    "tags": []
   },
   "outputs": [
    {
     "data": {
      "text/latex": [
       "$\\displaystyle \\frac{c \\delta \\left(2 d - 2\\right) + \\frac{c \\delta \\left(2 d - 2\\right) \\left(c \\delta \\left(1 - d\\right)^{2} - c + \\delta\\right)}{\\sqrt{4 c \\delta + \\left(c \\delta \\left(1 - d\\right)^{2} - c + \\delta\\right)^{2}}}}{2 \\delta}$"
      ],
      "text/plain": [
       "(c*delta*(2*d - 2) + c*delta*(2*d - 2)*(c*delta*(1 - d)**2 - c + delta)/sqrt(4*c*delta + (c*delta*(1 - d)**2 - c + delta)**2))/(2*delta)"
      ]
     },
     "execution_count": 61,
     "metadata": {},
     "output_type": "execute_result"
    }
   ],
   "source": [
    "diff(k1_solved, d)"
   ]
  },
  {
   "cell_type": "markdown",
   "id": "8ca7c55c-8d9a-4feb-8824-d16eb23b2059",
   "metadata": {},
   "source": [
    "Then by the argument from the $k_1/d$ case, this is negative, so $k_1$ is itself decreasing in $d$."
   ]
  },
  {
   "cell_type": "markdown",
   "id": "447a859e-b518-4a32-8b03-96ed5ad4cc7d",
   "metadata": {},
   "source": [
    "Take the reciproval of $k_2/d$:"
   ]
  },
  {
   "cell_type": "code",
   "execution_count": 62,
   "id": "d92381f4-66d1-4827-bdc4-8d4dbf278f86",
   "metadata": {
    "tags": []
   },
   "outputs": [
    {
     "data": {
      "text/latex": [
       "$\\displaystyle \\frac{c d \\delta - c \\delta + c + \\delta k_{1}}{c \\delta k_{1} \\left(1 - d\\right)}$"
      ],
      "text/plain": [
       "(c*d*delta - c*delta + c + delta*k_1)/(c*delta*k_1*(1 - d))"
      ]
     },
     "execution_count": 62,
     "metadata": {},
     "output_type": "execute_result"
    }
   ],
   "source": [
    "1/(k2_solved/d)"
   ]
  },
  {
   "cell_type": "markdown",
   "id": "2ba97ac3-e7ca-41fe-9960-062c17ed9de4",
   "metadata": {},
   "source": [
    "This separates into the following expression:"
   ]
  },
  {
   "cell_type": "code",
   "execution_count": 63,
   "id": "4aeb2ceb-fcc8-4d31-b8f8-4aa32a79ab59",
   "metadata": {
    "tags": []
   },
   "outputs": [
    {
     "data": {
      "text/latex": [
       "$\\displaystyle \\frac{-1 + \\frac{1}{\\delta \\left(1 - d\\right)}}{k_{1}} + \\frac{1}{c \\left(1 - d\\right)}$"
      ],
      "text/plain": [
       "(-1 + 1/(delta*(1 - d)))/k_1 + 1/(c*(1 - d))"
      ]
     },
     "execution_count": 63,
     "metadata": {},
     "output_type": "execute_result"
    }
   ],
   "source": [
    "1/k1 * (1/(delta*(1-d)) - 1) + 1/(c*(1-d))"
   ]
  },
  {
   "cell_type": "markdown",
   "id": "dacb52d0-7334-4c8d-bb3c-79337f79d9b6",
   "metadata": {
    "tags": []
   },
   "source": [
    "We know the term on the right is increasing in $d$ so we focus on the term on the left:"
   ]
  },
  {
   "cell_type": "code",
   "execution_count": 64,
   "id": "fecaf9b8-6f48-4c36-bd21-e1dde8b12449",
   "metadata": {
    "tags": []
   },
   "outputs": [
    {
     "data": {
      "text/latex": [
       "$\\displaystyle \\frac{- d \\delta + \\delta - 1}{\\delta k_{1} \\left(d - 1\\right)}$"
      ],
      "text/plain": [
       "(-d*delta + delta - 1)/(delta*k_1*(d - 1))"
      ]
     },
     "execution_count": 64,
     "metadata": {},
     "output_type": "execute_result"
    }
   ],
   "source": [
    "simplify((-1 + 1/(delta*(1-d)))/k1)"
   ]
  },
  {
   "cell_type": "markdown",
   "id": "2aec47b1-71c5-4d1e-8928-2d678a8aae02",
   "metadata": {},
   "source": [
    "This can be rewritten as:"
   ]
  },
  {
   "cell_type": "code",
   "execution_count": 65,
   "id": "e8f55d27-97a4-4a70-b180-040fa75dc054",
   "metadata": {},
   "outputs": [
    {
     "data": {
      "text/latex": [
       "$\\displaystyle \\frac{d \\delta - \\delta + 1}{\\delta k_{1} \\left(1 - d\\right)}$"
      ],
      "text/plain": [
       "(d*delta - delta + 1)/(delta*k_1*(1 - d))"
      ]
     },
     "execution_count": 65,
     "metadata": {},
     "output_type": "execute_result"
    }
   ],
   "source": [
    "(1 - delta + d*delta) / (delta * k1 * (1 -d))"
   ]
  },
  {
   "cell_type": "markdown",
   "id": "6b2fdf35-af92-4408-8f3e-0b9a426fdfdf",
   "metadata": {},
   "source": [
    "$k_1$ is decreasing in $d$ and $(1-d)$ is decreasing in $d$. They are both positive so their product is also decreasing in $d$. Thus, the denominator is decreasing in $d$.\n",
    "\n",
    "The numerator is clearly increasing in $d$ and can be rewritten as $1 + \\delta(d-1) = 1 - \\delta(1-d)$. $\\delta(1-d) < 1$ so this expression is positive. Since the denominator of the fraction is also positive, this means we can take the fraction as $\\frac{a}{b} = a * \\frac{1}{b}$ where $a$ and $\\frac{1}{b}$ are both positive expressions increasing in $d$. Thus, $\\frac{a}{b}$ is increasing in $d$ and so this whole fraction is increasing in $d$, meaning the entire reciprocal does, implying that $k_2/d$ is decreasing in $d$. We can check:"
   ]
  },
  {
   "cell_type": "code",
   "execution_count": 66,
   "id": "b299f47c-40fb-48d5-9f47-fdc009f474ba",
   "metadata": {},
   "outputs": [
    {
     "data": {
      "image/png": "[encoded data removed]",
      "text/plain": [
       "<Figure size 432x288 with 1 Axes>"
      ]
     },
     "metadata": {
      "needs_background": "light"
     },
     "output_type": "display_data"
    }
   ],
   "source": [
    "f19 = lambda x: float((k2_solved/d).subs(k1, k1_solved).subs(delta, 0.9).subs(d, x).subs(c, 1))\n",
    "plt.plot(np.linspace(0.001, 1, 100), [f19(x) for x in np.linspace(0.001, 1, 100)])\n",
    "plt.title(\"k2/d vs d\")\n",
    "plt.xlabel(\"d\")\n",
    "plt.ylabel(\"k2/d\")\n",
    "plt.show()"
   ]
  },
  {
   "cell_type": "code",
   "execution_count": 67,
   "id": "1547fc72-b62e-493f-8c82-7aae79a486df",
   "metadata": {},
   "outputs": [
    {
     "data": {
      "image/png": "[encoded data removed]",
      "text/plain": [
       "<Figure size 432x288 with 1 Axes>"
      ]
     },
     "metadata": {
      "needs_background": "light"
     },
     "output_type": "display_data"
    }
   ],
   "source": [
    "f20 = lambda x: float((k2_solved/d).subs(k1, k1_solved).subs(delta, 0.5).subs(d, x).subs(c, 1))\n",
    "plt.plot(np.linspace(0.001, 1, 100), [f20(x) for x in np.linspace(0.001, 1, 100)])\n",
    "plt.title(\"k2/d vs d\")\n",
    "plt.xlabel(\"d\")\n",
    "plt.ylabel(\"k2/d\")\n",
    "plt.show()"
   ]
  },
  {
   "cell_type": "code",
   "execution_count": 68,
   "id": "6a03b7a3-746f-47d8-b55f-8ccddd9bea2c",
   "metadata": {},
   "outputs": [
    {
     "data": {
      "image/png": "[encoded data removed]",
      "text/plain": [
       "<Figure size 432x288 with 1 Axes>"
      ]
     },
     "metadata": {
      "needs_background": "light"
     },
     "output_type": "display_data"
    }
   ],
   "source": [
    "f21 = lambda x: float((k2_solved/d).subs(k1, k1_solved).subs(delta, 0.9).subs(d, x).subs(c, 0.1))\n",
    "plt.plot(np.linspace(0.001, 1, 100), [f21(x) for x in np.linspace(0.001, 1, 100)])\n",
    "plt.title(\"k2/d vs d\")\n",
    "plt.xlabel(\"d\")\n",
    "plt.ylabel(\"k2/d\")\n",
    "plt.show()"
   ]
  },
  {
   "cell_type": "code",
   "execution_count": 69,
   "id": "706e46f1-90f8-4f5e-b5cf-3ec7f7146e7b",
   "metadata": {},
   "outputs": [
    {
     "data": {
      "image/png": "[encoded data removed]",
      "text/plain": [
       "<Figure size 432x288 with 1 Axes>"
      ]
     },
     "metadata": {
      "needs_background": "light"
     },
     "output_type": "display_data"
    }
   ],
   "source": [
    "f22 = lambda x: float((k2_solved/d).subs(k1, k1_solved).subs(delta, 0.9).subs(d, x).subs(c, 1000))\n",
    "plt.plot(np.linspace(0.001, 1, 100), [f22(x) for x in np.linspace(0.001, 1, 100)])\n",
    "plt.title(\"k2/d vs d\")\n",
    "plt.xlabel(\"d\")\n",
    "plt.ylabel(\"k2/d\")\n",
    "plt.show()"
   ]
  }
 ],
 "metadata": {
  "kernelspec": {
   "display_name": "Python 3",
   "language": "python",
   "name": "python3"
  },
  "language_info": {
   "codemirror_mode": {
    "name": "ipython",
    "version": 3
   },
   "file_extension": ".py",
   "mimetype": "text/x-python",
   "name": "python",
   "nbconvert_exporter": "python",
   "pygments_lexer": "ipython3",
   "version": "3.8.8"
  },
  "widgets": {
   "application/vnd.jupyter.widget-state+json": {
    "state": {},
    "version_major": 2,
    "version_minor": 0
   }
  }
 },
 "nbformat": 4,
 "nbformat_minor": 5
}
