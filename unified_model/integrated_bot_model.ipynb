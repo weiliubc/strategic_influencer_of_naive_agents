{
 "cells": [
  {
   "cell_type": "markdown",
   "id": "2dc596bd-b630-4dbf-a643-860b9f118c5a",
   "metadata": {},
   "source": [
    "# Unified Model with Integrated Bot\n",
    "\n",
    "James Yu, 11 August 2022"
   ]
  },
  {
   "cell_type": "code",
   "execution_count": 1,
   "id": "5deb7be5-5bd5-4cda-9926-3be72f5cacb8",
   "metadata": {},
   "outputs": [],
   "source": [
    "import matplotlib.pyplot as plt\n",
    "import numpy as np\n",
    "from numpy.linalg import inv\n",
    "np.set_printoptions(suppress=True) # disable scientific notation for readability"
   ]
  },
  {
   "cell_type": "code",
   "execution_count": 2,
   "id": "5d7a5d27-4795-4156-9f05-fffbaaff09c4",
   "metadata": {
    "tags": []
   },
   "outputs": [],
   "source": [
    "def infinite_solution(A_n, A_c, delta, c, x_0, z, b = np.identity(3)):\n",
    "    n = len(x_0)\n",
    "    eps = np.finfo(np.float64).eps\n",
    "    I = np.identity(n)\n",
    "    O = np.zeros((n, n))\n",
    "    \n",
    "    Q = np.block([\n",
    "        [I, O], \n",
    "        [O, O]\n",
    "    ])\n",
    "    A = np.block([\n",
    "        [A_n, A_c], \n",
    "        [O, I]\n",
    "    ])\n",
    "    B = np.block([\n",
    "        [b], # identity matrix by default \n",
    "        [O]\n",
    "    ])\n",
    "    K_t = Q\n",
    "    K_sequence = [K_t]\n",
    "    \n",
    "    while True: # generate solution matrices; note I divide delta into the inverse term for simplification\n",
    "        K_t_new = Q + delta * A.T @ (K_t - K_t @ B @ inv(B.T @ K_t @ B + c * I / delta) @ B.T @ K_t) @ A\n",
    "        K_sequence.insert(0, K_t_new)\n",
    "        if np.allclose(K_t, K_t_new, rtol = eps, atol = eps): break\n",
    "        K_t = K_t_new\n",
    "\n",
    "    chi_var = np.block([\n",
    "        [x_0], \n",
    "        [z]\n",
    "    ])\n",
    "    chi_ts = [chi_var]\n",
    "    r_ts = []\n",
    "    K_ss = K_sequence[0]\n",
    "    L_ss = -inv(B.T @ K_ss @ B + c * I / delta) @ B.T @ K_ss @ A\n",
    "    \n",
    "    payoff = 0\n",
    "    stage_payoffs = []\n",
    "    discounted_stage_payoffs = []\n",
    "    cumulative_payoffs = []\n",
    "    \n",
    "    i = 0\n",
    "    while True:\n",
    "        r_t = L_ss @ chi_var\n",
    "        r_ts.append(r_t)\n",
    "        p = -(chi_var.T @ Q @ chi_var + c * r_t.T @ r_t).item()\n",
    "        payoff += delta**i * p\n",
    "        stage_payoffs.append(p)\n",
    "        discounted_stage_payoffs.append(delta**i * p)\n",
    "        cumulative_payoffs.append(payoff)\n",
    "        chi_var_new = A @ chi_var + B @ r_t\n",
    "        chi_ts.append(chi_var_new)\n",
    "        if np.allclose(chi_var, chi_var_new, rtol = eps, atol = eps): break\n",
    "        chi_var = chi_var_new\n",
    "        i += 1\n",
    "        \n",
    "    return chi_ts, r_ts, stage_payoffs, discounted_stage_payoffs, cumulative_payoffs, K_ss, L_ss"
   ]
  },
  {
   "cell_type": "markdown",
   "id": "f993b294-61ed-4409-b662-7058abbd7213",
   "metadata": {},
   "source": [
    "# A generic test:"
   ]
  },
  {
   "cell_type": "code",
   "execution_count": 3,
   "id": "1948b15f-c07e-4a9f-8446-3dc51cae3d24",
   "metadata": {},
   "outputs": [],
   "source": [
    "A_1_n = 0.99 * np.array([\n",
    "    [0.3, 0.4, 0.3],\n",
    "    [0.6, 0.2, 0.2],\n",
    "    [0.5, 0.1, 0.4]\n",
    "])\n",
    "A_1_c = np.diag([0.01, 0.01, 0.01])\n",
    "\n",
    "delta = 0.9\n",
    "c = 1.0\n",
    "x_0 = np.array([[10.0, 5.0, -20.0]], ndmin = 2).T\n",
    "z = np.array([[5.0, 5.0, 5.0]], ndmin = 2).T"
   ]
  },
  {
   "cell_type": "code",
   "execution_count": 4,
   "id": "d8d521b3-a053-4a6e-a6d5-bdd8b0e966fd",
   "metadata": {},
   "outputs": [],
   "source": [
    "chi_ts, r_ts, stage_payoffs, discounted_stage_payoffs, cumulative_payoffs, K_ss, L_ss = infinite_solution(A_1_n, A_1_c, delta, c, x_0, z)"
   ]
  },
  {
   "cell_type": "code",
   "execution_count": 5,
   "id": "d75922b3-af58-4c87-96bf-a7665242bddc",
   "metadata": {},
   "outputs": [
    {
     "name": "stdout",
     "output_type": "stream",
     "text": [
      "[[1.38616486 0.17105178 0.23321578 0.00371302 0.0044536  0.00413393]\n",
      " [0.17105178 1.11998571 0.11887399 0.00315167 0.00201313 0.00154197]\n",
      " [0.23321578 0.11887399 1.16516367 0.00293632 0.00209553 0.00321817]\n",
      " [0.00371302 0.00315167 0.00293632 0.00070065 0.00022898 0.00020687]\n",
      " [0.0044536  0.00201313 0.00209553 0.00022898 0.00055207 0.00005221]\n",
      " [0.00413393 0.00154197 0.00321817 0.00020687 0.00005221 0.0006539 ]]\n"
     ]
    }
   ],
   "source": [
    "print(K_ss)"
   ]
  },
  {
   "cell_type": "code",
   "execution_count": 6,
   "id": "5dc9d884-2264-454a-8ee6-eea9974e6199",
   "metadata": {},
   "outputs": [
    {
     "name": "stdout",
     "output_type": "stream",
     "text": [
      "[[-0.20416138 -0.22807784 -0.18698905 -0.00678598 -0.00198875 -0.00195085]\n",
      " [-0.316895   -0.11369141 -0.11730197 -0.00157713 -0.00571962 -0.00073902]\n",
      " [-0.2773602  -0.07228275 -0.21818719 -0.0015369  -0.00094037 -0.00629405]]\n"
     ]
    }
   ],
   "source": [
    "print(L_ss)"
   ]
  },
  {
   "cell_type": "code",
   "execution_count": 7,
   "id": "d9d6c344-bb54-440f-8c68-7ceeee4b61da",
   "metadata": {},
   "outputs": [
    {
     "data": {
      "text/plain": [
       "array([[-0.00103162],\n",
       "       [ 0.01107937],\n",
       "       [ 0.00755896],\n",
       "       [ 5.        ],\n",
       "       [ 5.        ],\n",
       "       [ 5.        ]])"
      ]
     },
     "execution_count": 7,
     "metadata": {},
     "output_type": "execute_result"
    }
   ],
   "source": [
    "chi_ts[-1] # terminal opinions"
   ]
  },
  {
   "cell_type": "code",
   "execution_count": 8,
   "id": "3a2e5db3-1e39-44da-ba16-fda4f7f213b3",
   "metadata": {},
   "outputs": [
    {
     "data": {
      "image/png": "[encoded data removed]",
      "text/plain": [
       "<Figure size 432x288 with 1 Axes>"
      ]
     },
     "metadata": {
      "needs_background": "light"
     },
     "output_type": "display_data"
    }
   ],
   "source": [
    "for r in range(3):\n",
    "    plt.plot(range(len(chi_ts)), [chi_t[r] for chi_t in chi_ts], label = f\"Agent {r+1}\")\n",
    "plt.title(\"Opinions\")\n",
    "plt.xlabel(\"time\")\n",
    "plt.ylabel(\"opinion\")\n",
    "plt.legend()\n",
    "plt.show()"
   ]
  },
  {
   "cell_type": "code",
   "execution_count": 9,
   "id": "80fcf8ec-086a-4831-9e6a-d13982d2912a",
   "metadata": {},
   "outputs": [
    {
     "data": {
      "text/plain": [
       "array([[-0.05735767],\n",
       "       [-0.04199823],\n",
       "       [-0.04602059]])"
      ]
     },
     "execution_count": 9,
     "metadata": {},
     "output_type": "execute_result"
    }
   ],
   "source": [
    "r_ts[-1] # terminal message"
   ]
  },
  {
   "cell_type": "code",
   "execution_count": 10,
   "id": "85d790c5-1128-42c5-a166-c1f6bbf758a0",
   "metadata": {},
   "outputs": [
    {
     "data": {
      "image/png": "[encoded data removed]",
      "text/plain": [
       "<Figure size 432x288 with 1 Axes>"
      ]
     },
     "metadata": {
      "needs_background": "light"
     },
     "output_type": "display_data"
    }
   ],
   "source": [
    "for r in range(3):\n",
    "    plt.plot(range(len(r_ts)), [r_t[r] for r_t in r_ts], label = f\"Agent {r+1}\")\n",
    "plt.title(\"Messages\")\n",
    "plt.xlabel(\"time\")\n",
    "plt.ylabel(\"message\")\n",
    "plt.legend()\n",
    "plt.show()"
   ]
  },
  {
   "cell_type": "code",
   "execution_count": 11,
   "id": "aa6ab757-49f3-4eea-94f9-0bc3ee2eb061",
   "metadata": {},
   "outputs": [
    {
     "data": {
      "image/png": "[encoded data removed]",
      "text/plain": [
       "<Figure size 432x288 with 1 Axes>"
      ]
     },
     "metadata": {
      "needs_background": "light"
     },
     "output_type": "display_data"
    }
   ],
   "source": [
    "plt.plot(range(len(stage_payoffs)), stage_payoffs)\n",
    "plt.title(\"stage payoffs\")\n",
    "plt.xlabel(\"time\")\n",
    "plt.ylabel(\"stage payoff\")\n",
    "plt.show()"
   ]
  },
  {
   "cell_type": "code",
   "execution_count": 12,
   "id": "d126ee09-2e6e-491b-865b-065e87274536",
   "metadata": {},
   "outputs": [
    {
     "data": {
      "image/png": "[encoded data removed]",
      "text/plain": [
       "<Figure size 432x288 with 1 Axes>"
      ]
     },
     "metadata": {
      "needs_background": "light"
     },
     "output_type": "display_data"
    }
   ],
   "source": [
    "plt.plot(range(len(discounted_stage_payoffs)), discounted_stage_payoffs)\n",
    "plt.title(\"discounted stage payoffs\")\n",
    "plt.xlabel(\"time\")\n",
    "plt.ylabel(\"discounted stage payoff\")\n",
    "plt.show()"
   ]
  },
  {
   "cell_type": "code",
   "execution_count": 13,
   "id": "6243903f-b553-40cf-b67a-6c90b0be713b",
   "metadata": {},
   "outputs": [
    {
     "data": {
      "image/png": "[encoded data removed]",
      "text/plain": [
       "<Figure size 432x288 with 1 Axes>"
      ]
     },
     "metadata": {
      "needs_background": "light"
     },
     "output_type": "display_data"
    }
   ],
   "source": [
    "plt.plot(range(len(cumulative_payoffs)), cumulative_payoffs)\n",
    "plt.title(\"cumulative payoff\")\n",
    "plt.xlabel(\"time\")\n",
    "plt.ylabel(\"cumulative payoff\")\n",
    "plt.show()"
   ]
  },
  {
   "cell_type": "markdown",
   "id": "fef968a9-fa61-4bee-9bcd-7cfa151da862",
   "metadata": {},
   "source": [
    "# Comparative Statics"
   ]
  },
  {
   "cell_type": "markdown",
   "id": "cc945af5-e374-4a4e-8660-fc15a9553671",
   "metadata": {},
   "source": [
    "Each test is an independent change of the defaults; no changes are reused in subsequent tests."
   ]
  },
  {
   "cell_type": "code",
   "execution_count": 14,
   "id": "6c27d585-1654-4a5c-b33b-f9f02d634cd0",
   "metadata": {},
   "outputs": [
    {
     "data": {
      "text/plain": [
       "array([[-0.00103162],\n",
       "       [ 0.01107937],\n",
       "       [ 0.00755896],\n",
       "       [ 5.        ],\n",
       "       [ 5.        ],\n",
       "       [ 5.        ]])"
      ]
     },
     "execution_count": 14,
     "metadata": {},
     "output_type": "execute_result"
    }
   ],
   "source": [
    "chi_ts[-1] # terminal opinions with above settings, benchmark for below tests"
   ]
  },
  {
   "cell_type": "markdown",
   "id": "af8dbdb5-adcc-44c2-a5f5-82c16ea428d4",
   "metadata": {},
   "source": [
    "## Decrease $\\delta$:"
   ]
  },
  {
   "cell_type": "code",
   "execution_count": 15,
   "id": "a9db8e69-acd1-47b3-ba71-b1fba668f766",
   "metadata": {},
   "outputs": [
    {
     "data": {
      "text/plain": [
       "array([[0.40973702],\n",
       "       [0.41199308],\n",
       "       [0.41127104],\n",
       "       [5.        ],\n",
       "       [5.        ],\n",
       "       [5.        ]])"
      ]
     },
     "execution_count": 15,
     "metadata": {},
     "output_type": "execute_result"
    }
   ],
   "source": [
    "delta_test = 0.1\n",
    "chi_ts_1, r_ts_1, _, _, _, K_ss_1, L_ss_1 = infinite_solution(A_1_n, A_1_c, delta_test, c, x_0, z)\n",
    "chi_ts_1[-1] # terminal opinions"
   ]
  },
  {
   "cell_type": "markdown",
   "id": "36b46a9e-ead6-4de9-9d37-f1e5cb741667",
   "metadata": {},
   "source": [
    "## Decrease $c$:"
   ]
  },
  {
   "cell_type": "code",
   "execution_count": 16,
   "id": "846fdf89-542d-46f1-a126-1143e68d2bfe",
   "metadata": {},
   "outputs": [
    {
     "data": {
      "text/plain": [
       "array([[-0.00001371],\n",
       "       [ 0.00002088],\n",
       "       [ 0.000011  ],\n",
       "       [ 5.        ],\n",
       "       [ 5.        ],\n",
       "       [ 5.        ]])"
      ]
     },
     "execution_count": 16,
     "metadata": {},
     "output_type": "execute_result"
    }
   ],
   "source": [
    "c_test = 0.001\n",
    "chi_ts_2, r_ts_2, _, _, _, K_ss_2, L_ss_2 = infinite_solution(A_1_n, A_1_c, delta, c_test, x_0, z)\n",
    "chi_ts_2[-1] # terminal opinions"
   ]
  },
  {
   "cell_type": "markdown",
   "id": "3df81041-984c-4144-b568-8ee26d6a1f72",
   "metadata": {},
   "source": [
    "## Increase $c$:"
   ]
  },
  {
   "cell_type": "code",
   "execution_count": 17,
   "id": "b65bfdf1-80f0-4348-82a9-7db318dc1cf6",
   "metadata": {},
   "outputs": [
    {
     "data": {
      "text/plain": [
       "array([[0.50871404],\n",
       "       [0.52536063],\n",
       "       [0.52041665],\n",
       "       [5.        ],\n",
       "       [5.        ],\n",
       "       [5.        ]])"
      ]
     },
     "execution_count": 17,
     "metadata": {},
     "output_type": "execute_result"
    }
   ],
   "source": [
    "c_test = 100.0\n",
    "chi_ts_3, r_ts_3, _, _, _, K_ss_3, L_ss_3 = infinite_solution(A_1_n, A_1_c, delta, c_test, x_0, z)\n",
    "chi_ts_3[-1] # terminal opinions"
   ]
  },
  {
   "cell_type": "markdown",
   "id": "5c717b3a-aaf7-4f66-8bfd-f4464b98d04e",
   "metadata": {},
   "source": [
    "## Increase bot agenda magnitude:"
   ]
  },
  {
   "cell_type": "code",
   "execution_count": 18,
   "id": "1c122366-f5f3-4315-987c-947ee8d1e1c9",
   "metadata": {},
   "outputs": [
    {
     "data": {
      "text/plain": [
       "array([[   0.02063247],\n",
       "       [  -0.22158748],\n",
       "       [  -0.15117917],\n",
       "       [-100.        ],\n",
       "       [-100.        ],\n",
       "       [-100.        ]])"
      ]
     },
     "execution_count": 18,
     "metadata": {},
     "output_type": "execute_result"
    }
   ],
   "source": [
    "z_test = np.array([[-100.0, -100.0, -100.0]], ndmin = 2).T\n",
    "chi_ts_4, r_ts_4, _, _, _, K_ss_4, L_ss_4 = infinite_solution(A_1_n, A_1_c, delta, c, x_0, z_test)\n",
    "chi_ts_4[-1] # terminal opinions"
   ]
  },
  {
   "cell_type": "markdown",
   "id": "edb54f9c-93fc-4824-a56d-9a6740bdeb05",
   "metadata": {},
   "source": [
    "## Decrease bot agenda magnitude:"
   ]
  },
  {
   "cell_type": "code",
   "execution_count": 19,
   "id": "3eb04319-9068-483c-b5cb-fc118f7f7929",
   "metadata": {},
   "outputs": [
    {
     "data": {
      "text/plain": [
       "array([[-0.00000021],\n",
       "       [ 0.00000222],\n",
       "       [ 0.00000151],\n",
       "       [ 0.001     ],\n",
       "       [ 0.001     ],\n",
       "       [ 0.001     ]])"
      ]
     },
     "execution_count": 19,
     "metadata": {},
     "output_type": "execute_result"
    }
   ],
   "source": [
    "z_test = np.array([[0.001, 0.001, 0.001]], ndmin = 2).T\n",
    "chi_ts_5, r_ts_5, _, _, _, K_ss_5, L_ss_5 = infinite_solution(A_1_n, A_1_c, delta, c, x_0, z_test)\n",
    "chi_ts_5[-1] # terminal opinions"
   ]
  },
  {
   "cell_type": "markdown",
   "id": "687cb317-4e71-46d9-b9e9-63e33d2f0dd3",
   "metadata": {},
   "source": [
    "## Increase initial opinion magnitudes:"
   ]
  },
  {
   "cell_type": "code",
   "execution_count": 20,
   "id": "2ee29c1b-be92-481e-8607-2b9b6b3923a2",
   "metadata": {},
   "outputs": [
    {
     "data": {
      "text/plain": [
       "array([[-0.00103162],\n",
       "       [ 0.01107937],\n",
       "       [ 0.00755896],\n",
       "       [ 5.        ],\n",
       "       [ 5.        ],\n",
       "       [ 5.        ]])"
      ]
     },
     "execution_count": 20,
     "metadata": {},
     "output_type": "execute_result"
    }
   ],
   "source": [
    "x_0_test = np.array([[10000, 5000, -20000]], ndmin = 2).T\n",
    "chi_ts_6, r_ts_6, _, _, _, K_ss_6, L_ss_6 = infinite_solution(A_1_n, A_1_c, delta, c, x_0_test, z)\n",
    "chi_ts_6[-1] # terminal opinions"
   ]
  },
  {
   "cell_type": "markdown",
   "id": "d0938158-19ad-4913-9632-bc40009392a2",
   "metadata": {},
   "source": [
    "## Opinions on same side:"
   ]
  },
  {
   "cell_type": "code",
   "execution_count": 21,
   "id": "8803fe0a-3520-4d24-9194-434fef0dc0da",
   "metadata": {},
   "outputs": [
    {
     "data": {
      "text/plain": [
       "array([[-0.00103162],\n",
       "       [ 0.01107937],\n",
       "       [ 0.00755896],\n",
       "       [ 5.        ],\n",
       "       [ 5.        ],\n",
       "       [ 5.        ]])"
      ]
     },
     "execution_count": 21,
     "metadata": {},
     "output_type": "execute_result"
    }
   ],
   "source": [
    "x_0_test = np.array([[100, 50, 200]], ndmin = 2).T\n",
    "chi_ts_7, r_ts_7, _, _, _, K_ss_7, L_ss_7 = infinite_solution(A_1_n, A_1_c, delta, c, x_0_test, z)\n",
    "chi_ts_7[-1] # terminal opinions"
   ]
  },
  {
   "cell_type": "markdown",
   "id": "4a658723-f357-43b6-b670-3a7fc586189f",
   "metadata": {},
   "source": [
    "## Polar opposite opinions:"
   ]
  },
  {
   "cell_type": "code",
   "execution_count": 22,
   "id": "f42ae646-0727-4e95-9fa4-06a5a273f548",
   "metadata": {},
   "outputs": [
    {
     "data": {
      "text/plain": [
       "array([[-0.00103162],\n",
       "       [ 0.01107937],\n",
       "       [ 0.00755896],\n",
       "       [ 5.        ],\n",
       "       [ 5.        ],\n",
       "       [ 5.        ]])"
      ]
     },
     "execution_count": 22,
     "metadata": {},
     "output_type": "execute_result"
    }
   ],
   "source": [
    "x_0_test = np.array([[100, 0, -100]], ndmin = 2).T\n",
    "chi_ts_8, r_ts_8, _, _, _, K_ss_8, L_ss_8 = infinite_solution(A_1_n, A_1_c, delta, c, x_0_test, z)\n",
    "chi_ts_8[-1] # terminal opinions"
   ]
  },
  {
   "cell_type": "markdown",
   "id": "c9c447a7-5d9d-4631-be5f-65f4c74b6369",
   "metadata": {},
   "source": [
    "# Test of the limit formula:"
   ]
  },
  {
   "cell_type": "markdown",
   "id": "463abb85-4e11-4522-82a7-abcd0ce4a4d3",
   "metadata": {},
   "source": [
    "$$x_{ss} = (I - A^n)^{-1} (A^c z + r_{ss})$$"
   ]
  },
  {
   "cell_type": "markdown",
   "id": "0f469426-6a57-4e63-813a-b2e035ac69d1",
   "metadata": {},
   "source": [
    "## General Test:"
   ]
  },
  {
   "cell_type": "code",
   "execution_count": 23,
   "id": "103eef26-71dd-4b92-84d9-38d09ef290b8",
   "metadata": {},
   "outputs": [
    {
     "data": {
      "text/plain": [
       "array([[-0.00103162],\n",
       "       [ 0.01107937],\n",
       "       [ 0.00755896],\n",
       "       [ 5.        ],\n",
       "       [ 5.        ],\n",
       "       [ 5.        ]])"
      ]
     },
     "execution_count": 23,
     "metadata": {},
     "output_type": "execute_result"
    }
   ],
   "source": [
    "chi_ts[-1]"
   ]
  },
  {
   "cell_type": "code",
   "execution_count": 24,
   "id": "43e96957-ce65-410b-8185-4b5a04bf1048",
   "metadata": {},
   "outputs": [
    {
     "data": {
      "text/plain": [
       "array([[-0.00103162],\n",
       "       [ 0.01107937],\n",
       "       [ 0.00755896]])"
      ]
     },
     "execution_count": 24,
     "metadata": {},
     "output_type": "execute_result"
    }
   ],
   "source": [
    "I = np.identity(3)\n",
    "inv(I - A_1_n) @ (A_1_c @ z + r_ts[-1])"
   ]
  },
  {
   "cell_type": "markdown",
   "id": "b6448280-633c-40f4-b072-85fd0c043d27",
   "metadata": {},
   "source": [
    "## Decrease $\\delta$:"
   ]
  },
  {
   "cell_type": "code",
   "execution_count": 25,
   "id": "4cc393cf-966f-44e5-8a8e-3b6ed05dfffe",
   "metadata": {},
   "outputs": [
    {
     "data": {
      "text/plain": [
       "array([[0.40973702],\n",
       "       [0.41199308],\n",
       "       [0.41127104],\n",
       "       [5.        ],\n",
       "       [5.        ],\n",
       "       [5.        ]])"
      ]
     },
     "execution_count": 25,
     "metadata": {},
     "output_type": "execute_result"
    }
   ],
   "source": [
    "chi_ts_1[-1]"
   ]
  },
  {
   "cell_type": "code",
   "execution_count": 26,
   "id": "0973862c-7c60-4a8b-ac9e-aac1af102060",
   "metadata": {},
   "outputs": [
    {
     "data": {
      "text/plain": [
       "array([[0.40973702],\n",
       "       [0.41199308],\n",
       "       [0.41127104]])"
      ]
     },
     "execution_count": 26,
     "metadata": {},
     "output_type": "execute_result"
    }
   ],
   "source": [
    "inv(I - A_1_n) @ (A_1_c @ z + r_ts_1[-1]) "
   ]
  },
  {
   "cell_type": "markdown",
   "id": "8bb6139a-81de-45fd-ad0a-2d6ac0ea7c8f",
   "metadata": {},
   "source": [
    "## Decrease $c$:"
   ]
  },
  {
   "cell_type": "code",
   "execution_count": 27,
   "id": "1d35c0e5-d268-4c49-979d-301e3b5c3922",
   "metadata": {},
   "outputs": [
    {
     "data": {
      "text/plain": [
       "array([[-0.00001371],\n",
       "       [ 0.00002088],\n",
       "       [ 0.000011  ],\n",
       "       [ 5.        ],\n",
       "       [ 5.        ],\n",
       "       [ 5.        ]])"
      ]
     },
     "execution_count": 27,
     "metadata": {},
     "output_type": "execute_result"
    }
   ],
   "source": [
    "chi_ts_2[-1]"
   ]
  },
  {
   "cell_type": "code",
   "execution_count": 28,
   "id": "3fd2f626-e29f-48f9-a4c2-3779171abc22",
   "metadata": {},
   "outputs": [
    {
     "data": {
      "text/plain": [
       "array([[-0.00001371],\n",
       "       [ 0.00002088],\n",
       "       [ 0.000011  ]])"
      ]
     },
     "execution_count": 28,
     "metadata": {},
     "output_type": "execute_result"
    }
   ],
   "source": [
    "inv(I - A_1_n) @ (A_1_c @ z + r_ts_2[-1]) "
   ]
  },
  {
   "cell_type": "markdown",
   "id": "35717db0-36c1-4ba0-a6ce-70bd04130732",
   "metadata": {},
   "source": [
    "## Increase $c$:"
   ]
  },
  {
   "cell_type": "code",
   "execution_count": 29,
   "id": "219da71f-e869-4616-aac2-be5c952450c9",
   "metadata": {},
   "outputs": [
    {
     "data": {
      "text/plain": [
       "array([[0.50871404],\n",
       "       [0.52536063],\n",
       "       [0.52041665],\n",
       "       [5.        ],\n",
       "       [5.        ],\n",
       "       [5.        ]])"
      ]
     },
     "execution_count": 29,
     "metadata": {},
     "output_type": "execute_result"
    }
   ],
   "source": [
    "chi_ts_3[-1]"
   ]
  },
  {
   "cell_type": "code",
   "execution_count": 30,
   "id": "b5d37f35-3dce-4171-9902-8bcbd843c04a",
   "metadata": {},
   "outputs": [
    {
     "data": {
      "text/plain": [
       "array([[0.50871404],\n",
       "       [0.52536063],\n",
       "       [0.52041665]])"
      ]
     },
     "execution_count": 30,
     "metadata": {},
     "output_type": "execute_result"
    }
   ],
   "source": [
    "inv(I - A_1_n) @ (A_1_c @ z + r_ts_3[-1]) "
   ]
  },
  {
   "cell_type": "markdown",
   "id": "5eb38d1f-2a20-4eae-950f-a41c454c29e4",
   "metadata": {},
   "source": [
    "## Increase bot agenda magnitude:"
   ]
  },
  {
   "cell_type": "code",
   "execution_count": 31,
   "id": "286184ea-34f7-4c22-aab6-96aa15dccb7d",
   "metadata": {},
   "outputs": [
    {
     "data": {
      "text/plain": [
       "array([[   0.02063247],\n",
       "       [  -0.22158748],\n",
       "       [  -0.15117917],\n",
       "       [-100.        ],\n",
       "       [-100.        ],\n",
       "       [-100.        ]])"
      ]
     },
     "execution_count": 31,
     "metadata": {},
     "output_type": "execute_result"
    }
   ],
   "source": [
    "chi_ts_4[-1]"
   ]
  },
  {
   "cell_type": "code",
   "execution_count": 32,
   "id": "f71e4a39-92e8-4e8c-98cd-c602362340b6",
   "metadata": {},
   "outputs": [
    {
     "data": {
      "text/plain": [
       "array([[ 0.02063247],\n",
       "       [-0.22158748],\n",
       "       [-0.15117917]])"
      ]
     },
     "execution_count": 32,
     "metadata": {},
     "output_type": "execute_result"
    }
   ],
   "source": [
    "z_test = np.array([[-100.0, -100.0, -100.0]], ndmin = 2).T\n",
    "inv(I - A_1_n) @ (A_1_c @ z_test + r_ts_4[-1]) "
   ]
  },
  {
   "cell_type": "markdown",
   "id": "4e7afcc9-13d3-480d-95e5-ad04309b0d56",
   "metadata": {},
   "source": [
    "## Decrease bot agenda magnitude:"
   ]
  },
  {
   "cell_type": "code",
   "execution_count": 33,
   "id": "62fae611-cab9-4e87-a99f-fb36512efdcb",
   "metadata": {},
   "outputs": [
    {
     "data": {
      "text/plain": [
       "array([[-0.00000021],\n",
       "       [ 0.00000222],\n",
       "       [ 0.00000151],\n",
       "       [ 0.001     ],\n",
       "       [ 0.001     ],\n",
       "       [ 0.001     ]])"
      ]
     },
     "execution_count": 33,
     "metadata": {},
     "output_type": "execute_result"
    }
   ],
   "source": [
    "chi_ts_5[-1]"
   ]
  },
  {
   "cell_type": "code",
   "execution_count": 34,
   "id": "26fbf941-fd78-4c06-9c64-a54c29d235ce",
   "metadata": {},
   "outputs": [
    {
     "data": {
      "text/plain": [
       "array([[-0.00000021],\n",
       "       [ 0.00000222],\n",
       "       [ 0.00000151]])"
      ]
     },
     "execution_count": 34,
     "metadata": {},
     "output_type": "execute_result"
    }
   ],
   "source": [
    "z_test = np.array([[0.001, 0.001, 0.001]], ndmin = 2).T\n",
    "inv(I - A_1_n) @ (A_1_c @ z_test + r_ts_5[-1]) "
   ]
  },
  {
   "cell_type": "markdown",
   "id": "e4272fcf-a085-4775-b17a-8d71ee29c500",
   "metadata": {},
   "source": [
    "## Increase initial opinion magnitudes:"
   ]
  },
  {
   "cell_type": "code",
   "execution_count": 35,
   "id": "a4024e2f-602f-4353-a1b9-638f9a5e2798",
   "metadata": {},
   "outputs": [
    {
     "data": {
      "text/plain": [
       "array([[-0.00103162],\n",
       "       [ 0.01107937],\n",
       "       [ 0.00755896],\n",
       "       [ 5.        ],\n",
       "       [ 5.        ],\n",
       "       [ 5.        ]])"
      ]
     },
     "execution_count": 35,
     "metadata": {},
     "output_type": "execute_result"
    }
   ],
   "source": [
    "chi_ts_6[-1]"
   ]
  },
  {
   "cell_type": "code",
   "execution_count": 36,
   "id": "afed011a-5ca4-49ce-b37e-665e74ca920f",
   "metadata": {},
   "outputs": [
    {
     "data": {
      "text/plain": [
       "array([[-0.00103162],\n",
       "       [ 0.01107937],\n",
       "       [ 0.00755896]])"
      ]
     },
     "execution_count": 36,
     "metadata": {},
     "output_type": "execute_result"
    }
   ],
   "source": [
    "inv(I - A_1_n) @ (A_1_c @ z + r_ts_6[-1]) "
   ]
  },
  {
   "cell_type": "markdown",
   "id": "35eb2b24-9467-4317-adf3-a5a304bb4936",
   "metadata": {},
   "source": [
    "## Opinions on same side:"
   ]
  },
  {
   "cell_type": "code",
   "execution_count": 37,
   "id": "07a3a83e-825c-497e-ae77-aa8bf316cc65",
   "metadata": {},
   "outputs": [
    {
     "data": {
      "text/plain": [
       "array([[-0.00103162],\n",
       "       [ 0.01107937],\n",
       "       [ 0.00755896],\n",
       "       [ 5.        ],\n",
       "       [ 5.        ],\n",
       "       [ 5.        ]])"
      ]
     },
     "execution_count": 37,
     "metadata": {},
     "output_type": "execute_result"
    }
   ],
   "source": [
    "chi_ts_7[-1]"
   ]
  },
  {
   "cell_type": "code",
   "execution_count": 38,
   "id": "d8f7e1ff-98bf-4b10-9fe4-4c7794652350",
   "metadata": {},
   "outputs": [
    {
     "data": {
      "text/plain": [
       "array([[-0.00103162],\n",
       "       [ 0.01107937],\n",
       "       [ 0.00755896]])"
      ]
     },
     "execution_count": 38,
     "metadata": {},
     "output_type": "execute_result"
    }
   ],
   "source": [
    "inv(I - A_1_n) @ (A_1_c @ z + r_ts_7[-1]) "
   ]
  },
  {
   "cell_type": "markdown",
   "id": "e8b2a3e9-08b1-4b03-900b-084df838ba7f",
   "metadata": {},
   "source": [
    "## Polar opposite opinions:"
   ]
  },
  {
   "cell_type": "code",
   "execution_count": 39,
   "id": "8ff97362-b156-4ae6-ac3e-790890a4865a",
   "metadata": {},
   "outputs": [
    {
     "data": {
      "text/plain": [
       "array([[-0.00103162],\n",
       "       [ 0.01107937],\n",
       "       [ 0.00755896],\n",
       "       [ 5.        ],\n",
       "       [ 5.        ],\n",
       "       [ 5.        ]])"
      ]
     },
     "execution_count": 39,
     "metadata": {},
     "output_type": "execute_result"
    }
   ],
   "source": [
    "chi_ts_8[-1]"
   ]
  },
  {
   "cell_type": "code",
   "execution_count": 40,
   "id": "5f9d83ca-7ed4-4640-ab15-9f6189fc90c8",
   "metadata": {},
   "outputs": [
    {
     "data": {
      "text/plain": [
       "array([[-0.00103162],\n",
       "       [ 0.01107937],\n",
       "       [ 0.00755896]])"
      ]
     },
     "execution_count": 40,
     "metadata": {},
     "output_type": "execute_result"
    }
   ],
   "source": [
    "inv(I - A_1_n) @ (A_1_c @ z + r_ts_8[-1]) "
   ]
  },
  {
   "cell_type": "markdown",
   "id": "4cacefc6-4696-4fc0-b800-f88d4b3071ac",
   "metadata": {},
   "source": [
    "# Some questions from before\n",
    "\n",
    "### 1. $z$ close to zero, $c$ very high:"
   ]
  },
  {
   "cell_type": "code",
   "execution_count": 41,
   "id": "3f5d4b8d-dc44-441e-8b65-97b81520d679",
   "metadata": {},
   "outputs": [
    {
     "data": {
      "text/plain": [
       "array([[0.0009202 ],\n",
       "       [0.0009205 ],\n",
       "       [0.00092041],\n",
       "       [0.001     ],\n",
       "       [0.001     ],\n",
       "       [0.001     ]])"
      ]
     },
     "execution_count": 41,
     "metadata": {},
     "output_type": "execute_result"
    }
   ],
   "source": [
    "z_test = np.array([[0.001, 0.001, 0.001]], ndmin = 2).T\n",
    "c_test = 10000.0\n",
    "chi_ts_9, r_ts_9, _, _, _, K_ss_9, L_ss_9 = infinite_solution(A_1_n, A_1_c, delta, c_test, x_0, z_test)\n",
    "chi_ts_9[-1] # terminal opinions"
   ]
  },
  {
   "cell_type": "code",
   "execution_count": 42,
   "id": "e8300327-51ef-46cc-9e9d-5c4e9f0bd0e0",
   "metadata": {},
   "outputs": [
    {
     "data": {
      "text/plain": [
       "array([[0.001],\n",
       "       [0.001],\n",
       "       [0.001],\n",
       "       [0.001],\n",
       "       [0.001],\n",
       "       [0.001]])"
      ]
     },
     "execution_count": 42,
     "metadata": {},
     "output_type": "execute_result"
    }
   ],
   "source": [
    "z_test = np.array([[0.001, 0.001, 0.001]], ndmin = 2).T\n",
    "c_test = 100000000000.0\n",
    "chi_ts_10, r_ts_10, _, _, _, K_ss_10, L_ss_10 = infinite_solution(A_1_n, A_1_c, delta, c_test, x_0, z_test)\n",
    "chi_ts_10[-1] # terminal opinions"
   ]
  },
  {
   "cell_type": "markdown",
   "id": "58fdeaa3-6800-47a0-9a64-5c615a60146c",
   "metadata": {},
   "source": [
    "### 2. Presence of bot vs no presence of bot if bot is a supporter of agent s' agenda:"
   ]
  },
  {
   "cell_type": "code",
   "execution_count": 43,
   "id": "ae14d346-db6b-401f-b415-dd9fa19edba5",
   "metadata": {},
   "outputs": [
    {
     "data": {
      "text/plain": [
       "array([[-0.],\n",
       "       [-0.],\n",
       "       [-0.],\n",
       "       [ 0.],\n",
       "       [ 0.],\n",
       "       [ 0.]])"
      ]
     },
     "execution_count": 43,
     "metadata": {},
     "output_type": "execute_result"
    }
   ],
   "source": [
    "z_test = np.array([[0, 0, 0]], ndmin = 2).T # bot present but zero\n",
    "chi_ts_11, r_ts_11, _, _, cumulative_payoffs_11, K_ss_11, L_ss_11 = infinite_solution(A_1_n, A_1_c, delta, c, x_0, z_test)\n",
    "chi_ts_11[-1] # terminal opinions"
   ]
  },
  {
   "cell_type": "code",
   "execution_count": 44,
   "id": "9f9791c9-cbc8-4ddf-a073-d599ace8f446",
   "metadata": {},
   "outputs": [
    {
     "data": {
      "text/plain": [
       "-532.7256641192713"
      ]
     },
     "execution_count": 44,
     "metadata": {},
     "output_type": "execute_result"
    }
   ],
   "source": [
    "cumulative_payoffs_11[-1] # total payoff"
   ]
  },
  {
   "cell_type": "code",
   "execution_count": 45,
   "id": "2375fc9d-2dab-41d0-b3be-df98d9903c58",
   "metadata": {},
   "outputs": [
    {
     "data": {
      "text/plain": [
       "41"
      ]
     },
     "execution_count": 45,
     "metadata": {},
     "output_type": "execute_result"
    }
   ],
   "source": [
    "len(chi_ts_11) # time to convergence"
   ]
  },
  {
   "cell_type": "code",
   "execution_count": 46,
   "id": "edbd82ff-09c4-4925-a5e6-d77b670b5d83",
   "metadata": {},
   "outputs": [
    {
     "data": {
      "text/plain": [
       "array([[-0.],\n",
       "       [-0.],\n",
       "       [-0.],\n",
       "       [ 0.],\n",
       "       [ 0.],\n",
       "       [ 0.]])"
      ]
     },
     "execution_count": 46,
     "metadata": {},
     "output_type": "execute_result"
    }
   ],
   "source": [
    "A_1_n_no_bot = np.array([\n",
    "    [0.3, 0.4, 0.3],\n",
    "    [0.6, 0.2, 0.2],\n",
    "    [0.5, 0.1, 0.4]\n",
    "])\n",
    "\n",
    "A_1_c_no_bot = np.zeros((3, 3))\n",
    "\n",
    "chi_ts_12, r_ts_12, _, _, cumulative_payoffs_12, K_ss_12, L_ss_12 = infinite_solution(A_1_n_no_bot, A_1_c_no_bot, delta, c, x_0, z_test)\n",
    "chi_ts_12[-1] # terminal opinions"
   ]
  },
  {
   "cell_type": "code",
   "execution_count": 47,
   "id": "ba68aa90-2bc2-4ef7-abdc-0c2901c8fae2",
   "metadata": {},
   "outputs": [
    {
     "data": {
      "text/plain": [
       "-532.8859940230775"
      ]
     },
     "execution_count": 47,
     "metadata": {},
     "output_type": "execute_result"
    }
   ],
   "source": [
    "cumulative_payoffs_12[-1] # total payoff"
   ]
  },
  {
   "cell_type": "code",
   "execution_count": 48,
   "id": "e1e6b01a-c266-423d-b74b-1f34164ea0ba",
   "metadata": {},
   "outputs": [
    {
     "data": {
      "text/plain": [
       "41"
      ]
     },
     "execution_count": 48,
     "metadata": {},
     "output_type": "execute_result"
    }
   ],
   "source": [
    "len(chi_ts_12) # time to convergence"
   ]
  },
  {
   "cell_type": "code",
   "execution_count": 49,
   "id": "bf2c68c1-77cb-4a19-abfb-aeb855e21cf0",
   "metadata": {},
   "outputs": [
    {
     "data": {
      "image/png": "[encoded data removed]",
      "text/plain": [
       "<Figure size 432x288 with 1 Axes>"
      ]
     },
     "metadata": {
      "needs_background": "light"
     },
     "output_type": "display_data"
    }
   ],
   "source": [
    "for r in range(3):\n",
    "    plt.plot(range(3), [r_t[r] for r_t in r_ts_11[:3]], label = f\"Agent {r+1}, bot-augmented\")\n",
    "    plt.plot(range(3), [r_t[r] for r_t in r_ts_12[:3]], label = f\"Agent {r+1}, no bot\")\n",
    "plt.title(\"Messages\")\n",
    "plt.xlabel(\"time\")\n",
    "plt.ylabel(\"message\")\n",
    "plt.legend()\n",
    "plt.show()"
   ]
  },
  {
   "cell_type": "markdown",
   "id": "4a52c12a-912b-45ae-9189-f2449a1ebd3a",
   "metadata": {},
   "source": [
    "The difference is extremely subtle, but there is a difference."
   ]
  },
  {
   "cell_type": "code",
   "execution_count": 50,
   "id": "5ec37cb5-4dae-4a13-a1dd-811a368b5b49",
   "metadata": {},
   "outputs": [
    {
     "data": {
      "text/plain": [
       "array([[ 0.55777801],\n",
       "       [-1.39136764],\n",
       "       [ 1.22872808]])"
      ]
     },
     "execution_count": 50,
     "metadata": {},
     "output_type": "execute_result"
    }
   ],
   "source": [
    "r_ts_11[0] # with bot, first period"
   ]
  },
  {
   "cell_type": "code",
   "execution_count": 51,
   "id": "fd4ec72c-1663-4570-886d-46c63f28edb1",
   "metadata": {},
   "outputs": [
    {
     "data": {
      "text/plain": [
       "array([[ 0.56500695],\n",
       "       [-1.40519451],\n",
       "       [ 1.24216142]])"
      ]
     },
     "execution_count": 51,
     "metadata": {},
     "output_type": "execute_result"
    }
   ],
   "source": [
    "r_ts_12[0] # without bot, first period"
   ]
  },
  {
   "cell_type": "markdown",
   "id": "ab258b99-b06f-4024-9b54-d97d53aa9a81",
   "metadata": {},
   "source": [
    "With the bot, the messages are less intensive."
   ]
  },
  {
   "cell_type": "code",
   "execution_count": 52,
   "id": "3a229b91-7495-4117-b1f9-a4a2ad436b61",
   "metadata": {},
   "outputs": [
    {
     "data": {
      "image/png": "[encoded data removed]",
      "text/plain": [
       "<Figure size 432x288 with 1 Axes>"
      ]
     },
     "metadata": {
      "needs_background": "light"
     },
     "output_type": "display_data"
    }
   ],
   "source": [
    "for r in range(3):\n",
    "    plt.plot(range(5), [chi_t[r] for chi_t in chi_ts_11[:5]], label = f\"Agent {r+1}, bot-augmented\")\n",
    "    plt.plot(range(5), [chi_t[r] for chi_t in chi_ts_12[:5]], label = f\"Agent {r+1}, no bot\")\n",
    "plt.title(\"Opinions\")\n",
    "plt.xlabel(\"time\")\n",
    "plt.ylabel(\"opinion\")\n",
    "plt.legend()\n",
    "plt.show()"
   ]
  },
  {
   "cell_type": "code",
   "execution_count": 53,
   "id": "d4424431-3599-4833-bb15-9ba47df78183",
   "metadata": {},
   "outputs": [
    {
     "data": {
      "text/plain": [
       "array([[-0.43222199],\n",
       "       [ 1.57863236],\n",
       "       [-1.24627192],\n",
       "       [ 0.        ],\n",
       "       [ 0.        ],\n",
       "       [ 0.        ]])"
      ]
     },
     "execution_count": 53,
     "metadata": {},
     "output_type": "execute_result"
    }
   ],
   "source": [
    "chi_ts_11[1] # bot-augmented second period"
   ]
  },
  {
   "cell_type": "code",
   "execution_count": 54,
   "id": "b3405c16-f334-4bd7-8bc4-00db1f0ef8c9",
   "metadata": {},
   "outputs": [
    {
     "data": {
      "text/plain": [
       "array([[-0.43499305],\n",
       "       [ 1.59480549],\n",
       "       [-1.25783858],\n",
       "       [ 0.        ],\n",
       "       [ 0.        ],\n",
       "       [ 0.        ]])"
      ]
     },
     "execution_count": 54,
     "metadata": {},
     "output_type": "execute_result"
    }
   ],
   "source": [
    "chi_ts_12[1] # no bot second period"
   ]
  },
  {
   "cell_type": "markdown",
   "id": "9ff7307f-ba85-4944-b518-2beda782b925",
   "metadata": {},
   "source": [
    "Again, very subtle difference but there is a difference."
   ]
  },
  {
   "cell_type": "markdown",
   "id": "324fbc59-7af9-49e5-915f-8e3efc58dfb8",
   "metadata": {},
   "source": [
    "### 3. Inside vs outside intervention"
   ]
  },
  {
   "cell_type": "code",
   "execution_count": 55,
   "id": "1256c692-597a-41bc-aab6-e51d595d539f",
   "metadata": {},
   "outputs": [
    {
     "data": {
      "text/plain": [
       "array([[-0.],\n",
       "       [-0.],\n",
       "       [-0.],\n",
       "       [ 0.],\n",
       "       [ 0.],\n",
       "       [ 0.]])"
      ]
     },
     "execution_count": 55,
     "metadata": {},
     "output_type": "execute_result"
    }
   ],
   "source": [
    "# no bot, outside intervention is covered by case 12 above\n",
    "chi_ts_13, r_ts_13, _, _, cumulative_payoffs_13, K_ss_13, L_ss_13 = infinite_solution(A_1_n, A_1_c_no_bot, delta, c, x_0, z_test, b = 0.01 * I)\n",
    "chi_ts_13[-1] # terminal opinions"
   ]
  },
  {
   "cell_type": "code",
   "execution_count": 56,
   "id": "f0035e34-3869-46ba-bc50-9933c2af7e50",
   "metadata": {},
   "outputs": [
    {
     "data": {
      "text/plain": [
       "-532.8859940230775"
      ]
     },
     "execution_count": 56,
     "metadata": {},
     "output_type": "execute_result"
    }
   ],
   "source": [
    "cumulative_payoffs_12[-1] # total payoff, outside"
   ]
  },
  {
   "cell_type": "code",
   "execution_count": 57,
   "id": "e2c59184-4ef9-4267-b319-6834fe9c9098",
   "metadata": {},
   "outputs": [
    {
     "data": {
      "text/plain": [
       "-543.843947980425"
      ]
     },
     "execution_count": 57,
     "metadata": {},
     "output_type": "execute_result"
    }
   ],
   "source": [
    "cumulative_payoffs_13[-1] # total payoff, inside"
   ]
  },
  {
   "cell_type": "code",
   "execution_count": 58,
   "id": "fdf5734b-e64f-46ce-b4b1-608147bac749",
   "metadata": {},
   "outputs": [
    {
     "data": {
      "text/plain": [
       "41"
      ]
     },
     "execution_count": 58,
     "metadata": {},
     "output_type": "execute_result"
    }
   ],
   "source": [
    "len(chi_ts_12) # periods, outside"
   ]
  },
  {
   "cell_type": "code",
   "execution_count": 59,
   "id": "2cf50ad3-44c3-40e0-bc69-5731c954e416",
   "metadata": {},
   "outputs": [
    {
     "data": {
      "text/plain": [
       "2830"
      ]
     },
     "execution_count": 59,
     "metadata": {},
     "output_type": "execute_result"
    }
   ],
   "source": [
    "len(chi_ts_13) # periods, inside"
   ]
  },
  {
   "cell_type": "markdown",
   "id": "e43fa1c0-9a3d-412e-a907-ee6ee3104bc6",
   "metadata": {},
   "source": [
    "### 4. choice of target: high info consumption agent or low info consumption agent"
   ]
  },
  {
   "cell_type": "code",
   "execution_count": 60,
   "id": "742f021a-063b-4750-a529-12f8110972dc",
   "metadata": {},
   "outputs": [],
   "source": [
    "A_2_n = np.array([\n",
    "    [0.195, 0.8, 0.005], # one who listens primarily to someone\n",
    "    [1/3, 1/3, 1/3], # one who listens to all\n",
    "    [0.005, 0.005, 0.99] # one who listens to almost nobody\n",
    "])"
   ]
  },
  {
   "cell_type": "code",
   "execution_count": 61,
   "id": "86bbd7dc-1171-4b75-a6d6-8af646a1a9f2",
   "metadata": {},
   "outputs": [
    {
     "data": {
      "text/plain": [
       "array([[ 0.],\n",
       "       [-0.],\n",
       "       [-0.],\n",
       "       [ 0.],\n",
       "       [ 0.],\n",
       "       [ 0.]])"
      ]
     },
     "execution_count": 61,
     "metadata": {},
     "output_type": "execute_result"
    }
   ],
   "source": [
    "# case 1: target specific-follower agent (using the no-bot code from earlier)\n",
    "b_2 = np.array([\n",
    "    [1.0, 0.0, 0.0], # target agent 1\n",
    "    [0.0, 0.0, 0.0],\n",
    "    [0.0, 0.0, 0.0],\n",
    "])\n",
    "chi_ts_14, r_ts_14, _, _, cumulative_payoffs_14, K_ss_14, L_ss_14 = infinite_solution(A_2_n, A_1_c_no_bot, delta, c, x_0, z_test, b = b_2)\n",
    "chi_ts_14[-1] # terminal opinions"
   ]
  },
  {
   "cell_type": "code",
   "execution_count": 62,
   "id": "1532ecad-c127-477b-9176-74fbe37971d8",
   "metadata": {},
   "outputs": [
    {
     "data": {
      "text/plain": [
       "-4584.144637674463"
      ]
     },
     "execution_count": 62,
     "metadata": {},
     "output_type": "execute_result"
    }
   ],
   "source": [
    "cumulative_payoffs_14[-1]"
   ]
  },
  {
   "cell_type": "code",
   "execution_count": 63,
   "id": "8e23a17f-43a2-4665-9e84-accea635fb26",
   "metadata": {},
   "outputs": [
    {
     "data": {
      "text/plain": [
       "4404"
      ]
     },
     "execution_count": 63,
     "metadata": {},
     "output_type": "execute_result"
    }
   ],
   "source": [
    "len(chi_ts_14)"
   ]
  },
  {
   "cell_type": "code",
   "execution_count": 64,
   "id": "d1e421e1-e487-4f2b-beb6-74a7e0dc2be6",
   "metadata": {},
   "outputs": [
    {
     "data": {
      "text/plain": [
       "array([[-0.],\n",
       "       [-0.],\n",
       "       [-0.],\n",
       "       [ 0.],\n",
       "       [ 0.],\n",
       "       [ 0.]])"
      ]
     },
     "execution_count": 64,
     "metadata": {},
     "output_type": "execute_result"
    }
   ],
   "source": [
    "# case 2: target general-follower agent\n",
    "b_3 = np.array([\n",
    "    [0.0, 0.0, 0.0], \n",
    "    [0.0, 1.0, 0.0], # target agent 2\n",
    "    [0.0, 0.0, 0.0],\n",
    "])\n",
    "chi_ts_15, r_ts_15, _, _, cumulative_payoffs_15, K_ss_15, L_ss_15 = infinite_solution(A_2_n, A_1_c_no_bot, delta, c, x_0, z_test, b = b_3)\n",
    "chi_ts_15[-1] # terminal opinions"
   ]
  },
  {
   "cell_type": "code",
   "execution_count": 65,
   "id": "44766f89-7d5c-4daf-b529-391122ade0a0",
   "metadata": {},
   "outputs": [
    {
     "data": {
      "text/plain": [
       "-3820.4570411659115"
      ]
     },
     "execution_count": 65,
     "metadata": {},
     "output_type": "execute_result"
    }
   ],
   "source": [
    "cumulative_payoffs_15[-1]"
   ]
  },
  {
   "cell_type": "code",
   "execution_count": 66,
   "id": "b84dfd70-df5f-45e8-94da-b478fb2635de",
   "metadata": {},
   "outputs": [
    {
     "data": {
      "text/plain": [
       "3584"
      ]
     },
     "execution_count": 66,
     "metadata": {},
     "output_type": "execute_result"
    }
   ],
   "source": [
    "len(chi_ts_15)"
   ]
  },
  {
   "cell_type": "code",
   "execution_count": 67,
   "id": "ebfde57d-8e70-443d-baca-ce93846d61b8",
   "metadata": {},
   "outputs": [
    {
     "data": {
      "text/plain": [
       "array([[-0.],\n",
       "       [-0.],\n",
       "       [ 0.],\n",
       "       [ 0.],\n",
       "       [ 0.],\n",
       "       [ 0.]])"
      ]
     },
     "execution_count": 67,
     "metadata": {},
     "output_type": "execute_result"
    }
   ],
   "source": [
    "# case 3: target stubborn agent\n",
    "b_4 = np.array([\n",
    "    [0.0, 0.0, 0.0], \n",
    "    [0.0, 0.0, 0.0], \n",
    "    [0.0, 0.0, 1.0], # target agent 3\n",
    "])\n",
    "chi_ts_16, r_ts_16, _, _, cumulative_payoffs_16, K_ss_16, L_ss_16 = infinite_solution(A_2_n, A_1_c_no_bot, delta, c, x_0, z_test, b = b_4)\n",
    "chi_ts_16[-1] # terminal opinions"
   ]
  },
  {
   "cell_type": "code",
   "execution_count": 68,
   "id": "06ac07ca-91a6-4e68-99b7-efd182d6f477",
   "metadata": {},
   "outputs": [
    {
     "data": {
      "text/plain": [
       "-794.6733914543892"
      ]
     },
     "execution_count": 68,
     "metadata": {},
     "output_type": "execute_result"
    }
   ],
   "source": [
    "cumulative_payoffs_16[-1]"
   ]
  },
  {
   "cell_type": "code",
   "execution_count": 69,
   "id": "20849f26-78cc-4019-b8d9-12a2ac0c743f",
   "metadata": {},
   "outputs": [
    {
     "data": {
      "text/plain": [
       "94"
      ]
     },
     "execution_count": 69,
     "metadata": {},
     "output_type": "execute_result"
    }
   ],
   "source": [
    "len(chi_ts_16)"
   ]
  },
  {
   "cell_type": "markdown",
   "id": "17bf4bb8-9d3f-42a7-8c20-bf42367bf0cb",
   "metadata": {},
   "source": [
    "### 5. choice of target when bot is involved"
   ]
  },
  {
   "cell_type": "code",
   "execution_count": 70,
   "id": "2218bcb2-a3fc-4b6c-ab6c-b807f58b8365",
   "metadata": {},
   "outputs": [
    {
     "name": "stdout",
     "output_type": "stream",
     "text": [
      "[[0.00333333 0.00333333 0.00333333 0.99       0.         0.        ]\n",
      " [0.25       0.25       0.25       0.         0.25       0.        ]\n",
      " [0.00333333 0.00333333 0.99       0.         0.         0.00333333]]\n"
     ]
    }
   ],
   "source": [
    "A_3_n = np.array([\n",
    "    [0.01/3, 0.01/3, 0.01/3], # one who listens primarily to the bot\n",
    "    [1/4, 1/4, 1/4], # one who listens to all\n",
    "    [0.01/3, 0.01/3, 0.99] # one who listens to almost nobody\n",
    "])\n",
    "\n",
    "A_3_c = np.diag([0.99, 1/4, 0.01/3])\n",
    "\n",
    "print(np.block([A_3_n, A_3_c]))"
   ]
  },
  {
   "cell_type": "code",
   "execution_count": 71,
   "id": "957d3d5a-605c-495e-a55c-e87550f60932",
   "metadata": {},
   "outputs": [
    {
     "data": {
      "text/plain": [
       "array([[2.05293444],\n",
       "       [3.52646722],\n",
       "       [3.52646722],\n",
       "       [5.        ],\n",
       "       [5.        ],\n",
       "       [5.        ]])"
      ]
     },
     "execution_count": 71,
     "metadata": {},
     "output_type": "execute_result"
    }
   ],
   "source": [
    "# case 1: target specific-follower agent (we can reuse the targeting matrices b)\n",
    "chi_ts_17, r_ts_17, _, _, cumulative_payoffs_17, K_ss_17, L_ss_17 = infinite_solution(A_3_n, A_3_c, delta, c, x_0, z, b = b_2)\n",
    "chi_ts_17[-1] # terminal opinions"
   ]
  },
  {
   "cell_type": "code",
   "execution_count": 72,
   "id": "fad41f10-91df-4b82-8fe0-dd47849ac53e",
   "metadata": {},
   "outputs": [
    {
     "data": {
      "text/plain": [
       "-3656.718521053866"
      ]
     },
     "execution_count": 72,
     "metadata": {},
     "output_type": "execute_result"
    }
   ],
   "source": [
    "cumulative_payoffs_17[-1]"
   ]
  },
  {
   "cell_type": "code",
   "execution_count": 73,
   "id": "ce597114-088e-4bb9-a57f-e750f5ce8900",
   "metadata": {},
   "outputs": [
    {
     "data": {
      "text/plain": [
       "3596"
      ]
     },
     "execution_count": 73,
     "metadata": {},
     "output_type": "execute_result"
    }
   ],
   "source": [
    "len(chi_ts_17)"
   ]
  },
  {
   "cell_type": "code",
   "execution_count": 74,
   "id": "eaa6661b-fc46-4d38-97f3-0b6103442f10",
   "metadata": {},
   "outputs": [
    {
     "data": {
      "text/plain": [
       "array([[4.98541059],\n",
       "       [1.73197173],\n",
       "       [3.90579411],\n",
       "       [5.        ],\n",
       "       [5.        ],\n",
       "       [5.        ]])"
      ]
     },
     "execution_count": 74,
     "metadata": {},
     "output_type": "execute_result"
    }
   ],
   "source": [
    "# case 2: target generic-follower agent\n",
    "chi_ts_18, r_ts_18, _, _, cumulative_payoffs_18, K_ss_18, L_ss_18 = infinite_solution(A_3_n, A_3_c, delta, c, x_0, z, b = b_3)\n",
    "chi_ts_18[-1] # terminal opinions"
   ]
  },
  {
   "cell_type": "code",
   "execution_count": 75,
   "id": "a2f072f0-9292-4fbd-b2f4-7f344cdee5fc",
   "metadata": {},
   "outputs": [
    {
     "data": {
      "text/plain": [
       "-3662.5277659337353"
      ]
     },
     "execution_count": 75,
     "metadata": {},
     "output_type": "execute_result"
    }
   ],
   "source": [
    "cumulative_payoffs_18[-1]"
   ]
  },
  {
   "cell_type": "code",
   "execution_count": 76,
   "id": "0ebb42bc-09ff-4ade-9fff-3a55716c5d5e",
   "metadata": {},
   "outputs": [
    {
     "data": {
      "text/plain": [
       "3431"
      ]
     },
     "execution_count": 76,
     "metadata": {},
     "output_type": "execute_result"
    }
   ],
   "source": [
    "len(chi_ts_18)"
   ]
  },
  {
   "cell_type": "code",
   "execution_count": 77,
   "id": "e2595e9a-795a-440a-ab80-7ef819a4dc95",
   "metadata": {},
   "outputs": [
    {
     "data": {
      "text/plain": [
       "array([[ 4.97368286],\n",
       "       [ 3.02621439],\n",
       "       [-0.89503969],\n",
       "       [ 5.        ],\n",
       "       [ 5.        ],\n",
       "       [ 5.        ]])"
      ]
     },
     "execution_count": 77,
     "metadata": {},
     "output_type": "execute_result"
    }
   ],
   "source": [
    "# case 3: target stubborn agent\n",
    "chi_ts_19, r_ts_19, _, _, cumulative_payoffs_19, K_ss_19, L_ss_19 = infinite_solution(A_3_n, A_3_c, delta, c, x_0, z, b = b_4)\n",
    "chi_ts_19[-1] # terminal opinions"
   ]
  },
  {
   "cell_type": "code",
   "execution_count": 78,
   "id": "4405fd51-3a6d-4d0e-bf1e-fb5cfca54151",
   "metadata": {},
   "outputs": [
    {
     "data": {
      "text/plain": [
       "-1034.1596859508961"
      ]
     },
     "execution_count": 78,
     "metadata": {},
     "output_type": "execute_result"
    }
   ],
   "source": [
    "cumulative_payoffs_19[-1]"
   ]
  },
  {
   "cell_type": "code",
   "execution_count": 79,
   "id": "d6657c38-1118-4eb2-ae5e-077891599d22",
   "metadata": {},
   "outputs": [
    {
     "data": {
      "text/plain": [
       "42"
      ]
     },
     "execution_count": 79,
     "metadata": {},
     "output_type": "execute_result"
    }
   ],
   "source": [
    "len(chi_ts_19)"
   ]
  }
 ],
 "metadata": {
  "kernelspec": {
   "display_name": "Python 3",
   "language": "python",
   "name": "python3"
  },
  "language_info": {
   "codemirror_mode": {
    "name": "ipython",
    "version": 3
   },
   "file_extension": ".py",
   "mimetype": "text/x-python",
   "name": "python",
   "nbconvert_exporter": "python",
   "pygments_lexer": "ipython3",
   "version": "3.8.8"
  },
  "widgets": {
   "application/vnd.jupyter.widget-state+json": {
    "state": {},
    "version_major": 2,
    "version_minor": 0
   }
  }
 },
 "nbformat": 4,
 "nbformat_minor": 5
}
