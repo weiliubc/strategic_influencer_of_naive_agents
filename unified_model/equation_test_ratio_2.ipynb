{
 "cells": [
  {
   "cell_type": "markdown",
   "id": "f9dcada3-4c33-4997-813e-aabd5697fd4d",
   "metadata": {},
   "source": [
    "# Alternate version of convergence rate test: $\\lambda_j / K_j$\n",
    "\n",
    "James Yu, 24 July 2022"
   ]
  },
  {
   "cell_type": "code",
   "execution_count": 1,
   "id": "c9477502-87c4-4580-b7dc-84e79ef9ef40",
   "metadata": {
    "tags": []
   },
   "outputs": [],
   "source": [
    "import matplotlib.pyplot as plt\n",
    "import numpy as np\n",
    "from sympy import *"
   ]
  },
  {
   "cell_type": "code",
   "execution_count": 2,
   "id": "4a80358b-ea46-4d2f-86e5-dff127b0aeca",
   "metadata": {},
   "outputs": [],
   "source": [
    "def ratio(delta, c, lambda_j):\n",
    "    K_j_star = ((delta + delta*c*lambda_j**2 - c) + sqrt((c-delta-delta*c*lambda_j**2)**2 + 4*delta*c)) / (2 * delta)\n",
    "    return lambda_j / K_j_star"
   ]
  },
  {
   "cell_type": "code",
   "execution_count": 3,
   "id": "e5de4e8f-3fe9-4e07-8430-d5be3aaa7314",
   "metadata": {},
   "outputs": [
    {
     "data": {
      "image/png": "[encoded data removed]",
      "text/plain": [
       "<Figure size 432x288 with 1 Axes>"
      ]
     },
     "metadata": {
      "needs_background": "light"
     },
     "output_type": "display_data"
    }
   ],
   "source": [
    "linsp = np.linspace(-1, 1, 100)\n",
    "\n",
    "plt.scatter(linsp, [ratio(1, 0.1, lambda_j) for lambda_j in linsp], label = \"delta = 1, c = 0.1\", s = 2)\n",
    "plt.scatter(linsp, [ratio(1, 1, lambda_j) for lambda_j in linsp], label = \"delta = 1, c = 1\", s = 2)\n",
    "plt.scatter(linsp, [ratio(1, 100, lambda_j) for lambda_j in linsp], label = \"delta = 1, c = 100\", s = 2)\n",
    "\n",
    "plt.scatter(linsp, [ratio(0.5, 0.1, lambda_j) for lambda_j in linsp], label = \"delta = 0.5, c = 0.1\", s = 2)\n",
    "plt.scatter(linsp, [ratio(0.5, 1, lambda_j) for lambda_j in linsp], label = \"delta = 0.5, c = 1\", s = 2)\n",
    "plt.scatter(linsp, [ratio(0.5, 100, lambda_j) for lambda_j in linsp], label = \"delta = 0.5, c = 100\", s = 2)\n",
    "\n",
    "plt.scatter(linsp, [ratio(0.1, 0.1, lambda_j) for lambda_j in linsp], label = \"delta = 0.1, c = 0.1\", s = 2)\n",
    "plt.scatter(linsp, [ratio(0.1, 1, lambda_j) for lambda_j in linsp], label = \"delta = 0.1, c = 1\", s = 2)\n",
    "plt.scatter(linsp, [ratio(0.1, 100, lambda_j) for lambda_j in linsp], label = \"delta = 0.1, c = 100\", s = 2)\n",
    "plt.legend(framealpha = 0.01)\n",
    "plt.xlabel(\"$\\lambda_j$\")\n",
    "plt.ylabel(\"ratio\")\n",
    "plt.show()"
   ]
  },
  {
   "cell_type": "markdown",
   "id": "fced36e3-5971-4cf2-9250-cd88593f552f",
   "metadata": {},
   "source": [
    "The function does not appear to be increasing everywhere, which is what we would need."
   ]
  },
  {
   "cell_type": "code",
   "execution_count": 4,
   "id": "1a0460a1-c0df-4aca-bcd2-ffd8d47ba386",
   "metadata": {
    "tags": []
   },
   "outputs": [
    {
     "data": {
      "text/latex": [
       "$\\displaystyle \\frac{2 \\delta \\lambda_{j}}{c \\delta \\lambda_{j}^{2} - c + \\delta + \\sqrt{4 c \\delta + \\left(- c \\delta \\lambda_{j}^{2} + c - \\delta\\right)^{2}}}$"
      ],
      "text/plain": [
       "2*delta*lambda_j/(c*delta*lambda_j**2 - c + delta + sqrt(4*c*delta + (-c*delta*lambda_j**2 + c - delta)**2))"
      ]
     },
     "execution_count": 4,
     "metadata": {},
     "output_type": "execute_result"
    }
   ],
   "source": [
    "delta, c, lambda_j = symbols(\"delta c lambda_j\")\n",
    "rho = ratio(delta, c, lambda_j)\n",
    "rho"
   ]
  },
  {
   "cell_type": "code",
   "execution_count": 5,
   "id": "4d369885-434a-4a16-b8b1-cbe911081bd5",
   "metadata": {
    "tags": []
   },
   "outputs": [
    {
     "data": {
      "text/latex": [
       "$\\displaystyle \\frac{2 \\delta \\left(- 2 c \\delta \\lambda_{j}^{2} + \\sqrt{4 c \\delta + \\left(c \\delta \\lambda_{j}^{2} - c + \\delta\\right)^{2}}\\right)}{\\sqrt{4 c \\delta + \\left(c \\delta \\lambda_{j}^{2} - c + \\delta\\right)^{2}} \\left(c \\delta \\lambda_{j}^{2} - c + \\delta + \\sqrt{4 c \\delta + \\left(c \\delta \\lambda_{j}^{2} - c + \\delta\\right)^{2}}\\right)}$"
      ],
      "text/plain": [
       "2*delta*(-2*c*delta*lambda_j**2 + sqrt(4*c*delta + (c*delta*lambda_j**2 - c + delta)**2))/(sqrt(4*c*delta + (c*delta*lambda_j**2 - c + delta)**2)*(c*delta*lambda_j**2 - c + delta + sqrt(4*c*delta + (c*delta*lambda_j**2 - c + delta)**2)))"
      ]
     },
     "execution_count": 5,
     "metadata": {},
     "output_type": "execute_result"
    }
   ],
   "source": [
    "deriv = simplify(diff(rho, lambda_j))\n",
    "deriv"
   ]
  },
  {
   "cell_type": "markdown",
   "id": "5ee6b279-2403-4b49-9a43-891b3a6296a3",
   "metadata": {},
   "source": [
    "Consider the edge case of the plot where we observe the function to be decreasing:"
   ]
  },
  {
   "cell_type": "code",
   "execution_count": 6,
   "id": "10f64156-4a3b-46dc-a6fe-674484a9957d",
   "metadata": {},
   "outputs": [
    {
     "data": {
      "text/latex": [
       "$\\displaystyle \\frac{2 \\left(- 2 c + \\sqrt{4 c + 1}\\right)}{\\sqrt{4 c + 1} \\left(\\sqrt{4 c + 1} + 1\\right)}$"
      ],
      "text/plain": [
       "2*(-2*c + sqrt(4*c + 1))/(sqrt(4*c + 1)*(sqrt(4*c + 1) + 1))"
      ]
     },
     "execution_count": 6,
     "metadata": {},
     "output_type": "execute_result"
    }
   ],
   "source": [
    "deriv.subs(delta, 1).subs(lambda_j, 1)"
   ]
  },
  {
   "cell_type": "code",
   "execution_count": 7,
   "id": "ee87ef7f-df21-4b3a-b1ba-48db2e9863fe",
   "metadata": {},
   "outputs": [
    {
     "data": {
      "text/latex": [
       "$\\displaystyle 0.0652475842498528$"
      ],
      "text/plain": [
       "0.0652475842498528"
      ]
     },
     "execution_count": 7,
     "metadata": {},
     "output_type": "execute_result"
    }
   ],
   "source": [
    "deriv.subs(delta, 1).subs(lambda_j, 1).subs(c, 1.0)"
   ]
  },
  {
   "cell_type": "code",
   "execution_count": 8,
   "id": "17473f03-1771-4631-bc64-71df37ff52e0",
   "metadata": {
    "tags": []
   },
   "outputs": [
    {
     "data": {
      "text/latex": [
       "$\\displaystyle \\frac{2 \\sqrt{401} \\left(-200 + \\sqrt{401}\\right)}{401 \\left(1 + \\sqrt{401}\\right)}$"
      ],
      "text/plain": [
       "2*sqrt(401)*(-200 + sqrt(401))/(401*(1 + sqrt(401)))"
      ]
     },
     "execution_count": 8,
     "metadata": {},
     "output_type": "execute_result"
    }
   ],
   "source": [
    "deriv.subs(delta, 1).subs(lambda_j, 1).subs(c, 100)"
   ]
  },
  {
   "cell_type": "code",
   "execution_count": 9,
   "id": "81c12bc6-ed26-4ddb-9cdd-c3a875f8b949",
   "metadata": {},
   "outputs": [
    {
     "data": {
      "text/latex": [
       "$\\displaystyle -0.854937461083604$"
      ],
      "text/plain": [
       "-0.854937461083604"
      ]
     },
     "execution_count": 9,
     "metadata": {},
     "output_type": "execute_result"
    }
   ],
   "source": [
    "deriv.subs(delta, 1).subs(lambda_j, 1).subs(c, 100.0) # pass as decimal to get decimal output"
   ]
  },
  {
   "cell_type": "markdown",
   "id": "5110bddd-c706-4795-ae3e-efa2799b12a9",
   "metadata": {},
   "source": [
    "Here we can see that when the magnitude of the $-2c$ term exceeds the $\\sqrt{4c+1}$ term (which it does due to being a higher order polynomial), the derivative's sign is reversed (given $\\delta = 1, \\lambda_j = 1$). Hence, high $c$ changes the derivative's sign."
   ]
  }
 ],
 "metadata": {
  "kernelspec": {
   "display_name": "Python 3",
   "language": "python",
   "name": "python3"
  },
  "language_info": {
   "codemirror_mode": {
    "name": "ipython",
    "version": 3
   },
   "file_extension": ".py",
   "mimetype": "text/x-python",
   "name": "python",
   "nbconvert_exporter": "python",
   "pygments_lexer": "ipython3",
   "version": "3.8.8"
  },
  "widgets": {
   "application/vnd.jupyter.widget-state+json": {
    "state": {},
    "version_major": 2,
    "version_minor": 0
   }
  }
 },
 "nbformat": 4,
 "nbformat_minor": 5
}
