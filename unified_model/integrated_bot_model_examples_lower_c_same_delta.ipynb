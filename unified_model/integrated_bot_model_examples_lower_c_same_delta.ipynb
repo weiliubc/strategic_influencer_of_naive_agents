{
 "cells": [
  {
   "cell_type": "markdown",
   "id": "2dc596bd-b630-4dbf-a643-860b9f118c5a",
   "metadata": {},
   "source": [
    "# Unified Model with Integrated Bot: Lower $c$, same $\\delta$\n",
    "\n",
    "James Yu, 17 August 2022"
   ]
  },
  {
   "cell_type": "code",
   "execution_count": 1,
   "id": "5deb7be5-5bd5-4cda-9926-3be72f5cacb8",
   "metadata": {},
   "outputs": [],
   "source": [
    "import matplotlib.pyplot as plt\n",
    "import numpy as np\n",
    "from numpy.linalg import inv\n",
    "np.set_printoptions(suppress=True) # disable scientific notation for readability"
   ]
  },
  {
   "cell_type": "code",
   "execution_count": 2,
   "id": "5d7a5d27-4795-4156-9f05-fffbaaff09c4",
   "metadata": {
    "tags": []
   },
   "outputs": [],
   "source": [
    "def infinite_solution(A_n, A_c, delta, c):\n",
    "    n = 3\n",
    "    eps = np.finfo(np.float64).eps\n",
    "    I = np.identity(n)\n",
    "    O = np.zeros((n, n))\n",
    "    \n",
    "    Q = np.block([\n",
    "        [I, O], \n",
    "        [O, O]\n",
    "    ])\n",
    "    A = np.block([\n",
    "        [A_n, A_c], \n",
    "        [O, I]\n",
    "    ])\n",
    "    B = np.block([\n",
    "        [I],\n",
    "        [O]\n",
    "    ])\n",
    "    K_t = Q\n",
    "    K_sequence = [K_t]\n",
    "    \n",
    "    while True: # generate solution matrices; note I divide delta into the inverse term for simplification\n",
    "        K_t_new = Q + delta * A.T @ (K_t - K_t @ B @ inv(B.T @ K_t @ B + c * I / delta) @ B.T @ K_t) @ A\n",
    "        K_sequence.insert(0, K_t_new)\n",
    "        if np.allclose(K_t, K_t_new, rtol = eps, atol = eps): break\n",
    "        K_t = K_t_new\n",
    "\n",
    "    K_ss = K_sequence[0]\n",
    "    L_ss = -inv(B.T @ K_ss @ B + c * I / delta) @ B.T @ K_ss @ A\n",
    "    return K_ss, L_ss"
   ]
  },
  {
   "cell_type": "markdown",
   "id": "f993b294-61ed-4409-b662-7058abbd7213",
   "metadata": {},
   "source": [
    "# 1. Highly symmetric"
   ]
  },
  {
   "cell_type": "code",
   "execution_count": 3,
   "id": "1948b15f-c07e-4a9f-8446-3dc51cae3d24",
   "metadata": {},
   "outputs": [],
   "source": [
    "A_1_n = 0.99 * np.array([\n",
    "    [0.5, 0.25, 0.25],\n",
    "    [0.25, 0.5, 0.25],\n",
    "    [0.25, 0.25, 0.5]\n",
    "])\n",
    "A_1_c = np.diag([0.01, 0.01, 0.01])\n",
    "delta = 0.999 \n",
    "c = 0.1 # different c, same delta"
   ]
  },
  {
   "cell_type": "code",
   "execution_count": 4,
   "id": "d8d521b3-a053-4a6e-a6d5-bdd8b0e966fd",
   "metadata": {},
   "outputs": [],
   "source": [
    "K_ss, L_ss = infinite_solution(A_1_n, A_1_c, delta, c)"
   ]
  },
  {
   "cell_type": "code",
   "execution_count": 5,
   "id": "d75922b3-af58-4c87-96bf-a7665242bddc",
   "metadata": {},
   "outputs": [
    {
     "name": "stdout",
     "output_type": "stream",
     "text": [
      "[[1.0336356  0.02806454 0.02806454 0.00048317 0.00025292 0.00025292]\n",
      " [0.02806454 1.0336356  0.02806454 0.00025292 0.00048317 0.00025292]\n",
      " [0.02806454 0.02806454 1.0336356  0.00025292 0.00025292 0.00048317]\n",
      " [0.00048317 0.00025292 0.00025292 0.00964213 0.00017888 0.00017888]\n",
      " [0.00025292 0.00048317 0.00025292 0.00017888 0.00964213 0.00017888]\n",
      " [0.00025292 0.00025292 0.00048317 0.00017888 0.00017888 0.00964213]]\n"
     ]
    }
   ],
   "source": [
    "print(K_ss)"
   ]
  },
  {
   "cell_type": "code",
   "execution_count": 6,
   "id": "64b2baaf-4fc0-4588-915c-73dfa1af3524",
   "metadata": {},
   "outputs": [
    {
     "data": {
      "text/plain": [
       "array([1.09075369, 1.09075369, 1.09075369, 0.01098888, 0.01098888,\n",
       "       0.01098888])"
      ]
     },
     "execution_count": 6,
     "metadata": {},
     "output_type": "execute_result"
    }
   ],
   "source": [
    "sum(K_ss)"
   ]
  },
  {
   "cell_type": "code",
   "execution_count": 7,
   "id": "5dc9d884-2264-454a-8ee6-eea9974e6199",
   "metadata": {},
   "outputs": [
    {
     "name": "stdout",
     "output_type": "stream",
     "text": [
      "[[-0.45229999 -0.22720699 -0.22720699 -0.00953191 -0.000229   -0.000229  ]\n",
      " [-0.22720699 -0.45229999 -0.22720699 -0.000229   -0.00953191 -0.000229  ]\n",
      " [-0.22720699 -0.22720699 -0.45229999 -0.000229   -0.000229   -0.00953191]]\n"
     ]
    }
   ],
   "source": [
    "print(L_ss)"
   ]
  },
  {
   "cell_type": "code",
   "execution_count": 8,
   "id": "3363ffd4-3133-4314-b90c-f862e3c4045e",
   "metadata": {},
   "outputs": [
    {
     "data": {
      "text/plain": [
       "array([-0.90671398, -0.90671398, -0.90671398, -0.00998992, -0.00998992,\n",
       "       -0.00998992])"
      ]
     },
     "execution_count": 8,
     "metadata": {},
     "output_type": "execute_result"
    }
   ],
   "source": [
    "sum(L_ss)"
   ]
  },
  {
   "cell_type": "code",
   "execution_count": 9,
   "id": "69d38884-481b-44cd-af05-39aa8d9ec590",
   "metadata": {},
   "outputs": [
    {
     "data": {
      "text/plain": [
       "array([-0.9167039, -0.9167039, -0.9167039])"
      ]
     },
     "execution_count": 9,
     "metadata": {},
     "output_type": "execute_result"
    }
   ],
   "source": [
    "sum(L_ss.T)"
   ]
  },
  {
   "cell_type": "markdown",
   "id": "f4ab3564-59a8-4508-aa99-5917e2b006d4",
   "metadata": {},
   "source": [
    "# 2. Completely uniform"
   ]
  },
  {
   "cell_type": "code",
   "execution_count": 10,
   "id": "0e8892f2-75ef-4be5-98c2-d9b49e5d5462",
   "metadata": {},
   "outputs": [],
   "source": [
    "A_2_n = np.array([\n",
    "    [0.25, 0.25, 0.25],\n",
    "    [0.25, 0.25, 0.25],\n",
    "    [0.25, 0.25, 0.25]\n",
    "])\n",
    "A_2_c = np.diag([0.25, 0.25, 0.25])"
   ]
  },
  {
   "cell_type": "code",
   "execution_count": 11,
   "id": "48d639c3-1b97-488c-a818-bd62b23910df",
   "metadata": {},
   "outputs": [],
   "source": [
    "K_ss, L_ss = infinite_solution(A_2_n, A_2_c, delta, c)"
   ]
  },
  {
   "cell_type": "code",
   "execution_count": 12,
   "id": "59ec91f3-276d-46b7-9e12-5e014a54cfdb",
   "metadata": {},
   "outputs": [
    {
     "name": "stdout",
     "output_type": "stream",
     "text": [
      "[[1.01712    0.01712    0.01712    0.00610427 0.00610427 0.00610427]\n",
      " [0.01712    1.01712    0.01712    0.00610427 0.00610427 0.00610427]\n",
      " [0.01712    0.01712    1.01712    0.00610427 0.00610427 0.00610427]\n",
      " [0.00610427 0.00610427 0.00610427 5.85783794 0.17653676 0.17653676]\n",
      " [0.00610427 0.00610427 0.00610427 0.17653676 5.85783794 0.17653676]\n",
      " [0.00610427 0.00610427 0.00610427 0.17653676 0.17653676 5.85783794]]\n"
     ]
    }
   ],
   "source": [
    "print(K_ss)"
   ]
  },
  {
   "cell_type": "code",
   "execution_count": 13,
   "id": "b11a6755-7694-4529-9a4c-10a469c3d48a",
   "metadata": {},
   "outputs": [
    {
     "data": {
      "text/plain": [
       "array([1.06967281, 1.06967281, 1.06967281, 6.22922426, 6.22922426,\n",
       "       6.22922426])"
      ]
     },
     "execution_count": 13,
     "metadata": {},
     "output_type": "execute_result"
    }
   ],
   "source": [
    "sum(K_ss)"
   ]
  },
  {
   "cell_type": "code",
   "execution_count": 14,
   "id": "930cc695-39b7-455b-a79e-829b2829ee3c",
   "metadata": {},
   "outputs": [
    {
     "name": "stdout",
     "output_type": "stream",
     "text": [
      "[[-0.2282667  -0.2282667  -0.2282667  -0.23289159 -0.00563955 -0.00563955]\n",
      " [-0.2282667  -0.2282667  -0.2282667  -0.00563955 -0.23289159 -0.00563955]\n",
      " [-0.2282667  -0.2282667  -0.2282667  -0.00563955 -0.00563955 -0.23289159]]\n"
     ]
    }
   ],
   "source": [
    "print(L_ss)"
   ]
  },
  {
   "cell_type": "code",
   "execution_count": 15,
   "id": "87c42e80-3917-4cca-9055-6bad0f9379d4",
   "metadata": {},
   "outputs": [
    {
     "data": {
      "text/plain": [
       "array([-0.68480011, -0.68480011, -0.68480011, -0.24417069, -0.24417069,\n",
       "       -0.24417069])"
      ]
     },
     "execution_count": 15,
     "metadata": {},
     "output_type": "execute_result"
    }
   ],
   "source": [
    "sum(L_ss)"
   ]
  },
  {
   "cell_type": "code",
   "execution_count": 16,
   "id": "d4e13344-5342-436f-9177-aa4516668235",
   "metadata": {},
   "outputs": [
    {
     "data": {
      "text/plain": [
       "array([-0.92897079, -0.92897079, -0.92897079])"
      ]
     },
     "execution_count": 16,
     "metadata": {},
     "output_type": "execute_result"
    }
   ],
   "source": [
    "sum(L_ss.T)"
   ]
  },
  {
   "cell_type": "markdown",
   "id": "098e89d5-af2a-40b6-b835-297792de98f7",
   "metadata": {},
   "source": [
    "# 3. No inter-agent links"
   ]
  },
  {
   "cell_type": "code",
   "execution_count": 17,
   "id": "ca946b60-648f-4a78-9af9-aea7ed468d1f",
   "metadata": {},
   "outputs": [],
   "source": [
    "A_3_n = 0.5 * np.identity(3)\n",
    "A_3_c = np.diag([0.5, 0.5, 0.5])"
   ]
  },
  {
   "cell_type": "code",
   "execution_count": 18,
   "id": "e3805732-1b57-4bab-a1d2-bf48cd93cd6d",
   "metadata": {},
   "outputs": [],
   "source": [
    "K_ss, L_ss = infinite_solution(A_3_n, A_3_c, delta, c)"
   ]
  },
  {
   "cell_type": "code",
   "execution_count": 19,
   "id": "93c71c2a-1e0a-471a-9025-eea1cc4ca43d",
   "metadata": {},
   "outputs": [
    {
     "name": "stdout",
     "output_type": "stream",
     "text": [
      "[[ 1.02277  0.       0.       0.02383  0.       0.     ]\n",
      " [ 0.       1.02277  0.       0.       0.02383  0.     ]\n",
      " [ 0.       0.       1.02277  0.       0.       0.02383]\n",
      " [ 0.02383  0.       0.      24.38847  0.       0.     ]\n",
      " [ 0.       0.02383  0.       0.      24.38847  0.     ]\n",
      " [ 0.       0.       0.02383  0.       0.      24.38847]]\n"
     ]
    }
   ],
   "source": [
    "print(np.round(K_ss, 5))"
   ]
  },
  {
   "cell_type": "code",
   "execution_count": 20,
   "id": "844456e8-9dd8-46b5-be73-a130ba011b08",
   "metadata": {},
   "outputs": [
    {
     "data": {
      "text/plain": [
       "array([ 1.04660391,  1.04660391,  1.04660391, 24.41230315, 24.41230315,\n",
       "       24.41230315])"
      ]
     },
     "execution_count": 20,
     "metadata": {},
     "output_type": "execute_result"
    }
   ],
   "source": [
    "sum(K_ss)"
   ]
  },
  {
   "cell_type": "code",
   "execution_count": 21,
   "id": "63afcc7b-fff8-4ea7-ac8e-3c514da0f1bb",
   "metadata": {},
   "outputs": [
    {
     "name": "stdout",
     "output_type": "stream",
     "text": [
      "[[-0.45542673  0.          0.         -0.4766514   0.          0.        ]\n",
      " [ 0.         -0.45542673  0.          0.         -0.4766514   0.        ]\n",
      " [ 0.          0.         -0.45542673  0.          0.         -0.4766514 ]]\n"
     ]
    }
   ],
   "source": [
    "print(L_ss)"
   ]
  },
  {
   "cell_type": "code",
   "execution_count": 22,
   "id": "371b4837-c2ac-404c-94fb-ab735a7bbd29",
   "metadata": {},
   "outputs": [
    {
     "data": {
      "text/plain": [
       "array([-0.45542673, -0.45542673, -0.45542673, -0.4766514 , -0.4766514 ,\n",
       "       -0.4766514 ])"
      ]
     },
     "execution_count": 22,
     "metadata": {},
     "output_type": "execute_result"
    }
   ],
   "source": [
    "sum(L_ss)"
   ]
  },
  {
   "cell_type": "code",
   "execution_count": 23,
   "id": "4fd10c1e-f24a-4a12-b625-434e9e59b261",
   "metadata": {},
   "outputs": [
    {
     "data": {
      "text/plain": [
       "array([-0.93207813, -0.93207813, -0.93207813])"
      ]
     },
     "execution_count": 23,
     "metadata": {},
     "output_type": "execute_result"
    }
   ],
   "source": [
    "sum(L_ss.T)"
   ]
  }
 ],
 "metadata": {
  "kernelspec": {
   "display_name": "Python 3",
   "language": "python",
   "name": "python3"
  },
  "language_info": {
   "codemirror_mode": {
    "name": "ipython",
    "version": 3
   },
   "file_extension": ".py",
   "mimetype": "text/x-python",
   "name": "python",
   "nbconvert_exporter": "python",
   "pygments_lexer": "ipython3",
   "version": "3.8.8"
  },
  "widgets": {
   "application/vnd.jupyter.widget-state+json": {
    "state": {},
    "version_major": 2,
    "version_minor": 0
   }
  }
 },
 "nbformat": 4,
 "nbformat_minor": 5
}
