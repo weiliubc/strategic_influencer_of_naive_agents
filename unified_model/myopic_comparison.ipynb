{
 "cells": [
  {
   "cell_type": "markdown",
   "id": "06343133-ede5-492d-8b08-574f37a8f9d2",
   "metadata": {},
   "source": [
    "# Cross-Comparison between One-Shot and Myopic Models\n",
    "\n",
    "James Yu, 29 July 2022"
   ]
  },
  {
   "cell_type": "code",
   "execution_count": 1,
   "id": "b2833f07-f257-463c-914c-e297a7dc96f5",
   "metadata": {},
   "outputs": [],
   "source": [
    "import matplotlib.pyplot as plt\n",
    "import numpy as np"
   ]
  },
  {
   "cell_type": "code",
   "execution_count": 2,
   "id": "00b10589-7f94-4adb-b3aa-9b66c8c4025f",
   "metadata": {},
   "outputs": [],
   "source": [
    "A_2 = np.array([\n",
    "    [0.48, 0.3, 0.22],\n",
    "    [0.3, 0.52, 0.18],\n",
    "    [0.22, 0.18, 0.6]\n",
    "])"
   ]
  },
  {
   "cell_type": "code",
   "execution_count": 3,
   "id": "f7c1389a-d4c4-4551-b837-8f5b9266863f",
   "metadata": {},
   "outputs": [
    {
     "data": {
      "text/plain": [
       "array([1.        , 0.19416995, 0.40583005])"
      ]
     },
     "execution_count": 3,
     "metadata": {},
     "output_type": "execute_result"
    }
   ],
   "source": [
    "eigvals_2, U_2 = np.linalg.eig(A_2)\n",
    "eigvals_2"
   ]
  },
  {
   "cell_type": "code",
   "execution_count": 4,
   "id": "4b083e1f-5906-49c7-8e16-7b64df2bd28f",
   "metadata": {},
   "outputs": [
    {
     "data": {
      "text/plain": [
       "array([[ 10.],\n",
       "       [ 10.],\n",
       "       [-20.]])"
      ]
     },
     "execution_count": 4,
     "metadata": {},
     "output_type": "execute_result"
    }
   ],
   "source": [
    "delta = 0.9\n",
    "c = 1.0\n",
    "T = 1\n",
    "x_0 = np.array([[10.0, 10.0, -20.0]], ndmin = 2).T\n",
    "x_0"
   ]
  },
  {
   "cell_type": "markdown",
   "id": "22c21e52-6538-4d77-a015-9f6c500b338f",
   "metadata": {},
   "source": [
    "Using unprojected opinions:"
   ]
  },
  {
   "cell_type": "code",
   "execution_count": 5,
   "id": "0e03f7f7-f0b1-4fc8-83c9-9fbb014b917b",
   "metadata": {},
   "outputs": [],
   "source": [
    "def one_shot(A, delta, c, T, x_0):\n",
    "    I = np.identity(len(x_0))\n",
    "    eigvals, U = np.linalg.eig(A)\n",
    "    xs = [x_0]\n",
    "    D = np.diag(eigvals)\n",
    "    tilde_x_0 = U.T @ x_0\n",
    "    print(\"L_0:\")\n",
    "    print(-delta * np.linalg.inv((c * I) + (delta * np.linalg.inv(I - (delta * (D @ D))))) @ np.linalg.inv(I - (delta * (D @ D))) @ D)\n",
    "    tilde_r_0 = -delta * np.linalg.inv((c * I) + (delta * np.linalg.inv(I - (delta * (D @ D))))) @ np.linalg.inv(I - (delta * (D @ D))) @ D @ tilde_x_0\n",
    "    tilde_x_t = D @ tilde_x_0 + tilde_r_0\n",
    "    xs.append(U @ tilde_x_t)\n",
    "    r_0 = U @ tilde_r_0\n",
    "    print(\"r_0 =\", r_0.T)\n",
    "    for i in range(T-1):\n",
    "        tilde_x_t = D @ tilde_x_t\n",
    "        xs.append(U @ tilde_x_t)\n",
    "        \n",
    "    payoff = 0.0\n",
    "    stage_payoffs = []\n",
    "    discounted_stage_payoffs = []\n",
    "    cumulative_payoffs = []\n",
    "    \n",
    "    payoff += -(x_0.T @ x_0).item() - (c * (r_0.T @ r_0).item())\n",
    "    stage_payoffs.append(payoff)\n",
    "    discounted_stage_payoffs.append(payoff)\n",
    "    cumulative_payoffs.append(payoff)\n",
    "    for i in range(1, T+1):\n",
    "        stage_payoff = (xs[i].T @ xs[i]).item()\n",
    "        stage_payoffs.append(-stage_payoff)\n",
    "        discounted_stage_payoffs.append(-delta**i * stage_payoff)\n",
    "        payoff += -delta**i * stage_payoff\n",
    "        cumulative_payoffs.append(payoff)\n",
    "      \n",
    "    return xs, cumulative_payoffs"
   ]
  },
  {
   "cell_type": "code",
   "execution_count": 6,
   "id": "0d396a4d-d376-4beb-a869-5ab1e9862955",
   "metadata": {},
   "outputs": [],
   "source": [
    "def myopic(A, delta, c, T, x_0):\n",
    "    eigvals, U = np.linalg.eig(A)\n",
    "    D = np.diag(eigvals)\n",
    "    I = np.identity(len(x_0))\n",
    "    \n",
    "    tilde_x_0 = U.T @ x_0\n",
    "    tilde_x_t = tilde_x_0\n",
    "    r_ts = []\n",
    "    x_ts = [x_0]\n",
    "    L_m = (-delta / (delta + c)) * D\n",
    "    print(\"L_m:\")\n",
    "    print(L_m)\n",
    "    for i in range(T):\n",
    "        tilde_r_t = L_m @ tilde_x_t\n",
    "        tilde_x_t_new = D @ tilde_x_t + tilde_r_t\n",
    "        \n",
    "        x_t_new = U @ tilde_x_t_new\n",
    "        x_ts.append(x_t_new)\n",
    "        r_t = U @ tilde_r_t\n",
    "        r_ts.append(r_t)\n",
    "        \n",
    "        tilde_x_t = tilde_x_t_new\n",
    "        \n",
    "    return x_ts, r_ts"
   ]
  },
  {
   "cell_type": "code",
   "execution_count": 7,
   "id": "1021da3f-d403-4d3b-942a-bb03f5232b20",
   "metadata": {},
   "outputs": [],
   "source": [
    "def payoffs(xs, rs, delta, c, T, finite = True):\n",
    "    stage_payoffs = []\n",
    "    discounted_stage_payoffs = []\n",
    "    cumulative_payoffs = []\n",
    "    payoff = 0.0\n",
    "    for i in range(T):\n",
    "        stage_payoff = (xs[i].T @ xs[i]).item() + (c * (rs[i].T @ rs[i])).item()\n",
    "        payoff += -delta**i * stage_payoff\n",
    "        stage_payoffs.append(-stage_payoff)\n",
    "        discounted_stage_payoffs.append(-delta**i * stage_payoff)\n",
    "        cumulative_payoffs.append(payoff)\n",
    "\n",
    "    if finite:\n",
    "        stage_payoff_T = (xs[-1].T @ xs[-1]).item()\n",
    "        payoff += -delta**T * stage_payoff_T\n",
    "        stage_payoffs.append(-stage_payoff_T)\n",
    "        discounted_stage_payoffs.append(-delta**i * stage_payoff_T)\n",
    "        cumulative_payoffs.append(payoff)\n",
    "        \n",
    "    return cumulative_payoffs"
   ]
  },
  {
   "cell_type": "code",
   "execution_count": 8,
   "id": "42d4e658-d041-4e29-aa9e-3fb9153e7aa2",
   "metadata": {},
   "outputs": [
    {
     "name": "stdout",
     "output_type": "stream",
     "text": [
      "L_0:\n",
      "[[-0.9         0.          0.        ]\n",
      " [ 0.         -0.09364768  0.        ]\n",
      " [ 0.          0.         -0.2085015 ]]\n",
      "r_0 = [[-1.72779923 -2.37895922  4.10675844]]\n"
     ]
    }
   ],
   "source": [
    "one_xs_2, one_cumulative_payoffs_2 = one_shot(A_2, delta, c, T, x_0)"
   ]
  },
  {
   "cell_type": "code",
   "execution_count": 9,
   "id": "a36c5e19-718e-4205-a013-ce0f5d1c29de",
   "metadata": {},
   "outputs": [
    {
     "name": "stdout",
     "output_type": "stream",
     "text": [
      "L_m:\n",
      "[[-0.47368421 -0.         -0.        ]\n",
      " [-0.         -0.09197524 -0.        ]\n",
      " [-0.         -0.         -0.19223529]]\n"
     ]
    }
   ],
   "source": [
    "x_sequence_2, r_sequence_2 = myopic(A_2, delta, c, T, x_0)"
   ]
  },
  {
   "cell_type": "code",
   "execution_count": 10,
   "id": "fe80557b-ce75-4e62-ac6d-bb4448c06255",
   "metadata": {},
   "outputs": [],
   "source": [
    "cumulative_payoffs_2 = payoffs(x_sequence_2, r_sequence_2, delta, c, T)"
   ]
  },
  {
   "cell_type": "code",
   "execution_count": 11,
   "id": "030587fa-ffd9-4d1a-a4e1-9535dc93ab30",
   "metadata": {},
   "outputs": [
    {
     "data": {
      "image/png": "[encoded data removed]",
      "text/plain": [
       "<Figure size 432x288 with 1 Axes>"
      ]
     },
     "metadata": {
      "needs_background": "light"
     },
     "output_type": "display_data"
    }
   ],
   "source": [
    "for i in range(3):\n",
    "    plt.plot(range(len(one_xs_2)), [one_xs_2[j][i].item() for j in range(len(one_xs_2))], label = f\"Agent {i+1}, one-shot intervention\")\n",
    "    plt.plot(range(len(x_sequence_2)), [x_sequence_2[j][i].item() for j in range(len(x_sequence_2))], label = f\"Agent {i+1}, myopic intervention\")\n",
    "    \n",
    "plt.xlabel(\"time\")\n",
    "plt.ylabel(\"opinion\")\n",
    "plt.title(\"network evolution: more balanced network\")\n",
    "plt.legend(framealpha = 0.1, loc = \"lower right\")\n",
    "plt.show()"
   ]
  },
  {
   "cell_type": "code",
   "execution_count": 12,
   "id": "861d6b00-8544-4155-827b-e496b93a3b02",
   "metadata": {},
   "outputs": [
    {
     "data": {
      "text/plain": [
       "[array([[ 10.],\n",
       "        [ 10.],\n",
       "        [-20.]]),\n",
       " array([[ 1.67220077],\n",
       "        [ 2.22104078],\n",
       "        [-3.89324156]])]"
      ]
     },
     "execution_count": 12,
     "metadata": {},
     "output_type": "execute_result"
    }
   ],
   "source": [
    "one_xs_2 # one-shot"
   ]
  },
  {
   "cell_type": "code",
   "execution_count": 13,
   "id": "ef7a7d00-08a5-44d3-864a-657db7f75c82",
   "metadata": {},
   "outputs": [
    {
     "data": {
      "text/plain": [
       "[array([[ 10.],\n",
       "        [ 10.],\n",
       "        [-20.]]),\n",
       " array([[ 1.78947368],\n",
       "        [ 2.42105263],\n",
       "        [-4.21052632]])]"
      ]
     },
     "execution_count": 13,
     "metadata": {},
     "output_type": "execute_result"
    }
   ],
   "source": [
    "x_sequence_2 # myopic"
   ]
  },
  {
   "cell_type": "code",
   "execution_count": 14,
   "id": "d4f2a6f7-50ad-4bff-88c3-072d77d4474a",
   "metadata": {},
   "outputs": [
    {
     "data": {
      "image/png": "[encoded data removed]",
      "text/plain": [
       "<Figure size 432x288 with 1 Axes>"
      ]
     },
     "metadata": {
      "needs_background": "light"
     },
     "output_type": "display_data"
    }
   ],
   "source": [
    "plt.plot(range(len(one_cumulative_payoffs_2)), one_cumulative_payoffs_2, label = \"more balanced network: one-shot intervention\")\n",
    "plt.plot(range(len(cumulative_payoffs_2)), cumulative_payoffs_2, label = \"more balanced network: myopic intervention\")\n",
    "plt.xlabel(\"time\")\n",
    "plt.ylabel(\"cumulative payoff\")\n",
    "plt.title(\"cumulative payoffs\")\n",
    "plt.legend()\n",
    "plt.show()"
   ]
  },
  {
   "cell_type": "code",
   "execution_count": 15,
   "id": "958a9c00-2ce5-4fd6-ad17-f910b47d0937",
   "metadata": {},
   "outputs": [
    {
     "data": {
      "text/plain": [
       "[array([[-1.61052632],\n",
       "        [-2.17894737],\n",
       "        [ 3.78947368]])]"
      ]
     },
     "execution_count": 15,
     "metadata": {},
     "output_type": "execute_result"
    }
   ],
   "source": [
    "r_sequence_2"
   ]
  },
  {
   "cell_type": "code",
   "execution_count": 16,
   "id": "bbde8ff6-422f-45e1-b241-fe5750a981c3",
   "metadata": {},
   "outputs": [],
   "source": [
    "r_0 = [-1.72779923, -2.37895922,  4.10675844] # one-shot"
   ]
  }
 ],
 "metadata": {
  "kernelspec": {
   "display_name": "Python 3",
   "language": "python",
   "name": "python3"
  },
  "language_info": {
   "codemirror_mode": {
    "name": "ipython",
    "version": 3
   },
   "file_extension": ".py",
   "mimetype": "text/x-python",
   "name": "python",
   "nbconvert_exporter": "python",
   "pygments_lexer": "ipython3",
   "version": "3.8.8"
  },
  "widgets": {
   "application/vnd.jupyter.widget-state+json": {
    "state": {},
    "version_major": 2,
    "version_minor": 0
   }
  }
 },
 "nbformat": 4,
 "nbformat_minor": 5
}
