{
 "cells": [
  {
   "cell_type": "markdown",
   "id": "2dc596bd-b630-4dbf-a643-860b9f118c5a",
   "metadata": {},
   "source": [
    "# Unified Model with Integrated Bot: Higher $c$, same $\\delta$\n",
    "\n",
    "James Yu, 17 August 2022"
   ]
  },
  {
   "cell_type": "code",
   "execution_count": 1,
   "id": "5deb7be5-5bd5-4cda-9926-3be72f5cacb8",
   "metadata": {},
   "outputs": [],
   "source": [
    "import matplotlib.pyplot as plt\n",
    "import numpy as np\n",
    "from numpy.linalg import inv\n",
    "np.set_printoptions(suppress=True) # disable scientific notation for readability"
   ]
  },
  {
   "cell_type": "code",
   "execution_count": 2,
   "id": "5d7a5d27-4795-4156-9f05-fffbaaff09c4",
   "metadata": {
    "tags": []
   },
   "outputs": [],
   "source": [
    "def infinite_solution(A_n, A_c, delta, c):\n",
    "    n = 3\n",
    "    eps = np.finfo(np.float64).eps\n",
    "    I = np.identity(n)\n",
    "    O = np.zeros((n, n))\n",
    "    \n",
    "    Q = np.block([\n",
    "        [I, O], \n",
    "        [O, O]\n",
    "    ])\n",
    "    A = np.block([\n",
    "        [A_n, A_c], \n",
    "        [O, I]\n",
    "    ])\n",
    "    B = np.block([\n",
    "        [I],\n",
    "        [O]\n",
    "    ])\n",
    "    K_t = Q\n",
    "    K_sequence = [K_t]\n",
    "    \n",
    "    while True: # generate solution matrices; note I divide delta into the inverse term for simplification\n",
    "        K_t_new = Q + delta * A.T @ (K_t - K_t @ B @ inv(B.T @ K_t @ B + c * I / delta) @ B.T @ K_t) @ A\n",
    "        K_sequence.insert(0, K_t_new)\n",
    "        if np.allclose(K_t, K_t_new, rtol = eps, atol = eps): break\n",
    "        K_t = K_t_new\n",
    "\n",
    "    K_ss = K_sequence[0]\n",
    "    L_ss = -inv(B.T @ K_ss @ B + c * I / delta) @ B.T @ K_ss @ A\n",
    "    return K_ss, L_ss"
   ]
  },
  {
   "cell_type": "markdown",
   "id": "f993b294-61ed-4409-b662-7058abbd7213",
   "metadata": {},
   "source": [
    "# 1. Highly symmetric"
   ]
  },
  {
   "cell_type": "code",
   "execution_count": 3,
   "id": "1948b15f-c07e-4a9f-8446-3dc51cae3d24",
   "metadata": {},
   "outputs": [],
   "source": [
    "A_1_n = 0.99 * np.array([\n",
    "    [0.5, 0.25, 0.25],\n",
    "    [0.25, 0.5, 0.25],\n",
    "    [0.25, 0.25, 0.5]\n",
    "])\n",
    "A_1_c = np.diag([0.01, 0.01, 0.01])\n",
    "delta = 0.999 \n",
    "c = 5.0 # different c, same delta"
   ]
  },
  {
   "cell_type": "code",
   "execution_count": 4,
   "id": "d8d521b3-a053-4a6e-a6d5-bdd8b0e966fd",
   "metadata": {},
   "outputs": [],
   "source": [
    "K_ss, L_ss = infinite_solution(A_1_n, A_1_c, delta, c)"
   ]
  },
  {
   "cell_type": "code",
   "execution_count": 5,
   "id": "d75922b3-af58-4c87-96bf-a7665242bddc",
   "metadata": {},
   "outputs": [
    {
     "name": "stdout",
     "output_type": "stream",
     "text": [
      "[[1.6119321  0.55868406 0.55868406 0.01797651 0.0152728  0.0152728 ]\n",
      " [0.55868406 1.6119321  0.55868406 0.0152728  0.01797651 0.0152728 ]\n",
      " [0.55868406 0.55868406 1.6119321  0.0152728  0.0152728  0.01797651]\n",
      " [0.01797651 0.0152728  0.0152728  0.2534661  0.12311618 0.12311618]\n",
      " [0.0152728  0.01797651 0.0152728  0.12311618 0.2534661  0.12311618]\n",
      " [0.0152728  0.0152728  0.01797651 0.12311618 0.12311618 0.2534661 ]]\n"
     ]
    }
   ],
   "source": [
    "print(K_ss)"
   ]
  },
  {
   "cell_type": "code",
   "execution_count": 6,
   "id": "64b2baaf-4fc0-4588-915c-73dfa1af3524",
   "metadata": {},
   "outputs": [
    {
     "data": {
      "text/plain": [
       "array([2.77782233, 2.77782233, 2.77782233, 0.54822056, 0.54822056,\n",
       "       0.54822056])"
      ]
     },
     "execution_count": 6,
     "metadata": {},
     "output_type": "execute_result"
    }
   ],
   "source": [
    "sum(K_ss)"
   ]
  },
  {
   "cell_type": "code",
   "execution_count": 7,
   "id": "5dc9d884-2264-454a-8ee6-eea9974e6199",
   "metadata": {},
   "outputs": [
    {
     "name": "stdout",
     "output_type": "stream",
     "text": [
      "[[-0.14513701 -0.10210829 -0.10210829 -0.00472403 -0.00253921 -0.00253921]\n",
      " [-0.10210829 -0.14513701 -0.10210829 -0.00253921 -0.00472403 -0.00253921]\n",
      " [-0.10210829 -0.10210829 -0.14513701 -0.00253921 -0.00253921 -0.00472403]]\n"
     ]
    }
   ],
   "source": [
    "print(L_ss)"
   ]
  },
  {
   "cell_type": "code",
   "execution_count": 8,
   "id": "3363ffd4-3133-4314-b90c-f862e3c4045e",
   "metadata": {},
   "outputs": [
    {
     "data": {
      "text/plain": [
       "array([-0.34935358, -0.34935358, -0.34935358, -0.00980245, -0.00980245,\n",
       "       -0.00980245])"
      ]
     },
     "execution_count": 8,
     "metadata": {},
     "output_type": "execute_result"
    }
   ],
   "source": [
    "sum(L_ss)"
   ]
  },
  {
   "cell_type": "code",
   "execution_count": 9,
   "id": "69d38884-481b-44cd-af05-39aa8d9ec590",
   "metadata": {},
   "outputs": [
    {
     "data": {
      "text/plain": [
       "array([-0.35915603, -0.35915603, -0.35915603])"
      ]
     },
     "execution_count": 9,
     "metadata": {},
     "output_type": "execute_result"
    }
   ],
   "source": [
    "sum(L_ss.T)"
   ]
  },
  {
   "cell_type": "markdown",
   "id": "f4ab3564-59a8-4508-aa99-5917e2b006d4",
   "metadata": {},
   "source": [
    "# 2. Completely uniform"
   ]
  },
  {
   "cell_type": "code",
   "execution_count": 10,
   "id": "0e8892f2-75ef-4be5-98c2-d9b49e5d5462",
   "metadata": {},
   "outputs": [],
   "source": [
    "A_2_n = np.array([\n",
    "    [0.25, 0.25, 0.25],\n",
    "    [0.25, 0.25, 0.25],\n",
    "    [0.25, 0.25, 0.25]\n",
    "])\n",
    "A_2_c = np.diag([0.25, 0.25, 0.25])"
   ]
  },
  {
   "cell_type": "code",
   "execution_count": 11,
   "id": "48d639c3-1b97-488c-a818-bd62b23910df",
   "metadata": {},
   "outputs": [],
   "source": [
    "K_ss, L_ss = infinite_solution(A_2_n, A_2_c, delta, c)"
   ]
  },
  {
   "cell_type": "code",
   "execution_count": 12,
   "id": "59ec91f3-276d-46b7-9e12-5e014a54cfdb",
   "metadata": {},
   "outputs": [
    {
     "name": "stdout",
     "output_type": "stream",
     "text": [
      "[[  1.23967587   0.23967587   0.23967587   0.18062886   0.18062886\n",
      "    0.18062886]\n",
      " [  0.23967587   1.23967587   0.23967587   0.18062886   0.18062886\n",
      "    0.18062886]\n",
      " [  0.23967587   0.23967587   1.23967587   0.18062886   0.18062886\n",
      "    0.18062886]\n",
      " [  0.18062886   0.18062886   0.18062886 113.93963424  61.89971092\n",
      "   61.89971092]\n",
      " [  0.18062886   0.18062886   0.18062886  61.89971092 113.93963424\n",
      "   61.89971092]\n",
      " [  0.18062886   0.18062886   0.18062886  61.89971092  61.89971092\n",
      "  113.93963424]]\n"
     ]
    }
   ],
   "source": [
    "print(K_ss)"
   ]
  },
  {
   "cell_type": "code",
   "execution_count": 13,
   "id": "b11a6755-7694-4529-9a4c-10a469c3d48a",
   "metadata": {},
   "outputs": [
    {
     "data": {
      "text/plain": [
       "array([  2.26091421,   2.26091421,   2.26091421, 238.28094268,\n",
       "       238.28094268, 238.28094268])"
      ]
     },
     "execution_count": 13,
     "metadata": {},
     "output_type": "execute_result"
    }
   ],
   "source": [
    "sum(K_ss)"
   ]
  },
  {
   "cell_type": "code",
   "execution_count": 14,
   "id": "930cc695-39b7-455b-a79e-829b2829ee3c",
   "metadata": {},
   "outputs": [
    {
     "name": "stdout",
     "output_type": "stream",
     "text": [
      "[[-0.06391357 -0.06391357 -0.06391357 -0.07592232 -0.03429038 -0.03429038]\n",
      " [-0.06391357 -0.06391357 -0.06391357 -0.03429038 -0.07592232 -0.03429038]\n",
      " [-0.06391357 -0.06391357 -0.06391357 -0.03429038 -0.03429038 -0.07592232]]\n"
     ]
    }
   ],
   "source": [
    "print(L_ss)"
   ]
  },
  {
   "cell_type": "code",
   "execution_count": 15,
   "id": "87c42e80-3917-4cca-9055-6bad0f9379d4",
   "metadata": {},
   "outputs": [
    {
     "data": {
      "text/plain": [
       "array([-0.1917407 , -0.1917407 , -0.1917407 , -0.14450309, -0.14450309,\n",
       "       -0.14450309])"
      ]
     },
     "execution_count": 15,
     "metadata": {},
     "output_type": "execute_result"
    }
   ],
   "source": [
    "sum(L_ss)"
   ]
  },
  {
   "cell_type": "code",
   "execution_count": 16,
   "id": "d4e13344-5342-436f-9177-aa4516668235",
   "metadata": {},
   "outputs": [
    {
     "data": {
      "text/plain": [
       "array([-0.33624379, -0.33624379, -0.33624379])"
      ]
     },
     "execution_count": 16,
     "metadata": {},
     "output_type": "execute_result"
    }
   ],
   "source": [
    "sum(L_ss.T)"
   ]
  },
  {
   "cell_type": "markdown",
   "id": "098e89d5-af2a-40b6-b835-297792de98f7",
   "metadata": {},
   "source": [
    "# 3. No inter-agent links"
   ]
  },
  {
   "cell_type": "code",
   "execution_count": 17,
   "id": "ca946b60-648f-4a78-9af9-aea7ed468d1f",
   "metadata": {},
   "outputs": [],
   "source": [
    "A_3_n = 0.5 * np.identity(3)\n",
    "A_3_c = np.diag([0.5, 0.5, 0.5])"
   ]
  },
  {
   "cell_type": "code",
   "execution_count": 18,
   "id": "e3805732-1b57-4bab-a1d2-bf48cd93cd6d",
   "metadata": {},
   "outputs": [],
   "source": [
    "K_ss, L_ss = infinite_solution(A_3_n, A_3_c, delta, c)"
   ]
  },
  {
   "cell_type": "code",
   "execution_count": 19,
   "id": "93c71c2a-1e0a-471a-9025-eea1cc4ca43d",
   "metadata": {},
   "outputs": [
    {
     "name": "stdout",
     "output_type": "stream",
     "text": [
      "[[  1.24976   0.        0.        0.41606   0.        0.     ]\n",
      " [  0.        1.24976   0.        0.        0.41606   0.     ]\n",
      " [  0.        0.        1.24976   0.        0.        0.41606]\n",
      " [  0.41606   0.        0.      554.70699   0.        0.     ]\n",
      " [  0.        0.41606   0.        0.      554.70699   0.     ]\n",
      " [  0.        0.        0.41606   0.        0.      554.70699]]\n"
     ]
    }
   ],
   "source": [
    "print(np.round(K_ss, 5))"
   ]
  },
  {
   "cell_type": "code",
   "execution_count": 20,
   "id": "844456e8-9dd8-46b5-be73-a130ba011b08",
   "metadata": {},
   "outputs": [
    {
     "data": {
      "text/plain": [
       "array([  1.6658203,   1.6658203,   1.6658203, 555.1230496, 555.1230496,\n",
       "       555.1230496])"
      ]
     },
     "execution_count": 20,
     "metadata": {},
     "output_type": "execute_result"
    }
   ],
   "source": [
    "sum(K_ss)"
   ]
  },
  {
   "cell_type": "code",
   "execution_count": 21,
   "id": "63afcc7b-fff8-4ea7-ac8e-3c514da0f1bb",
   "metadata": {},
   "outputs": [
    {
     "name": "stdout",
     "output_type": "stream",
     "text": [
      "[[-0.09990475  0.          0.         -0.16642337  0.          0.        ]\n",
      " [ 0.         -0.09990475  0.          0.         -0.16642337  0.        ]\n",
      " [ 0.          0.         -0.09990475  0.          0.         -0.16642337]]\n"
     ]
    }
   ],
   "source": [
    "print(L_ss)"
   ]
  },
  {
   "cell_type": "code",
   "execution_count": 22,
   "id": "371b4837-c2ac-404c-94fb-ab735a7bbd29",
   "metadata": {},
   "outputs": [
    {
     "data": {
      "text/plain": [
       "array([-0.09990475, -0.09990475, -0.09990475, -0.16642337, -0.16642337,\n",
       "       -0.16642337])"
      ]
     },
     "execution_count": 22,
     "metadata": {},
     "output_type": "execute_result"
    }
   ],
   "source": [
    "sum(L_ss)"
   ]
  },
  {
   "cell_type": "code",
   "execution_count": 23,
   "id": "4fd10c1e-f24a-4a12-b625-434e9e59b261",
   "metadata": {},
   "outputs": [
    {
     "data": {
      "text/plain": [
       "array([-0.26632812, -0.26632812, -0.26632812])"
      ]
     },
     "execution_count": 23,
     "metadata": {},
     "output_type": "execute_result"
    }
   ],
   "source": [
    "sum(L_ss.T)"
   ]
  }
 ],
 "metadata": {
  "kernelspec": {
   "display_name": "Python 3",
   "language": "python",
   "name": "python3"
  },
  "language_info": {
   "codemirror_mode": {
    "name": "ipython",
    "version": 3
   },
   "file_extension": ".py",
   "mimetype": "text/x-python",
   "name": "python",
   "nbconvert_exporter": "python",
   "pygments_lexer": "ipython3",
   "version": "3.8.8"
  },
  "widgets": {
   "application/vnd.jupyter.widget-state+json": {
    "state": {},
    "version_major": 2,
    "version_minor": 0
   }
  }
 },
 "nbformat": 4,
 "nbformat_minor": 5
}
