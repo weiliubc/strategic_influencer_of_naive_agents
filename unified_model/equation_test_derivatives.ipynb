{
 "cells": [
  {
   "cell_type": "markdown",
   "id": "f9dcada3-4c33-4997-813e-aabd5697fd4d",
   "metadata": {},
   "source": [
    "# Derivative comparison\n",
    "\n",
    "James Yu, 24 July 2022"
   ]
  },
  {
   "cell_type": "code",
   "execution_count": 1,
   "id": "c9477502-87c4-4580-b7dc-84e79ef9ef40",
   "metadata": {
    "tags": []
   },
   "outputs": [],
   "source": [
    "import numpy as np\n",
    "from sympy import *"
   ]
  },
  {
   "cell_type": "code",
   "execution_count": 2,
   "id": "4a80358b-ea46-4d2f-86e5-dff127b0aeca",
   "metadata": {},
   "outputs": [],
   "source": [
    "def K_j_star(delta, c, lambda_j):\n",
    "    return ((delta + delta*c*lambda_j**2 - c) + sqrt((c-delta-delta*c*lambda_j**2)**2 + 4*delta*c)) / (2 * delta)"
   ]
  },
  {
   "cell_type": "code",
   "execution_count": 3,
   "id": "d1d3bcb8-1048-4f79-a29a-a6742524402d",
   "metadata": {},
   "outputs": [
    {
     "data": {
      "text/latex": [
       "$\\displaystyle \\frac{2 \\delta \\left(- 2 c \\delta \\lambda_{j}^{2} + \\sqrt{4 c \\delta + \\left(c \\delta \\lambda_{j}^{2} - c + \\delta\\right)^{2}}\\right)}{\\sqrt{4 c \\delta + \\left(c \\delta \\lambda_{j}^{2} - c + \\delta\\right)^{2}} \\left(c \\delta \\lambda_{j}^{2} - c + \\delta + \\sqrt{4 c \\delta + \\left(c \\delta \\lambda_{j}^{2} - c + \\delta\\right)^{2}}\\right)}$"
      ],
      "text/plain": [
       "2*delta*(-2*c*delta*lambda_j**2 + sqrt(4*c*delta + (c*delta*lambda_j**2 - c + delta)**2))/(sqrt(4*c*delta + (c*delta*lambda_j**2 - c + delta)**2)*(c*delta*lambda_j**2 - c + delta + sqrt(4*c*delta + (c*delta*lambda_j**2 - c + delta)**2)))"
      ]
     },
     "execution_count": 3,
     "metadata": {},
     "output_type": "execute_result"
    }
   ],
   "source": [
    "delta, c, lambda_j = symbols(\"delta c lambda_j\")\n",
    "simplify(diff(lambda_j / K_j_star(delta, c, lambda_j), lambda_j)) # baseline lambda_j / K_j^*, the reciprocal of the ratio in question"
   ]
  },
  {
   "cell_type": "code",
   "execution_count": 4,
   "id": "96091f4d-8858-4823-9f5b-5439b9605439",
   "metadata": {},
   "outputs": [
    {
     "data": {
      "text/latex": [
       "$\\displaystyle \\frac{2 c \\delta \\left(- 2 c \\delta \\lambda_{j}^{2} + \\sqrt{4 c \\delta + \\left(c \\delta \\lambda_{j}^{2} - c + \\delta\\right)^{2}}\\right)}{\\sqrt{4 c \\delta + \\left(c \\delta \\lambda_{j}^{2} - c + \\delta\\right)^{2}} \\left(c \\delta \\lambda_{j}^{2} - c + \\delta + \\sqrt{4 c \\delta + \\left(c \\delta \\lambda_{j}^{2} - c + \\delta\\right)^{2}}\\right)}$"
      ],
      "text/plain": [
       "2*c*delta*(-2*c*delta*lambda_j**2 + sqrt(4*c*delta + (c*delta*lambda_j**2 - c + delta)**2))/(sqrt(4*c*delta + (c*delta*lambda_j**2 - c + delta)**2)*(c*delta*lambda_j**2 - c + delta + sqrt(4*c*delta + (c*delta*lambda_j**2 - c + delta)**2)))"
      ]
     },
     "execution_count": 4,
     "metadata": {},
     "output_type": "execute_result"
    }
   ],
   "source": [
    "simplify(diff(c * lambda_j / K_j_star(delta, c, lambda_j), lambda_j)) # multiply by c, this only scales the derivative by c"
   ]
  },
  {
   "cell_type": "code",
   "execution_count": 5,
   "id": "2fda67eb-e334-4afb-a535-2f283b6f7bba",
   "metadata": {},
   "outputs": [
    {
     "data": {
      "text/latex": [
       "$\\displaystyle \\frac{2 c \\left(- 2 c \\delta \\lambda_{j}^{2} + \\sqrt{4 c \\delta + \\left(c \\delta \\lambda_{j}^{2} - c + \\delta\\right)^{2}}\\right)}{\\sqrt{4 c \\delta + \\left(c \\delta \\lambda_{j}^{2} - c + \\delta\\right)^{2}} \\left(c \\delta \\lambda_{j}^{2} - c + \\delta + \\sqrt{4 c \\delta + \\left(c \\delta \\lambda_{j}^{2} - c + \\delta\\right)^{2}}\\right)}$"
      ],
      "text/plain": [
       "2*c*(-2*c*delta*lambda_j**2 + sqrt(4*c*delta + (c*delta*lambda_j**2 - c + delta)**2))/(sqrt(4*c*delta + (c*delta*lambda_j**2 - c + delta)**2)*(c*delta*lambda_j**2 - c + delta + sqrt(4*c*delta + (c*delta*lambda_j**2 - c + delta)**2)))"
      ]
     },
     "execution_count": 5,
     "metadata": {},
     "output_type": "execute_result"
    }
   ],
   "source": [
    "simplify(diff(c * lambda_j / (delta * K_j_star(delta, c, lambda_j)), lambda_j)) # multiply K_j^* by delta on top of the previous changes, this only scales by 1/delta"
   ]
  },
  {
   "cell_type": "code",
   "execution_count": 6,
   "id": "6a8bbe96-8936-4720-8cb4-c7afb91cca4c",
   "metadata": {},
   "outputs": [
    {
     "data": {
      "text/latex": [
       "$\\displaystyle \\frac{2 c \\left(- 2 c \\delta \\lambda_{j}^{2} \\left(c \\delta \\lambda_{j}^{2} - c + \\delta + \\sqrt{4 c \\delta + \\left(c \\delta \\lambda_{j}^{2} - c + \\delta\\right)^{2}}\\right) + \\sqrt{4 c \\delta + \\left(c \\delta \\lambda_{j}^{2} - c + \\delta\\right)^{2}} \\left(c \\delta \\lambda_{j}^{2} + c + \\delta + \\sqrt{4 c \\delta + \\left(c \\delta \\lambda_{j}^{2} - c + \\delta\\right)^{2}}\\right)\\right)}{\\sqrt{4 c \\delta + \\left(c \\delta \\lambda_{j}^{2} - c + \\delta\\right)^{2}} \\left(c \\delta \\lambda_{j}^{2} + c + \\delta + \\sqrt{4 c \\delta + \\left(c \\delta \\lambda_{j}^{2} - c + \\delta\\right)^{2}}\\right)^{2}}$"
      ],
      "text/plain": [
       "2*c*(-2*c*delta*lambda_j**2*(c*delta*lambda_j**2 - c + delta + sqrt(4*c*delta + (c*delta*lambda_j**2 - c + delta)**2)) + sqrt(4*c*delta + (c*delta*lambda_j**2 - c + delta)**2)*(c*delta*lambda_j**2 + c + delta + sqrt(4*c*delta + (c*delta*lambda_j**2 - c + delta)**2)))/(sqrt(4*c*delta + (c*delta*lambda_j**2 - c + delta)**2)*(c*delta*lambda_j**2 + c + delta + sqrt(4*c*delta + (c*delta*lambda_j**2 - c + delta)**2))**2)"
      ]
     },
     "execution_count": 6,
     "metadata": {},
     "output_type": "execute_result"
    }
   ],
   "source": [
    "simplify(diff(c * lambda_j / (delta * K_j_star(delta, c, lambda_j) + c), lambda_j)) # add the +c from the denominator"
   ]
  },
  {
   "cell_type": "markdown",
   "id": "e222e17c-5b9e-4dda-b826-1405b9c32b92",
   "metadata": {},
   "source": [
    "This is the expression from the original notebook."
   ]
  }
 ],
 "metadata": {
  "kernelspec": {
   "display_name": "Python 3",
   "language": "python",
   "name": "python3"
  },
  "language_info": {
   "codemirror_mode": {
    "name": "ipython",
    "version": 3
   },
   "file_extension": ".py",
   "mimetype": "text/x-python",
   "name": "python",
   "nbconvert_exporter": "python",
   "pygments_lexer": "ipython3",
   "version": "3.8.8"
  },
  "widgets": {
   "application/vnd.jupyter.widget-state+json": {
    "state": {},
    "version_major": 2,
    "version_minor": 0
   }
  }
 },
 "nbformat": 4,
 "nbformat_minor": 5
}
