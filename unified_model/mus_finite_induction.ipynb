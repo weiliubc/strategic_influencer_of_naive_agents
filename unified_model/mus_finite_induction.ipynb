{
 "cells": [
  {
   "cell_type": "markdown",
   "id": "a06788b5-bd29-426e-9406-ac16b75ea405",
   "metadata": {},
   "source": [
    "# Unfinished proof of $K_t$ decreasing in $M$ and $MK_t$ increasing in $M$, $\\forall 0 \\leq t \\leq T-1$\n",
    "\n",
    "James Yu, 23 October 2022"
   ]
  },
  {
   "cell_type": "code",
   "execution_count": 1,
   "id": "1ce1e944-b661-4e60-9315-93c2ae7125bb",
   "metadata": {
    "tags": []
   },
   "outputs": [],
   "source": [
    "from sympy import *"
   ]
  },
  {
   "cell_type": "markdown",
   "id": "bc8fff1b-450a-4b07-b2a6-e4a1c5864ebd",
   "metadata": {},
   "source": [
    "Proof by induction on $t$: we wish to show that $\\frac{\\partial K_t}{\\partial M} < 0$ and $\\frac{\\partial MK_t}{\\partial M} > 0$ for all $0 \\leq t \\leq T-1$.\n",
    "\n",
    "Consider the $t = T-1$ base case. Then $K_{T-1}$ is:"
   ]
  },
  {
   "cell_type": "code",
   "execution_count": 2,
   "id": "c437484c-ae9a-448a-846c-3821e8d3ac06",
   "metadata": {},
   "outputs": [
    {
     "data": {
      "text/latex": [
       "$\\displaystyle \\frac{c \\delta \\lambda_{i}^{2} \\left(c + \\delta\\right)}{\\left(M \\delta + c\\right)^{2}} + 1$"
      ],
      "text/plain": [
       "c*delta*lambda_i**2*(c + delta)/(M*delta + c)**2 + 1"
      ]
     },
     "execution_count": 2,
     "metadata": {},
     "output_type": "execute_result"
    }
   ],
   "source": [
    "c, delta, M, lambda_i = symbols(\"c delta M lambda_i\")\n",
    "K_TM1 = 1 + c*delta*(delta+c)*lambda_i**2 / (M*delta + c)**2\n",
    "K_TM1"
   ]
  },
  {
   "cell_type": "markdown",
   "id": "629a05e2-50ce-46dd-ab97-a6fbb61210cd",
   "metadata": {},
   "source": [
    "It follows that $\\frac{\\partial K_{T-1}}{\\partial M}$ is:"
   ]
  },
  {
   "cell_type": "code",
   "execution_count": 3,
   "id": "24d95dc3-3777-4845-b050-476135f517aa",
   "metadata": {
    "tags": []
   },
   "outputs": [
    {
     "data": {
      "text/latex": [
       "$\\displaystyle - \\frac{2 c \\delta^{2} \\lambda_{i}^{2} \\left(c + \\delta\\right)}{\\left(M \\delta + c\\right)^{3}}$"
      ],
      "text/plain": [
       "-2*c*delta**2*lambda_i**2*(c + delta)/(M*delta + c)**3"
      ]
     },
     "execution_count": 3,
     "metadata": {},
     "output_type": "execute_result"
    }
   ],
   "source": [
    "diff(K_TM1, M)"
   ]
  },
  {
   "cell_type": "markdown",
   "id": "e2512249-9ead-437c-b55d-b1d6f1179a37",
   "metadata": {
    "tags": []
   },
   "source": [
    "which is negative (we disregard the $\\lambda_i = 0$ case since that implies $K_t = 1, \\forall t$). Hence, $\\frac{\\partial K_{T-1}}{\\partial M} < 0$ as needed."
   ]
  },
  {
   "cell_type": "markdown",
   "id": "3f1d7342-245e-4ca8-976e-e964aeea3774",
   "metadata": {},
   "source": [
    "Next, $\\frac{\\partial MK_{T-1}}{\\partial M}$ is:"
   ]
  },
  {
   "cell_type": "code",
   "execution_count": 4,
   "id": "0eab29d0-9dbb-4012-857e-4348c6f95a76",
   "metadata": {
    "tags": []
   },
   "outputs": [
    {
     "data": {
      "text/latex": [
       "$\\displaystyle \\frac{- 2 M c \\delta^{2} \\lambda_{i}^{2} \\left(c + \\delta\\right) + c \\delta \\lambda_{i}^{2} \\left(c + \\delta\\right) \\left(M \\delta + c\\right) + \\left(M \\delta + c\\right)^{3}}{\\left(M \\delta + c\\right)^{3}}$"
      ],
      "text/plain": [
       "(-2*M*c*delta**2*lambda_i**2*(c + delta) + c*delta*lambda_i**2*(c + delta)*(M*delta + c) + (M*delta + c)**3)/(M*delta + c)**3"
      ]
     },
     "execution_count": 4,
     "metadata": {},
     "output_type": "execute_result"
    }
   ],
   "source": [
    "simplify(diff(M * K_TM1, M))"
   ]
  },
  {
   "cell_type": "markdown",
   "id": "628aa9d2-40fe-4f97-9d15-528caa47dd06",
   "metadata": {},
   "source": [
    "The denominator is positive. If we expand the numerator:"
   ]
  },
  {
   "cell_type": "code",
   "execution_count": 5,
   "id": "7683233c-352c-48c4-829c-ebfc4ae8c6cc",
   "metadata": {
    "tags": []
   },
   "outputs": [
    {
     "data": {
      "text/latex": [
       "$\\displaystyle M^{3} \\delta^{3} + 3 M^{2} c \\delta^{2} - M c^{2} \\delta^{2} \\lambda_{i}^{2} + 3 M c^{2} \\delta - M c \\delta^{3} \\lambda_{i}^{2} + c^{3} \\delta \\lambda_{i}^{2} + c^{3} + c^{2} \\delta^{2} \\lambda_{i}^{2}$"
      ],
      "text/plain": [
       "M**3*delta**3 + 3*M**2*c*delta**2 - M*c**2*delta**2*lambda_i**2 + 3*M*c**2*delta - M*c*delta**3*lambda_i**2 + c**3*delta*lambda_i**2 + c**3 + c**2*delta**2*lambda_i**2"
      ]
     },
     "execution_count": 5,
     "metadata": {},
     "output_type": "execute_result"
    }
   ],
   "source": [
    "expand(fraction(simplify(diff(M * K_TM1, M)))[0])"
   ]
  },
  {
   "cell_type": "markdown",
   "id": "41caf4f3-4dc6-4989-a623-1f00287497f1",
   "metadata": {},
   "source": [
    "Only two terms are negative. We can group them with independent positive terms as follows:"
   ]
  },
  {
   "cell_type": "markdown",
   "id": "63d764e8-7ae2-4c84-bc83-2e5667943756",
   "metadata": {},
   "source": [
    "$$3Mc^2\\delta - Mc^2\\delta^2\\lambda_i^2 = c^2\\delta M(3 - \\delta \\lambda_i^2) > 0$$"
   ]
  },
  {
   "cell_type": "markdown",
   "id": "0e31fcbc-729d-4183-b782-238fb1550b13",
   "metadata": {},
   "source": [
    "$$3M^2 c \\delta^2 - Mc\\delta^3 \\lambda_i^2 = c\\delta^2 M (3 - \\delta\\lambda_i^2) > 0$$"
   ]
  },
  {
   "cell_type": "markdown",
   "id": "0769881b-f905-44df-908e-4c83548ad867",
   "metadata": {},
   "source": [
    "Which shows that the entire numerator is positive and hence $\\frac{\\partial MK_{T-1}}{\\partial M} < 0$ as needed."
   ]
  },
  {
   "cell_type": "markdown",
   "id": "80f0b25c-25a8-4223-b4e4-f86126cc2725",
   "metadata": {},
   "source": [
    "Now consider the joint induction hypothesis of $\\frac{\\partial K_t}{\\partial M} < 0$ and $\\frac{\\partial MK_t}{\\partial M} > 0$ both holding at the same time. We wish to demonstrate that $\\frac{\\partial K_{t-1}}{\\partial M} < 0$ and $\\frac{\\partial MK_{t-1}}{\\partial M} > 0$ must therefore also hold. \n",
    "\n",
    "First, we compute $K_{t-1}$ as a function of $K_t(M)$:"
   ]
  },
  {
   "cell_type": "code",
   "execution_count": 6,
   "id": "a33cf21b-362d-4a72-9d50-1b8fb49606b0",
   "metadata": {
    "tags": []
   },
   "outputs": [
    {
     "data": {
      "text/latex": [
       "$\\displaystyle \\frac{c \\delta \\lambda_{i}^{2} \\left(c + \\delta \\operatorname{K_{t}}{\\left(M \\right)}\\right) \\operatorname{K_{t}}{\\left(M \\right)}}{\\left(M \\delta \\operatorname{K_{t}}{\\left(M \\right)} + c\\right)^{2}} + 1$"
      ],
      "text/plain": [
       "c*delta*lambda_i**2*(c + delta*K_t(M))*K_t(M)/(M*delta*K_t(M) + c)**2 + 1"
      ]
     },
     "execution_count": 6,
     "metadata": {},
     "output_type": "execute_result"
    }
   ],
   "source": [
    "K_t = Function(\"K_t\")(M)\n",
    "K_tm1 = 1 + c*delta*K_t*(delta*K_t + c)*lambda_i**2 / (M * delta * K_t + c)**2\n",
    "K_tm1"
   ]
  },
  {
   "cell_type": "markdown",
   "id": "b5df4cd4-4ac8-4e7c-892f-01af9aa75253",
   "metadata": {},
   "source": [
    "From here, $\\frac{\\partial K_{t-1}}{\\partial M}$ is:"
   ]
  },
  {
   "cell_type": "code",
   "execution_count": 7,
   "id": "bf1db291-0d5f-4a6f-a32f-5dafcc5d5254",
   "metadata": {
    "tags": []
   },
   "outputs": [
    {
     "data": {
      "text/latex": [
       "$\\displaystyle \\frac{c \\delta \\lambda_{i}^{2} \\left(\\frac{\\partial{K_t}}{\\partial{M}} \\left(c + 2 \\delta \\operatorname{K_{t}}{\\left(M \\right)}\\right) \\left(M \\delta \\operatorname{K_{t}}{\\left(M \\right)} + c\\right) - 2 \\delta \\left(c + \\delta \\operatorname{K_{t}}{\\left(M \\right)}\\right) \\left(M \\frac{\\partial{K_t}}{\\partial{M}} + \\operatorname{K_{t}}{\\left(M \\right)}\\right) \\operatorname{K_{t}}{\\left(M \\right)}\\right)}{\\left(M \\delta \\operatorname{K_{t}}{\\left(M \\right)} + c\\right)^{3}}$"
      ],
      "text/plain": [
       "c*delta*lambda_i**2*(\\frac{\\partial{K_t}}{\\partial{M}}*(c + 2*delta*K_t(M))*(M*delta*K_t(M) + c) - 2*delta*(c + delta*K_t(M))*(M*\\frac{\\partial{K_t}}{\\partial{M}} + K_t(M))*K_t(M))/(M*delta*K_t(M) + c)**3"
      ]
     },
     "execution_count": 7,
     "metadata": {},
     "output_type": "execute_result"
    }
   ],
   "source": [
    "# visually identify the d/dM K_t(M) terms in the derivative with proper partial notation\n",
    "simplify(diff(K_tm1, M)).subs(diff(K_t, M), symbols(r\"\\frac{\\partial{K_t}}{\\partial{M}}\"))"
   ]
  },
  {
   "cell_type": "markdown",
   "id": "f1eb5b15-2b31-4534-8d4e-c378c7f9b0cb",
   "metadata": {},
   "source": [
    "Note that $M \\frac{\\partial K_t}{\\partial M} + K_t(M) = \\frac{\\partial MK_t}{\\partial M} > 0$ by the induction hypothesis."
   ]
  },
  {
   "cell_type": "markdown",
   "id": "6f6ee93e-d819-48ac-9f05-12e72c6dec0c",
   "metadata": {},
   "source": [
    "Additionally, $\\frac{\\partial K_t}{\\partial M} < 0$ by the induction hypothesis. This implies that the numerator is negative since $-2\\delta$ is negative and all other terms are positive. Since the denominator is also positive, this implies $\\frac{\\partial K_{t-1}}{\\partial M} < 0$, as needed."
   ]
  },
  {
   "cell_type": "markdown",
   "id": "08cf467a-0a3d-4c6e-ba2e-9445d43d6128",
   "metadata": {},
   "source": [
    "Next, $MK_{t-1}$ is:"
   ]
  },
  {
   "cell_type": "code",
   "execution_count": 8,
   "id": "0aa3707b-1472-4d13-9d72-f05f59f3238d",
   "metadata": {},
   "outputs": [
    {
     "data": {
      "text/latex": [
       "$\\displaystyle M + \\frac{c \\delta \\lambda_{i}^{2} \\left(c + \\delta \\operatorname{K_{t}}{\\left(M \\right)}\\right) \\operatorname{MK_{t}}{\\left(M \\right)}}{\\left(c + \\delta \\operatorname{MK_{t}}{\\left(M \\right)}\\right)^{2}}$"
      ],
      "text/plain": [
       "M + c*delta*lambda_i**2*(c + delta*K_t(M))*MK_t(M)/(c + delta*MK_t(M))**2"
      ]
     },
     "execution_count": 8,
     "metadata": {},
     "output_type": "execute_result"
    }
   ],
   "source": [
    "MK_t = Function(\"MK_t\")(M)\n",
    "MK_tm1 = (M + c*delta*M*K_t*(delta*K_t + c)*lambda_i**2 / (M * delta * K_t + c)**2).subs(M*K_t, MK_t)\n",
    "MK_tm1"
   ]
  },
  {
   "cell_type": "markdown",
   "id": "2f556fa3-ab36-4c5b-bd2a-45f96f96508c",
   "metadata": {},
   "source": [
    "and so $\\frac{\\partial MK_{t-1}}{\\partial M}$ is:"
   ]
  },
  {
   "cell_type": "code",
   "execution_count": 9,
   "id": "38c2edb1-2618-45d5-99c0-4d9c7961b680",
   "metadata": {
    "tags": []
   },
   "outputs": [
    {
     "data": {
      "text/latex": [
       "$\\displaystyle \\frac{- 2 c \\delta^{2} \\lambda_{i}^{2} \\left(c + \\delta \\operatorname{K_{t}}{\\left(M \\right)}\\right) \\operatorname{MK_{t}}{\\left(M \\right)} \\frac{d}{d M} \\operatorname{MK_{t}}{\\left(M \\right)} + c \\delta \\lambda_{i}^{2} \\left(c + \\delta \\operatorname{MK_{t}}{\\left(M \\right)}\\right) \\left(\\delta \\operatorname{MK_{t}}{\\left(M \\right)} \\frac{d}{d M} \\operatorname{K_{t}}{\\left(M \\right)} + \\left(c + \\delta \\operatorname{K_{t}}{\\left(M \\right)}\\right) \\frac{d}{d M} \\operatorname{MK_{t}}{\\left(M \\right)}\\right) + \\left(c + \\delta \\operatorname{MK_{t}}{\\left(M \\right)}\\right)^{3}}{\\left(c + \\delta \\operatorname{MK_{t}}{\\left(M \\right)}\\right)^{3}}$"
      ],
      "text/plain": [
       "(-2*c*delta**2*lambda_i**2*(c + delta*K_t(M))*MK_t(M)*Derivative(MK_t(M), M) + c*delta*lambda_i**2*(c + delta*MK_t(M))*(delta*MK_t(M)*Derivative(K_t(M), M) + (c + delta*K_t(M))*Derivative(MK_t(M), M)) + (c + delta*MK_t(M))**3)/(c + delta*MK_t(M))**3"
      ]
     },
     "execution_count": 9,
     "metadata": {},
     "output_type": "execute_result"
    }
   ],
   "source": [
    "simplify(diff(MK_tm1, M))"
   ]
  },
  {
   "cell_type": "markdown",
   "id": "91380fae-5028-4db9-8d13-b4534a2ff834",
   "metadata": {},
   "source": [
    "We can clean up the notation that the symbolic solver produces:"
   ]
  },
  {
   "cell_type": "code",
   "execution_count": 10,
   "id": "a6780bf8-8a4a-4e6a-a73b-ada3d458149c",
   "metadata": {},
   "outputs": [
    {
     "data": {
      "text/latex": [
       "$\\displaystyle \\frac{- 2 \\frac{\\partial{MK_t}}{\\partial{M}} c \\delta^{2} \\lambda_{i}^{2} \\left(c + \\delta \\operatorname{K_{t}}{\\left(M \\right)}\\right) \\operatorname{MK_{t}}{\\left(M \\right)} + c \\delta \\lambda_{i}^{2} \\left(c + \\delta \\operatorname{MK_{t}}{\\left(M \\right)}\\right) \\left(\\frac{\\partial{K_t}}{\\partial{M}} \\delta \\operatorname{MK_{t}}{\\left(M \\right)} + \\frac{\\partial{MK_t}}{\\partial{M}} \\left(c + \\delta \\operatorname{K_{t}}{\\left(M \\right)}\\right)\\right) + \\left(c + \\delta \\operatorname{MK_{t}}{\\left(M \\right)}\\right)^{3}}{\\left(c + \\delta \\operatorname{MK_{t}}{\\left(M \\right)}\\right)^{3}}$"
      ],
      "text/plain": [
       "(-2*\\frac{\\partial{MK_t}}{\\partial{M}}*c*delta**2*lambda_i**2*(c + delta*K_t(M))*MK_t(M) + c*delta*lambda_i**2*(c + delta*MK_t(M))*(\\frac{\\partial{K_t}}{\\partial{M}}*delta*MK_t(M) + \\frac{\\partial{MK_t}}{\\partial{M}}*(c + delta*K_t(M))) + (c + delta*MK_t(M))**3)/(c + delta*MK_t(M))**3"
      ]
     },
     "execution_count": 10,
     "metadata": {},
     "output_type": "execute_result"
    }
   ],
   "source": [
    "new_derivative = simplify(diff(MK_tm1, M)).subs(diff(K_t, M), symbols(r\"\\frac{\\partial{K_t}}{\\partial{M}}\")).subs(diff(MK_t, M), symbols(r\"\\frac{\\partial{MK_t}}{\\partial{M}}\"))\n",
    "new_derivative"
   ]
  },
  {
   "cell_type": "markdown",
   "id": "a536ba48-3a6b-48d6-87f5-9ccc11de3d37",
   "metadata": {},
   "source": [
    "The denominator is positive. If we expand the numerator:"
   ]
  },
  {
   "cell_type": "code",
   "execution_count": 11,
   "id": "9d687929-6505-4f20-9c81-f1a11d73ad07",
   "metadata": {
    "tags": []
   },
   "outputs": [
    {
     "data": {
      "text/latex": [
       "$\\displaystyle - 2 K M \\frac{\\partial{MK}}{\\partial{M}} c \\delta^{2} \\lambda_{i}^{2} \\left(K \\delta + c\\right) + c \\delta \\lambda_{i}^{2} \\left(K M \\delta + c\\right) \\left(K M \\frac{\\partial{K}}{\\partial{M}} \\delta + \\frac{\\partial{MK}}{\\partial{M}} \\left(K \\delta + c\\right)\\right) + \\left(K M \\delta + c\\right)^{3}$"
      ],
      "text/plain": [
       "-2*K*M*\\frac{\\partial{MK}}{\\partial{M}}*c*delta**2*lambda_i**2*(K*delta + c) + c*delta*lambda_i**2*(K*M*delta + c)*(K*M*\\frac{\\partial{K}}{\\partial{M}}*delta + \\frac{\\partial{MK}}{\\partial{M}}*(K*delta + c)) + (K*M*delta + c)**3"
      ]
     },
     "execution_count": 11,
     "metadata": {},
     "output_type": "execute_result"
    }
   ],
   "source": [
    "K, PM, PK = symbols(r\"K \\frac{\\partial{MK}}{\\partial{M}} \\frac{\\partial{K}}{\\partial{M}}\")\n",
    "rewritten = -2 * PM * c * delta**2 * lambda_i**2 * (c + delta * K) * M * K + c * delta * lambda_i**2 * (c + delta * M * K) * (PK * delta * M * K + PM * (c + delta * K)) + (c + delta * M * K)**3\n",
    "rewritten"
   ]
  },
  {
   "cell_type": "markdown",
   "id": "07b0b087-e926-4676-a47a-28c09e80c7e2",
   "metadata": {},
   "source": [
    "We can do a bit of rearrangement from here and substitute $\\frac{\\partial M K_t}{\\partial M}$:"
   ]
  },
  {
   "cell_type": "code",
   "execution_count": 12,
   "id": "2cfcd073-ba82-4529-8738-7429f667eb31",
   "metadata": {},
   "outputs": [
    {
     "data": {
      "text/latex": [
       "$\\displaystyle K M \\frac{\\partial{K}}{\\partial{M}} c \\delta^{2} \\lambda_{i}^{2} \\left(K M \\delta + c\\right) + c \\delta \\lambda_{i}^{2} \\left(K + M \\frac{\\partial{K}}{\\partial{M}}\\right) \\left(K \\delta + c\\right) \\left(- K M \\delta + c\\right) + \\left(K M \\delta + c\\right)^{3}$"
      ],
      "text/plain": [
       "K*M*\\frac{\\partial{K}}{\\partial{M}}*c*delta**2*lambda_i**2*(K*M*delta + c) + c*delta*lambda_i**2*(K + M*\\frac{\\partial{K}}{\\partial{M}})*(K*delta + c)*(-K*M*delta + c) + (K*M*delta + c)**3"
      ]
     },
     "execution_count": 12,
     "metadata": {},
     "output_type": "execute_result"
    }
   ],
   "source": [
    "rerewritten = c*delta*lambda_i**2 * (K*delta + c) * PM * (K*M*delta+c - delta *2 * K * M) + c*delta*lambda_i**2 * (K*M*delta+c)*K*M*delta*PK + (K*M*delta+c)**3\n",
    "rerewritten.subs(PM, M*PK+K)"
   ]
  },
  {
   "cell_type": "markdown",
   "id": "5b9c6066-e152-40d3-9d3f-146b129bf42c",
   "metadata": {},
   "source": [
    "I am not sure if this is positive. What I do know:"
   ]
  },
  {
   "cell_type": "markdown",
   "id": "30e442a9-2c0f-4032-9069-a62955be0a34",
   "metadata": {},
   "source": [
    "- $K + M\\frac{\\partial K}{\\partial M} = \\frac{\\partial MK}{\\partial M} > 0$. This follows from the induction hypothesis and the chain rule.\n",
    "- $K > -M\\frac{\\partial K}{\\partial M}$. This follows from rearranging the above.\n",
    "- $K > -\\frac{\\partial K}{\\partial M}$. This follows from the induction hypothesis: $\\frac{\\partial K}{\\partial M} < 0$. Since $K > 0$ and $M > 0$, we get this result.\n",
    "- $K \\geq 1$. This follows from the recursive construction.\n",
    "- $0 < \\delta \\leq 1, 0 < \\lambda_i \\leq 1$ (ignore $\\lambda_i = 0$), $c > 0$, $M \\geq 1 \\in \\mathbf{N}$. Can restrict to $M \\geq 2$ if necessary since $M = 1$ is covered by the old model.\n",
    "- The current problem with my proof is that I am not sure how to reconcile the relationship between $c$ and $K$ (but depending on the approach this may not be necessary)."
   ]
  }
 ],
 "metadata": {
  "kernelspec": {
   "display_name": "Python 3",
   "language": "python",
   "name": "python3"
  },
  "language_info": {
   "codemirror_mode": {
    "name": "ipython",
    "version": 3
   },
   "file_extension": ".py",
   "mimetype": "text/x-python",
   "name": "python",
   "nbconvert_exporter": "python",
   "pygments_lexer": "ipython3",
   "version": "3.8.8"
  },
  "widgets": {
   "application/vnd.jupyter.widget-state+json": {
    "state": {},
    "version_major": 2,
    "version_minor": 0
   }
  }
 },
 "nbformat": 4,
 "nbformat_minor": 5
}
