{
 "cells": [
  {
   "cell_type": "markdown",
   "id": "b0fd82ab-93f1-4261-a477-551170e5b860",
   "metadata": {},
   "source": [
    "# Infinite Message Model: Solution\n",
    "\n",
    "James Yu, 14 June 2022"
   ]
  },
  {
   "cell_type": "code",
   "execution_count": 1,
   "id": "3f27961d-869b-4ec6-87db-839459052a11",
   "metadata": {},
   "outputs": [],
   "source": [
    "import matplotlib.pyplot as plt\n",
    "import math\n",
    "import numpy as np\n",
    "import scipy.optimize"
   ]
  },
  {
   "cell_type": "markdown",
   "id": "82b2a45e-0af2-49fc-899d-313a9ae4cab8",
   "metadata": {},
   "source": [
    "There are two equations required to formulate a solution to the infinite message model. The first is the expression for the shadow price $\\mu$, which is the budget constraint with $\\tilde{\\mathbf{y}}_0$ substituted for $\\tilde{\\mathbf{x}}_0$ via the FOC for $\\tilde{\\mathbf{y}}_0$ using the solution guess $\\tilde{\\mathbf{y}}_t = D_k^t \\tilde{\\mathbf{y}}_0$:"
   ]
  },
  {
   "cell_type": "markdown",
   "id": "bbd66c8f-5e75-4ed8-ba0e-06a287b54e6a",
   "metadata": {},
   "source": [
    "$$\\tilde{\\mathbf{x}}_0^\\prime (\\mu (I + \\mu I + \\mu \\delta D^2 - \\mu \\delta D D_k)^{-1} - I)^2 \\tilde{\\mathbf{x}}_0 + \\delta \\tilde{\\mathbf{x}}_0^\\prime \\mu^2 (I + \\mu I + \\mu \\delta D^2  - \\mu \\delta D D_k)^{-2} (D_k - D)^2 (I - \\delta D_k^2)^{-1} \\tilde{\\mathbf{x}}_0 = C$$"
   ]
  },
  {
   "cell_type": "markdown",
   "id": "833bd6cc-404f-45be-b999-e8db9b730131",
   "metadata": {},
   "source": [
    "The second is the solution to the second-order difference equation. The solutions $r_k$ are given by:"
   ]
  },
  {
   "cell_type": "markdown",
   "id": "cc444b5a-b761-484a-8a9b-2fede8724564",
   "metadata": {},
   "source": [
    "$$r_k = \\frac{\\lambda_k^2 + \\mu + \\mu \\delta \\lambda_k^2 \\pm \\sqrt{(\\lambda_k^2 + \\mu + \\mu \\delta \\lambda_k^2)^2 - 4 \\delta \\mu^2 \\lambda_k^2}}{2\\delta\\mu \\lambda_k}$$"
   ]
  },
  {
   "cell_type": "markdown",
   "id": "da63770c-80c2-4554-9b3d-00198730c850",
   "metadata": {},
   "source": [
    "Note that $D_k$ is the diagonal matrix of each $r_k$ so both equations are dependent on $r_k$ and $\\mu$. It would be extremely difficult to solve for $\\mu$ analytically due to this fact on top of the fact that the budget constraint is already an implicit definition of $\\mu$. We can instead use a numerical solution by searching for the $\\mu$ that satisfies the equation."
   ]
  },
  {
   "cell_type": "code",
   "execution_count": 2,
   "id": "188866b8-898c-4913-b58a-c1fcaf9fa1be",
   "metadata": {},
   "outputs": [],
   "source": [
    "def r_k(lambda_k, mu, delta):\n",
    "    q_B = (lambda_k ** 2) + mu + (mu * delta * (lambda_k ** 2))\n",
    "    q_A = delta * mu * lambda_k\n",
    "    q_C = mu * lambda_k\n",
    "    if lambda_k > 0:\n",
    "        root = (q_A - math.sqrt((q_B ** 2) - (4 * q_A * q_C))) / (2 * q_A) # negative sign\n",
    "        #if np.abs(root) > 1:\n",
    "        #    print(\"WARNING: non-convergent root for lambda_k =\", lambda_k, \"mu =\", mu, \"delta =\", delta)\n",
    "        return root\n",
    "    elif lambda_k < 0:\n",
    "        root = (q_A + math.sqrt((q_B ** 2) - (4 * q_A * q_C))) / (2 * q_A) # positive sign\n",
    "        #if np.abs(root) > 1:\n",
    "        #    print(\"WARNING: non-convergent root for lambda_k =\", lambda_k, \"mu =\", mu, \"delta =\", delta)\n",
    "        return root\n",
    "    else:\n",
    "        raise Exception(\"unhandled lambda_k = 0 case found\")"
   ]
  },
  {
   "cell_type": "code",
   "execution_count": 3,
   "id": "cdf68bb1-3cd0-402e-aca6-acfdb5e0aa3f",
   "metadata": {},
   "outputs": [
    {
     "data": {
      "text/plain": [
       "-0.6180339887498949"
      ]
     },
     "execution_count": 3,
     "metadata": {},
     "output_type": "execute_result"
    }
   ],
   "source": [
    "r_k(1, 1, 1)"
   ]
  },
  {
   "cell_type": "code",
   "execution_count": 4,
   "id": "11e60fa4-8044-4ee3-85fe-83b5b74b342d",
   "metadata": {},
   "outputs": [
    {
     "data": {
      "text/plain": [
       "-0.7549285553418353"
      ]
     },
     "execution_count": 4,
     "metadata": {},
     "output_type": "execute_result"
    }
   ],
   "source": [
    "r_k(-0.5, 1, 0.9)"
   ]
  },
  {
   "cell_type": "markdown",
   "id": "223b4331-e36e-4bf3-b831-c75b6a296978",
   "metadata": {},
   "source": [
    "Some quick checks:"
   ]
  },
  {
   "cell_type": "code",
   "execution_count": 5,
   "id": "891ac77b-aaa6-4355-b45e-396c71c1b71c",
   "metadata": {},
   "outputs": [
    {
     "name": "stdout",
     "output_type": "stream",
     "text": [
      "-0.6180339887498949\n",
      "1.7549285553418352\n"
     ]
    }
   ],
   "source": [
    "def r_k_always_negative(lambda_k, mu, delta):\n",
    "    q_B = (lambda_k ** 2) + mu + (mu * delta * (lambda_k ** 2))\n",
    "    q_A = delta * mu * lambda_k\n",
    "    q_C = mu * lambda_k\n",
    "    return (q_A - math.sqrt((q_B ** 2) - (4 * q_A * q_C))) / (2 * q_A) # negative sign\n",
    "\n",
    "print(r_k_always_negative(1, 1, 1))\n",
    "print(r_k_always_negative(-0.5, 1, 0.9))"
   ]
  },
  {
   "cell_type": "markdown",
   "id": "04037323-c951-4adf-8b9a-898255b62fbb",
   "metadata": {},
   "source": [
    "Negative eigenvalue with the positive root is non-convergent. "
   ]
  },
  {
   "cell_type": "code",
   "execution_count": 6,
   "id": "4f993507-ed7f-4b7a-b5c1-ce2dd855806d",
   "metadata": {},
   "outputs": [
    {
     "name": "stdout",
     "output_type": "stream",
     "text": [
      "1.618033988749895\n",
      "-0.7549285553418353\n"
     ]
    }
   ],
   "source": [
    "def r_k_always_positive(lambda_k, mu, delta):\n",
    "    q_B = (lambda_k ** 2) + mu + (mu * delta * (lambda_k ** 2))\n",
    "    q_A = delta * mu * lambda_k\n",
    "    q_C = mu * lambda_k\n",
    "    return (q_A + math.sqrt((q_B ** 2) - (4 * q_A * q_C))) / (2 * q_A) # negative sign\n",
    "\n",
    "print(r_k_always_positive(1, 1, 1))\n",
    "print(r_k_always_positive(-0.5, 1, 0.9))"
   ]
  },
  {
   "cell_type": "markdown",
   "id": "31d702fd-2bdb-469a-a7ef-e177ad629242",
   "metadata": {},
   "source": [
    "Converse scenario is true as well. So we have to be careful."
   ]
  },
  {
   "cell_type": "code",
   "execution_count": 7,
   "id": "500fc92c-82d7-40a1-bdc4-7f1d44b5537d",
   "metadata": {},
   "outputs": [],
   "source": [
    "def y0_matrix(mu, delta, D, D_k, n):\n",
    "    I = np.identity(n)\n",
    "    return I + (mu * I) + (mu * delta * (D @ D)) - (mu * delta * (D @ D_k))"
   ]
  },
  {
   "cell_type": "code",
   "execution_count": 8,
   "id": "51ee447b-85fb-441a-ad28-0cc5bcad371c",
   "metadata": {},
   "outputs": [],
   "source": [
    "def budget_constraint(C, tilde_x_0, mu, D, D_k, delta, n):\n",
    "    I = np.identity(n)\n",
    "    y0_mat = y0_matrix(mu, delta, D, D_k, n)\n",
    "    t_0_term = tilde_x_0.T @ np.linalg.matrix_power(((mu * np.linalg.inv(y0_mat)) - I), 2) @ tilde_x_0\n",
    "    t_sum_term = delta * (mu ** 2) * tilde_x_0.T @ np.linalg.matrix_power(np.linalg.inv(y0_mat), 2) @ (D_k - D) @ (D_k - D) @ np.linalg.inv(I - (delta * (D_k @ D_k))) @ tilde_x_0\n",
    "    return C - t_0_term - t_sum_term # given the correct mu, this should be zero"
   ]
  },
  {
   "cell_type": "markdown",
   "id": "9e53201f-bb5e-424e-8440-2ebc8da50eaa",
   "metadata": {},
   "source": [
    "Next, we need to formulate a specific network to solve. For example:"
   ]
  },
  {
   "cell_type": "code",
   "execution_count": 9,
   "id": "2c5ee973-5d84-4411-9518-8cc78a6db637",
   "metadata": {},
   "outputs": [
    {
     "data": {
      "text/plain": [
       "array([[ 4.],\n",
       "       [10.],\n",
       "       [-3.]])"
      ]
     },
     "execution_count": 9,
     "metadata": {},
     "output_type": "execute_result"
    }
   ],
   "source": [
    "x_0 = np.array([[4.0, 10.0, -3.0]], ndmin = 2).T\n",
    "x_0"
   ]
  },
  {
   "cell_type": "markdown",
   "id": "6812e094-3837-46a9-8f3f-f0084d2d38b5",
   "metadata": {},
   "source": [
    "$A$ must be symmetric in order to perform the eigendecomposition:"
   ]
  },
  {
   "cell_type": "code",
   "execution_count": 10,
   "id": "9569e11f-8719-4385-b0c9-afdbb0883c19",
   "metadata": {},
   "outputs": [
    {
     "data": {
      "text/plain": [
       "array([[0.6, 0.2, 0.2],\n",
       "       [0.2, 0.3, 0.5],\n",
       "       [0.2, 0.5, 0.3]])"
      ]
     },
     "execution_count": 10,
     "metadata": {},
     "output_type": "execute_result"
    }
   ],
   "source": [
    "A = np.array([\n",
    "    [0.6, 0.2, 0.2],\n",
    "    [0.2, 0.3, 0.5],\n",
    "    [0.2, 0.5, 0.3]\n",
    "])\n",
    "A"
   ]
  },
  {
   "cell_type": "code",
   "execution_count": 11,
   "id": "341adadc-29ad-4606-bc6c-113ccb9cfb3f",
   "metadata": {},
   "outputs": [
    {
     "data": {
      "text/plain": [
       "True"
      ]
     },
     "execution_count": 11,
     "metadata": {},
     "output_type": "execute_result"
    }
   ],
   "source": [
    "eigvals, U = np.linalg.eig(A)\n",
    "D = np.diag(eigvals)\n",
    "np.allclose(U @ D @ U.T, A)"
   ]
  },
  {
   "cell_type": "markdown",
   "id": "a5745a61-954f-4a68-b06a-9a12175d7339",
   "metadata": {},
   "source": [
    "This means we have the proper decomposition, since $U D U^\\prime$ returns $A$:"
   ]
  },
  {
   "cell_type": "code",
   "execution_count": 12,
   "id": "96268c5c-2372-4424-8b7a-52ade54032b7",
   "metadata": {},
   "outputs": [
    {
     "data": {
      "text/plain": [
       "array([[0.6, 0.2, 0.2],\n",
       "       [0.2, 0.3, 0.5],\n",
       "       [0.2, 0.5, 0.3]])"
      ]
     },
     "execution_count": 12,
     "metadata": {},
     "output_type": "execute_result"
    }
   ],
   "source": [
    "U @ D @ U.T"
   ]
  },
  {
   "cell_type": "markdown",
   "id": "cb4dfe48-c629-4608-8696-4a3c84360410",
   "metadata": {},
   "source": [
    "We also need a function to compose $D_k$ from each $r_k$:"
   ]
  },
  {
   "cell_type": "code",
   "execution_count": 13,
   "id": "556f32c4-503a-4432-a305-58ba54ef443d",
   "metadata": {},
   "outputs": [],
   "source": [
    "def D_k_(mu, delta, eigenvalues):\n",
    "    return np.diag([r_k(lambda_k, mu, delta) for lambda_k in eigenvalues])"
   ]
  },
  {
   "cell_type": "code",
   "execution_count": 14,
   "id": "10c6c694-3e0f-4465-a9c5-2d77f38e489b",
   "metadata": {},
   "outputs": [
    {
     "data": {
      "text/plain": [
       "array([[-0.81244047,  0.        ,  0.        ],\n",
       "       [ 0.        , -0.61803399,  0.        ],\n",
       "       [ 0.        ,  0.        , -2.00798724]])"
      ]
     },
     "execution_count": 14,
     "metadata": {},
     "output_type": "execute_result"
    }
   ],
   "source": [
    "D_k_(1, 1, eigvals)"
   ]
  },
  {
   "cell_type": "markdown",
   "id": "9b100a7d-e092-4715-abf0-0ad96ff12fd0",
   "metadata": {},
   "source": [
    "This allows us to create the following:"
   ]
  },
  {
   "cell_type": "code",
   "execution_count": 15,
   "id": "d3699b18-11d0-4826-81af-de4b68a9553a",
   "metadata": {},
   "outputs": [],
   "source": [
    "def objective_function(mu_vec, A_, C, x_0_, delta, use_vec = False, suppress_print = False):\n",
    "    if not suppress_print:\n",
    "        print(\"testing\", mu_vec)\n",
    "    if use_vec:\n",
    "        mu = mu_vec[0]\n",
    "    else:\n",
    "        mu = mu_vec\n",
    "    if mu <= 0:\n",
    "        # do not allow negative\n",
    "        return -1 * np.inf\n",
    "    n = np.size(x_0_)\n",
    "    eigvals, U = np.linalg.eig(A_)\n",
    "    D = np.diag(eigvals)\n",
    "    tilde_x_0 = U.T @ x_0_\n",
    "    D_k = D_k_(mu, delta, eigvals)\n",
    "    return budget_constraint(C, tilde_x_0, mu, D, D_k, delta, n).item()"
   ]
  },
  {
   "cell_type": "markdown",
   "id": "37dd1b4d-1313-42d8-adf9-b918bfabd110",
   "metadata": {},
   "source": [
    "This is an expression for the budget constraint solely in terms of $x_0$, $A$, $C$, $\\delta$ and a candidate $\\mu$."
   ]
  },
  {
   "cell_type": "code",
   "execution_count": 16,
   "id": "9706e4b3-81e7-4b35-83a8-872d7cdbe9d8",
   "metadata": {},
   "outputs": [],
   "source": [
    "C = 10\n",
    "delta = 1"
   ]
  },
  {
   "cell_type": "code",
   "execution_count": 17,
   "id": "f8da0849-2459-46dd-90e0-f38e9b26608d",
   "metadata": {},
   "outputs": [
    {
     "name": "stdout",
     "output_type": "stream",
     "text": [
      "testing 1\n"
     ]
    },
    {
     "data": {
      "text/plain": [
       "-3.2393960719296473"
      ]
     },
     "execution_count": 17,
     "metadata": {},
     "output_type": "execute_result"
    }
   ],
   "source": [
    "objective_function(1, A, C, x_0, delta)"
   ]
  },
  {
   "cell_type": "markdown",
   "id": "bfc566e1-e57b-4be3-836a-26aed07cfb34",
   "metadata": {},
   "source": [
    "So now, given the fixed network parameters, we can find the $\\mu$ which sets this function to zero. Here are two example solvers from the SciPy library that can do this:"
   ]
  },
  {
   "cell_type": "code",
   "execution_count": 18,
   "id": "25ddf378-615c-4fac-b06f-d9461456aa5f",
   "metadata": {},
   "outputs": [
    {
     "name": "stdout",
     "output_type": "stream",
     "text": [
      "testing [1]\n",
      "testing [1.]\n",
      "testing [1.]\n",
      "testing [1.00000001]\n",
      "testing [1.03632186]\n",
      "testing [1.03738804]\n",
      "testing [1.03741921]\n",
      "testing [1.03741924]\n",
      "testing [1.03741924]\n"
     ]
    }
   ],
   "source": [
    "res = scipy.optimize.fsolve(lambda mu: objective_function(mu, A, C, x_0, delta, use_vec = True), 1)"
   ]
  },
  {
   "cell_type": "code",
   "execution_count": 19,
   "id": "70b305e1-aa4f-4b79-839c-f7165056c1b4",
   "metadata": {},
   "outputs": [
    {
     "name": "stdout",
     "output_type": "stream",
     "text": [
      "testing 1e-08\n",
      "testing 5000.0\n",
      "testing 1876.5267244409438\n",
      "testing 705.0238729869541\n",
      "testing 265.47787205990625\n",
      "testing 100.46549529806167\n",
      "testing 38.460160379593226\n",
      "testing 15.127750795133949\n",
      "testing 6.329847579122687\n",
      "testing 3.0041921398534948\n",
      "testing 1.7456945034634987\n",
      "testing 0.7787166919044382\n",
      "testing 1.1784301504322023\n",
      "testing 1.0722564908966463\n",
      "testing 1.037514476439488\n",
      "testing 1.0374193352246752\n",
      "testing 1.0374192350923614\n",
      "testing 1.037419235091361\n"
     ]
    }
   ],
   "source": [
    "res2 = scipy.optimize.brentq(lambda mu: objective_function(mu, A, C, x_0, delta), 0.00000001, 5000)"
   ]
  },
  {
   "cell_type": "code",
   "execution_count": 20,
   "id": "d09d0a25-b75e-4bf0-850d-f1af6f96de8a",
   "metadata": {},
   "outputs": [
    {
     "data": {
      "text/plain": [
       "1.037419235092048"
      ]
     },
     "execution_count": 20,
     "metadata": {},
     "output_type": "execute_result"
    }
   ],
   "source": [
    "res.item()"
   ]
  },
  {
   "cell_type": "code",
   "execution_count": 21,
   "id": "c2e632d2-6405-4d75-ab98-add3a83b71c6",
   "metadata": {},
   "outputs": [
    {
     "data": {
      "text/plain": [
       "1.0374192350923614"
      ]
     },
     "execution_count": 21,
     "metadata": {},
     "output_type": "execute_result"
    }
   ],
   "source": [
    "res2"
   ]
  },
  {
   "cell_type": "markdown",
   "id": "5ab4f113-4914-47d1-bf0e-71488c70f4f5",
   "metadata": {
    "tags": []
   },
   "source": [
    "With respect to rounding error, they yield the same result. Thus, this is a $\\mu$ which satisfies the equation. We can validate:"
   ]
  },
  {
   "cell_type": "code",
   "execution_count": 22,
   "id": "ab69e36a-6bc4-43b1-867a-103bae7ce95b",
   "metadata": {},
   "outputs": [
    {
     "name": "stdout",
     "output_type": "stream",
     "text": [
      "testing 1.037419235092048\n"
     ]
    },
    {
     "data": {
      "text/plain": [
       "7.105427357601002e-15"
      ]
     },
     "execution_count": 22,
     "metadata": {},
     "output_type": "execute_result"
    }
   ],
   "source": [
    "objective_function(res.item(), A, C, x_0, delta)"
   ]
  },
  {
   "cell_type": "markdown",
   "id": "9b11e7a9-ab95-46d9-ba12-fc0d8c8fb8f1",
   "metadata": {},
   "source": [
    "With respect to rounding error, this is zero. So it satisfies the budget constraint. We can now use it to retrive the roots:"
   ]
  },
  {
   "cell_type": "code",
   "execution_count": 23,
   "id": "84fdaf21-8e1e-4d3f-a2c1-a537db37419d",
   "metadata": {},
   "outputs": [
    {
     "data": {
      "text/plain": [
       "[-0.803359560426444, -0.5937188588580063, -2.0041037235425723]"
      ]
     },
     "execution_count": 23,
     "metadata": {},
     "output_type": "execute_result"
    }
   ],
   "source": [
    "[r_k(lambda_k, res.item(), delta) for lambda_k in eigvals]"
   ]
  },
  {
   "cell_type": "markdown",
   "id": "3df2c85c-71f6-4747-b338-0130014c12c9",
   "metadata": {},
   "source": [
    "### Note:\n",
    "\n",
    "One of those roots has absolute value greater than 1. This means it does not converge, which is a problem."
   ]
  },
  {
   "cell_type": "markdown",
   "id": "0fa1a28f-9aa7-4ebb-910d-bb21d97d3588",
   "metadata": {},
   "source": [
    "One of the next questions is whether $\\mu$ changes with $C$ the way we expect it to. We can check:"
   ]
  },
  {
   "cell_type": "code",
   "execution_count": 24,
   "id": "d310bcd2-bca5-4035-801d-8341803dbb5d",
   "metadata": {},
   "outputs": [
    {
     "data": {
      "image/png": "[encoded data removed]",
      "text/plain": [
       "<Figure size 432x288 with 1 Axes>"
      ]
     },
     "metadata": {
      "needs_background": "light"
     },
     "output_type": "display_data"
    }
   ],
   "source": [
    "results = []\n",
    "for C_ in np.linspace(0.000001, 100, 1000):\n",
    "    results.append(scipy.optimize.brentq(lambda mu: objective_function(mu, A, C_, x_0, delta, suppress_print = True), 0.00000001, 5000))\n",
    "    \n",
    "plt.scatter(np.linspace(0.000001, 100, 1000), results)\n",
    "plt.xlabel(\"$C$\")\n",
    "plt.ylabel(\"$\\mu$\")\n",
    "plt.show()"
   ]
  },
  {
   "cell_type": "code",
   "execution_count": 25,
   "id": "d0ebed28-8c46-45c7-b053-74516d331a66",
   "metadata": {},
   "outputs": [
    {
     "data": {
      "image/png": "[encoded data removed]",
      "text/plain": [
       "<Figure size 432x288 with 1 Axes>"
      ]
     },
     "metadata": {
      "needs_background": "light"
     },
     "output_type": "display_data"
    }
   ],
   "source": [
    "results = []\n",
    "for C_ in np.linspace(0.000001, 100, 1000):\n",
    "    results.append(scipy.optimize.fsolve(lambda mu: objective_function(mu, A, C_, x_0, delta, use_vec = True, suppress_print = True), 1))\n",
    "    \n",
    "plt.scatter(np.linspace(0.000001, 100, 1000), results)\n",
    "plt.xlabel(\"$C$\")\n",
    "plt.ylabel(\"$\\mu$\")\n",
    "plt.show()"
   ]
  }
 ],
 "metadata": {
  "kernelspec": {
   "display_name": "Python 3",
   "language": "python",
   "name": "python3"
  },
  "language_info": {
   "codemirror_mode": {
    "name": "ipython",
    "version": 3
   },
   "file_extension": ".py",
   "mimetype": "text/x-python",
   "name": "python",
   "nbconvert_exporter": "python",
   "pygments_lexer": "ipython3",
   "version": "3.8.8"
  },
  "widgets": {
   "application/vnd.jupyter.widget-state+json": {
    "state": {},
    "version_major": 2,
    "version_minor": 0
   }
  }
 },
 "nbformat": 4,
 "nbformat_minor": 5
}
