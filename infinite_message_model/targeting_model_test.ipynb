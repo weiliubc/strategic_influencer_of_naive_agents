{
 "cells": [
  {
   "cell_type": "markdown",
   "id": "4a1b1fd1-ee62-4114-ac38-a07fd0bac119",
   "metadata": {},
   "source": [
    "# Targeting model test\n",
    "\n",
    "James Yu, 29 June 2022"
   ]
  },
  {
   "cell_type": "code",
   "execution_count": 1,
   "id": "fc0f9c70-e1a1-4890-a987-8a64d6c225f3",
   "metadata": {},
   "outputs": [],
   "source": [
    "import numpy as np\n",
    "import scipy.optimize"
   ]
  },
  {
   "cell_type": "markdown",
   "id": "e6f64ee9-b45b-4361-b253-3bacbdcf0145",
   "metadata": {},
   "source": [
    "Take the following 2x2 matrix and opinions:"
   ]
  },
  {
   "cell_type": "code",
   "execution_count": 2,
   "id": "2695eb2f-be8c-4689-9336-99a1d02fed76",
   "metadata": {},
   "outputs": [],
   "source": [
    "A = np.array([\n",
    "    [0.6, 0.4],\n",
    "    [0.4, 0.6]\n",
    "])\n",
    "x_0 = np.array([[-5.0, 10.0]], ndmin = 2).T\n",
    "delta = 0.9\n",
    "I = np.identity(2)"
   ]
  },
  {
   "cell_type": "markdown",
   "id": "69e097cf-ad71-4485-93a8-4bebaa646a48",
   "metadata": {},
   "source": [
    "We'll need the eigendecomposition:"
   ]
  },
  {
   "cell_type": "code",
   "execution_count": 3,
   "id": "d2c43252-7931-4115-84f7-e7dba9ef01b8",
   "metadata": {},
   "outputs": [
    {
     "data": {
      "text/plain": [
       "True"
      ]
     },
     "execution_count": 3,
     "metadata": {},
     "output_type": "execute_result"
    }
   ],
   "source": [
    "eigvals, U = np.linalg.eig(A)\n",
    "D = np.diag(eigvals)\n",
    "np.allclose(U @ D @ U.T, A)"
   ]
  },
  {
   "cell_type": "markdown",
   "id": "7c32d908-586f-4e82-a2e5-0cffa67b544e",
   "metadata": {},
   "source": [
    "To compute $\\mu$, we need a $C$ that is less than the cutoff for where $\\mu = 0$ is optimal:"
   ]
  },
  {
   "cell_type": "code",
   "execution_count": 4,
   "id": "44556f25-dcc1-4473-ba55-356d6406939a",
   "metadata": {},
   "outputs": [
    {
     "data": {
      "text/plain": [
       "62.0"
      ]
     },
     "execution_count": 4,
     "metadata": {},
     "output_type": "execute_result"
    }
   ],
   "source": [
    "C = (x_0.T @ x_0).item() // 2 # ensure nonzero mu or else tilde_z = tilde_x_0 is optimal\n",
    "C"
   ]
  },
  {
   "cell_type": "markdown",
   "id": "b128c0b7-66e6-40dc-8e5c-aa1e7826f441",
   "metadata": {},
   "source": [
    "To find $\\mu$ given $C$, we take the budget constraint at equality and find the $\\mu$ which satisfies this constraint. This uses the constraint from the note:"
   ]
  },
  {
   "cell_type": "code",
   "execution_count": 5,
   "id": "a315cbf7-2b5b-4335-905d-a79a6fd59484",
   "metadata": {},
   "outputs": [],
   "source": [
    "def objective_function(mu, delta, D, x_0, U, C):\n",
    "    I = np.identity(2)\n",
    "    # np.linalg.inv is the matrix inverse function\n",
    "    tilde_z = -np.linalg.inv(np.linalg.inv(I - delta * D @ D) + mu * I) @ np.linalg.inv(I - delta * D @ D) @ U.T @ x_0\n",
    "    return C - (tilde_z.T @ tilde_z).item() # .item() converts from a 1x1 vector type to a 1x1 scalar type for compatibility"
   ]
  },
  {
   "cell_type": "markdown",
   "id": "dcc20b65-d3a7-4dd2-b59b-8584c026df19",
   "metadata": {},
   "source": [
    "So if we plug in e.g. $\\mu = 2$, the disparity between $C$ and the budget constraint is:"
   ]
  },
  {
   "cell_type": "code",
   "execution_count": 6,
   "id": "c78a38c9-0435-4ead-927a-26b1b8f78d2c",
   "metadata": {},
   "outputs": [
    {
     "data": {
      "text/plain": [
       "40.19713189405476"
      ]
     },
     "execution_count": 6,
     "metadata": {},
     "output_type": "execute_result"
    }
   ],
   "source": [
    "objective_function(2, delta, D, x_0, U, C)"
   ]
  },
  {
   "cell_type": "markdown",
   "id": "27fbd001-cb23-41cf-b675-ab350035598f",
   "metadata": {},
   "source": [
    "This variant of the function is the FOC with respect to $z$ only, replacing all \"tilde\" variables with their original counterparts as e.g. $U^\\prime z$ instead of $\\tilde z$:"
   ]
  },
  {
   "cell_type": "code",
   "execution_count": 7,
   "id": "6eb70ecd-f247-46e4-8769-bc816afd0bcd",
   "metadata": {},
   "outputs": [],
   "source": [
    "def objective_function_2(mu, delta, D, x_0, U, C):\n",
    "    I = np.identity(2)\n",
    "    z = -np.linalg.inv(U @ np.linalg.inv(I - delta * D @ D) @ U.T + mu * I) @ U @ np.linalg.inv(I - delta * D @ D) @ U.T @ x_0\n",
    "    return C - (z.T @ z).item()"
   ]
  },
  {
   "cell_type": "code",
   "execution_count": 8,
   "id": "b1ce750d-f402-4dc7-a5e0-06e0075340b7",
   "metadata": {},
   "outputs": [
    {
     "data": {
      "text/plain": [
       "40.19713189405478"
      ]
     },
     "execution_count": 8,
     "metadata": {},
     "output_type": "execute_result"
    }
   ],
   "source": [
    "objective_function_2(2, delta, D, x_0, U, C)"
   ]
  },
  {
   "cell_type": "markdown",
   "id": "2ee7fd7e-54a8-4b3f-a229-edd8456573f6",
   "metadata": {},
   "source": [
    "The disparity produced by $\\mu = 2$ is the exact same, since the original budget constraint is $\\tilde z^\\prime \\tilde z = C = (U^\\prime z)^\\prime U^\\prime z = z^\\prime U U^\\prime z = z^\\prime I z = z^\\prime z$. This means the $\\mu$ should be the exact same (ignoring rounding error) for each FOC:"
   ]
  },
  {
   "cell_type": "code",
   "execution_count": 9,
   "id": "eb6a3872-e200-40e3-b15c-90a8907b1330",
   "metadata": {},
   "outputs": [
    {
     "data": {
      "text/plain": [
       "0.5082007315904419"
      ]
     },
     "execution_count": 9,
     "metadata": {},
     "output_type": "execute_result"
    }
   ],
   "source": [
    "mu = scipy.optimize.newton(lambda mu: objective_function(mu, delta, D, x_0, U, C), 1e-100)\n",
    "mu"
   ]
  },
  {
   "cell_type": "code",
   "execution_count": 10,
   "id": "ce678861-c290-4ec5-923c-e93d2a6623ab",
   "metadata": {},
   "outputs": [
    {
     "data": {
      "text/plain": [
       "0.5082007315904422"
      ]
     },
     "execution_count": 10,
     "metadata": {},
     "output_type": "execute_result"
    }
   ],
   "source": [
    "mu_2 = scipy.optimize.newton(lambda mu: objective_function_2(mu, delta, D, x_0, U, C), 1e-100)\n",
    "mu_2"
   ]
  },
  {
   "cell_type": "code",
   "execution_count": 11,
   "id": "cd5b06d4-f5ee-48de-b7e1-c785a2076615",
   "metadata": {},
   "outputs": [
    {
     "data": {
      "text/plain": [
       "0.0"
      ]
     },
     "execution_count": 11,
     "metadata": {},
     "output_type": "execute_result"
    }
   ],
   "source": [
    "objective_function(mu, delta, D, x_0, U, C)"
   ]
  },
  {
   "cell_type": "code",
   "execution_count": 12,
   "id": "f4ea5f5b-7582-4dcc-bd07-edf50d46cf28",
   "metadata": {},
   "outputs": [
    {
     "data": {
      "text/plain": [
       "-7.105427357601002e-15"
      ]
     },
     "execution_count": 12,
     "metadata": {},
     "output_type": "execute_result"
    }
   ],
   "source": [
    "objective_function_2(mu_2, delta, D, x_0, U, C)"
   ]
  },
  {
   "cell_type": "markdown",
   "id": "90895533-17fa-4abf-8bc0-cd747fc7abbb",
   "metadata": {},
   "source": [
    "Now, if we take the $\\tilde z$ FOC and substitute the optimal $\\mu$, we get the following result for $\\tilde z$:"
   ]
  },
  {
   "cell_type": "code",
   "execution_count": 13,
   "id": "492f8392-8bc5-4887-943f-0ce072af2b90",
   "metadata": {},
   "outputs": [
    {
     "data": {
      "text/plain": [
       "array([[-3.36454736],\n",
       "       [-7.11897612]])"
      ]
     },
     "execution_count": 13,
     "metadata": {},
     "output_type": "execute_result"
    }
   ],
   "source": [
    "tilde_z = -np.linalg.inv(np.linalg.inv(I - delta * D @ D) + mu * I) @ np.linalg.inv(I - delta * D @ D) @ U.T @ x_0\n",
    "tilde_z"
   ]
  },
  {
   "cell_type": "markdown",
   "id": "ab96e52a-65c3-423a-9595-d24a7578abfb",
   "metadata": {},
   "source": [
    "If instead we substitute it into the $z$ FOC, we get a result for $z$ that is wrong because the element $z^2$ should be zero:"
   ]
  },
  {
   "cell_type": "code",
   "execution_count": 14,
   "id": "bb2ed8bf-a206-4398-a459-6926ba09573c",
   "metadata": {},
   "outputs": [
    {
     "data": {
      "text/plain": [
       "array([[ 2.65478204],\n",
       "       [-7.41297055]])"
      ]
     },
     "execution_count": 14,
     "metadata": {},
     "output_type": "execute_result"
    }
   ],
   "source": [
    "z = -np.linalg.inv(U @ np.linalg.inv(I - delta * D @ D) @ U.T + mu * I) @ U @ np.linalg.inv(I - delta * D @ D) @ U.T @ x_0\n",
    "z"
   ]
  },
  {
   "cell_type": "markdown",
   "id": "02f4d169-589e-4fdb-acc4-e530514384c1",
   "metadata": {},
   "source": [
    "But notice that when we compute $\\tilde z$ from this result, we get:"
   ]
  },
  {
   "cell_type": "code",
   "execution_count": 15,
   "id": "f8a7b8c6-7437-46f6-82c8-484619356f2d",
   "metadata": {},
   "outputs": [
    {
     "data": {
      "text/plain": [
       "array([[-3.36454736],\n",
       "       [-7.11897612]])"
      ]
     },
     "execution_count": 15,
     "metadata": {},
     "output_type": "execute_result"
    }
   ],
   "source": [
    "U.T @ z"
   ]
  },
  {
   "cell_type": "markdown",
   "id": "a445f714-58ad-4111-bed2-66ca8d4d702a",
   "metadata": {},
   "source": [
    "And likewise, if we take the computationally-generated $\\tilde z$ and attempt to back out $z$ from it using the fact that $\\tilde z = U^\\prime z$ implies $U \\tilde z = U U^\\prime z = I z = z$, we get:"
   ]
  },
  {
   "cell_type": "code",
   "execution_count": 16,
   "id": "d1265d3d-a166-4490-92dc-20a72f634db4",
   "metadata": {},
   "outputs": [
    {
     "data": {
      "text/plain": [
       "array([[ 2.65478204],\n",
       "       [-7.41297055]])"
      ]
     },
     "execution_count": 16,
     "metadata": {},
     "output_type": "execute_result"
    }
   ],
   "source": [
    "U @ tilde_z"
   ]
  },
  {
   "cell_type": "markdown",
   "id": "8de52228-dc38-4bd7-bcaf-b55697000656",
   "metadata": {},
   "source": [
    "which is the exact same $z$ as was computationally generated from the $z$ FOC, which is again incorrect since the second element is supposed to be zero."
   ]
  }
 ],
 "metadata": {
  "kernelspec": {
   "display_name": "Python 3",
   "language": "python",
   "name": "python3"
  },
  "language_info": {
   "codemirror_mode": {
    "name": "ipython",
    "version": 3
   },
   "file_extension": ".py",
   "mimetype": "text/x-python",
   "name": "python",
   "nbconvert_exporter": "python",
   "pygments_lexer": "ipython3",
   "version": "3.8.8"
  },
  "widgets": {
   "application/vnd.jupyter.widget-state+json": {
    "state": {},
    "version_major": 2,
    "version_minor": 0
   }
  }
 },
 "nbformat": 4,
 "nbformat_minor": 5
}
